{
 "cells": [
  {
   "cell_type": "markdown",
   "metadata": {
    "collapsed": true
   },
   "source": [
    "## 예제 18-1 :  io에 대한 최상위 추상 클래스 확인하기\n"
   ]
  },
  {
   "cell_type": "code",
   "execution_count": 7,
   "metadata": {},
   "outputs": [
    {
     "name": "stdout",
     "output_type": "stream",
     "text": [
      "<class 'io.IOBase'>\n",
      "(<class '_io._IOBase'>,)\n",
      "(<class 'object'>,)\n",
      "<class 'abc.ABCMeta'>\n",
      "(<class 'type'>,)\n"
     ]
    }
   ],
   "source": [
    "import io\n",
    "\n",
    "print(io.IOBase)\n",
    "print(io.IOBase.__bases__)\n",
    "print(io.IOBase.__bases__[0].__bases__)\n",
    "\n",
    "print(io.IOBase.__class__)\n",
    "print(io.IOBase.__class__.__bases__)"
   ]
  },
  {
   "cell_type": "code",
   "execution_count": 13,
   "metadata": {},
   "outputs": [
    {
     "name": "stdout",
     "output_type": "stream",
     "text": [
      "close\n",
      "closed\n",
      "fileno\n",
      "flush\n",
      "isatty\n",
      "readable\n",
      "readline\n",
      "readlines\n",
      "seek\n",
      "seekable\n",
      "tell\n",
      "truncate\n",
      "writable\n",
      "writelines\n"
     ]
    }
   ],
   "source": [
    "for i in dir(io.IOBase) :\n",
    "    if not i.startswith(\"_\") :\n",
    "        print(i)"
   ]
  },
  {
   "cell_type": "markdown",
   "metadata": {},
   "source": [
    "## 예제 18-2 :  io.RawIOBase 클래스 확인하기\n"
   ]
  },
  {
   "cell_type": "code",
   "execution_count": 9,
   "metadata": {},
   "outputs": [
    {
     "name": "stdout",
     "output_type": "stream",
     "text": [
      "<class 'io.RawIOBase'>\n",
      "<class 'abc.ABCMeta'>\n",
      "(<class '_io._RawIOBase'>, <class 'io.IOBase'>)\n",
      "True\n"
     ]
    }
   ],
   "source": [
    "import io\n",
    "\n",
    "print(io.RawIOBase)\n",
    "print(io.RawIOBase.__class__)\n",
    "print(io.RawIOBase.__bases__)\n",
    "print(issubclass(io.RawIOBase, io.IOBase))"
   ]
  },
  {
   "cell_type": "code",
   "execution_count": 12,
   "metadata": {},
   "outputs": [
    {
     "name": "stdout",
     "output_type": "stream",
     "text": [
      "{'read', 'write', 'readinto', 'readall'}\n"
     ]
    }
   ],
   "source": [
    "raw = set(dir(io.RawIOBase))\n",
    "base = set(dir(io.IOBase))\n",
    "\n",
    "print(raw - base)"
   ]
  },
  {
   "cell_type": "markdown",
   "metadata": {},
   "source": [
    "## 예제 18-3 :  io.BufferedIOBase 클래스 확인하기\n"
   ]
  },
  {
   "cell_type": "code",
   "execution_count": 16,
   "metadata": {},
   "outputs": [
    {
     "name": "stdout",
     "output_type": "stream",
     "text": [
      "<class 'io.BufferedIOBase'>\n",
      "<class 'abc.ABCMeta'>\n",
      "(<class '_io._BufferedIOBase'>, <class 'io.IOBase'>)\n",
      "True\n"
     ]
    }
   ],
   "source": [
    "import io\n",
    "\n",
    "print(io.BufferedIOBase)\n",
    "print(io.BufferedIOBase.__class__)\n",
    "print(io.BufferedIOBase.__bases__)\n",
    "print(issubclass(io.BufferedIOBase, io.IOBase))"
   ]
  },
  {
   "cell_type": "code",
   "execution_count": 15,
   "metadata": {},
   "outputs": [
    {
     "name": "stdout",
     "output_type": "stream",
     "text": [
      "{'write', 'read1', 'detach', 'readinto', 'read', 'readinto1'}\n"
     ]
    }
   ],
   "source": [
    "buffer = set(dir(io.BufferedIOBase))\n",
    "base = set(dir(io.IOBase))\n",
    "\n",
    "print(buffer - base)"
   ]
  },
  {
   "cell_type": "markdown",
   "metadata": {},
   "source": [
    "## 예제 18-4 :  io.TextIOBase 클래스 확인하기\n"
   ]
  },
  {
   "cell_type": "code",
   "execution_count": 19,
   "metadata": {},
   "outputs": [
    {
     "name": "stdout",
     "output_type": "stream",
     "text": [
      "<class 'io.TextIOBase'>\n",
      "<class 'abc.ABCMeta'>\n",
      "(<class '_io._TextIOBase'>, <class 'io.IOBase'>)\n",
      "True\n"
     ]
    }
   ],
   "source": [
    "import io\n",
    "\n",
    "print(io.TextIOBase)\n",
    "print(io.TextIOBase.__class__)\n",
    "print(io.TextIOBase.__bases__)\n",
    "print(issubclass(io.TextIOBase, io.IOBase))"
   ]
  },
  {
   "cell_type": "code",
   "execution_count": 18,
   "metadata": {},
   "outputs": [
    {
     "name": "stdout",
     "output_type": "stream",
     "text": [
      "{'write', 'newlines', 'encoding', 'detach', 'errors', 'read'}\n"
     ]
    }
   ],
   "source": [
    "text = set(dir(io.TextIOBase))\n",
    "base = set(dir(io.IOBase))\n",
    "\n",
    "print(text - base)"
   ]
  },
  {
   "cell_type": "markdown",
   "metadata": {},
   "source": [
    "## 예제 18-5 :  Raw I/O 파일 열기\n"
   ]
  },
  {
   "cell_type": "code",
   "execution_count": 7,
   "metadata": {},
   "outputs": [
    {
     "name": "stdout",
     "output_type": "stream",
     "text": [
      "<_io.FileIO name='내사진2' mode='rb' closefd=True>\n"
     ]
    },
    {
     "data": {
      "image/png": "[encoded data removed]",
      "text/plain": [
       "<matplotlib.figure.Figure at 0x1110307f0>"
      ]
     },
     "metadata": {},
     "output_type": "display_data"
    }
   ],
   "source": [
    "import matplotlib.pyplot as plt\n",
    "import matplotlib.image as mpimg\n",
    "\n",
    "img = open(\"내사진2\",\"rb\", buffering=0)\n",
    "print(img)\n",
    "\n",
    "plt.imshow(mpimg.imread(img))\n",
    "plt.show()"
   ]
  },
  {
   "cell_type": "code",
   "execution_count": 5,
   "metadata": {},
   "outputs": [
    {
     "name": "stdout",
     "output_type": "stream",
     "text": [
      "<class '_io.FileIO'>\n",
      "(<class '_io._RawIOBase'>,)\n"
     ]
    }
   ],
   "source": [
    "print(io.FileIO)\n",
    "print(io.FileIO.__bases__)"
   ]
  },
  {
   "cell_type": "code",
   "execution_count": 12,
   "metadata": {},
   "outputs": [
    {
     "name": "stdout",
     "output_type": "stream",
     "text": [
      "True\n",
      "True\n",
      "True\n",
      "False\n",
      "False\n"
     ]
    }
   ],
   "source": [
    "print(issubclass(io.FileIO,io.IOBase))\n",
    "print(issubclass(io.FileIO,io.RawIOBase))\n",
    "print(issubclass(io.FileIO,io.FileIO))\n",
    "print(issubclass(io.FileIO,io.BufferedIOBase))\n",
    "print(issubclass(io.FileIO,io.TextIOBase))"
   ]
  },
  {
   "cell_type": "markdown",
   "metadata": {
    "collapsed": true
   },
   "source": [
    "## 예제 18-6 :  바이트 파일 열기\n"
   ]
  },
  {
   "cell_type": "code",
   "execution_count": 7,
   "metadata": {},
   "outputs": [
    {
     "name": "stdout",
     "output_type": "stream",
     "text": [
      "Writing data.txt\n"
     ]
    }
   ],
   "source": [
    "%%writefile data.txt\n",
    "Binary I/O (also called buffered I/O) expects bytes-like objects \n",
    "and produces bytes objects. No encoding, \n",
    "decoding, or newline translation is performed. \n",
    "This category of streams can be used for all kinds of non-text data,\n",
    "and also when manual control over the handling of text data is desired."
   ]
  },
  {
   "cell_type": "code",
   "execution_count": 8,
   "metadata": {},
   "outputs": [
    {
     "name": "stdout",
     "output_type": "stream",
     "text": [
      "<_io.BufferedReader name='data.txt'>\n",
      "True\n",
      "True\n",
      "False\n",
      "False\n"
     ]
    }
   ],
   "source": [
    "import io\n",
    "\n",
    "data = open(\"data.txt\",\"rb\")\n",
    "print(data)\n",
    "\n",
    "print(issubclass(type(data),io.BufferedIOBase))\n",
    "print(issubclass(type(data),io.BufferedReader))\n",
    "print(issubclass(type(data),io.BufferedRWPair))\n",
    "print(issubclass(type(data),io.BufferedRandom))"
   ]
  },
  {
   "cell_type": "code",
   "execution_count": 9,
   "metadata": {},
   "outputs": [
    {
     "name": "stdout",
     "output_type": "stream",
     "text": [
      "b'Binary I/O (also called buffered I/O) expects bytes-like objects \\n'\n",
      "b'and produces bytes objects. No encoding, \\n'\n",
      "b'decoding, or newline translation is performed. \\n'\n",
      "b'This category of streams can be used for all kinds of non-text data,\\n'\n",
      "b'and also when manual control over the handling of text data is desired.'\n"
     ]
    }
   ],
   "source": [
    "for i in data :\n",
    "    print(i)\n",
    "    \n",
    "data.close()"
   ]
  },
  {
   "cell_type": "markdown",
   "metadata": {},
   "source": [
    "## 예제 18-7 :  텍스트 파일 열기"
   ]
  },
  {
   "cell_type": "code",
   "execution_count": 10,
   "metadata": {
    "collapsed": true
   },
   "outputs": [],
   "source": [
    "%rm data_t.txt"
   ]
  },
  {
   "cell_type": "code",
   "execution_count": 11,
   "metadata": {},
   "outputs": [
    {
     "name": "stdout",
     "output_type": "stream",
     "text": [
      "Writing data_t.txt\n"
     ]
    }
   ],
   "source": [
    "%%writefile data_t.txt\n",
    "로그를 생성하는 방법 중에 가장 간단한 것을 print()을 이용해서 현재의 상태를 화면에 출력하는 방식이다.\n",
    "알고 싶은 값을 print()을 사용해서 출력하면 그 뿐이다. \n",
    "너무나 간단해서 로그라는 것을 모르면서도 쓰고 있다. "
   ]
  },
  {
   "cell_type": "code",
   "execution_count": 12,
   "metadata": {},
   "outputs": [
    {
     "name": "stdout",
     "output_type": "stream",
     "text": [
      "<_io.TextIOWrapper name='data_t.txt' mode='rt' encoding='UTF-8'>\n",
      "True\n",
      "False\n",
      "True\n",
      "True\n"
     ]
    }
   ],
   "source": [
    "import io\n",
    "\n",
    "data = open(\"data_t.txt\",\"rt\")\n",
    "print(data)\n",
    "\n",
    "print(issubclass(type(data),io.IOBase))\n",
    "print(issubclass(type(data),io.FileIO))\n",
    "print(issubclass(type(data),io.TextIOBase))\n",
    "print(issubclass(type(data),io.TextIOWrapper))\n",
    "data.close()"
   ]
  },
  {
   "cell_type": "code",
   "execution_count": 14,
   "metadata": {},
   "outputs": [
    {
     "name": "stdout",
     "output_type": "stream",
     "text": [
      "<_io.TextIOWrapper name='data_t.txt' mode='rt' encoding='UTF-8'>\n",
      "로그를 생성하는 방법 중에 가장 간단한 것을 print()을 이용해서 현재의 상태를 화면에 출력하는 방식이다.\n",
      "알고 싶은 값을 print()을 사용해서 출력하면 그 뿐이다. \n",
      "너무나 간단해서 로그라는 것을 모르면서도 쓰고 있다. "
     ]
    }
   ],
   "source": [
    "data = open(\"data_t.txt\",\"rt\")\n",
    "print(data)\n",
    "for i in data :\n",
    "    print(str(i), end=\"\")\n",
    "    \n",
    "data.close()"
   ]
  },
  {
   "cell_type": "markdown",
   "metadata": {},
   "source": [
    "## 예제 18-8 :   BufferedReader 클래스  확인하기\n"
   ]
  },
  {
   "cell_type": "code",
   "execution_count": 54,
   "metadata": {},
   "outputs": [
    {
     "name": "stdout",
     "output_type": "stream",
     "text": [
      "close closed detach fileno \n",
      "flush isatty read read1 readable \n",
      "readinto readinto1 readline readlines seek \n",
      "seekable tell truncate writable write \n",
      "writelines "
     ]
    }
   ],
   "source": [
    "import io\n",
    "\n",
    "count = 0\n",
    "for i in dir(io.BufferedIOBase) :\n",
    "    if not i.startswith(\"_\") :\n",
    "        count += 1\n",
    "        \n",
    "        _ if (count % 5 != 0) else  print()\n",
    "        print(i, end=\" \") "
   ]
  },
  {
   "cell_type": "code",
   "execution_count": 24,
   "metadata": {},
   "outputs": [
    {
     "name": "stdout",
     "output_type": "stream",
     "text": [
      "(<class '_io._BufferedIOBase'>, <class 'io.IOBase'>)\n",
      "(<class '_io._BufferedIOBase'>,)\n",
      "{'peek', 'raw', 'mode', 'name', '_finalizing', '_dealloc_warn', '__getstate__'}\n"
     ]
    }
   ],
   "source": [
    "import io\n",
    "\n",
    "print(io.BufferedIOBase.__bases__)\n",
    "print(io.BufferedReader.__bases__)\n",
    "\n",
    "bb = set(dir(io.BufferedIOBase))\n",
    "br = set(dir(io.BufferedReader))\n",
    "\n",
    "print(br - bb)"
   ]
  },
  {
   "cell_type": "code",
   "execution_count": 25,
   "metadata": {},
   "outputs": [
    {
     "name": "stdout",
     "output_type": "stream",
     "text": [
      "Writing br_data.txt\n"
     ]
    }
   ],
   "source": [
    "%%writefile br_data.txt\n",
    "(<class '_io._BufferedIOBase'>, <class 'io.IOBase'>)\n",
    "(<class '_io._BufferedIOBase'>,)\n",
    "{'peek', 'raw', 'mode', 'name', '_finalizing', '_dealloc_warn', '__getstate__'}"
   ]
  },
  {
   "cell_type": "code",
   "execution_count": 28,
   "metadata": {},
   "outputs": [
    {
     "name": "stdout",
     "output_type": "stream",
     "text": [
      "True\n",
      "True\n",
      "b\"(<class '_io._BufferedIOBase'>, <class 'io.IOBase'>)\\r\\n\"\n",
      "b\"(<class '_io._BufferedIOBase'>,)\\r\\n\"\n",
      "b\"{'peek', 'raw', 'mode', 'name', '_finalizing', '_dealloc_warn', '__getstate__'}\"\n"
     ]
    }
   ],
   "source": [
    "import io\n",
    "import collections.abc as cols\n",
    "\n",
    "br = open(\"br_data.txt\",\"rb\")\n",
    "\n",
    "print(issubclass(type(br), cols.Iterable))\n",
    "print(issubclass(type(br), cols.Iterator))\n",
    "\n",
    "for i in br :\n",
    "    print(i)\n"
   ]
  },
  {
   "cell_type": "code",
   "execution_count": 29,
   "metadata": {},
   "outputs": [
    {
     "name": "stdout",
     "output_type": "stream",
     "text": [
      "b\"(<class '_io._BufferedIOBase'>, <class 'io.IOBase'>)\\r\\n\"\n",
      "b\"(<class '_io._BufferedIOBase'>,)\\r\\n\"\n",
      "b\"{'peek', 'raw', 'mode', 'name', '_finalizing', '_dealloc_warn', '__getstate__'}\"\n"
     ]
    },
    {
     "ename": "StopIteration",
     "evalue": "",
     "output_type": "error",
     "traceback": [
      "\u001b[0;31m---------------------------------------------------------------------------\u001b[0m",
      "\u001b[0;31mStopIteration\u001b[0m                             Traceback (most recent call last)",
      "\u001b[0;32m<ipython-input-29-3e6e3bdfb65a>\u001b[0m in \u001b[0;36m<module>\u001b[0;34m()\u001b[0m\n\u001b[1;32m      3\u001b[0m \u001b[0mprint\u001b[0m\u001b[1;33m(\u001b[0m\u001b[0mnext\u001b[0m\u001b[1;33m(\u001b[0m\u001b[0mbr\u001b[0m\u001b[1;33m)\u001b[0m\u001b[1;33m)\u001b[0m\u001b[1;33m\u001b[0m\u001b[0m\n\u001b[1;32m      4\u001b[0m \u001b[0mprint\u001b[0m\u001b[1;33m(\u001b[0m\u001b[0mnext\u001b[0m\u001b[1;33m(\u001b[0m\u001b[0mbr\u001b[0m\u001b[1;33m)\u001b[0m\u001b[1;33m)\u001b[0m\u001b[1;33m\u001b[0m\u001b[0m\n\u001b[0;32m----> 5\u001b[0;31m \u001b[0mprint\u001b[0m\u001b[1;33m(\u001b[0m\u001b[0mnext\u001b[0m\u001b[1;33m(\u001b[0m\u001b[0mbr\u001b[0m\u001b[1;33m)\u001b[0m\u001b[1;33m)\u001b[0m\u001b[1;33m\u001b[0m\u001b[0m\n\u001b[0m\u001b[1;32m      6\u001b[0m \u001b[0mbr\u001b[0m\u001b[1;33m.\u001b[0m\u001b[0mclose\u001b[0m\u001b[1;33m(\u001b[0m\u001b[1;33m)\u001b[0m\u001b[1;33m\u001b[0m\u001b[0m\n",
      "\u001b[0;31mStopIteration\u001b[0m: "
     ]
    }
   ],
   "source": [
    "br.seek(0)\n",
    "print(next(br))\n",
    "print(next(br))\n",
    "print(next(br))\n",
    "print(next(br))\n",
    "br.close()"
   ]
  },
  {
   "cell_type": "code",
   "execution_count": 17,
   "metadata": {},
   "outputs": [
    {
     "name": "stdout",
     "output_type": "stream",
     "text": [
      "b\"(<class '_io._BufferedIOBase'>, <class 'io.IOBase'>)\\n\"\n",
      "b\"(<class '_io._BufferedIOBase'>,)\\n\"\n",
      "b\"{'peek', 'raw', 'mode', 'name', '_finalizing', '_dealloc_warn', '__getstate__'}\"\n"
     ]
    },
    {
     "ename": "ValueError",
     "evalue": "readline of closed file",
     "output_type": "error",
     "traceback": [
      "\u001b[0;31m---------------------------------------------------------------------------\u001b[0m",
      "\u001b[0;31mValueError\u001b[0m                                Traceback (most recent call last)",
      "\u001b[0;32m<ipython-input-17-339629b029ce>\u001b[0m in \u001b[0;36m<module>\u001b[0;34m()\u001b[0m\n\u001b[1;32m      5\u001b[0m \u001b[0mprint\u001b[0m\u001b[0;34m(\u001b[0m\u001b[0mnext\u001b[0m\u001b[0;34m(\u001b[0m\u001b[0mbr2\u001b[0m\u001b[0;34m)\u001b[0m\u001b[0;34m)\u001b[0m\u001b[0;34m\u001b[0m\u001b[0m\n\u001b[1;32m      6\u001b[0m \u001b[0mbr2\u001b[0m\u001b[0;34m.\u001b[0m\u001b[0mclose\u001b[0m\u001b[0;34m(\u001b[0m\u001b[0;34m)\u001b[0m\u001b[0;34m\u001b[0m\u001b[0m\n\u001b[0;32m----> 7\u001b[0;31m \u001b[0mprint\u001b[0m\u001b[0;34m(\u001b[0m\u001b[0mnext\u001b[0m\u001b[0;34m(\u001b[0m\u001b[0mbr2\u001b[0m\u001b[0;34m)\u001b[0m\u001b[0;34m)\u001b[0m\u001b[0;34m\u001b[0m\u001b[0m\n\u001b[0m",
      "\u001b[0;31mValueError\u001b[0m: readline of closed file"
     ]
    }
   ],
   "source": [
    "br2 = open(\"br_data.txt\",\"rb\")\n",
    "\n",
    "print(next(br2))\n",
    "print(next(br2))\n",
    "print(next(br2))\n",
    "br2.close()\n",
    "print(next(br2))"
   ]
  },
  {
   "cell_type": "markdown",
   "metadata": {},
   "source": [
    "## 예제 18-9  :   BufferedWriter 클래스 확인하기\n"
   ]
  },
  {
   "cell_type": "code",
   "execution_count": 32,
   "metadata": {},
   "outputs": [
    {
     "name": "stdout",
     "output_type": "stream",
     "text": [
      "(<class '_io._BufferedIOBase'>, <class 'io.IOBase'>)\n",
      "(<class '_io._BufferedIOBase'>,)\n",
      "{'raw', 'mode', 'name', '_finalizing', '_dealloc_warn', '__getstate__'}\n"
     ]
    }
   ],
   "source": [
    "import io\n",
    "\n",
    "print(io.BufferedIOBase.__bases__)\n",
    "print(io.BufferedWriter.__bases__)\n",
    "\n",
    "bb = set(dir(io.BufferedIOBase))\n",
    "bw = set(dir(io.BufferedWriter))\n",
    "\n",
    "print(bw - bb)"
   ]
  },
  {
   "cell_type": "code",
   "execution_count": 36,
   "metadata": {},
   "outputs": [
    {
     "name": "stdout",
     "output_type": "stream",
     "text": [
      "<_io.BufferedWriter name='data_bw.txt'>\n",
      "True\n"
     ]
    }
   ],
   "source": [
    "f = open(\"data_bw.txt\", \"wb\")\n",
    "print(f)\n",
    "print(issubclass(type(f),io.BufferedIOBase))\n",
    "\n",
    "f.write(b\"when the buffer gets too small for all pending data;\\n\")\n",
    "f.write(b\"when flush() is called;\\n\")\n",
    "f.write(b\"when a seek() is requested (for BufferedRandom objects);\\n\")\n",
    "f.write(b\"when the BufferedWriter object is closed or destroyed.\\n\")\n",
    "f.close()"
   ]
  },
  {
   "cell_type": "code",
   "execution_count": 37,
   "metadata": {},
   "outputs": [
    {
     "name": "stdout",
     "output_type": "stream",
     "text": [
      "b'when the buffer gets too small for all pending data;\\n'\n",
      "b'when flush() is called;\\n'\n",
      "b'when a seek() is requested (for BufferedRandom objects);\\n'\n",
      "b'when the BufferedWriter object is closed or destroyed.\\n'\n"
     ]
    }
   ],
   "source": [
    "with open(\"data_bw.txt\", \"rb\") as f :\n",
    "    for i in f :\n",
    "        print(i)"
   ]
  },
  {
   "cell_type": "markdown",
   "metadata": {},
   "source": [
    "## 예제 18-10  : BufferedRWPair 클래스\n"
   ]
  },
  {
   "cell_type": "code",
   "execution_count": 38,
   "metadata": {},
   "outputs": [
    {
     "name": "stdout",
     "output_type": "stream",
     "text": [
      "(<class '_io._BufferedIOBase'>, <class 'io.IOBase'>)\n",
      "(<class '_io._BufferedIOBase'>,)\n",
      "{'peek', '__getstate__'}\n"
     ]
    }
   ],
   "source": [
    "import io\n",
    "\n",
    "print(io.BufferedIOBase.__bases__)\n",
    "print(io.BufferedRWPair.__bases__)\n",
    "\n",
    "bb = set(dir(io.BufferedIOBase))\n",
    "brw = set(dir(io.BufferedRWPair))\n",
    "\n",
    "print(brw - bb)"
   ]
  },
  {
   "cell_type": "code",
   "execution_count": 49,
   "metadata": {},
   "outputs": [
    {
     "name": "stdout",
     "output_type": "stream",
     "text": [
      "<_io.BufferedRWPair object at 0x0000000005BD2EA0>\n",
      "b'when the buffer gets too small for all pending data;\\n'\n",
      "b'when flush() is called;\\n'\n",
      "b'when a seek() is requested (for BufferedRandom objects);\\n'\n",
      "b'when the BufferedWriter object is closed or destroyed.\\n'\n"
     ]
    }
   ],
   "source": [
    "f = open(\"data_bw.txt\", \"rb\")\n",
    "w = open(\"data_rw.txt\", \"wb\")\n",
    "\n",
    "wrapper = io.BufferedRWPair(f, w)\n",
    "print(wrapper)\n",
    "\n",
    "for i in wrapper :\n",
    "    print(i) \n",
    "    wrapper.write(b\"rw : \" + bytes(i))\n",
    "wrapper.close()"
   ]
  },
  {
   "cell_type": "code",
   "execution_count": 50,
   "metadata": {},
   "outputs": [
    {
     "name": "stdout",
     "output_type": "stream",
     "text": [
      "b'rw : when the buffer gets too small for all pending data;\\n'\n",
      "b'rw : when flush() is called;\\n'\n",
      "b'rw : when a seek() is requested (for BufferedRandom objects);\\n'\n",
      "b'rw : when the BufferedWriter object is closed or destroyed.\\n'\n"
     ]
    }
   ],
   "source": [
    "with open(\"data_rw.txt\", \"rb\") as f :\n",
    "    for i in f :\n",
    "        print(i)"
   ]
  },
  {
   "cell_type": "code",
   "execution_count": 78,
   "metadata": {},
   "outputs": [
    {
     "name": "stdout",
     "output_type": "stream",
     "text": [
      "b'\\xea\\xb0\\x80\\xeb\\x82\\x98\\xeb\\x8b\\xa4\\xeb\\x9d\\xbc\\xeb\\xa7\\x88\\xeb\\xb0\\x94'\n",
      "가나다라마바\n"
     ]
    }
   ],
   "source": [
    "import io\n",
    "\n",
    "s = \"가나다라마바\" \n",
    "reader = io.BufferedReader(io.BytesIO(s.encode()))\n",
    "\n",
    "writer = open(\"data_rw1.txt\", \"wb\")\n",
    "\n",
    "wrapper = io.BufferedRWPair(reader,writer)\n",
    "\n",
    "line = wrapper.read()\n",
    "wrapper.write(line)\n",
    "\n",
    "print(line)\n",
    "print(line.decode())\n",
    "\n",
    "wrapper.flush()\n",
    "wrapper.close()"
   ]
  },
  {
   "cell_type": "code",
   "execution_count": 79,
   "metadata": {},
   "outputs": [
    {
     "name": "stdout",
     "output_type": "stream",
     "text": [
      "b'\\xea\\xb0\\x80\\xeb\\x82\\x98\\xeb\\x8b\\xa4\\xeb\\x9d\\xbc\\xeb\\xa7\\x88\\xeb\\xb0\\x94'\n"
     ]
    }
   ],
   "source": [
    "with open(\"data_rw1.txt\", \"rb\") as f :\n",
    "    for i in f :\n",
    "        print(i)"
   ]
  },
  {
   "cell_type": "code",
   "execution_count": 18,
   "metadata": {},
   "outputs": [
    {
     "name": "stdout",
     "output_type": "stream",
     "text": [
      "가나다라마바\n"
     ]
    }
   ],
   "source": [
    "with open(\"data_rw1.txt\", \"rb\") as f :\n",
    "    for i in f :\n",
    "        print(i.decode())"
   ]
  },
  {
   "cell_type": "markdown",
   "metadata": {},
   "source": [
    "## 예제 18-11 :  BytesIO 클래스 처리\n"
   ]
  },
  {
   "cell_type": "code",
   "execution_count": 84,
   "metadata": {},
   "outputs": [
    {
     "name": "stdout",
     "output_type": "stream",
     "text": [
      "True\n",
      "True\n",
      "False\n",
      "False\n",
      "False\n"
     ]
    }
   ],
   "source": [
    "import io\n",
    "\n",
    "print(issubclass(io.BytesIO, io.IOBase))\n",
    "print(issubclass(io.BytesIO, io.BufferedIOBase))\n",
    "print(issubclass(io.BytesIO, io.BufferedReader))\n",
    "print(issubclass(io.BytesIO, io.BufferedWriter))\n",
    "print(issubclass(io.BytesIO, io.BufferedRWPair))"
   ]
  },
  {
   "cell_type": "code",
   "execution_count": 1,
   "metadata": {},
   "outputs": [
    {
     "name": "stdout",
     "output_type": "stream",
     "text": [
      "<_io.BufferedReader name='data.txt'>\n",
      "<_io.BytesIO object at 0x106d23620>\n"
     ]
    }
   ],
   "source": [
    "import io\n",
    "\n",
    "f = open(\"data.txt\",\"rb\") \n",
    "\n",
    "b = io.BytesIO(b\"BytesIO processing \")\n",
    "\n",
    "print(f)\n",
    "print(b)\n"
   ]
  },
  {
   "cell_type": "code",
   "execution_count": 3,
   "metadata": {},
   "outputs": [
    {
     "name": "stdout",
     "output_type": "stream",
     "text": [
      "True\n",
      "True\n",
      "False\n",
      "True\n"
     ]
    }
   ],
   "source": [
    "print(isinstance(f, io.BufferedIOBase))\n",
    "print(isinstance(b, io.BufferedIOBase))\n",
    "print(isinstance(b, io.BufferedReader))\n",
    "print(isinstance(f, io.BufferedReader))"
   ]
  },
  {
   "cell_type": "code",
   "execution_count": 14,
   "metadata": {},
   "outputs": [
    {
     "name": "stdout",
     "output_type": "stream",
     "text": [
      "close\n",
      "closed\n",
      "detach\n",
      "fileno\n",
      "flush\n",
      "getbuffer\n",
      "getvalue\n",
      "isatty\n",
      "read\n",
      "read1\n",
      "readable\n",
      "readinto\n",
      "readinto1\n",
      "readline\n",
      "readlines\n",
      "seek\n",
      "seekable\n",
      "tell\n",
      "truncate\n",
      "writable\n",
      "write\n",
      "writelines\n"
     ]
    }
   ],
   "source": [
    "import io\n",
    "\n",
    "for i in dir(io.BytesIO) :\n",
    "    if not i.startswith(\"_\") :\n",
    "        print(i)"
   ]
  },
  {
   "cell_type": "code",
   "execution_count": 39,
   "metadata": {},
   "outputs": [
    {
     "name": "stdout",
     "output_type": "stream",
     "text": [
      "b'last checkpoint 2 hour age '\n",
      "True\n"
     ]
    }
   ],
   "source": [
    "import io\n",
    "\n",
    "b = io.BytesIO(b\"last checkpoint 2 hour age \")\n",
    "\n",
    "c = b.getbuffer()\n",
    "print(b.getvalue())\n",
    "\n",
    "print(isinstance(c, memoryview))\n"
   ]
  },
  {
   "cell_type": "markdown",
   "metadata": {},
   "source": [
    "## 예제 18-12 : BytesIO 인스턴스 사용하기  \n"
   ]
  },
  {
   "cell_type": "code",
   "execution_count": 1,
   "metadata": {},
   "outputs": [
    {
     "name": "stdout",
     "output_type": "stream",
     "text": [
      "True\n"
     ]
    }
   ],
   "source": [
    "import io\n",
    "\n",
    "b = io.BytesIO()\n",
    "\n",
    "print(b.writable())\n"
   ]
  },
  {
   "cell_type": "code",
   "execution_count": 2,
   "metadata": {},
   "outputs": [
    {
     "name": "stdout",
     "output_type": "stream",
     "text": [
      "b' unsaved changes\\n'\n",
      "b' unsaved changes\\nModules\\n, that is libraries intended to be used by other programs\\n '\n"
     ]
    }
   ],
   "source": [
    "b.write(b\" unsaved changes\\n\")\n",
    "print(b.getvalue())\n",
    "\n",
    "b.write(b\"Modules\\n, that is libraries intended to be used by other programs\\n \")\n",
    "print(b.getvalue())\n"
   ]
  },
  {
   "cell_type": "code",
   "execution_count": 7,
   "metadata": {},
   "outputs": [
    {
     "name": "stdout",
     "output_type": "stream",
     "text": [
      "0\n",
      "b' unsaved changes\\n'\n",
      "b'Modules\\n'\n",
      "b', that is libraries intended to be used by other programs\\n'\n",
      "b' '\n"
     ]
    }
   ],
   "source": [
    "print(b.seek(0))\n",
    "for i in b :\n",
    "    print(i)"
   ]
  },
  {
   "cell_type": "code",
   "execution_count": 8,
   "metadata": {},
   "outputs": [
    {
     "name": "stdout",
     "output_type": "stream",
     "text": [
      "84\n",
      "0\n",
      "b' unsaved changes\\n'\n"
     ]
    }
   ],
   "source": [
    "print(b.tell())\n",
    "\n",
    "print(b.seek(0))\n",
    "print(b.readline())\n",
    "b.close()"
   ]
  },
  {
   "cell_type": "markdown",
   "metadata": {},
   "source": [
    "## 예제 18-13 : BytesIO 인스턴스를 실제 파일처럼 사용하기  "
   ]
  },
  {
   "cell_type": "code",
   "execution_count": 12,
   "metadata": {},
   "outputs": [
    {
     "name": "stdout",
     "output_type": "stream",
     "text": [
      "<_io.TextIOWrapper encoding='utf-8'>\n"
     ]
    }
   ],
   "source": [
    "import io\n",
    "\n",
    "output = io.BytesIO()\n",
    "\n",
    "wrapper = io.TextIOWrapper(output,\n",
    "                          encoding=\"utf-8\",\n",
    "                          write_through = True)\n",
    "\n",
    "print(wrapper)"
   ]
  },
  {
   "cell_type": "code",
   "execution_count": 13,
   "metadata": {},
   "outputs": [
    {
     "name": "stdout",
     "output_type": "stream",
     "text": [
      "29\n",
      "46\n"
     ]
    }
   ],
   "source": [
    "a = wrapper.write(\"Truncate file to size bytes.\\n\")\n",
    "print(a)\n",
    "b = wrapper.write(\"Return whether object supports random access.\\n\")\n",
    "print(b)"
   ]
  },
  {
   "cell_type": "code",
   "execution_count": 14,
   "metadata": {},
   "outputs": [
    {
     "name": "stdout",
     "output_type": "stream",
     "text": [
      "b'Truncate file to size bytes.\\nReturn whether object supports random access.\\n'\n"
     ]
    }
   ],
   "source": [
    "print(output.getvalue())"
   ]
  },
  {
   "cell_type": "code",
   "execution_count": 10,
   "metadata": {},
   "outputs": [
    {
     "name": "stdout",
     "output_type": "stream",
     "text": [
      "b'Truncate file to size bytes.\\nReturn whether object supports random access.\\n'\n",
      "0\n",
      "['Truncate file to size bytes.\\n', 'Return whether object supports random access.\\n']\n",
      "True\n"
     ]
    }
   ],
   "source": [
    "print(wrapper.seek(0))\n",
    "print(wrapper.readlines())\n",
    "wrapper.close()\n",
    "\n",
    "print(wrapper.closed)"
   ]
  },
  {
   "cell_type": "code",
   "execution_count": 19,
   "metadata": {},
   "outputs": [],
   "source": [
    "import io\n",
    "\n",
    "input = io.BytesIO(b\"\"\"On output, if newline is None, any '\\n' characters written are \n",
    "         translated to the system default line separator, os.linesep.\"\"\")\n"
   ]
  },
  {
   "cell_type": "code",
   "execution_count": 20,
   "metadata": {},
   "outputs": [
    {
     "name": "stdout",
     "output_type": "stream",
     "text": [
      "<_io.TextIOWrapper encoding='utf-8'>\n",
      "On output, if newline is None, any '\n",
      "' characters written are \n",
      "         translated to the system default line separator, os.linesep.\n",
      "True\n"
     ]
    }
   ],
   "source": [
    "wrapper = io.TextIOWrapper(input,\n",
    "                          encoding=\"utf-8\")\n",
    "\n",
    "print(wrapper)\n",
    "print(wrapper.read())\n",
    "wrapper.close()\n",
    "print(wrapper.closed)"
   ]
  },
  {
   "cell_type": "markdown",
   "metadata": {
    "collapsed": true
   },
   "source": [
    "## 예제 18-14 : 텍스트 파일 처리"
   ]
  },
  {
   "cell_type": "code",
   "execution_count": 21,
   "metadata": {},
   "outputs": [
    {
     "name": "stdout",
     "output_type": "stream",
     "text": [
      "<class 'io.TextIOBase'>\n",
      "(<class '_io._TextIOBase'>, <class 'io.IOBase'>)\n",
      "(<class '_io._TextIOBase'>,)\n"
     ]
    }
   ],
   "source": [
    "import io \n",
    "\n",
    "print(io.TextIOBase)\n",
    "print(io.TextIOBase.__bases__)\n",
    "\n",
    "print(io.TextIOWrapper.__bases__)"
   ]
  },
  {
   "cell_type": "code",
   "execution_count": 23,
   "metadata": {},
   "outputs": [
    {
     "name": "stdout",
     "output_type": "stream",
     "text": [
      "Writing text_data.txt\n"
     ]
    }
   ],
   "source": [
    "%%writefile text_data.txt \n",
    "파일을 처리해 보기\n",
    "유니코드 문자열 텍스트를 처리한다."
   ]
  },
  {
   "cell_type": "code",
   "execution_count": 24,
   "metadata": {},
   "outputs": [
    {
     "name": "stdout",
     "output_type": "stream",
     "text": [
      "<_io.TextIOWrapper name='text_data.txt' mode='rt' encoding='utf-8'>\n"
     ]
    }
   ],
   "source": [
    "f = open(\"text_data.txt\",'rt',encoding=\"utf-8\")\n",
    "\n",
    "print(f)"
   ]
  },
  {
   "cell_type": "code",
   "execution_count": 25,
   "metadata": {},
   "outputs": [
    {
     "name": "stdout",
     "output_type": "stream",
     "text": [
      "<_io.BufferedReader name='text_data.txt'>\n"
     ]
    }
   ],
   "source": [
    "b = open(\"text_data.txt\",'rb')\n",
    "\n",
    "print(b)"
   ]
  },
  {
   "cell_type": "code",
   "execution_count": 26,
   "metadata": {},
   "outputs": [
    {
     "name": "stdout",
     "output_type": "stream",
     "text": [
      "<_io.TextIOWrapper name='text_data.txt' mode='rt' encoding='utf-8'>\n",
      "True\n",
      "True\n",
      "파일을 처리해 보기\n",
      "유니코드 문자열 텍스트를 처리한다."
     ]
    }
   ],
   "source": [
    "import io\n",
    "\n",
    "f = open(\"text_data.txt\",'rt',encoding=\"utf-8\")\n",
    "\n",
    "print(f)\n",
    "print(issubclass(type(f), io.TextIOBase))\n",
    "print(issubclass(type(f), io.TextIOWrapper))\n",
    "\n",
    "for i in f :\n",
    "    print(i, end=\"\")\n",
    "    \n",
    "f.close()"
   ]
  },
  {
   "cell_type": "code",
   "execution_count": 19,
   "metadata": {},
   "outputs": [
    {
     "name": "stdout",
     "output_type": "stream",
     "text": [
      "True\n",
      "True\n",
      "파일을 처리해 보기\n",
      " 유니코드 문자열 텍스트를 처리한다. "
     ]
    },
    {
     "ename": "StopIteration",
     "evalue": "",
     "output_type": "error",
     "traceback": [
      "\u001b[0;31m---------------------------------------------------------------------------\u001b[0m",
      "\u001b[0;31mStopIteration\u001b[0m                             Traceback (most recent call last)",
      "\u001b[0;32m<ipython-input-19-025316a5dc38>\u001b[0m in \u001b[0;36m<module>\u001b[0;34m()\u001b[0m\n\u001b[1;32m      8\u001b[0m \u001b[0mprint\u001b[0m\u001b[1;33m(\u001b[0m\u001b[0mnext\u001b[0m\u001b[1;33m(\u001b[0m\u001b[0mf\u001b[0m\u001b[1;33m)\u001b[0m\u001b[1;33m,\u001b[0m \u001b[0mend\u001b[0m\u001b[1;33m=\u001b[0m\u001b[1;34m\" \"\u001b[0m\u001b[1;33m)\u001b[0m\u001b[1;33m\u001b[0m\u001b[0m\n\u001b[1;32m      9\u001b[0m \u001b[0mprint\u001b[0m\u001b[1;33m(\u001b[0m\u001b[0mnext\u001b[0m\u001b[1;33m(\u001b[0m\u001b[0mf\u001b[0m\u001b[1;33m)\u001b[0m\u001b[1;33m,\u001b[0m \u001b[0mend\u001b[0m\u001b[1;33m=\u001b[0m\u001b[1;34m\" \"\u001b[0m\u001b[1;33m)\u001b[0m\u001b[1;33m\u001b[0m\u001b[0m\n\u001b[0;32m---> 10\u001b[0;31m \u001b[0mprint\u001b[0m\u001b[1;33m(\u001b[0m\u001b[0mnext\u001b[0m\u001b[1;33m(\u001b[0m\u001b[0mf\u001b[0m\u001b[1;33m)\u001b[0m\u001b[1;33m,\u001b[0m \u001b[0mend\u001b[0m\u001b[1;33m=\u001b[0m\u001b[1;34m\" \"\u001b[0m\u001b[1;33m)\u001b[0m\u001b[1;33m\u001b[0m\u001b[0m\n\u001b[0m",
      "\u001b[0;31mStopIteration\u001b[0m: "
     ]
    }
   ],
   "source": [
    "import collections.abc as cols\n",
    "\n",
    "f = open(\"text_data.txt\",'rt',encoding=\"utf-8\")\n",
    "\n",
    "print(issubclass(type(f), cols.Iterable))\n",
    "print(issubclass(type(f), cols.Iterator))\n",
    "\n",
    "print(next(f), end=\" \")\n",
    "print(next(f), end=\" \")\n",
    "print(next(f), end=\" \")"
   ]
  },
  {
   "cell_type": "markdown",
   "metadata": {},
   "source": [
    "## 예제 18-15 : 텍스트 임시 파일 처리 \n"
   ]
  },
  {
   "cell_type": "code",
   "execution_count": 27,
   "metadata": {},
   "outputs": [
    {
     "name": "stdout",
     "output_type": "stream",
     "text": [
      "(<class '_io._TextIOBase'>,)\n",
      "False\n"
     ]
    }
   ],
   "source": [
    "import io\n",
    "\n",
    "print(io.StringIO.__bases__)\n",
    "\n",
    "print(issubclass(io.StringIO, io.TextIOWrapper))"
   ]
  },
  {
   "cell_type": "code",
   "execution_count": 28,
   "metadata": {},
   "outputs": [
    {
     "name": "stdout",
     "output_type": "stream",
     "text": [
      "<_io.StringIO object at 0x10f2d9f78>\n",
      "텍스트 임시 파일 처리\n",
      "라인을 처리가 가능\n"
     ]
    }
   ],
   "source": [
    "import io\n",
    "\n",
    "output = io.StringIO() \n",
    "output.write(\"텍스트 임시 파일 처리\\n\")\n",
    "output.write(\"라인을 처리가 가능\")\n",
    "\n",
    "print(output)\n",
    "print(output.getvalue())\n"
   ]
  },
  {
   "cell_type": "code",
   "execution_count": 29,
   "metadata": {},
   "outputs": [
    {
     "name": "stdout",
     "output_type": "stream",
     "text": [
      "텍스트 임시 파일 처리\n",
      " 라인을 처리가 가능 "
     ]
    }
   ],
   "source": [
    "output.seek(0)\n",
    "print(output.readline(),end=\" \")\n",
    "print(output.readline(),end=\" \")\n",
    "output.close()"
   ]
  },
  {
   "cell_type": "code",
   "execution_count": 29,
   "metadata": {},
   "outputs": [
    {
     "name": "stdout",
     "output_type": "stream",
     "text": [
      "True\n",
      "True\n"
     ]
    }
   ],
   "source": [
    "import io\n",
    "\n",
    "output = io.StringIO() \n",
    "output.write(\"텍스트 임시 파일 처리\\n\")\n",
    "output.write(\"왜 쓰고 읽고가 다 가능한지? \")\n",
    "\n",
    "print(output.writable())\n",
    "print(output.readable())\n"
   ]
  },
  {
   "cell_type": "markdown",
   "metadata": {},
   "source": [
    "## 예제 18-16 :  TextIOWrapper 이해하기\n"
   ]
  },
  {
   "cell_type": "code",
   "execution_count": 33,
   "metadata": {},
   "outputs": [
    {
     "name": "stdout",
     "output_type": "stream",
     "text": [
      "<_io.TextIOWrapper name='text_data.txt' mode='rt' encoding='utf-8'>\n",
      "text_data.txt\n",
      "rt\n",
      "utf-8\n"
     ]
    }
   ],
   "source": [
    "import io \n",
    "\n",
    "f = open(\"text_data.txt\",'rt',encoding=\"utf-8\")\n",
    "print(f)\n",
    "\n",
    "print(f.name)\n",
    "print(f.mode)\n",
    "print(f.encoding)"
   ]
  },
  {
   "cell_type": "code",
   "execution_count": 39,
   "metadata": {},
   "outputs": [
    {
     "name": "stdout",
     "output_type": "stream",
     "text": [
      "buffer close closed detach encoding \n",
      "errors fileno flush isatty line_buffering \n",
      "name newlines read readable readline \n",
      "readlines seek seekable tell truncate \n",
      "writable write writelines "
     ]
    }
   ],
   "source": [
    "import io\n",
    "\n",
    "count = 1\n",
    "for i in dir(io.TextIOWrapper) :\n",
    "    if not i.startswith(\"_\") :\n",
    "        print(i, end=\" \")\n",
    "        if count % 5 == 0 :\n",
    "            print()\n",
    "        count += 1"
   ]
  },
  {
   "cell_type": "code",
   "execution_count": 40,
   "metadata": {},
   "outputs": [
    {
     "name": "stdout",
     "output_type": "stream",
     "text": [
      "{'buffer', '_CHUNK_SIZE', 'name', 'line_buffering', '_finalizing', '__getstate__'}\n"
     ]
    }
   ],
   "source": [
    "tw = set(dir(io.TextIOWrapper))\n",
    "tb = set(dir(io.TextIOBase))\n",
    "\n",
    "print(tw - tb)"
   ]
  },
  {
   "cell_type": "code",
   "execution_count": 48,
   "metadata": {},
   "outputs": [
    {
     "name": "stdout",
     "output_type": "stream",
     "text": [
      "<_io.TextIOWrapper name='text_data.txt' mode='rt' encoding='utf-8'>\n",
      "<_io.BufferedReader name='text_data.txt'>\n",
      "False\n",
      "[b'\\xed\\x8c\\x8c\\xec\\x9d\\xbc\\xec\\x9d\\x84 \\xec\\xb2\\x98\\xeb\\xa6\\xac\\xed\\x95\\xb4 \\xeb\\xb3\\xb4\\xea\\xb8\\xb0\\r\\n', b'\\xec\\x9c\\xa0\\xeb\\x8b\\x88\\xec\\xbd\\x94\\xeb\\x93\\x9c \\xeb\\xac\\xb8\\xec\\x9e\\x90\\xec\\x97\\xb4 \\xed\\x85\\x8d\\xec\\x8a\\xa4\\xed\\x8a\\xb8\\xeb\\xa5\\xbc \\xec\\xb2\\x98\\xeb\\xa6\\xac\\xed\\x95\\x9c\\xeb\\x8b\\xa4.']\n"
     ]
    }
   ],
   "source": [
    "import io \n",
    "\n",
    "f = open(\"text_data.txt\",'rt',encoding=\"utf-8\")\n",
    "print(f)\n",
    "\n",
    "print(f.buffer)\n",
    "print(f.line_buffering)\n",
    "print(f.buffer.readlines())"
   ]
  },
  {
   "cell_type": "markdown",
   "metadata": {},
   "source": [
    "## 예제 18-17 :  컨텍스트 메니저로 파일 처리  \n"
   ]
  },
  {
   "cell_type": "code",
   "execution_count": 51,
   "metadata": {},
   "outputs": [
    {
     "name": "stdout",
     "output_type": "stream",
     "text": [
      "파일을 처리해 보기\n",
      " 유니코드 문자열 텍스트를 처리한다. <_io.TextIOWrapper name='text_data.txt' mode='rt' encoding='utf-8'>\n",
      "True\n"
     ]
    },
    {
     "ename": "ValueError",
     "evalue": "I/O operation on closed file.",
     "output_type": "error",
     "traceback": [
      "\u001b[0;31m---------------------------------------------------------------------------\u001b[0m",
      "\u001b[0;31mValueError\u001b[0m                                Traceback (most recent call last)",
      "\u001b[0;32m<ipython-input-51-5065995d1f01>\u001b[0m in \u001b[0;36m<module>\u001b[0;34m()\u001b[0m\n\u001b[1;32m     10\u001b[0m \u001b[0mprint\u001b[0m\u001b[1;33m(\u001b[0m\u001b[0mf\u001b[0m\u001b[1;33m)\u001b[0m\u001b[1;33m\u001b[0m\u001b[0m\n\u001b[1;32m     11\u001b[0m \u001b[0mprint\u001b[0m\u001b[1;33m(\u001b[0m\u001b[0mf\u001b[0m\u001b[1;33m.\u001b[0m\u001b[0mclosed\u001b[0m\u001b[1;33m)\u001b[0m\u001b[1;33m\u001b[0m\u001b[0m\n\u001b[0;32m---> 12\u001b[0;31m \u001b[0mprint\u001b[0m\u001b[1;33m(\u001b[0m\u001b[0mf\u001b[0m\u001b[1;33m.\u001b[0m\u001b[0mread\u001b[0m\u001b[1;33m(\u001b[0m\u001b[1;33m)\u001b[0m\u001b[1;33m)\u001b[0m\u001b[1;33m\u001b[0m\u001b[0m\n\u001b[0m",
      "\u001b[0;31mValueError\u001b[0m: I/O operation on closed file."
     ]
    }
   ],
   "source": [
    "f = open(\"text_data.txt\",'rt',encoding=\"utf-8\")\n",
    "\n",
    "f.__enter__()\n",
    "\n",
    "for i in f :\n",
    "    print(i, end=\" \")\n",
    "    \n",
    "f.__exit__()\n",
    "\n",
    "print(f)\n",
    "print(f.closed)\n",
    "print(f.read())"
   ]
  },
  {
   "cell_type": "code",
   "execution_count": 52,
   "metadata": {},
   "outputs": [
    {
     "name": "stdout",
     "output_type": "stream",
     "text": [
      "파일을 처리해 보기\n",
      " 유니코드 문자열 텍스트를 처리한다. <_io.TextIOWrapper name='text_data.txt' mode='rt' encoding='utf-8'>\n",
      "True\n"
     ]
    },
    {
     "ename": "ValueError",
     "evalue": "I/O operation on closed file.",
     "output_type": "error",
     "traceback": [
      "\u001b[0;31m---------------------------------------------------------------------------\u001b[0m",
      "\u001b[0;31mValueError\u001b[0m                                Traceback (most recent call last)",
      "\u001b[0;32m<ipython-input-52-846f9d0df1e5>\u001b[0m in \u001b[0;36m<module>\u001b[0;34m()\u001b[0m\n\u001b[1;32m      5\u001b[0m \u001b[0mprint\u001b[0m\u001b[1;33m(\u001b[0m\u001b[0mf\u001b[0m\u001b[1;33m)\u001b[0m\u001b[1;33m\u001b[0m\u001b[0m\n\u001b[1;32m      6\u001b[0m \u001b[0mprint\u001b[0m\u001b[1;33m(\u001b[0m\u001b[0mf\u001b[0m\u001b[1;33m.\u001b[0m\u001b[0mclosed\u001b[0m\u001b[1;33m)\u001b[0m\u001b[1;33m\u001b[0m\u001b[0m\n\u001b[0;32m----> 7\u001b[0;31m \u001b[0mprint\u001b[0m\u001b[1;33m(\u001b[0m\u001b[0mf\u001b[0m\u001b[1;33m.\u001b[0m\u001b[0mread\u001b[0m\u001b[1;33m(\u001b[0m\u001b[1;33m)\u001b[0m\u001b[1;33m)\u001b[0m\u001b[1;33m\u001b[0m\u001b[0m\n\u001b[0m",
      "\u001b[0;31mValueError\u001b[0m: I/O operation on closed file."
     ]
    }
   ],
   "source": [
    "with open(\"text_data.txt\",'rt',encoding=\"utf-8\") as f :\n",
    "    for i in f :\n",
    "        print(i, end=\" \")\n",
    "\n",
    "print(f)\n",
    "print(f.closed)\n",
    "print(f.read())"
   ]
  },
  {
   "cell_type": "markdown",
   "metadata": {},
   "source": [
    "## 예제 18-18  :  파일을 연결해서 쓰기\n"
   ]
  },
  {
   "cell_type": "code",
   "execution_count": 53,
   "metadata": {},
   "outputs": [
    {
     "name": "stdout",
     "output_type": "stream",
     "text": [
      "파일을 처리해 보기\n",
      "유니코드 문자열 텍스트를 처리한다.파일에 붙여 쓰기\n"
     ]
    }
   ],
   "source": [
    "with open(\"text_data.txt\",'at',encoding=\"utf-8\") as f :\n",
    "    f.write(\"파일에 붙여 쓰기\")\n",
    "    \n",
    "with open(\"text_data.txt\",'rt',encoding=\"utf-8\") as f :\n",
    "    print(f.read())    "
   ]
  },
  {
   "cell_type": "code",
   "execution_count": 56,
   "metadata": {},
   "outputs": [
    {
     "name": "stdout",
     "output_type": "stream",
     "text": [
      "파일을 처리해 보기\n",
      "\n",
      "유니코드 문자열 텍스트를 처리한다.파일에 붙여 쓰기\n",
      "\n"
     ]
    }
   ],
   "source": [
    "with open(\"text_data.txt\",'rt',encoding=\"utf-8\") as f :\n",
    "    for _ in range(3) :\n",
    "        print(f.readline())    "
   ]
  },
  {
   "cell_type": "code",
   "execution_count": 1,
   "metadata": {},
   "outputs": [
    {
     "name": "stdout",
     "output_type": "stream",
     "text": [
      "파일을 처리해 보기\n",
      "유니코드 문자열 \n"
     ]
    }
   ],
   "source": [
    "with open(\"text_data.txt\",'rt',encoding=\"utf-8\") as f :\n",
    "    print(f.read(20)) "
   ]
  },
  {
   "cell_type": "code",
   "execution_count": 2,
   "metadata": {},
   "outputs": [
    {
     "name": "stdout",
     "output_type": "stream",
     "text": [
      "파일을 처리해 보기\n",
      "유니코드 문자열 텍스트를 처리한다.파일에 붙여 쓰기\n",
      "    set things up에는 file을 열거나 외부 리소스와 같은 것을 얻는 처리가 해당되고,\n",
      "    tear things down에는 file을 닫거나 리소스를 제거, 해제 하는 처리가 해당된다.\n",
      "    이와 같은 try-finally 구조는 코드가 제대로 동작하지 않고 끝나더라도 tear things down은 무조건 실행되는 것을 보장한다.\n",
      "    \n"
     ]
    }
   ],
   "source": [
    "with open(\"text_data.txt\",'at',encoding=\"utf-8\") as f :\n",
    "    a = \"\"\"\n",
    "    set things up에는 file을 열거나 외부 리소스와 같은 것을 얻는 처리가 해당되고,\n",
    "    tear things down에는 file을 닫거나 리소스를 제거, 해제 하는 처리가 해당된다.\n",
    "    이와 같은 try-finally 구조는 코드가 제대로 동작하지 않고 끝나더라도 tear things down은 무조건 실행되는 것을 보장한다.\n",
    "    \"\"\"\n",
    "    f.writelines(a)\n",
    "    \n",
    "with open(\"text_data.txt\",'rt',encoding=\"utf-8\") as f :\n",
    "    print(f.read())    "
   ]
  },
  {
   "cell_type": "markdown",
   "metadata": {},
   "source": [
    "## 예제 18-19 : 파일을 만들고 현재 위치 알기\n"
   ]
  },
  {
   "cell_type": "code",
   "execution_count": 30,
   "metadata": {},
   "outputs": [
    {
     "name": "stdout",
     "output_type": "stream",
     "text": [
      "Overwriting data3.txt\n"
     ]
    }
   ],
   "source": [
    "%%writefile data3.txt\n",
    "The module defines a mixin, DictMixin, defining all dictionary methods\n",
    "for classes that already have a minimum mapping interface.\n",
    "This greatly simplifies writing classes that need to be substitutable\n",
    "for dictionaries (such as the shelve module)."
   ]
  },
  {
   "cell_type": "code",
   "execution_count": 31,
   "metadata": {},
   "outputs": [
    {
     "name": "stdout",
     "output_type": "stream",
     "text": [
      "0\n"
     ]
    }
   ],
   "source": [
    "fr3 = open(\"data3.txt\",\"rt\", encoding=\"utf-8\")\n",
    "\n",
    "print(fr3.tell())"
   ]
  },
  {
   "cell_type": "code",
   "execution_count": 32,
   "metadata": {},
   "outputs": [
    {
     "name": "stdout",
     "output_type": "stream",
     "text": [
      "10\n",
      "0\n"
     ]
    }
   ],
   "source": [
    "fr3.seek(10)\n",
    "print(fr3.tell())\n",
    "\n",
    "fr3.seek(0)\n",
    "print(fr3.tell())"
   ]
  },
  {
   "cell_type": "code",
   "execution_count": 33,
   "metadata": {},
   "outputs": [
    {
     "name": "stdout",
     "output_type": "stream",
     "text": [
      "The module defines a mixin, DictMixin, defining all dictionary methods\n",
      "for classes that already have a minimum mapping interface.\n",
      "This greatly simplifies writing classes that need to be substitutable\n",
      "for dictionaries (such as the shelve module)."
     ]
    }
   ],
   "source": [
    "for i in fr3 :\n",
    "    print(i, end=\"\")\n",
    "    \n",
    "fr3.close()\n"
   ]
  },
  {
   "cell_type": "markdown",
   "metadata": {},
   "source": [
    "## 예제 18-20 :   기존 파일 존재 확인\n"
   ]
  },
  {
   "cell_type": "code",
   "execution_count": 36,
   "metadata": {},
   "outputs": [
    {
     "name": "stdout",
     "output_type": "stream",
     "text": [
      "The module defines a mixin, DictMixin, defining all dictionary methods\n",
      " for classes that already have a minimum mapping interface.\n",
      " This greatly simplifies writing classes that need to be substitutable\n",
      " for dictionaries (such as the shelve module). "
     ]
    }
   ],
   "source": [
    "import os\n",
    "\n",
    "if os.path.exists(\"data3.txt\") :\n",
    "    fr3 = open(\"data3.txt\",\"rt\", encoding=\"utf-8\")\n",
    "    for i in fr3 :\n",
    "        print(i,end=\" \")"
   ]
  },
  {
   "cell_type": "code",
   "execution_count": 44,
   "metadata": {},
   "outputs": [
    {
     "name": "stdout",
     "output_type": "stream",
     "text": [
      "C:\\Users\\06411\\Documents\\GitHub\\python_book\n",
      "C:\\Users\\06411\\Documents\\GitHub\\python_book\\python_gram\n",
      "C:\\Users\\06411\\Documents\\GitHub\\python_book\\python_gram\n",
      "data3.txt\n"
     ]
    }
   ],
   "source": [
    "import os\n",
    "\n",
    "print(os.path.dirname(r\"C:\\Users\\06411\\Documents\\GitHub\\python_book\\python_gram\" ))\n",
    "\n",
    "print(os.path.dirname(\"C:\\\\Users\\\\06411\\\\Documents\\\\GitHub\\\\python_book\\\\python_gram\\\\\"))\n",
    "\n",
    "print(os.path.dirname(r\"C:\\Users\\06411\\Documents\\GitHub\\python_book\\python_gram\\data3.txt\"))\n",
    "print(os.path.basename(r\"C:\\Users\\06411\\Documents\\GitHub\\python_book\\python_gram\\data3.txt\"))"
   ]
  },
  {
   "cell_type": "code",
   "execution_count": null,
   "metadata": {
    "collapsed": true
   },
   "outputs": [],
   "source": []
  }
 ],
 "metadata": {
  "kernelspec": {
   "display_name": "Python 3",
   "language": "python",
   "name": "python3"
  },
  "language_info": {
   "codemirror_mode": {
    "name": "ipython",
    "version": 3
   },
   "file_extension": ".py",
   "mimetype": "text/x-python",
   "name": "python",
   "nbconvert_exporter": "python",
   "pygments_lexer": "ipython3",
   "version": "3.6.1"
  }
 },
 "nbformat": 4,
 "nbformat_minor": 2
}
