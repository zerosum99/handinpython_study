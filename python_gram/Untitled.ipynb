{
 "cells": [
  {
   "cell_type": "code",
   "execution_count": 40,
   "metadata": {
    "collapsed": true
   },
   "outputs": [],
   "source": [
    "import inspect"
   ]
  },
  {
   "cell_type": "code",
   "execution_count": 65,
   "metadata": {
    "collapsed": true
   },
   "outputs": [],
   "source": [
    "def add(x,y) :\n",
    "    print(locals()[add.__code__.co_varnames[0]])\n",
    "    print(add.__code__.co_nlocals)\n",
    "    xx = inspect.currentframe()\n",
    "    print(xx.f_locals)\n",
    "    locals()['x'] = 33\n",
    "    xx = inspect.currentframe()\n",
    "    print(xx.f_locals)\n",
    "    \n",
    "    x = 9999\n",
    "    xx = inspect.currentframe()\n",
    "    print(xx.f_locals)\n",
    "    print(locals().setdefault('z', 30))\n",
    "   \n",
    "    locals()['a'] = 300\n",
    "    print(locals())\n",
    "    print(add.__code__.co_varnames)\n",
    "    \n",
    "    return x +y +locals().get('z',0)"
   ]
  },
  {
   "cell_type": "code",
   "execution_count": 66,
   "metadata": {},
   "outputs": [
    {
     "name": "stdout",
     "output_type": "stream",
     "text": [
      "10\n",
      "3\n",
      "{'y': 10, 'x': 10, 'xx': <frame object at 0x000001B491341A28>}\n",
      "{'y': 10, 'x': 10, 'xx': <frame object at 0x000001B491341A28>}\n",
      "{'y': 10, 'x': 9999, 'xx': <frame object at 0x000001B491341A28>}\n",
      "30\n",
      "{'y': 10, 'x': 9999, 'xx': <frame object at 0x000001B491341A28>, 'z': 30, 'a': 300}\n",
      "('x', 'y', 'xx')\n"
     ]
    },
    {
     "data": {
      "text/plain": [
       "10039"
      ]
     },
     "execution_count": 66,
     "metadata": {},
     "output_type": "execute_result"
    }
   ],
   "source": [
    "add(10,10)"
   ]
  },
  {
   "cell_type": "code",
   "execution_count": 29,
   "metadata": {},
   "outputs": [
    {
     "data": {
      "text/plain": [
       "('x', 'y')"
      ]
     },
     "execution_count": 29,
     "metadata": {},
     "output_type": "execute_result"
    }
   ],
   "source": [
    "add.__code__.co_varnames"
   ]
  },
  {
   "cell_type": "code",
   "execution_count": 50,
   "metadata": {},
   "outputs": [
    {
     "data": {
      "text/plain": [
       "['__class__',\n",
       " '__delattr__',\n",
       " '__dir__',\n",
       " '__doc__',\n",
       " '__eq__',\n",
       " '__format__',\n",
       " '__ge__',\n",
       " '__getattribute__',\n",
       " '__gt__',\n",
       " '__hash__',\n",
       " '__init__',\n",
       " '__init_subclass__',\n",
       " '__le__',\n",
       " '__lt__',\n",
       " '__ne__',\n",
       " '__new__',\n",
       " '__reduce__',\n",
       " '__reduce_ex__',\n",
       " '__repr__',\n",
       " '__setattr__',\n",
       " '__sizeof__',\n",
       " '__str__',\n",
       " '__subclasshook__',\n",
       " 'co_argcount',\n",
       " 'co_cellvars',\n",
       " 'co_code',\n",
       " 'co_consts',\n",
       " 'co_filename',\n",
       " 'co_firstlineno',\n",
       " 'co_flags',\n",
       " 'co_freevars',\n",
       " 'co_kwonlyargcount',\n",
       " 'co_lnotab',\n",
       " 'co_name',\n",
       " 'co_names',\n",
       " 'co_nlocals',\n",
       " 'co_stacksize',\n",
       " 'co_varnames']"
      ]
     },
     "execution_count": 50,
     "metadata": {},
     "output_type": "execute_result"
    }
   ],
   "source": [
    "dir(add.__code__)"
   ]
  },
  {
   "cell_type": "code",
   "execution_count": 49,
   "metadata": {},
   "outputs": [
    {
     "name": "stdout",
     "output_type": "stream",
     "text": [
      "Help on function getframeinfo in module inspect:\n",
      "\n",
      "getframeinfo(frame, context=1)\n",
      "    Get information about a frame or traceback object.\n",
      "    \n",
      "    A tuple of five things is returned: the filename, the line number of\n",
      "    the current line, the function name, a list of lines of context from\n",
      "    the source code, and the index of the current line within that list.\n",
      "    The optional second argument specifies the number of lines of context\n",
      "    to return, which are centered around the current line.\n",
      "\n"
     ]
    }
   ],
   "source": [
    "help(inspect.getframeinfo)"
   ]
  },
  {
   "cell_type": "code",
   "execution_count": 51,
   "metadata": {},
   "outputs": [
    {
     "data": {
      "text/plain": [
       "['ArgInfo',\n",
       " 'ArgSpec',\n",
       " 'Arguments',\n",
       " 'Attribute',\n",
       " 'BlockFinder',\n",
       " 'BoundArguments',\n",
       " 'CORO_CLOSED',\n",
       " 'CORO_CREATED',\n",
       " 'CORO_RUNNING',\n",
       " 'CORO_SUSPENDED',\n",
       " 'CO_ASYNC_GENERATOR',\n",
       " 'CO_COROUTINE',\n",
       " 'CO_GENERATOR',\n",
       " 'CO_ITERABLE_COROUTINE',\n",
       " 'CO_NESTED',\n",
       " 'CO_NEWLOCALS',\n",
       " 'CO_NOFREE',\n",
       " 'CO_OPTIMIZED',\n",
       " 'CO_VARARGS',\n",
       " 'CO_VARKEYWORDS',\n",
       " 'ClosureVars',\n",
       " 'EndOfBlock',\n",
       " 'FrameInfo',\n",
       " 'FullArgSpec',\n",
       " 'GEN_CLOSED',\n",
       " 'GEN_CREATED',\n",
       " 'GEN_RUNNING',\n",
       " 'GEN_SUSPENDED',\n",
       " 'OrderedDict',\n",
       " 'Parameter',\n",
       " 'Signature',\n",
       " 'TPFLAGS_IS_ABSTRACT',\n",
       " 'Traceback',\n",
       " '_ClassMethodWrapper',\n",
       " '_KEYWORD_ONLY',\n",
       " '_MethodWrapper',\n",
       " '_NonUserDefinedCallables',\n",
       " '_POSITIONAL_ONLY',\n",
       " '_POSITIONAL_OR_KEYWORD',\n",
       " '_ParameterKind',\n",
       " '_VAR_KEYWORD',\n",
       " '_VAR_POSITIONAL',\n",
       " '_WrapperDescriptor',\n",
       " '__author__',\n",
       " '__builtins__',\n",
       " '__cached__',\n",
       " '__doc__',\n",
       " '__file__',\n",
       " '__loader__',\n",
       " '__name__',\n",
       " '__package__',\n",
       " '__spec__',\n",
       " '_check_class',\n",
       " '_check_instance',\n",
       " '_empty',\n",
       " '_filesbymodname',\n",
       " '_findclass',\n",
       " '_finddoc',\n",
       " '_getfullargs',\n",
       " '_is_type',\n",
       " '_main',\n",
       " '_missing_arguments',\n",
       " '_sentinel',\n",
       " '_shadowed_dict',\n",
       " '_signature_bound_method',\n",
       " '_signature_from_builtin',\n",
       " '_signature_from_callable',\n",
       " '_signature_from_function',\n",
       " '_signature_fromstr',\n",
       " '_signature_get_bound_param',\n",
       " '_signature_get_partial',\n",
       " '_signature_get_user_defined_method',\n",
       " '_signature_is_builtin',\n",
       " '_signature_is_functionlike',\n",
       " '_signature_strip_non_python_syntax',\n",
       " '_static_getmro',\n",
       " '_too_many',\n",
       " '_void',\n",
       " 'abc',\n",
       " 'ast',\n",
       " 'attrgetter',\n",
       " 'builtins',\n",
       " 'classify_class_attrs',\n",
       " 'cleandoc',\n",
       " 'collections',\n",
       " 'currentframe',\n",
       " 'dis',\n",
       " 'enum',\n",
       " 'findsource',\n",
       " 'formatannotation',\n",
       " 'formatannotationrelativeto',\n",
       " 'formatargspec',\n",
       " 'formatargvalues',\n",
       " 'functools',\n",
       " 'getabsfile',\n",
       " 'getargs',\n",
       " 'getargspec',\n",
       " 'getargvalues',\n",
       " 'getattr_static',\n",
       " 'getblock',\n",
       " 'getcallargs',\n",
       " 'getclasstree',\n",
       " 'getclosurevars',\n",
       " 'getcomments',\n",
       " 'getcoroutinelocals',\n",
       " 'getcoroutinestate',\n",
       " 'getdoc',\n",
       " 'getfile',\n",
       " 'getframeinfo',\n",
       " 'getfullargspec',\n",
       " 'getgeneratorlocals',\n",
       " 'getgeneratorstate',\n",
       " 'getinnerframes',\n",
       " 'getlineno',\n",
       " 'getmembers',\n",
       " 'getmodule',\n",
       " 'getmodulename',\n",
       " 'getmro',\n",
       " 'getouterframes',\n",
       " 'getsource',\n",
       " 'getsourcefile',\n",
       " 'getsourcelines',\n",
       " 'importlib',\n",
       " 'indentsize',\n",
       " 'isabstract',\n",
       " 'isasyncgen',\n",
       " 'isasyncgenfunction',\n",
       " 'isawaitable',\n",
       " 'isbuiltin',\n",
       " 'isclass',\n",
       " 'iscode',\n",
       " 'iscoroutine',\n",
       " 'iscoroutinefunction',\n",
       " 'isdatadescriptor',\n",
       " 'isframe',\n",
       " 'isfunction',\n",
       " 'isgenerator',\n",
       " 'isgeneratorfunction',\n",
       " 'isgetsetdescriptor',\n",
       " 'ismemberdescriptor',\n",
       " 'ismethod',\n",
       " 'ismethoddescriptor',\n",
       " 'ismodule',\n",
       " 'isroutine',\n",
       " 'istraceback',\n",
       " 'itertools',\n",
       " 'k',\n",
       " 'linecache',\n",
       " 'mod_dict',\n",
       " 'modulesbyfile',\n",
       " 'namedtuple',\n",
       " 'os',\n",
       " 're',\n",
       " 'signature',\n",
       " 'stack',\n",
       " 'sys',\n",
       " 'token',\n",
       " 'tokenize',\n",
       " 'trace',\n",
       " 'types',\n",
       " 'unwrap',\n",
       " 'v',\n",
       " 'walktree',\n",
       " 'warnings']"
      ]
     },
     "execution_count": 51,
     "metadata": {},
     "output_type": "execute_result"
    }
   ],
   "source": [
    "dir(inspect)"
   ]
  },
  {
   "cell_type": "code",
   "execution_count": 67,
   "metadata": {},
   "outputs": [
    {
     "name": "stdout",
     "output_type": "stream",
     "text": [
      "10\n",
      "10\n"
     ]
    }
   ],
   "source": [
    "def a(x):\n",
    "    exec(\"locals()['x'] = 100\")\n",
    "    print(x)\n",
    "    return locals()['x']\n",
    "\n",
    "print(a(10))"
   ]
  },
  {
   "cell_type": "code",
   "execution_count": null,
   "metadata": {
    "collapsed": true
   },
   "outputs": [],
   "source": []
  }
 ],
 "metadata": {
  "kernelspec": {
   "display_name": "Python 3",
   "language": "python",
   "name": "python3"
  },
  "language_info": {
   "codemirror_mode": {
    "name": "ipython",
    "version": 3
   },
   "file_extension": ".py",
   "mimetype": "text/x-python",
   "name": "python",
   "nbconvert_exporter": "python",
   "pygments_lexer": "ipython3",
   "version": "3.6.3"
  }
 },
 "nbformat": 4,
 "nbformat_minor": 2
}
