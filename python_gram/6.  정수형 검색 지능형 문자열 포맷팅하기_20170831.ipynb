{
 "cells": [
  {
   "cell_type": "markdown",
   "metadata": {},
   "source": [
    "## 예제 6-1  : 순방향(forward)과 역방향(backward)으로 검색"
   ]
  },
  {
   "cell_type": "code",
   "execution_count": 2,
   "metadata": {},
   "outputs": [
    {
     "name": "stdout",
     "output_type": "stream",
     "text": [
      "index :  0  value : 순\n",
      "index :  1  value : 방\n",
      "index :  2  value : 향\n",
      "index :  3  value :  \n",
      "index :  4  value : 검\n",
      "index :  5  value : 색\n"
     ]
    }
   ],
   "source": [
    "s = \"순방향 검색\"\n",
    "\n",
    "for i in range(len(s)) :\n",
    "    print(\"index : \",i,\" value :\",s[i])"
   ]
  },
  {
   "cell_type": "code",
   "execution_count": 4,
   "metadata": {},
   "outputs": [
    {
     "name": "stdout",
     "output_type": "stream",
     "text": [
      "index :  -1  value : 색\n",
      "index :  -2  value : 검\n",
      "index :  -3  value :  \n",
      "index :  -4  value : 향\n",
      "index :  -5  value : 방\n",
      "index :  -6  value : 역\n"
     ]
    }
   ],
   "source": [
    "s = \"역방향 검색\"\n",
    "\n",
    "for i in range(1,len(s)+1) :\n",
    "    print(\"index : \",-1*i,\" value :\",s[-1*i])"
   ]
  },
  {
   "cell_type": "markdown",
   "metadata": {},
   "source": [
    "## 예제 6-2  : Index 범위가 넘어갈 경우"
   ]
  },
  {
   "cell_type": "code",
   "execution_count": 5,
   "metadata": {},
   "outputs": [
    {
     "ename": "IndexError",
     "evalue": "list index out of range",
     "output_type": "error",
     "traceback": [
      "\u001b[0;31m---------------------------------------------------------------------------\u001b[0m",
      "\u001b[0;31mIndexError\u001b[0m                                Traceback (most recent call last)",
      "\u001b[0;32m<ipython-input-5-b183477db7a2>\u001b[0m in \u001b[0;36m<module>\u001b[0;34m()\u001b[0m\n\u001b[1;32m      1\u001b[0m \u001b[0ml\u001b[0m \u001b[1;33m=\u001b[0m \u001b[1;33m[\u001b[0m\u001b[1;36m1\u001b[0m\u001b[1;33m,\u001b[0m\u001b[1;36m2\u001b[0m\u001b[1;33m,\u001b[0m\u001b[1;36m3\u001b[0m\u001b[1;33m]\u001b[0m\u001b[1;33m\u001b[0m\u001b[0m\n\u001b[1;32m      2\u001b[0m \u001b[1;33m\u001b[0m\u001b[0m\n\u001b[0;32m----> 3\u001b[0;31m \u001b[0mprint\u001b[0m\u001b[1;33m(\u001b[0m\u001b[0ml\u001b[0m\u001b[1;33m[\u001b[0m\u001b[1;36m4\u001b[0m\u001b[1;33m]\u001b[0m\u001b[1;33m)\u001b[0m\u001b[1;33m\u001b[0m\u001b[0m\n\u001b[0m",
      "\u001b[0;31mIndexError\u001b[0m: list index out of range"
     ]
    }
   ],
   "source": [
    "l = [1,2,3]\n",
    "\n",
    "print(l[4])"
   ]
  },
  {
   "cell_type": "markdown",
   "metadata": {},
   "source": [
    "## 예제 6-3 : 길이보다 작은 경우까지만 인덱스가 처리\n"
   ]
  },
  {
   "cell_type": "code",
   "execution_count": 9,
   "metadata": {
    "collapsed": true
   },
   "outputs": [],
   "source": [
    "def index_check(l,a) :\n",
    "    if a < len(l) :\n",
    "        return a\n",
    "    else :\n",
    "        return -1\n"
   ]
  },
  {
   "cell_type": "code",
   "execution_count": 10,
   "metadata": {},
   "outputs": [
    {
     "name": "stdout",
     "output_type": "stream",
     "text": [
      "3\n",
      "1\n",
      "2\n"
     ]
    }
   ],
   "source": [
    "l = [1,2,3]\n",
    "\n",
    "print(l[index_check(l,4)])\n",
    "print(l[index_check(l,0)])\n",
    "print(l[index_check(l,1)])"
   ]
  },
  {
   "cell_type": "markdown",
   "metadata": {},
   "source": [
    "## 예제 6-4 : 딕셔너리는 키가 정수일 경우  "
   ]
  },
  {
   "cell_type": "code",
   "execution_count": 11,
   "metadata": {},
   "outputs": [
    {
     "name": "stdout",
     "output_type": "stream",
     "text": [
      "1\n",
      "2\n"
     ]
    },
    {
     "ename": "KeyError",
     "evalue": "3",
     "output_type": "error",
     "traceback": [
      "\u001b[0;31m---------------------------------------------------------------------------\u001b[0m",
      "\u001b[0;31mKeyError\u001b[0m                                  Traceback (most recent call last)",
      "\u001b[0;32m<ipython-input-11-bf86105b63a1>\u001b[0m in \u001b[0;36m<module>\u001b[0;34m()\u001b[0m\n\u001b[1;32m      3\u001b[0m \u001b[0mprint\u001b[0m\u001b[1;33m(\u001b[0m\u001b[0ma\u001b[0m\u001b[1;33m[\u001b[0m\u001b[1;36m1\u001b[0m\u001b[1;33m]\u001b[0m\u001b[1;33m)\u001b[0m\u001b[1;33m\u001b[0m\u001b[0m\n\u001b[1;32m      4\u001b[0m \u001b[0mprint\u001b[0m\u001b[1;33m(\u001b[0m\u001b[0ma\u001b[0m\u001b[1;33m[\u001b[0m\u001b[1;36m2\u001b[0m\u001b[1;33m]\u001b[0m\u001b[1;33m)\u001b[0m\u001b[1;33m\u001b[0m\u001b[0m\n\u001b[0;32m----> 5\u001b[0;31m \u001b[0mprint\u001b[0m\u001b[1;33m(\u001b[0m\u001b[0ma\u001b[0m\u001b[1;33m[\u001b[0m\u001b[1;36m3\u001b[0m\u001b[1;33m]\u001b[0m\u001b[1;33m)\u001b[0m\u001b[1;33m\u001b[0m\u001b[0m\n\u001b[0m",
      "\u001b[0;31mKeyError\u001b[0m: 3"
     ]
    }
   ],
   "source": [
    "a = { 1: 1, 2:2}\n",
    "\n",
    "print(a[1])\n",
    "print(a[2])\n",
    "print(a[3])"
   ]
  },
  {
   "cell_type": "code",
   "execution_count": 7,
   "metadata": {
    "collapsed": true
   },
   "outputs": [],
   "source": [
    "def key_check(d,a) :\n",
    "    if a in d :\n",
    "        pass\n",
    "    else :\n",
    "        a = list(d.keys())[0]\n",
    "    return a\n",
    "    \n"
   ]
  },
  {
   "cell_type": "code",
   "execution_count": 8,
   "metadata": {},
   "outputs": [
    {
     "name": "stdout",
     "output_type": "stream",
     "text": [
      "1\n",
      "2\n",
      "1\n"
     ]
    }
   ],
   "source": [
    "a = { 1: 1, 2:2}\n",
    "\n",
    "print(a[key_check(a,1)])\n",
    "print(a[key_check(a,2)])\n",
    "print(a[key_check(a,3)])"
   ]
  },
  {
   "cell_type": "code",
   "execution_count": 9,
   "metadata": {},
   "outputs": [
    {
     "name": "stdout",
     "output_type": "stream",
     "text": [
      "1\n",
      "1\n",
      "1\n",
      "2\n"
     ]
    }
   ],
   "source": [
    "d = {'a': 1, 'b':2}\n",
    "\n",
    "print(d[key_check(d,1)])\n",
    "print(d[key_check(d,\"c\")])\n",
    "\n",
    "print(d[key_check(d,'a')])\n",
    "print(d[key_check(d,'b')])"
   ]
  },
  {
   "cell_type": "markdown",
   "metadata": {},
   "source": [
    "## 예제 6-5 :  getitem 으로  인덱스 검색"
   ]
  },
  {
   "cell_type": "code",
   "execution_count": 12,
   "metadata": {},
   "outputs": [
    {
     "name": "stdout",
     "output_type": "stream",
     "text": [
      "1\n"
     ]
    },
    {
     "ename": "IndexError",
     "evalue": "list index out of range",
     "output_type": "error",
     "traceback": [
      "\u001b[0;31m---------------------------------------------------------------------------\u001b[0m",
      "\u001b[0;31mIndexError\u001b[0m                                Traceback (most recent call last)",
      "\u001b[0;32m<ipython-input-12-7089df53f22e>\u001b[0m in \u001b[0;36m<module>\u001b[0;34m()\u001b[0m\n\u001b[1;32m      4\u001b[0m \u001b[0;34m\u001b[0m\u001b[0m\n\u001b[1;32m      5\u001b[0m \u001b[0mprint\u001b[0m\u001b[0;34m(\u001b[0m\u001b[0mop\u001b[0m\u001b[0;34m.\u001b[0m\u001b[0mgetitem\u001b[0m\u001b[0;34m(\u001b[0m\u001b[0ml\u001b[0m\u001b[0;34m,\u001b[0m\u001b[0;36m0\u001b[0m\u001b[0;34m)\u001b[0m\u001b[0;34m)\u001b[0m\u001b[0;34m\u001b[0m\u001b[0m\n\u001b[0;32m----> 6\u001b[0;31m \u001b[0mprint\u001b[0m\u001b[0;34m(\u001b[0m\u001b[0mop\u001b[0m\u001b[0;34m.\u001b[0m\u001b[0mgetitem\u001b[0m\u001b[0;34m(\u001b[0m\u001b[0ml\u001b[0m\u001b[0;34m,\u001b[0m\u001b[0;36m4\u001b[0m\u001b[0;34m)\u001b[0m\u001b[0;34m)\u001b[0m\u001b[0;34m\u001b[0m\u001b[0m\n\u001b[0m",
      "\u001b[0;31mIndexError\u001b[0m: list index out of range"
     ]
    }
   ],
   "source": [
    "import operator as op\n",
    "\n",
    "l = [1,2,3,4]\n",
    "\n",
    "print(op.getitem(l,0))\n",
    "print(op.getitem(l,4))"
   ]
  },
  {
   "cell_type": "code",
   "execution_count": 13,
   "metadata": {},
   "outputs": [
    {
     "name": "stdout",
     "output_type": "stream",
     "text": [
      "1\n"
     ]
    },
    {
     "ename": "KeyError",
     "evalue": "'c'",
     "output_type": "error",
     "traceback": [
      "\u001b[0;31m---------------------------------------------------------------------------\u001b[0m",
      "\u001b[0;31mKeyError\u001b[0m                                  Traceback (most recent call last)",
      "\u001b[0;32m<ipython-input-13-b25e019db480>\u001b[0m in \u001b[0;36m<module>\u001b[0;34m()\u001b[0m\n\u001b[1;32m      4\u001b[0m \u001b[0;34m\u001b[0m\u001b[0m\n\u001b[1;32m      5\u001b[0m \u001b[0mprint\u001b[0m\u001b[0;34m(\u001b[0m\u001b[0mop\u001b[0m\u001b[0;34m.\u001b[0m\u001b[0mgetitem\u001b[0m\u001b[0;34m(\u001b[0m\u001b[0ma\u001b[0m\u001b[0;34m,\u001b[0m\u001b[0;34m'a'\u001b[0m\u001b[0;34m)\u001b[0m\u001b[0;34m)\u001b[0m\u001b[0;34m\u001b[0m\u001b[0m\n\u001b[0;32m----> 6\u001b[0;31m \u001b[0mprint\u001b[0m\u001b[0;34m(\u001b[0m\u001b[0mop\u001b[0m\u001b[0;34m.\u001b[0m\u001b[0mgetitem\u001b[0m\u001b[0;34m(\u001b[0m\u001b[0ma\u001b[0m\u001b[0;34m,\u001b[0m\u001b[0;34m'c'\u001b[0m\u001b[0;34m)\u001b[0m\u001b[0;34m)\u001b[0m\u001b[0;34m\u001b[0m\u001b[0m\n\u001b[0m",
      "\u001b[0;31mKeyError\u001b[0m: 'c'"
     ]
    }
   ],
   "source": [
    "import operator as op\n",
    "\n",
    "a = {'a': 1, 'b':2}\n",
    "\n",
    "print(op.getitem(a,'a'))\n",
    "print(op.getitem(a,'c'))"
   ]
  },
  {
   "cell_type": "code",
   "execution_count": 14,
   "metadata": {},
   "outputs": [
    {
     "name": "stdout",
     "output_type": "stream",
     "text": [
      "1\n"
     ]
    }
   ],
   "source": [
    "print(op.getitem(a,key_check(a,'c')))"
   ]
  },
  {
   "cell_type": "markdown",
   "metadata": {},
   "source": [
    "## 예제 6-6 :  itemgetter로 여러 개의 key를 동시에 검색"
   ]
  },
  {
   "cell_type": "code",
   "execution_count": 16,
   "metadata": {},
   "outputs": [
    {
     "name": "stdout",
     "output_type": "stream",
     "text": [
      "(1, 2)\n"
     ]
    }
   ],
   "source": [
    "import operator as op\n",
    "\n",
    "a = {'a': 1, 'b':2}\n",
    "\n",
    "itg_two = op.itemgetter('a','b')\n",
    "print(itg_two(a))"
   ]
  },
  {
   "cell_type": "code",
   "execution_count": 18,
   "metadata": {},
   "outputs": [
    {
     "ename": "KeyError",
     "evalue": "'c'",
     "output_type": "error",
     "traceback": [
      "\u001b[0;31m---------------------------------------------------------------------------\u001b[0m",
      "\u001b[0;31mKeyError\u001b[0m                                  Traceback (most recent call last)",
      "\u001b[0;32m<ipython-input-18-b2ee225d55bb>\u001b[0m in \u001b[0;36m<module>\u001b[0;34m()\u001b[0m\n\u001b[1;32m      1\u001b[0m \u001b[0mitg_ac\u001b[0m \u001b[0;34m=\u001b[0m \u001b[0mop\u001b[0m\u001b[0;34m.\u001b[0m\u001b[0mitemgetter\u001b[0m\u001b[0;34m(\u001b[0m\u001b[0;34m'a'\u001b[0m\u001b[0;34m,\u001b[0m\u001b[0;34m'c'\u001b[0m\u001b[0;34m)\u001b[0m\u001b[0;34m\u001b[0m\u001b[0m\n\u001b[1;32m      2\u001b[0m \u001b[0;34m\u001b[0m\u001b[0m\n\u001b[0;32m----> 3\u001b[0;31m \u001b[0mprint\u001b[0m\u001b[0;34m(\u001b[0m\u001b[0mitg_ac\u001b[0m\u001b[0;34m(\u001b[0m\u001b[0ma\u001b[0m\u001b[0;34m)\u001b[0m\u001b[0;34m)\u001b[0m\u001b[0;34m\u001b[0m\u001b[0m\n\u001b[0m",
      "\u001b[0;31mKeyError\u001b[0m: 'c'"
     ]
    }
   ],
   "source": [
    "itg_ac = op.itemgetter('a','c')\n",
    "\n",
    "print(itg_ac(a))"
   ]
  },
  {
   "cell_type": "markdown",
   "metadata": {},
   "source": [
    "## 예제 6-7 :  딕셔너리 내부 원소를 메소드로 검색하기\n"
   ]
  },
  {
   "cell_type": "code",
   "execution_count": 19,
   "metadata": {},
   "outputs": [
    {
     "name": "stdout",
     "output_type": "stream",
     "text": [
      "defaults\n"
     ]
    }
   ],
   "source": [
    "d = {'a': 1, 'b':2}\n",
    "\n",
    "print(d.get('c',\"defaults\"))"
   ]
  },
  {
   "cell_type": "code",
   "execution_count": 20,
   "metadata": {},
   "outputs": [
    {
     "name": "stdout",
     "output_type": "stream",
     "text": [
      "{'a': 1, 'b': 2, 'c': 'defaults'}\n",
      "defaults\n"
     ]
    }
   ],
   "source": [
    "d.setdefault('c',\"defaults\")\n",
    "print(d)\n",
    "print(d['c'])"
   ]
  },
  {
   "cell_type": "markdown",
   "metadata": {},
   "source": [
    "## 예제 6-8 :  인덱스로 갱신하기\n"
   ]
  },
  {
   "cell_type": "code",
   "execution_count": 22,
   "metadata": {},
   "outputs": [
    {
     "name": "stdout",
     "output_type": "stream",
     "text": [
      "[1, 2, 99, 4]\n"
     ]
    }
   ],
   "source": [
    "l = [1,2,3,4]\n",
    "\n",
    "l[2]= 99\n",
    "\n",
    "print(l)"
   ]
  },
  {
   "cell_type": "code",
   "execution_count": 24,
   "metadata": {},
   "outputs": [
    {
     "ename": "IndexError",
     "evalue": "list assignment index out of range",
     "output_type": "error",
     "traceback": [
      "\u001b[0;31m---------------------------------------------------------------------------\u001b[0m",
      "\u001b[0;31mIndexError\u001b[0m                                Traceback (most recent call last)",
      "\u001b[0;32m<ipython-input-24-59f9aea0ef4c>\u001b[0m in \u001b[0;36m<module>\u001b[0;34m()\u001b[0m\n\u001b[0;32m----> 1\u001b[0;31m \u001b[0ml\u001b[0m\u001b[0;34m[\u001b[0m\u001b[0;36m4\u001b[0m\u001b[0;34m]\u001b[0m \u001b[0;34m=\u001b[0m \u001b[0;36m100\u001b[0m\u001b[0;34m\u001b[0m\u001b[0m\n\u001b[0m",
      "\u001b[0;31mIndexError\u001b[0m: list assignment index out of range"
     ]
    }
   ],
   "source": [
    "l[4] = 100"
   ]
  },
  {
   "cell_type": "code",
   "execution_count": 23,
   "metadata": {},
   "outputs": [
    {
     "name": "stdout",
     "output_type": "stream",
     "text": [
      "{'a': 1, 'b': 99}\n"
     ]
    }
   ],
   "source": [
    "d = {'a':1, 'b':2}\n",
    "\n",
    "d['b'] = 99\n",
    "\n",
    "print(d)"
   ]
  },
  {
   "cell_type": "code",
   "execution_count": 26,
   "metadata": {},
   "outputs": [
    {
     "name": "stdout",
     "output_type": "stream",
     "text": [
      "{'a': 1, 'b': 99, 'c': 100}\n"
     ]
    }
   ],
   "source": [
    "d['c'] = 100\n",
    "print(d)"
   ]
  },
  {
   "cell_type": "markdown",
   "metadata": {},
   "source": [
    "## 예제 6-9: 인덱스로 삭제하기"
   ]
  },
  {
   "cell_type": "code",
   "execution_count": 30,
   "metadata": {},
   "outputs": [
    {
     "name": "stdout",
     "output_type": "stream",
     "text": [
      "[1, 2, 4]\n"
     ]
    }
   ],
   "source": [
    "l = [1,2,3,4]\n",
    "\n",
    "del l[2]\n",
    "\n",
    "print(l)"
   ]
  },
  {
   "cell_type": "code",
   "execution_count": 31,
   "metadata": {},
   "outputs": [
    {
     "ename": "IndexError",
     "evalue": "list assignment index out of range",
     "output_type": "error",
     "traceback": [
      "\u001b[0;31m---------------------------------------------------------------------------\u001b[0m",
      "\u001b[0;31mIndexError\u001b[0m                                Traceback (most recent call last)",
      "\u001b[0;32m<ipython-input-31-2e17e54224b5>\u001b[0m in \u001b[0;36m<module>\u001b[0;34m()\u001b[0m\n\u001b[0;32m----> 1\u001b[0;31m \u001b[0;32mdel\u001b[0m \u001b[0ml\u001b[0m\u001b[0;34m[\u001b[0m\u001b[0;36m3\u001b[0m\u001b[0;34m]\u001b[0m\u001b[0;34m\u001b[0m\u001b[0m\n\u001b[0m",
      "\u001b[0;31mIndexError\u001b[0m: list assignment index out of range"
     ]
    }
   ],
   "source": [
    "del l[3]"
   ]
  },
  {
   "cell_type": "code",
   "execution_count": 28,
   "metadata": {},
   "outputs": [
    {
     "name": "stdout",
     "output_type": "stream",
     "text": [
      "{'a': 1}\n"
     ]
    }
   ],
   "source": [
    "d = {'a':1, 'b':2}\n",
    "\n",
    "del d['b']\n",
    "\n",
    "print(d)"
   ]
  },
  {
   "cell_type": "code",
   "execution_count": 32,
   "metadata": {},
   "outputs": [
    {
     "ename": "KeyError",
     "evalue": "'b'",
     "output_type": "error",
     "traceback": [
      "\u001b[0;31m---------------------------------------------------------------------------\u001b[0m",
      "\u001b[0;31mKeyError\u001b[0m                                  Traceback (most recent call last)",
      "\u001b[0;32m<ipython-input-32-14d28ad6b85d>\u001b[0m in \u001b[0;36m<module>\u001b[0;34m()\u001b[0m\n\u001b[0;32m----> 1\u001b[0;31m \u001b[0;32mdel\u001b[0m \u001b[0md\u001b[0m\u001b[0;34m[\u001b[0m\u001b[0;34m'b'\u001b[0m\u001b[0;34m]\u001b[0m\u001b[0;34m\u001b[0m\u001b[0m\n\u001b[0m",
      "\u001b[0;31mKeyError\u001b[0m: 'b'"
     ]
    }
   ],
   "source": [
    "del d['b']"
   ]
  },
  {
   "cell_type": "markdown",
   "metadata": {},
   "source": [
    "## 예제 6-10 :  부분집합을 슬라이스로 생성"
   ]
  },
  {
   "cell_type": "code",
   "execution_count": 34,
   "metadata": {},
   "outputs": [
    {
     "name": "stdout",
     "output_type": "stream",
     "text": [
      "[1, 2]\n"
     ]
    }
   ],
   "source": [
    "l = [1,2,3,4]\n",
    "\n",
    "lsub = l[0:2]\n",
    "print(lsub)"
   ]
  },
  {
   "cell_type": "code",
   "execution_count": 35,
   "metadata": {},
   "outputs": [
    {
     "name": "stdout",
     "output_type": "stream",
     "text": [
      "[1, 2, 3, 4]\n",
      "[999, 2]\n"
     ]
    }
   ],
   "source": [
    "lsub[0] = 999\n",
    "\n",
    "print(l)\n",
    "print(lsub)"
   ]
  },
  {
   "cell_type": "code",
   "execution_count": 36,
   "metadata": {},
   "outputs": [
    {
     "name": "stdout",
     "output_type": "stream",
     "text": [
      "부분문자열\n",
      "부분문자열 만들기\n"
     ]
    }
   ],
   "source": [
    "s = \"부분문자열 만들기\"\n",
    "\n",
    "ssub = s[0:5]\n",
    "\n",
    "print(ssub)\n",
    "\n",
    "print(s)"
   ]
  },
  {
   "cell_type": "markdown",
   "metadata": {},
   "source": [
    "## 예제 6-11 :  순방향(forward) 인덱스"
   ]
  },
  {
   "cell_type": "code",
   "execution_count": 37,
   "metadata": {},
   "outputs": [
    {
     "name": "stdout",
     "output_type": "stream",
     "text": [
      "앞에서 세개 출력 [1, 2, 3]\n"
     ]
    }
   ],
   "source": [
    "ls = [1,2,3,4,5,6]\n",
    "\n",
    "ls3 = ls[:3] \n",
    "print(\"앞에서 세개 출력\",ls3)"
   ]
  },
  {
   "cell_type": "code",
   "execution_count": 38,
   "metadata": {},
   "outputs": [
    {
     "name": "stdout",
     "output_type": "stream",
     "text": [
      "마지막 세개 출력 [4, 5, 6]\n"
     ]
    }
   ],
   "source": [
    "ls4 = ls[3:] \n",
    "print(\"마지막 세개 출력\",ls4)"
   ]
  },
  {
   "cell_type": "code",
   "execution_count": 40,
   "metadata": {},
   "outputs": [
    {
     "name": "stdout",
     "output_type": "stream",
     "text": [
      "[2, 3, 4, 5, 6]\n"
     ]
    }
   ],
   "source": [
    "ls = [1,2,3,4,5,6]\n",
    "\n",
    "lsn = ls[1:10]\n",
    "print(lsn)"
   ]
  },
  {
   "cell_type": "code",
   "execution_count": 41,
   "metadata": {},
   "outputs": [
    {
     "name": "stdout",
     "output_type": "stream",
     "text": [
      "[1, 2, 3, 4, 5, 6]\n",
      "[1, 2, 3, 4, 5, 6]\n"
     ]
    }
   ],
   "source": [
    "l_all = ls[:]\n",
    "print(l_all)\n",
    "\n",
    "l_s = list(ls)\n",
    "print(l_s)"
   ]
  },
  {
   "cell_type": "code",
   "execution_count": 42,
   "metadata": {},
   "outputs": [
    {
     "name": "stdout",
     "output_type": "stream",
     "text": [
      "[1, 3, 5]\n"
     ]
    }
   ],
   "source": [
    "l_a = ls[::2]\n",
    "\n",
    "print(l_a)"
   ]
  },
  {
   "cell_type": "markdown",
   "metadata": {},
   "source": [
    "## 예제 6-12 :  역방향(backward) 인덱스로 리버스 처리"
   ]
  },
  {
   "cell_type": "code",
   "execution_count": 39,
   "metadata": {},
   "outputs": [
    {
     "name": "stdout",
     "output_type": "stream",
     "text": [
      "리처 스이라슬 로으향방역\n"
     ]
    }
   ],
   "source": [
    "s = \"역방향으로 슬라이스 처리\"\n",
    "\n",
    "ss = s[::-1]\n",
    "print(ss)"
   ]
  },
  {
   "cell_type": "code",
   "execution_count": 43,
   "metadata": {},
   "outputs": [
    {
     "name": "stdout",
     "output_type": "stream",
     "text": [
      " 스이라슬 로으향방역\n"
     ]
    }
   ],
   "source": [
    "ss = s[-3::-1]\n",
    "print(ss)\n"
   ]
  },
  {
   "cell_type": "code",
   "execution_count": 51,
   "metadata": {},
   "outputs": [
    {
     "name": "stdout",
     "output_type": "stream",
     "text": [
      " 스이라슬\n"
     ]
    }
   ],
   "source": [
    "ss = s[-3:-8:-1]\n",
    "print(ss)\n"
   ]
  },
  {
   "cell_type": "code",
   "execution_count": 50,
   "metadata": {},
   "outputs": [
    {
     "name": "stdout",
     "output_type": "stream",
     "text": [
      "슬라이스\n"
     ]
    }
   ],
   "source": [
    "ss = s[-7:-3]\n",
    "print(ss)"
   ]
  },
  {
   "cell_type": "code",
   "execution_count": 44,
   "metadata": {},
   "outputs": [
    {
     "name": "stdout",
     "output_type": "stream",
     "text": [
      " 처리\n"
     ]
    }
   ],
   "source": [
    "ss = s[-3:]\n",
    "print(ss)"
   ]
  },
  {
   "cell_type": "markdown",
   "metadata": {},
   "source": [
    "## 예제 6-13 : 시작과 끝을 명확히 표시해서 처리하기 "
   ]
  },
  {
   "cell_type": "code",
   "execution_count": 57,
   "metadata": {},
   "outputs": [
    {
     "name": "stdout",
     "output_type": "stream",
     "text": [
      "17\n",
      "시작점과 끝점을 명확히 이해하기\n"
     ]
    }
   ],
   "source": [
    "s = \"시작점과 끝점을 명확히 이해하기\"\n",
    "\n",
    "ss = s[0:len(s)]\n",
    "print(len(s))\n",
    "print(ss)"
   ]
  },
  {
   "cell_type": "code",
   "execution_count": 59,
   "metadata": {},
   "outputs": [
    {
     "name": "stdout",
     "output_type": "stream",
     "text": [
      "과 끝점\n"
     ]
    }
   ],
   "source": [
    "s = \"시작점과 끝점을 명확히 이해하기\"\n",
    "\n",
    "ss = s[3:7]\n",
    "print(ss)"
   ]
  },
  {
   "cell_type": "code",
   "execution_count": 60,
   "metadata": {},
   "outputs": [
    {
     "name": "stdout",
     "output_type": "stream",
     "text": [
      "과 끝점을 명확히 이해하기\n"
     ]
    }
   ],
   "source": [
    "s = \"시작점과 끝점을 명확히 이해하기\"\n",
    "\n",
    "ss = s[3:17]\n",
    "print(ss)"
   ]
  },
  {
   "cell_type": "code",
   "execution_count": 62,
   "metadata": {},
   "outputs": [
    {
     "name": "stdout",
     "output_type": "stream",
     "text": [
      "해하기\n"
     ]
    }
   ],
   "source": [
    "s = \"시작점과 끝점을 명확히 이해하기\"\n",
    "\n",
    "ss = s[-3:17]\n",
    "print(ss)"
   ]
  },
  {
   "cell_type": "code",
   "execution_count": 67,
   "metadata": {},
   "outputs": [
    {
     "name": "stdout",
     "output_type": "stream",
     "text": [
      "\n",
      "0\n",
      "해이\n"
     ]
    }
   ],
   "source": [
    "s = \"시작점과 끝점을 명확히 이해하기\"\n",
    "\n",
    "ss = s[-3:-5]\n",
    "print(ss)\n",
    "print(len(ss))\n",
    "\n",
    "ss_r = s[-3:-5:-1]\n",
    "print(ss_r)"
   ]
  },
  {
   "cell_type": "code",
   "execution_count": 66,
   "metadata": {},
   "outputs": [
    {
     "name": "stdout",
     "output_type": "stream",
     "text": [
      "확히 이\n",
      "4\n"
     ]
    }
   ],
   "source": [
    "s = \"시작점과 끝점을 명확히 이해하기\"\n",
    "\n",
    "ss = s[-7:-3]\n",
    "print(ss)\n",
    "print(len(ss))\n"
   ]
  },
  {
   "cell_type": "markdown",
   "metadata": {},
   "source": [
    "## 예제 6-14 :  슬라이스를 지정해서 내부 원소 갱신하기"
   ]
  },
  {
   "cell_type": "code",
   "execution_count": 1,
   "metadata": {},
   "outputs": [
    {
     "name": "stdout",
     "output_type": "stream",
     "text": [
      "[3, 4, 5]\n"
     ]
    }
   ],
   "source": [
    "list1 = [1,2,3,4,5]\n",
    "\n",
    "list_up = list1[2:]\n",
    "\n",
    "print(list_up)\n"
   ]
  },
  {
   "cell_type": "code",
   "execution_count": 2,
   "metadata": {},
   "outputs": [
    {
     "name": "stdout",
     "output_type": "stream",
     "text": [
      "[8, 9, 10, 11, 12, 13]\n",
      "[1, 2, 3, 4, 5]\n"
     ]
    }
   ],
   "source": [
    "list_up[:] = [8,9,10,11,12,13]\n",
    "print(list_up)\n",
    "print(list1)"
   ]
  },
  {
   "cell_type": "code",
   "execution_count": 4,
   "metadata": {},
   "outputs": [
    {
     "name": "stdout",
     "output_type": "stream",
     "text": [
      "[1, 2, 99, 98, 97, 96, 95]\n"
     ]
    }
   ],
   "source": [
    "list2 = [1,2,3,4,5]\n",
    "\n",
    "list2[2:] = [99,98,97,96,95]\n",
    "\n",
    "print(list2)"
   ]
  },
  {
   "cell_type": "code",
   "execution_count": 13,
   "metadata": {},
   "outputs": [
    {
     "name": "stdout",
     "output_type": "stream",
     "text": [
      "[1, 2, 99, 98, 97, 96, 95]\n"
     ]
    }
   ],
   "source": [
    "list3 = [1,2,3,4,5]\n",
    "\n",
    "x = 99\n",
    "for i in range(2,len(list3)+2) :\n",
    "    if i < len(list3) :\n",
    "        list3.pop(i)\n",
    "    list3.insert(i, x)\n",
    "    x -= 1\n",
    "    \n",
    "print(list3)"
   ]
  },
  {
   "cell_type": "code",
   "execution_count": 15,
   "metadata": {},
   "outputs": [
    {
     "name": "stdout",
     "output_type": "stream",
     "text": [
      "[1, 2, 99, 98, 97]\n"
     ]
    }
   ],
   "source": [
    "list4 = [1,2,3,4,5,6,7,8,9,10]\n",
    "\n",
    "list4[2:] = [99,98,97]\n",
    "\n",
    "print(list4)"
   ]
  },
  {
   "cell_type": "markdown",
   "metadata": {},
   "source": [
    "## 예제 6-15 :  특정 문자열을 슬라이스로 처리\n"
   ]
  },
  {
   "cell_type": "code",
   "execution_count": 68,
   "metadata": {},
   "outputs": [
    {
     "name": "stdout",
     "output_type": "stream",
     "text": [
      "특정 문자열을 슬라\n"
     ]
    }
   ],
   "source": [
    "s = \"특정 문자열을 슬라이스로 처리\"\n",
    "\n",
    "s_slice = slice(0,10)\n",
    "print(s[s_slice])"
   ]
  },
  {
   "cell_type": "code",
   "execution_count": 71,
   "metadata": {},
   "outputs": [
    {
     "name": "stdout",
     "output_type": "stream",
     "text": [
      "문성혁\n",
      "아토규브\n",
      "1000000\n"
     ]
    }
   ],
   "source": [
    "s = \"문성혁,아토규브,1000000\"\n",
    "\n",
    "NAME = slice(0,3)\n",
    "COMPANY = slice(4,8)\n",
    "SALARY = slice(9,16)\n",
    "print(s[NAME])\n",
    "print(s[COMPANY])\n",
    "print(s[SALARY])"
   ]
  },
  {
   "cell_type": "markdown",
   "metadata": {},
   "source": [
    "## 예제 6-16 :  지능형 리스트 처리 \n"
   ]
  },
  {
   "cell_type": "code",
   "execution_count": 75,
   "metadata": {},
   "outputs": [
    {
     "name": "stdout",
     "output_type": "stream",
     "text": [
      "[0, 1, 2, 3, 4]\n"
     ]
    }
   ],
   "source": [
    "list2 = []\n",
    "\n",
    "for i in range(5) :\n",
    "    list2.append(i)\n",
    "    \n",
    "print(list2)"
   ]
  },
  {
   "cell_type": "code",
   "execution_count": 79,
   "metadata": {},
   "outputs": [
    {
     "name": "stdout",
     "output_type": "stream",
     "text": [
      "[0, 1, 2, 3, 4]\n"
     ]
    }
   ],
   "source": [
    "list2 = list(map(lambda x : x, range(5)))\n",
    "\n",
    "print(list2)"
   ]
  },
  {
   "cell_type": "code",
   "execution_count": 77,
   "metadata": {},
   "outputs": [
    {
     "name": "stdout",
     "output_type": "stream",
     "text": [
      "[0, 1, 2, 3, 4]\n"
     ]
    }
   ],
   "source": [
    "list3 = [x for x in range(5)]\n",
    "\n",
    "print(list3)"
   ]
  },
  {
   "cell_type": "markdown",
   "metadata": {},
   "source": [
    "## 예제 6-17 :  지능형 리스트 필터 처리 \n"
   ]
  },
  {
   "cell_type": "code",
   "execution_count": 81,
   "metadata": {},
   "outputs": [
    {
     "name": "stdout",
     "output_type": "stream",
     "text": [
      "[1, 3, 5, 7, 9]\n"
     ]
    }
   ],
   "source": [
    "list2 = []\n",
    "\n",
    "for i in range(10) :\n",
    "    if i % 2 == 0 :\n",
    "        continue\n",
    "        \n",
    "    list2.append(i)\n",
    "    \n",
    "print(list2)"
   ]
  },
  {
   "cell_type": "code",
   "execution_count": 87,
   "metadata": {},
   "outputs": [
    {
     "name": "stdout",
     "output_type": "stream",
     "text": [
      "[0, 1, 2, 3, 4, 5, 6, 7, 8, 9]\n",
      "[1, 3, 5, 7, 9]\n"
     ]
    }
   ],
   "source": [
    "print(list(map(lambda x : x, range(10))))\n",
    "      \n",
    "list2 = list(filter(lambda x : x% 2 ==1 , list(map(lambda x : x, range(10)))))\n",
    "\n",
    "print(list2)"
   ]
  },
  {
   "cell_type": "code",
   "execution_count": 82,
   "metadata": {},
   "outputs": [
    {
     "name": "stdout",
     "output_type": "stream",
     "text": [
      "[1, 3, 5, 7, 9]\n"
     ]
    }
   ],
   "source": [
    "list3 = [x for x in range(10) if x % 2 == 1]\n",
    "\n",
    "print(list3)"
   ]
  },
  {
   "cell_type": "markdown",
   "metadata": {},
   "source": [
    "## 예제 6-18 : 지능형 내의 연속적인 순환문 처리\n"
   ]
  },
  {
   "cell_type": "code",
   "execution_count": 91,
   "metadata": {},
   "outputs": [
    {
     "name": "stdout",
     "output_type": "stream",
     "text": [
      "[(0, 0), (0, 1), (0, 2), (1, 0), (1, 1), (1, 2), (2, 0), (2, 1), (2, 2)]\n"
     ]
    }
   ],
   "source": [
    "list5 = [] \n",
    "for x in range(3) :\n",
    "    for y in range(3) :\n",
    "        list5.append((x,y))\n",
    "\n",
    "print(list5)"
   ]
  },
  {
   "cell_type": "code",
   "execution_count": 89,
   "metadata": {},
   "outputs": [
    {
     "name": "stdout",
     "output_type": "stream",
     "text": [
      "[(0, 0), (0, 1), (0, 2), (1, 0), (1, 1), (1, 2), (2, 0), (2, 1), (2, 2)]\n"
     ]
    }
   ],
   "source": [
    "list5 = [(x,y) for x in range(3) for y in range(3)]\n",
    "print(list5)"
   ]
  },
  {
   "cell_type": "code",
   "execution_count": 93,
   "metadata": {},
   "outputs": [
    {
     "name": "stdout",
     "output_type": "stream",
     "text": [
      "[(0, 0, 0),\n",
      " (0, 0, 1),\n",
      " (0, 1, 0),\n",
      " (0, 1, 1),\n",
      " (1, 0, 0),\n",
      " (1, 0, 1),\n",
      " (1, 1, 0),\n",
      " (1, 1, 1)]\n"
     ]
    }
   ],
   "source": [
    "import pprint\n",
    "\n",
    "list6 = [(x,y,z) \n",
    "         for x in range(2) \n",
    "         for y in range(2) \n",
    "         for z in range(2)]\n",
    "\n",
    "pprint.pprint(list6)"
   ]
  },
  {
   "cell_type": "code",
   "execution_count": 98,
   "metadata": {},
   "outputs": [
    {
     "name": "stdout",
     "output_type": "stream",
     "text": [
      "[(0, 0), (0, 2), (0, 4), (2, 0), (2, 2), (2, 4), (4, 0), (4, 2), (4, 4)]\n"
     ]
    }
   ],
   "source": [
    "import pprint\n",
    "\n",
    "list6 = [(x,y) \n",
    "         for x in range(5) if x % 2 ==0\n",
    "         for y in range(5) if y % 2 ==0]\n",
    "\n",
    "pprint.pprint(list6)"
   ]
  },
  {
   "cell_type": "markdown",
   "metadata": {},
   "source": [
    "## 예제 6-19 : 지능형 리스트 내의 내포된 지능형 리스트 처리 \n"
   ]
  },
  {
   "cell_type": "code",
   "execution_count": 16,
   "metadata": {},
   "outputs": [
    {
     "name": "stdout",
     "output_type": "stream",
     "text": [
      "[[0, 1, 2], [0, 1, 2], [0, 1, 2]]\n"
     ]
    }
   ],
   "source": [
    "l = [ [x for x in range(3)] for _ in range(3)]\n",
    "\n",
    "print(l)\n"
   ]
  },
  {
   "cell_type": "code",
   "execution_count": 17,
   "metadata": {},
   "outputs": [
    {
     "name": "stdout",
     "output_type": "stream",
     "text": [
      "85910024\n",
      "85910472\n",
      "85579912\n"
     ]
    }
   ],
   "source": [
    "for i in range(len(l)) :\n",
    "    print(id(l[i]))"
   ]
  },
  {
   "cell_type": "markdown",
   "metadata": {},
   "source": [
    "## 예제 6-20 :  지능형 dict 생성\n"
   ]
  },
  {
   "cell_type": "code",
   "execution_count": 103,
   "metadata": {},
   "outputs": [
    {
     "name": "stdout",
     "output_type": "stream",
     "text": [
      "{'a': 0, 'b': 1, 'c': 2, 'd': 3, 'e': 4}\n"
     ]
    }
   ],
   "source": [
    "s = \"abcde\"\n",
    "\n",
    "d = { x : y for x in s for y in range(5) if y == s.index(x) }\n",
    "print(d)"
   ]
  },
  {
   "cell_type": "code",
   "execution_count": 104,
   "metadata": {},
   "outputs": [
    {
     "name": "stdout",
     "output_type": "stream",
     "text": [
      "{'a': 4, 'b': 4, 'c': 4, 'd': 4, 'e': 4}\n"
     ]
    }
   ],
   "source": [
    "s = \"abcde\"\n",
    "\n",
    "d = { x : y for x in s for y in range(5)}\n",
    "print(d)\n"
   ]
  },
  {
   "cell_type": "code",
   "execution_count": 20,
   "metadata": {},
   "outputs": [
    {
     "name": "stdout",
     "output_type": "stream",
     "text": [
      "{'a': 0, 'b': 1, 'c': 2, 'd': 3, 'e': 4}\n"
     ]
    }
   ],
   "source": [
    "s = \"abcde\"\n",
    "\n",
    "d = { y : x for x,y in enumerate(s)}\n",
    "print(d)\n"
   ]
  },
  {
   "cell_type": "code",
   "execution_count": 119,
   "metadata": {},
   "outputs": [
    {
     "name": "stdout",
     "output_type": "stream",
     "text": [
      "{'a': {0: 0, 1: 1, 2: 2, 3: 3, 4: 4},\n",
      " 'b': {0: 0, 1: 1, 2: 2, 3: 3, 4: 4},\n",
      " 'c': {0: 0, 1: 1, 2: 2, 3: 3, 4: 4},\n",
      " 'd': {0: 0, 1: 1, 2: 2, 3: 3, 4: 4},\n",
      " 'e': {0: 0, 1: 1, 2: 2, 3: 3, 4: 4}}\n"
     ]
    }
   ],
   "source": [
    "import pprint\n",
    "\n",
    "s = \"abcde\"\n",
    "\n",
    "d = { x : { y:z for y,z in enumerate(range(5))} for x in s}\n",
    "\n",
    "pprint.pprint(d)"
   ]
  },
  {
   "cell_type": "markdown",
   "metadata": {},
   "source": [
    "## 예제 6-21 :  지능형 set"
   ]
  },
  {
   "cell_type": "code",
   "execution_count": 107,
   "metadata": {},
   "outputs": [
    {
     "name": "stdout",
     "output_type": "stream",
     "text": [
      "{0, 1, 2, 3, 4, 5, 6, 7, 8, 9}\n",
      "{0, 2, 4, 6, 8}\n"
     ]
    }
   ],
   "source": [
    "s = { x for x in range(10) }\n",
    "print(s)\n",
    "\n",
    "s = { x for x in range(10) if x % 2 == 0}\n",
    "print(s)"
   ]
  },
  {
   "cell_type": "code",
   "execution_count": 127,
   "metadata": {},
   "outputs": [
    {
     "name": "stdout",
     "output_type": "stream",
     "text": [
      "{0, 1, 2, 3, 4}\n",
      "{frozenset(),\n",
      " frozenset({0}),\n",
      " frozenset({0, 1}),\n",
      " frozenset({0, 1, 2}),\n",
      " frozenset({0, 1, 2, 3}),\n",
      " frozenset({0, 1, 2, 3, 4})}\n"
     ]
    }
   ],
   "source": [
    "import pprint\n",
    "\n",
    "z = 5\n",
    "\n",
    "sz = { x for x in range(z)}\n",
    "print(sz)\n",
    "\n",
    "s = { frozenset(x for x in range(y))\n",
    "     for y in range(z+1)}\n",
    "\n",
    "pprint.pprint(s)"
   ]
  },
  {
   "cell_type": "markdown",
   "metadata": {},
   "source": [
    "## 예제 6-22 : 지능형을 혼용해서 사용하기\n"
   ]
  },
  {
   "cell_type": "code",
   "execution_count": 21,
   "metadata": {},
   "outputs": [
    {
     "name": "stdout",
     "output_type": "stream",
     "text": [
      "{'a': [0, 1, 2, 3, 4],\n",
      " 'b': [0, 1, 2, 3, 4],\n",
      " 'c': [0, 1, 2, 3, 4],\n",
      " 'd': [0, 1, 2, 3, 4],\n",
      " 'e': [0, 1, 2, 3, 4]}\n"
     ]
    }
   ],
   "source": [
    "import pprint\n",
    "\n",
    "s = \"abcde\"\n",
    "\n",
    "d = { x : [y for y in range(5)] for x in s}\n",
    "\n",
    "pprint.pprint(d)"
   ]
  },
  {
   "cell_type": "code",
   "execution_count": 26,
   "metadata": {},
   "outputs": [
    {
     "name": "stdout",
     "output_type": "stream",
     "text": [
      "{(0, 1), (), (0,)}\n"
     ]
    }
   ],
   "source": [
    "\n",
    "d = { tuple([y for y in range(x)]) for x in range(3)}\n",
    "\n",
    "print(d)"
   ]
  },
  {
   "cell_type": "markdown",
   "metadata": {},
   "source": [
    "## 예제 6-23 : 지능형 리스트의 지역 네임스페이스 조회"
   ]
  },
  {
   "cell_type": "code",
   "execution_count": 133,
   "metadata": {},
   "outputs": [
    {
     "name": "stdout",
     "output_type": "stream",
     "text": [
      "[{'.0': <range_iterator object at 0x0000000004B34A70>, 'x': 2},\n",
      " {'.0': <range_iterator object at 0x0000000004B34A70>, 'x': 2},\n",
      " {'.0': <range_iterator object at 0x0000000004B34A70>, 'x': 2}]\n"
     ]
    }
   ],
   "source": [
    "import pprint\n",
    "\n",
    "lns = [ locals() for x in range(3) ]\n",
    "\n",
    "pprint.pprint(lns)"
   ]
  },
  {
   "cell_type": "code",
   "execution_count": 135,
   "metadata": {},
   "outputs": [
    {
     "name": "stdout",
     "output_type": "stream",
     "text": [
      "[0, 1, 2]\n"
     ]
    },
    {
     "ename": "NameError",
     "evalue": "name 'xxx' is not defined",
     "output_type": "error",
     "traceback": [
      "\u001b[0;31m---------------------------------------------------------------------------\u001b[0m",
      "\u001b[0;31mNameError\u001b[0m                                 Traceback (most recent call last)",
      "\u001b[0;32m<ipython-input-135-20f6bc4d78e4>\u001b[0m in \u001b[0;36m<module>\u001b[0;34m()\u001b[0m\n\u001b[1;32m      3\u001b[0m \u001b[0mprint\u001b[0m\u001b[1;33m(\u001b[0m\u001b[0mlns\u001b[0m\u001b[1;33m)\u001b[0m\u001b[1;33m\u001b[0m\u001b[0m\n\u001b[1;32m      4\u001b[0m \u001b[1;33m\u001b[0m\u001b[0m\n\u001b[0;32m----> 5\u001b[0;31m \u001b[0mprint\u001b[0m\u001b[1;33m(\u001b[0m\u001b[0mxxx\u001b[0m\u001b[1;33m)\u001b[0m\u001b[1;33m\u001b[0m\u001b[0m\n\u001b[0m",
      "\u001b[0;31mNameError\u001b[0m: name 'xxx' is not defined"
     ]
    }
   ],
   "source": [
    "lns = [ locals()['xxx'] for xxx in range(3) ]\n",
    "\n",
    "print(lns)\n",
    "\n",
    "print(xxx)"
   ]
  },
  {
   "cell_type": "markdown",
   "metadata": {},
   "source": [
    "## 예제 6-24 :  내장 format 함수 기본 알아보기"
   ]
  },
  {
   "cell_type": "code",
   "execution_count": 136,
   "metadata": {},
   "outputs": [
    {
     "name": "stdout",
     "output_type": "stream",
     "text": [
      "Help on built-in function format in module builtins:\n",
      "\n",
      "format(value, format_spec='', /)\n",
      "    Return value.__format__(format_spec)\n",
      "    \n",
      "    format_spec defaults to the empty string\n",
      "\n"
     ]
    }
   ],
   "source": [
    "help(format)"
   ]
  },
  {
   "cell_type": "code",
   "execution_count": 137,
   "metadata": {},
   "outputs": [
    {
     "name": "stdout",
     "output_type": "stream",
     "text": [
      "100.346\n"
     ]
    }
   ],
   "source": [
    "fs = \"4.3f\"\n",
    "value = 100.3456\n",
    "\n",
    "print(format(value, fs))"
   ]
  },
  {
   "cell_type": "markdown",
   "metadata": {},
   "source": [
    "## 예제 6-25 :   문자열 format 메소드 알아보기\n"
   ]
  },
  {
   "cell_type": "code",
   "execution_count": 138,
   "metadata": {},
   "outputs": [
    {
     "name": "stdout",
     "output_type": "stream",
     "text": [
      "Help on method_descriptor:\n",
      "\n",
      "format(...)\n",
      "    S.format(*args, **kwargs) -> str\n",
      "    \n",
      "    Return a formatted version of S, using substitutions from args and kwargs.\n",
      "    The substitutions are identified by braces ('{' and '}').\n",
      "\n"
     ]
    }
   ],
   "source": [
    "help(str.format)"
   ]
  },
  {
   "cell_type": "code",
   "execution_count": 144,
   "metadata": {},
   "outputs": [
    {
     "name": "stdout",
     "output_type": "stream",
     "text": [
      "100.346\n"
     ]
    }
   ],
   "source": [
    "fs = \"{0:4.3f}\"\n",
    "value = 100.3456\n",
    "\n",
    "print(fs.format(value))"
   ]
  },
  {
   "cell_type": "markdown",
   "metadata": {},
   "source": [
    "## 예제 6-26 :   문자열 포매팅 처리"
   ]
  },
  {
   "cell_type": "code",
   "execution_count": 149,
   "metadata": {},
   "outputs": [
    {
     "name": "stdout",
     "output_type": "stream",
     "text": [
      " 이름 :   전민수, 나이:  30 \n"
     ]
    }
   ],
   "source": [
    "fs = \" 이름 : %5s, 나이: %3d \"\n",
    "\n",
    "name = \"전민수\"\n",
    "age  = 30\n",
    "\n",
    "print(fs % (name,age))"
   ]
  },
  {
   "cell_type": "code",
   "execution_count": 151,
   "metadata": {},
   "outputs": [
    {
     "name": "stdout",
     "output_type": "stream",
     "text": [
      " 이름 : 전민수  , 나이:  30 \n"
     ]
    }
   ],
   "source": [
    "fstr = f\" 이름 : {name:5s}, 나이: {age:3d} \"\n",
    "\n",
    "name = \"전민수\"\n",
    "age  = 30\n",
    "\n",
    "print(fstr)"
   ]
  },
  {
   "cell_type": "markdown",
   "metadata": {},
   "source": [
    "## 예제 6-27 : 포맷팅 코드 처리하기 "
   ]
  },
  {
   "cell_type": "code",
   "execution_count": 153,
   "metadata": {},
   "outputs": [
    {
     "name": "stdout",
     "output_type": "stream",
     "text": [
      " 100.220000, 100, 22, 26 , 16 16\n"
     ]
    }
   ],
   "source": [
    "fstr = \" %f, %d, %i, %o , %x %X\"\n",
    "\n",
    "print(fstr % (100.22,100,22, 22,22, 22))"
   ]
  },
  {
   "cell_type": "code",
   "execution_count": 157,
   "metadata": {},
   "outputs": [
    {
     "name": "stdout",
     "output_type": "stream",
     "text": [
      " 100.220000, 22,  26 , 16 16\n"
     ]
    }
   ],
   "source": [
    "fstr = \" {:f}, {:d},  {:o} , {:x} {:X}\"\n",
    "\n",
    "print(fstr.format(100.22,22, 22,22, 22))"
   ]
  },
  {
   "cell_type": "code",
   "execution_count": 162,
   "metadata": {},
   "outputs": [
    {
     "name": "stdout",
     "output_type": "stream",
     "text": [
      " 100.220000, 22,  26 , 16 16\n"
     ]
    }
   ],
   "source": [
    "f0 = 100.22\n",
    "d0 = 22\n",
    "\n",
    "fstr = f\" {f0:f}, {d0:d},  {d0:o} , {d0:x} {d0:X}\"\n",
    "\n",
    "print(fstr)"
   ]
  },
  {
   "cell_type": "markdown",
   "metadata": {},
   "source": [
    "## 예제 6-28 :  포맷팅 코드에서 repr 함수 호출 처리\n"
   ]
  },
  {
   "cell_type": "code",
   "execution_count": 168,
   "metadata": {},
   "outputs": [
    {
     "name": "stdout",
     "output_type": "stream",
     "text": [
      "100, 99.99\n"
     ]
    }
   ],
   "source": [
    "print(\"%r, %r\" % (100, 99.99))"
   ]
  },
  {
   "cell_type": "code",
   "execution_count": 181,
   "metadata": {},
   "outputs": [
    {
     "name": "stdout",
     "output_type": "stream",
     "text": [
      " 100 , 99.99 \n"
     ]
    }
   ],
   "source": [
    "print(\" {!r} , {!r} \".format(100, 99.99))"
   ]
  },
  {
   "cell_type": "code",
   "execution_count": 182,
   "metadata": {},
   "outputs": [
    {
     "name": "stdout",
     "output_type": "stream",
     "text": [
      "<class 'str'> 100, 99.99\n",
      "(100, 99.99)\n"
     ]
    }
   ],
   "source": [
    "a = \"%r, %r\" % (100, 99.99)\n",
    "\n",
    "print(type(a), a)\n",
    "\n",
    "print(eval(a))"
   ]
  },
  {
   "cell_type": "code",
   "execution_count": 178,
   "metadata": {},
   "outputs": [
    {
     "name": "stdout",
     "output_type": "stream",
     "text": [
      "<class 'str'>  100 , 99.99 \n",
      "(100, 99.99)\n"
     ]
    }
   ],
   "source": [
    "a = \" {!r} , {!r} \".format(100, 99.99)\n",
    "\n",
    "print(type(a), a)\n",
    "\n",
    "print(eval(a))"
   ]
  },
  {
   "cell_type": "markdown",
   "metadata": {},
   "source": [
    "## 예제 6-29 :  포맷팅 코드에서 str 함수 호출 처리\n"
   ]
  },
  {
   "cell_type": "code",
   "execution_count": 185,
   "metadata": {},
   "outputs": [
    {
     "name": "stdout",
     "output_type": "stream",
     "text": [
      "<class 'str'> 가을, 동화\n"
     ]
    },
    {
     "ename": "NameError",
     "evalue": "name '가을' is not defined",
     "output_type": "error",
     "traceback": [
      "\u001b[0;31m---------------------------------------------------------------------------\u001b[0m",
      "\u001b[0;31mNameError\u001b[0m                                 Traceback (most recent call last)",
      "\u001b[0;32m<ipython-input-185-18f3731b4be5>\u001b[0m in \u001b[0;36m<module>\u001b[0;34m()\u001b[0m\n\u001b[1;32m      3\u001b[0m \u001b[0mprint\u001b[0m\u001b[1;33m(\u001b[0m\u001b[0mtype\u001b[0m\u001b[1;33m(\u001b[0m\u001b[0ma\u001b[0m\u001b[1;33m)\u001b[0m\u001b[1;33m,\u001b[0m \u001b[0ma\u001b[0m\u001b[1;33m)\u001b[0m\u001b[1;33m\u001b[0m\u001b[0m\n\u001b[1;32m      4\u001b[0m \u001b[1;33m\u001b[0m\u001b[0m\n\u001b[0;32m----> 5\u001b[0;31m \u001b[0mprint\u001b[0m\u001b[1;33m(\u001b[0m\u001b[0meval\u001b[0m\u001b[1;33m(\u001b[0m\u001b[0ma\u001b[0m\u001b[1;33m)\u001b[0m\u001b[1;33m)\u001b[0m\u001b[1;33m\u001b[0m\u001b[0m\n\u001b[0m",
      "\u001b[0;32m<string>\u001b[0m in \u001b[0;36m<module>\u001b[0;34m()\u001b[0m\n",
      "\u001b[0;31mNameError\u001b[0m: name '가을' is not defined"
     ]
    }
   ],
   "source": [
    "a = \"%s, %s\" % (\"가을\", \"동화\")\n",
    "\n",
    "print(type(a), a)\n",
    "\n",
    "print(eval(a))"
   ]
  },
  {
   "cell_type": "code",
   "execution_count": 186,
   "metadata": {},
   "outputs": [
    {
     "name": "stdout",
     "output_type": "stream",
     "text": [
      "<class 'str'> '가을', '동화'\n",
      "('가을', '동화')\n"
     ]
    }
   ],
   "source": [
    "a = \"%r, %r\" % (\"가을\", \"동화\")\n",
    "\n",
    "print(type(a), a)\n",
    "\n",
    "print(eval(a))"
   ]
  },
  {
   "cell_type": "code",
   "execution_count": 189,
   "metadata": {},
   "outputs": [
    {
     "name": "stdout",
     "output_type": "stream",
     "text": [
      "<class 'str'>  100 , 99.99 \n",
      "(100, 99.99)\n"
     ]
    }
   ],
   "source": [
    "a = \" {!s} , {!s} \".format(str(100), str(99.99))\n",
    "\n",
    "print(type(a), a)\n",
    "print(eval(a))"
   ]
  },
  {
   "cell_type": "markdown",
   "metadata": {},
   "source": [
    "## 예제 6-30 :  인자와 포매팅 연결하기 : 위치인자"
   ]
  },
  {
   "cell_type": "code",
   "execution_count": 194,
   "metadata": {},
   "outputs": [
    {
     "name": "stdout",
     "output_type": "stream",
     "text": [
      " 첫번째, 100, 200.333000 \n"
     ]
    }
   ],
   "source": [
    "fstr = \" %s, %d, %f \"\n",
    "\n",
    "print(fstr %  (\"첫번째\",100,200.333))"
   ]
  },
  {
   "cell_type": "code",
   "execution_count": 196,
   "metadata": {},
   "outputs": [
    {
     "name": "stdout",
     "output_type": "stream",
     "text": [
      " 100.220000, 33,  41 , 21 21\n"
     ]
    }
   ],
   "source": [
    "fstr = \" {0:f}, {1:d},  {1:o} , {1:x} {1:X}\"\n",
    "\n",
    "print(fstr.format(100.22,33))"
   ]
  },
  {
   "cell_type": "markdown",
   "metadata": {},
   "source": [
    "## 예제 6-31 :  이름으로 인자 매핑"
   ]
  },
  {
   "cell_type": "code",
   "execution_count": 197,
   "metadata": {},
   "outputs": [
    {
     "name": "stdout",
     "output_type": "stream",
     "text": [
      " 첫번째, 100, 100.000000 \n"
     ]
    }
   ],
   "source": [
    "fdata = {'name': \"첫번째\",\"num\":100}\n",
    "\n",
    "fstr = \" %(name)s, %(num)d, %(num)f \"\n",
    "\n",
    "print(fstr %  (fdata))"
   ]
  },
  {
   "cell_type": "code",
   "execution_count": 200,
   "metadata": {},
   "outputs": [
    {
     "name": "stdout",
     "output_type": "stream",
     "text": [
      " 첫번째, 100, 100.000000 \n"
     ]
    }
   ],
   "source": [
    "fdata = {'name': \"첫번째\",\"num\":100}\n",
    "\n",
    "fstr = \" {name:s}, {num:d}, {num:f} \"\n",
    "\n",
    "print(fstr.format(**fdata))"
   ]
  },
  {
   "cell_type": "code",
   "execution_count": 202,
   "metadata": {},
   "outputs": [
    {
     "name": "stdout",
     "output_type": "stream",
     "text": [
      " 첫번째, 100, 100.000000 \n"
     ]
    }
   ],
   "source": [
    "fdata = {'name': \"첫번째\",\"num\":100}\n",
    "\n",
    "fstr = \" {fdata[name]:s}, {fdata[num]:d}, {fdata[num]:f} \"\n",
    "\n",
    "print(fstr.format(fdata=fdata))"
   ]
  },
  {
   "cell_type": "code",
   "execution_count": 205,
   "metadata": {},
   "outputs": [
    {
     "name": "stdout",
     "output_type": "stream",
     "text": [
      " 정찬혁\n",
      " 임종문\n"
     ]
    }
   ],
   "source": [
    "class Klass :\n",
    "    name = \"임종문\"\n",
    "    def __init__(self,name) :\n",
    "        self.name = name \n",
    "        \n",
    "k = Klass(\"정찬혁\")\n",
    "\n",
    "print(\" {k.name:s}\".format(k = k))\n",
    "print(\" {k.name:s}\".format(k = Klass))"
   ]
  },
  {
   "cell_type": "code",
   "execution_count": 211,
   "metadata": {},
   "outputs": [
    {
     "name": "stdout",
     "output_type": "stream",
     "text": [
      " 정찬혁\n",
      " 임종문\n"
     ]
    }
   ],
   "source": [
    "class Klass :\n",
    "    name = \"임종문\"\n",
    "    def __init__(self,name) :\n",
    "        self.name = name \n",
    "        \n",
    "k = Klass(\"정찬혁\")\n",
    "\n",
    "print(\" %(name)s\" % k.__dict__)\n",
    "print(\" %(name)s\" % Klass.__dict__)"
   ]
  },
  {
   "cell_type": "markdown",
   "metadata": {},
   "source": [
    "## 예제 6-32 : 출력 값들을 정렬하기 \n"
   ]
  },
  {
   "cell_type": "code",
   "execution_count": 214,
   "metadata": {
    "collapsed": true
   },
   "outputs": [],
   "source": [
    "old_fmt = \" %-10s, %10s \"\n",
    "\n",
    "new_fmt = \" {:<10s}, {:>10s}\"\n",
    "\n",
    "f_fmt   = f\" {f_value:<10s}, {f_value:>10s}\"\n",
    "\n",
    "f_value = \"긍정과 비판\"\n"
   ]
  },
  {
   "cell_type": "code",
   "execution_count": 216,
   "metadata": {},
   "outputs": [
    {
     "name": "stdout",
     "output_type": "stream",
     "text": [
      " 긍정과 비판    ,     긍정과 비판 \n"
     ]
    }
   ],
   "source": [
    "print(old_fmt % (f_value,f_value))"
   ]
  },
  {
   "cell_type": "code",
   "execution_count": 217,
   "metadata": {},
   "outputs": [
    {
     "name": "stdout",
     "output_type": "stream",
     "text": [
      " 긍정과 비판    ,     긍정과 비판\n"
     ]
    }
   ],
   "source": [
    "print(new_fmt.format(f_value,f_value))"
   ]
  },
  {
   "cell_type": "code",
   "execution_count": 218,
   "metadata": {},
   "outputs": [
    {
     "name": "stdout",
     "output_type": "stream",
     "text": [
      " 긍정과 비판    ,     긍정과 비판\n"
     ]
    }
   ],
   "source": [
    "print(f_fmt)"
   ]
  },
  {
   "cell_type": "code",
   "execution_count": 232,
   "metadata": {
    "collapsed": true
   },
   "outputs": [],
   "source": [
    "new_fmt = \" {:_<10s}, {:_^10s}, {:_>10s}\"\n",
    "\n",
    "f_fmt   = f\" {f_value:_<10s},{f_value:_^10s}, {f_value:_>10s}\"\n",
    "\n",
    "f_value = \"긍정과 비판\""
   ]
  },
  {
   "cell_type": "code",
   "execution_count": 224,
   "metadata": {},
   "outputs": [
    {
     "name": "stdout",
     "output_type": "stream",
     "text": [
      " 긍정과 비판____, __긍정과 비판__, ____긍정과 비판\n"
     ]
    }
   ],
   "source": [
    "print(new_fmt.format(f_value,f_value,f_value))"
   ]
  },
  {
   "cell_type": "code",
   "execution_count": 228,
   "metadata": {},
   "outputs": [
    {
     "name": "stdout",
     "output_type": "stream",
     "text": [
      " 긍정과 비판____,__긍정과 비판__, ____긍정과 비판\n"
     ]
    }
   ],
   "source": [
    "print(f_fmt)"
   ]
  },
  {
   "cell_type": "markdown",
   "metadata": {},
   "source": [
    "## 예제 6-33 : 포맷팅 형식을  매개변수로 정의하고 키워드 인자로 정의 "
   ]
  },
  {
   "cell_type": "code",
   "execution_count": 236,
   "metadata": {},
   "outputs": [
    {
     "name": "stdout",
     "output_type": "stream",
     "text": [
      "   긍정과 비판  \n"
     ]
    }
   ],
   "source": [
    "new_fmt = \" {:{align}{width}s}\" \n",
    "\n",
    "print(new_fmt.format(f_value,align=\"^\", width=\"10\"))"
   ]
  },
  {
   "cell_type": "code",
   "execution_count": 32,
   "metadata": {},
   "outputs": [
    {
     "ename": "TypeError",
     "evalue": "* wants int",
     "output_type": "error",
     "traceback": [
      "\u001b[0;31m---------------------------------------------------------------------------\u001b[0m",
      "\u001b[0;31mTypeError\u001b[0m                                 Traceback (most recent call last)",
      "\u001b[0;32m<ipython-input-32-3dead3af0b3e>\u001b[0m in \u001b[0;36m<module>\u001b[0;34m()\u001b[0m\n\u001b[0;32m----> 1\u001b[0;31m \u001b[0mprint\u001b[0m\u001b[1;33m(\u001b[0m\u001b[1;34m\" %**s \"\u001b[0m \u001b[1;33m%\u001b[0m \u001b[1;33m(\u001b[0m\u001b[1;34m\"^\"\u001b[0m\u001b[1;33m,\u001b[0m\u001b[1;36m10\u001b[0m\u001b[1;33m,\u001b[0m \u001b[1;34m\"포맷팅\"\u001b[0m\u001b[1;33m)\u001b[0m\u001b[1;33m)\u001b[0m\u001b[1;33m\u001b[0m\u001b[0m\n\u001b[0m",
      "\u001b[0;31mTypeError\u001b[0m: * wants int"
     ]
    }
   ],
   "source": [
    "print(\" %**s \" % (\"^\",10, \"포맷팅\"))"
   ]
  },
  {
   "cell_type": "code",
   "execution_count": 35,
   "metadata": {},
   "outputs": [
    {
     "name": "stdout",
     "output_type": "stream",
     "text": [
      " 포맷팅        \n"
     ]
    }
   ],
   "source": [
    "print(\" %-*s \" % (10, \"포맷팅\"))"
   ]
  },
  {
   "cell_type": "code",
   "execution_count": 247,
   "metadata": {},
   "outputs": [
    {
     "name": "stdout",
     "output_type": "stream",
     "text": [
      " 55.893 \n"
     ]
    }
   ],
   "source": [
    "print(\" %*.*f \" % (5,3, 55.89345))"
   ]
  },
  {
   "cell_type": "code",
   "execution_count": 248,
   "metadata": {},
   "outputs": [
    {
     "name": "stdout",
     "output_type": "stream",
     "text": [
      " 55.893 \n"
     ]
    }
   ],
   "source": [
    "print(\" {:{width}.{prec}f} \".format(55.89345, width=5, prec=3))"
   ]
  },
  {
   "cell_type": "code",
   "execution_count": 36,
   "metadata": {},
   "outputs": [
    {
     "name": "stdout",
     "output_type": "stream",
     "text": [
      " 55.893 \n"
     ]
    }
   ],
   "source": [
    "value = 55.89345\n",
    "width = 5\n",
    "prec  = 3\n",
    "\n",
    "print( f\" {value:{width}.{prec}f} \")"
   ]
  },
  {
   "cell_type": "markdown",
   "metadata": {},
   "source": [
    "## 예제 6-34 :  숫자 정밀도를 문자 포맷팅 \n"
   ]
  },
  {
   "cell_type": "code",
   "execution_count": 238,
   "metadata": {},
   "outputs": [
    {
     "name": "stdout",
     "output_type": "stream",
     "text": [
      "            2000.3333\n"
     ]
    }
   ],
   "source": [
    "old_nfmt = \" %20.4f\"\n",
    "\n",
    "print(old_nfmt % 2000.33333)"
   ]
  },
  {
   "cell_type": "code",
   "execution_count": 240,
   "metadata": {},
   "outputs": [
    {
     "name": "stdout",
     "output_type": "stream",
     "text": [
      "            2000.3333\n"
     ]
    }
   ],
   "source": [
    "new_nfmt = \" {:20.4f}\"\n",
    "\n",
    "print(new_nfmt.format(2000.33333))"
   ]
  },
  {
   "cell_type": "code",
   "execution_count": 245,
   "metadata": {},
   "outputs": [
    {
     "name": "stdout",
     "output_type": "stream",
     "text": [
      "               문자열을 소\n"
     ]
    }
   ],
   "source": [
    "old_nfmt = \" %20.6s\"\n",
    "\n",
    "print(old_nfmt % \"문자열을 소수점이후\")"
   ]
  },
  {
   "cell_type": "code",
   "execution_count": 244,
   "metadata": {},
   "outputs": [
    {
     "name": "stdout",
     "output_type": "stream",
     "text": [
      " 문자열을 소              \n"
     ]
    }
   ],
   "source": [
    "new_nfmt = \" {:20.6s}\"\n",
    "\n",
    "print(new_nfmt.format(\"문자열을 소수점이후\"))"
   ]
  },
  {
   "cell_type": "markdown",
   "metadata": {},
   "source": [
    "## 예제 6-35 :   숫자 꾸미기 \n"
   ]
  },
  {
   "cell_type": "code",
   "execution_count": 249,
   "metadata": {},
   "outputs": [
    {
     "name": "stdout",
     "output_type": "stream",
     "text": [
      " +5, 5, 5 \n",
      " -5, -5, -5 \n"
     ]
    }
   ],
   "source": [
    "old_fmt = \" %+d, %d, %-d \"\n",
    "\n",
    "print(old_fmt % (5,5,5))\n",
    "print(old_fmt % (-5,-5,-5))"
   ]
  },
  {
   "cell_type": "code",
   "execution_count": 252,
   "metadata": {},
   "outputs": [
    {
     "name": "stdout",
     "output_type": "stream",
     "text": [
      " +5, 5, 5 \n",
      " -5, -5, -5 \n"
     ]
    }
   ],
   "source": [
    "new_fmt = \" {:+d}, {:d}, {:-d} \"\n",
    "\n",
    "print(new_fmt.format(5,5,5))\n",
    "print(new_fmt.format(-5,-5,-5))"
   ]
  },
  {
   "cell_type": "code",
   "execution_count": 258,
   "metadata": {},
   "outputs": [
    {
     "name": "stdout",
     "output_type": "stream",
     "text": [
      " 15, 17, f 1111\n",
      " 15, 0o17,  0xf 0b1111\n"
     ]
    }
   ],
   "source": [
    "new_fmt1 = \" {:d}, {:o}, {:x} {:b}\"\n",
    "new_fmt2 = \" {:d}, {:#o},  {:#x} {:#b}\"\n",
    "\n",
    "print(new_fmt1.format(15,15,15,15))\n",
    "print(new_fmt2.format(15,15,15,15))"
   ]
  },
  {
   "cell_type": "code",
   "execution_count": 2,
   "metadata": {},
   "outputs": [
    {
     "name": "stdout",
     "output_type": "stream",
     "text": [
      "0.8636363636363636\n",
      "Correct answers : 86.36%\n",
      "Correct answers : 86.36%\n"
     ]
    }
   ],
   "source": [
    "points =19\n",
    "total =22\n",
    "print(points/total)\n",
    "print('Correct answers : {:.2%}'.format(points/total))\n",
    "print('Correct answers : %2.2f%%' % ((points/total)*100))"
   ]
  },
  {
   "cell_type": "code",
   "execution_count": null,
   "metadata": {
    "collapsed": true
   },
   "outputs": [],
   "source": []
  },
  {
   "cell_type": "code",
   "execution_count": 259,
   "metadata": {},
   "outputs": [
    {
     "name": "stdout",
     "output_type": "stream",
     "text": [
      " 1,234,567,890\n"
     ]
    }
   ],
   "source": [
    "print(\" {:,}\".format(1234567890))"
   ]
  },
  {
   "cell_type": "code",
   "execution_count": 260,
   "metadata": {},
   "outputs": [
    {
     "name": "stdout",
     "output_type": "stream",
     "text": [
      " 1,234,567,890\n"
     ]
    }
   ],
   "source": [
    "value = 1234567890\n",
    "\n",
    "print(f\" {value:,}\")"
   ]
  },
  {
   "cell_type": "markdown",
   "metadata": {},
   "source": [
    "## 예제 6-36 :  날짜를 포맷팅 처리\n"
   ]
  },
  {
   "cell_type": "code",
   "execution_count": 290,
   "metadata": {},
   "outputs": [
    {
     "name": "stdout",
     "output_type": "stream",
     "text": [
      "2017-07-13\n",
      "2017-07-13\n",
      "07/13/17\n",
      "07/13/17\n"
     ]
    }
   ],
   "source": [
    "from datetime import date, datetime\n",
    "\n",
    "print(date.today())\n",
    "print(\"{:%Y-%m-%d}\".format(date.today()))\n",
    "\n",
    "print(\"{:%m/%d/%y}\".format(date.today()))\n",
    "print(\"{:%D}\".format(date.today()))"
   ]
  },
  {
   "cell_type": "code",
   "execution_count": 287,
   "metadata": {},
   "outputs": [
    {
     "name": "stdout",
     "output_type": "stream",
     "text": [
      "2017-07-13 12:37:47.348742\n",
      "July 13 2017 12:37:47 \n"
     ]
    }
   ],
   "source": [
    "from datetime import date, datetime\n",
    "\n",
    "print(datetime.now())\n",
    "print(\"{:%B %d %Y %H:%M:%S }\".format(datetime.now()))"
   ]
  },
  {
   "cell_type": "code",
   "execution_count": 293,
   "metadata": {},
   "outputs": [
    {
     "name": "stdout",
     "output_type": "stream",
     "text": [
      "July 13 2017 12:43:41\n"
     ]
    }
   ],
   "source": [
    "from datetime import date, datetime\n",
    "\n",
    "print(\"{:{yfmt} {sfmt}}\".format(datetime.now(), \n",
    "                                yfmt=\"%B %d %Y\",\n",
    "                                sfmt= \"%H:%M:%S\"))"
   ]
  },
  {
   "cell_type": "code",
   "execution_count": null,
   "metadata": {
    "collapsed": true
   },
   "outputs": [],
   "source": []
  }
 ],
 "metadata": {
  "kernelspec": {
   "display_name": "Python 3",
   "language": "python",
   "name": "python3"
  },
  "language_info": {
   "codemirror_mode": {
    "name": "ipython",
    "version": 3
   },
   "file_extension": ".py",
   "mimetype": "text/x-python",
   "name": "python",
   "nbconvert_exporter": "python",
   "pygments_lexer": "ipython3",
   "version": "3.6.3"
  }
 },
 "nbformat": 4,
 "nbformat_minor": 2
}
