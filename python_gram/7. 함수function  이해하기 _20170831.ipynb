{
 "cells": [
  {
   "cell_type": "markdown",
   "metadata": {},
   "source": [
    "## 예제 7-1 :  함수 정의하는 이유\n"
   ]
  },
  {
   "cell_type": "code",
   "execution_count": 1,
   "metadata": {
    "collapsed": true
   },
   "outputs": [],
   "source": [
    "def func(par1, par2) :\n",
    "    \"\"\" 함수의 도움말 \"\"\"\n",
    "    par2, par1 = par1, par2\n",
    "    return par1, par2"
   ]
  },
  {
   "cell_type": "code",
   "execution_count": 2,
   "metadata": {
    "collapsed": false
   },
   "outputs": [
    {
     "name": "stdout",
     "output_type": "stream",
     "text": [
      "<function func at 0x105895bf8>\n",
      "<class 'function'>\n",
      " 함수의 도움말 \n"
     ]
    }
   ],
   "source": [
    "print(func)\n",
    "print(type(func))\n",
    "print(func.__doc__)"
   ]
  },
  {
   "cell_type": "code",
   "execution_count": 5,
   "metadata": {
    "collapsed": false
   },
   "outputs": [
    {
     "name": "stdout",
     "output_type": "stream",
     "text": [
      "Help on function func in module __main__:\n",
      "\n",
      "func(par1, par2)\n",
      "    함수의 도움말\n",
      "\n"
     ]
    }
   ],
   "source": [
    "help(func)"
   ]
  },
  {
   "cell_type": "markdown",
   "metadata": {},
   "source": [
    "## 예제 7-2 :  함수의 호출\n"
   ]
  },
  {
   "cell_type": "code",
   "execution_count": 7,
   "metadata": {
    "collapsed": false
   },
   "outputs": [
    {
     "ename": "TypeError",
     "evalue": "func() missing 1 required positional argument: 'par2'",
     "output_type": "error",
     "traceback": [
      "\u001b[0;31m---------------------------------------------------------------------------\u001b[0m",
      "\u001b[0;31mTypeError\u001b[0m                                 Traceback (most recent call last)",
      "\u001b[0;32m<ipython-input-7-7be88ad437a7>\u001b[0m in \u001b[0;36m<module>\u001b[0;34m()\u001b[0m\n\u001b[0;32m----> 1\u001b[0;31m \u001b[0mprint\u001b[0m\u001b[0;34m(\u001b[0m\u001b[0mfunc\u001b[0m\u001b[0;34m(\u001b[0m\u001b[0;36m10\u001b[0m\u001b[0;34m)\u001b[0m\u001b[0;34m)\u001b[0m\u001b[0;34m\u001b[0m\u001b[0m\n\u001b[0m",
      "\u001b[0;31mTypeError\u001b[0m: func() missing 1 required positional argument: 'par2'"
     ]
    }
   ],
   "source": [
    "print(func(10))"
   ]
  },
  {
   "cell_type": "code",
   "execution_count": 6,
   "metadata": {
    "collapsed": false
   },
   "outputs": [
    {
     "name": "stdout",
     "output_type": "stream",
     "text": [
      "(20, 10)\n"
     ]
    }
   ],
   "source": [
    "print(func(10,20))"
   ]
  },
  {
   "cell_type": "markdown",
   "metadata": {},
   "source": [
    "## 예제 7-3 :  함수 정의와 호출 순서"
   ]
  },
  {
   "cell_type": "code",
   "execution_count": 8,
   "metadata": {
    "collapsed": false
   },
   "outputs": [
    {
     "ename": "NameError",
     "evalue": "name 'addx' is not defined",
     "output_type": "error",
     "traceback": [
      "\u001b[0;31m---------------------------------------------------------------------------\u001b[0m",
      "\u001b[0;31mNameError\u001b[0m                                 Traceback (most recent call last)",
      "\u001b[0;32m<ipython-input-8-45f42ad991c0>\u001b[0m in \u001b[0;36m<module>\u001b[0;34m()\u001b[0m\n\u001b[0;32m----> 1\u001b[0;31m \u001b[0maddx\u001b[0m\u001b[0;34m(\u001b[0m\u001b[0;36m7\u001b[0m\u001b[0;34m,\u001b[0m\u001b[0;36m3\u001b[0m\u001b[0;34m)\u001b[0m\u001b[0;34m\u001b[0m\u001b[0m\n\u001b[0m\u001b[1;32m      2\u001b[0m \u001b[0;34m\u001b[0m\u001b[0m\n\u001b[1;32m      3\u001b[0m \u001b[0;32mdef\u001b[0m \u001b[0maddx\u001b[0m\u001b[0;34m(\u001b[0m\u001b[0mx\u001b[0m\u001b[0;34m,\u001b[0m\u001b[0my\u001b[0m\u001b[0;34m)\u001b[0m \u001b[0;34m:\u001b[0m\u001b[0;34m\u001b[0m\u001b[0m\n\u001b[1;32m      4\u001b[0m     \u001b[0;32mreturn\u001b[0m \u001b[0mx\u001b[0m\u001b[0;34m+\u001b[0m\u001b[0my\u001b[0m\u001b[0;34m\u001b[0m\u001b[0m\n",
      "\u001b[0;31mNameError\u001b[0m: name 'addx' is not defined"
     ]
    }
   ],
   "source": [
    "addx(7,3)\n",
    "\n",
    "def addx(x,y) :\n",
    "    return x+y"
   ]
  },
  {
   "cell_type": "code",
   "execution_count": 9,
   "metadata": {
    "collapsed": true
   },
   "outputs": [],
   "source": [
    "def addx(x,y) :\n",
    "    print(\" addx call \")\n",
    "    return x+y"
   ]
  },
  {
   "cell_type": "code",
   "execution_count": 10,
   "metadata": {
    "collapsed": false
   },
   "outputs": [
    {
     "name": "stdout",
     "output_type": "stream",
     "text": [
      "<function addx at 0x10598abf8>\n",
      "<function addx at 0x10598abf8>\n",
      "True\n"
     ]
    }
   ],
   "source": [
    "print(globals()[\"addx\"])\n",
    "print(addx)\n",
    "print(globals()[\"addx\"] is addx)\n"
   ]
  },
  {
   "cell_type": "code",
   "execution_count": 12,
   "metadata": {
    "collapsed": false
   },
   "outputs": [
    {
     "name": "stdout",
     "output_type": "stream",
     "text": [
      " addx call \n",
      "110\n"
     ]
    }
   ],
   "source": [
    "print(addx(50,60))\n"
   ]
  },
  {
   "cell_type": "code",
   "execution_count": 11,
   "metadata": {
    "collapsed": false
   },
   "outputs": [
    {
     "name": "stdout",
     "output_type": "stream",
     "text": [
      " addx call \n",
      "50\n"
     ]
    }
   ],
   "source": [
    "print(globals()[\"addx\"](20,30))\n"
   ]
  },
  {
   "cell_type": "markdown",
   "metadata": {},
   "source": [
    "## 예제 7-4 :  함수 파라미터 자료형 제한하기\n"
   ]
  },
  {
   "cell_type": "code",
   "execution_count": 19,
   "metadata": {
    "collapsed": true
   },
   "outputs": [],
   "source": [
    "def generic_add(x,y) :\n",
    "    return x+y\n"
   ]
  },
  {
   "cell_type": "code",
   "execution_count": 20,
   "metadata": {
    "collapsed": false
   },
   "outputs": [
    {
     "name": "stdout",
     "output_type": "stream",
     "text": [
      "10\n",
      "HelloWorld\n"
     ]
    }
   ],
   "source": [
    "print(generic_add(5,5))\n",
    "print(generic_add(\"Hello\",\"World\"))"
   ]
  },
  {
   "cell_type": "code",
   "execution_count": 21,
   "metadata": {
    "collapsed": false
   },
   "outputs": [
    {
     "ename": "TypeError",
     "evalue": "unsupported operand type(s) for +: 'dict' and 'dict'",
     "output_type": "error",
     "traceback": [
      "\u001b[0;31m---------------------------------------------------------------------------\u001b[0m",
      "\u001b[0;31mTypeError\u001b[0m                                 Traceback (most recent call last)",
      "\u001b[0;32m<ipython-input-21-3bb874cb04c6>\u001b[0m in \u001b[0;36m<module>\u001b[0;34m()\u001b[0m\n\u001b[0;32m----> 1\u001b[0;31m \u001b[0mprint\u001b[0m\u001b[0;34m(\u001b[0m\u001b[0mgeneric_add\u001b[0m\u001b[0;34m(\u001b[0m\u001b[0;34m{\u001b[0m\u001b[0;34m'a'\u001b[0m\u001b[0;34m:\u001b[0m\u001b[0;36m5\u001b[0m\u001b[0;34m}\u001b[0m\u001b[0;34m,\u001b[0m \u001b[0;34m{\u001b[0m\u001b[0;34m'b'\u001b[0m\u001b[0;34m:\u001b[0m\u001b[0;36m5\u001b[0m\u001b[0;34m}\u001b[0m\u001b[0;34m)\u001b[0m\u001b[0;34m)\u001b[0m\u001b[0;34m\u001b[0m\u001b[0m\n\u001b[0m",
      "\u001b[0;32m<ipython-input-19-9dd074ecba0b>\u001b[0m in \u001b[0;36mgeneric_add\u001b[0;34m(x, y)\u001b[0m\n\u001b[1;32m      1\u001b[0m \u001b[0;32mdef\u001b[0m \u001b[0mgeneric_add\u001b[0m\u001b[0;34m(\u001b[0m\u001b[0mx\u001b[0m\u001b[0;34m,\u001b[0m\u001b[0my\u001b[0m\u001b[0;34m)\u001b[0m \u001b[0;34m:\u001b[0m\u001b[0;34m\u001b[0m\u001b[0m\n\u001b[0;32m----> 2\u001b[0;31m     \u001b[0;32mreturn\u001b[0m \u001b[0mx\u001b[0m\u001b[0;34m+\u001b[0m\u001b[0my\u001b[0m\u001b[0;34m\u001b[0m\u001b[0m\n\u001b[0m",
      "\u001b[0;31mTypeError\u001b[0m: unsupported operand type(s) for +: 'dict' and 'dict'"
     ]
    }
   ],
   "source": [
    "print(generic_add({'a':5}, {'b':5}))"
   ]
  },
  {
   "cell_type": "code",
   "execution_count": 18,
   "metadata": {
    "collapsed": true
   },
   "outputs": [],
   "source": [
    "def add(x,y) :\n",
    "    if not isinstance(x,int) :\n",
    "        raise ValueError(\" x is not integer \")\n",
    "    if not isinstance(y,int) :\n",
    "        raise ValueError(\" y is not integer \")\n",
    "        \n",
    "    return x+y\n"
   ]
  },
  {
   "cell_type": "code",
   "execution_count": 19,
   "metadata": {
    "collapsed": false
   },
   "outputs": [
    {
     "ename": "ValueError",
     "evalue": " x is not integer ",
     "output_type": "error",
     "traceback": [
      "\u001b[0;31m---------------------------------------------------------------------------\u001b[0m",
      "\u001b[0;31mValueError\u001b[0m                                Traceback (most recent call last)",
      "\u001b[0;32m<ipython-input-19-c7b8d28eb680>\u001b[0m in \u001b[0;36m<module>\u001b[0;34m()\u001b[0m\n\u001b[0;32m----> 1\u001b[0;31m \u001b[0madd\u001b[0m\u001b[1;33m(\u001b[0m\u001b[1;36m11.1\u001b[0m\u001b[1;33m,\u001b[0m \u001b[1;36m10\u001b[0m\u001b[1;33m)\u001b[0m\u001b[1;33m\u001b[0m\u001b[0m\n\u001b[0m",
      "\u001b[0;32m<ipython-input-18-946f74918e85>\u001b[0m in \u001b[0;36madd\u001b[0;34m(x, y)\u001b[0m\n\u001b[1;32m      1\u001b[0m \u001b[1;32mdef\u001b[0m \u001b[0madd\u001b[0m\u001b[1;33m(\u001b[0m\u001b[0mx\u001b[0m\u001b[1;33m,\u001b[0m\u001b[0my\u001b[0m\u001b[1;33m)\u001b[0m \u001b[1;33m:\u001b[0m\u001b[1;33m\u001b[0m\u001b[0m\n\u001b[1;32m      2\u001b[0m     \u001b[1;32mif\u001b[0m \u001b[1;32mnot\u001b[0m \u001b[0misinstance\u001b[0m\u001b[1;33m(\u001b[0m\u001b[0mx\u001b[0m\u001b[1;33m,\u001b[0m\u001b[0mint\u001b[0m\u001b[1;33m)\u001b[0m \u001b[1;33m:\u001b[0m\u001b[1;33m\u001b[0m\u001b[0m\n\u001b[0;32m----> 3\u001b[0;31m         \u001b[1;32mraise\u001b[0m \u001b[0mValueError\u001b[0m\u001b[1;33m(\u001b[0m\u001b[1;34m\" x is not integer \"\u001b[0m\u001b[1;33m)\u001b[0m\u001b[1;33m\u001b[0m\u001b[0m\n\u001b[0m\u001b[1;32m      4\u001b[0m     \u001b[1;32mif\u001b[0m \u001b[1;32mnot\u001b[0m \u001b[0misinstance\u001b[0m\u001b[1;33m(\u001b[0m\u001b[0my\u001b[0m\u001b[1;33m,\u001b[0m\u001b[0mint\u001b[0m\u001b[1;33m)\u001b[0m \u001b[1;33m:\u001b[0m\u001b[1;33m\u001b[0m\u001b[0m\n\u001b[1;32m      5\u001b[0m         \u001b[1;32mraise\u001b[0m \u001b[0mValueError\u001b[0m\u001b[1;33m(\u001b[0m\u001b[1;34m\" y is not integer \"\u001b[0m\u001b[1;33m)\u001b[0m\u001b[1;33m\u001b[0m\u001b[0m\n",
      "\u001b[0;31mValueError\u001b[0m:  x is not integer "
     ]
    }
   ],
   "source": [
    "add(11.1, 10)"
   ]
  },
  {
   "cell_type": "code",
   "execution_count": 21,
   "metadata": {
    "collapsed": false
   },
   "outputs": [
    {
     "ename": "ValueError",
     "evalue": " y is not integer ",
     "output_type": "error",
     "traceback": [
      "\u001b[0;31m---------------------------------------------------------------------------\u001b[0m",
      "\u001b[0;31mValueError\u001b[0m                                Traceback (most recent call last)",
      "\u001b[0;32m<ipython-input-21-ecb6909acf54>\u001b[0m in \u001b[0;36m<module>\u001b[0;34m()\u001b[0m\n\u001b[0;32m----> 1\u001b[0;31m \u001b[0madd\u001b[0m\u001b[1;33m(\u001b[0m\u001b[1;36m10\u001b[0m\u001b[1;33m,\u001b[0m\u001b[1;36m11.1\u001b[0m\u001b[1;33m)\u001b[0m\u001b[1;33m\u001b[0m\u001b[0m\n\u001b[0m",
      "\u001b[0;32m<ipython-input-18-946f74918e85>\u001b[0m in \u001b[0;36madd\u001b[0;34m(x, y)\u001b[0m\n\u001b[1;32m      3\u001b[0m         \u001b[1;32mraise\u001b[0m \u001b[0mValueError\u001b[0m\u001b[1;33m(\u001b[0m\u001b[1;34m\" x is not integer \"\u001b[0m\u001b[1;33m)\u001b[0m\u001b[1;33m\u001b[0m\u001b[0m\n\u001b[1;32m      4\u001b[0m     \u001b[1;32mif\u001b[0m \u001b[1;32mnot\u001b[0m \u001b[0misinstance\u001b[0m\u001b[1;33m(\u001b[0m\u001b[0my\u001b[0m\u001b[1;33m,\u001b[0m\u001b[0mint\u001b[0m\u001b[1;33m)\u001b[0m \u001b[1;33m:\u001b[0m\u001b[1;33m\u001b[0m\u001b[0m\n\u001b[0;32m----> 5\u001b[0;31m         \u001b[1;32mraise\u001b[0m \u001b[0mValueError\u001b[0m\u001b[1;33m(\u001b[0m\u001b[1;34m\" y is not integer \"\u001b[0m\u001b[1;33m)\u001b[0m\u001b[1;33m\u001b[0m\u001b[0m\n\u001b[0m\u001b[1;32m      6\u001b[0m \u001b[1;33m\u001b[0m\u001b[0m\n\u001b[1;32m      7\u001b[0m     \u001b[1;32mreturn\u001b[0m \u001b[0mx\u001b[0m\u001b[1;33m+\u001b[0m\u001b[0my\u001b[0m\u001b[1;33m\u001b[0m\u001b[0m\n",
      "\u001b[0;31mValueError\u001b[0m:  y is not integer "
     ]
    }
   ],
   "source": [
    "add(10,11.1)"
   ]
  },
  {
   "cell_type": "code",
   "execution_count": 22,
   "metadata": {
    "collapsed": false
   },
   "outputs": [
    {
     "data": {
      "text/plain": [
       "20"
      ]
     },
     "execution_count": 22,
     "metadata": {},
     "output_type": "execute_result"
    }
   ],
   "source": [
    "add(10,10)"
   ]
  },
  {
   "cell_type": "markdown",
   "metadata": {},
   "source": [
    "## 예제 7-5 :  함수 호출 연산자\n"
   ]
  },
  {
   "cell_type": "code",
   "execution_count": 23,
   "metadata": {
    "collapsed": false
   },
   "outputs": [
    {
     "name": "stdout",
     "output_type": "stream",
     "text": [
      "<function mul at 0x0000000004DA5598>\n"
     ]
    }
   ],
   "source": [
    "def mul(x,y) :\n",
    "    return x*y\n",
    "\n",
    "print(mul)"
   ]
  },
  {
   "cell_type": "code",
   "execution_count": 24,
   "metadata": {
    "collapsed": false
   },
   "outputs": [
    {
     "name": "stdout",
     "output_type": "stream",
     "text": [
      "True\n"
     ]
    }
   ],
   "source": [
    "print(callable(mul))"
   ]
  },
  {
   "cell_type": "code",
   "execution_count": 25,
   "metadata": {
    "collapsed": false
   },
   "outputs": [
    {
     "name": "stdout",
     "output_type": "stream",
     "text": [
      "100\n"
     ]
    }
   ],
   "source": [
    "print(mul(10,10))"
   ]
  },
  {
   "cell_type": "code",
   "execution_count": 27,
   "metadata": {
    "collapsed": false
   },
   "outputs": [
    {
     "name": "stdout",
     "output_type": "stream",
     "text": [
      "<method-wrapper '__call__' of function object at 0x0000000004DA5598>\n",
      "100\n"
     ]
    }
   ],
   "source": [
    "print(mul.__call__)\n",
    "print(mul.__call__(10,10))"
   ]
  },
  {
   "cell_type": "markdown",
   "metadata": {},
   "source": [
    "## 예제 7-6 :  함수 호출 바인딩 절차\n"
   ]
  },
  {
   "cell_type": "code",
   "execution_count": 23,
   "metadata": {
    "collapsed": false
   },
   "outputs": [
    {
     "name": "stdout",
     "output_type": "stream",
     "text": [
      "<class 'function'>\n",
      "<class 'function'>\n"
     ]
    }
   ],
   "source": [
    "def sub(x,y) :\n",
    "    return x-y\n",
    "\n",
    "print(type(sub))\n",
    "print(sub.__class__)"
   ]
  },
  {
   "cell_type": "code",
   "execution_count": 24,
   "metadata": {
    "collapsed": false
   },
   "outputs": [
    {
     "name": "stdout",
     "output_type": "stream",
     "text": [
      "<slot wrapper '__call__' of 'function' objects>\n",
      "<method-wrapper '__call__' of function object at 0x10598a840>\n"
     ]
    }
   ],
   "source": [
    "print(sub.__class__.__call__)\n",
    "print(sub.__call__)\n"
   ]
  },
  {
   "cell_type": "code",
   "execution_count": 25,
   "metadata": {
    "collapsed": false
   },
   "outputs": [
    {
     "name": "stdout",
     "output_type": "stream",
     "text": [
      "0\n",
      "0\n"
     ]
    }
   ],
   "source": [
    "print(sub.__class__.__call__(sub,10,10))\n",
    "print(sub.__call__(10,10))"
   ]
  },
  {
   "cell_type": "markdown",
   "metadata": {},
   "source": [
    "## 예제 7-7 :  함수는 반환 처리  \n"
   ]
  },
  {
   "cell_type": "code",
   "execution_count": 26,
   "metadata": {
    "collapsed": false
   },
   "outputs": [
    {
     "name": "stdout",
     "output_type": "stream",
     "text": [
      " return 문이 없을 때 \n",
      "None\n"
     ]
    }
   ],
   "source": [
    "def none_return(x) :\n",
    "    print(x)\n",
    "    \n",
    "a = none_return(\" return 문이 없을 때 \")\n",
    "print(a)"
   ]
  },
  {
   "cell_type": "code",
   "execution_count": 27,
   "metadata": {
    "collapsed": false
   },
   "outputs": [
    {
     "name": "stdout",
     "output_type": "stream",
     "text": [
      " return 문이 있을 때 \n"
     ]
    }
   ],
   "source": [
    "def return_(x) :\n",
    "    return x\n",
    "\n",
    "a = return_(\" return 문이 있을 때 \")\n",
    "print(a)"
   ]
  },
  {
   "cell_type": "markdown",
   "metadata": {},
   "source": [
    "## 예제 7-8 :  함수의 반환을 여러 개가 필요한 경우\n"
   ]
  },
  {
   "cell_type": "code",
   "execution_count": 41,
   "metadata": {
    "collapsed": false
   },
   "outputs": [
    {
     "name": "stdout",
     "output_type": "stream",
     "text": [
      "<class 'tuple'> (10, 20, 30)\n"
     ]
    }
   ],
   "source": [
    "def func_tuple(x,y,z) :\n",
    "    return x,y,z\n",
    "\n",
    "a = func_tuple(10,20,30)\n",
    "print(type(a), a)"
   ]
  },
  {
   "cell_type": "code",
   "execution_count": 42,
   "metadata": {
    "collapsed": false
   },
   "outputs": [
    {
     "name": "stdout",
     "output_type": "stream",
     "text": [
      "<class 'dict'> {'z': 30, 'y': 20, 'x': 10}\n"
     ]
    }
   ],
   "source": [
    "def func_dict(x,y,z) :\n",
    "    return locals()\n",
    "\n",
    "a = func_dict(10,20,30)\n",
    "print(type(a), a)"
   ]
  },
  {
   "cell_type": "markdown",
   "metadata": {},
   "source": [
    "## 예제 7-9 :  함수의 기본 속성을 확인해 보기"
   ]
  },
  {
   "cell_type": "code",
   "execution_count": 29,
   "metadata": {
    "collapsed": true
   },
   "outputs": [],
   "source": [
    "def div(x:int=100,*, y:int=100) -> float:\n",
    "    return x/y"
   ]
  },
  {
   "cell_type": "code",
   "execution_count": 32,
   "metadata": {
    "collapsed": false
   },
   "outputs": [
    {
     "name": "stdout",
     "output_type": "stream",
     "text": [
      "{'__annotations__',\n",
      " '__call__',\n",
      " '__closure__',\n",
      " '__code__',\n",
      " '__defaults__',\n",
      " '__dict__',\n",
      " '__get__',\n",
      " '__globals__',\n",
      " '__kwdefaults__',\n",
      " '__module__',\n",
      " '__name__',\n",
      " '__qualname__'}\n"
     ]
    }
   ],
   "source": [
    "import pprint\n",
    "\n",
    "s = set(dir(div))\n",
    "o = set(dir(object))\n",
    "\n",
    "pprint.pprint(s-o)"
   ]
  },
  {
   "cell_type": "code",
   "execution_count": 33,
   "metadata": {
    "collapsed": false
   },
   "outputs": [
    {
     "name": "stdout",
     "output_type": "stream",
     "text": [
      "div\n",
      "div\n",
      "__main__\n"
     ]
    }
   ],
   "source": [
    "print(div.__name__)\n",
    "print(div.__qualname__)\n",
    "print(div.__module__)\n"
   ]
  },
  {
   "cell_type": "code",
   "execution_count": 34,
   "metadata": {
    "collapsed": false
   },
   "outputs": [
    {
     "name": "stdout",
     "output_type": "stream",
     "text": [
      "{'x': <class 'int'>, 'y': <class 'int'>, 'return': <class 'float'>}\n",
      "(100,)\n",
      "{'y': 100}\n"
     ]
    }
   ],
   "source": [
    "print(div.__annotations__)\n",
    "print(div.__defaults__)\n",
    "print(div.__kwdefaults__)"
   ]
  },
  {
   "cell_type": "code",
   "execution_count": 31,
   "metadata": {
    "collapsed": false
   },
   "outputs": [
    {
     "name": "stdout",
     "output_type": "stream",
     "text": [
      "1.0\n"
     ]
    }
   ],
   "source": [
    "print(div())"
   ]
  },
  {
   "cell_type": "markdown",
   "metadata": {},
   "source": [
    "## 예제 7-10 :  함수에 대한 사용자 객체속성 추가\n"
   ]
  },
  {
   "cell_type": "code",
   "execution_count": 35,
   "metadata": {
    "collapsed": true
   },
   "outputs": [],
   "source": [
    "def func_state(x,y) :\n",
    "    func_state.count += 1\n",
    "    return x+y\n"
   ]
  },
  {
   "cell_type": "code",
   "execution_count": 36,
   "metadata": {
    "collapsed": false
   },
   "outputs": [
    {
     "name": "stdout",
     "output_type": "stream",
     "text": [
      "{}\n"
     ]
    }
   ],
   "source": [
    "print(func_state.__dict__)"
   ]
  },
  {
   "cell_type": "code",
   "execution_count": 37,
   "metadata": {
    "collapsed": false
   },
   "outputs": [
    {
     "name": "stdout",
     "output_type": "stream",
     "text": [
      "{'count': 0}\n",
      "20\n",
      "20\n",
      "20\n",
      "{'count': 3}\n"
     ]
    }
   ],
   "source": [
    "func_state.count = 0\n",
    "\n",
    "print(func_state.__dict__)\n",
    "print(func_state(10,10))\n",
    "print(func_state(10,10))\n",
    "print(func_state(10,10))\n",
    "print(func_state.__dict__)"
   ]
  },
  {
   "cell_type": "markdown",
   "metadata": {},
   "source": [
    "## 예제 7-11 :  함수 인스턴스 내에 함수를 속성에 할당하기 "
   ]
  },
  {
   "cell_type": "code",
   "execution_count": 38,
   "metadata": {
    "collapsed": true
   },
   "outputs": [],
   "source": [
    "def func_func(x,y) :\n",
    "    \n",
    "    return func_func.func(x,y)\n"
   ]
  },
  {
   "cell_type": "code",
   "execution_count": 40,
   "metadata": {
    "collapsed": false
   },
   "outputs": [
    {
     "name": "stdout",
     "output_type": "stream",
     "text": [
      "{}\n"
     ]
    }
   ],
   "source": [
    "print(func_func.__dict__)\n"
   ]
  },
  {
   "cell_type": "code",
   "execution_count": 41,
   "metadata": {
    "collapsed": false
   },
   "outputs": [
    {
     "name": "stdout",
     "output_type": "stream",
     "text": [
      "{'func': <function add at 0x10599a488>}\n"
     ]
    }
   ],
   "source": [
    "def add(x,y) :\n",
    "    return x+y\n",
    "\n",
    "func_func.func = add\n",
    "print(func_func.__dict__)"
   ]
  },
  {
   "cell_type": "code",
   "execution_count": 42,
   "metadata": {
    "collapsed": false
   },
   "outputs": [
    {
     "name": "stdout",
     "output_type": "stream",
     "text": [
      "10\n"
     ]
    }
   ],
   "source": [
    "print(func_func(5,5))"
   ]
  },
  {
   "cell_type": "markdown",
   "metadata": {},
   "source": [
    "## 예제 7-12 : 모듈은 전역, 함수는 지역로 인식"
   ]
  },
  {
   "cell_type": "code",
   "execution_count": 2,
   "metadata": {
    "collapsed": false
   },
   "outputs": [
    {
     "name": "stdout",
     "output_type": "stream",
     "text": [
      "Writing glb_loc1.py\n"
     ]
    }
   ],
   "source": [
    "%%writefile glb_loc1.py\n",
    "\n",
    "glb_var = 100\n",
    "\n",
    "def add(x,y) :\n",
    "    print(locals())\n",
    "    print(\"globals \",add.__globals__[\"glb_var\"])\n",
    "    return x+y\n",
    "\n",
    "print(add.__module__)\n",
    "print(add.__globals__[\"add\"])"
   ]
  },
  {
   "cell_type": "code",
   "execution_count": 3,
   "metadata": {
    "collapsed": false
   },
   "outputs": [
    {
     "name": "stdout",
     "output_type": "stream",
     "text": [
      "glb_loc1\n",
      "<function add at 0x10d81af28>\n",
      "<module 'glb_loc1' from '/Users/dahlmoon/Documents/GitHub/python_book/python_gram/glb_loc1.py'>\n"
     ]
    }
   ],
   "source": [
    "import glb_loc1\n",
    "\n",
    "print(globals()[\"glb_loc1\"])"
   ]
  },
  {
   "cell_type": "code",
   "execution_count": 47,
   "metadata": {
    "collapsed": false
   },
   "outputs": [
    {
     "name": "stdout",
     "output_type": "stream",
     "text": [
      "{'y': 20, 'x': 10}\n",
      "globals  100\n",
      "30\n"
     ]
    }
   ],
   "source": [
    "import glb_loc1\n",
    "\n",
    "print(glb_loc1.add(10,20))\n"
   ]
  },
  {
   "cell_type": "markdown",
   "metadata": {},
   "source": [
    "## 예제 7-13 : 함수 별로 지역 네임스페이스 처리 \n"
   ]
  },
  {
   "cell_type": "code",
   "execution_count": 4,
   "metadata": {
    "collapsed": true
   },
   "outputs": [],
   "source": [
    "def func_1(x,y) :\n",
    "    print(locals())\n",
    "    \n",
    "def func_2(x,y) :\n",
    "    print(locals())\n"
   ]
  },
  {
   "cell_type": "code",
   "execution_count": 5,
   "metadata": {
    "collapsed": false
   },
   "outputs": [
    {
     "name": "stdout",
     "output_type": "stream",
     "text": [
      "{'y': 100, 'x': 100}\n",
      "{'y': 150, 'x': 150}\n"
     ]
    }
   ],
   "source": [
    "func_1(100,100)\n",
    "func_2(150,150)"
   ]
  },
  {
   "cell_type": "markdown",
   "metadata": {},
   "source": [
    "## 예제 7-14 : 자동으로 전역 변수 접근\n"
   ]
  },
  {
   "cell_type": "code",
   "execution_count": 6,
   "metadata": {
    "collapsed": true
   },
   "outputs": [],
   "source": [
    "def func_1(x,y) :\n",
    "    print(locals())\n",
    "    print(\"func_1 z \",z)\n",
    "    \n",
    "def func_2(x,y) :\n",
    "    print(locals())\n",
    "    print(\"func_2 z \",z)\n"
   ]
  },
  {
   "cell_type": "code",
   "execution_count": 7,
   "metadata": {
    "collapsed": false
   },
   "outputs": [
    {
     "name": "stdout",
     "output_type": "stream",
     "text": [
      "{'y': 100, 'x': 100}\n",
      "func_1 z  9999\n",
      "{'y': 150, 'x': 150}\n",
      "func_2 z  9999\n"
     ]
    }
   ],
   "source": [
    "z = 9999\n",
    "func_1(100,100)\n",
    "func_2(150,150)"
   ]
  },
  {
   "cell_type": "code",
   "execution_count": 109,
   "metadata": {
    "collapsed": false
   },
   "outputs": [
    {
     "name": "stdout",
     "output_type": "stream",
     "text": [
      "9999\n",
      "<function func_1 at 0x0000000004E388C8>\n",
      "<function func_2 at 0x0000000002603E18>\n"
     ]
    }
   ],
   "source": [
    "print(globals()[\"z\"])\n",
    "print(globals()[\"func_1\"])\n",
    "print(globals()[\"func_2\"])"
   ]
  },
  {
   "cell_type": "markdown",
   "metadata": {},
   "source": [
    "## 예제 7-15 :  global 키워드로 글로벌 변수 명기하기 \n"
   ]
  },
  {
   "cell_type": "code",
   "execution_count": 8,
   "metadata": {
    "collapsed": false
   },
   "outputs": [
    {
     "name": "stdout",
     "output_type": "stream",
     "text": [
      "8888\n",
      "8898\n",
      "8888\n"
     ]
    }
   ],
   "source": [
    "glb_var = 8888\n",
    "\n",
    "def add(y) :\n",
    "    global glb_var\n",
    "    x = glb_var + y\n",
    "    return x\n",
    "\n",
    "print(glb_var)\n",
    "print(add(10))\n",
    "print(glb_var)"
   ]
  },
  {
   "cell_type": "code",
   "execution_count": 9,
   "metadata": {
    "collapsed": false
   },
   "outputs": [
    {
     "name": "stdout",
     "output_type": "stream",
     "text": [
      "8888\n"
     ]
    },
    {
     "ename": "UnboundLocalError",
     "evalue": "local variable 'glb_var' referenced before assignment",
     "output_type": "error",
     "traceback": [
      "\u001b[0;31m---------------------------------------------------------------------------\u001b[0m",
      "\u001b[0;31mUnboundLocalError\u001b[0m                         Traceback (most recent call last)",
      "\u001b[0;32m<ipython-input-9-62df210bc464>\u001b[0m in \u001b[0;36m<module>\u001b[0;34m()\u001b[0m\n\u001b[1;32m      7\u001b[0m \u001b[0;34m\u001b[0m\u001b[0m\n\u001b[1;32m      8\u001b[0m \u001b[0mprint\u001b[0m\u001b[0;34m(\u001b[0m\u001b[0mglb_var\u001b[0m\u001b[0;34m)\u001b[0m\u001b[0;34m\u001b[0m\u001b[0m\n\u001b[0;32m----> 9\u001b[0;31m \u001b[0mprint\u001b[0m\u001b[0;34m(\u001b[0m\u001b[0madd\u001b[0m\u001b[0;34m(\u001b[0m\u001b[0;36m10\u001b[0m\u001b[0;34m)\u001b[0m\u001b[0;34m)\u001b[0m\u001b[0;34m\u001b[0m\u001b[0m\n\u001b[0m\u001b[1;32m     10\u001b[0m \u001b[0mprint\u001b[0m\u001b[0;34m(\u001b[0m\u001b[0mglb_var\u001b[0m\u001b[0;34m)\u001b[0m\u001b[0;34m\u001b[0m\u001b[0m\n",
      "\u001b[0;32m<ipython-input-9-62df210bc464>\u001b[0m in \u001b[0;36madd\u001b[0;34m(y)\u001b[0m\n\u001b[1;32m      3\u001b[0m \u001b[0;32mdef\u001b[0m \u001b[0madd\u001b[0m\u001b[0;34m(\u001b[0m\u001b[0my\u001b[0m\u001b[0;34m)\u001b[0m \u001b[0;34m:\u001b[0m\u001b[0;34m\u001b[0m\u001b[0m\n\u001b[1;32m      4\u001b[0m     \u001b[0;31m#global glb_var\u001b[0m\u001b[0;34m\u001b[0m\u001b[0;34m\u001b[0m\u001b[0m\n\u001b[0;32m----> 5\u001b[0;31m     \u001b[0mglb_var\u001b[0m \u001b[0;34m=\u001b[0m \u001b[0mglb_var\u001b[0m \u001b[0;34m+\u001b[0m \u001b[0my\u001b[0m\u001b[0;34m\u001b[0m\u001b[0m\n\u001b[0m\u001b[1;32m      6\u001b[0m     \u001b[0;32mreturn\u001b[0m \u001b[0mx\u001b[0m\u001b[0;34m\u001b[0m\u001b[0m\n\u001b[1;32m      7\u001b[0m \u001b[0;34m\u001b[0m\u001b[0m\n",
      "\u001b[0;31mUnboundLocalError\u001b[0m: local variable 'glb_var' referenced before assignment"
     ]
    }
   ],
   "source": [
    "glb_var = 8888\n",
    "\n",
    "def add(y) :\n",
    "    #global glb_var\n",
    "    glb_var = glb_var + y\n",
    "    return x\n",
    "\n",
    "print(glb_var)\n",
    "print(add(10))\n",
    "print(glb_var)"
   ]
  },
  {
   "cell_type": "markdown",
   "metadata": {},
   "source": [
    "## 예제 7-16 :  타 클래스의 속성 참조"
   ]
  },
  {
   "cell_type": "code",
   "execution_count": 11,
   "metadata": {
    "collapsed": false
   },
   "outputs": [
    {
     "name": "stdout",
     "output_type": "stream",
     "text": [
      "mappingproxy({'__dict__': <attribute '__dict__' of 'A' objects>,\n",
      "              '__doc__': None,\n",
      "              '__init__': <function A.__init__ at 0x10ddcd950>,\n",
      "              '__module__': '__main__',\n",
      "              '__weakref__': <attribute '__weakref__' of 'A' objects>,\n",
      "              'name': 'A'})\n"
     ]
    }
   ],
   "source": [
    "import pprint\n",
    "\n",
    "class A :\n",
    "    name = \"A\"\n",
    "    def __init__(self) :\n",
    "        self.name = \"A class instance \"\n",
    "\n",
    "pprint.pprint(A.__dict__)"
   ]
  },
  {
   "cell_type": "code",
   "execution_count": 13,
   "metadata": {
    "collapsed": false
   },
   "outputs": [
    {
     "name": "stdout",
     "output_type": "stream",
     "text": [
      "{'name': 'A class instance '}\n"
     ]
    }
   ],
   "source": [
    "a = A()\n",
    "\n",
    "print(a.__dict__)"
   ]
  },
  {
   "cell_type": "code",
   "execution_count": 14,
   "metadata": {
    "collapsed": false
   },
   "outputs": [
    {
     "name": "stdout",
     "output_type": "stream",
     "text": [
      "A\n",
      "A class instance \n"
     ]
    }
   ],
   "source": [
    "def class_func(obj) :\n",
    "    return obj.name\n",
    "\n",
    "print(class_func(A))\n",
    "print(class_func(a))"
   ]
  },
  {
   "cell_type": "markdown",
   "metadata": {},
   "source": [
    "## 예제 7-17 :  익명함수 정의 후에 변수 할당\n"
   ]
  },
  {
   "cell_type": "code",
   "execution_count": 16,
   "metadata": {
    "collapsed": false
   },
   "outputs": [
    {
     "name": "stdout",
     "output_type": "stream",
     "text": [
      "20\n"
     ]
    }
   ],
   "source": [
    "def add(x,y) :\n",
    "    return x+y\n",
    "\n",
    "print(add(10,10))\n"
   ]
  },
  {
   "cell_type": "code",
   "execution_count": 15,
   "metadata": {
    "collapsed": false
   },
   "outputs": [
    {
     "name": "stdout",
     "output_type": "stream",
     "text": [
      "20\n"
     ]
    }
   ],
   "source": [
    "a = lambda x,y : x+y \n",
    "print(a(10,10))"
   ]
  },
  {
   "cell_type": "markdown",
   "metadata": {},
   "source": [
    "## 예제 7-18 :  익명함수도 function class 객체 여부 확인 "
   ]
  },
  {
   "cell_type": "code",
   "execution_count": 128,
   "metadata": {
    "collapsed": false
   },
   "outputs": [
    {
     "name": "stdout",
     "output_type": "stream",
     "text": [
      "<class 'function'>\n",
      "__call__\n",
      "__name__\n",
      "__dict__\n",
      "__qualname__\n",
      "__code__\n",
      "__get__\n",
      "__kwdefaults__\n",
      "__closure__\n",
      "__module__\n",
      "__annotations__\n",
      "__globals__\n",
      "__defaults__\n"
     ]
    }
   ],
   "source": [
    "lam = set(dir(lambda x,y : x+y))\n",
    "print(type(lambda x,y : x+y))\n",
    "\n",
    "obj = set(dir(object))\n",
    "\n",
    "for i in (lam-obj) :\n",
    "    print(i)"
   ]
  },
  {
   "cell_type": "code",
   "execution_count": 130,
   "metadata": {
    "collapsed": false
   },
   "outputs": [
    {
     "name": "stdout",
     "output_type": "stream",
     "text": [
      "<function <lambda> at 0x0000000004B00400>\n",
      "<lambda>\n",
      "<lambda>\n"
     ]
    }
   ],
   "source": [
    "a = lambda x,y : x+y\n",
    "\n",
    "print(a)\n",
    "print(a.__name__)\n",
    "print(a.__qualname__)"
   ]
  },
  {
   "cell_type": "code",
   "execution_count": 17,
   "metadata": {
    "collapsed": false
   },
   "outputs": [
    {
     "name": "stdout",
     "output_type": "stream",
     "text": [
      "<function <lambda> at 0x10ddcd730>\n",
      "{}\n",
      "(100,)\n",
      "{'y': 100}\n"
     ]
    }
   ],
   "source": [
    "a = lambda x=100,*,y=100  : x+y\n",
    "\n",
    "print(a)\n",
    "print(a.__annotations__)\n",
    "print(a.__defaults__)\n",
    "print(a.__kwdefaults__)"
   ]
  },
  {
   "cell_type": "markdown",
   "metadata": {},
   "source": [
    "## 예제 7-19 :  익명함수 표현식 부분에 함수 호출 처리\n",
    "\n"
   ]
  },
  {
   "cell_type": "code",
   "execution_count": 141,
   "metadata": {
    "collapsed": false
   },
   "outputs": [
    {
     "name": "stdout",
     "output_type": "stream",
     "text": [
      "20\n"
     ]
    }
   ],
   "source": [
    "def add(x,y) :\n",
    "    return x+y\n",
    "\n",
    "a = lambda x,y : add(x,y)\n",
    "\n",
    "print(a(10,10))"
   ]
  },
  {
   "cell_type": "markdown",
   "metadata": {},
   "source": [
    "## 예제 7-20 : lambda 정의하고 즉시 실행 처리 \n"
   ]
  },
  {
   "cell_type": "code",
   "execution_count": 142,
   "metadata": {
    "collapsed": false
   },
   "outputs": [
    {
     "data": {
      "text/plain": [
       "<function __main__.<lambda>>"
      ]
     },
     "execution_count": 142,
     "metadata": {},
     "output_type": "execute_result"
    }
   ],
   "source": [
    "lambda x : x (1)"
   ]
  },
  {
   "cell_type": "code",
   "execution_count": 143,
   "metadata": {
    "collapsed": false
   },
   "outputs": [
    {
     "data": {
      "text/plain": [
       "1"
      ]
     },
     "execution_count": 143,
     "metadata": {},
     "output_type": "execute_result"
    }
   ],
   "source": [
    "(lambda x : x )(1)"
   ]
  },
  {
   "cell_type": "markdown",
   "metadata": {},
   "source": [
    "## 예제 7-21 : lambda 익명함수 재사용하기\n"
   ]
  },
  {
   "cell_type": "code",
   "execution_count": 148,
   "metadata": {
    "collapsed": false
   },
   "outputs": [
    {
     "name": "stdout",
     "output_type": "stream",
     "text": [
      "<function <lambda> at 0x00000000050726A8>\n",
      "<lambda>\n",
      "10\n",
      "20\n"
     ]
    }
   ],
   "source": [
    "add = lambda x,y : x+y\n",
    "\n",
    "print(add)\n",
    "print(add.__name__)\n",
    "\n",
    "print(add.__call__(5,5))\n",
    "print(add(10,10))"
   ]
  },
  {
   "cell_type": "code",
   "execution_count": 18,
   "metadata": {
    "collapsed": false
   },
   "outputs": [
    {
     "name": "stdout",
     "output_type": "stream",
     "text": [
      "<function <lambda> at 0x10ddcd1e0>\n",
      "{'count': 0}\n"
     ]
    }
   ],
   "source": [
    "add = lambda x,y : add.count\n",
    "\n",
    "print(add)\n",
    "add.count= 0\n",
    "\n",
    "print(add.__dict__)"
   ]
  },
  {
   "cell_type": "code",
   "execution_count": 19,
   "metadata": {
    "collapsed": false
   },
   "outputs": [
    {
     "name": "stdout",
     "output_type": "stream",
     "text": [
      "0\n",
      "{'count': 1}\n"
     ]
    }
   ],
   "source": [
    "print(add(5,5))\n",
    "add.count +=1 \n",
    "print(add.__dict__)\n"
   ]
  },
  {
   "cell_type": "markdown",
   "metadata": {},
   "source": [
    "## 예제 7-22 : 지능형 리스트 내의 익명함수 처리\n"
   ]
  },
  {
   "cell_type": "code",
   "execution_count": 20,
   "metadata": {
    "collapsed": true
   },
   "outputs": [],
   "source": [
    "l = [ lambda  : x  for x in range(3)]\n"
   ]
  },
  {
   "cell_type": "code",
   "execution_count": 21,
   "metadata": {
    "collapsed": false
   },
   "outputs": [
    {
     "name": "stdout",
     "output_type": "stream",
     "text": [
      "<function <listcomp>.<lambda> at 0x10ddcd510> 2\n",
      "<function <listcomp>.<lambda> at 0x10ddcd9d8> 2\n",
      "<function <listcomp>.<lambda> at 0x10ddcd8c8> 2\n"
     ]
    }
   ],
   "source": [
    "for i in l :\n",
    "    print(i, i())\n",
    "    "
   ]
  },
  {
   "cell_type": "code",
   "execution_count": 159,
   "metadata": {
    "collapsed": false
   },
   "outputs": [
    {
     "name": "stdout",
     "output_type": "stream",
     "text": [
      "[0, 1, 2]\n"
     ]
    }
   ],
   "source": [
    "l = [ (lambda  : x)()  for x in range(3)]\n",
    "\n",
    "print(l)"
   ]
  },
  {
   "cell_type": "code",
   "execution_count": 23,
   "metadata": {
    "collapsed": false
   },
   "outputs": [
    {
     "name": "stdout",
     "output_type": "stream",
     "text": [
      "[0, 1, 2]\n"
     ]
    }
   ],
   "source": [
    "print(list(map(lambda x:x,[0,1,2])))"
   ]
  },
  {
   "cell_type": "code",
   "execution_count": 160,
   "metadata": {
    "collapsed": false
   },
   "outputs": [
    {
     "name": "stdout",
     "output_type": "stream",
     "text": [
      "<function <listcomp>.<lambda> at 0x00000000050806A8> 0\n",
      "<function <listcomp>.<lambda> at 0x0000000005080620> 1\n",
      "<function <listcomp>.<lambda> at 0x0000000005080510> 2\n"
     ]
    }
   ],
   "source": [
    "l = [ lambda  x=x : x  for x in range(3)]\n",
    "\n",
    "for i in l :\n",
    "    print(i, i())"
   ]
  },
  {
   "cell_type": "code",
   "execution_count": 25,
   "metadata": {
    "collapsed": false
   },
   "outputs": [
    {
     "name": "stdout",
     "output_type": "stream",
     "text": [
      "[0, 1, 2]\n"
     ]
    }
   ],
   "source": [
    "l = [ (lambda  x=n : x)() for n in range(3)]\n",
    "\n",
    "print(l)"
   ]
  },
  {
   "cell_type": "markdown",
   "metadata": {},
   "source": [
    "## 예제 7-23 : 함수 내에 함수 정의 및 내부 실행처리\n"
   ]
  },
  {
   "cell_type": "code",
   "execution_count": 28,
   "metadata": {
    "collapsed": true
   },
   "outputs": [],
   "source": [
    "def math_func1(x,y,op) :\n",
    "    \n",
    "    def add_() :\n",
    "        return x+y\n",
    "    def sub_() :\n",
    "        return x-y\n",
    "    def mul_() :\n",
    "        return x*y\n",
    "    def div_() :\n",
    "        return x/y\n",
    "        \n",
    "    op_func = {'+': add_, \"-\":sub_,\n",
    "          \"*\":mul_, \"/\":div_}.get(op,add)\n",
    "  \n",
    "    return op_func()\n"
   ]
  },
  {
   "cell_type": "code",
   "execution_count": 29,
   "metadata": {
    "collapsed": false
   },
   "outputs": [
    {
     "name": "stdout",
     "output_type": "stream",
     "text": [
      "10\n",
      "0\n",
      "25\n",
      "1.0\n"
     ]
    }
   ],
   "source": [
    "print(math_func1(5,5,'+'))\n",
    "print(math_func1(5,5,'-'))\n",
    "print(math_func1(5,5,'*')) \n",
    "print(math_func1(5,5,'/'))"
   ]
  },
  {
   "cell_type": "markdown",
   "metadata": {},
   "source": [
    "## 예제 7-24 : 내부 함수 호출을 반환에서 사용하기"
   ]
  },
  {
   "cell_type": "code",
   "execution_count": 32,
   "metadata": {
    "collapsed": true
   },
   "outputs": [],
   "source": [
    "def math_func1(x,op) :\n",
    "    \n",
    "    def add_(y) :\n",
    "        return x+y\n",
    "    def sub_(y) :\n",
    "        return x-y\n",
    "    def mul_(y) :\n",
    "        return x*y\n",
    "    def div_(y) :\n",
    "        return x/y\n",
    "        \n",
    "    op_func = {'+': add_, \"-\":sub_,\n",
    "          \"*\":mul_, \"/\":div_}.get(op,add)\n",
    "  \n",
    "    return op_func\n",
    "    "
   ]
  },
  {
   "cell_type": "code",
   "execution_count": 33,
   "metadata": {
    "collapsed": false
   },
   "outputs": [
    {
     "name": "stdout",
     "output_type": "stream",
     "text": [
      "10\n",
      "0\n",
      "25\n",
      "1.0\n"
     ]
    }
   ],
   "source": [
    "add = math_func1(5,'+')\n",
    "print(add(5))\n",
    "sub = math_func1(5,'-')\n",
    "print(sub(5))\n",
    "mul = math_func1(5,'*')\n",
    "print(mul(5))\n",
    "div = math_func1(5,'/')\n",
    "print(div(5))"
   ]
  },
  {
   "cell_type": "markdown",
   "metadata": {},
   "source": [
    "## 예제 7-25 :  외부함수의 반환값으로 내부 함수에 대한 정보 확인\n"
   ]
  },
  {
   "cell_type": "code",
   "execution_count": 34,
   "metadata": {
    "collapsed": true
   },
   "outputs": [],
   "source": [
    "def outer(x) :\n",
    "    def inner(y) :\n",
    "        return x+y\n",
    "    \n",
    "    return inner\n"
   ]
  },
  {
   "cell_type": "code",
   "execution_count": 35,
   "metadata": {
    "collapsed": false
   },
   "outputs": [
    {
     "name": "stdout",
     "output_type": "stream",
     "text": [
      "<function outer.<locals>.inner at 0x10ddedd08>\n"
     ]
    }
   ],
   "source": [
    "inner = outer(5)\n",
    "\n",
    "print(inner)"
   ]
  },
  {
   "cell_type": "code",
   "execution_count": 36,
   "metadata": {
    "collapsed": false
   },
   "outputs": [
    {
     "name": "stdout",
     "output_type": "stream",
     "text": [
      "inner\n",
      "10\n"
     ]
    }
   ],
   "source": [
    "print(inner.__name__)\n",
    "print(inner(5))"
   ]
  },
  {
   "cell_type": "markdown",
   "metadata": {},
   "source": [
    "## 예제 7-26 : 타 모듈의 함수와  내부 함수 사용의 차이점 \n",
    "\n"
   ]
  },
  {
   "cell_type": "code",
   "execution_count": 37,
   "metadata": {
    "collapsed": true
   },
   "outputs": [],
   "source": [
    "import operator as op\n",
    "\n",
    "def outer(op_code) :\n",
    "    inner = {'+':op.add,\n",
    "             '-':op.sub,\n",
    "             '*':op.mul,\n",
    "             '/':op.truediv}.get(op_code,op.add)\n",
    "    return inner\n"
   ]
  },
  {
   "cell_type": "code",
   "execution_count": 38,
   "metadata": {
    "collapsed": false
   },
   "outputs": [
    {
     "name": "stdout",
     "output_type": "stream",
     "text": [
      "<built-in function truediv>\n",
      "1.0\n"
     ]
    }
   ],
   "source": [
    "inner = outer('/')\n",
    "print(inner)\n",
    "print(inner(5,5))"
   ]
  },
  {
   "cell_type": "code",
   "execution_count": 41,
   "metadata": {
    "collapsed": true
   },
   "outputs": [],
   "source": [
    "import operator as op\n",
    "\n",
    "def outer_(op_code) :\n",
    "    def inner_(x,y) :\n",
    "        return  {'+':op.add,\n",
    "             '-':op.sub,\n",
    "             '*':op.mul,\n",
    "             '/':op.truediv}.get(op_code,op.add)(x,y)\n",
    "    return inner_\n"
   ]
  },
  {
   "cell_type": "code",
   "execution_count": 42,
   "metadata": {
    "collapsed": false
   },
   "outputs": [
    {
     "name": "stdout",
     "output_type": "stream",
     "text": [
      "<function outer_.<locals>.inner_ at 0x10dccfe18>\n",
      "1.0\n"
     ]
    }
   ],
   "source": [
    "inner = outer_('/')\n",
    "print(inner)\n",
    "print(inner(5,5))"
   ]
  },
  {
   "cell_type": "markdown",
   "metadata": {},
   "source": [
    "## 예제 7-27 :  내부 함수로 외부 함수의 매개변수 자료형 검증\n"
   ]
  },
  {
   "cell_type": "code",
   "execution_count": 195,
   "metadata": {
    "collapsed": true
   },
   "outputs": [],
   "source": [
    "def outer_check(type_code) :\n",
    "    def type_check(a) :\n",
    "        return isinstance(a,type_code)\n",
    "    \n",
    "    def inner_(x,y) :\n",
    "        if not type_check(x) :\n",
    "            x = type_code(x)\n",
    "        if not type_check(y) :\n",
    "            y = type_code(y)\n",
    "        return x+y\n",
    "    \n",
    "    return inner_\n"
   ]
  },
  {
   "cell_type": "code",
   "execution_count": 196,
   "metadata": {
    "collapsed": false
   },
   "outputs": [
    {
     "name": "stdout",
     "output_type": "stream",
     "text": [
      "3\n"
     ]
    }
   ],
   "source": [
    "inner = outer_check(int)\n",
    "print(inner(1.1,2.2))"
   ]
  },
  {
   "cell_type": "code",
   "execution_count": 198,
   "metadata": {
    "collapsed": false
   },
   "outputs": [
    {
     "name": "stdout",
     "output_type": "stream",
     "text": [
      "3.3\n"
     ]
    }
   ],
   "source": [
    "inner = outer_check(float)\n",
    "print(inner(1.3,2))"
   ]
  },
  {
   "cell_type": "markdown",
   "metadata": {},
   "source": [
    "## 예제 7-28 : 함수별  네임스페이스  생성 확인하기\n"
   ]
  },
  {
   "cell_type": "code",
   "execution_count": 43,
   "metadata": {
    "collapsed": true
   },
   "outputs": [],
   "source": [
    "import pprint\n",
    "\n",
    "def outer_local(x,y) :\n",
    "    \n",
    "    def inner_local(a,b) :\n",
    "        return locals()\n",
    "    print(\"outer_local\")\n",
    "    pprint.pprint(locals())\n",
    "    return inner_local"
   ]
  },
  {
   "cell_type": "code",
   "execution_count": 46,
   "metadata": {
    "collapsed": false
   },
   "outputs": [
    {
     "name": "stdout",
     "output_type": "stream",
     "text": [
      "outer_local\n",
      "{'inner_local': <function outer_local.<locals>.inner_local at 0x10dded0d0>,\n",
      " 'x': 10,\n",
      " 'y': 20}\n"
     ]
    }
   ],
   "source": [
    "inner = outer_local(10,20)\n"
   ]
  },
  {
   "cell_type": "code",
   "execution_count": 45,
   "metadata": {
    "collapsed": false
   },
   "outputs": [
    {
     "name": "stdout",
     "output_type": "stream",
     "text": [
      "inner_local\n",
      "{'b': 40, 'a': 30}\n"
     ]
    }
   ],
   "source": [
    "print(\"inner_local\")\n",
    "print(inner(30,40))"
   ]
  },
  {
   "cell_type": "markdown",
   "metadata": {},
   "source": [
    "## 예제 7-29 : 외부 함수 네임스페이스 사용하기 \n"
   ]
  },
  {
   "cell_type": "code",
   "execution_count": 51,
   "metadata": {
    "collapsed": true
   },
   "outputs": [],
   "source": [
    "def outer_local(x) :\n",
    "    \n",
    "    def inner_local(y) :\n",
    "        return x+y\n",
    " \n",
    "    return inner_local"
   ]
  },
  {
   "cell_type": "code",
   "execution_count": 52,
   "metadata": {
    "collapsed": false
   },
   "outputs": [
    {
     "name": "stdout",
     "output_type": "stream",
     "text": [
      "inner_local\n",
      "50\n"
     ]
    }
   ],
   "source": [
    "inner = outer_local(10)\n",
    "print(\"inner_local\")\n",
    "print(inner(40))"
   ]
  },
  {
   "cell_type": "code",
   "execution_count": 55,
   "metadata": {
    "collapsed": true
   },
   "outputs": [],
   "source": [
    "def outer_local_(x) :\n",
    "    \n",
    "    def inner_local_(y) :\n",
    "        x = x + 1\n",
    "        return x\n",
    " \n",
    "    return inner_local_\n"
   ]
  },
  {
   "cell_type": "code",
   "execution_count": 57,
   "metadata": {
    "collapsed": false
   },
   "outputs": [
    {
     "name": "stdout",
     "output_type": "stream",
     "text": [
      "inner_local\n"
     ]
    },
    {
     "ename": "UnboundLocalError",
     "evalue": "local variable 'x' referenced before assignment",
     "output_type": "error",
     "traceback": [
      "\u001b[0;31m---------------------------------------------------------------------------\u001b[0m",
      "\u001b[0;31mUnboundLocalError\u001b[0m                         Traceback (most recent call last)",
      "\u001b[0;32m<ipython-input-57-19afb953bcfd>\u001b[0m in \u001b[0;36m<module>\u001b[0;34m()\u001b[0m\n\u001b[1;32m      1\u001b[0m \u001b[0minner\u001b[0m \u001b[0;34m=\u001b[0m \u001b[0mouter_local_\u001b[0m\u001b[0;34m(\u001b[0m\u001b[0;36m10\u001b[0m\u001b[0;34m)\u001b[0m\u001b[0;34m\u001b[0m\u001b[0m\n\u001b[1;32m      2\u001b[0m \u001b[0mprint\u001b[0m\u001b[0;34m(\u001b[0m\u001b[0;34m\"inner_local\"\u001b[0m\u001b[0;34m)\u001b[0m\u001b[0;34m\u001b[0m\u001b[0m\n\u001b[0;32m----> 3\u001b[0;31m \u001b[0mprint\u001b[0m\u001b[0;34m(\u001b[0m\u001b[0minner\u001b[0m\u001b[0;34m(\u001b[0m\u001b[0;36m40\u001b[0m\u001b[0;34m)\u001b[0m\u001b[0;34m)\u001b[0m\u001b[0;34m\u001b[0m\u001b[0m\n\u001b[0m",
      "\u001b[0;32m<ipython-input-55-877a21c5dce1>\u001b[0m in \u001b[0;36minner_local_\u001b[0;34m(y)\u001b[0m\n\u001b[1;32m      2\u001b[0m \u001b[0;34m\u001b[0m\u001b[0m\n\u001b[1;32m      3\u001b[0m     \u001b[0;32mdef\u001b[0m \u001b[0minner_local_\u001b[0m\u001b[0;34m(\u001b[0m\u001b[0my\u001b[0m\u001b[0;34m)\u001b[0m \u001b[0;34m:\u001b[0m\u001b[0;34m\u001b[0m\u001b[0m\n\u001b[0;32m----> 4\u001b[0;31m         \u001b[0mx\u001b[0m \u001b[0;34m=\u001b[0m \u001b[0mx\u001b[0m \u001b[0;34m+\u001b[0m \u001b[0;36m1\u001b[0m\u001b[0;34m\u001b[0m\u001b[0m\n\u001b[0m\u001b[1;32m      5\u001b[0m         \u001b[0;32mreturn\u001b[0m \u001b[0mx\u001b[0m\u001b[0;34m\u001b[0m\u001b[0m\n\u001b[1;32m      6\u001b[0m \u001b[0;34m\u001b[0m\u001b[0m\n",
      "\u001b[0;31mUnboundLocalError\u001b[0m: local variable 'x' referenced before assignment"
     ]
    }
   ],
   "source": [
    "inner = outer_local_(10)\n",
    "print(\"inner_local\")\n",
    "print(inner(40))"
   ]
  },
  {
   "cell_type": "code",
   "execution_count": 59,
   "metadata": {
    "collapsed": true
   },
   "outputs": [],
   "source": [
    "def outer_local_(x) :\n",
    "    \n",
    "    def inner_local_(y) :\n",
    "        nonlocal x\n",
    "        x = x + 1\n",
    "        return x\n",
    " \n",
    "    return inner_local_\n"
   ]
  },
  {
   "cell_type": "code",
   "execution_count": 60,
   "metadata": {
    "collapsed": false
   },
   "outputs": [
    {
     "name": "stdout",
     "output_type": "stream",
     "text": [
      "inner_local\n",
      "11\n"
     ]
    }
   ],
   "source": [
    "inner = outer_local_(10)\n",
    "print(\"inner_local\")\n",
    "print(inner(40))"
   ]
  },
  {
   "cell_type": "markdown",
   "metadata": {},
   "source": [
    "## 예제 7-30 : 내부함수 내에 내부함수를 내포하기"
   ]
  },
  {
   "cell_type": "code",
   "execution_count": 68,
   "metadata": {
    "collapsed": true
   },
   "outputs": [],
   "source": [
    "def out_(x) :\n",
    "    def inn_1(y) :\n",
    "        def inn_2(z) :\n",
    "            #nonlocal y\n",
    "            y = y+1\n",
    "            return x+y+z\n",
    "        return inn_2\n",
    "    return inn_1"
   ]
  },
  {
   "cell_type": "code",
   "execution_count": 69,
   "metadata": {
    "collapsed": true
   },
   "outputs": [],
   "source": [
    "inn_1 = out_(10)\n",
    "inn_2 = inn_1(20)"
   ]
  },
  {
   "cell_type": "code",
   "execution_count": 70,
   "metadata": {
    "collapsed": false
   },
   "outputs": [
    {
     "ename": "UnboundLocalError",
     "evalue": "local variable 'y' referenced before assignment",
     "output_type": "error",
     "traceback": [
      "\u001b[0;31m---------------------------------------------------------------------------\u001b[0m",
      "\u001b[0;31mUnboundLocalError\u001b[0m                         Traceback (most recent call last)",
      "\u001b[0;32m<ipython-input-70-a5cc9b67a986>\u001b[0m in \u001b[0;36m<module>\u001b[0;34m()\u001b[0m\n\u001b[0;32m----> 1\u001b[0;31m \u001b[0mprint\u001b[0m\u001b[0;34m(\u001b[0m\u001b[0minn_2\u001b[0m\u001b[0;34m(\u001b[0m\u001b[0;36m30\u001b[0m\u001b[0;34m)\u001b[0m\u001b[0;34m)\u001b[0m\u001b[0;34m\u001b[0m\u001b[0m\n\u001b[0m",
      "\u001b[0;32m<ipython-input-68-cb7d88a7a98e>\u001b[0m in \u001b[0;36minn_2\u001b[0;34m(z)\u001b[0m\n\u001b[1;32m      3\u001b[0m         \u001b[0;32mdef\u001b[0m \u001b[0minn_2\u001b[0m\u001b[0;34m(\u001b[0m\u001b[0mz\u001b[0m\u001b[0;34m)\u001b[0m \u001b[0;34m:\u001b[0m\u001b[0;34m\u001b[0m\u001b[0m\n\u001b[1;32m      4\u001b[0m             \u001b[0;31m#nonlocal y\u001b[0m\u001b[0;34m\u001b[0m\u001b[0;34m\u001b[0m\u001b[0m\n\u001b[0;32m----> 5\u001b[0;31m             \u001b[0my\u001b[0m \u001b[0;34m=\u001b[0m \u001b[0my\u001b[0m\u001b[0;34m+\u001b[0m\u001b[0;36m1\u001b[0m\u001b[0;34m\u001b[0m\u001b[0m\n\u001b[0m\u001b[1;32m      6\u001b[0m             \u001b[0;32mreturn\u001b[0m \u001b[0mx\u001b[0m\u001b[0;34m+\u001b[0m\u001b[0my\u001b[0m\u001b[0;34m+\u001b[0m\u001b[0mz\u001b[0m\u001b[0;34m\u001b[0m\u001b[0m\n\u001b[1;32m      7\u001b[0m         \u001b[0;32mreturn\u001b[0m \u001b[0minn_2\u001b[0m\u001b[0;34m\u001b[0m\u001b[0m\n",
      "\u001b[0;31mUnboundLocalError\u001b[0m: local variable 'y' referenced before assignment"
     ]
    }
   ],
   "source": [
    "print(inn_2(30))"
   ]
  },
  {
   "cell_type": "code",
   "execution_count": 63,
   "metadata": {
    "collapsed": true
   },
   "outputs": [],
   "source": [
    "def out_(x) :\n",
    "    def inn_1(y) :\n",
    "        def inn_2(z) :\n",
    "            nonlocal y\n",
    "            y = y+1\n",
    "            return x+y+z\n",
    "        return inn_2\n",
    "    return inn_1\n"
   ]
  },
  {
   "cell_type": "code",
   "execution_count": 64,
   "metadata": {
    "collapsed": false
   },
   "outputs": [
    {
     "name": "stdout",
     "output_type": "stream",
     "text": [
      "61\n"
     ]
    }
   ],
   "source": [
    "inn_1 = out_(10)\n",
    "inn_2 = inn_1(20)\n",
    "print(inn_2(30))"
   ]
  },
  {
   "cell_type": "markdown",
   "metadata": {},
   "source": [
    "## 예제 7-31 :  Sequence 자료형 합 구하기 : sum"
   ]
  },
  {
   "cell_type": "code",
   "execution_count": 71,
   "metadata": {
    "collapsed": false
   },
   "outputs": [
    {
     "name": "stdout",
     "output_type": "stream",
     "text": [
      "<class 'builtin_function_or_method'>\n"
     ]
    }
   ],
   "source": [
    "print(type(sum))"
   ]
  },
  {
   "cell_type": "code",
   "execution_count": 217,
   "metadata": {
    "collapsed": false
   },
   "outputs": [
    {
     "name": "stdout",
     "output_type": "stream",
     "text": [
      "10\n",
      "15\n"
     ]
    }
   ],
   "source": [
    "print(sum([1,2,3,4])) \n",
    "print(sum([1,2,3,4],5))"
   ]
  },
  {
   "cell_type": "code",
   "execution_count": 218,
   "metadata": {
    "collapsed": false
   },
   "outputs": [
    {
     "name": "stdout",
     "output_type": "stream",
     "text": [
      "[(1, 2), (3, 4), (7, 9)]\n"
     ]
    }
   ],
   "source": [
    "l = [(1,2),(7,9),(3,4)]\n",
    "\n",
    "l.sort(key=sum)\n",
    "print(l)"
   ]
  },
  {
   "cell_type": "markdown",
   "metadata": {},
   "source": [
    "## 예제 7-32 :  소수점 조정 및 몫과 나머지 구하기\n"
   ]
  },
  {
   "cell_type": "code",
   "execution_count": 229,
   "metadata": {
    "collapsed": false
   },
   "outputs": [
    {
     "name": "stdout",
     "output_type": "stream",
     "text": [
      "<class 'builtin_function_or_method'>\n",
      "<class 'builtin_function_or_method'>\n"
     ]
    }
   ],
   "source": [
    "print(type(round))\n",
    "print(type(divmod))"
   ]
  },
  {
   "cell_type": "code",
   "execution_count": 223,
   "metadata": {
    "collapsed": false
   },
   "outputs": [
    {
     "name": "stdout",
     "output_type": "stream",
     "text": [
      "100\n",
      "100.123\n",
      "100.12346\n"
     ]
    }
   ],
   "source": [
    "f = 100.123456789\n",
    "print(round(f))\n",
    "print(round(f,3))\n",
    "print(round(f,5))"
   ]
  },
  {
   "cell_type": "code",
   "execution_count": 227,
   "metadata": {
    "collapsed": false
   },
   "outputs": [
    {
     "name": "stdout",
     "output_type": "stream",
     "text": [
      "(4, 8)\n",
      "4\n",
      "8\n"
     ]
    }
   ],
   "source": [
    "d = 100\n",
    "n = 23\n",
    "\n",
    "print(divmod(d,n))\n",
    "\n",
    "print(d // n)\n",
    "print(d % n)"
   ]
  },
  {
   "cell_type": "markdown",
   "metadata": {},
   "source": [
    "## 예제 7-33 :  절대값, 제곱과 논리식 구하기\n"
   ]
  },
  {
   "cell_type": "code",
   "execution_count": 248,
   "metadata": {
    "collapsed": false
   },
   "outputs": [
    {
     "name": "stdout",
     "output_type": "stream",
     "text": [
      "<class 'builtin_function_or_method'>\n",
      "100\n"
     ]
    }
   ],
   "source": [
    "print(type(abs))\n",
    "\n",
    "print(abs(-100))\n"
   ]
  },
  {
   "cell_type": "code",
   "execution_count": 73,
   "metadata": {
    "collapsed": false
   },
   "outputs": [
    {
     "name": "stdout",
     "output_type": "stream",
     "text": [
      "5.0\n"
     ]
    }
   ],
   "source": [
    "print(abs(3+4j))\n"
   ]
  },
  {
   "cell_type": "code",
   "execution_count": 74,
   "metadata": {
    "collapsed": false
   },
   "outputs": [
    {
     "name": "stdout",
     "output_type": "stream",
     "text": [
      "<class 'builtin_function_or_method'>\n"
     ]
    }
   ],
   "source": [
    "print(type(pow))"
   ]
  },
  {
   "cell_type": "code",
   "execution_count": 75,
   "metadata": {
    "collapsed": false
   },
   "outputs": [
    {
     "name": "stdout",
     "output_type": "stream",
     "text": [
      "100\n",
      "1\n",
      "1000.0\n"
     ]
    }
   ],
   "source": [
    "import math\n",
    "\n",
    "print(pow(10,2))\n",
    "print(pow(10,2,3))\n",
    "\n",
    "print(math.pow(10,3))"
   ]
  },
  {
   "cell_type": "code",
   "execution_count": 77,
   "metadata": {
    "collapsed": false
   },
   "outputs": [
    {
     "name": "stdout",
     "output_type": "stream",
     "text": [
      "3.1622776601683795\n",
      "3.1622776601683795\n"
     ]
    }
   ],
   "source": [
    "import math\n",
    "\n",
    "print(pow(10,1/2))\n",
    "print(math.sqrt(10))"
   ]
  },
  {
   "cell_type": "markdown",
   "metadata": {},
   "source": [
    "## 예제 7-34 :  숫자를 문자로 문자를 숫자로 변환하기\n"
   ]
  },
  {
   "cell_type": "code",
   "execution_count": 78,
   "metadata": {
    "collapsed": false
   },
   "outputs": [
    {
     "name": "stdout",
     "output_type": "stream",
     "text": [
      "<class 'builtin_function_or_method'>\n",
      "<class 'builtin_function_or_method'>\n"
     ]
    }
   ],
   "source": [
    "print(type(ord))\n",
    "print(type(chr))"
   ]
  },
  {
   "cell_type": "code",
   "execution_count": 250,
   "metadata": {
    "collapsed": false
   },
   "outputs": [
    {
     "name": "stdout",
     "output_type": "stream",
     "text": [
      "[50508, 50500, 48372, 44256, 49910, 51008, 54028, 51060, 50028]\n",
      "알아보고싶은파이썬\n"
     ]
    }
   ],
   "source": [
    "s = \"알아보고싶은파이썬\"\n",
    "\n",
    "l = list(map(ord,s))\n",
    "print(l)\n",
    "\n",
    "ls = \"\".join(list(map(chr,l)))\n",
    "print(ls)"
   ]
  },
  {
   "cell_type": "code",
   "execution_count": 252,
   "metadata": {
    "collapsed": false
   },
   "outputs": [
    {
     "name": "stdout",
     "output_type": "stream",
     "text": [
      "[73, 119, 97, 110, 116, 116, 111, 107, 110, 111, 119, 80, 121, 116, 104, 111, 110, 32]\n",
      "IwanttoknowPython \n"
     ]
    }
   ],
   "source": [
    "s = \"IwanttoknowPython \"\n",
    "\n",
    "l = list(map(ord,s))\n",
    "print(l)\n",
    "\n",
    "ls = \"\".join(list(map(chr,l)))\n",
    "print(ls)"
   ]
  },
  {
   "cell_type": "markdown",
   "metadata": {},
   "source": [
    "## 예제 7-35 :  논리식의 결과로 처리하기\n"
   ]
  },
  {
   "cell_type": "code",
   "execution_count": 80,
   "metadata": {
    "collapsed": false
   },
   "outputs": [
    {
     "name": "stdout",
     "output_type": "stream",
     "text": [
      "<class 'builtin_function_or_method'>\n",
      "<class 'builtin_function_or_method'>\n"
     ]
    }
   ],
   "source": [
    "print(type(any))\n",
    "print(type(all))"
   ]
  },
  {
   "cell_type": "code",
   "execution_count": 86,
   "metadata": {
    "collapsed": false
   },
   "outputs": [
    {
     "name": "stdout",
     "output_type": "stream",
     "text": [
      "False\n",
      "True\n",
      "True\n",
      "False\n"
     ]
    }
   ],
   "source": [
    "print(any([]))\n",
    "print(any([1,0,0]))\n",
    "\n",
    "print(all([]))\n",
    "print(all([1,2,0]))"
   ]
  },
  {
   "cell_type": "code",
   "execution_count": 82,
   "metadata": {
    "collapsed": false
   },
   "outputs": [
    {
     "name": "stdout",
     "output_type": "stream",
     "text": [
      "False\n",
      "False\n"
     ]
    }
   ],
   "source": [
    "print(any([None]))\n",
    "print(all([None]))"
   ]
  },
  {
   "cell_type": "code",
   "execution_count": 259,
   "metadata": {
    "collapsed": false
   },
   "outputs": [
    {
     "name": "stdout",
     "output_type": "stream",
     "text": [
      "True\n",
      "False\n",
      "True\n",
      "True\n"
     ]
    }
   ],
   "source": [
    "print(any({'a':None}))\n",
    "print(any({}))\n",
    "print(all({'a':None}))\n",
    "print(all({}))"
   ]
  },
  {
   "cell_type": "code",
   "execution_count": 260,
   "metadata": {
    "collapsed": false
   },
   "outputs": [
    {
     "name": "stdout",
     "output_type": "stream",
     "text": [
      "False\n",
      "True\n"
     ]
    }
   ],
   "source": [
    "print(any(\"\"))\n",
    "print(all(\"\"))"
   ]
  },
  {
   "cell_type": "markdown",
   "metadata": {},
   "source": [
    "## 예제 7-36 :  정렬 함수 sorted\n"
   ]
  },
  {
   "cell_type": "code",
   "execution_count": 87,
   "metadata": {
    "collapsed": false
   },
   "outputs": [
    {
     "name": "stdout",
     "output_type": "stream",
     "text": [
      "<class 'builtin_function_or_method'>\n"
     ]
    }
   ],
   "source": [
    "print(type(sorted))"
   ]
  },
  {
   "cell_type": "code",
   "execution_count": 88,
   "metadata": {
    "collapsed": false
   },
   "outputs": [
    {
     "name": "stdout",
     "output_type": "stream",
     "text": [
      "['a', 'abc', 'bc']\n"
     ]
    }
   ],
   "source": [
    "l = ['abc', 'bc', 'a']\n",
    "\n",
    "s = sorted(l)\n",
    "print(s)"
   ]
  },
  {
   "cell_type": "code",
   "execution_count": 89,
   "metadata": {
    "collapsed": false
   },
   "outputs": [
    {
     "name": "stdout",
     "output_type": "stream",
     "text": [
      "['bc', 'abc', 'a']\n"
     ]
    }
   ],
   "source": [
    "l = ['abc', 'bc', 'a']\n",
    "\n",
    "s = sorted(l,reverse=True)\n",
    "print(s)"
   ]
  },
  {
   "cell_type": "code",
   "execution_count": 90,
   "metadata": {
    "collapsed": false
   },
   "outputs": [
    {
     "name": "stdout",
     "output_type": "stream",
     "text": [
      "['a', 'bc', 'abc']\n"
     ]
    }
   ],
   "source": [
    "l = ['abc', 'bc', 'a']\n",
    "\n",
    "s = sorted(l,key=len)\n",
    "print(s)"
   ]
  },
  {
   "cell_type": "code",
   "execution_count": 269,
   "metadata": {
    "collapsed": false
   },
   "outputs": [
    {
     "name": "stdout",
     "output_type": "stream",
     "text": [
      "['a', 'abc', 'bc']\n"
     ]
    }
   ],
   "source": [
    "l = ['abc', 'bc', 'a']\n",
    "l.sort()\n",
    "print(l)"
   ]
  },
  {
   "cell_type": "code",
   "execution_count": 270,
   "metadata": {
    "collapsed": false
   },
   "outputs": [
    {
     "name": "stdout",
     "output_type": "stream",
     "text": [
      "['bc', 'abc', 'a']\n"
     ]
    }
   ],
   "source": [
    "l = ['abc', 'bc', 'a']\n",
    "l.sort(reverse=True)\n",
    "print(l)"
   ]
  },
  {
   "cell_type": "code",
   "execution_count": 271,
   "metadata": {
    "collapsed": false
   },
   "outputs": [
    {
     "name": "stdout",
     "output_type": "stream",
     "text": [
      "['a', 'bc', 'abc']\n"
     ]
    }
   ],
   "source": [
    "l = ['abc', 'bc', 'a']\n",
    "l.sort(key=len)\n",
    "print(l)"
   ]
  },
  {
   "cell_type": "markdown",
   "metadata": {},
   "source": [
    "## 예제 7-37 :  문자열을 바로 실행하기 "
   ]
  },
  {
   "cell_type": "code",
   "execution_count": 91,
   "metadata": {
    "collapsed": false
   },
   "outputs": [
    {
     "name": "stdout",
     "output_type": "stream",
     "text": [
      "<class 'builtin_function_or_method'>\n"
     ]
    }
   ],
   "source": [
    "print(type(exec))"
   ]
  },
  {
   "cell_type": "code",
   "execution_count": 273,
   "metadata": {
    "collapsed": false
   },
   "outputs": [
    {
     "name": "stdout",
     "output_type": "stream",
     "text": [
      "변수에 할당하기\n"
     ]
    }
   ],
   "source": [
    "s = \"exec_a = '변수에 할당하기'\"\n",
    "\n",
    "exec(s)\n",
    "\n",
    "print(globals()[\"exec_a\"])"
   ]
  },
  {
   "cell_type": "code",
   "execution_count": 274,
   "metadata": {
    "collapsed": false
   },
   "outputs": [
    {
     "name": "stdout",
     "output_type": "stream",
     "text": [
      "200\n"
     ]
    }
   ],
   "source": [
    "s = \"a_e = a_e + 100\"\n",
    "a_e = 100\n",
    "\n",
    "exec(s)\n",
    "\n",
    "print(globals()[\"a_e\"])"
   ]
  },
  {
   "cell_type": "code",
   "execution_count": 276,
   "metadata": {
    "collapsed": false
   },
   "outputs": [
    {
     "name": "stdout",
     "output_type": "stream",
     "text": [
      "<function add_exec at 0x00000000050809D8>\n",
      "20\n",
      "40\n"
     ]
    }
   ],
   "source": [
    "s = \"\"\"\n",
    "def add_exec(x,y) :\n",
    "    return x+y\n",
    "    \n",
    "\"\"\"\n",
    "exec(s)\n",
    "\n",
    "print(globals()[\"add_exec\"])\n",
    "print(globals()[\"add_exec\"](10,10))\n",
    "\n",
    "print(add_exec(20,20))"
   ]
  },
  {
   "cell_type": "code",
   "execution_count": 95,
   "metadata": {
    "collapsed": false
   },
   "outputs": [
    {
     "name": "stdout",
     "output_type": "stream",
     "text": [
      "Writing exec_add.py\n"
     ]
    }
   ],
   "source": [
    "%%writefile exec_add.py\n",
    "s = \"\"\"\n",
    "def add_exec(x,y) :\n",
    "    return x+y\n",
    "    \n",
    "\"\"\"\n",
    "exec(s)"
   ]
  },
  {
   "cell_type": "code",
   "execution_count": 96,
   "metadata": {
    "collapsed": false
   },
   "outputs": [
    {
     "name": "stdout",
     "output_type": "stream",
     "text": [
      "50\n"
     ]
    }
   ],
   "source": [
    "import exec_add\n",
    "\n",
    "print(exec_add.add_exec(20,30))"
   ]
  },
  {
   "cell_type": "markdown",
   "metadata": {},
   "source": [
    "## 예제 7-38 : 컴파일에서 eval, exec 실행을 지정한 후에 나중에 실행하기"
   ]
  },
  {
   "cell_type": "code",
   "execution_count": 97,
   "metadata": {
    "collapsed": false
   },
   "outputs": [
    {
     "name": "stdout",
     "output_type": "stream",
     "text": [
      "<class 'builtin_function_or_method'>\n",
      "<class 'builtin_function_or_method'>\n"
     ]
    }
   ],
   "source": [
    "print(type(compile))\n",
    "print(type(eval))"
   ]
  },
  {
   "cell_type": "code",
   "execution_count": 1,
   "metadata": {
    "collapsed": false
   },
   "outputs": [
    {
     "name": "stdout",
     "output_type": "stream",
     "text": [
      "<code object <module> at 0x00000000059CEE40, file \"fakefile\", line 2>\n"
     ]
    }
   ],
   "source": [
    "sc = \"\"\"\n",
    "class Person :\n",
    "    def __init__(self,name) :\n",
    "        self.name = name\n",
    "    def getname(self) :\n",
    "        return self.name\n",
    "\"\"\"\n",
    "\n",
    "ex = compile(sc,\"fakefile\",'exec')\n",
    "\n",
    "print(ex)"
   ]
  },
  {
   "cell_type": "code",
   "execution_count": 2,
   "metadata": {
    "collapsed": false
   },
   "outputs": [
    {
     "name": "stdout",
     "output_type": "stream",
     "text": [
      "정찬혁\n"
     ]
    }
   ],
   "source": [
    "eval(ex)\n",
    "\n",
    "p = Person(\"정찬혁\")\n",
    "\n",
    "print(p.getname())"
   ]
  },
  {
   "cell_type": "code",
   "execution_count": 3,
   "metadata": {
    "collapsed": false
   },
   "outputs": [
    {
     "name": "stdout",
     "output_type": "stream",
     "text": [
      "박세본\n"
     ]
    }
   ],
   "source": [
    "sv = \"Person('박세본')\"\n",
    "ev = compile(sv,\"fakefile\",'eval')\n",
    "\n",
    "b = eval(ev)\n",
    "print(b.getname())"
   ]
  },
  {
   "cell_type": "markdown",
   "metadata": {},
   "source": [
    "## 예제 7-39 :  약수 구하기"
   ]
  },
  {
   "cell_type": "code",
   "execution_count": 285,
   "metadata": {
    "collapsed": true
   },
   "outputs": [],
   "source": [
    "def common_div(x) :\n",
    "    s = set()\n",
    "    for i in range(1,x+1) : \n",
    "        if x % i == 0 :\n",
    "            s.add(i)\n",
    "    return s\n",
    "            "
   ]
  },
  {
   "cell_type": "code",
   "execution_count": 286,
   "metadata": {
    "collapsed": false
   },
   "outputs": [
    {
     "name": "stdout",
     "output_type": "stream",
     "text": [
      " 수를 입력하세요10\n",
      " 수를 입력하세요5\n",
      "{1, 2, 10, 5}\n",
      "{1, 5}\n",
      "{1, 5}\n"
     ]
    }
   ],
   "source": [
    "a = int(input(\" 수를 입력하세요\"))\n",
    "\n",
    "ass = common_div(a)\n",
    "b = int(input(\" 수를 입력하세요\"))\n",
    "bss = common_div(b)\n",
    "\n",
    "print(ass)\n",
    "print(bss)\n",
    "\n",
    "print((ass & bss))"
   ]
  },
  {
   "cell_type": "code",
   "execution_count": 288,
   "metadata": {
    "collapsed": false
   },
   "outputs": [
    {
     "name": "stdout",
     "output_type": "stream",
     "text": [
      " 수를 입력하세요 10\n",
      " 수를 입력하세요 5\n",
      "10 5\n",
      "10 5\n",
      "5 0\n",
      " 최대 공약수  5\n"
     ]
    }
   ],
   "source": [
    "a = int(input(\" 수를 입력하세요 \"))\n",
    "b = int(input(\" 수를 입력하세요 \"))\n",
    "\n",
    "print(a,b)\n",
    "\n",
    "def gcd(p, q) :\n",
    "    print(p,q)\n",
    "    if (q == 0) :\n",
    "        return p;\n",
    "    return gcd(q, p%q)\n",
    "\n",
    "print(\" 최대 공약수 \",gcd(a,b))"
   ]
  },
  {
   "cell_type": "markdown",
   "metadata": {},
   "source": [
    "## 예제 7-40 :  함수의 자료형 확인"
   ]
  },
  {
   "cell_type": "code",
   "execution_count": 290,
   "metadata": {
    "collapsed": false
   },
   "outputs": [
    {
     "name": "stdout",
     "output_type": "stream",
     "text": [
      "<class 'function'>\n",
      "True\n"
     ]
    }
   ],
   "source": [
    "def addd(x,y) :\n",
    "    return x+y \n",
    "\n",
    "print(type(addd))\n",
    "print(isinstance(addd, type(addd)))"
   ]
  },
  {
   "cell_type": "markdown",
   "metadata": {},
   "source": [
    "## 예제 7-41 :  함수 내의 code 클래스 정보 확인하기"
   ]
  },
  {
   "cell_type": "code",
   "execution_count": 293,
   "metadata": {
    "collapsed": false
   },
   "outputs": [
    {
     "name": "stdout",
     "output_type": "stream",
     "text": [
      "<class 'code'>\n",
      "{'co_argcount',\n",
      " 'co_cellvars',\n",
      " 'co_code',\n",
      " 'co_consts',\n",
      " 'co_filename',\n",
      " 'co_firstlineno',\n",
      " 'co_flags',\n",
      " 'co_freevars',\n",
      " 'co_kwonlyargcount',\n",
      " 'co_lnotab',\n",
      " 'co_name',\n",
      " 'co_names',\n",
      " 'co_nlocals',\n",
      " 'co_stacksize',\n",
      " 'co_varnames'}\n"
     ]
    }
   ],
   "source": [
    "import pprint\n",
    "\n",
    "print(type(addd.__code__))\n",
    "\n",
    "co = set(dir(addd.__code__))\n",
    "o = set(dir(object))\n",
    "pprint.pprint(co-o)"
   ]
  },
  {
   "cell_type": "code",
   "execution_count": 297,
   "metadata": {
    "collapsed": false
   },
   "outputs": [
    {
     "name": "stdout",
     "output_type": "stream",
     "text": [
      "2\n",
      "addd\n",
      "()\n",
      "('x', 'y')\n"
     ]
    }
   ],
   "source": [
    "print(addd.__code__.co_argcount)\n",
    "print(addd.__code__.co_name)\n",
    "print(addd.__code__.co_names)\n",
    "print(addd.__code__.co_varnames)"
   ]
  },
  {
   "cell_type": "markdown",
   "metadata": {},
   "source": [
    "## 예제 7-42 :  함수 소스 및 바이트 코드 보기\n"
   ]
  },
  {
   "cell_type": "code",
   "execution_count": 301,
   "metadata": {
    "collapsed": false
   },
   "outputs": [
    {
     "name": "stdout",
     "output_type": "stream",
     "text": [
      "def addd(x:int,y:int) -> int :\n",
      "    return x+y \n",
      "\n"
     ]
    }
   ],
   "source": [
    "import inspect\n",
    "\n",
    "def addd(x:int,y:int) -> int :\n",
    "    return x+y \n",
    "\n",
    "print(inspect.getsource(addd))"
   ]
  },
  {
   "cell_type": "code",
   "execution_count": 302,
   "metadata": {
    "collapsed": false
   },
   "outputs": [
    {
     "name": "stdout",
     "output_type": "stream",
     "text": [
      "  4           0 LOAD_FAST                0 (x)\n",
      "              2 LOAD_FAST                1 (y)\n",
      "              4 BINARY_ADD\n",
      "              6 RETURN_VALUE\n",
      "None\n"
     ]
    }
   ],
   "source": [
    "import dis\n",
    "\n",
    "print(dis.dis(addd))"
   ]
  },
  {
   "cell_type": "markdown",
   "metadata": {},
   "source": [
    "## 예제 7-43 :  시그너처와 매개변수 정보 확인하기"
   ]
  },
  {
   "cell_type": "code",
   "execution_count": 101,
   "metadata": {
    "collapsed": true
   },
   "outputs": [],
   "source": [
    "import inspect\n",
    "\n",
    "def addd(x:int,y:int) -> int :\n",
    "    \n",
    "    return x+y \n"
   ]
  },
  {
   "cell_type": "code",
   "execution_count": 102,
   "metadata": {
    "collapsed": false
   },
   "outputs": [
    {
     "name": "stdout",
     "output_type": "stream",
     "text": [
      "<class 'inspect.Signature'>\n",
      "(x:int, y:int) -> int\n"
     ]
    }
   ],
   "source": [
    "a = inspect.signature(addd)\n",
    "print(type(a))\n",
    "print(a)"
   ]
  },
  {
   "cell_type": "code",
   "execution_count": 100,
   "metadata": {
    "collapsed": false
   },
   "outputs": [
    {
     "name": "stdout",
     "output_type": "stream",
     "text": [
      "OrderedDict([('x', <Parameter \"x:int\">), ('y', <Parameter \"y:int\">)])\n",
      "x:int\n",
      "y:int\n",
      "<class 'int'>\n"
     ]
    }
   ],
   "source": [
    "print(a.parameters)\n",
    "print(a.parameters['x'])\n",
    "print(a.parameters['y'])\n",
    "print(a.return_annotation)"
   ]
  },
  {
   "cell_type": "markdown",
   "metadata": {},
   "source": [
    "## 예제 7-44 :   함수에 대한 기본 정보도 함수로 조회하기\n"
   ]
  },
  {
   "cell_type": "code",
   "execution_count": 103,
   "metadata": {
    "collapsed": true
   },
   "outputs": [],
   "source": [
    "import inspect\n",
    "\n",
    "def addd(x:int,y:int) -> int :\n",
    "    \"\"\" addd 함수에 대한 __doct__ \"\"\"\n",
    "    return x+y \n"
   ]
  },
  {
   "cell_type": "code",
   "execution_count": 105,
   "metadata": {
    "collapsed": false
   },
   "outputs": [
    {
     "name": "stdout",
     "output_type": "stream",
     "text": [
      "<class 'str'>\n",
      "addd 함수에 대한 __doct__ \n"
     ]
    }
   ],
   "source": [
    "a = inspect.getdoc(addd)\n",
    "print(type(a))\n",
    "print(a)\n"
   ]
  },
  {
   "cell_type": "code",
   "execution_count": 106,
   "metadata": {
    "collapsed": false
   },
   "outputs": [
    {
     "name": "stdout",
     "output_type": "stream",
     "text": [
      "Arguments(args=['x', 'y'], varargs=None, varkw=None)\n",
      "<ipython-input-103-04e88e16e840>\n"
     ]
    }
   ],
   "source": [
    "b = inspect.getargs(addd.__code__)\n",
    "print(b)\n",
    "\n",
    "c = inspect.getsourcefile(addd)\n",
    "print(c)"
   ]
  },
  {
   "cell_type": "code",
   "execution_count": null,
   "metadata": {
    "collapsed": true
   },
   "outputs": [],
   "source": []
  }
 ],
 "metadata": {
  "anaconda-cloud": {},
  "kernelspec": {
   "display_name": "Python [default]",
   "language": "python",
   "name": "python3"
  },
  "language_info": {
   "codemirror_mode": {
    "name": "ipython",
    "version": 3
   },
   "file_extension": ".py",
   "mimetype": "text/x-python",
   "name": "python",
   "nbconvert_exporter": "python",
   "pygments_lexer": "ipython3",
   "version": "3.5.2"
  }
 },
 "nbformat": 4,
 "nbformat_minor": 2
}
