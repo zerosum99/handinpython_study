{
 "cells": [
  {
   "cell_type": "markdown",
   "metadata": {},
   "source": [
    "## 예제 17-1 :  예외 처리하기\n"
   ]
  },
  {
   "cell_type": "code",
   "execution_count": 2,
   "metadata": {
    "collapsed": false
   },
   "outputs": [
    {
     "ename": "UnboundLocalError",
     "evalue": "local variable 'x' referenced before assignment",
     "output_type": "error",
     "traceback": [
      "\u001b[0;31m---------------------------------------------------------------------------\u001b[0m",
      "\u001b[0;31mUnboundLocalError\u001b[0m                         Traceback (most recent call last)",
      "\u001b[0;32m<ipython-input-2-9a89576add47>\u001b[0m in \u001b[0;36m<module>\u001b[0;34m()\u001b[0m\n\u001b[1;32m      5\u001b[0m \u001b[0mx\u001b[0m \u001b[1;33m=\u001b[0m \u001b[1;36m100\u001b[0m\u001b[1;33m\u001b[0m\u001b[0m\n\u001b[1;32m      6\u001b[0m \u001b[1;33m\u001b[0m\u001b[0m\n\u001b[0;32m----> 7\u001b[0;31m \u001b[0mprint\u001b[0m\u001b[1;33m(\u001b[0m\u001b[0mglobal_var\u001b[0m\u001b[1;33m(\u001b[0m\u001b[1;36m5\u001b[0m\u001b[1;33m)\u001b[0m\u001b[1;33m)\u001b[0m\u001b[1;33m\u001b[0m\u001b[0m\n\u001b[0m",
      "\u001b[0;32m<ipython-input-2-9a89576add47>\u001b[0m in \u001b[0;36mglobal_var\u001b[0;34m(y)\u001b[0m\n\u001b[1;32m      1\u001b[0m \u001b[1;32mdef\u001b[0m \u001b[0mglobal_var\u001b[0m\u001b[1;33m(\u001b[0m\u001b[0my\u001b[0m\u001b[1;33m)\u001b[0m \u001b[1;33m:\u001b[0m\u001b[1;33m\u001b[0m\u001b[0m\n\u001b[0;32m----> 2\u001b[0;31m     \u001b[0mx\u001b[0m \u001b[1;33m=\u001b[0m \u001b[0mx\u001b[0m \u001b[1;33m+\u001b[0m \u001b[1;36m1\u001b[0m\u001b[1;33m\u001b[0m\u001b[0m\n\u001b[0m\u001b[1;32m      3\u001b[0m     \u001b[1;32mreturn\u001b[0m \u001b[0mx\u001b[0m\u001b[1;33m+\u001b[0m\u001b[0my\u001b[0m\u001b[1;33m\u001b[0m\u001b[0m\n\u001b[1;32m      4\u001b[0m \u001b[1;33m\u001b[0m\u001b[0m\n\u001b[1;32m      5\u001b[0m \u001b[0mx\u001b[0m \u001b[1;33m=\u001b[0m \u001b[1;36m100\u001b[0m\u001b[1;33m\u001b[0m\u001b[0m\n",
      "\u001b[0;31mUnboundLocalError\u001b[0m: local variable 'x' referenced before assignment"
     ]
    }
   ],
   "source": [
    "def global_var(y) :\n",
    "    x = x + 1\n",
    "    return x+y\n",
    "\n",
    "x = 100\n",
    "\n",
    "print(global_var(5))"
   ]
  },
  {
   "cell_type": "code",
   "execution_count": 3,
   "metadata": {
    "collapsed": false
   },
   "outputs": [
    {
     "name": "stdout",
     "output_type": "stream",
     "text": [
      "local variable 'x' referenced before assignment\n"
     ]
    }
   ],
   "source": [
    "try :\n",
    "    print(global_var(5))\n",
    "except UnboundLocalError as e:\n",
    "    print(e)"
   ]
  },
  {
   "cell_type": "code",
   "execution_count": 4,
   "metadata": {
    "collapsed": false
   },
   "outputs": [
    {
     "name": "stdout",
     "output_type": "stream",
     "text": [
      " 예외 발생 \n"
     ]
    }
   ],
   "source": [
    "try :\n",
    "    raise Exception(\" 예외 발생 \")\n",
    "except Exception as e:\n",
    "    print(e)"
   ]
  },
  {
   "cell_type": "markdown",
   "metadata": {},
   "source": [
    "## 예제 17-2 : 예외 발생 시 반드시 처리가 필요한 경우 처리방식\n"
   ]
  },
  {
   "cell_type": "code",
   "execution_count": 6,
   "metadata": {
    "collapsed": false
   },
   "outputs": [
    {
     "name": "stdout",
     "output_type": "stream",
     "text": [
      " 예외 발생 \n",
      " finallay \n"
     ]
    }
   ],
   "source": [
    "try :\n",
    "    raise Exception(\" 예외 발생 \")\n",
    "except Exception as e:\n",
    "    print(e)\n",
    "else :\n",
    "    print(\" else \")\n",
    "finally :\n",
    "    print(\" finallay \")"
   ]
  },
  {
   "cell_type": "code",
   "execution_count": 7,
   "metadata": {
    "collapsed": false
   },
   "outputs": [
    {
     "name": "stdout",
     "output_type": "stream",
     "text": [
      "정상처리\n",
      " else \n",
      " finallay \n"
     ]
    }
   ],
   "source": [
    "try :\n",
    "    print(\"정상처리\")\n",
    "except Exception as e:\n",
    "    print(e)\n",
    "else :\n",
    "    print(\" else \")\n",
    "finally :\n",
    "    print(\" finallay \")"
   ]
  },
  {
   "cell_type": "markdown",
   "metadata": {},
   "source": [
    "## 예제 17-3  :  블록을 표시하지 않을 경우 "
   ]
  },
  {
   "cell_type": "code",
   "execution_count": 8,
   "metadata": {
    "collapsed": false
   },
   "outputs": [
    {
     "ename": "SyntaxError",
     "evalue": "invalid syntax (<ipython-input-8-d774f636cb6c>, line 1)",
     "output_type": "error",
     "traceback": [
      "\u001b[0;36m  File \u001b[0;32m\"<ipython-input-8-d774f636cb6c>\"\u001b[0;36m, line \u001b[0;32m1\u001b[0m\n\u001b[0;31m    while True\u001b[0m\n\u001b[0m               ^\u001b[0m\n\u001b[0;31mSyntaxError\u001b[0m\u001b[0;31m:\u001b[0m invalid syntax\n"
     ]
    }
   ],
   "source": [
    "while True \n",
    "    print(\" while block \")"
   ]
  },
  {
   "cell_type": "code",
   "execution_count": 2,
   "metadata": {
    "collapsed": false
   },
   "outputs": [
    {
     "ename": "SyntaxError",
     "evalue": "invalid syntax (<ipython-input-2-188133094a03>, line 1)",
     "output_type": "error",
     "traceback": [
      "\u001b[0;36m  File \u001b[0;32m\"<ipython-input-2-188133094a03>\"\u001b[0;36m, line \u001b[0;32m1\u001b[0m\n\u001b[0;31m    while True print(\" while block \")\u001b[0m\n\u001b[0m                   ^\u001b[0m\n\u001b[0;31mSyntaxError\u001b[0m\u001b[0;31m:\u001b[0m invalid syntax\n"
     ]
    }
   ],
   "source": [
    "while True print(\" while block \")"
   ]
  },
  {
   "cell_type": "code",
   "execution_count": 9,
   "metadata": {
    "collapsed": false
   },
   "outputs": [
    {
     "ename": "SyntaxError",
     "evalue": "invalid syntax (<ipython-input-9-9095674caf91>, line 1)",
     "output_type": "error",
     "traceback": [
      "\u001b[0;36m  File \u001b[0;32m\"<ipython-input-9-9095674caf91>\"\u001b[0;36m, line \u001b[0;32m1\u001b[0m\n\u001b[0;31m    for i in range(3)\u001b[0m\n\u001b[0m                      ^\u001b[0m\n\u001b[0;31mSyntaxError\u001b[0m\u001b[0;31m:\u001b[0m invalid syntax\n"
     ]
    }
   ],
   "source": [
    "for i in range(3) \n",
    "    print(\" for block \")"
   ]
  },
  {
   "cell_type": "code",
   "execution_count": 1,
   "metadata": {
    "collapsed": false
   },
   "outputs": [
    {
     "ename": "SyntaxError",
     "evalue": "invalid syntax (<ipython-input-1-804eedbf2480>, line 1)",
     "output_type": "error",
     "traceback": [
      "\u001b[0;36m  File \u001b[0;32m\"<ipython-input-1-804eedbf2480>\"\u001b[0;36m, line \u001b[0;32m1\u001b[0m\n\u001b[0;31m    for i in range(3) print(\" for block \")\u001b[0m\n\u001b[0m                          ^\u001b[0m\n\u001b[0;31mSyntaxError\u001b[0m\u001b[0;31m:\u001b[0m invalid syntax\n"
     ]
    }
   ],
   "source": [
    "for i in range(3) print(\" for block \")"
   ]
  },
  {
   "cell_type": "code",
   "execution_count": 3,
   "metadata": {
    "collapsed": false
   },
   "outputs": [
    {
     "ename": "IndentationError",
     "evalue": "unexpected indent (<ipython-input-3-e6a46ef4fe6f>, line 4)",
     "output_type": "error",
     "traceback": [
      "\u001b[0;36m  File \u001b[0;32m\"<ipython-input-3-e6a46ef4fe6f>\"\u001b[0;36m, line \u001b[0;32m4\u001b[0m\n\u001b[0;31m    counter += 1\u001b[0m\n\u001b[0m    ^\u001b[0m\n\u001b[0;31mIndentationError\u001b[0m\u001b[0;31m:\u001b[0m unexpected indent\n"
     ]
    }
   ],
   "source": [
    "counter = 0\n",
    "while True  :\n",
    "    print(counter) \n",
    "        counter += 1"
   ]
  },
  {
   "cell_type": "markdown",
   "metadata": {},
   "source": [
    "### 예제 17-4  :  괄호나 인용부호 처리 에러\n"
   ]
  },
  {
   "cell_type": "code",
   "execution_count": 37,
   "metadata": {
    "collapsed": false
   },
   "outputs": [
    {
     "ename": "SyntaxError",
     "evalue": "unexpected EOF while parsing (<ipython-input-37-d6e95b5b0567>, line 1)",
     "output_type": "error",
     "traceback": [
      "\u001b[0;36m  File \u001b[0;32m\"<ipython-input-37-d6e95b5b0567>\"\u001b[0;36m, line \u001b[0;32m1\u001b[0m\n\u001b[0;31m    ((x+4) *(3/3)\u001b[0m\n\u001b[0m                 ^\u001b[0m\n\u001b[0;31mSyntaxError\u001b[0m\u001b[0;31m:\u001b[0m unexpected EOF while parsing\n"
     ]
    }
   ],
   "source": [
    "((x+4) *(3/3)"
   ]
  },
  {
   "cell_type": "code",
   "execution_count": 38,
   "metadata": {
    "collapsed": false
   },
   "outputs": [
    {
     "ename": "SyntaxError",
     "evalue": "invalid syntax (<ipython-input-38-618919223ff1>, line 2)",
     "output_type": "error",
     "traceback": [
      "\u001b[0;36m  File \u001b[0;32m\"<ipython-input-38-618919223ff1>\"\u001b[0;36m, line \u001b[0;32m2\u001b[0m\n\u001b[0;31m    print(b)\u001b[0m\n\u001b[0m        ^\u001b[0m\n\u001b[0;31mSyntaxError\u001b[0m\u001b[0;31m:\u001b[0m invalid syntax\n"
     ]
    }
   ],
   "source": [
    "b = ((x+4) *(3/3)\n",
    "print(b)"
   ]
  },
  {
   "cell_type": "code",
   "execution_count": 39,
   "metadata": {
    "collapsed": false
   },
   "outputs": [
    {
     "ename": "SyntaxError",
     "evalue": "invalid syntax (<ipython-input-39-e5fcb569a5c9>, line 1)",
     "output_type": "error",
     "traceback": [
      "\u001b[0;36m  File \u001b[0;32m\"<ipython-input-39-e5fcb569a5c9>\"\u001b[0;36m, line \u001b[0;32m1\u001b[0m\n\u001b[0;31m    b = \"가을이라 \"가을바람\"\u001b[0m\n\u001b[0m                  ^\u001b[0m\n\u001b[0;31mSyntaxError\u001b[0m\u001b[0;31m:\u001b[0m invalid syntax\n"
     ]
    }
   ],
   "source": [
    "b = \"가을이라 \"가을바람\""
   ]
  },
  {
   "cell_type": "code",
   "execution_count": 42,
   "metadata": {
    "collapsed": false
   },
   "outputs": [
    {
     "ename": "SyntaxError",
     "evalue": "invalid syntax (<ipython-input-42-a48de3e2b83e>, line 1)",
     "output_type": "error",
     "traceback": [
      "\u001b[0;36m  File \u001b[0;32m\"<ipython-input-42-a48de3e2b83e>\"\u001b[0;36m, line \u001b[0;32m1\u001b[0m\n\u001b[0;31m    b = \"가을이라 \"\"\" 가을바람\"\"\"\u001b[0m\n\u001b[0m                     ^\u001b[0m\n\u001b[0;31mSyntaxError\u001b[0m\u001b[0;31m:\u001b[0m invalid syntax\n"
     ]
    }
   ],
   "source": [
    "b = \"가을이라 \"\"\" 가을바람\"\"\""
   ]
  },
  {
   "cell_type": "markdown",
   "metadata": {},
   "source": [
    "## 예제 17-5  :  코딩 실수로 발생하는 오류\n"
   ]
  },
  {
   "cell_type": "code",
   "execution_count": 43,
   "metadata": {
    "collapsed": false
   },
   "outputs": [
    {
     "ename": "NameError",
     "evalue": "name 'abc' is not defined",
     "output_type": "error",
     "traceback": [
      "\u001b[0;31m---------------------------------------------------------------------------\u001b[0m",
      "\u001b[0;31mNameError\u001b[0m                                 Traceback (most recent call last)",
      "\u001b[0;32m<ipython-input-43-fb8e540c9088>\u001b[0m in \u001b[0;36m<module>\u001b[0;34m()\u001b[0m\n\u001b[0;32m----> 1\u001b[0;31m \u001b[0mprint\u001b[0m\u001b[1;33m(\u001b[0m\u001b[0mabc\u001b[0m\u001b[1;33m)\u001b[0m\u001b[1;33m\u001b[0m\u001b[0m\n\u001b[0m",
      "\u001b[0;31mNameError\u001b[0m: name 'abc' is not defined"
     ]
    }
   ],
   "source": [
    "print(abc)"
   ]
  },
  {
   "cell_type": "code",
   "execution_count": 44,
   "metadata": {
    "collapsed": false
   },
   "outputs": [
    {
     "ename": "NameError",
     "evalue": "name 'add' is not defined",
     "output_type": "error",
     "traceback": [
      "\u001b[0;31m---------------------------------------------------------------------------\u001b[0m",
      "\u001b[0;31mNameError\u001b[0m                                 Traceback (most recent call last)",
      "\u001b[0;32m<ipython-input-44-61a399181d0f>\u001b[0m in \u001b[0;36m<module>\u001b[0;34m()\u001b[0m\n\u001b[0;32m----> 1\u001b[0;31m \u001b[0mprint\u001b[0m\u001b[1;33m(\u001b[0m\u001b[0madd\u001b[0m\u001b[1;33m(\u001b[0m\u001b[1;36m10\u001b[0m\u001b[1;33m,\u001b[0m\u001b[1;36m10\u001b[0m\u001b[1;33m)\u001b[0m\u001b[1;33m)\u001b[0m\u001b[1;33m\u001b[0m\u001b[0m\n\u001b[0m\u001b[1;32m      2\u001b[0m \u001b[1;33m\u001b[0m\u001b[0m\n\u001b[1;32m      3\u001b[0m \u001b[1;32mdef\u001b[0m \u001b[0madd\u001b[0m\u001b[1;33m(\u001b[0m\u001b[0mx\u001b[0m\u001b[1;33m,\u001b[0m\u001b[0my\u001b[0m\u001b[1;33m)\u001b[0m \u001b[1;33m:\u001b[0m\u001b[1;33m\u001b[0m\u001b[0m\n\u001b[1;32m      4\u001b[0m     \u001b[1;32mreturn\u001b[0m \u001b[0mx\u001b[0m\u001b[1;33m+\u001b[0m\u001b[0my\u001b[0m\u001b[1;33m\u001b[0m\u001b[0m\n",
      "\u001b[0;31mNameError\u001b[0m: name 'add' is not defined"
     ]
    }
   ],
   "source": [
    "print(add(10,10))\n",
    "\n",
    "def add(x,y) :\n",
    "    return x+y"
   ]
  },
  {
   "cell_type": "code",
   "execution_count": 45,
   "metadata": {
    "collapsed": false
   },
   "outputs": [
    {
     "ename": "IndexError",
     "evalue": "list index out of range",
     "output_type": "error",
     "traceback": [
      "\u001b[0;31m---------------------------------------------------------------------------\u001b[0m",
      "\u001b[0;31mIndexError\u001b[0m                                Traceback (most recent call last)",
      "\u001b[0;32m<ipython-input-45-2bf7b87cfcda>\u001b[0m in \u001b[0;36m<module>\u001b[0;34m()\u001b[0m\n\u001b[1;32m      1\u001b[0m \u001b[0ml\u001b[0m \u001b[1;33m=\u001b[0m \u001b[1;33m[\u001b[0m\u001b[1;36m1\u001b[0m\u001b[1;33m,\u001b[0m\u001b[1;36m2\u001b[0m\u001b[1;33m,\u001b[0m\u001b[1;36m3\u001b[0m\u001b[1;33m]\u001b[0m\u001b[1;33m\u001b[0m\u001b[0m\n\u001b[0;32m----> 2\u001b[0;31m \u001b[0mprint\u001b[0m\u001b[1;33m(\u001b[0m\u001b[0ml\u001b[0m\u001b[1;33m[\u001b[0m\u001b[1;36m3\u001b[0m\u001b[1;33m]\u001b[0m\u001b[1;33m)\u001b[0m\u001b[1;33m\u001b[0m\u001b[0m\n\u001b[0m",
      "\u001b[0;31mIndexError\u001b[0m: list index out of range"
     ]
    }
   ],
   "source": [
    "l = [1,2,3]\n",
    "print(l[3])"
   ]
  },
  {
   "cell_type": "code",
   "execution_count": 47,
   "metadata": {
    "collapsed": false
   },
   "outputs": [
    {
     "ename": "KeyError",
     "evalue": "3",
     "output_type": "error",
     "traceback": [
      "\u001b[0;31m---------------------------------------------------------------------------\u001b[0m",
      "\u001b[0;31mKeyError\u001b[0m                                  Traceback (most recent call last)",
      "\u001b[0;32m<ipython-input-47-ecabbe39e780>\u001b[0m in \u001b[0;36m<module>\u001b[0;34m()\u001b[0m\n\u001b[1;32m      1\u001b[0m \u001b[0md\u001b[0m \u001b[1;33m=\u001b[0m \u001b[1;33m{\u001b[0m\u001b[1;36m0\u001b[0m\u001b[1;33m:\u001b[0m\u001b[1;36m1\u001b[0m\u001b[1;33m,\u001b[0m \u001b[1;36m1\u001b[0m\u001b[1;33m:\u001b[0m\u001b[1;36m2\u001b[0m\u001b[1;33m,\u001b[0m \u001b[1;36m2\u001b[0m\u001b[1;33m:\u001b[0m\u001b[1;36m3\u001b[0m\u001b[1;33m}\u001b[0m\u001b[1;33m\u001b[0m\u001b[0m\n\u001b[0;32m----> 2\u001b[0;31m \u001b[0mprint\u001b[0m\u001b[1;33m(\u001b[0m\u001b[0md\u001b[0m\u001b[1;33m[\u001b[0m\u001b[1;36m3\u001b[0m\u001b[1;33m]\u001b[0m\u001b[1;33m)\u001b[0m\u001b[1;33m\u001b[0m\u001b[0m\n\u001b[0m",
      "\u001b[0;31mKeyError\u001b[0m: 3"
     ]
    }
   ],
   "source": [
    "d = {0:1, 1:2, 2:3} \n",
    "print(d[3])"
   ]
  },
  {
   "cell_type": "markdown",
   "metadata": {},
   "source": [
    "## 예제 17-6  :  Exception 클래스 구조 알아보기\n"
   ]
  },
  {
   "cell_type": "code",
   "execution_count": 48,
   "metadata": {
    "collapsed": false
   },
   "outputs": [
    {
     "name": "stdout",
     "output_type": "stream",
     "text": [
      "<class 'BaseException'>\n",
      "(<class 'object'>,)\n",
      "args\n",
      "with_traceback\n"
     ]
    }
   ],
   "source": [
    "print(BaseException)\n",
    "print(BaseException.__bases__)\n",
    "\n",
    "for i in dir(BaseException) :\n",
    "    if not i.startswith(\"_\") :\n",
    "        print(i)"
   ]
  },
  {
   "cell_type": "code",
   "execution_count": 20,
   "metadata": {
    "collapsed": false
   },
   "outputs": [
    {
     "name": "stdout",
     "output_type": "stream",
     "text": [
      "with_traceback\n",
      "__setstate__\n",
      "__context__\n",
      "__cause__\n",
      "__traceback__\n",
      "args\n",
      "__suppress_context__\n",
      "__dict__\n"
     ]
    }
   ],
   "source": [
    "b = set(dir(BaseException))\n",
    "o = set(dir(object))\n",
    "\n",
    "for i in (b - o) :\n",
    "    print(i)"
   ]
  },
  {
   "cell_type": "code",
   "execution_count": 50,
   "metadata": {
    "collapsed": false
   },
   "outputs": [
    {
     "name": "stdout",
     "output_type": "stream",
     "text": [
      "(' 예외 강제 발생 ', ' 정말')\n",
      "<built-in method with_traceback of BaseException object at 0x00000000055CFE08>\n",
      "(<class 'BaseException'>, BaseException(' 예외 강제 발생 ', ' 정말'), <traceback object at 0x0000000005840708>)\n",
      "<traceback object at 0x0000000005840708>\n",
      "(' 예외 강제 발생 ', ' 정말')\n",
      " 실제 예외에 보관된 내용 출력\n"
     ]
    }
   ],
   "source": [
    "import sys\n",
    "\n",
    "try :\n",
    "    raise BaseException(\" 예외 강제 발생 \",\" 정말\")\n",
    "except BaseException as e :\n",
    "    print(e)\n",
    "    print(e.with_traceback)\n",
    "    print(sys.exc_info())\n",
    "    tb = sys.exc_info()[2]\n",
    "    print(tb)\n",
    "    print(e.with_traceback(tb))\n",
    "    print(\" 실제 예외에 보관된 내용 출력\")"
   ]
  },
  {
   "cell_type": "code",
   "execution_count": 53,
   "metadata": {
    "collapsed": false
   },
   "outputs": [
    {
     "name": "stdout",
     "output_type": "stream",
     "text": [
      "(<class 'BaseException'>,)\n",
      "<class 'type'>\n"
     ]
    }
   ],
   "source": [
    "print(Exception.__bases__)\n",
    "print(Exception.__class__)"
   ]
  },
  {
   "cell_type": "code",
   "execution_count": 54,
   "metadata": {
    "collapsed": false
   },
   "outputs": [
    {
     "name": "stdout",
     "output_type": "stream",
     "text": [
      "mappingproxy({'__doc__': 'Common base class for all non-exit exceptions.',\n",
      "              '__init__': <slot wrapper '__init__' of 'Exception' objects>,\n",
      "              '__new__': <built-in method __new__ of type object at 0x00000000542FA370>})\n"
     ]
    }
   ],
   "source": [
    "import pprint\n",
    "\n",
    "pprint.pprint(Exception.__dict__)"
   ]
  },
  {
   "cell_type": "code",
   "execution_count": 57,
   "metadata": {
    "collapsed": false
   },
   "outputs": [
    {
     "name": "stdout",
     "output_type": "stream",
     "text": [
      "예외 인스턴스를 하나를 만든다.\n",
      "('예외 인스턴스를 하나를 만든다.',)\n",
      "<built-in method with_traceback of Exception object at 0x00000000055F3B48>\n"
     ]
    }
   ],
   "source": [
    "e = Exception(\"예외 인스턴스를 하나를 만든다.\") \n",
    "\n",
    "print(e)\n",
    "print(e.args)\n"
   ]
  },
  {
   "cell_type": "code",
   "execution_count": 58,
   "metadata": {
    "collapsed": false
   },
   "outputs": [
    {
     "name": "stdout",
     "output_type": "stream",
     "text": [
      "(<class 'Exception'>,)\n",
      "<class 'type'>\n"
     ]
    }
   ],
   "source": [
    "print(ArithmeticError.__bases__)\n",
    "print(ArithmeticError.__class__)"
   ]
  },
  {
   "cell_type": "code",
   "execution_count": 59,
   "metadata": {
    "collapsed": false
   },
   "outputs": [
    {
     "name": "stdout",
     "output_type": "stream",
     "text": [
      "(<class 'Exception'>,)\n",
      "<class 'type'>\n"
     ]
    }
   ],
   "source": [
    "print(BufferError.__bases__)\n",
    "print(BufferError.__class__)"
   ]
  },
  {
   "cell_type": "code",
   "execution_count": 60,
   "metadata": {
    "collapsed": false
   },
   "outputs": [
    {
     "name": "stdout",
     "output_type": "stream",
     "text": [
      "(<class 'Exception'>,)\n",
      "<class 'type'>\n"
     ]
    }
   ],
   "source": [
    "print(LookupError.__bases__)\n",
    "print(LookupError.__class__)"
   ]
  },
  {
   "cell_type": "markdown",
   "metadata": {},
   "source": [
    "## 예제 17-7  :  내장 예외에 대한 관계 확인하기\n"
   ]
  },
  {
   "cell_type": "code",
   "execution_count": 66,
   "metadata": {
    "collapsed": false
   },
   "outputs": [
    {
     "name": "stdout",
     "output_type": "stream",
     "text": [
      "(<class 'ArithmeticError'>,)\n",
      "(<class 'ArithmeticError'>,)\n",
      "(<class 'ArithmeticError'>,)\n"
     ]
    }
   ],
   "source": [
    "print(FloatingPointError.__bases__)\n",
    "print(OverflowError.__bases__)\n",
    "print(ZeroDivisionError.__bases__)"
   ]
  },
  {
   "cell_type": "code",
   "execution_count": 63,
   "metadata": {
    "collapsed": false
   },
   "outputs": [
    {
     "name": "stdout",
     "output_type": "stream",
     "text": [
      "(<class 'Exception'>,)\n"
     ]
    }
   ],
   "source": [
    "print(ArithmeticError.__bases__)"
   ]
  },
  {
   "cell_type": "code",
   "execution_count": 64,
   "metadata": {
    "collapsed": false
   },
   "outputs": [
    {
     "name": "stdout",
     "output_type": "stream",
     "text": [
      "(<class 'BaseException'>,)\n"
     ]
    }
   ],
   "source": [
    "print(Exception.__bases__)"
   ]
  },
  {
   "cell_type": "code",
   "execution_count": 75,
   "metadata": {
    "collapsed": false
   },
   "outputs": [
    {
     "name": "stdout",
     "output_type": "stream",
     "text": [
      " 0이 분모에 들어가 있다 \n",
      "set()\n"
     ]
    }
   ],
   "source": [
    "a = ZeroDivisionError(\" 0이 분모에 들어가 있다 \")\n",
    "\n",
    "z = set(dir(ZeroDivisionError))\n",
    "ar = set(dir(ArithmeticError))\n",
    "c = (z-ar)\n",
    "\n",
    "print(a)\n",
    "print(c)"
   ]
  },
  {
   "cell_type": "code",
   "execution_count": 84,
   "metadata": {
    "collapsed": false
   },
   "outputs": [
    {
     "name": "stdout",
     "output_type": "stream",
     "text": [
      "(<class 'Exception'>,)\n",
      "{'value'}\n"
     ]
    }
   ],
   "source": [
    "print(StopIteration.__bases__)\n",
    "sid = set(dir(StopIteration))\n",
    "exp = set(dir(Exception))\n",
    "\n",
    "print(sid-exp)"
   ]
  },
  {
   "cell_type": "code",
   "execution_count": 83,
   "metadata": {
    "collapsed": false
   },
   "outputs": [
    {
     "name": "stdout",
     "output_type": "stream",
     "text": [
      "반복자 처리 종료\n",
      "('반복자 처리 종료',)\n",
      "반복자 처리 종료\n"
     ]
    }
   ],
   "source": [
    "si = StopIteration(\"반복자 처리 종료\") \n",
    "print(si)\n",
    "print(si.args)\n",
    "print(si.value)"
   ]
  },
  {
   "cell_type": "markdown",
   "metadata": {},
   "source": [
    "## 예제 17-8  :  사용자 예외 정의해서 처리해 보기\n"
   ]
  },
  {
   "cell_type": "code",
   "execution_count": 85,
   "metadata": {
    "collapsed": true
   },
   "outputs": [],
   "source": [
    "class UserError(Exception) :\n",
    "    def __init__(self,err_no,err_pgm,err_msg) :\n",
    "        super().__init__(err_msg)\n",
    "        self.err_no = err_no\n",
    "        self.err_pgm = err_pgm\n",
    "        self.err_msg = err_msg"
   ]
  },
  {
   "cell_type": "code",
   "execution_count": 86,
   "metadata": {
    "collapsed": false
   },
   "outputs": [
    {
     "name": "stdout",
     "output_type": "stream",
     "text": [
      "1\n",
      "__main__\n",
      "장애가 발생했습니다.\n"
     ]
    }
   ],
   "source": [
    "try :\n",
    "    raise UserError(1,__name__,\"장애가 발생했습니다.\")\n",
    "except UserError as e :\n",
    "    print(e.err_no)\n",
    "    print(e.err_pgm)\n",
    "    print(e.err_msg)"
   ]
  },
  {
   "cell_type": "code",
   "execution_count": 87,
   "metadata": {
    "collapsed": false
   },
   "outputs": [
    {
     "name": "stdout",
     "output_type": "stream",
     "text": [
      "Writing UserError.py\n"
     ]
    }
   ],
   "source": [
    "%%writefile UserError.py\n",
    "class UserError(Exception) :\n",
    "    def __init__(self,err_no,err_pgm,err_msg) :\n",
    "        super().__init__(err_msg)\n",
    "        self.err_no = err_no\n",
    "        self.err_pgm = err_pgm\n",
    "        self.err_msg = err_msg"
   ]
  },
  {
   "cell_type": "code",
   "execution_count": 88,
   "metadata": {
    "collapsed": false
   },
   "outputs": [
    {
     "name": "stdout",
     "output_type": "stream",
     "text": [
      "Writing error.py\n"
     ]
    }
   ],
   "source": [
    "%%writefile error.py\n",
    "import UserError as UE\n",
    "try :\n",
    "    raise UE.UserError(1,__name__,\"장애가 발생했습니다.\")\n",
    "except UE.UserError as e :\n",
    "    print(e.err_no)\n",
    "    print(e.err_pgm)\n",
    "    print(e.err_msg)"
   ]
  },
  {
   "cell_type": "code",
   "execution_count": 89,
   "metadata": {
    "collapsed": false
   },
   "outputs": [
    {
     "name": "stdout",
     "output_type": "stream",
     "text": [
      "1\n",
      "__main__\n",
      "장애가 발생했습니다.\n"
     ]
    }
   ],
   "source": [
    "!python error.py"
   ]
  },
  {
   "cell_type": "markdown",
   "metadata": {},
   "source": [
    "## 예제 17-9  :  traceback 처리"
   ]
  },
  {
   "cell_type": "code",
   "execution_count": 122,
   "metadata": {
    "collapsed": false
   },
   "outputs": [
    {
     "ename": "ZeroDivisionError",
     "evalue": "division by zero",
     "output_type": "error",
     "traceback": [
      "\u001b[0;31m---------------------------------------------------------------------------\u001b[0m",
      "\u001b[0;31mZeroDivisionError\u001b[0m                         Traceback (most recent call last)",
      "\u001b[0;32m<ipython-input-122-b318a0b435e4>\u001b[0m in \u001b[0;36m<module>\u001b[0;34m()\u001b[0m\n\u001b[1;32m      2\u001b[0m     \u001b[1;32mreturn\u001b[0m \u001b[0mx\u001b[0m\u001b[1;33m/\u001b[0m\u001b[0my\u001b[0m\u001b[1;33m\u001b[0m\u001b[0m\n\u001b[1;32m      3\u001b[0m \u001b[1;33m\u001b[0m\u001b[0m\n\u001b[0;32m----> 4\u001b[0;31m \u001b[0mdiv\u001b[0m\u001b[1;33m(\u001b[0m\u001b[1;36m20\u001b[0m\u001b[1;33m,\u001b[0m\u001b[1;36m0\u001b[0m\u001b[1;33m)\u001b[0m\u001b[1;33m\u001b[0m\u001b[0m\n\u001b[0m",
      "\u001b[0;32m<ipython-input-122-b318a0b435e4>\u001b[0m in \u001b[0;36mdiv\u001b[0;34m(x, y)\u001b[0m\n\u001b[1;32m      1\u001b[0m \u001b[1;32mdef\u001b[0m \u001b[0mdiv\u001b[0m\u001b[1;33m(\u001b[0m\u001b[0mx\u001b[0m\u001b[1;33m,\u001b[0m\u001b[0my\u001b[0m\u001b[1;33m)\u001b[0m \u001b[1;33m:\u001b[0m\u001b[1;33m\u001b[0m\u001b[0m\n\u001b[0;32m----> 2\u001b[0;31m     \u001b[1;32mreturn\u001b[0m \u001b[0mx\u001b[0m\u001b[1;33m/\u001b[0m\u001b[0my\u001b[0m\u001b[1;33m\u001b[0m\u001b[0m\n\u001b[0m\u001b[1;32m      3\u001b[0m \u001b[1;33m\u001b[0m\u001b[0m\n\u001b[1;32m      4\u001b[0m \u001b[0mdiv\u001b[0m\u001b[1;33m(\u001b[0m\u001b[1;36m20\u001b[0m\u001b[1;33m,\u001b[0m\u001b[1;36m0\u001b[0m\u001b[1;33m)\u001b[0m\u001b[1;33m\u001b[0m\u001b[0m\n",
      "\u001b[0;31mZeroDivisionError\u001b[0m: division by zero"
     ]
    }
   ],
   "source": [
    "def div(x,y) :\n",
    "    return x/y\n",
    "\n",
    "div(20,0)"
   ]
  },
  {
   "cell_type": "code",
   "execution_count": 118,
   "metadata": {
    "collapsed": false
   },
   "outputs": [
    {
     "name": "stdout",
     "output_type": "stream",
     "text": [
      "<class 'traceback'>\n"
     ]
    }
   ],
   "source": [
    "import sys\n",
    "\n",
    "def div(x,y) :\n",
    "    return x/y\n",
    "\n",
    "try :\n",
    "    div(10,0)\n",
    "except ZeroDivisionError as e :\n",
    "    se = sys.exc_info()\n",
    "    tb = se[2]\n",
    "    print(type(se[2]))\n",
    "    tb_at = dir(se[2])"
   ]
  },
  {
   "cell_type": "code",
   "execution_count": 123,
   "metadata": {
    "collapsed": false
   },
   "outputs": [
    {
     "name": "stdout",
     "output_type": "stream",
     "text": [
      "<traceback object at 0x000000000587C188>\n",
      "['tb_frame', 'tb_lasti', 'tb_lineno', 'tb_next']\n"
     ]
    }
   ],
   "source": [
    "print(tb)\n",
    "print(tb_at)"
   ]
  },
  {
   "cell_type": "code",
   "execution_count": 124,
   "metadata": {
    "collapsed": false
   },
   "outputs": [
    {
     "name": "stdout",
     "output_type": "stream",
     "text": [
      "<frame object at 0x0000000004EA11D8>\n",
      "8\n",
      "7\n",
      "<traceback object at 0x000000000587C948>\n"
     ]
    }
   ],
   "source": [
    "print(tb.tb_frame)\n",
    "print(tb.tb_lasti)\n",
    "print(tb.tb_lineno)\n",
    "print(tb.tb_next)"
   ]
  },
  {
   "cell_type": "code",
   "execution_count": 120,
   "metadata": {
    "collapsed": false
   },
   "outputs": [
    {
     "name": "stdout",
     "output_type": "stream",
     "text": [
      "<class 'frame'>\n",
      "None\n",
      "<code object <module> at 0x00000000055E29C0, file \"<ipython-input-118-e0c28f43e17c>\", line 6>\n",
      "def div(x,y) :\n",
      "    return x/y\n",
      "\n"
     ]
    }
   ],
   "source": [
    "import inspect\n",
    "\n",
    "print(type(tb.tb_frame))\n",
    "print(tb.tb_frame.f_trace)\n",
    "print(tb.tb_frame.f_code)\n",
    "print(inspect.getsource(tb.tb_frame.f_code))"
   ]
  },
  {
   "cell_type": "markdown",
   "metadata": {},
   "source": [
    "## 예제 17-10  :  traceback 모듈 처리\n"
   ]
  },
  {
   "cell_type": "code",
   "execution_count": 127,
   "metadata": {
    "collapsed": false
   },
   "outputs": [
    {
     "ename": "OSError",
     "evalue": " 트래이스 모듈로 정보 확인하기 ",
     "output_type": "error",
     "traceback": [
      "\u001b[0;31m---------------------------------------------------------------------------\u001b[0m",
      "\u001b[0;31mOSError\u001b[0m                                   Traceback (most recent call last)",
      "\u001b[0;32m<ipython-input-127-e63296f844a4>\u001b[0m in \u001b[0;36m<module>\u001b[0;34m()\u001b[0m\n\u001b[0;32m----> 1\u001b[0;31m \u001b[1;32mraise\u001b[0m \u001b[0mIOError\u001b[0m\u001b[1;33m(\u001b[0m\u001b[1;34m\" 트래이스 모듈로 정보 확인하기 \"\u001b[0m\u001b[1;33m)\u001b[0m\u001b[1;33m\u001b[0m\u001b[0m\n\u001b[0m",
      "\u001b[0;31mOSError\u001b[0m:  트래이스 모듈로 정보 확인하기 "
     ]
    }
   ],
   "source": [
    "raise IOError(\" 트래이스 모듈로 정보 확인하기 \")"
   ]
  },
  {
   "cell_type": "code",
   "execution_count": 126,
   "metadata": {
    "collapsed": false
   },
   "outputs": [
    {
     "name": "stderr",
     "output_type": "stream",
     "text": [
      "Traceback (most recent call last):\n",
      "  File \"<ipython-input-126-7a0d3854d674>\", line 4, in <module>\n",
      "    raise IOError(\" 트래이스 모듈로 정보 확인하기 \")\n",
      "OSError:  트래이스 모듈로 정보 확인하기 \n"
     ]
    }
   ],
   "source": [
    "import traceback\n",
    "\n",
    "try :\n",
    "    raise IOError(\" 트래이스 모듈로 정보 확인하기 \")\n",
    "except IOError as e :\n",
    "    traceback.print_exc()"
   ]
  },
  {
   "cell_type": "code",
   "execution_count": 129,
   "metadata": {
    "collapsed": false
   },
   "outputs": [
    {
     "name": "stdout",
     "output_type": "stream",
     "text": [
      "Traceback (most recent call last):\n",
      "  File \"<ipython-input-129-0773bcea41ce>\", line 5, in <module>\n",
      "    raise IOError(\" 트래이스 모듈로 정보 확인하기 \")\n",
      "OSError:  트래이스 모듈로 정보 확인하기 \n",
      "\n"
     ]
    }
   ],
   "source": [
    "import traceback\n",
    "import io\n",
    "\n",
    "try :\n",
    "    raise IOError(\" 트래이스 모듈로 정보 확인하기 \")\n",
    "except IOError as e :\n",
    "    file = io.StringIO()\n",
    "    traceback.print_exc(file=file)\n",
    "finally :\n",
    "    print(file.getvalue())"
   ]
  },
  {
   "cell_type": "markdown",
   "metadata": {
    "collapsed": true
   },
   "source": [
    "## 예제 17-11  :  네임스페이스에 실행된 이름이 존재여부 확인\n"
   ]
  },
  {
   "cell_type": "code",
   "execution_count": 28,
   "metadata": {
    "collapsed": true
   },
   "outputs": [],
   "source": [
    "import sys, traceback\n",
    "\n",
    "def exec_run(namespace) :\n",
    "    command = input(\">>>\")\n",
    "    if command == \"exit\" :\n",
    "        sys.exit()\n",
    "    \n",
    "    try :\n",
    "        exec(command)\n",
    "        if namespace[command] :\n",
    "            print(\" namespace has \", command)\n",
    "    except :\n",
    "        print(\" Exception\")\n",
    "        print(\"-\"*60)\n",
    "        traceback.print_exc(file=sys.stdout)\n",
    "        print(\"_\"*60)"
   ]
  },
  {
   "cell_type": "code",
   "execution_count": 29,
   "metadata": {
    "collapsed": false,
    "scrolled": true
   },
   "outputs": [
    {
     "name": "stdout",
     "output_type": "stream",
     "text": [
      ">>>sys\n",
      " Exception\n",
      "------------------------------------------------------------\n",
      "Traceback (most recent call last):\n",
      "  File \"<ipython-input-28-8e4d20a74363>\", line 10, in exec_run\n",
      "    if namespace[command] :\n",
      "KeyError: 'sys'\n",
      "____________________________________________________________\n"
     ]
    }
   ],
   "source": [
    "namespace = {}\n",
    "exec_run(namespace)"
   ]
  },
  {
   "cell_type": "code",
   "execution_count": 30,
   "metadata": {
    "collapsed": false
   },
   "outputs": [
    {
     "name": "stdout",
     "output_type": "stream",
     "text": [
      ">>>sys\n",
      " namespace has  sys\n"
     ]
    }
   ],
   "source": [
    "exec_run(globals())"
   ]
  },
  {
   "cell_type": "markdown",
   "metadata": {},
   "source": [
    "## 예제 17-12  :   기본 로깅 처리\n",
    "\n"
   ]
  },
  {
   "cell_type": "code",
   "execution_count": 14,
   "metadata": {
    "collapsed": false
   },
   "outputs": [
    {
     "name": "stderr",
     "output_type": "stream",
     "text": [
      "WARNING:root:Hello world\n"
     ]
    }
   ],
   "source": [
    "import logging\n",
    "logging.warning(\"Hello world\")"
   ]
  },
  {
   "cell_type": "code",
   "execution_count": 15,
   "metadata": {
    "collapsed": false
   },
   "outputs": [
    {
     "name": "stderr",
     "output_type": "stream",
     "text": [
      "WARNING:my-logger:Hello, world\n"
     ]
    }
   ],
   "source": [
    "import logging\n",
    "\n",
    "log = logging.getLogger(\"my-logger\")\n",
    "log.warning(\"Hello, world\")"
   ]
  },
  {
   "cell_type": "code",
   "execution_count": 29,
   "metadata": {
    "collapsed": false
   },
   "outputs": [
    {
     "name": "stderr",
     "output_type": "stream",
     "text": [
      "INFO:root:Hello world\n"
     ]
    }
   ],
   "source": [
    "import logging\n",
    "logging.getLogger().setLevel(logging.INFO)\n",
    "\n",
    "logging.info(\"Hello world\")\n",
    "logging.debug(\"Hello world debug\")"
   ]
  },
  {
   "cell_type": "code",
   "execution_count": 30,
   "metadata": {
    "collapsed": false
   },
   "outputs": [
    {
     "name": "stderr",
     "output_type": "stream",
     "text": [
      "INFO:root:Hello world\n",
      "DEBUG:root:Hello world debug\n"
     ]
    }
   ],
   "source": [
    "import logging\n",
    "logging.getLogger().setLevel(logging.DEBUG)\n",
    "\n",
    "logging.info(\"Hello world\")\n",
    "logging.debug(\"Hello world debug\")"
   ]
  },
  {
   "cell_type": "code",
   "execution_count": 31,
   "metadata": {
    "collapsed": false
   },
   "outputs": [
    {
     "name": "stderr",
     "output_type": "stream",
     "text": [
      "INFO:root:Hello world\n"
     ]
    }
   ],
   "source": [
    "import logging\n",
    "logging.getLogger().setLevel(logging.INFO)\n",
    "\n",
    "logging.info(\"Hello world\")\n",
    "logging.debug(\"Hello world debug\")"
   ]
  },
  {
   "cell_type": "code",
   "execution_count": 33,
   "metadata": {
    "collapsed": false
   },
   "outputs": [
    {
     "name": "stdout",
     "output_type": "stream",
     "text": [
      "Writing log_info.py\n"
     ]
    }
   ],
   "source": [
    "%%writefile log_info.py\n",
    "import logging\n",
    "\n",
    "logging.warning(\"Hello\")\n",
    "logging.error(\"Still here...\")\n",
    "logging.debug(\"debug no print\")\n",
    "logging.warning(\"Goodbye\")"
   ]
  },
  {
   "cell_type": "code",
   "execution_count": 34,
   "metadata": {
    "collapsed": false
   },
   "outputs": [
    {
     "name": "stderr",
     "output_type": "stream",
     "text": [
      "WARNING:root:Hello\n",
      "ERROR:root:Still here...\n",
      "WARNING:root:Goodbye\n"
     ]
    }
   ],
   "source": [
    "%run log_info.py"
   ]
  },
  {
   "cell_type": "code",
   "execution_count": 22,
   "metadata": {
    "collapsed": false
   },
   "outputs": [
    {
     "name": "stdout",
     "output_type": "stream",
     "text": [
      "Writing myapp.log\n"
     ]
    }
   ],
   "source": [
    "%%writefile myapp.log\n",
    "####"
   ]
  },
  {
   "cell_type": "code",
   "execution_count": 37,
   "metadata": {
    "collapsed": false
   },
   "outputs": [
    {
     "name": "stdout",
     "output_type": "stream",
     "text": [
      "Overwriting file_example.py\n"
     ]
    }
   ],
   "source": [
    "%%writefile file_example.py\n",
    "\n",
    "import logging\n",
    "\n",
    "log = logging.getLogger(\"my-logger\")\n",
    "log.setLevel(logging.WARNING)\n",
    "\n",
    "log.debug(\"this is file \")\n",
    "log.error(\"Still here...\")\n",
    "log.warning(\"Goodbye\")\n"
   ]
  },
  {
   "cell_type": "code",
   "execution_count": 38,
   "metadata": {
    "collapsed": false
   },
   "outputs": [
    {
     "name": "stderr",
     "output_type": "stream",
     "text": [
      "ERROR:my-logger:Still here...\n",
      "WARNING:my-logger:Goodbye\n"
     ]
    }
   ],
   "source": [
    "%run file_example.py"
   ]
  },
  {
   "cell_type": "code",
   "execution_count": 46,
   "metadata": {
    "collapsed": true
   },
   "outputs": [],
   "source": [
    "import logging\n",
    " \n",
    "log = logging.getLogger(__name__)\n",
    "\n",
    "log.setLevel(\"DEBUG\")\n",
    " \n",
    "def do_something():\n",
    "    log.debug(\"Doing something!\")"
   ]
  },
  {
   "cell_type": "code",
   "execution_count": 45,
   "metadata": {
    "collapsed": false
   },
   "outputs": [
    {
     "name": "stderr",
     "output_type": "stream",
     "text": [
      "DEBUG:__main__:Doing something!\n"
     ]
    },
    {
     "name": "stdout",
     "output_type": "stream",
     "text": [
      "10\n"
     ]
    }
   ],
   "source": [
    "do_something()\n",
    "\n",
    "print(log.getEffectiveLevel())"
   ]
  },
  {
   "cell_type": "code",
   "execution_count": 47,
   "metadata": {
    "collapsed": false
   },
   "outputs": [
    {
     "name": "stdout",
     "output_type": "stream",
     "text": [
      ">>> log level info\n"
     ]
    },
    {
     "name": "stderr",
     "output_type": "stream",
     "text": [
      "INFO:root: 이 예제는 정보관리20\n",
      "WARNING:root:이 예제는 경고 처리20\n",
      "ERROR:root: 이 예제는 에러 관리 20\n",
      "CRITICAL:root:이 예제는 중요한 에러 발생 20\n"
     ]
    },
    {
     "name": "stdout",
     "output_type": "stream",
     "text": [
      " logging  info\n"
     ]
    }
   ],
   "source": [
    "import logging\n",
    "\n",
    "Level = {'notset': logging.NOTSET,\n",
    "         'debug': logging.DEBUG,\n",
    "         'info' : logging.INFO,\n",
    "         'warning' : logging.WARNING, \n",
    "         'error' : logging.ERROR,\n",
    "         'critical' : logging.CRITICAL}\n",
    "\n",
    "log_level_set = input(\">>> log level \")\n",
    "\n",
    "w = Level.get(log_level_set, logging.NOTSET)\n",
    "logging.getLogger().setLevel(w)\n",
    "    \n",
    "print(\" logging \", log_level_set)\n",
    "\n",
    "logging.debug('이 예제는 디버그 처리 %d' % w)\n",
    "logging.info(' 이 예제는 정보관리%d' % w)\n",
    "logging.warning('이 예제는 경고 처리%d' % w)\n",
    "logging.error(' 이 예제는 에러 관리 %d' % w)\n",
    "logging.critical('이 예제는 중요한 에러 발생 %d' % w)\n"
   ]
  },
  {
   "cell_type": "markdown",
   "metadata": {},
   "source": [
    "## 예제 17-13  :  예외를 로깅에 남기기\n",
    "\n"
   ]
  },
  {
   "cell_type": "code",
   "execution_count": 73,
   "metadata": {
    "collapsed": false
   },
   "outputs": [
    {
     "name": "stdout",
     "output_type": "stream",
     "text": [
      "Overwriting log_doit.py\n"
     ]
    }
   ],
   "source": [
    "%%writefile log_doit.py\n",
    "import logging\n",
    "log = logging.getLogger(\"log_doit\")\n",
    "log.setLevel(logging.DEBUG) \n",
    "\n",
    "def doIt():\n",
    "    log.warning(\" 함수 내부의 로깅을 처리\")\n",
    "    \n",
    "    raise TypeError(\"doIt function : type error for testing\")\n",
    "        "
   ]
  },
  {
   "cell_type": "code",
   "execution_count": 74,
   "metadata": {
    "collapsed": false
   },
   "outputs": [
    {
     "name": "stderr",
     "output_type": "stream",
     "text": [
      "INFO:my-logger:Starting my app\n",
      "WARNING:log_doit: 함수 내부의 로깅을 처리\n",
      "ERROR:my-logger:There was a problem.\n",
      "Traceback (most recent call last):\n",
      "  File \"<ipython-input-74-33a1692b9986>\", line 7, in <module>\n",
      "    log_doit.doIt()\n",
      "  File \"/Users/dahlmoon/Documents/GitHub/python_book/python_gram/log_doit.py\", line 7, in doIt\n",
      "TypeError: doIt function : type error for testing\n",
      "INFO:my-logger:Ending my app\n"
     ]
    }
   ],
   "source": [
    "import logging, log_doit\n",
    "\n",
    "log = logging.getLogger(\"my-logger\")\n",
    "log.setLevel(logging.DEBUG) \n",
    "log.info(\"Starting my app\")\n",
    "try:\n",
    "    log_doit.doIt()\n",
    "except Exception as e:\n",
    "    log.exception(\"There was a problem.\")\n",
    "log.info(\"Ending my app\")"
   ]
  },
  {
   "cell_type": "code",
   "execution_count": 71,
   "metadata": {
    "collapsed": false
   },
   "outputs": [
    {
     "name": "stdout",
     "output_type": "stream",
     "text": [
      "Overwriting log_doit1.py\n"
     ]
    }
   ],
   "source": [
    "%%writefile log_doit1.py\n",
    "import logging\n",
    "log = logging.getLogger(\"log_doit\")\n",
    "log.setLevel(logging.DEBUG) \n",
    "\n",
    "def doIt():\n",
    "    log.warning(\" 함수 내부의 로깅을 처리\")\n",
    "    \n",
    "    raise TypeError(\"doIt function : type error for testing\")\n",
    "    \n",
    "if __name__ == \"__main__\" :\n",
    "    print(\" Main processing \")\n",
    "    try :\n",
    "        doIt()\n",
    "    except TypeError as e:\n",
    "        log.exception(e.args[0])\n",
    "    log.warning(\" 함수 내부의 로깅을 처리\")"
   ]
  },
  {
   "cell_type": "code",
   "execution_count": 72,
   "metadata": {
    "collapsed": false
   },
   "outputs": [
    {
     "name": "stderr",
     "output_type": "stream",
     "text": [
      "WARNING:log_doit: 함수 내부의 로깅을 처리\n",
      "ERROR:log_doit:doIt function : type error for testing\n",
      "Traceback (most recent call last):\n",
      "  File \"/Users/dahlmoon/Documents/GitHub/python_book/python_gram/log_doit1.py\", line 13, in <module>\n",
      "    doIt()\n",
      "  File \"/Users/dahlmoon/Documents/GitHub/python_book/python_gram/log_doit1.py\", line 8, in doIt\n",
      "    raise TypeError(\"doIt function : type error for testing\")\n",
      "TypeError: doIt function : type error for testing\n",
      "WARNING:log_doit: 함수 내부의 로깅을 처리\n"
     ]
    },
    {
     "name": "stdout",
     "output_type": "stream",
     "text": [
      " Main processing \n"
     ]
    }
   ],
   "source": [
    "%run log_doit1.py"
   ]
  },
  {
   "cell_type": "markdown",
   "metadata": {},
   "source": [
    "## 예제 17-14  :  파일에 로깅을 남기기\n"
   ]
  },
  {
   "cell_type": "code",
   "execution_count": 109,
   "metadata": {
    "collapsed": false
   },
   "outputs": [
    {
     "name": "stdout",
     "output_type": "stream",
     "text": [
      "Writing sample3.log\n"
     ]
    }
   ],
   "source": [
    "%%writefile sample3.log\n",
    "####\n"
   ]
  },
  {
   "cell_type": "code",
   "execution_count": 110,
   "metadata": {
    "collapsed": false
   },
   "outputs": [
    {
     "name": "stderr",
     "output_type": "stream",
     "text": [
      "INFO:sample3:info\n",
      "WARNING:sample3:warning\n",
      "ERROR:sample3:error\n",
      "CRITICAL:sample3:critical\n"
     ]
    }
   ],
   "source": [
    "import logging\n",
    "\n",
    "logger = logging.getLogger(\"sample3\") \n",
    "logger.setLevel(logging.DEBUG) \n",
    "\n",
    "fileHandler = logging.FileHandler('./sample3.log') \n",
    "logger.addHandler(fileHandler) \n",
    "\n",
    "\n",
    "logger.info(\"info\") \n",
    "logger.warning(\"warning\") \n",
    "logger.error(\"error\") \n",
    "logger.critical(\"critical\")\n"
   ]
  },
  {
   "cell_type": "code",
   "execution_count": 112,
   "metadata": {
    "collapsed": false
   },
   "outputs": [
    {
     "name": "stdout",
     "output_type": "stream",
     "text": [
      "####info\n",
      "warning\n",
      "error\n",
      "critical\n",
      "\n"
     ]
    }
   ],
   "source": [
    "with open(\"./sample3.log\",\"r\") as f :\n",
    "    print(f.read())"
   ]
  },
  {
   "cell_type": "code",
   "execution_count": null,
   "metadata": {
    "collapsed": true
   },
   "outputs": [],
   "source": []
  }
 ],
 "metadata": {
  "kernelspec": {
   "display_name": "Python 3",
   "language": "python",
   "name": "python3"
  },
  "language_info": {
   "codemirror_mode": {
    "name": "ipython",
    "version": 3
   },
   "file_extension": ".py",
   "mimetype": "text/x-python",
   "name": "python",
   "nbconvert_exporter": "python",
   "pygments_lexer": "ipython3",
   "version": "3.6.0"
  }
 },
 "nbformat": 4,
 "nbformat_minor": 2
}
