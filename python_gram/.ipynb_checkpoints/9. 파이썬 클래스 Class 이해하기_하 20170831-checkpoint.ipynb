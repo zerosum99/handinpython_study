{
 "cells": [
  {
   "cell_type": "markdown",
   "metadata": {},
   "source": [
    "## 예제 9-38  :   부모 클래스의 초기화 모듈을 이용\n"
   ]
  },
  {
   "cell_type": "code",
   "execution_count": 1,
   "metadata": {
    "collapsed": true
   },
   "outputs": [],
   "source": [
    "class Parent :\n",
    "    def __init__(self,name,age) :\n",
    "        self.name = name\n",
    "        self.age  = age"
   ]
  },
  {
   "cell_type": "code",
   "execution_count": 2,
   "metadata": {
    "collapsed": true
   },
   "outputs": [],
   "source": [
    "class Child(Parent) :\n",
    "    pass"
   ]
  },
  {
   "cell_type": "code",
   "execution_count": 3,
   "metadata": {
    "collapsed": false
   },
   "outputs": [
    {
     "name": "stdout",
     "output_type": "stream",
     "text": [
      "mappingproxy({'__dict__': <attribute '__dict__' of 'Parent' objects>,\n",
      "              '__doc__': None,\n",
      "              '__init__': <function Parent.__init__ at 0x0000000005430840>,\n",
      "              '__module__': '__main__',\n",
      "              '__weakref__': <attribute '__weakref__' of 'Parent' objects>})\n"
     ]
    }
   ],
   "source": [
    "import pprint\n",
    "\n",
    "pprint.pprint(Parent.__dict__)"
   ]
  },
  {
   "cell_type": "code",
   "execution_count": 4,
   "metadata": {
    "collapsed": false
   },
   "outputs": [
    {
     "name": "stdout",
     "output_type": "stream",
     "text": [
      "mappingproxy({'__module__': '__main__', '__doc__': None})\n"
     ]
    }
   ],
   "source": [
    "import pprint\n",
    "\n",
    "pprint.pprint(Child.__dict__)"
   ]
  },
  {
   "cell_type": "code",
   "execution_count": 7,
   "metadata": {
    "collapsed": false
   },
   "outputs": [
    {
     "name": "stdout",
     "output_type": "stream",
     "text": [
      "(<class '__main__.Parent'>,)\n",
      "True\n"
     ]
    }
   ],
   "source": [
    "print(Child.__bases__)\n",
    "print(issubclass(Child, Parent))"
   ]
  },
  {
   "cell_type": "code",
   "execution_count": 8,
   "metadata": {
    "collapsed": false
   },
   "outputs": [
    {
     "name": "stdout",
     "output_type": "stream",
     "text": [
      "['__class__',\n",
      " '__delattr__',\n",
      " '__dict__',\n",
      " '__dir__',\n",
      " '__doc__',\n",
      " '__eq__',\n",
      " '__format__',\n",
      " '__ge__',\n",
      " '__getattribute__',\n",
      " '__gt__',\n",
      " '__hash__',\n",
      " '__init__',\n",
      " '__init_subclass__',\n",
      " '__le__',\n",
      " '__lt__',\n",
      " '__module__',\n",
      " '__ne__',\n",
      " '__new__',\n",
      " '__reduce__',\n",
      " '__reduce_ex__',\n",
      " '__repr__',\n",
      " '__setattr__',\n",
      " '__sizeof__',\n",
      " '__str__',\n",
      " '__subclasshook__',\n",
      " '__weakref__']\n"
     ]
    }
   ],
   "source": [
    "import pprint\n",
    "\n",
    "pprint.pprint(dir(Child)) "
   ]
  },
  {
   "cell_type": "code",
   "execution_count": 10,
   "metadata": {
    "collapsed": false
   },
   "outputs": [
    {
     "ename": "TypeError",
     "evalue": "__init__() missing 2 required positional arguments: 'name' and 'age'",
     "output_type": "error",
     "traceback": [
      "\u001b[0;31m---------------------------------------------------------------------------\u001b[0m",
      "\u001b[0;31mTypeError\u001b[0m                                 Traceback (most recent call last)",
      "\u001b[0;32m<ipython-input-10-87b9592ae1d8>\u001b[0m in \u001b[0;36m<module>\u001b[0;34m()\u001b[0m\n\u001b[0;32m----> 1\u001b[0;31m \u001b[0mc\u001b[0m \u001b[1;33m=\u001b[0m \u001b[0mChild\u001b[0m\u001b[1;33m(\u001b[0m\u001b[1;33m)\u001b[0m\u001b[1;33m\u001b[0m\u001b[0m\n\u001b[0m\u001b[1;32m      2\u001b[0m \u001b[0mprint\u001b[0m\u001b[1;33m(\u001b[0m\u001b[0mc\u001b[0m\u001b[1;33m)\u001b[0m\u001b[1;33m\u001b[0m\u001b[0m\n",
      "\u001b[0;31mTypeError\u001b[0m: __init__() missing 2 required positional arguments: 'name' and 'age'"
     ]
    }
   ],
   "source": [
    "c = Child()\n",
    "print(c)"
   ]
  },
  {
   "cell_type": "code",
   "execution_count": 5,
   "metadata": {
    "collapsed": false
   },
   "outputs": [
    {
     "name": "stdout",
     "output_type": "stream",
     "text": [
      "<__main__.Child object at 0x00000000051080B8>\n",
      "{'name': '자식', 'age': 33}\n"
     ]
    }
   ],
   "source": [
    "c = Child(\"자식\",33)\n",
    "print(c)\n",
    "print(c.__dict__)"
   ]
  },
  {
   "cell_type": "markdown",
   "metadata": {},
   "source": [
    "## 예제 9-39  :  상속관계 확인하기"
   ]
  },
  {
   "cell_type": "code",
   "execution_count": 12,
   "metadata": {
    "collapsed": true
   },
   "outputs": [],
   "source": [
    "class GrandParent :\n",
    "    def __init__(self,name,age) :\n",
    "        self.name = name\n",
    "        self.age  = age"
   ]
  },
  {
   "cell_type": "code",
   "execution_count": 13,
   "metadata": {
    "collapsed": true
   },
   "outputs": [],
   "source": [
    "class Parent(GrandParent) :\n",
    "    def getname(self) :\n",
    "        return self.name\n",
    "    def getage(self) :\n",
    "        return self.age"
   ]
  },
  {
   "cell_type": "code",
   "execution_count": 14,
   "metadata": {
    "collapsed": true
   },
   "outputs": [],
   "source": [
    "class Child(Parent) :\n",
    "    pass"
   ]
  },
  {
   "cell_type": "code",
   "execution_count": 16,
   "metadata": {
    "collapsed": false
   },
   "outputs": [
    {
     "name": "stdout",
     "output_type": "stream",
     "text": [
      "(<class 'object'>,)\n",
      "(<class '__main__.GrandParent'>,)\n",
      "(<class '__main__.Parent'>,)\n"
     ]
    }
   ],
   "source": [
    "print(GrandParent.__bases__)\n",
    "print(Parent.__bases__)\n",
    "print(Child.__bases__)"
   ]
  },
  {
   "cell_type": "code",
   "execution_count": 15,
   "metadata": {
    "collapsed": false
   },
   "outputs": [
    {
     "name": "stdout",
     "output_type": "stream",
     "text": [
      "True\n",
      "True\n",
      "True\n"
     ]
    }
   ],
   "source": [
    "print(issubclass(Parent, GrandParent))\n",
    "print(issubclass(Child, Parent))\n",
    "print(issubclass(Child, GrandParent))"
   ]
  },
  {
   "cell_type": "code",
   "execution_count": 16,
   "metadata": {
    "collapsed": true
   },
   "outputs": [],
   "source": [
    "g = GrandParent(\"조부모\",80)\n",
    "p = Parent(\"부모\",40)\n",
    "c = Child(\"손자\",10)"
   ]
  },
  {
   "cell_type": "code",
   "execution_count": 18,
   "metadata": {
    "collapsed": false
   },
   "outputs": [
    {
     "name": "stdout",
     "output_type": "stream",
     "text": [
      "부모 40\n",
      "손자 10\n"
     ]
    }
   ],
   "source": [
    "print(p.getname(), p.getage())\n",
    "print(c.getname(), c.getage())"
   ]
  },
  {
   "cell_type": "code",
   "execution_count": 19,
   "metadata": {
    "collapsed": false
   },
   "outputs": [
    {
     "ename": "AttributeError",
     "evalue": "'GrandParent' object has no attribute 'getname'",
     "output_type": "error",
     "traceback": [
      "\u001b[0;31m---------------------------------------------------------------------------\u001b[0m",
      "\u001b[0;31mAttributeError\u001b[0m                            Traceback (most recent call last)",
      "\u001b[0;32m<ipython-input-19-42c258dd1fae>\u001b[0m in \u001b[0;36m<module>\u001b[0;34m()\u001b[0m\n\u001b[0;32m----> 1\u001b[0;31m \u001b[0mprint\u001b[0m\u001b[1;33m(\u001b[0m\u001b[0mg\u001b[0m\u001b[1;33m.\u001b[0m\u001b[0mgetname\u001b[0m\u001b[1;33m(\u001b[0m\u001b[1;33m)\u001b[0m\u001b[1;33m,\u001b[0m \u001b[0mg\u001b[0m\u001b[1;33m.\u001b[0m\u001b[0mgetage\u001b[0m\u001b[1;33m(\u001b[0m\u001b[1;33m)\u001b[0m\u001b[1;33m)\u001b[0m\u001b[1;33m\u001b[0m\u001b[0m\n\u001b[0m",
      "\u001b[0;31mAttributeError\u001b[0m: 'GrandParent' object has no attribute 'getname'"
     ]
    }
   ],
   "source": [
    "print(g.getname(), g.getage())"
   ]
  },
  {
   "cell_type": "markdown",
   "metadata": {
    "collapsed": true
   },
   "source": [
    "## 예제 9-40  :   상속에 따른 네임스페이스 검색 \n"
   ]
  },
  {
   "cell_type": "code",
   "execution_count": 22,
   "metadata": {
    "collapsed": true
   },
   "outputs": [],
   "source": [
    "class A :\n",
    "    A_cls = \"A 클래스 속성\"\n",
    "    \n",
    "class B(A) :\n",
    "    pass\n",
    "\n",
    "class C(A) :\n",
    "    pass\n"
   ]
  },
  {
   "cell_type": "code",
   "execution_count": 23,
   "metadata": {
    "collapsed": false
   },
   "outputs": [
    {
     "name": "stdout",
     "output_type": "stream",
     "text": [
      "A 클래스 속성\n",
      "A 클래스 속성\n"
     ]
    }
   ],
   "source": [
    "print(B.A_cls)\n",
    "print(C.A_cls)"
   ]
  },
  {
   "cell_type": "code",
   "execution_count": 24,
   "metadata": {
    "collapsed": false
   },
   "outputs": [
    {
     "name": "stdout",
     "output_type": "stream",
     "text": [
      "B 클래스 속성\n",
      "A 클래스 속성\n"
     ]
    }
   ],
   "source": [
    "B.A_cls = \"B 클래스 속성\"\n",
    "\n",
    "print(B.A_cls)\n",
    "print(C.A_cls)"
   ]
  },
  {
   "cell_type": "code",
   "execution_count": 25,
   "metadata": {
    "collapsed": false
   },
   "outputs": [
    {
     "name": "stdout",
     "output_type": "stream",
     "text": [
      "mappingproxy({'A_cls': 'A 클래스 속성',\n",
      "              '__dict__': <attribute '__dict__' of 'A' objects>,\n",
      "              '__doc__': None,\n",
      "              '__module__': '__main__',\n",
      "              '__weakref__': <attribute '__weakref__' of 'A' objects>})\n"
     ]
    }
   ],
   "source": [
    "import pprint\n",
    "\n",
    "pprint.pprint(A.__dict__)"
   ]
  },
  {
   "cell_type": "code",
   "execution_count": 26,
   "metadata": {
    "collapsed": false
   },
   "outputs": [
    {
     "name": "stdout",
     "output_type": "stream",
     "text": [
      "mappingproxy({'__module__': '__main__', '__doc__': None, 'A_cls': 'B 클래스 속성'})\n"
     ]
    }
   ],
   "source": [
    "import pprint\n",
    "\n",
    "pprint.pprint(B.__dict__)"
   ]
  },
  {
   "cell_type": "markdown",
   "metadata": {},
   "source": [
    "## 예제 9-41  :   __init_subclass__ 클래스 메소드\n"
   ]
  },
  {
   "cell_type": "code",
   "execution_count": 16,
   "metadata": {
    "collapsed": false
   },
   "outputs": [
    {
     "name": "stdout",
     "output_type": "stream",
     "text": [
      "Help on built-in function __init_subclass__:\n",
      "\n",
      "__init_subclass__(...) method of builtins.type instance\n",
      "    This method is called when a class is subclassed.\n",
      "    \n",
      "    The default implementation does nothing. It may be\n",
      "    overridden to extend subclasses.\n",
      "\n"
     ]
    }
   ],
   "source": [
    "help(object.__init_subclass__)"
   ]
  },
  {
   "cell_type": "code",
   "execution_count": 28,
   "metadata": {
    "collapsed": false
   },
   "outputs": [],
   "source": [
    "class Super :\n",
    "    def __init_subclass__(cls,name) :\n",
    "        print(type(cls),cls)\n",
    "        cls.name = name\n"
   ]
  },
  {
   "cell_type": "code",
   "execution_count": 29,
   "metadata": {
    "collapsed": false
   },
   "outputs": [
    {
     "name": "stdout",
     "output_type": "stream",
     "text": [
      "<class 'type'> <class '__main__.Sub'>\n",
      "sub\n"
     ]
    }
   ],
   "source": [
    "class Sub(Super, name=\"sub\") :\n",
    "    pass\n",
    "\n",
    "print(Sub.name)"
   ]
  },
  {
   "cell_type": "code",
   "execution_count": 30,
   "metadata": {
    "collapsed": false
   },
   "outputs": [
    {
     "name": "stdout",
     "output_type": "stream",
     "text": [
      "mappingproxy({'__dict__': <attribute '__dict__' of 'Super' objects>,\n",
      "              '__doc__': None,\n",
      "              '__init_subclass__': <classmethod object at 0x00000000056E49B0>,\n",
      "              '__module__': '__main__',\n",
      "              '__weakref__': <attribute '__weakref__' of 'Super' objects>})\n"
     ]
    }
   ],
   "source": [
    "import pprint\n",
    "\n",
    "pprint.pprint(Super.__dict__)"
   ]
  },
  {
   "cell_type": "code",
   "execution_count": 31,
   "metadata": {
    "collapsed": false
   },
   "outputs": [
    {
     "name": "stdout",
     "output_type": "stream",
     "text": [
      "mappingproxy({'__module__': '__main__', '__doc__': None, 'name': 'sub'})\n"
     ]
    }
   ],
   "source": [
    "import pprint\n",
    "\n",
    "pprint.pprint(Sub.__dict__)"
   ]
  },
  {
   "cell_type": "markdown",
   "metadata": {},
   "source": [
    "## 예제 9-42  :  다중 상속 Class 정의 및 읽는 순서 확인하기\n"
   ]
  },
  {
   "cell_type": "code",
   "execution_count": 32,
   "metadata": {
    "collapsed": true
   },
   "outputs": [],
   "source": [
    "class Parent1 :\n",
    "    def __init__(self,name) :\n",
    "        print(\" Parent1 \")\n",
    "        self.name = name\n",
    "\n",
    "class Parent2 :\n",
    "     def __init__(self,name) :\n",
    "        print(\" Parent2 \")\n",
    "        self.name = name\n"
   ]
  },
  {
   "cell_type": "code",
   "execution_count": 33,
   "metadata": {
    "collapsed": true
   },
   "outputs": [],
   "source": [
    "class Child(Parent1, Parent2) :\n",
    "    pass"
   ]
  },
  {
   "cell_type": "code",
   "execution_count": 27,
   "metadata": {
    "collapsed": false
   },
   "outputs": [
    {
     "name": "stdout",
     "output_type": "stream",
     "text": [
      "[<class '__main__.Child'>,\n",
      " <class '__main__.Parent1'>,\n",
      " <class '__main__.Parent2'>,\n",
      " <class 'object'>]\n"
     ]
    }
   ],
   "source": [
    "import pprint\n",
    "\n",
    "pprint.pprint(Child.mro())"
   ]
  },
  {
   "cell_type": "code",
   "execution_count": 34,
   "metadata": {
    "collapsed": false
   },
   "outputs": [
    {
     "name": "stdout",
     "output_type": "stream",
     "text": [
      " Parent1 \n"
     ]
    }
   ],
   "source": [
    "c = Child(\"다중상속\")\n"
   ]
  },
  {
   "cell_type": "markdown",
   "metadata": {},
   "source": [
    "## 예제 9-43  :  다른 부모 클래스의 __init__ 메소드를 사용하고 싶을 경우\n",
    "\n"
   ]
  },
  {
   "cell_type": "code",
   "execution_count": 35,
   "metadata": {
    "collapsed": true
   },
   "outputs": [],
   "source": [
    "class Parent1 :\n",
    "    def __init__(self,name) :\n",
    "        print(\" Parent1 \")\n",
    "        self.name = name\n",
    "\n",
    "class Parent2 :\n",
    "     def __init__(self,name,age) :\n",
    "        print(\" Parent2 \")\n",
    "        self.name = name\n",
    "        self.age = age\n",
    "            "
   ]
  },
  {
   "cell_type": "code",
   "execution_count": 36,
   "metadata": {
    "collapsed": true
   },
   "outputs": [],
   "source": [
    "class Child2(Parent1, Parent2) :\n",
    "    \n",
    "    def __init__(self,name, age=None) :\n",
    "        if age is None :\n",
    "            super().__init__(name)\n",
    "        else :\n",
    "            Parent2.__init__(self,name,age)"
   ]
  },
  {
   "cell_type": "code",
   "execution_count": 38,
   "metadata": {
    "collapsed": false
   },
   "outputs": [
    {
     "name": "stdout",
     "output_type": "stream",
     "text": [
      " Parent1 \n",
      "{'name': '다중상속'}\n"
     ]
    }
   ],
   "source": [
    "c1 = Child2(\"다중상속\")\n",
    "print(c1.__dict__)"
   ]
  },
  {
   "cell_type": "code",
   "execution_count": 39,
   "metadata": {
    "collapsed": false
   },
   "outputs": [
    {
     "name": "stdout",
     "output_type": "stream",
     "text": [
      " Parent2 \n",
      "{'name': '다중상속', 'age': 33}\n"
     ]
    }
   ],
   "source": [
    "c2 = Child2(\"다중상속\", 33)\n",
    "print(c2.__dict__)"
   ]
  },
  {
   "cell_type": "code",
   "execution_count": 40,
   "metadata": {
    "collapsed": false
   },
   "outputs": [
    {
     "name": "stdout",
     "output_type": "stream",
     "text": [
      "True\n",
      "True\n"
     ]
    }
   ],
   "source": [
    "print(isinstance(c1,Parent1))\n",
    "print(isinstance(c2,Parent2))"
   ]
  },
  {
   "cell_type": "markdown",
   "metadata": {},
   "source": [
    "## 예제 9-44  :  super 클래스 이해하기 \n"
   ]
  },
  {
   "cell_type": "code",
   "execution_count": 43,
   "metadata": {
    "collapsed": false
   },
   "outputs": [
    {
     "name": "stdout",
     "output_type": "stream",
     "text": [
      "<class 'super'>\n"
     ]
    }
   ],
   "source": [
    "print(super)"
   ]
  },
  {
   "cell_type": "code",
   "execution_count": 51,
   "metadata": {
    "collapsed": false
   },
   "outputs": [
    {
     "name": "stdout",
     "output_type": "stream",
     "text": [
      "super() -> same as super(__class__, <first argument>)\n",
      "super(type) -> unbound super object\n",
      "super(type, obj) -> bound super object; requires isinstance(obj, type)\n",
      "super(type, type2) -> bound super object; requires issubclass(type2, type)\n",
      "Typical use to call a cooperative superclass method:\n",
      "\n"
     ]
    }
   ],
   "source": [
    "for i in super.__doc__[:289].split(\"\\n\") :\n",
    "    print(i)\n"
   ]
  },
  {
   "cell_type": "code",
   "execution_count": 41,
   "metadata": {
    "collapsed": false
   },
   "outputs": [],
   "source": [
    "class A :\n",
    "    A_cls = \" AAA \"\n",
    "\n",
    "class B(A) :\n",
    "    A_cls = \" BBB \"\n"
   ]
  },
  {
   "cell_type": "code",
   "execution_count": 42,
   "metadata": {
    "collapsed": false
   },
   "outputs": [
    {
     "name": "stdout",
     "output_type": "stream",
     "text": [
      " AAA \n"
     ]
    }
   ],
   "source": [
    "print(super(B,B()).A_cls)\n"
   ]
  },
  {
   "cell_type": "code",
   "execution_count": 55,
   "metadata": {
    "collapsed": false
   },
   "outputs": [],
   "source": [
    "class AA :\n",
    "    def __init__(self,name) :\n",
    "        self.name = name\n"
   ]
  },
  {
   "cell_type": "code",
   "execution_count": 56,
   "metadata": {
    "collapsed": true
   },
   "outputs": [],
   "source": [
    "class BB(AA) :\n",
    "     def __init__(self,name,age) :\n",
    "        super().__init__(name)\n",
    "        self.age = age"
   ]
  },
  {
   "cell_type": "code",
   "execution_count": 57,
   "metadata": {
    "collapsed": false
   },
   "outputs": [
    {
     "name": "stdout",
     "output_type": "stream",
     "text": [
      "{'name': '슈퍼우먼', 'age': 33}\n"
     ]
    }
   ],
   "source": [
    "b = BB(\"슈퍼우먼\", 33)\n",
    "print(b.__dict__)"
   ]
  },
  {
   "cell_type": "code",
   "execution_count": 58,
   "metadata": {
    "collapsed": false
   },
   "outputs": [],
   "source": [
    "class A :\n",
    "    def __init__(self,name) :\n",
    "        self.name = name\n",
    "        \n",
    "class B :\n",
    "    def __init__(self,name,age) :\n",
    "        self.name = name\n",
    "        self.age = age\n"
   ]
  },
  {
   "cell_type": "code",
   "execution_count": 59,
   "metadata": {
    "collapsed": true
   },
   "outputs": [],
   "source": [
    "class C(A,B) :\n",
    "     def __init__(self,name,age=None) :\n",
    "        super().__init__(name)\n",
    "        if age :\n",
    "            C.mro()[2].__init__(self,name,age)"
   ]
  },
  {
   "cell_type": "code",
   "execution_count": 60,
   "metadata": {
    "collapsed": false
   },
   "outputs": [
    {
     "name": "stdout",
     "output_type": "stream",
     "text": [
      "{'name': '슈퍼우먼', 'age': 33}\n",
      "{'name': '수퍼맨'}\n"
     ]
    }
   ],
   "source": [
    "c = C(\"슈퍼우먼\", 33)\n",
    "print(c.__dict__)\n",
    "\n",
    "c2 = C(\"수퍼맨\")\n",
    "print(c2.__dict__)"
   ]
  },
  {
   "cell_type": "markdown",
   "metadata": {
    "collapsed": true
   },
   "source": [
    "## 예제 9-45  :  Mixin 클래스 하나를 상속처리\n"
   ]
  },
  {
   "cell_type": "code",
   "execution_count": 80,
   "metadata": {
    "collapsed": false
   },
   "outputs": [],
   "source": [
    "import operator as op\n",
    "\n",
    "class OpMixin :\n",
    "    \n",
    "    def aroper(self,op_code) :\n",
    "        return {'+':op.add,\n",
    "                '*':op.mul}.get(op_code,\"+\")  \\\n",
    "               (self.x, self.y if type(self.y) not in [str,list, tuple]   \n",
    "                               else  self.y if op_code != \"*\"             \n",
    "                                            else len(self.y) if len(self.y) != 0  \n",
    "                                                                else 1)\n",
    "    "
   ]
  },
  {
   "cell_type": "code",
   "execution_count": 81,
   "metadata": {
    "collapsed": true
   },
   "outputs": [],
   "source": [
    "class Num(OpMixin) :\n",
    "    def __init__(self, x,y) :\n",
    "        self.x = x\n",
    "        self.y = y\n"
   ]
  },
  {
   "cell_type": "code",
   "execution_count": 82,
   "metadata": {
    "collapsed": true
   },
   "outputs": [],
   "source": [
    "class STR(OpMixin) :\n",
    "    def __init__(self, x,y) :\n",
    "        self.x = x\n",
    "        self.y = y"
   ]
  },
  {
   "cell_type": "code",
   "execution_count": 83,
   "metadata": {
    "collapsed": true
   },
   "outputs": [],
   "source": [
    "class LIST(OpMixin) :\n",
    "    def __init__(self, x,y) :\n",
    "        self.x = x\n",
    "        self.y = y"
   ]
  },
  {
   "cell_type": "code",
   "execution_count": 84,
   "metadata": {
    "collapsed": false
   },
   "outputs": [
    {
     "name": "stdout",
     "output_type": "stream",
     "text": [
      "11\n",
      "30\n"
     ]
    }
   ],
   "source": [
    "n = Num(5,6)\n",
    "\n",
    "print(n.aroper(\"+\"))\n",
    "print(n.aroper(\"*\"))"
   ]
  },
  {
   "cell_type": "code",
   "execution_count": 85,
   "metadata": {
    "collapsed": false
   },
   "outputs": [
    {
     "name": "stdout",
     "output_type": "stream",
     "text": [
      "5\n",
      "0\n"
     ]
    }
   ],
   "source": [
    "n1 = Num(5,0)\n",
    "print(n1.aroper(\"+\"))\n",
    "print(n1.aroper(\"*\"))"
   ]
  },
  {
   "cell_type": "code",
   "execution_count": 86,
   "metadata": {
    "collapsed": false
   },
   "outputs": [
    {
     "name": "stdout",
     "output_type": "stream",
     "text": [
      "HelloWorld\n",
      "HelloHelloHelloHelloHello\n"
     ]
    }
   ],
   "source": [
    "s = STR(\"Hello\",\"World\")\n",
    "\n",
    "print(s.aroper(\"+\"))\n",
    "print(s.aroper(\"*\"))"
   ]
  },
  {
   "cell_type": "code",
   "execution_count": 87,
   "metadata": {
    "collapsed": false
   },
   "outputs": [
    {
     "name": "stdout",
     "output_type": "stream",
     "text": [
      "Hello\n",
      "Hello\n"
     ]
    }
   ],
   "source": [
    "s1 = STR(\"Hello\",\"\")\n",
    "\n",
    "print(s1.aroper(\"+\"))\n",
    "print(s1.aroper(\"*\"))"
   ]
  },
  {
   "cell_type": "code",
   "execution_count": 79,
   "metadata": {
    "collapsed": false
   },
   "outputs": [
    {
     "name": "stdout",
     "output_type": "stream",
     "text": [
      "[1, 2, 3, 4, 6, 7]\n",
      "[1, 2, 3, 4, 1, 2, 3, 4]\n"
     ]
    }
   ],
   "source": [
    "l = LIST([1,2,3,4],[6,7])\n",
    "\n",
    "print(l.aroper(\"+\"))\n",
    "print(l.aroper(\"*\"))"
   ]
  },
  {
   "cell_type": "code",
   "execution_count": 88,
   "metadata": {
    "collapsed": false
   },
   "outputs": [
    {
     "name": "stdout",
     "output_type": "stream",
     "text": [
      "[1, 2, 3, 4]\n",
      "[1, 2, 3, 4]\n"
     ]
    }
   ],
   "source": [
    "l1 = LIST([1,2,3,4],[])\n",
    "\n",
    "print(l1.aroper(\"+\"))\n",
    "print(l1.aroper(\"*\"))"
   ]
  },
  {
   "cell_type": "markdown",
   "metadata": {},
   "source": [
    "## 예제 9-46  :  여러 Mixin 클래스에 동일한 메소드"
   ]
  },
  {
   "cell_type": "code",
   "execution_count": 90,
   "metadata": {
    "collapsed": true
   },
   "outputs": [],
   "source": [
    "class AMixin :\n",
    "    def method(self) :\n",
    "        return \"A Mixin\"\n",
    "    \n",
    "class BMixin :\n",
    "    def method(self) :\n",
    "        return \"B Mixin\""
   ]
  },
  {
   "cell_type": "code",
   "execution_count": 91,
   "metadata": {
    "collapsed": true
   },
   "outputs": [],
   "source": [
    "class A(AMixin, BMixin) :\n",
    "    pass "
   ]
  },
  {
   "cell_type": "code",
   "execution_count": 92,
   "metadata": {
    "collapsed": false
   },
   "outputs": [
    {
     "name": "stdout",
     "output_type": "stream",
     "text": [
      "A Mixin\n"
     ]
    }
   ],
   "source": [
    "a = A()\n",
    "print(a.method())"
   ]
  },
  {
   "cell_type": "code",
   "execution_count": 93,
   "metadata": {
    "collapsed": false
   },
   "outputs": [],
   "source": [
    "class AB(AMixin, BMixin) :\n",
    "    def __init__(self,code) :\n",
    "        self.code = code\n",
    "        \n",
    "    def method(self) :\n",
    "        if self.code == \"B\" :\n",
    "            return BMixin.method(self)\n",
    "        else :\n",
    "            return AMixin.method(self)"
   ]
  },
  {
   "cell_type": "code",
   "execution_count": 94,
   "metadata": {
    "collapsed": false
   },
   "outputs": [
    {
     "name": "stdout",
     "output_type": "stream",
     "text": [
      "B Mixin\n"
     ]
    }
   ],
   "source": [
    "ab = AB(\"B\")\n",
    "print(ab.method())"
   ]
  },
  {
   "cell_type": "code",
   "execution_count": 96,
   "metadata": {
    "collapsed": false
   },
   "outputs": [
    {
     "name": "stdout",
     "output_type": "stream",
     "text": [
      "A Mixin\n"
     ]
    }
   ],
   "source": [
    "ab = AB(\"\")\n",
    "print(ab.method())"
   ]
  },
  {
   "cell_type": "markdown",
   "metadata": {},
   "source": [
    "## 예제 9-47  :  Mixin 클래스  다중상속 처리 :  다른 메소드 이름\n"
   ]
  },
  {
   "cell_type": "code",
   "execution_count": 1,
   "metadata": {
    "collapsed": true
   },
   "outputs": [],
   "source": [
    "class AMixin :\n",
    "    def getname(self) :\n",
    "        return self.name\n",
    "    \n",
    "class BMixin :\n",
    "    def getage(self) :\n",
    "        return self.age"
   ]
  },
  {
   "cell_type": "code",
   "execution_count": 2,
   "metadata": {
    "collapsed": true
   },
   "outputs": [],
   "source": [
    "class AB(AMixin, BMixin) :\n",
    "    def __init__(self,name,age) :\n",
    "        self.name = name\n",
    "        self.age = age"
   ]
  },
  {
   "cell_type": "code",
   "execution_count": 4,
   "metadata": {
    "collapsed": false
   },
   "outputs": [
    {
     "name": "stdout",
     "output_type": "stream",
     "text": [
      "다중상속\n",
      "33\n"
     ]
    }
   ],
   "source": [
    "ab = AB(\"다중상속\",33)\n",
    "print(ab.getname())\n",
    "print(ab.getage())"
   ]
  },
  {
   "cell_type": "markdown",
   "metadata": {},
   "source": [
    "## 예제 9-48  :   부모 클래스의 메소드를 오버라이딩  \n"
   ]
  },
  {
   "cell_type": "code",
   "execution_count": 97,
   "metadata": {
    "collapsed": true
   },
   "outputs": [],
   "source": [
    "class Parent1 :\n",
    "    def __init__(self,name) :\n",
    "        print(\" Parent1 \")\n",
    "        self.name = name\n",
    "    def getname(self) :\n",
    "        return self.name\n",
    "\n",
    "class Parent2 :\n",
    "    def __init__(self,age) :\n",
    "        print(\" Parent2 \")\n",
    "        self.age = age\n",
    "    def getage(self) :\n",
    "        return self.age\n",
    "                 "
   ]
  },
  {
   "cell_type": "code",
   "execution_count": 98,
   "metadata": {
    "collapsed": false
   },
   "outputs": [],
   "source": [
    "class Child2(Parent1, Parent2) :\n",
    "    \n",
    "    def __init__(self,name, age=None) :\n",
    "        super().__init__(name)\n",
    "        if age is not None :\n",
    "            Parent2.__init__(self,age)\n",
    "            \n",
    "    def getname(self) :\n",
    "        return \"child \" + self.name\n",
    "    def getage(self) :\n",
    "        return \"child \" + str(self.age)\n",
    "            "
   ]
  },
  {
   "cell_type": "code",
   "execution_count": 99,
   "metadata": {
    "collapsed": false
   },
   "outputs": [
    {
     "name": "stdout",
     "output_type": "stream",
     "text": [
      " Parent1 \n",
      " Parent2 \n",
      "child 오버라이딩\n",
      "child 33\n"
     ]
    }
   ],
   "source": [
    "c = Child2(\"오버라이딩\", 33) \n",
    "\n",
    "print(c.getname())\n",
    "print(c.getage())\n"
   ]
  },
  {
   "cell_type": "code",
   "execution_count": 100,
   "metadata": {
    "collapsed": false
   },
   "outputs": [
    {
     "name": "stdout",
     "output_type": "stream",
     "text": [
      "오버라이딩\n",
      "33\n"
     ]
    }
   ],
   "source": [
    "print(Parent1.getname(c))\n",
    "print(Parent2.getage(c))"
   ]
  },
  {
   "cell_type": "markdown",
   "metadata": {},
   "source": [
    "## 예제 9-49  :  overload 모듈을 이용\n"
   ]
  },
  {
   "cell_type": "code",
   "execution_count": 4,
   "metadata": {
    "collapsed": false
   },
   "outputs": [
    {
     "name": "stdout",
     "output_type": "stream",
     "text": [
      "Collecting overload\n",
      "  Using cached overload-1.1.tar.gz\n",
      "Building wheels for collected packages: overload\n",
      "  Running setup.py bdist_wheel for overload: started\n",
      "  Running setup.py bdist_wheel for overload: finished with status 'done'\n",
      "  Stored in directory: C:\\Users\\06411\\AppData\\Local\\pip\\Cache\\wheels\\84\\11\\4f\\398b5a199ac6da983db67bbf794d8fd793f3c53da1254f74f4\n",
      "Successfully built overload\n",
      "Installing collected packages: overload\n",
      "Successfully installed overload-1.1\n"
     ]
    }
   ],
   "source": [
    "!pip install --upgrade overload"
   ]
  },
  {
   "cell_type": "code",
   "execution_count": 154,
   "metadata": {
    "collapsed": false
   },
   "outputs": [],
   "source": [
    "from overload import overload\n",
    "\n",
    "class A :\n",
    "    @overload\n",
    "    def method(self) :\n",
    "        print(\" no args method \")\n",
    "        \n",
    "    @method.add\n",
    "    def method(self, x) :\n",
    "        print(\" one args method \"+ x)\n",
    "    \n",
    "    @method.add\n",
    "    def method(self, x,y) :\n",
    "        print(\" two args method \"+ x,y)\n",
    "        \n"
   ]
  },
  {
   "cell_type": "code",
   "execution_count": 164,
   "metadata": {
    "collapsed": false
   },
   "outputs": [
    {
     "name": "stdout",
     "output_type": "stream",
     "text": [
      " no args method \n",
      " one args method hello\n",
      " two args method hello world\n"
     ]
    }
   ],
   "source": [
    "a = A()\n",
    "\n",
    "a.method()\n",
    "a.method(\"hello\")\n",
    "a.method(\"hello\",\"world\")"
   ]
  },
  {
   "cell_type": "code",
   "execution_count": 165,
   "metadata": {
    "collapsed": false
   },
   "outputs": [
    {
     "name": "stdout",
     "output_type": "stream",
     "text": [
      "mappingproxy({'__dict__': <attribute '__dict__' of 'A' objects>,\n",
      "              '__doc__': None,\n",
      "              '__module__': '__main__',\n",
      "              '__weakref__': <attribute '__weakref__' of 'A' objects>,\n",
      "              'method': <function A.method at 0x0000000005DF1620>})\n"
     ]
    }
   ],
   "source": [
    "import pprint\n",
    "\n",
    "pprint.pprint(A.__dict__)"
   ]
  },
  {
   "cell_type": "code",
   "execution_count": 166,
   "metadata": {
    "collapsed": false
   },
   "outputs": [
    {
     "name": "stdout",
     "output_type": "stream",
     "text": [
      "<class 'function'>\n",
      "{'__wrapped__': <function A.method at 0x0000000005DF1598>,\n",
      " 'add': <function overload.<locals>.add at 0x0000000005DF16A8>}\n"
     ]
    }
   ],
   "source": [
    "print(type(A.method))\n",
    "pprint.pprint(A.method.__dict__)"
   ]
  },
  {
   "cell_type": "code",
   "execution_count": 167,
   "metadata": {
    "collapsed": true
   },
   "outputs": [],
   "source": [
    "from typing import overload\n",
    "\n",
    "class Overload_ :\n",
    "    @overload\n",
    "    def method(self) :\n",
    "        pass\n",
    "        \n",
    "    @overload\n",
    "    def method(self, x:str) :\n",
    "        pass\n",
    "    \n",
    "    @overload\n",
    "    def method(self, x:str,y:str) :\n",
    "        pass\n",
    "        \n",
    "    def method(self,*args) :\n",
    "        if len(args) == 0 :\n",
    "            print(\" no args method \")\n",
    "        \n",
    "        if len(args) == 1 :\n",
    "            print(\" one args method \"+ args[0])\n",
    "            \n",
    "        if len(args) == 2 :\n",
    "            print(\" two args method \"+ args[0], args[1])\n",
    "        "
   ]
  },
  {
   "cell_type": "code",
   "execution_count": 168,
   "metadata": {
    "collapsed": false
   },
   "outputs": [
    {
     "name": "stdout",
     "output_type": "stream",
     "text": [
      " no args method \n",
      " one args method hello\n",
      " two args method hello world\n"
     ]
    }
   ],
   "source": [
    "a = Overload_()\n",
    "\n",
    "a.method()\n",
    "a.method(\"hello\")\n",
    "a.method(\"hello\",\"world\")"
   ]
  },
  {
   "cell_type": "code",
   "execution_count": 169,
   "metadata": {
    "collapsed": true
   },
   "outputs": [],
   "source": [
    "from multipledispatch import dispatch\n",
    "\n",
    "class A :\n",
    "    @dispatch()\n",
    "    def method(self) :\n",
    "        print(\" no args method \")\n",
    "        \n",
    "    @dispatch(str)\n",
    "    def method(self, x) :\n",
    "        print(\" one args method \"+ x)\n",
    "        \n",
    "    @dispatch(str,str)\n",
    "    def method(self, x,y) :\n",
    "        print(\" two args method \"+ x,y)\n",
    "        "
   ]
  },
  {
   "cell_type": "code",
   "execution_count": 170,
   "metadata": {
    "collapsed": false
   },
   "outputs": [
    {
     "name": "stdout",
     "output_type": "stream",
     "text": [
      " no args method \n",
      " one args method hello\n",
      " two args method hello world\n"
     ]
    }
   ],
   "source": [
    "a = A()\n",
    "\n",
    "a.method()\n",
    "a.method(\"hello\")\n",
    "a.method(\"hello\",\"world\")"
   ]
  },
  {
   "cell_type": "code",
   "execution_count": 171,
   "metadata": {
    "collapsed": false
   },
   "outputs": [
    {
     "name": "stdout",
     "output_type": "stream",
     "text": [
      "mappingproxy({'__dict__': <attribute '__dict__' of 'A' objects>,\n",
      "              '__doc__': None,\n",
      "              '__module__': '__main__',\n",
      "              '__weakref__': <attribute '__weakref__' of 'A' objects>,\n",
      "              'method': <dispatched method>})\n"
     ]
    }
   ],
   "source": [
    "import pprint\n",
    "\n",
    "pprint.pprint(A.__dict__)"
   ]
  },
  {
   "cell_type": "code",
   "execution_count": 172,
   "metadata": {
    "collapsed": false
   },
   "outputs": [
    {
     "name": "stdout",
     "output_type": "stream",
     "text": [
      "add\n",
      "cls\n",
      "dispatch\n",
      "dispatch_iter\n",
      "doc\n",
      "funcs\n",
      "help\n",
      "name\n",
      "obj\n",
      "ordering\n",
      "register\n",
      "reorder\n",
      "resolve\n",
      "source\n"
     ]
    }
   ],
   "source": [
    "for i in dir(A.method) :\n",
    "    if not i.startswith(\"_\") :\n",
    "        print(i)"
   ]
  },
  {
   "cell_type": "code",
   "execution_count": 173,
   "metadata": {
    "collapsed": false
   },
   "outputs": [
    {
     "data": {
      "text/plain": [
       "{(): <function __main__.A.method>,\n",
       " (str,): <function __main__.A.method>,\n",
       " (str, str): <function __main__.A.method>}"
      ]
     },
     "execution_count": 173,
     "metadata": {},
     "output_type": "execute_result"
    }
   ],
   "source": [
    "A.method.funcs"
   ]
  },
  {
   "cell_type": "markdown",
   "metadata": {},
   "source": [
    "## 예제 9-50  :   연산자 오버로딩 이해하기"
   ]
  },
  {
   "cell_type": "code",
   "execution_count": 205,
   "metadata": {
    "collapsed": true
   },
   "outputs": [],
   "source": [
    "class Float_(float) :\n",
    "    \n",
    "    def __init__(self,value) :\n",
    "        self.value = float(value)\n",
    "    \n",
    "    def __add__(self,value) :\n",
    "        return Float_(self.value + float(value))\n",
    "        "
   ]
  },
  {
   "cell_type": "code",
   "execution_count": 206,
   "metadata": {
    "collapsed": false
   },
   "outputs": [
    {
     "name": "stdout",
     "output_type": "stream",
     "text": [
      "100.5\n",
      "200.5\n",
      "<class '__main__.Float_'>\n"
     ]
    }
   ],
   "source": [
    "v = Float_(100.5)\n",
    "print(v.value)\n",
    "print(v+100)\n",
    "print(type(v+100))"
   ]
  },
  {
   "cell_type": "code",
   "execution_count": 199,
   "metadata": {
    "collapsed": true
   },
   "outputs": [],
   "source": [
    "class Float_ :\n",
    "    \n",
    "    def __init__(self,value) :\n",
    "        self.value = float(value)\n",
    "    \n",
    "    def __add__(self,value) :\n",
    "        return Float_(self.value + float(value)).value"
   ]
  },
  {
   "cell_type": "code",
   "execution_count": 207,
   "metadata": {
    "collapsed": false
   },
   "outputs": [
    {
     "name": "stdout",
     "output_type": "stream",
     "text": [
      "100.5\n",
      "200.5\n",
      "<class '__main__.Float_'>\n"
     ]
    }
   ],
   "source": [
    "v = Float_(100.5)\n",
    "print(v.value)\n",
    "print(v+100)\n",
    "print(type(v+100))"
   ]
  },
  {
   "cell_type": "markdown",
   "metadata": {
    "collapsed": true
   },
   "source": [
    "## 예제 9-51  : 함수 내에서 인터페이스 처리 \n"
   ]
  },
  {
   "cell_type": "code",
   "execution_count": 22,
   "metadata": {
    "collapsed": true
   },
   "outputs": [],
   "source": [
    "class Duck :\n",
    "    def say(self) :\n",
    "        return \"quack quack\"\n",
    "    \n",
    "class Person :\n",
    "    def say(self) :\n",
    "        return \"Hello !\"\n",
    "      "
   ]
  },
  {
   "cell_type": "code",
   "execution_count": 23,
   "metadata": {
    "collapsed": true
   },
   "outputs": [],
   "source": [
    "def say(obj) :\n",
    "    return obj.say()\n"
   ]
  },
  {
   "cell_type": "code",
   "execution_count": 24,
   "metadata": {
    "collapsed": false
   },
   "outputs": [
    {
     "name": "stdout",
     "output_type": "stream",
     "text": [
      "quack quack\n",
      "Hello !\n"
     ]
    }
   ],
   "source": [
    "d = Duck() \n",
    "p = Person() \n",
    "\n",
    "print(say(d))\n",
    "print(say(p))"
   ]
  },
  {
   "cell_type": "markdown",
   "metadata": {},
   "source": [
    "## 예제 9-52 :  class내에서  인터페이스 제공\n"
   ]
  },
  {
   "cell_type": "code",
   "execution_count": 27,
   "metadata": {
    "collapsed": true
   },
   "outputs": [],
   "source": [
    "class Duck :\n",
    "    def say(self) :\n",
    "        return \"quack quack\"\n",
    "    \n",
    "class Person :\n",
    "    def say(self) :\n",
    "        return \"Hello !\""
   ]
  },
  {
   "cell_type": "code",
   "execution_count": 25,
   "metadata": {
    "collapsed": true
   },
   "outputs": [],
   "source": [
    "class Say :\n",
    "    @staticmethod\n",
    "    def say(obj) :\n",
    "        return obj.say()"
   ]
  },
  {
   "cell_type": "code",
   "execution_count": 26,
   "metadata": {
    "collapsed": false
   },
   "outputs": [
    {
     "name": "stdout",
     "output_type": "stream",
     "text": [
      "quack quack\n",
      "Hello !\n"
     ]
    }
   ],
   "source": [
    "d = Duck() \n",
    "p = Person() \n",
    "\n",
    "print(Say.say(d))\n",
    "print(Say.say(p))"
   ]
  },
  {
   "cell_type": "markdown",
   "metadata": {},
   "source": [
    "## 예제 9-53 :  메타클래스로 클래스 생성하기\n"
   ]
  },
  {
   "cell_type": "code",
   "execution_count": 28,
   "metadata": {
    "collapsed": true
   },
   "outputs": [],
   "source": [
    "import pprint\n",
    "\n",
    "namespace = { 'name' : \"메타클래스로 클래스 생성\"}\n",
    "bases = (object,)\n",
    "classname = \"Klass\"\n",
    "\n",
    "Klass = type(classname, bases, namespace) \n"
   ]
  },
  {
   "cell_type": "code",
   "execution_count": 31,
   "metadata": {
    "collapsed": false
   },
   "outputs": [
    {
     "name": "stdout",
     "output_type": "stream",
     "text": [
      "<class 'type'>\n",
      "<class '__main__.Klass'>\n",
      "mappingproxy({'__dict__': <attribute '__dict__' of 'Klass' objects>,\n",
      "              '__doc__': None,\n",
      "              '__module__': '__main__',\n",
      "              '__weakref__': <attribute '__weakref__' of 'Klass' objects>,\n",
      "              'name': '메타클래스로 클래스 생성'})\n"
     ]
    }
   ],
   "source": [
    "print(type(Klass))\n",
    "print(Klass)\n",
    "pprint.pprint(Klass.__dict__)"
   ]
  },
  {
   "cell_type": "code",
   "execution_count": 32,
   "metadata": {
    "collapsed": false
   },
   "outputs": [
    {
     "name": "stdout",
     "output_type": "stream",
     "text": [
      "<class 'type'>\n",
      "<class '__main__.Klass'>\n",
      "mappingproxy({'__dict__': <attribute '__dict__' of 'Klass' objects>,\n",
      "              '__doc__': None,\n",
      "              '__module__': '__main__',\n",
      "              '__weakref__': <attribute '__weakref__' of 'Klass' objects>,\n",
      "              'name': ' 클래스 정의문으로 클래스 생성'})\n"
     ]
    }
   ],
   "source": [
    "class Klass :\n",
    "    name = \" 클래스 정의문으로 클래스 생성\" \n",
    "    \n",
    "print(type(Klass))\n",
    "print(Klass)\n",
    "pprint.pprint(Klass.__dict__)"
   ]
  },
  {
   "cell_type": "markdown",
   "metadata": {},
   "source": [
    "## 예제 9-54  :  사용자 메타클래스로 변경하기\n"
   ]
  },
  {
   "cell_type": "code",
   "execution_count": 33,
   "metadata": {
    "collapsed": true
   },
   "outputs": [],
   "source": [
    "class MyMeta(type) :\n",
    "    pass\n",
    "\n",
    "class Klass(metaclass=MyMeta) :\n",
    "    pass\n"
   ]
  },
  {
   "cell_type": "code",
   "execution_count": 34,
   "metadata": {
    "collapsed": false
   },
   "outputs": [
    {
     "name": "stdout",
     "output_type": "stream",
     "text": [
      "<class '__main__.Klass'>\n",
      "<class '__main__.MyMeta'>\n"
     ]
    }
   ],
   "source": [
    "print(Klass)\n",
    "print(Klass.__class__)"
   ]
  },
  {
   "cell_type": "code",
   "execution_count": null,
   "metadata": {
    "collapsed": true
   },
   "outputs": [],
   "source": [
    "class A :\n",
    "    def __init__(self) :\n",
    "        self.b = b()\n",
    "        \n"
   ]
  },
  {
   "cell_type": "markdown",
   "metadata": {},
   "source": [
    "## 예제 9-55  : 구성관계 (composition) \n"
   ]
  },
  {
   "cell_type": "code",
   "execution_count": 41,
   "metadata": {
    "collapsed": true
   },
   "outputs": [],
   "source": [
    "class Salary:\n",
    "    def __init__(self,pay):\n",
    "        self.pay=pay\n",
    "\n",
    "    def get_total(self):\n",
    "        return (self.pay*12)\n"
   ]
  },
  {
   "cell_type": "code",
   "execution_count": 42,
   "metadata": {
    "collapsed": true
   },
   "outputs": [],
   "source": [
    "class Employee:\n",
    "    def __init__(self,pay,bonus):\n",
    "        self.pay=pay\n",
    "        self.bonus=bonus\n",
    "        self.obj_salary=Salary(self.pay)\n",
    "\n",
    "    def annual_salary(self):\n",
    "        return \"Total: \"  +  str(self.obj_salary.get_total()+self.bonus)"
   ]
  },
  {
   "cell_type": "code",
   "execution_count": 43,
   "metadata": {
    "collapsed": false
   },
   "outputs": [
    {
     "name": "stdout",
     "output_type": "stream",
     "text": [
      "Total: 1210\n"
     ]
    }
   ],
   "source": [
    "obj_emp=Employee(100,10)\n",
    "print (obj_emp.annual_salary())"
   ]
  },
  {
   "cell_type": "markdown",
   "metadata": {},
   "source": [
    "## 예제 9-56 : 집합 관계(Aggregation) "
   ]
  },
  {
   "cell_type": "code",
   "execution_count": 37,
   "metadata": {
    "collapsed": true
   },
   "outputs": [],
   "source": [
    "class Salary:\n",
    "    def __init__(self,pay):\n",
    "        self.pay=pay\n",
    "\n",
    "    def get_total(self):\n",
    "        return (self.pay*12)\n"
   ]
  },
  {
   "cell_type": "code",
   "execution_count": 38,
   "metadata": {
    "collapsed": true
   },
   "outputs": [],
   "source": [
    "class Employee:\n",
    "    def __init__(self,pay,bonus):\n",
    "        self.pay=pay\n",
    "        self.bonus=bonus\n",
    "\n",
    "    def annual_salary(self):\n",
    "        return \"Total: \"  +  str(self.pay.get_total()+self.bonus)"
   ]
  },
  {
   "cell_type": "code",
   "execution_count": 39,
   "metadata": {
    "collapsed": false
   },
   "outputs": [
    {
     "name": "stdout",
     "output_type": "stream",
     "text": [
      "Total: 1210\n"
     ]
    }
   ],
   "source": [
    "obj_sal=Salary(100)\n",
    "obj_emp=Employee(obj_sal,10)\n",
    "print (obj_emp.annual_salary())"
   ]
  },
  {
   "cell_type": "code",
   "execution_count": 40,
   "metadata": {
    "collapsed": false
   },
   "outputs": [
    {
     "name": "stdout",
     "output_type": "stream",
     "text": [
      "<__main__.Salary object at 0x0000000004E8FB00>\n"
     ]
    }
   ],
   "source": [
    "del obj_emp \n",
    "print(obj_sal)"
   ]
  },
  {
   "cell_type": "markdown",
   "metadata": {},
   "source": [
    "## 예제 9-57  : 위임 메소드를 사용하기\n"
   ]
  },
  {
   "cell_type": "code",
   "execution_count": 44,
   "metadata": {
    "collapsed": true
   },
   "outputs": [],
   "source": [
    "class Person :\n",
    "    def __init__(self,name,age) :\n",
    "        self.name = name\n",
    "        self.age  = age\n",
    "        "
   ]
  },
  {
   "cell_type": "code",
   "execution_count": 45,
   "metadata": {
    "collapsed": true
   },
   "outputs": [],
   "source": [
    "class Student :\n",
    "    def __init__(self, name,age,college) :\n",
    "        self.person = Person(name,age)\n",
    "        self.college = college\n",
    "        "
   ]
  },
  {
   "cell_type": "code",
   "execution_count": 46,
   "metadata": {
    "collapsed": false
   },
   "outputs": [
    {
     "name": "stdout",
     "output_type": "stream",
     "text": [
      "{'person': <__main__.Person object at 0x0000000004E8FA90>, 'college': '숭실대'}\n"
     ]
    }
   ],
   "source": [
    "s = Student(\"연관\",22,\"숭실대\")\n",
    "print(s.__dict__)"
   ]
  },
  {
   "cell_type": "code",
   "execution_count": 47,
   "metadata": {
    "collapsed": true
   },
   "outputs": [],
   "source": [
    "class Person :\n",
    "    def __init__(self,name,age) :\n",
    "        self.name = name\n",
    "        self.age  = age\n",
    "        \n",
    "    def getname(self) :\n",
    "        return self.name\n",
    "    def getage(self) :\n",
    "        return self.age"
   ]
  },
  {
   "cell_type": "code",
   "execution_count": 49,
   "metadata": {
    "collapsed": false
   },
   "outputs": [],
   "source": [
    "class Student :\n",
    "    def __init__(self, name,age,college) :\n",
    "        self.person = Person(name,age)\n",
    "        self.college = college\n",
    "        \n",
    "    def getname(self) :\n",
    "        return self.person.getname()\n",
    "    \n",
    "    def getage(self) :\n",
    "        return self.person.getage()"
   ]
  },
  {
   "cell_type": "code",
   "execution_count": 51,
   "metadata": {
    "collapsed": false
   },
   "outputs": [
    {
     "name": "stdout",
     "output_type": "stream",
     "text": [
      "위임\n",
      "22\n"
     ]
    }
   ],
   "source": [
    "s = Student(\"위임\",22,\"숭실대\")\n",
    "print(s.getname())\n",
    "print(s.getage())"
   ]
  },
  {
   "cell_type": "code",
   "execution_count": null,
   "metadata": {
    "collapsed": true
   },
   "outputs": [],
   "source": []
  }
 ],
 "metadata": {
  "kernelspec": {
   "display_name": "Python 3",
   "language": "python",
   "name": "python3"
  },
  "language_info": {
   "codemirror_mode": {
    "name": "ipython",
    "version": 3
   },
   "file_extension": ".py",
   "mimetype": "text/x-python",
   "name": "python",
   "nbconvert_exporter": "python",
   "pygments_lexer": "ipython3",
   "version": "3.6.0"
  }
 },
 "nbformat": 4,
 "nbformat_minor": 2
}
