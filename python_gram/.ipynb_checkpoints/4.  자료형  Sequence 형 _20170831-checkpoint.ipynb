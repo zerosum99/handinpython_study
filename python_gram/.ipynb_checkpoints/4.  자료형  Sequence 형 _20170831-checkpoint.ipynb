{
 "cells": [
  {
   "cell_type": "markdown",
   "metadata": {},
   "source": [
    "## 예제 4-1 : Sequence 내장 타입의 인스턴스 Namespce 미존재"
   ]
  },
  {
   "cell_type": "code",
   "execution_count": 1,
   "metadata": {},
   "outputs": [],
   "source": [
    "l = [1,2,3]\n"
   ]
  },
  {
   "cell_type": "markdown",
   "metadata": {},
   "source": [
    "### 리스트 객체에도 이름공간이 없다. 이는 리스트 객체 속성을 갱신할 수 없다"
   ]
  },
  {
   "cell_type": "code",
   "execution_count": null,
   "metadata": {},
   "outputs": [],
   "source": []
  },
  {
   "cell_type": "code",
   "execution_count": 2,
   "metadata": {},
   "outputs": [
    {
     "name": "stdout",
     "output_type": "stream",
     "text": [
      "'list' object has no attribute '__dict__'\n"
     ]
    }
   ],
   "source": [
    "try :\n",
    "    l.__dict__\n",
    "except Exception as e :\n",
    "    print(e)"
   ]
  },
  {
   "cell_type": "markdown",
   "metadata": {},
   "source": [
    "## 추상 클래스 알아보기"
   ]
  },
  {
   "cell_type": "code",
   "execution_count": 122,
   "metadata": {},
   "outputs": [],
   "source": [
    "import collections.abc as abc"
   ]
  },
  {
   "cell_type": "code",
   "execution_count": 123,
   "metadata": {},
   "outputs": [
    {
     "data": {
      "text/plain": [
       "[collections.abc.ByteString,\n",
       " collections.abc.MutableSequence,\n",
       " collections.UserString,\n",
       " pathlib._PathParents]"
      ]
     },
     "execution_count": 123,
     "metadata": {},
     "output_type": "execute_result"
    }
   ],
   "source": [
    "abc.Sequence.__subclasses__()"
   ]
  },
  {
   "cell_type": "code",
   "execution_count": 125,
   "metadata": {},
   "outputs": [
    {
     "data": {
      "text/plain": [
       "[collections.UserList]"
      ]
     },
     "execution_count": 125,
     "metadata": {},
     "output_type": "execute_result"
    }
   ],
   "source": [
    "abc.MutableSequence.__subclasses__()"
   ]
  },
  {
   "cell_type": "code",
   "execution_count": null,
   "metadata": {},
   "outputs": [],
   "source": []
  },
  {
   "cell_type": "code",
   "execution_count": 126,
   "metadata": {},
   "outputs": [
    {
     "data": {
      "text/plain": [
       "True"
      ]
     },
     "execution_count": 126,
     "metadata": {},
     "output_type": "execute_result"
    }
   ],
   "source": [
    "issubclass(list, abc.Sequence)"
   ]
  },
  {
   "cell_type": "code",
   "execution_count": 127,
   "metadata": {},
   "outputs": [
    {
     "data": {
      "text/plain": [
       "True"
      ]
     },
     "execution_count": 127,
     "metadata": {},
     "output_type": "execute_result"
    }
   ],
   "source": [
    "issubclass(list, abc.MutableSequence)"
   ]
  },
  {
   "cell_type": "code",
   "execution_count": null,
   "metadata": {},
   "outputs": [],
   "source": []
  },
  {
   "cell_type": "markdown",
   "metadata": {},
   "source": [
    "### 리스트 클래스를 상속해서 클래스를 만들 경우는 객체의 이름공간이 만들어진다."
   ]
  },
  {
   "cell_type": "markdown",
   "metadata": {},
   "source": [
    "### 클래스 내의 객체의 속성을 만드는 초기화 함수를 정의한다\n",
    "\n",
    "### 리스트 클래스의 초기화 함수에는 하나의 인자 value만 들어간다"
   ]
  },
  {
   "cell_type": "code",
   "execution_count": 3,
   "metadata": {},
   "outputs": [],
   "source": [
    "class List(list) :\n",
    "    def __init__(self, name, value) :\n",
    "        super().__init__(value)\n",
    "        self.name = name\n",
    "        "
   ]
  },
  {
   "cell_type": "code",
   "execution_count": null,
   "metadata": {},
   "outputs": [],
   "source": []
  },
  {
   "cell_type": "markdown",
   "metadata": {},
   "source": [
    "###  리스트 클래스를 가지고 객체를 생성한다.\n",
    "###   클래스 생성자는 초기화 함수의 두번째와 세번째 매개변수와 매핑되는 인자를 넣어야 한다"
   ]
  },
  {
   "cell_type": "code",
   "execution_count": 4,
   "metadata": {},
   "outputs": [
    {
     "name": "stdout",
     "output_type": "stream",
     "text": [
      "{'name': '리스트'}\n"
     ]
    }
   ],
   "source": [
    "l = List(\"리스트\",[1,2,3])\n",
    "\n",
    "print(l.__dict__)\n"
   ]
  },
  {
   "cell_type": "code",
   "execution_count": null,
   "metadata": {},
   "outputs": [],
   "source": []
  },
  {
   "cell_type": "markdown",
   "metadata": {},
   "source": [
    "### 수퍼 클래스 알아보기\n",
    "\n",
    "### 첫번재 인자는 클래스, 두번째 인자는 객체를 넣어서 상위 클래스를 참조한다"
   ]
  },
  {
   "cell_type": "code",
   "execution_count": 5,
   "metadata": {},
   "outputs": [
    {
     "data": {
      "text/plain": [
       "<super: __main__.List, [1, 2, 3]>"
      ]
     },
     "execution_count": 5,
     "metadata": {},
     "output_type": "execute_result"
    }
   ],
   "source": [
    "super(List, l)"
   ]
  },
  {
   "cell_type": "code",
   "execution_count": 6,
   "metadata": {},
   "outputs": [],
   "source": [
    "lll = super(List, l)"
   ]
  },
  {
   "cell_type": "code",
   "execution_count": null,
   "metadata": {},
   "outputs": [],
   "source": []
  },
  {
   "cell_type": "code",
   "execution_count": 7,
   "metadata": {},
   "outputs": [
    {
     "data": {
      "text/plain": [
       "super"
      ]
     },
     "execution_count": 7,
     "metadata": {},
     "output_type": "execute_result"
    }
   ],
   "source": [
    "type(lll)"
   ]
  },
  {
   "cell_type": "code",
   "execution_count": 8,
   "metadata": {},
   "outputs": [
    {
     "name": "stdout",
     "output_type": "stream",
     "text": [
      "Help on method-wrapper object:\n",
      "\n",
      "__init__ = class method-wrapper(object)\n",
      " |  Methods defined here:\n",
      " |  \n",
      " |  __call__(self, /, *args, **kwargs)\n",
      " |      Call self as a function.\n",
      " |  \n",
      " |  __eq__(self, value, /)\n",
      " |      Return self==value.\n",
      " |  \n",
      " |  __ge__(self, value, /)\n",
      " |      Return self>=value.\n",
      " |  \n",
      " |  __getattribute__(self, name, /)\n",
      " |      Return getattr(self, name).\n",
      " |  \n",
      " |  __gt__(self, value, /)\n",
      " |      Return self>value.\n",
      " |  \n",
      " |  __hash__(self, /)\n",
      " |      Return hash(self).\n",
      " |  \n",
      " |  __le__(self, value, /)\n",
      " |      Return self<=value.\n",
      " |  \n",
      " |  __lt__(self, value, /)\n",
      " |      Return self<value.\n",
      " |  \n",
      " |  __ne__(self, value, /)\n",
      " |      Return self!=value.\n",
      " |  \n",
      " |  __reduce__(...)\n",
      " |      Helper for pickle.\n",
      " |  \n",
      " |  __repr__(self, /)\n",
      " |      Return repr(self).\n",
      " |  \n",
      " |  ----------------------------------------------------------------------\n",
      " |  Data descriptors defined here:\n",
      " |  \n",
      " |  __objclass__\n",
      " |  \n",
      " |  __self__\n",
      " |  \n",
      " |  __text_signature__\n",
      "\n"
     ]
    }
   ],
   "source": [
    "help(lll.__init__)"
   ]
  },
  {
   "cell_type": "code",
   "execution_count": null,
   "metadata": {},
   "outputs": [],
   "source": []
  },
  {
   "cell_type": "markdown",
   "metadata": {},
   "source": [
    "### 리스트 클래스를 상속해서 덧셈 연산도 가능하다.\n",
    "### 이 객체의 이름공간을 확인하면 name 속성이 추가된 것을 알 수 있다.\n",
    "### 리스트 객체는 이름공간이 없지만 사용자 정의 클래스는 객체의 이름공간을 가진다"
   ]
  },
  {
   "cell_type": "code",
   "execution_count": 9,
   "metadata": {},
   "outputs": [
    {
     "name": "stdout",
     "output_type": "stream",
     "text": [
      "[1, 2, 3, 1, 2, 3]\n",
      "{'name': '리스트'}\n"
     ]
    }
   ],
   "source": [
    "print(l+l)\n",
    "print(l.__dict__)"
   ]
  },
  {
   "cell_type": "code",
   "execution_count": null,
   "metadata": {},
   "outputs": [],
   "source": []
  },
  {
   "cell_type": "markdown",
   "metadata": {},
   "source": [
    "### 리스트를 상속해서 구현할 대는 collections 모듈에 있는 UserList 클래스를 사용한다"
   ]
  },
  {
   "cell_type": "code",
   "execution_count": 10,
   "metadata": {},
   "outputs": [],
   "source": [
    "import collections as cols"
   ]
  },
  {
   "cell_type": "markdown",
   "metadata": {},
   "source": [
    "### 리스트 클래스를 상속하지 않고 UserList를 상속해서 리스트 클래스를 확장한다"
   ]
  },
  {
   "cell_type": "code",
   "execution_count": 11,
   "metadata": {},
   "outputs": [
    {
     "data": {
      "text/plain": [
       "collections.UserList"
      ]
     },
     "execution_count": 11,
     "metadata": {},
     "output_type": "execute_result"
    }
   ],
   "source": [
    "cols.UserList"
   ]
  },
  {
   "cell_type": "markdown",
   "metadata": {},
   "source": [
    "### 덧셈 연산을 처리하는 스페셜 메소드를 추가해서 정의한다."
   ]
  },
  {
   "cell_type": "code",
   "execution_count": 12,
   "metadata": {},
   "outputs": [],
   "source": [
    "class List_(cols.UserList) :\n",
    "    def __init__(self, name, value) :\n",
    "        super().__init__(value)\n",
    "        self.name = name\n",
    "        \n",
    "    def __add__(self, other) :\n",
    "        return self.data + other.data"
   ]
  },
  {
   "cell_type": "code",
   "execution_count": 13,
   "metadata": {},
   "outputs": [
    {
     "name": "stdout",
     "output_type": "stream",
     "text": [
      "{'data': [1, 2, 3], 'name': '리스트 확장'}\n"
     ]
    }
   ],
   "source": [
    "l__ = List_(\"리스트 확장\",[1,2,3])\n",
    "\n",
    "print(l__.__dict__)"
   ]
  },
  {
   "cell_type": "code",
   "execution_count": 14,
   "metadata": {},
   "outputs": [
    {
     "name": "stdout",
     "output_type": "stream",
     "text": [
      "[1, 2, 3, 1, 2, 3]\n",
      "{'data': [1, 2, 3], 'name': '리스트 확장'}\n"
     ]
    }
   ],
   "source": [
    "print(l__+l__)\n",
    "print(l__.__dict__)"
   ]
  },
  {
   "cell_type": "code",
   "execution_count": null,
   "metadata": {},
   "outputs": [],
   "source": []
  },
  {
   "cell_type": "markdown",
   "metadata": {},
   "source": [
    "## 예제 4-2 :  문자열은 변경불가\n"
   ]
  },
  {
   "cell_type": "code",
   "execution_count": 15,
   "metadata": {},
   "outputs": [
    {
     "name": "stdout",
     "output_type": "stream",
     "text": [
      "창\n"
     ]
    }
   ],
   "source": [
    "s = \"창덕\"\n",
    "\n",
    "print(s[0])"
   ]
  },
  {
   "cell_type": "code",
   "execution_count": 16,
   "metadata": {},
   "outputs": [
    {
     "name": "stdout",
     "output_type": "stream",
     "text": [
      "'str' object does not support item assignment\n"
     ]
    }
   ],
   "source": [
    "try :\n",
    "    s[0] = \"성\"\n",
    "except Exception as e :\n",
    "    print(e)"
   ]
  },
  {
   "cell_type": "code",
   "execution_count": 17,
   "metadata": {},
   "outputs": [
    {
     "name": "stdout",
     "output_type": "stream",
     "text": [
      "type object 'str' has no attribute '__setitem__'\n"
     ]
    }
   ],
   "source": [
    "try :\n",
    "    str.__setitem__\n",
    "except Exception as e :\n",
    "    print(e)"
   ]
  },
  {
   "cell_type": "markdown",
   "metadata": {},
   "source": [
    "###  정규 표현식  모듈 처리\n",
    "### 문자열에 숫자를 두군데 정의한다"
   ]
  },
  {
   "cell_type": "code",
   "execution_count": 18,
   "metadata": {},
   "outputs": [],
   "source": [
    "import re \n",
    "  \n",
    "# initializing string  \n",
    "test_string = \"There are 2 apples for 4 persons\""
   ]
  },
  {
   "cell_type": "code",
   "execution_count": 19,
   "metadata": {},
   "outputs": [
    {
     "name": "stdout",
     "output_type": "stream",
     "text": [
      "The original string : There are 2 apples for 4 persons\n"
     ]
    }
   ],
   "source": [
    "# printing original string  \n",
    "print(\"The original string : \" + test_string) \n"
   ]
  },
  {
   "cell_type": "markdown",
   "metadata": {},
   "source": [
    "### 특정 숫자를 가져오기 위해 \\d+ 정규표현식을 정의하고 findall로 문자열에 숫자를 전부 가져옵니다"
   ]
  },
  {
   "cell_type": "code",
   "execution_count": 20,
   "metadata": {},
   "outputs": [
    {
     "name": "stdout",
     "output_type": "stream",
     "text": [
      "['2', '4']\n"
     ]
    }
   ],
   "source": [
    "# using re.findall() \n",
    "# getting numbers from string  \n",
    "temp = re.findall(r'\\d+', test_string) \n",
    "print(temp)"
   ]
  },
  {
   "cell_type": "code",
   "execution_count": 21,
   "metadata": {},
   "outputs": [],
   "source": [
    "res = list(map(int, temp)) "
   ]
  },
  {
   "cell_type": "code",
   "execution_count": 22,
   "metadata": {},
   "outputs": [
    {
     "data": {
      "text/plain": [
       "[2, 4]"
      ]
     },
     "execution_count": 22,
     "metadata": {},
     "output_type": "execute_result"
    }
   ],
   "source": [
    "res"
   ]
  },
  {
   "cell_type": "markdown",
   "metadata": {},
   "source": [
    "### 순환문으로 확인하면 int 클래스로 temp 변수에 저장한 문자열을 정수로 형변환을 처리한다"
   ]
  },
  {
   "cell_type": "code",
   "execution_count": 23,
   "metadata": {},
   "outputs": [
    {
     "name": "stdout",
     "output_type": "stream",
     "text": [
      "2\n",
      "4\n"
     ]
    }
   ],
   "source": [
    "for i in map(int, temp) :\n",
    "    print(i)"
   ]
  },
  {
   "cell_type": "code",
   "execution_count": 24,
   "metadata": {},
   "outputs": [
    {
     "data": {
      "text/plain": [
       "<map at 0x1e8b8226be0>"
      ]
     },
     "execution_count": 24,
     "metadata": {},
     "output_type": "execute_result"
    }
   ],
   "source": [
    "map(int, temp)"
   ]
  },
  {
   "cell_type": "markdown",
   "metadata": {},
   "source": [
    "### 리스트 컴프리헨션의 축약형으로 반복형이나 반복자에 별표를 붙여서 실행할 수 있다"
   ]
  },
  {
   "cell_type": "code",
   "execution_count": 25,
   "metadata": {},
   "outputs": [
    {
     "data": {
      "text/plain": [
       "[2, 4]"
      ]
     },
     "execution_count": 25,
     "metadata": {},
     "output_type": "execute_result"
    }
   ],
   "source": [
    "[*map(int, temp)]"
   ]
  },
  {
   "cell_type": "markdown",
   "metadata": {},
   "source": [
    "### 위의 표현과 동일한 보통의 컴프리헨션 표기방식이다"
   ]
  },
  {
   "cell_type": "code",
   "execution_count": 26,
   "metadata": {},
   "outputs": [
    {
     "data": {
      "text/plain": [
       "[2, 4]"
      ]
     },
     "execution_count": 26,
     "metadata": {},
     "output_type": "execute_result"
    }
   ],
   "source": [
    "[ x for x in map(int, temp)]"
   ]
  },
  {
   "cell_type": "markdown",
   "metadata": {},
   "source": [
    "### 반복형인 range도 별표 표기법으로 처리가 가능하다"
   ]
  },
  {
   "cell_type": "code",
   "execution_count": 27,
   "metadata": {},
   "outputs": [
    {
     "data": {
      "text/plain": [
       "[0, 1, 2, 3]"
      ]
     },
     "execution_count": 27,
     "metadata": {},
     "output_type": "execute_result"
    }
   ],
   "source": [
    "[*range(4)]"
   ]
  },
  {
   "cell_type": "code",
   "execution_count": 28,
   "metadata": {},
   "outputs": [
    {
     "data": {
      "text/plain": [
       "[0, 1, 2, 3]"
      ]
     },
     "execution_count": 28,
     "metadata": {},
     "output_type": "execute_result"
    }
   ],
   "source": [
    "[ x for x in range(4)]"
   ]
  },
  {
   "cell_type": "markdown",
   "metadata": {},
   "source": [
    "### 결과를 확인하면 2개의 숫자를 가져옵니다"
   ]
  },
  {
   "cell_type": "code",
   "execution_count": 29,
   "metadata": {},
   "outputs": [
    {
     "name": "stdout",
     "output_type": "stream",
     "text": [
      "The numbers list is : [2, 4]\n"
     ]
    }
   ],
   "source": [
    "# print result \n",
    "print(\"The numbers list is : \" + str(res)) "
   ]
  },
  {
   "cell_type": "code",
   "execution_count": null,
   "metadata": {},
   "outputs": [],
   "source": []
  },
  {
   "cell_type": "markdown",
   "metadata": {},
   "source": [
    "## 예제 4-3 : 튜플(tuple) 변경불가"
   ]
  },
  {
   "cell_type": "code",
   "execution_count": 30,
   "metadata": {},
   "outputs": [
    {
     "name": "stdout",
     "output_type": "stream",
     "text": [
      "고\n"
     ]
    }
   ],
   "source": [
    "t = (\"고\",\"요\",\"한\")\n",
    "\n",
    "print(t[0])\n"
   ]
  },
  {
   "cell_type": "code",
   "execution_count": 31,
   "metadata": {},
   "outputs": [
    {
     "name": "stdout",
     "output_type": "stream",
     "text": [
      "'tuple' object does not support item assignment\n"
     ]
    }
   ],
   "source": [
    "try :\n",
    "     t[0] = \"김\"\n",
    "except Exception as e :\n",
    "    print(e)"
   ]
  },
  {
   "cell_type": "code",
   "execution_count": null,
   "metadata": {},
   "outputs": [],
   "source": []
  },
  {
   "cell_type": "code",
   "execution_count": 32,
   "metadata": {},
   "outputs": [
    {
     "name": "stdout",
     "output_type": "stream",
     "text": [
      "type object 'tuple' has no attribute '__setitem__'\n"
     ]
    }
   ],
   "source": [
    "try :\n",
    "    tuple.__setitem__\n",
    "except Exception as e :\n",
    "    print(e)"
   ]
  },
  {
   "cell_type": "markdown",
   "metadata": {},
   "source": [
    "## 예제 4-4 : 리스트(list) 원소 변경 \n"
   ]
  },
  {
   "cell_type": "code",
   "execution_count": 33,
   "metadata": {},
   "outputs": [
    {
     "name": "stdout",
     "output_type": "stream",
     "text": [
      "<class 'list'>\n",
      "['김', '민', '수']\n"
     ]
    }
   ],
   "source": [
    "l = [\"전\",\"민\",\"수\"]\n",
    "\n",
    "print(type(l))\n",
    "l[0] = \"김\"\n",
    "\n",
    "print(l)"
   ]
  },
  {
   "cell_type": "code",
   "execution_count": 34,
   "metadata": {},
   "outputs": [
    {
     "data": {
      "text/plain": [
       "<slot wrapper '__setitem__' of 'list' objects>"
      ]
     },
     "execution_count": 34,
     "metadata": {},
     "output_type": "execute_result"
    }
   ],
   "source": [
    "list.__setitem__"
   ]
  },
  {
   "cell_type": "code",
   "execution_count": 35,
   "metadata": {},
   "outputs": [
    {
     "data": {
      "text/plain": [
       "<slot wrapper '__delitem__' of 'list' objects>"
      ]
     },
     "execution_count": 35,
     "metadata": {},
     "output_type": "execute_result"
    }
   ],
   "source": [
    "list.__delitem__"
   ]
  },
  {
   "cell_type": "markdown",
   "metadata": {},
   "source": [
    "## 예제 4-5 : 원소의 개수 확인"
   ]
  },
  {
   "cell_type": "code",
   "execution_count": 36,
   "metadata": {},
   "outputs": [
    {
     "name": "stdout",
     "output_type": "stream",
     "text": [
      "3\n",
      "3\n"
     ]
    }
   ],
   "source": [
    "s = \"강대명\"\n",
    "l = [\"고\",\"요\",\"한\"]\n",
    "\n",
    "print(len(s))\n",
    "print(len(l))"
   ]
  },
  {
   "cell_type": "markdown",
   "metadata": {},
   "source": [
    "## 예제 4-6 :  반복형을 반복자로 변환\n"
   ]
  },
  {
   "cell_type": "code",
   "execution_count": 37,
   "metadata": {},
   "outputs": [
    {
     "name": "stdout",
     "output_type": "stream",
     "text": [
      "<str_iterator object at 0x000001E8B824DEF0>\n",
      "강\n",
      "대\n",
      "명\n"
     ]
    }
   ],
   "source": [
    "s = \"강대명\"\n",
    "si = iter(s)\n",
    "print(si)\n",
    "\n",
    "for i in si :\n",
    "    print(i)"
   ]
  },
  {
   "cell_type": "code",
   "execution_count": 38,
   "metadata": {},
   "outputs": [
    {
     "name": "stdout",
     "output_type": "stream",
     "text": [
      "<list_iterator object at 0x000001E8B8250278>\n",
      "고\n",
      "요\n",
      "한\n"
     ]
    }
   ],
   "source": [
    "l = [\"고\",\"요\",\"한\"]\n",
    "li = iter(l)\n",
    "print(li)\n",
    "for i in li :\n",
    "    print(i)"
   ]
  },
  {
   "cell_type": "markdown",
   "metadata": {},
   "source": [
    "## 예제 4-7 :  원소들에 대한 포함여부 확인하기"
   ]
  },
  {
   "cell_type": "code",
   "execution_count": 39,
   "metadata": {},
   "outputs": [
    {
     "name": "stdout",
     "output_type": "stream",
     "text": [
      "True\n"
     ]
    }
   ],
   "source": [
    "s = \"강대명\"\n",
    "print(\"대\" in s)\n"
   ]
  },
  {
   "cell_type": "code",
   "execution_count": 40,
   "metadata": {},
   "outputs": [
    {
     "name": "stdout",
     "output_type": "stream",
     "text": [
      "True\n"
     ]
    }
   ],
   "source": [
    "l = [\"고\",\"요\",\"한\"]\n",
    "print(\"한\" in l)"
   ]
  },
  {
   "cell_type": "markdown",
   "metadata": {},
   "source": [
    "## 예제 4-8 :  변경 가능한 자료형의 메소드는 내부를 갱신"
   ]
  },
  {
   "cell_type": "code",
   "execution_count": 41,
   "metadata": {},
   "outputs": [
    {
     "name": "stdout",
     "output_type": "stream",
     "text": [
      "None\n",
      "['가', '고', '한']\n"
     ]
    }
   ],
   "source": [
    "l = [\"고\",\"가\",\"한\"]\n",
    "\n",
    "c = l.sort()\n",
    "print(c)\n",
    "print(l)"
   ]
  },
  {
   "cell_type": "markdown",
   "metadata": {},
   "source": [
    "## 예제 4-9  : 변경 불가능한 경우는 별도의 객체를 만들어서 반환 처리"
   ]
  },
  {
   "cell_type": "code",
   "execution_count": 42,
   "metadata": {},
   "outputs": [
    {
     "name": "stdout",
     "output_type": "stream",
     "text": [
      "2099033036336 강대명\n",
      "2099033514192 강대한\n"
     ]
    }
   ],
   "source": [
    "s = \"강대명\"\n",
    "\n",
    "sr = s.replace(\"명\",\"한\")\n",
    "\n",
    "print(id(s), s)\n",
    "print(id(sr),sr)"
   ]
  },
  {
   "cell_type": "markdown",
   "metadata": {},
   "source": [
    "## 예제 4-10 :  변경불가능한 자료형의  interning 처리"
   ]
  },
  {
   "cell_type": "code",
   "execution_count": 43,
   "metadata": {},
   "outputs": [
    {
     "name": "stdout",
     "output_type": "stream",
     "text": [
      "True\n"
     ]
    }
   ],
   "source": [
    "t = (\"고\",\"가\",\"한\")\n",
    "\n",
    "ti = tuple(t)\n",
    "print(t is ti)"
   ]
  },
  {
   "cell_type": "code",
   "execution_count": 44,
   "metadata": {},
   "outputs": [
    {
     "name": "stdout",
     "output_type": "stream",
     "text": [
      "False\n"
     ]
    }
   ],
   "source": [
    "t = (\"고\",\"가\",\"한\")\n",
    "ti = (\"고\",\"가\",\"한\")\n",
    "\n",
    "print(t is ti)"
   ]
  },
  {
   "cell_type": "code",
   "execution_count": 45,
   "metadata": {},
   "outputs": [
    {
     "name": "stdout",
     "output_type": "stream",
     "text": [
      "False\n"
     ]
    }
   ],
   "source": [
    "l = [\"고\",\"요\",\"한\"]\n",
    "li = list(l)\n",
    "print(l is li)"
   ]
  },
  {
   "cell_type": "markdown",
   "metadata": {},
   "source": [
    "## 예제 4-11 :  문자열을 리터럴과 생성자로 생성\n"
   ]
  },
  {
   "cell_type": "code",
   "execution_count": 46,
   "metadata": {},
   "outputs": [
    {
     "name": "stdout",
     "output_type": "stream",
     "text": [
      "파이썬\n",
      "<class 'str'>\n"
     ]
    }
   ],
   "source": [
    "sl = \"파이썬\"\n",
    "print(sl)\n",
    "print(type(sl))"
   ]
  },
  {
   "cell_type": "code",
   "execution_count": 47,
   "metadata": {},
   "outputs": [
    {
     "name": "stdout",
     "output_type": "stream",
     "text": [
      "123 <class 'str'>\n",
      "성대현 <class 'str'>\n",
      "123.0 <class 'str'>\n"
     ]
    }
   ],
   "source": [
    "s = str(123)\n",
    "ss = str(\"성대현\")\n",
    "sf = str(123.00)\n",
    "\n",
    "\n",
    "print(s, type(s))\n",
    "print(ss, type(ss))\n",
    "print(sf, type(sf))\n"
   ]
  },
  {
   "cell_type": "code",
   "execution_count": 48,
   "metadata": {},
   "outputs": [
    {
     "name": "stdout",
     "output_type": "stream",
     "text": [
      "<class 'str'> abc\n"
     ]
    }
   ],
   "source": [
    "b = b\"abc\"\n",
    "\n",
    "c = b.decode()\n",
    "print(type(c),c)"
   ]
  },
  {
   "cell_type": "markdown",
   "metadata": {},
   "source": [
    "## 예제 4-12 :  대소문자 처리"
   ]
  },
  {
   "cell_type": "code",
   "execution_count": 49,
   "metadata": {},
   "outputs": [
    {
     "name": "stdout",
     "output_type": "stream",
     "text": [
      "SPIDERMAN\n",
      "wonder women\n"
     ]
    }
   ],
   "source": [
    "sl = \"spiderman\"\n",
    "\n",
    "sh = sl.upper()\n",
    "print(sh)\n",
    "\n",
    "su = \"WONDER WOMEN\"\n",
    "sh = su.lower()\n",
    "print(sh)"
   ]
  },
  {
   "cell_type": "code",
   "execution_count": 50,
   "metadata": {},
   "outputs": [
    {
     "name": "stdout",
     "output_type": "stream",
     "text": [
      "Wonder Women\n"
     ]
    }
   ],
   "source": [
    "su = \"WONDER WOMEN\"\n",
    "st = su.title()\n",
    "print(st)"
   ]
  },
  {
   "cell_type": "code",
   "execution_count": 51,
   "metadata": {},
   "outputs": [
    {
     "name": "stdout",
     "output_type": "stream",
     "text": [
      "Spiderman is ...\n"
     ]
    }
   ],
   "source": [
    "sl = \"spiderman is ...\"\n",
    "sc = sl.capitalize()\n",
    "print(sc)"
   ]
  },
  {
   "cell_type": "code",
   "execution_count": 52,
   "metadata": {},
   "outputs": [
    {
     "name": "stdout",
     "output_type": "stream",
     "text": [
      "wonder women\n"
     ]
    }
   ],
   "source": [
    "su = \"WONDER WOMEN\"\n",
    "scc = su.casefold()\n",
    "print(scc)"
   ]
  },
  {
   "cell_type": "markdown",
   "metadata": {},
   "source": [
    "## 예제 4-13 : 문자열 위치 조정해서 꾸미기\n"
   ]
  },
  {
   "cell_type": "code",
   "execution_count": 53,
   "metadata": {},
   "outputs": [
    {
     "name": "stdout",
     "output_type": "stream",
     "text": [
      "%%%%%%%%%%빅데이터와 인공지능%%%%%%%%%%\n",
      "          빅데이터와 인공지능          \n"
     ]
    }
   ],
   "source": [
    "s = \"빅데이터와 인공지능\"\n",
    "\n",
    "sc = s.center(30,\"%\")\n",
    "print(sc)\n",
    "sb = s.center(30)\n",
    "print(sb)"
   ]
  },
  {
   "cell_type": "code",
   "execution_count": 54,
   "metadata": {},
   "outputs": [
    {
     "name": "stdout",
     "output_type": "stream",
     "text": [
      "빅데이터와 인공지능%%%%%%%%%%%%%%%%%%%%\n",
      "빅데이터와 인공지능                    \n"
     ]
    }
   ],
   "source": [
    "s = \"빅데이터와 인공지능\"\n",
    "\n",
    "sc = s.ljust(30,\"%\")\n",
    "print(sc)\n",
    "sb = s.ljust(30)\n",
    "print(sb)"
   ]
  },
  {
   "cell_type": "code",
   "execution_count": 55,
   "metadata": {},
   "outputs": [
    {
     "name": "stdout",
     "output_type": "stream",
     "text": [
      "%%%%%%%%%%%%%%%%%%%%빅데이터와 인공지능\n",
      "                    빅데이터와 인공지능\n"
     ]
    }
   ],
   "source": [
    "s = \"빅데이터와 인공지능\"\n",
    "\n",
    "sc = s.rjust(30,\"%\")\n",
    "print(sc)\n",
    "sb = s.rjust(30)\n",
    "print(sb)"
   ]
  },
  {
   "cell_type": "code",
   "execution_count": 56,
   "metadata": {},
   "outputs": [
    {
     "name": "stdout",
     "output_type": "stream",
     "text": [
      "파파파파파파파파파파빅데이터와 인공지능파파파파파파파파파파\n"
     ]
    }
   ],
   "source": [
    "s = \"빅데이터와 인공지능\"\n",
    "\n",
    "sc = s.center(30,\"파\")\n",
    "print(sc)\n"
   ]
  },
  {
   "cell_type": "code",
   "execution_count": 57,
   "metadata": {},
   "outputs": [
    {
     "ename": "TypeError",
     "evalue": "The fill character must be exactly one character long",
     "output_type": "error",
     "traceback": [
      "\u001b[1;31m---------------------------------------------------------------------------\u001b[0m",
      "\u001b[1;31mTypeError\u001b[0m                                 Traceback (most recent call last)",
      "\u001b[1;32m<ipython-input-57-dcabec657bd1>\u001b[0m in \u001b[0;36m<module>\u001b[1;34m\u001b[0m\n\u001b[1;32m----> 1\u001b[1;33m \u001b[0msb\u001b[0m \u001b[1;33m=\u001b[0m \u001b[0ms\u001b[0m\u001b[1;33m.\u001b[0m\u001b[0mcenter\u001b[0m\u001b[1;33m(\u001b[0m\u001b[1;36m30\u001b[0m\u001b[1;33m,\u001b[0m\u001b[1;34m\"bb\"\u001b[0m\u001b[1;33m)\u001b[0m\u001b[1;33m\u001b[0m\u001b[1;33m\u001b[0m\u001b[0m\n\u001b[0m\u001b[0;32m      2\u001b[0m \u001b[0mprint\u001b[0m\u001b[1;33m(\u001b[0m\u001b[0msb\u001b[0m\u001b[1;33m)\u001b[0m\u001b[1;33m\u001b[0m\u001b[1;33m\u001b[0m\u001b[0m\n",
      "\u001b[1;31mTypeError\u001b[0m: The fill character must be exactly one character long"
     ]
    }
   ],
   "source": [
    "sb = s.center(30,\"bb\")\n",
    "print(sb)"
   ]
  },
  {
   "cell_type": "markdown",
   "metadata": {},
   "source": [
    "## 예제 4-14 : 특정 문자 세기 및 찾기"
   ]
  },
  {
   "cell_type": "code",
   "execution_count": null,
   "metadata": {},
   "outputs": [],
   "source": [
    "s = \"특정 문자 찾기를 한다. 찾은 문자는\"\n",
    "\n",
    "print(s.count(\"찾\"))\n"
   ]
  },
  {
   "cell_type": "code",
   "execution_count": null,
   "metadata": {},
   "outputs": [],
   "source": [
    "s = \"특정 문자 찾기를 한다. 찾은 문자는\"\n",
    "\n",
    "print(s.find(\"찾\"))\n",
    "print(s[s.find(\"찾\")])\n",
    "\n",
    "print(s.find(\"찾\", 7))"
   ]
  },
  {
   "cell_type": "code",
   "execution_count": null,
   "metadata": {},
   "outputs": [],
   "source": [
    "print(s.rfind(\"찾\"))\n",
    "print(s[s.rfind(\"찾\")])\n",
    "\n",
    "print(s.rfind(\"찾\", 0,10))"
   ]
  },
  {
   "cell_type": "code",
   "execution_count": null,
   "metadata": {},
   "outputs": [],
   "source": [
    "s = \"특정 문자 찾기를 한다. 찾은 문자는\"\n",
    "\n",
    "print(s.index(\"찾\"))\n",
    "print(s[s.index(\"찾\")])\n",
    "print(s.index(\"찾\", 7))"
   ]
  },
  {
   "cell_type": "code",
   "execution_count": null,
   "metadata": {},
   "outputs": [],
   "source": [
    "print(s.rindex(\"찾\"))\n",
    "print(s[s.rindex(\"찾\")])\n",
    "print(s.rindex(\"찾\", 0,10))"
   ]
  },
  {
   "cell_type": "markdown",
   "metadata": {},
   "source": [
    "## 예제 4-15 :  문자열 패턴 매칭하기"
   ]
  },
  {
   "cell_type": "code",
   "execution_count": null,
   "metadata": {},
   "outputs": [],
   "source": [
    "s = dir(str)\n",
    "\n",
    "print(type(s))\n",
    "print(s[0])"
   ]
  },
  {
   "cell_type": "code",
   "execution_count": null,
   "metadata": {},
   "outputs": [],
   "source": [
    "count = 1\n",
    "for i in s :\n",
    "    if i.startswith(\"__\") :\n",
    "        continue\n",
    "    else :\n",
    "        print(i, end=\" \")\n",
    "        \n",
    "    if count % 6 == 0 :\n",
    "        print()\n",
    "    count += 1"
   ]
  },
  {
   "cell_type": "code",
   "execution_count": null,
   "metadata": {},
   "outputs": [],
   "source": [
    "count = 1\n",
    "for i in s :\n",
    "    if i.endswith(\"__\") :\n",
    "        print(i, end=\" \")\n",
    "    else :\n",
    "        continue\n",
    "        \n",
    "    if count % 6 == 0 :\n",
    "        print()\n",
    "    count += 1"
   ]
  },
  {
   "cell_type": "markdown",
   "metadata": {},
   "source": [
    "## 예제 4-16 : 빈 문자열로 분리하고 결합"
   ]
  },
  {
   "cell_type": "code",
   "execution_count": null,
   "metadata": {},
   "outputs": [],
   "source": [
    "s = \"빈 문자열로 분리하고 결합하기\"\n",
    "\n",
    "ss = s.split(\" \")\n",
    "print(ss)\n"
   ]
  },
  {
   "cell_type": "code",
   "execution_count": null,
   "metadata": {},
   "outputs": [],
   "source": [
    "sl = \" \".join(ss)\n",
    "print(sl)"
   ]
  },
  {
   "cell_type": "markdown",
   "metadata": {},
   "source": [
    "## 예제 4-17 : 개행문자가 있을 경우 문자열 분리"
   ]
  },
  {
   "cell_type": "code",
   "execution_count": null,
   "metadata": {},
   "outputs": [],
   "source": [
    "import pprint\n",
    "\n",
    "s =\"\"\"A simple object subclass \n",
    "that provides attribute access \n",
    "to its namespace, \n",
    "as well as a meaningful repr.\"\"\"\n",
    "\n",
    "ss = s.split(\"\\n\")\n",
    "pprint.pprint(ss)\n"
   ]
  },
  {
   "cell_type": "code",
   "execution_count": 58,
   "metadata": {},
   "outputs": [
    {
     "name": "stdout",
     "output_type": "stream",
     "text": [
      "성 대\n",
      "현\n"
     ]
    }
   ],
   "source": [
    "sl1 = \" \".join(ss[:2])\n",
    "print(sl1)\n",
    "\n",
    "sl2 = \" \".join(ss[2:])\n",
    "print(sl2)"
   ]
  },
  {
   "cell_type": "markdown",
   "metadata": {},
   "source": [
    "## 예제 4-18 :  문자열 길이\n"
   ]
  },
  {
   "cell_type": "code",
   "execution_count": 59,
   "metadata": {},
   "outputs": [
    {
     "name": "stdout",
     "output_type": "stream",
     "text": [
      "6\n",
      "16\n"
     ]
    }
   ],
   "source": [
    "s = \"문자열 검색\"\n",
    "\n",
    "print(len(s))\n",
    "\n",
    "sa = \" string indexing\"\n",
    "print(len(sa))"
   ]
  },
  {
   "cell_type": "code",
   "execution_count": 60,
   "metadata": {},
   "outputs": [
    {
     "name": "stdout",
     "output_type": "stream",
     "text": [
      "문\n",
      "자\n"
     ]
    }
   ],
   "source": [
    "s = \"문자열 검색\"\n",
    "\n",
    "print(s[0]) \n",
    "print(s[1])"
   ]
  },
  {
   "cell_type": "code",
   "execution_count": 61,
   "metadata": {},
   "outputs": [
    {
     "name": "stdout",
     "output_type": "stream",
     "text": [
      "색\n",
      "검\n"
     ]
    }
   ],
   "source": [
    "s = \"문자열 검색\"\n",
    "\n",
    "print(s[-1]) \n",
    "print(s[-2])"
   ]
  },
  {
   "cell_type": "markdown",
   "metadata": {},
   "source": [
    "## 예제 4-19 : 암호화(encode)와 복호화(decode) 기준"
   ]
  },
  {
   "cell_type": "code",
   "execution_count": 62,
   "metadata": {},
   "outputs": [
    {
     "name": "stdout",
     "output_type": "stream",
     "text": [
      "6\n",
      "18\n",
      "b'\\xec\\x84\\xb1\\xea\\xb7\\xa0\\xea\\xb4\\x80\\xeb\\x8c\\x80\\xed\\x95\\x99\\xea\\xb5\\x90'\n"
     ]
    }
   ],
   "source": [
    "s = \"성균관대학교\"\n",
    "\n",
    "print(len(s))\n",
    "\n",
    "sb = s.encode(\"utf-8\")\n",
    "print(len(sb))\n",
    "print(sb)\n"
   ]
  },
  {
   "cell_type": "code",
   "execution_count": 63,
   "metadata": {},
   "outputs": [
    {
     "name": "stdout",
     "output_type": "stream",
     "text": [
      "6\n",
      "성균관대학교\n"
     ]
    }
   ],
   "source": [
    "sc = sb.decode(\"utf-8\")\n",
    "print(len(sc))\n",
    "print(sc)"
   ]
  },
  {
   "cell_type": "code",
   "execution_count": 64,
   "metadata": {},
   "outputs": [
    {
     "name": "stdout",
     "output_type": "stream",
     "text": [
      "b'\\xff\\xfe1\\xc1'\n",
      "b'\\xff\\xfe1\\xc1\\xe0\\xad\\x00\\xad\\x00\\xb3Y\\xd5P\\xad'\n",
      "성균관대학교\n"
     ]
    }
   ],
   "source": [
    "s = \"성균관대학교\"\n",
    "print(s[0].encode(\"utf-16\"))\n",
    "sb = s.encode(\"utf-16\")\n",
    "print(sb)\n",
    "print(sb.decode(\"utf-16\"))"
   ]
  },
  {
   "cell_type": "code",
   "execution_count": 65,
   "metadata": {},
   "outputs": [
    {
     "name": "stdout",
     "output_type": "stream",
     "text": [
      "b'1\\xc1'\n",
      "성\n",
      "b'1\\xc1\\xe0\\xad\\x00\\xad\\x00\\xb3Y\\xd5P\\xad'\n",
      "성균관대학교\n"
     ]
    }
   ],
   "source": [
    "s = \"성균관대학교\"\n",
    "\n",
    "print(s[0].encode(\"utf-16le\"))\n",
    "print('\\uc131')\n",
    "sb = s.encode(\"utf-16le\")\n",
    "print(sb)\n",
    "print(sb.decode(\"utf-16le\"))"
   ]
  },
  {
   "cell_type": "code",
   "execution_count": 66,
   "metadata": {},
   "outputs": [
    {
     "name": "stdout",
     "output_type": "stream",
     "text": [
      "b'\\xc11'\n",
      "성\n",
      "b'\\xc11\\xad\\xe0\\xad\\x00\\xb3\\x00\\xd5Y\\xadP'\n",
      "성균관대학교\n"
     ]
    }
   ],
   "source": [
    "s = \"성균관대학교\"\n",
    "\n",
    "print(s[0].encode(\"utf-16be\"))\n",
    "print('\\uc131')\n",
    "\n",
    "sb = s.encode(\"utf-16be\")\n",
    "print(sb)\n",
    "print(sb.decode(\"utf-16be\"))"
   ]
  },
  {
   "cell_type": "markdown",
   "metadata": {},
   "source": [
    "## 예제 4-20 :  바이트 생성"
   ]
  },
  {
   "cell_type": "code",
   "execution_count": 67,
   "metadata": {},
   "outputs": [
    {
     "name": "stdout",
     "output_type": "stream",
     "text": [
      "<class 'bytes'> b'hello'\n"
     ]
    }
   ],
   "source": [
    "b = b\"hello\"\n",
    "print(type(b), b)\n"
   ]
  },
  {
   "cell_type": "code",
   "execution_count": 68,
   "metadata": {},
   "outputs": [
    {
     "name": "stdout",
     "output_type": "stream",
     "text": [
      "<class 'bytes'>\n",
      "b'\\xec\\x84\\xb1\\xea\\xb7\\xa0\\xea\\xb4\\x80\\xeb\\x8c\\x80\\xed\\x95\\x99\\xea\\xb5\\x90'\n",
      "b'\\xec\\x84\\xb1\\xea\\xb7\\xa0\\xea\\xb4\\x80\\xeb\\x8c\\x80\\xed\\x95\\x99\\xea\\xb5\\x90'\n"
     ]
    }
   ],
   "source": [
    "s = \"성균관대학교\"\n",
    "bs = bytes(s.encode(\"utf-8\"))\n",
    "print(type(bs))\n",
    "print(bs)\n",
    "\n",
    "print(bytes(\"성균관대학교\",encoding=\"utf-8\"))"
   ]
  },
  {
   "cell_type": "markdown",
   "metadata": {},
   "source": [
    "## 예제 4-21 :  바이트 자료형의 메소드 확인\n"
   ]
  },
  {
   "cell_type": "code",
   "execution_count": 69,
   "metadata": {},
   "outputs": [
    {
     "name": "stdout",
     "output_type": "stream",
     "text": [
      "{'hex', 'decode', 'fromhex'}\n"
     ]
    }
   ],
   "source": [
    "b = set(dir(bytes))\n",
    "s = set(dir(str))\n",
    "\n",
    "bs = b - s \n",
    "print(bs)"
   ]
  },
  {
   "cell_type": "code",
   "execution_count": 70,
   "metadata": {},
   "outputs": [
    {
     "name": "stdout",
     "output_type": "stream",
     "text": [
      "<class 'str'> 48656c6c6f\n"
     ]
    }
   ],
   "source": [
    "bb = b\"Hello\"\n",
    "bh = bb.hex()\n",
    "\n",
    "print(type(bh), bh)"
   ]
  },
  {
   "cell_type": "code",
   "execution_count": 71,
   "metadata": {},
   "outputs": [
    {
     "name": "stdout",
     "output_type": "stream",
     "text": [
      "b'\\xb9\\x01\\xef'\n"
     ]
    }
   ],
   "source": [
    "bfh = bytes.fromhex('B901EF')\n",
    "print(bfh)"
   ]
  },
  {
   "cell_type": "markdown",
   "metadata": {},
   "source": [
    "## 예제 4-22 :  encode/decode 메소드 처리"
   ]
  },
  {
   "cell_type": "code",
   "execution_count": 72,
   "metadata": {},
   "outputs": [
    {
     "name": "stdout",
     "output_type": "stream",
     "text": [
      "<class 'bytes'>\n"
     ]
    }
   ],
   "source": [
    "s = \"하늘과 바람과 별과 시\"\n",
    "b = s.encode(\"utf-8\")\n",
    "\n",
    "print(type(b))"
   ]
  },
  {
   "cell_type": "code",
   "execution_count": 73,
   "metadata": {},
   "outputs": [
    {
     "name": "stdout",
     "output_type": "stream",
     "text": [
      "<class 'str'>\n",
      "하늘과 바람과 별과 시\n"
     ]
    }
   ],
   "source": [
    "bs = b.decode(\"utf-8\")\n",
    "print(type(bs))\n",
    "print(bs)"
   ]
  },
  {
   "cell_type": "markdown",
   "metadata": {},
   "source": [
    "## 예제 4-23 :  bytes/str 생성자에서 직접 encode, decode 하기\n"
   ]
  },
  {
   "cell_type": "code",
   "execution_count": 74,
   "metadata": {},
   "outputs": [
    {
     "name": "stdout",
     "output_type": "stream",
     "text": [
      "b'\\xed\\x9c\\x80\\xed\\x9c\\x81\\xed\\x9c\\x82\\xed\\x9c\\x83\\xed\\x9c\\x84'\n",
      "b'\\xed\\x9c\\x80\\xed\\x9c\\x81\\xed\\x9c\\x82\\xed\\x9c\\x83\\xed\\x9c\\x84'\n",
      "True\n"
     ]
    }
   ],
   "source": [
    "s = \"휀휁휂휃휄\"\n",
    "\n",
    "b = s.encode(\"utf-8\")\n",
    "\n",
    "print(b)\n",
    "\n",
    "bb = bytes(s, \"utf-8\")\n",
    "print(bb)\n",
    "\n",
    "print(b == bb)"
   ]
  },
  {
   "cell_type": "code",
   "execution_count": 75,
   "metadata": {},
   "outputs": [
    {
     "name": "stdout",
     "output_type": "stream",
     "text": [
      "휀휁휂휃휄\n"
     ]
    }
   ],
   "source": [
    "print(str(bb, \"utf-8\"))"
   ]
  },
  {
   "cell_type": "markdown",
   "metadata": {},
   "source": [
    "## 예제 4-24 :  bytes로 생성한 것을 bytearray로 변환"
   ]
  },
  {
   "cell_type": "code",
   "execution_count": 76,
   "metadata": {},
   "outputs": [
    {
     "name": "stdout",
     "output_type": "stream",
     "text": [
      "<class 'bytearray'>\n",
      "bytearray(b'abcde')\n",
      "bytearray(b'\\xeb\\xb0\\x94\\xec\\x9d\\xb4\\xed\\x8a\\xb8\\xec\\x96\\xb4\\xeb\\xa0\\x88\\xec\\x9d\\xb4')\n"
     ]
    }
   ],
   "source": [
    "b = b\"abcde\"\n",
    "ba = bytearray(b)\n",
    "\n",
    "print(type(ba))\n",
    "print(ba)\n",
    "\n",
    "bs = bytearray(\"바이트어레이\",\"utf-8\")\n",
    "print(bs)"
   ]
  },
  {
   "cell_type": "markdown",
   "metadata": {},
   "source": [
    "## 예제 4-25 :  버퍼 처리하기 : bytearray"
   ]
  },
  {
   "cell_type": "code",
   "execution_count": 77,
   "metadata": {},
   "outputs": [
    {
     "name": "stdout",
     "output_type": "stream",
     "text": [
      "bytearray(b'\\x00\\x00\\x00\\x00\\x00\\x00\\x00\\x00\\x00\\x00\\x00\\x00\\x00\\x00\\x00\\x00\\x00\\x00\\x00\\x00')\n",
      "bytearray(b'abcde\\x00\\x00\\x00\\x00\\x00\\x00\\x00\\x00\\x00\\x00\\x00\\x00\\x00\\x00\\x00')\n"
     ]
    }
   ],
   "source": [
    "buffer = bytearray(20)\n",
    "\n",
    "print(buffer)\n",
    "\n",
    "b = b\"abcde\"\n",
    "buffer[:len(b)] = b\n",
    "print(buffer)"
   ]
  },
  {
   "cell_type": "markdown",
   "metadata": {},
   "source": [
    "## 예제 4-26 :  bytes와 bytearray 메소드 차이 확인"
   ]
  },
  {
   "cell_type": "code",
   "execution_count": 78,
   "metadata": {},
   "outputs": [
    {
     "name": "stdout",
     "output_type": "stream",
     "text": [
      "{'__alloc__',\n",
      " '__delitem__',\n",
      " '__iadd__',\n",
      " '__imul__',\n",
      " '__setitem__',\n",
      " 'append',\n",
      " 'clear',\n",
      " 'copy',\n",
      " 'extend',\n",
      " 'insert',\n",
      " 'pop',\n",
      " 'remove',\n",
      " 'reverse'}\n"
     ]
    }
   ],
   "source": [
    "import pprint\n",
    "\n",
    "bs = set(dir(bytes))\n",
    "bb = set(dir(bytearray))\n",
    "\n",
    "pprint.pprint(bb - bs)"
   ]
  },
  {
   "cell_type": "code",
   "execution_count": 79,
   "metadata": {},
   "outputs": [
    {
     "name": "stdout",
     "output_type": "stream",
     "text": [
      "bytearray(b'\\x00\\x00\\x00\\x00\\x00\\x00\\x00\\x00\\x00\\x00\\x00\\x00\\x00\\x00\\x00\\x00\\x00\\x00\\x00\\x00')\n",
      "bytearray(b'\\x1f\\x00\\x00\\x00\\x00\\x00\\x00\\x00\\x00\\x00\\x00\\x00\\x00\\x00\\x00\\x00\\x00\\x00\\x00\\x00\\x00')\n"
     ]
    }
   ],
   "source": [
    "buffer = bytearray(20)\n",
    "\n",
    "print(buffer)\n",
    "\n",
    "buffer.insert(0, 31)\n",
    "print(buffer)\n"
   ]
  },
  {
   "cell_type": "code",
   "execution_count": 80,
   "metadata": {},
   "outputs": [
    {
     "name": "stdout",
     "output_type": "stream",
     "text": [
      "bytearray(b'\\x1f\\x00\\x00\\x00\\x00\\x00\\x00\\x00\\x00\\x00\\x00\\x00\\x00\\x00\\x00\\x00\\x00\\x00\\x00\\x00\\x00')\n",
      "31\n",
      "bytearray(b'\\x00\\x00\\x00\\x00\\x00\\x00\\x00\\x00\\x00\\x00\\x00\\x00\\x00\\x00\\x00\\x00\\x00\\x00\\x00\\x00')\n"
     ]
    }
   ],
   "source": [
    "print(buffer)\n",
    "cc = buffer.pop(0)\n",
    "print(cc)\n",
    "print(buffer)"
   ]
  },
  {
   "cell_type": "code",
   "execution_count": 81,
   "metadata": {},
   "outputs": [
    {
     "name": "stdout",
     "output_type": "stream",
     "text": [
      "bytearray(b'\\x00\\x00\\x00\\x00\\x00\\x00\\x00\\x00\\x00\\x00\\x00\\x00\\x00\\x00\\x00\\x00\\x00\\x00\\x00\\x00')\n",
      "bytearray(b'\\x00\\x00\\x00\\x00\\x00\\x00\\x00\\x00\\x00\\x00\\x00\\x00\\x00\\x00\\x00\\x00\\x00\\x00\\x00\\x00\\x1f')\n"
     ]
    }
   ],
   "source": [
    "print(buffer)\n",
    "buffer.append(31) \n",
    "print(buffer)"
   ]
  },
  {
   "cell_type": "markdown",
   "metadata": {},
   "source": [
    "## 예제 4-27 :  바이트 어레이 갱신할 때 값을 할당하는 방법\n"
   ]
  },
  {
   "cell_type": "code",
   "execution_count": 82,
   "metadata": {},
   "outputs": [
    {
     "name": "stdout",
     "output_type": "stream",
     "text": [
      "bytearray(b'abc\\x00\\x00\\x00\\x00\\x00\\x00\\x00\\x00\\x00\\x00\\x00\\x00\\x00\\x00\\x00\\x00\\x00\\x1f')\n"
     ]
    }
   ],
   "source": [
    "buffer[:3] = b'abc'\n",
    "print(buffer)"
   ]
  },
  {
   "cell_type": "code",
   "execution_count": 83,
   "metadata": {},
   "outputs": [
    {
     "name": "stdout",
     "output_type": "stream",
     "text": [
      "'bytes' object cannot be interpreted as an integer\n"
     ]
    }
   ],
   "source": [
    "try :\n",
    "     buffer[0] = b'a'\n",
    "except Exception as e :\n",
    "    print(e)"
   ]
  },
  {
   "cell_type": "code",
   "execution_count": 84,
   "metadata": {},
   "outputs": [
    {
     "name": "stdout",
     "output_type": "stream",
     "text": [
      "'bytes' object cannot be interpreted as an integer\n"
     ]
    }
   ],
   "source": [
    "try : \n",
    "    buffer.insert(0,b'a')\n",
    "except Exception as e :\n",
    "    print(e)"
   ]
  },
  {
   "cell_type": "markdown",
   "metadata": {},
   "source": [
    "## 예제 4-28 : 튜플 리터럴 및 생성자로 생성\n"
   ]
  },
  {
   "cell_type": "code",
   "execution_count": 85,
   "metadata": {},
   "outputs": [
    {
     "name": "stdout",
     "output_type": "stream",
     "text": [
      "(1, 2, 3, 4)\n",
      "(1, 2, 3, 4)\n"
     ]
    }
   ],
   "source": [
    "t = 1,2,3,4\n",
    "print(t)\n",
    "t1 = (1,2,3,4)\n",
    "print(t1)"
   ]
  },
  {
   "cell_type": "code",
   "execution_count": 86,
   "metadata": {},
   "outputs": [
    {
     "name": "stdout",
     "output_type": "stream",
     "text": [
      "<class 'tuple'>\n",
      "(10, 10)\n"
     ]
    }
   ],
   "source": [
    "def func(x,y) :\n",
    "    return x,y \n",
    "\n",
    "t2 = func(10,10)\n",
    "print(type(t2))\n",
    "print(t2)"
   ]
  },
  {
   "cell_type": "code",
   "execution_count": 87,
   "metadata": {},
   "outputs": [
    {
     "name": "stdout",
     "output_type": "stream",
     "text": [
      "(1, 2, 3, 4)\n",
      "('광', '화', '문')\n"
     ]
    }
   ],
   "source": [
    "t = tuple([1,2,3,4])\n",
    "print(t)\n",
    "ts = tuple(\"광화문\")\n",
    "print(ts)"
   ]
  },
  {
   "cell_type": "markdown",
   "metadata": {},
   "source": [
    "## 예제 4-28 :  단일 원소도 쉼표로 분리\n"
   ]
  },
  {
   "cell_type": "code",
   "execution_count": 88,
   "metadata": {},
   "outputs": [
    {
     "name": "stdout",
     "output_type": "stream",
     "text": [
      "<class 'int'> 1\n",
      "<class 'tuple'> (1,)\n"
     ]
    }
   ],
   "source": [
    "o = (1)\n",
    "t = (1,)\n",
    "\n",
    "print(type(o), o)\n",
    "print(type(t), t)"
   ]
  },
  {
   "cell_type": "markdown",
   "metadata": {},
   "source": [
    "## 예제 4-29 :  튜플의 count, index 메소드"
   ]
  },
  {
   "cell_type": "code",
   "execution_count": 89,
   "metadata": {},
   "outputs": [
    {
     "name": "stdout",
     "output_type": "stream",
     "text": [
      "count\n",
      "index\n"
     ]
    }
   ],
   "source": [
    "t = dir(tuple)\n",
    "\n",
    "for i in t :\n",
    "    if not i.startswith(\"__\") :\n",
    "        print(i)"
   ]
  },
  {
   "cell_type": "code",
   "execution_count": 90,
   "metadata": {},
   "outputs": [
    {
     "name": "stdout",
     "output_type": "stream",
     "text": [
      "2\n",
      "1\n",
      "3\n"
     ]
    }
   ],
   "source": [
    "t = (1,2,3,2,3)\n",
    "\n",
    "print(t.count(2))\n",
    "print(t.index(2))\n",
    "\n",
    "print(t.index(2,3))"
   ]
  },
  {
   "cell_type": "markdown",
   "metadata": {},
   "source": [
    "## 예제 4-30 :  원소가 리스트일 경우"
   ]
  },
  {
   "cell_type": "code",
   "execution_count": 91,
   "metadata": {},
   "outputs": [
    {
     "name": "stdout",
     "output_type": "stream",
     "text": [
      "2099033291944\n",
      "(1, 2, [99, 2])\n",
      "2099033291944\n"
     ]
    }
   ],
   "source": [
    "t = (1,2,[1,2])\n",
    "print(id(t))\n",
    "t[2][0] = 99\n",
    "print(t)\n",
    "\n",
    "print(id(t))"
   ]
  },
  {
   "cell_type": "markdown",
   "metadata": {},
   "source": [
    "## 예제 4-31 :  리스트 생성하기"
   ]
  },
  {
   "cell_type": "code",
   "execution_count": 92,
   "metadata": {},
   "outputs": [
    {
     "name": "stdout",
     "output_type": "stream",
     "text": [
      "[]\n",
      "<class 'list'>\n"
     ]
    }
   ],
   "source": [
    "l1 = []\n",
    "print(l1)\n",
    "print(type(l1))"
   ]
  },
  {
   "cell_type": "code",
   "execution_count": 93,
   "metadata": {},
   "outputs": [
    {
     "name": "stdout",
     "output_type": "stream",
     "text": [
      "[1, 2, 3]\n"
     ]
    }
   ],
   "source": [
    "l2 = [1,2,3]\n",
    "print(l2)"
   ]
  },
  {
   "cell_type": "code",
   "execution_count": 94,
   "metadata": {},
   "outputs": [
    {
     "name": "stdout",
     "output_type": "stream",
     "text": [
      "[1, 2, 3]\n"
     ]
    }
   ],
   "source": [
    "l3 = list((1,2,3,))\n",
    "print(l3)\n"
   ]
  },
  {
   "cell_type": "code",
   "execution_count": null,
   "metadata": {},
   "outputs": [],
   "source": []
  },
  {
   "cell_type": "markdown",
   "metadata": {},
   "source": [
    "## 예제 4-32 :  리스트로 선언된 변수의 별칭 사용"
   ]
  },
  {
   "cell_type": "code",
   "execution_count": 95,
   "metadata": {},
   "outputs": [
    {
     "name": "stdout",
     "output_type": "stream",
     "text": [
      "True\n",
      "True\n"
     ]
    }
   ],
   "source": [
    "l = [1,2,3,4]\n",
    "\n",
    "alias = l\n",
    "\n",
    "print(alias is l)\n",
    "print(alias ==  l)"
   ]
  },
  {
   "cell_type": "markdown",
   "metadata": {},
   "source": [
    "## 예제 4-33 :  리스트로 copy 메소드 사용\n"
   ]
  },
  {
   "cell_type": "code",
   "execution_count": 96,
   "metadata": {},
   "outputs": [
    {
     "name": "stdout",
     "output_type": "stream",
     "text": [
      "True\n",
      "False\n"
     ]
    }
   ],
   "source": [
    "l = [1,2,3,4]\n",
    "\n",
    "lc = l.copy()\n",
    "\n",
    "print(lc == l)\n",
    "print(lc is l)"
   ]
  },
  {
   "cell_type": "code",
   "execution_count": 97,
   "metadata": {},
   "outputs": [
    {
     "name": "stdout",
     "output_type": "stream",
     "text": [
      "True\n",
      "False\n"
     ]
    }
   ],
   "source": [
    "ld = list(l)\n",
    "\n",
    "print(ld == l)\n",
    "print(ld is l)"
   ]
  },
  {
   "cell_type": "markdown",
   "metadata": {},
   "source": [
    "## 예제 4-34 :  리스트 내의 원소로 리스트를 가질 경우 copy 메소드 사용"
   ]
  },
  {
   "cell_type": "code",
   "execution_count": 98,
   "metadata": {},
   "outputs": [
    {
     "name": "stdout",
     "output_type": "stream",
     "text": [
      "2099034168968\n",
      "[[1, 2, 3, 4], [1, 2, 3, 4]]\n",
      "2099034168968 2099034168968\n"
     ]
    }
   ],
   "source": [
    "l = [1,2,3,4]\n",
    "print(id(l))\n",
    "\n",
    "ll = [l,l]\n",
    "print(ll)\n",
    "print(id(ll[0]),id(ll[1]))\n"
   ]
  },
  {
   "cell_type": "code",
   "execution_count": 99,
   "metadata": {},
   "outputs": [
    {
     "name": "stdout",
     "output_type": "stream",
     "text": [
      "[[1, 2, 3, 4], [1, 2, 3, 4]]\n",
      "[999, 2, 3, 4]\n",
      "[[999, 2, 3, 4], [999, 2, 3, 4]]\n"
     ]
    }
   ],
   "source": [
    "lc = ll.copy()\n",
    "\n",
    "print(lc)\n",
    "lc[0][0] = 999\n",
    "\n",
    "print(l)\n",
    "print(lc)"
   ]
  },
  {
   "cell_type": "markdown",
   "metadata": {},
   "source": [
    "## 예제 4-35 : 깊은 복사(deepcopy)를 하는 이유"
   ]
  },
  {
   "cell_type": "code",
   "execution_count": 100,
   "metadata": {},
   "outputs": [
    {
     "name": "stdout",
     "output_type": "stream",
     "text": [
      "[[1, 2, 3, 4], [1, 2, 3, 4]]\n",
      "[[1, 2, 3, 4], [1, 2, 3, 4]]\n",
      "2099034180168 2099034180168 2099034180168\n",
      "[[999, 2, 3, 4], [999, 2, 3, 4]]\n"
     ]
    }
   ],
   "source": [
    "import copy\n",
    "\n",
    "l = [1,2,3,4]\n",
    "\n",
    "ll = [l,l]\n",
    "print(ll)\n",
    "\n",
    "lc = copy.deepcopy(ll)\n",
    "\n",
    "print(lc)\n",
    "lc[0][0] = 999\n",
    "\n",
    "print(id(l),id(ll[0]),id(ll[1]))\n",
    "print(lc)"
   ]
  },
  {
   "cell_type": "code",
   "execution_count": 101,
   "metadata": {},
   "outputs": [
    {
     "name": "stdout",
     "output_type": "stream",
     "text": [
      "[[1, 2, 3, 4], [1, 2, 3, 4]]\n",
      "[[1, 2, 3, 4], [1, 2, 3, 4]]\n",
      "2099034122312 2099033113928 2099033352968\n",
      "[[999, 2, 3, 4], [1, 2, 3, 4]]\n"
     ]
    }
   ],
   "source": [
    "import copy\n",
    "\n",
    "l = [1,2,3,4]\n",
    "\n",
    "ll = [l.copy(),l.copy()]\n",
    "print(ll)\n",
    "\n",
    "lc = copy.deepcopy(ll)\n",
    "\n",
    "print(lc)\n",
    "lc[0][0] = 999\n",
    "\n",
    "print(id(l),id(ll[0]),id(ll[1]))\n",
    "print(lc)"
   ]
  },
  {
   "cell_type": "markdown",
   "metadata": {},
   "source": [
    "## 예제 4-36 : 주요 메소드"
   ]
  },
  {
   "cell_type": "code",
   "execution_count": 102,
   "metadata": {},
   "outputs": [
    {
     "name": "stdout",
     "output_type": "stream",
     "text": [
      "append\n",
      "clear\n",
      "copy\n",
      "count\n",
      "extend\n",
      "index\n",
      "insert\n",
      "pop\n",
      "remove\n",
      "reverse\n",
      "sort\n"
     ]
    }
   ],
   "source": [
    "for i in dir(list) :\n",
    "    if not i.startswith(\"__\") :\n",
    "        print(i)\n"
   ]
  },
  {
   "cell_type": "markdown",
   "metadata": {},
   "source": [
    "## 예제 4-37 :  리스트의 원소 추가 삭제 하기"
   ]
  },
  {
   "cell_type": "code",
   "execution_count": 103,
   "metadata": {},
   "outputs": [
    {
     "name": "stdout",
     "output_type": "stream",
     "text": [
      "[1, [2]]\n"
     ]
    }
   ],
   "source": [
    "ll = [] \n",
    "\n",
    "ll.append(1)\n",
    "ll.append([2])\n",
    "print(ll)"
   ]
  },
  {
   "cell_type": "code",
   "execution_count": 104,
   "metadata": {},
   "outputs": [
    {
     "name": "stdout",
     "output_type": "stream",
     "text": [
      "[2]\n",
      "[1]\n",
      "[1, 2]\n",
      "1\n",
      "[2]\n"
     ]
    }
   ],
   "source": [
    "a = ll.pop()\n",
    "print(a)\n",
    "print(ll)\n",
    "\n",
    "ll.append(2)\n",
    "print(ll)\n",
    "\n",
    "b = ll.pop(0)\n",
    "print(b)\n",
    "print(ll)"
   ]
  },
  {
   "cell_type": "markdown",
   "metadata": {},
   "source": [
    "## 예제 4-38 :  리스트를 합치기 : extend"
   ]
  },
  {
   "cell_type": "code",
   "execution_count": 105,
   "metadata": {},
   "outputs": [
    {
     "name": "stdout",
     "output_type": "stream",
     "text": [
      "[1, 2, 3, 4, 5, 6]\n"
     ]
    }
   ],
   "source": [
    "l13 = [1,2,3]\n",
    "l46 = [4,5,6]\n",
    "\n",
    "l13.extend(l46)\n",
    "print(l13)\n"
   ]
  },
  {
   "cell_type": "code",
   "execution_count": 106,
   "metadata": {},
   "outputs": [
    {
     "name": "stdout",
     "output_type": "stream",
     "text": [
      "[1, 2, 3]\n",
      "[4, 5, 6]\n",
      "[1, 2, 3, 4, 5, 6]\n"
     ]
    }
   ],
   "source": [
    "l9 = [1,2,3]\n",
    "l = l9 + l46\n",
    "print(l9)\n",
    "print(l46)\n",
    "print(l)"
   ]
  },
  {
   "cell_type": "markdown",
   "metadata": {},
   "source": [
    "## 예제 4-39 :  리스트 특정 위치에 삽입 및 전체 삭제"
   ]
  },
  {
   "cell_type": "code",
   "execution_count": 107,
   "metadata": {},
   "outputs": [
    {
     "name": "stdout",
     "output_type": "stream",
     "text": [
      "[5, 1, 2, 3, 4]\n",
      "[5, 5, 1, 2, 3, 4]\n"
     ]
    }
   ],
   "source": [
    "l2 = [1,2,3,4]\n",
    "l2.insert(0,5)\n",
    "print(l2)\n",
    "\n",
    "l2.insert(0,5)\n",
    "print(l2)\n"
   ]
  },
  {
   "cell_type": "code",
   "execution_count": 108,
   "metadata": {},
   "outputs": [
    {
     "name": "stdout",
     "output_type": "stream",
     "text": [
      "[5, 1, 2, 3, 4]\n",
      "[1, 2, 3, 4]\n"
     ]
    }
   ],
   "source": [
    "\n",
    "l2.remove(5)\n",
    "print(l2)\n",
    "\n",
    "l2.remove(5)\n",
    "print(l2)"
   ]
  },
  {
   "cell_type": "code",
   "execution_count": 109,
   "metadata": {},
   "outputs": [
    {
     "name": "stdout",
     "output_type": "stream",
     "text": [
      "[]\n"
     ]
    }
   ],
   "source": [
    "l2.clear()\n",
    "print(l2)"
   ]
  },
  {
   "cell_type": "markdown",
   "metadata": {},
   "source": [
    "## 예제 4-40 :  리스트 내의 동일원소를 확인하고 삭제하기\n"
   ]
  },
  {
   "cell_type": "code",
   "execution_count": 110,
   "metadata": {},
   "outputs": [
    {
     "name": "stdout",
     "output_type": "stream",
     "text": [
      "4\n",
      "[1, 3, 4, 5]\n"
     ]
    }
   ],
   "source": [
    "l4 = [1,2,3,4,5,2,2,2]\n",
    "\n",
    "c = l4.count(2)\n",
    "print(c)\n",
    "\n",
    "for i in range(c) :\n",
    "    l4.remove(2)\n",
    "\n",
    "print(l4)"
   ]
  },
  {
   "cell_type": "markdown",
   "metadata": {},
   "source": [
    "## 예제 4-41 :  리스트 원소들 정렬하기 : sort, reverse"
   ]
  },
  {
   "cell_type": "code",
   "execution_count": 111,
   "metadata": {},
   "outputs": [
    {
     "name": "stdout",
     "output_type": "stream",
     "text": [
      "[1, 2, 2, 2, 2, 3, 4, 5]\n",
      "[5, 4, 3, 2, 2, 2, 2, 1]\n"
     ]
    }
   ],
   "source": [
    "l4 = [1,2,3,4,5,2,2,2]\n",
    "\n",
    "l4.sort()\n",
    "print(l4)\n",
    "\n",
    "l4.reverse() \n",
    "print(l4)\n"
   ]
  },
  {
   "cell_type": "code",
   "execution_count": 112,
   "metadata": {},
   "outputs": [
    {
     "name": "stdout",
     "output_type": "stream",
     "text": [
      "[1, 2, 3, 4, 5, 2, 2, 2]\n",
      "[5, 4, 3, 2, 2, 2, 2, 1]\n"
     ]
    }
   ],
   "source": [
    "l4 = [1,2,3,4,5,2,2,2]\n",
    "print(l4)\n",
    "\n",
    "l4.sort(reverse=True)\n",
    "print(l4)"
   ]
  },
  {
   "cell_type": "markdown",
   "metadata": {},
   "source": [
    "## 예제 4-42 : 리스트로 * 연산자 비교하기\n"
   ]
  },
  {
   "cell_type": "code",
   "execution_count": 113,
   "metadata": {},
   "outputs": [
    {
     "name": "stdout",
     "output_type": "stream",
     "text": [
      "[4, 5, 6, 4, 5, 6]\n",
      "[4, 5, 6, 4, 5, 6]\n"
     ]
    }
   ],
   "source": [
    "l = [4,5,6]\n",
    "\n",
    "l2 = l*2\n",
    "\n",
    "print(l2)\n",
    "l.extend(l)\n",
    "print(l)"
   ]
  },
  {
   "cell_type": "markdown",
   "metadata": {},
   "source": [
    "## 예제 4-43 :  외부에 리스트 원소를 반복해서 처리하고 내부에 넣고 처리"
   ]
  },
  {
   "cell_type": "code",
   "execution_count": 114,
   "metadata": {},
   "outputs": [
    {
     "name": "stdout",
     "output_type": "stream",
     "text": [
      "[3, 3, 3]\n",
      "[[3, 3, 3], [3, 3, 3], [3, 3, 3]]\n",
      "2099033390152 2099033390152 2099033390152\n"
     ]
    }
   ],
   "source": [
    "row = [3] * 3\n",
    "print(row)\n",
    "\n",
    "li = []\n",
    "for _ in range(3) :\n",
    "    li.append(row)\n",
    "    \n",
    "print(li)\n",
    "print(id(li[0]), id(li[1]),id(li[2]))"
   ]
  },
  {
   "cell_type": "code",
   "execution_count": 115,
   "metadata": {},
   "outputs": [
    {
     "name": "stdout",
     "output_type": "stream",
     "text": [
      "[[99, 3, 3], [99, 3, 3], [99, 3, 3]]\n",
      "[99, 3, 3]\n"
     ]
    }
   ],
   "source": [
    "li[0][0] = 99\n",
    "\n",
    "print(li)\n",
    "print(row)"
   ]
  },
  {
   "cell_type": "markdown",
   "metadata": {},
   "source": [
    "## 예제 4-44 : 리스트를 for 문 안에서 초기화"
   ]
  },
  {
   "cell_type": "code",
   "execution_count": 116,
   "metadata": {},
   "outputs": [
    {
     "name": "stdout",
     "output_type": "stream",
     "text": [
      "2099033455304\n",
      "2099033390536\n",
      "2099033353288\n",
      "[[3, 3, 3], [3, 3, 3], [3, 3, 3]]\n"
     ]
    }
   ],
   "source": [
    "li = []\n",
    "for _ in range(3) :\n",
    "    row = [3] * 3\n",
    "    print(id(row))\n",
    "    li.append(row)\n",
    "    \n",
    "print(li)"
   ]
  },
  {
   "cell_type": "code",
   "execution_count": 117,
   "metadata": {},
   "outputs": [
    {
     "name": "stdout",
     "output_type": "stream",
     "text": [
      "[[99, 3, 3], [3, 3, 3], [3, 3, 3]]\n",
      "2099033353288 [3, 3, 3]\n"
     ]
    }
   ],
   "source": [
    "li[0][0] = 99\n",
    "\n",
    "print(li)\n",
    "print(id(row), row)"
   ]
  },
  {
   "cell_type": "markdown",
   "metadata": {},
   "source": [
    "## 예제 4-45 : 지능형(comprehension) 리스트로 처리하기"
   ]
  },
  {
   "cell_type": "code",
   "execution_count": 118,
   "metadata": {},
   "outputs": [
    {
     "name": "stdout",
     "output_type": "stream",
     "text": [
      "[[3, 3, 3], [3, 3, 3], [3, 3, 3]]\n",
      "[[99, 3, 3], [3, 3, 3], [3, 3, 3]]\n"
     ]
    }
   ],
   "source": [
    "li = [ [3]*3 for _ in range(3)]\n",
    "print(li)\n",
    "\n",
    "li[0][0] = 99\n",
    "\n",
    "print(li)"
   ]
  },
  {
   "cell_type": "markdown",
   "metadata": {},
   "source": [
    "## 예제 4-46 : 클래스만 사용한 형변환\n"
   ]
  },
  {
   "cell_type": "code",
   "execution_count": 119,
   "metadata": {},
   "outputs": [
    {
     "name": "stdout",
     "output_type": "stream",
     "text": [
      "'문자열 처리'\n",
      "['문', '자', '열', ' ', '처', '리']\n"
     ]
    }
   ],
   "source": [
    "s = \"문자열 처리\"\n",
    "print(repr(s))\n",
    "\n",
    "l = list(s)\n",
    "print(l)"
   ]
  },
  {
   "cell_type": "code",
   "execution_count": 120,
   "metadata": {},
   "outputs": [
    {
     "name": "stdout",
     "output_type": "stream",
     "text": [
      "(1, 2, 3, 4)\n"
     ]
    }
   ],
   "source": [
    "l = [1,2,3,4]\n",
    "\n",
    "t = tuple(l)\n",
    "print(t)"
   ]
  },
  {
   "cell_type": "code",
   "execution_count": 121,
   "metadata": {},
   "outputs": [
    {
     "name": "stdout",
     "output_type": "stream",
     "text": [
      "'[1, 2, 3, 4]'\n"
     ]
    }
   ],
   "source": [
    "l = [1,2,3,4]\n",
    "\n",
    "s = str(l)\n",
    "print(repr(s))"
   ]
  },
  {
   "cell_type": "code",
   "execution_count": null,
   "metadata": {},
   "outputs": [],
   "source": []
  },
  {
   "cell_type": "code",
   "execution_count": null,
   "metadata": {},
   "outputs": [],
   "source": []
  }
 ],
 "metadata": {
  "kernelspec": {
   "display_name": "Python 3",
   "language": "python",
   "name": "python3"
  },
  "language_info": {
   "codemirror_mode": {
    "name": "ipython",
    "version": 3
   },
   "file_extension": ".py",
   "mimetype": "text/x-python",
   "name": "python",
   "nbconvert_exporter": "python",
   "pygments_lexer": "ipython3",
   "version": "3.7.3"
  }
 },
 "nbformat": 4,
 "nbformat_minor": 2
}
