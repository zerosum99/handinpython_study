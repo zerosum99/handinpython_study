{
 "cells": [
  {
   "cell_type": "markdown",
   "metadata": {},
   "source": [
    "## 예제 9-1  :   사물에는 기본 정보를 관리하는 클래스가 필요\n"
   ]
  },
  {
   "cell_type": "code",
   "execution_count": 1,
   "metadata": {
    "collapsed": true
   },
   "outputs": [],
   "source": [
    "class BookInfo :\n",
    "    def __init__(self,title,author,date,publisher,page) :\n",
    "        self.title = title\n",
    "        self.author = author\n",
    "        self.date = date\n",
    "        self.publisher = publisher\n",
    "        self.page = page"
   ]
  },
  {
   "cell_type": "code",
   "execution_count": 2,
   "metadata": {
    "collapsed": true
   },
   "outputs": [],
   "source": [
    "book1 = BookInfo(\"서시\",\"윤동주\",\"1939\",\"출판사\",100)\n",
    "book2 = BookInfo(\"파이썬\",\"달문\",\"2017\",\"출판사\",900)"
   ]
  },
  {
   "cell_type": "code",
   "execution_count": 3,
   "metadata": {
    "collapsed": false
   },
   "outputs": [
    {
     "name": "stdout",
     "output_type": "stream",
     "text": [
      "{'author': '윤동주',\n",
      " 'date': '1939',\n",
      " 'page': 100,\n",
      " 'publisher': '출판사',\n",
      " 'title': '서시'}\n",
      "{'author': '달문',\n",
      " 'date': '2017',\n",
      " 'page': 900,\n",
      " 'publisher': '출판사',\n",
      " 'title': '파이썬'}\n"
     ]
    }
   ],
   "source": [
    "import pprint\n",
    "pprint.pprint(book1.__dict__)\n",
    "pprint.pprint(book2.__dict__)"
   ]
  },
  {
   "cell_type": "markdown",
   "metadata": {},
   "source": [
    "## 예제 9-2  :  책에 대한 메타 정보인 범주 관리\n"
   ]
  },
  {
   "cell_type": "code",
   "execution_count": 3,
   "metadata": {
    "collapsed": true
   },
   "outputs": [],
   "source": [
    "class BookClass(BookInfo) :\n",
    "    def __init__(self,title,author,date,publisher,page,isdn=None) :\n",
    "        super().__init__(title,author,date,publisher,page)\n",
    "        self.isdn = isdn\n",
    "        \n",
    "bookclass1 = BookClass(**book1.__dict__,isdn=\"1111111111111\")\n",
    "bookclass2 = BookClass(**book2.__dict__,isdn=\"2222222222222\")"
   ]
  },
  {
   "cell_type": "code",
   "execution_count": 4,
   "metadata": {
    "collapsed": false
   },
   "outputs": [
    {
     "name": "stdout",
     "output_type": "stream",
     "text": [
      "{'author': '윤동주',\n",
      " 'date': '1939',\n",
      " 'isdn': '1111111111111',\n",
      " 'page': 100,\n",
      " 'publisher': '출판사',\n",
      " 'title': '서시'}\n",
      "{'author': '달문',\n",
      " 'date': '2017',\n",
      " 'isdn': '2222222222222',\n",
      " 'page': 900,\n",
      " 'publisher': '출판사',\n",
      " 'title': '파이썬'}\n"
     ]
    }
   ],
   "source": [
    "import pprint\n",
    "pprint.pprint(bookclass1.__dict__)\n",
    "pprint.pprint(bookclass2.__dict__)"
   ]
  },
  {
   "cell_type": "markdown",
   "metadata": {},
   "source": [
    "## 예제 9-3  :  실제 만들어져 있는 객체로써 책을 관리\n"
   ]
  },
  {
   "cell_type": "code",
   "execution_count": 5,
   "metadata": {
    "collapsed": true
   },
   "outputs": [],
   "source": [
    "class BookInv(BookClass) :\n",
    "    def __init__(self,title,author,date,publisher,page,isdn,inventno=None) :\n",
    "        super().__init__(title,author,date,publisher,page,isdn)\n",
    "        self.inventno = inventno\n",
    "        \n",
    "bookinv1 = BookInv(**bookclass1.__dict__,inventno=3000)\n",
    "bookinv2 = BookInv(**bookclass2.__dict__,inventno=3000)\n",
    "        "
   ]
  },
  {
   "cell_type": "code",
   "execution_count": 6,
   "metadata": {
    "collapsed": false
   },
   "outputs": [
    {
     "name": "stdout",
     "output_type": "stream",
     "text": [
      "{'author': '윤동주',\n",
      " 'date': '1939',\n",
      " 'inventno': 3000,\n",
      " 'isdn': '1111111111111',\n",
      " 'page': 100,\n",
      " 'publisher': '출판사',\n",
      " 'title': '서시'}\n",
      "{'author': '달문',\n",
      " 'date': '2017',\n",
      " 'inventno': 3000,\n",
      " 'isdn': '2222222222222',\n",
      " 'page': 900,\n",
      " 'publisher': '출판사',\n",
      " 'title': '파이썬'}\n"
     ]
    }
   ],
   "source": [
    "import pprint\n",
    "pprint.pprint(bookinv1.__dict__)\n",
    "pprint.pprint(bookinv2.__dict__)"
   ]
  },
  {
   "cell_type": "markdown",
   "metadata": {},
   "source": [
    "## 예제 9-4  :   object 클래스로 객체의 레퍼런스 확인하기\n"
   ]
  },
  {
   "cell_type": "code",
   "execution_count": 5,
   "metadata": {
    "collapsed": false
   },
   "outputs": [
    {
     "name": "stdout",
     "output_type": "stream",
     "text": [
      "False\n",
      "4419762960 4419762976\n"
     ]
    }
   ],
   "source": [
    "a = object()\n",
    "\n",
    "b = object()\n",
    "\n",
    "print(a is b)\n",
    "print(id(a), id(b))"
   ]
  },
  {
   "cell_type": "code",
   "execution_count": 6,
   "metadata": {
    "collapsed": false
   },
   "outputs": [
    {
     "name": "stdout",
     "output_type": "stream",
     "text": [
      "True\n",
      "4450584904 4450584904\n"
     ]
    }
   ],
   "source": [
    "t = (1,2,3)\n",
    "\n",
    "ts = tuple(t)\n",
    "\n",
    "print(t is ts)\n",
    "print(id(t), id(ts))"
   ]
  },
  {
   "cell_type": "code",
   "execution_count": 4,
   "metadata": {
    "collapsed": false
   },
   "outputs": [
    {
     "name": "stdout",
     "output_type": "stream",
     "text": [
      "140721026318296\n"
     ]
    }
   ],
   "source": [
    "class Klass :\n",
    "    pass\n",
    "\n",
    "print(id(Klass))"
   ]
  },
  {
   "cell_type": "markdown",
   "metadata": {},
   "source": [
    "## 예제 9-5  :  클래스에 대한  책임성 확인하기  \n"
   ]
  },
  {
   "cell_type": "code",
   "execution_count": 13,
   "metadata": {
    "collapsed": false
   },
   "outputs": [
    {
     "name": "stdout",
     "output_type": "stream",
     "text": [
      "__abs__  __add__  __and__  __bool__  __ceil__  \n",
      "__class__  __delattr__  __dir__  __divmod__  __doc__  \n",
      "__eq__  __float__  __floor__  __floordiv__  __format__  \n",
      "__ge__  __getattribute__  __getnewargs__  __gt__  __hash__  \n",
      "__index__  __init__  __init_subclass__  __int__  __invert__  \n",
      "__le__  __lshift__  __lt__  __mod__  __mul__  \n",
      "__ne__  __neg__  __new__  __or__  __pos__  \n",
      "__pow__  __radd__  __rand__  __rdivmod__  __reduce__  \n",
      "__reduce_ex__  __repr__  __rfloordiv__  __rlshift__  __rmod__  \n",
      "__rmul__  __ror__  __round__  __rpow__  __rrshift__  \n",
      "__rshift__  __rsub__  __rtruediv__  __rxor__  __setattr__  \n",
      "__sizeof__  __str__  __sub__  __subclasshook__  __truediv__  \n",
      "__trunc__  __xor__  bit_length  conjugate  denominator  \n",
      "from_bytes  imag  numerator  real  to_bytes  \n"
     ]
    }
   ],
   "source": [
    "count = 0\n",
    "for i in dir(int) :\n",
    "    print(i,end=\"  \")\n",
    "    count += 1\n",
    "    print() if count % 5 ==0 else _"
   ]
  },
  {
   "cell_type": "code",
   "execution_count": 9,
   "metadata": {
    "collapsed": false
   },
   "outputs": [
    {
     "name": "stdout",
     "output_type": "stream",
     "text": [
      "15\n",
      "15\n",
      "5\n",
      "5\n"
     ]
    }
   ],
   "source": [
    "a = int(10)\n",
    "\n",
    "b = int(5)\n",
    "\n",
    "print(a+b)\n",
    "print(a.__add__(b))\n",
    "print(a-b)\n",
    "print(a.__sub__(b))"
   ]
  },
  {
   "cell_type": "markdown",
   "metadata": {
    "collapsed": true
   },
   "source": [
    "## 예제 9-6  : 클래스 내에서 관리하는 속성과 메소드 확인하기\n",
    "\n"
   ]
  },
  {
   "cell_type": "code",
   "execution_count": 14,
   "metadata": {
    "collapsed": false
   },
   "outputs": [
    {
     "name": "stdout",
     "output_type": "stream",
     "text": [
      "__abs__ __add__ __bool__ __class__ __delattr__ \n",
      "__dir__ __divmod__ __doc__ __eq__ __float__ \n",
      "__floordiv__ __format__ __ge__ __getattribute__ __getformat__ \n",
      "__getnewargs__ __gt__ __hash__ __init__ __init_subclass__ \n",
      "__int__ __le__ __lt__ __mod__ __mul__ \n",
      "__ne__ __neg__ __new__ __pos__ __pow__ \n",
      "__radd__ __rdivmod__ __reduce__ __reduce_ex__ __repr__ \n",
      "__rfloordiv__ __rmod__ __rmul__ __round__ __rpow__ \n",
      "__rsub__ __rtruediv__ __setattr__ __setformat__ __sizeof__ \n",
      "__str__ __sub__ __subclasshook__ __truediv__ __trunc__ \n",
      "as_integer_ratio conjugate fromhex hex imag \n",
      "is_integer real "
     ]
    }
   ],
   "source": [
    "for i,v in enumerate(dir(float),1) :\n",
    "    print(v,end=\" \")\n",
    "    if i % 5 == 0 :\n",
    "        print()"
   ]
  },
  {
   "cell_type": "code",
   "execution_count": 17,
   "metadata": {
    "collapsed": false
   },
   "outputs": [
    {
     "name": "stdout",
     "output_type": "stream",
     "text": [
      "{'is_integer', 'hex', 'as_integer_ratio', 'fromhex', '__setformat__', '__getformat__'}\n"
     ]
    }
   ],
   "source": [
    "i = set(dir(int))\n",
    "f = set(dir(float))\n",
    "\n",
    "print(f-i)"
   ]
  },
  {
   "cell_type": "code",
   "execution_count": 16,
   "metadata": {
    "collapsed": false
   },
   "outputs": [
    {
     "name": "stdout",
     "output_type": "stream",
     "text": [
      "{'__or__', 'numerator', '__xor__', '__index__', 'to_bytes', '__rand__', '__rlshift__', '__floor__', '__rshift__', '__lshift__', 'from_bytes', '__invert__', '__rxor__', '__and__', 'bit_length', '__ror__', '__ceil__', 'denominator', '__rrshift__'}\n"
     ]
    }
   ],
   "source": [
    "print(i-f)"
   ]
  },
  {
   "cell_type": "markdown",
   "metadata": {},
   "source": [
    "## 예제 9-7  :  object 클래스 내부의 속성과 메소드 보기\n",
    "\n"
   ]
  },
  {
   "cell_type": "code",
   "execution_count": 11,
   "metadata": {
    "collapsed": false
   },
   "outputs": [
    {
     "name": "stdout",
     "output_type": "stream",
     "text": [
      "__class__ __delattr__ __dir__ __doc__ __eq__ \n",
      "__format__ __ge__ __getattribute__ __gt__ __hash__ \n",
      "__init__ __init_subclass__ __le__ __lt__ __ne__ \n",
      "__new__ __reduce__ __reduce_ex__ __repr__ __setattr__ \n",
      "__sizeof__ __str__ __subclasshook__ "
     ]
    }
   ],
   "source": [
    "for i,v in enumerate(dir(object),1) :\n",
    "    print(v,end=\" \")\n",
    "    if i % 5 == 0 :\n",
    "        print()\n"
   ]
  },
  {
   "cell_type": "code",
   "execution_count": 12,
   "metadata": {
    "collapsed": false
   },
   "outputs": [
    {
     "name": "stdout",
     "output_type": "stream",
     "text": [
      "The most base type\n",
      "object\n",
      "<class 'object'>\n",
      "<type object at 0x000000005DE687A0>\n"
     ]
    }
   ],
   "source": [
    "print(object.__doc__)\n",
    "print(object.__name__)\n",
    "print(object.__str__(object))\n",
    "print(object.__repr__(object))"
   ]
  },
  {
   "cell_type": "code",
   "execution_count": 13,
   "metadata": {
    "collapsed": false
   },
   "outputs": [
    {
     "name": "stdout",
     "output_type": "stream",
     "text": [
      "True\n",
      "True\n"
     ]
    }
   ],
   "source": [
    "print(object.__eq__(object, object))\n",
    "print(object is object)"
   ]
  },
  {
   "cell_type": "code",
   "execution_count": 14,
   "metadata": {
    "collapsed": false
   },
   "outputs": [
    {
     "name": "stdout",
     "output_type": "stream",
     "text": [
      "<object object at 0x0000000002079CF0>\n"
     ]
    },
    {
     "ename": "AttributeError",
     "evalue": "'object' object has no attribute '__dict__'",
     "output_type": "error",
     "traceback": [
      "\u001b[0;31m---------------------------------------------------------------------------\u001b[0m",
      "\u001b[0;31mAttributeError\u001b[0m                            Traceback (most recent call last)",
      "\u001b[0;32m<ipython-input-14-b56a300d7645>\u001b[0m in \u001b[0;36m<module>\u001b[0;34m()\u001b[0m\n\u001b[1;32m      2\u001b[0m \u001b[1;33m\u001b[0m\u001b[0m\n\u001b[1;32m      3\u001b[0m \u001b[0mprint\u001b[0m\u001b[1;33m(\u001b[0m\u001b[0mo\u001b[0m\u001b[1;33m)\u001b[0m\u001b[1;33m\u001b[0m\u001b[0m\n\u001b[0;32m----> 4\u001b[0;31m \u001b[0mprint\u001b[0m\u001b[1;33m(\u001b[0m\u001b[0mo\u001b[0m\u001b[1;33m.\u001b[0m\u001b[0m__dict__\u001b[0m\u001b[1;33m)\u001b[0m\u001b[1;33m\u001b[0m\u001b[0m\n\u001b[0m",
      "\u001b[0;31mAttributeError\u001b[0m: 'object' object has no attribute '__dict__'"
     ]
    }
   ],
   "source": [
    "o = object()\n",
    "\n",
    "print(o)\n",
    "print(o.__dict__)"
   ]
  },
  {
   "cell_type": "markdown",
   "metadata": {},
   "source": [
    "## 예제 9-8  :   Type 클래스의 insetance 여부 확인\n"
   ]
  },
  {
   "cell_type": "code",
   "execution_count": 15,
   "metadata": {
    "collapsed": false
   },
   "outputs": [
    {
     "name": "stdout",
     "output_type": "stream",
     "text": [
      "True\n",
      "True\n",
      "True\n",
      "True\n",
      "True\n",
      "True\n",
      "True\n",
      "True\n",
      "True\n"
     ]
    }
   ],
   "source": [
    "l = [type, object, int, float, str, tuple, list, dict,set]\n",
    "\n",
    "for i in l :\n",
    "    print(isinstance(i,type))"
   ]
  },
  {
   "cell_type": "code",
   "execution_count": 16,
   "metadata": {
    "collapsed": false
   },
   "outputs": [
    {
     "name": "stdout",
     "output_type": "stream",
     "text": [
      "True\n",
      "True\n",
      "True\n",
      "True\n",
      "True\n",
      "True\n",
      "True\n",
      "True\n",
      "True\n"
     ]
    }
   ],
   "source": [
    "l = [type, object, int, float, str, tuple, list, dict,set]\n",
    "\n",
    "for i in l :\n",
    "    print(issubclass(i,object))"
   ]
  },
  {
   "cell_type": "markdown",
   "metadata": {},
   "source": [
    "## 예제 9-9  :   Class 내부 속성 __class__, __bases__ 확인\n"
   ]
  },
  {
   "cell_type": "code",
   "execution_count": 17,
   "metadata": {
    "collapsed": false
   },
   "outputs": [
    {
     "name": "stdout",
     "output_type": "stream",
     "text": [
      "<class 'type'>\n",
      "<class 'type'>\n",
      "<class 'type'>\n",
      "<class 'type'>\n",
      "<class 'type'>\n",
      "<class 'type'>\n",
      "<class 'type'>\n",
      "<class 'type'>\n",
      "<class 'type'>\n"
     ]
    }
   ],
   "source": [
    "l = ['type', 'object', 'int', 'float', 'str', 'tuple', 'list', 'dict','set']\n",
    "\n",
    "for i in l :\n",
    "    print(eval(i+\".__class__\"))"
   ]
  },
  {
   "cell_type": "code",
   "execution_count": 18,
   "metadata": {
    "collapsed": false
   },
   "outputs": [
    {
     "name": "stdout",
     "output_type": "stream",
     "text": [
      "(<class 'object'>,)\n",
      "()\n",
      "(<class 'object'>,)\n",
      "(<class 'object'>,)\n",
      "(<class 'object'>,)\n",
      "(<class 'object'>,)\n",
      "(<class 'object'>,)\n",
      "(<class 'object'>,)\n",
      "(<class 'object'>,)\n"
     ]
    }
   ],
   "source": [
    "l = ['type', 'object', 'int', 'float', 'str', 'tuple', 'list', 'dict','set']\n",
    "\n",
    "for i in l :\n",
    "    print(eval(i+\".__bases__\"))"
   ]
  },
  {
   "cell_type": "markdown",
   "metadata": {},
   "source": [
    "## 예제 9-10  :   내장 클래스와 인스턴스의 관계 확인\n",
    "\n",
    "\n"
   ]
  },
  {
   "cell_type": "code",
   "execution_count": 19,
   "metadata": {
    "collapsed": false
   },
   "outputs": [
    {
     "name": "stdout",
     "output_type": "stream",
     "text": [
      "True\n",
      "True\n",
      "True\n",
      "True\n",
      "True\n",
      "True\n",
      "True\n",
      "True\n"
     ]
    }
   ],
   "source": [
    "l = ['object', 'int', 'float', 'str', 'tuple', 'list', 'dict','set']\n",
    "\n",
    "for i in l :\n",
    "    print(eval(\"isinstance(\"+i+\"(),\"+i+\")\"))"
   ]
  },
  {
   "cell_type": "code",
   "execution_count": 20,
   "metadata": {
    "collapsed": false
   },
   "outputs": [
    {
     "name": "stdout",
     "output_type": "stream",
     "text": [
      "<class 'object'>\n",
      "<class 'int'>\n",
      "<class 'float'>\n",
      "<class 'str'>\n",
      "<class 'tuple'>\n",
      "<class 'list'>\n",
      "<class 'dict'>\n",
      "<class 'set'>\n"
     ]
    }
   ],
   "source": [
    "l = ['object', 'int', 'float', 'str', 'tuple', 'list', 'dict','set']\n",
    "\n",
    "for i in l :\n",
    "    print(eval(i+\"().__class__\"))"
   ]
  },
  {
   "cell_type": "markdown",
   "metadata": {},
   "source": [
    "## 예제 9-11  :   사용자 정의 클래스 기본 확인\n",
    "\n",
    "\n"
   ]
  },
  {
   "cell_type": "code",
   "execution_count": 18,
   "metadata": {
    "collapsed": true
   },
   "outputs": [],
   "source": [
    "class Klass :\n",
    "    pass\n"
   ]
  },
  {
   "cell_type": "code",
   "execution_count": 19,
   "metadata": {
    "collapsed": false
   },
   "outputs": [
    {
     "name": "stdout",
     "output_type": "stream",
     "text": [
      "<class 'type'>\n",
      "True\n"
     ]
    }
   ],
   "source": [
    "print(Klass.__class__)\n",
    "print(isinstance(Klass, type))"
   ]
  },
  {
   "cell_type": "code",
   "execution_count": 20,
   "metadata": {
    "collapsed": false
   },
   "outputs": [
    {
     "name": "stdout",
     "output_type": "stream",
     "text": [
      "(<class 'object'>,)\n",
      "True\n"
     ]
    }
   ],
   "source": [
    "print(Klass.__bases__)\n",
    "print(issubclass(Klass, object))"
   ]
  },
  {
   "cell_type": "code",
   "execution_count": 21,
   "metadata": {
    "collapsed": false
   },
   "outputs": [
    {
     "name": "stdout",
     "output_type": "stream",
     "text": [
      "<class '__main__.Int'> 10\n"
     ]
    }
   ],
   "source": [
    "class Int(int) :\n",
    "    pass\n",
    "\n",
    "a = Int(10)\n",
    "print(type(a),a)\n"
   ]
  },
  {
   "cell_type": "code",
   "execution_count": 22,
   "metadata": {
    "collapsed": false
   },
   "outputs": [
    {
     "name": "stdout",
     "output_type": "stream",
     "text": [
      "mappingproxy({'__dict__': <attribute '__dict__' of 'Int' objects>,\n",
      "              '__doc__': None,\n",
      "              '__module__': '__main__'})\n"
     ]
    }
   ],
   "source": [
    "import pprint\n",
    "pprint.pprint(Int.__dict__)"
   ]
  },
  {
   "cell_type": "code",
   "execution_count": 23,
   "metadata": {
    "collapsed": false
   },
   "outputs": [
    {
     "name": "stdout",
     "output_type": "stream",
     "text": [
      "<class 'type'>\n",
      "(<class 'int'>,)\n",
      "True\n",
      "True\n",
      "True\n"
     ]
    }
   ],
   "source": [
    "print(Int.__class__)\n",
    "print(Int.__bases__)\n",
    "\n",
    "print(isinstance(Int, type))\n",
    "print(issubclass(Int, object))\n",
    "print(issubclass(Int, int))"
   ]
  },
  {
   "cell_type": "markdown",
   "metadata": {},
   "source": [
    "## 예제 9-12  :  Person 사용자 클래스를 정의 및 속성 확인\n"
   ]
  },
  {
   "cell_type": "code",
   "execution_count": 24,
   "metadata": {
    "collapsed": true
   },
   "outputs": [],
   "source": [
    "class Person :\n",
    "    def __init__(self, name, age) :\n",
    "        self.name = name\n",
    "        self.age  = age\n",
    "    "
   ]
  },
  {
   "cell_type": "code",
   "execution_count": 25,
   "metadata": {
    "collapsed": false
   },
   "outputs": [
    {
     "name": "stdout",
     "output_type": "stream",
     "text": [
      "<__main__.Person object at 0x10956d6a0>\n",
      "{'name': '줄리아', 'age': 15}\n",
      "줄리아\n",
      "15\n"
     ]
    }
   ],
   "source": [
    "p = Person(\"줄리아\",15)\n",
    "\n",
    "print(p)\n",
    "print(p.__dict__)\n",
    "print(p.name)\n",
    "print(p.age)"
   ]
  },
  {
   "cell_type": "code",
   "execution_count": 25,
   "metadata": {
    "collapsed": false
   },
   "outputs": [
    {
     "name": "stdout",
     "output_type": "stream",
     "text": [
      "{'__weakref__', '__dict__', '__module__'}\n"
     ]
    }
   ],
   "source": [
    "o = set(dir(object))\n",
    "pc = set(dir(Person))\n",
    "\n",
    "print(pc-o)"
   ]
  },
  {
   "cell_type": "code",
   "execution_count": 26,
   "metadata": {
    "collapsed": false
   },
   "outputs": [
    {
     "name": "stdout",
     "output_type": "stream",
     "text": [
      "__main__\n",
      "(<class 'object'>,)\n",
      "<class 'type'>\n"
     ]
    }
   ],
   "source": [
    "print(Person.__module__)\n",
    "print(Person.__bases__)\n",
    "print(Person.__class__)"
   ]
  },
  {
   "cell_type": "markdown",
   "metadata": {},
   "source": [
    "## 예제 9-13  : 클래스와 인스턴스 객체간의 네임스페이스 접근 \n",
    "\n"
   ]
  },
  {
   "cell_type": "code",
   "execution_count": 27,
   "metadata": {
    "collapsed": true
   },
   "outputs": [],
   "source": [
    "class Klass :\n",
    "    name = \"Klass attr\"\n",
    "    def __init__(self, name) :\n",
    "        self.name = name\n",
    "        \n",
    "    def getname(self) :\n",
    "        return self.name\n",
    "    \n"
   ]
  },
  {
   "cell_type": "code",
   "execution_count": 28,
   "metadata": {
    "collapsed": false
   },
   "outputs": [
    {
     "name": "stdout",
     "output_type": "stream",
     "text": [
      "instance attr\n",
      "Klass attr\n"
     ]
    }
   ],
   "source": [
    "k = Klass(\"instance attr\")\n",
    "\n",
    "print(k.name)\n",
    "print(Klass.name)"
   ]
  },
  {
   "cell_type": "code",
   "execution_count": 29,
   "metadata": {
    "collapsed": false
   },
   "outputs": [
    {
     "name": "stdout",
     "output_type": "stream",
     "text": [
      "{'name': 'instance attr', 'getclassname': 'Klass attr'}\n",
      "Klass attr\n"
     ]
    }
   ],
   "source": [
    "k.getclassname = Klass.name\n",
    "print(k.__dict__)\n",
    "print(k.getclassname)"
   ]
  },
  {
   "cell_type": "code",
   "execution_count": 30,
   "metadata": {
    "collapsed": false
   },
   "outputs": [
    {
     "name": "stdout",
     "output_type": "stream",
     "text": [
      "instance attr\n",
      "instance attr\n"
     ]
    }
   ],
   "source": [
    "print(k.getname())\n",
    "\n",
    "print(Klass.getname(k))"
   ]
  },
  {
   "cell_type": "code",
   "execution_count": 31,
   "metadata": {
    "collapsed": false
   },
   "outputs": [
    {
     "name": "stdout",
     "output_type": "stream",
     "text": [
      "mappingproxy({'__dict__': <attribute '__dict__' of 'Klass' objects>,\n",
      "              '__doc__': None,\n",
      "              '__init__': <function Klass.__init__ at 0x0000000004BF3378>,\n",
      "              '__module__': '__main__',\n",
      "              '__weakref__': <attribute '__weakref__' of 'Klass' objects>,\n",
      "              'getname': <function Klass.getname at 0x0000000004BF30D0>,\n",
      "              'name': 'Klass attr'})\n"
     ]
    }
   ],
   "source": [
    "import pprint\n",
    "\n",
    "pprint.pprint(Klass.__dict__)"
   ]
  },
  {
   "cell_type": "code",
   "execution_count": 32,
   "metadata": {
    "collapsed": false
   },
   "outputs": [
    {
     "name": "stdout",
     "output_type": "stream",
     "text": [
      "<bound method Klass.getname of <__main__.Klass object at 0x0000000004B6C208>>\n",
      "<function Klass.getname at 0x0000000004BF30D0>\n"
     ]
    }
   ],
   "source": [
    "print(k.getname)\n",
    "print(Klass.getname)"
   ]
  },
  {
   "cell_type": "markdown",
   "metadata": {},
   "source": [
    "## 예제 9-14  : 클래스 생성자로  인스턴스 생성하기\n"
   ]
  },
  {
   "cell_type": "code",
   "execution_count": 1,
   "metadata": {
    "collapsed": true
   },
   "outputs": [],
   "source": [
    "class AAA :\n",
    "    def __new__(cls) :\n",
    "        print(\" AAA instance\")\n",
    "        return object.__new__(cls)\n",
    "    "
   ]
  },
  {
   "cell_type": "code",
   "execution_count": 2,
   "metadata": {
    "collapsed": false
   },
   "outputs": [
    {
     "name": "stdout",
     "output_type": "stream",
     "text": [
      " AAA instance\n",
      "<__main__.AAA object at 0x000000000519B240>\n"
     ]
    }
   ],
   "source": [
    "aaa = AAA()\n",
    "\n",
    "print(aaa)"
   ]
  },
  {
   "cell_type": "code",
   "execution_count": 28,
   "metadata": {
    "collapsed": false
   },
   "outputs": [
    {
     "name": "stdout",
     "output_type": "stream",
     "text": [
      "mappingproxy({'__dict__': <attribute '__dict__' of 'AAA' objects>,\n",
      "              '__doc__': None,\n",
      "              '__module__': '__main__',\n",
      "              '__new__': <staticmethod object at 0x10956d208>,\n",
      "              '__weakref__': <attribute '__weakref__' of 'AAA' objects>})\n"
     ]
    }
   ],
   "source": [
    "import pprint\n",
    "\n",
    "pprint.pprint(AAA.__dict__)"
   ]
  },
  {
   "cell_type": "code",
   "execution_count": 29,
   "metadata": {
    "collapsed": false
   },
   "outputs": [
    {
     "name": "stdout",
     "output_type": "stream",
     "text": [
      "True\n"
     ]
    }
   ],
   "source": [
    "print(isinstance(aaa,AAA))"
   ]
  },
  {
   "cell_type": "markdown",
   "metadata": {},
   "source": [
    "## 예제 9-15  :  자기 자신의 클래스만 처리\n",
    "\n"
   ]
  },
  {
   "cell_type": "code",
   "execution_count": 3,
   "metadata": {
    "collapsed": true
   },
   "outputs": [],
   "source": [
    "class OnlyKlass :\n",
    "    def __new__(cls) :\n",
    "        return cls"
   ]
  },
  {
   "cell_type": "code",
   "execution_count": 4,
   "metadata": {
    "collapsed": false
   },
   "outputs": [
    {
     "name": "stdout",
     "output_type": "stream",
     "text": [
      "<class '__main__.OnlyKlass'>\n"
     ]
    }
   ],
   "source": [
    "ok = OnlyKlass()\n",
    "\n",
    "print(ok)"
   ]
  },
  {
   "cell_type": "code",
   "execution_count": 5,
   "metadata": {
    "collapsed": false
   },
   "outputs": [
    {
     "name": "stdout",
     "output_type": "stream",
     "text": [
      "<class 'type'>\n",
      "True\n"
     ]
    }
   ],
   "source": [
    "print(type(ok))\n",
    "print(ok is OnlyKlass)"
   ]
  },
  {
   "cell_type": "code",
   "execution_count": 7,
   "metadata": {
    "collapsed": true
   },
   "outputs": [],
   "source": [
    "class OnlyKlass :\n",
    "    def __new__(cls) :\n",
    "        return cls\n",
    "    \n",
    "    @classmethod\n",
    "    def getname(cls) :\n",
    "        return cls.name\n",
    "    \n",
    "    @classmethod\n",
    "    def setname(cls, name) :\n",
    "        cls.name = name\n",
    "        "
   ]
  },
  {
   "cell_type": "code",
   "execution_count": 8,
   "metadata": {
    "collapsed": false
   },
   "outputs": [
    {
     "name": "stdout",
     "output_type": "stream",
     "text": [
      "mappingproxy({'__dict__': <attribute '__dict__' of 'OnlyKlass' objects>,\n",
      "              '__doc__': None,\n",
      "              '__module__': '__main__',\n",
      "              '__new__': <staticmethod object at 0x00000000051AB358>,\n",
      "              '__weakref__': <attribute '__weakref__' of 'OnlyKlass' objects>,\n",
      "              'getname': <classmethod object at 0x00000000051AB2B0>,\n",
      "              'setname': <classmethod object at 0x00000000051AB320>})\n"
     ]
    }
   ],
   "source": [
    "import pprint\n",
    "\n",
    "pprint.pprint(OnlyKlass.__dict__)"
   ]
  },
  {
   "cell_type": "code",
   "execution_count": 40,
   "metadata": {
    "collapsed": false
   },
   "outputs": [
    {
     "name": "stdout",
     "output_type": "stream",
     "text": [
      " class method \n"
     ]
    }
   ],
   "source": [
    "ok = OnlyKlass()\n",
    "\n",
    "ok.setname(\" class method \")\n",
    "print(ok.getname())"
   ]
  },
  {
   "cell_type": "markdown",
   "metadata": {},
   "source": [
    "## 예제 9-16  :   인스턴스 속성을 초기화\n",
    "\n"
   ]
  },
  {
   "cell_type": "code",
   "execution_count": 9,
   "metadata": {
    "collapsed": true
   },
   "outputs": [],
   "source": [
    "class Pass :\n",
    "    pass\n"
   ]
  },
  {
   "cell_type": "code",
   "execution_count": 11,
   "metadata": {
    "collapsed": false
   },
   "outputs": [
    {
     "name": "stdout",
     "output_type": "stream",
     "text": [
      "{}\n"
     ]
    }
   ],
   "source": [
    "p = Pass()\n",
    "\n",
    "print(p.__dict__)\n"
   ]
  },
  {
   "cell_type": "code",
   "execution_count": 12,
   "metadata": {
    "collapsed": false
   },
   "outputs": [
    {
     "name": "stdout",
     "output_type": "stream",
     "text": [
      "{'name': '양영초', 'age': 10}\n"
     ]
    }
   ],
   "source": [
    "p.name = \"양영초\"\n",
    "p.age = 10\n",
    "\n",
    "print(p.__dict__)"
   ]
  },
  {
   "cell_type": "code",
   "execution_count": 24,
   "metadata": {
    "collapsed": true
   },
   "outputs": [],
   "source": [
    "class INIT :\n",
    "    count = 0\n",
    "    def __init__(self,name,age) :\n",
    "        self.name = name\n",
    "        self.age = age\n",
    "        self.count += 1"
   ]
  },
  {
   "cell_type": "code",
   "execution_count": 25,
   "metadata": {
    "collapsed": false
   },
   "outputs": [
    {
     "ename": "TypeError",
     "evalue": "__init__() missing 2 required positional arguments: 'name' and 'age'",
     "output_type": "error",
     "traceback": [
      "\u001b[0;31m---------------------------------------------------------------------------\u001b[0m",
      "\u001b[0;31mTypeError\u001b[0m                                 Traceback (most recent call last)",
      "\u001b[0;32m<ipython-input-25-bd3ac33b98b6>\u001b[0m in \u001b[0;36m<module>\u001b[0;34m()\u001b[0m\n\u001b[1;32m      1\u001b[0m \u001b[1;33m\u001b[0m\u001b[0m\n\u001b[0;32m----> 2\u001b[0;31m \u001b[0mi\u001b[0m \u001b[1;33m=\u001b[0m \u001b[0mINIT\u001b[0m\u001b[1;33m(\u001b[0m\u001b[1;33m)\u001b[0m\u001b[1;33m\u001b[0m\u001b[0m\n\u001b[0m",
      "\u001b[0;31mTypeError\u001b[0m: __init__() missing 2 required positional arguments: 'name' and 'age'"
     ]
    }
   ],
   "source": [
    "\n",
    "i = INIT()\n"
   ]
  },
  {
   "cell_type": "code",
   "execution_count": 26,
   "metadata": {
    "collapsed": false
   },
   "outputs": [
    {
     "name": "stdout",
     "output_type": "stream",
     "text": [
      "{'name': '양영중', 'age': 15, 'count': 1}\n"
     ]
    }
   ],
   "source": [
    "i = INIT(\"양영중\",15)\n",
    "print(i.__dict__)"
   ]
  },
  {
   "cell_type": "code",
   "execution_count": 27,
   "metadata": {
    "collapsed": false
   },
   "outputs": [
    {
     "name": "stdout",
     "output_type": "stream",
     "text": [
      "양영중\n",
      "15\n",
      "1\n"
     ]
    }
   ],
   "source": [
    "print(i.name)\n",
    "print(i.age)\n",
    "print(i.count)"
   ]
  },
  {
   "cell_type": "code",
   "execution_count": 22,
   "metadata": {
    "collapsed": true
   },
   "outputs": [],
   "source": [
    "class INIT_ :\n",
    "    count = 0\n",
    "    def __init__(self,name,age) :\n",
    "        self.name = name\n",
    "        self.age = age\n",
    "        INIT_.count += 1"
   ]
  },
  {
   "cell_type": "code",
   "execution_count": 23,
   "metadata": {
    "collapsed": false
   },
   "outputs": [
    {
     "name": "stdout",
     "output_type": "stream",
     "text": [
      "{'name': '양영고', 'age': 18}\n",
      "mappingproxy({'__dict__': <attribute '__dict__' of 'INIT_' objects>,\n",
      "              '__doc__': None,\n",
      "              '__init__': <function INIT_.__init__ at 0x0000000005292D08>,\n",
      "              '__module__': '__main__',\n",
      "              '__weakref__': <attribute '__weakref__' of 'INIT_' objects>,\n",
      "              'count': 1})\n"
     ]
    }
   ],
   "source": [
    "import pprint\n",
    "\n",
    "i = INIT_(\"양영고\",18)\n",
    "print(i.__dict__)\n",
    "pprint.pprint(INIT_.__dict__)"
   ]
  },
  {
   "cell_type": "markdown",
   "metadata": {},
   "source": [
    "## 예제 9-17  :   소멸자 정의된 클래스 생성하기\n",
    "\n"
   ]
  },
  {
   "cell_type": "code",
   "execution_count": 29,
   "metadata": {
    "collapsed": true
   },
   "outputs": [],
   "source": [
    "class Counter :\n",
    "    count = 0\n",
    "    \n",
    "    def __init__(self,name) :\n",
    "        self.name = name\n",
    "        Counter.count = Counter.count +1\n",
    "    \n",
    "    def __del__(self) :\n",
    "        Counter.count = Counter.count -1"
   ]
  },
  {
   "cell_type": "code",
   "execution_count": 30,
   "metadata": {
    "collapsed": false
   },
   "outputs": [
    {
     "name": "stdout",
     "output_type": "stream",
     "text": [
      "mappingproxy({'__del__': <function Counter.__del__ at 0x00000000052A6510>,\n",
      "              '__dict__': <attribute '__dict__' of 'Counter' objects>,\n",
      "              '__doc__': None,\n",
      "              '__init__': <function Counter.__init__ at 0x00000000052A6598>,\n",
      "              '__module__': '__main__',\n",
      "              '__weakref__': <attribute '__weakref__' of 'Counter' objects>,\n",
      "              'count': 0})\n"
     ]
    }
   ],
   "source": [
    "import pprint\n",
    "\n",
    "pprint.pprint(Counter.__dict__)"
   ]
  },
  {
   "cell_type": "code",
   "execution_count": 31,
   "metadata": {
    "collapsed": false
   },
   "outputs": [
    {
     "name": "stdout",
     "output_type": "stream",
     "text": [
      "<__main__.Counter object at 0x00000000052B0630>\n",
      "{'name': ' First '}\n",
      "1\n",
      "<__main__.Counter object at 0x00000000052B0FD0>\n",
      "{'name': ' Second '}\n",
      "2\n"
     ]
    }
   ],
   "source": [
    "x = Counter(\" First \")\n",
    "print(x)\n",
    "print(x.__dict__)\n",
    "print(Counter.count)\n",
    "y = Counter(\" Second \")\n",
    "print(y)\n",
    "print(y.__dict__)\n",
    "print(Counter.count)"
   ]
  },
  {
   "cell_type": "code",
   "execution_count": 32,
   "metadata": {
    "collapsed": false
   },
   "outputs": [
    {
     "name": "stdout",
     "output_type": "stream",
     "text": [
      "1\n"
     ]
    }
   ],
   "source": [
    "del y\n",
    "print(Counter.count)"
   ]
  },
  {
   "cell_type": "markdown",
   "metadata": {},
   "source": [
    "## 예제 9-18  :   약한 참조 이용하기\n"
   ]
  },
  {
   "cell_type": "code",
   "execution_count": 47,
   "metadata": {
    "collapsed": false
   },
   "outputs": [
    {
     "name": "stdout",
     "output_type": "stream",
     "text": [
      "1575533008\n",
      "1575533008\n",
      "1\n"
     ]
    }
   ],
   "source": [
    "a = 1\n",
    "print(id(a))\n",
    "b = a\n",
    "print(id(b))\n",
    "\n",
    "del a\n",
    "print(b)\n",
    "\n"
   ]
  },
  {
   "cell_type": "code",
   "execution_count": 34,
   "metadata": {
    "collapsed": true
   },
   "outputs": [],
   "source": [
    "import weakref\n",
    "\n",
    "class MyObject(object):\n",
    "    def my_method(self):\n",
    "        print('my_method was called!')\n",
    "\n",
    "obj = MyObject()\n"
   ]
  },
  {
   "cell_type": "code",
   "execution_count": 35,
   "metadata": {
    "collapsed": false
   },
   "outputs": [
    {
     "name": "stdout",
     "output_type": "stream",
     "text": [
      "<class 'weakref'> <weakref at 0x00000000052AB7C8; to 'MyObject' at 0x000000000529DCC0>\n"
     ]
    }
   ],
   "source": [
    "r = weakref.ref(obj)\n",
    "print(type(r), r)\n",
    "s = r()"
   ]
  },
  {
   "cell_type": "code",
   "execution_count": 36,
   "metadata": {
    "collapsed": false
   },
   "outputs": [
    {
     "name": "stdout",
     "output_type": "stream",
     "text": [
      "my_method was called!\n"
     ]
    }
   ],
   "source": [
    "assert isinstance(obj, MyObject) \n",
    "assert s is obj\n",
    "\n",
    "s.my_method()"
   ]
  },
  {
   "cell_type": "code",
   "execution_count": 37,
   "metadata": {
    "collapsed": false
   },
   "outputs": [
    {
     "name": "stdout",
     "output_type": "stream",
     "text": [
      "<weakref at 0x00000000052AB7C8; to 'MyObject' at 0x000000000529DCC0>\n",
      "<__main__.MyObject object at 0x000000000529DCC0>\n"
     ]
    }
   ],
   "source": [
    "import gc\n",
    "\n",
    "obj = 1\n",
    "gc.collect()\n",
    "print(r)\n",
    "print(s)\n",
    "assert r() is not  None\n"
   ]
  },
  {
   "cell_type": "code",
   "execution_count": 38,
   "metadata": {
    "collapsed": false
   },
   "outputs": [
    {
     "ename": "AssertionError",
     "evalue": "",
     "output_type": "error",
     "traceback": [
      "\u001b[0;31m---------------------------------------------------------------------------\u001b[0m",
      "\u001b[0;31mAssertionError\u001b[0m                            Traceback (most recent call last)",
      "\u001b[0;32m<ipython-input-38-fc1e42b8bbcd>\u001b[0m in \u001b[0;36m<module>\u001b[0;34m()\u001b[0m\n\u001b[1;32m      1\u001b[0m \u001b[1;32mdel\u001b[0m \u001b[0ms\u001b[0m\u001b[1;33m\u001b[0m\u001b[0m\n\u001b[0;32m----> 2\u001b[0;31m \u001b[1;32massert\u001b[0m \u001b[0mr\u001b[0m\u001b[1;33m(\u001b[0m\u001b[1;33m)\u001b[0m \u001b[1;32mis\u001b[0m \u001b[1;32mnot\u001b[0m  \u001b[1;32mNone\u001b[0m\u001b[1;33m\u001b[0m\u001b[0m\n\u001b[0m",
      "\u001b[0;31mAssertionError\u001b[0m: "
     ]
    }
   ],
   "source": [
    "del s\n",
    "assert r() is not  None"
   ]
  },
  {
   "cell_type": "markdown",
   "metadata": {},
   "source": [
    "## 예제 9-19  :   생성자, 초기화, 호출연산자를 정의한 클래스\n"
   ]
  },
  {
   "cell_type": "code",
   "execution_count": 43,
   "metadata": {
    "collapsed": true
   },
   "outputs": [],
   "source": [
    "class MDPerson(object) :\n",
    "    def __new__(cls,name,major) :\n",
    "        return object.__new__(cls)\n",
    "    \n",
    "    def __init__(self,name, major) :\n",
    "        self.name = name\n",
    "        self.major = major\n",
    "        \n",
    "    @classmethod    \n",
    "    def __call__(cls, name, major) :\n",
    "        print(\" __new__ \")\n",
    "        self = cls.__new__(cls,name,major)\n",
    "        print(\" __init__ \")\n",
    "        self.__init__(name,major)\n",
    "        return self \n"
   ]
  },
  {
   "cell_type": "code",
   "execution_count": 44,
   "metadata": {
    "collapsed": false
   },
   "outputs": [
    {
     "name": "stdout",
     "output_type": "stream",
     "text": [
      "mappingproxy({'__call__': <classmethod object at 0x00000000052BD2E8>,\n",
      "              '__dict__': <attribute '__dict__' of 'MDPerson' objects>,\n",
      "              '__doc__': None,\n",
      "              '__init__': <function MDPerson.__init__ at 0x0000000005292E18>,\n",
      "              '__module__': '__main__',\n",
      "              '__new__': <staticmethod object at 0x00000000052BD358>,\n",
      "              '__weakref__': <attribute '__weakref__' of 'MDPerson' objects>})\n"
     ]
    }
   ],
   "source": [
    "import pprint\n",
    "\n",
    "pprint.pprint(MDPerson.__dict__)"
   ]
  },
  {
   "cell_type": "code",
   "execution_count": 46,
   "metadata": {
    "collapsed": false
   },
   "outputs": [
    {
     "name": "stdout",
     "output_type": "stream",
     "text": [
      " __new__ \n",
      " __init__ \n",
      "<__main__.MDPerson object at 0x00000000052C03C8>\n",
      "이주원\n",
      "quant\n"
     ]
    }
   ],
   "source": [
    "mdp = MDPerson.__call__(\"이주원\",\"quant\")\n",
    "\n",
    "print(mdp)\n",
    "print(mdp.name)\n",
    "print(mdp.major)\n"
   ]
  },
  {
   "cell_type": "code",
   "execution_count": 48,
   "metadata": {
    "collapsed": false
   },
   "outputs": [
    {
     "name": "stdout",
     "output_type": "stream",
     "text": [
      "<__main__.MDPerson object at 0x00000000052C04A8>\n",
      "박주원\n",
      "quant\n"
     ]
    }
   ],
   "source": [
    "mdp = MDPerson(\"박주원\",\"quant\")\n",
    "\n",
    "print(mdp)\n",
    "print(mdp.name)\n",
    "print(mdp.major)"
   ]
  },
  {
   "cell_type": "code",
   "execution_count": 49,
   "metadata": {
    "collapsed": false
   },
   "outputs": [
    {
     "name": "stdout",
     "output_type": "stream",
     "text": [
      "<__main__.MDPerson object at 0x00000000052C0320>\n",
      "최주원\n",
      "quant\n"
     ]
    }
   ],
   "source": [
    "mdp2 = type.__call__(MDPerson,\"최주원\",\"quant\")\n",
    "\n",
    "print(mdp2)\n",
    "print(mdp2.name)\n",
    "print(mdp2.major)"
   ]
  },
  {
   "cell_type": "markdown",
   "metadata": {
    "collapsed": true
   },
   "source": [
    "## 예제 9-20  : 함수의 결과로 인스턴스 생성하기\n"
   ]
  },
  {
   "cell_type": "code",
   "execution_count": 56,
   "metadata": {
    "collapsed": true
   },
   "outputs": [],
   "source": [
    "class Person :\n",
    "    def __init__(self,name,age) :\n",
    "        self.name = name \n",
    "        self.age = age\n",
    "        "
   ]
  },
  {
   "cell_type": "code",
   "execution_count": 57,
   "metadata": {
    "collapsed": true
   },
   "outputs": [],
   "source": [
    "class Employee(Person):\n",
    "    def __init__(self, name, age, depart,salary) :\n",
    "        super().__init__(name,age)\n",
    "        self.depart = depart\n",
    "        self.salary = salary"
   ]
  },
  {
   "cell_type": "code",
   "execution_count": 58,
   "metadata": {
    "collapsed": true
   },
   "outputs": [],
   "source": [
    "class Employer(Person) :\n",
    "    def __init__(self, name, age, salary) :\n",
    "        super().__init__(name,age)\n",
    "        self.salary = salary\n",
    "        "
   ]
  },
  {
   "cell_type": "code",
   "execution_count": 59,
   "metadata": {
    "collapsed": true
   },
   "outputs": [],
   "source": [
    "def employ(name,age, *,depart=None,salary=None) :\n",
    "    if depart is None :\n",
    "        return Employer(name,age,salary=salary)\n",
    "    else :\n",
    "    \n",
    "        if salary == None :\n",
    "            salary = 0\n",
    "            \n",
    "        return Employee(name,age,depart=depart,salary=salary)"
   ]
  },
  {
   "cell_type": "code",
   "execution_count": 60,
   "metadata": {
    "collapsed": false
   },
   "outputs": [
    {
     "name": "stdout",
     "output_type": "stream",
     "text": [
      "<__main__.Employee object at 0x0000000004B7B780>\n",
      "<class '__main__.Employee'>\n"
     ]
    }
   ],
   "source": [
    "e = employ(\"정찬혁\",31,depart=\"빅데이터부\",salary=30000)\n",
    "\n",
    "print(e)\n",
    "print(type(e))"
   ]
  },
  {
   "cell_type": "code",
   "execution_count": 61,
   "metadata": {
    "collapsed": false
   },
   "outputs": [
    {
     "name": "stdout",
     "output_type": "stream",
     "text": [
      "<__main__.Employer object at 0x0000000004B7BEF0>\n",
      "<class '__main__.Employer'>\n"
     ]
    }
   ],
   "source": [
    "e = employ(\"달문\",52,salary=300000)\n",
    "\n",
    "print(e)\n",
    "print(type(e))"
   ]
  },
  {
   "cell_type": "markdown",
   "metadata": {},
   "source": [
    "## 예제 9-21  : __slots__  사용하기 \n"
   ]
  },
  {
   "cell_type": "code",
   "execution_count": 54,
   "metadata": {
    "collapsed": true
   },
   "outputs": [],
   "source": [
    "class Klass :\n",
    "    __slots__ = (\"name\",)\n",
    "    def __init__(self, name,age) :\n",
    "        self.name = name\n",
    "        self.age  = age"
   ]
  },
  {
   "cell_type": "code",
   "execution_count": 55,
   "metadata": {
    "collapsed": false
   },
   "outputs": [
    {
     "ename": "AttributeError",
     "evalue": "'Klass' object has no attribute 'age'",
     "output_type": "error",
     "traceback": [
      "\u001b[0;31m---------------------------------------------------------------------------\u001b[0m",
      "\u001b[0;31mAttributeError\u001b[0m                            Traceback (most recent call last)",
      "\u001b[0;32m<ipython-input-55-7888ea427118>\u001b[0m in \u001b[0;36m<module>\u001b[0;34m()\u001b[0m\n\u001b[0;32m----> 1\u001b[0;31m \u001b[0mk\u001b[0m \u001b[1;33m=\u001b[0m \u001b[0mKlass\u001b[0m\u001b[1;33m(\u001b[0m\u001b[1;34m\"name\"\u001b[0m\u001b[1;33m,\u001b[0m\u001b[1;34m\"age\"\u001b[0m\u001b[1;33m)\u001b[0m\u001b[1;33m\u001b[0m\u001b[0m\n\u001b[0m",
      "\u001b[0;32m<ipython-input-54-60c9f29d33b8>\u001b[0m in \u001b[0;36m__init__\u001b[0;34m(self, name, age)\u001b[0m\n\u001b[1;32m      3\u001b[0m     \u001b[1;32mdef\u001b[0m \u001b[0m__init__\u001b[0m\u001b[1;33m(\u001b[0m\u001b[0mself\u001b[0m\u001b[1;33m,\u001b[0m \u001b[0mname\u001b[0m\u001b[1;33m,\u001b[0m\u001b[0mage\u001b[0m\u001b[1;33m)\u001b[0m \u001b[1;33m:\u001b[0m\u001b[1;33m\u001b[0m\u001b[0m\n\u001b[1;32m      4\u001b[0m         \u001b[0mself\u001b[0m\u001b[1;33m.\u001b[0m\u001b[0mname\u001b[0m \u001b[1;33m=\u001b[0m \u001b[0mname\u001b[0m\u001b[1;33m\u001b[0m\u001b[0m\n\u001b[0;32m----> 5\u001b[0;31m         \u001b[0mself\u001b[0m\u001b[1;33m.\u001b[0m\u001b[0mage\u001b[0m  \u001b[1;33m=\u001b[0m \u001b[0mage\u001b[0m\u001b[1;33m\u001b[0m\u001b[0m\n\u001b[0m",
      "\u001b[0;31mAttributeError\u001b[0m: 'Klass' object has no attribute 'age'"
     ]
    }
   ],
   "source": [
    "k = Klass(\"name\",\"age\")"
   ]
  },
  {
   "cell_type": "code",
   "execution_count": 72,
   "metadata": {
    "collapsed": false
   },
   "outputs": [
    {
     "name": "stdout",
     "output_type": "stream",
     "text": [
      "<__main__.Klass_ object at 0x00000000051ADBB8>\n"
     ]
    }
   ],
   "source": [
    "class Klass_ :\n",
    "    __slots__ = (\"name\",)\n",
    "    def __init__(self, name) :\n",
    "        self.name = name\n",
    "        \n",
    "k = Klass_(\"name\")\n",
    "print(k)"
   ]
  },
  {
   "cell_type": "code",
   "execution_count": 57,
   "metadata": {
    "collapsed": false
   },
   "outputs": [
    {
     "name": "stdout",
     "output_type": "stream",
     "text": [
      "name\n"
     ]
    },
    {
     "ename": "AttributeError",
     "evalue": "'Klass_' object has no attribute '__dict__'",
     "output_type": "error",
     "traceback": [
      "\u001b[0;31m---------------------------------------------------------------------------\u001b[0m",
      "\u001b[0;31mAttributeError\u001b[0m                            Traceback (most recent call last)",
      "\u001b[0;32m<ipython-input-57-4736842b6265>\u001b[0m in \u001b[0;36m<module>\u001b[0;34m()\u001b[0m\n\u001b[1;32m      1\u001b[0m \u001b[0mprint\u001b[0m\u001b[1;33m(\u001b[0m\u001b[0mk\u001b[0m\u001b[1;33m.\u001b[0m\u001b[0mname\u001b[0m\u001b[1;33m)\u001b[0m\u001b[1;33m\u001b[0m\u001b[0m\n\u001b[0;32m----> 2\u001b[0;31m \u001b[0mprint\u001b[0m\u001b[1;33m(\u001b[0m\u001b[0mk\u001b[0m\u001b[1;33m.\u001b[0m\u001b[0m__dict__\u001b[0m\u001b[1;33m)\u001b[0m\u001b[1;33m\u001b[0m\u001b[0m\n\u001b[0m",
      "\u001b[0;31mAttributeError\u001b[0m: 'Klass_' object has no attribute '__dict__'"
     ]
    }
   ],
   "source": [
    "print(k.name)\n",
    "print(k.__dict__)"
   ]
  },
  {
   "cell_type": "code",
   "execution_count": 60,
   "metadata": {
    "collapsed": false
   },
   "outputs": [
    {
     "name": "stdout",
     "output_type": "stream",
     "text": [
      "mappingproxy({'__doc__': None,\n",
      "              '__init__': <function Klass_.__init__ at 0x0000000005292F28>,\n",
      "              '__module__': '__main__',\n",
      "              '__slots__': ('name',),\n",
      "              'name': <member 'name' of 'Klass_' objects>})\n"
     ]
    }
   ],
   "source": [
    "import pprint\n",
    "\n",
    "pprint.pprint(Klass_.__dict__)"
   ]
  },
  {
   "cell_type": "code",
   "execution_count": 61,
   "metadata": {
    "collapsed": false
   },
   "outputs": [
    {
     "name": "stdout",
     "output_type": "stream",
     "text": [
      "('name',)\n",
      "<member 'name' of 'Klass_' objects>\n"
     ]
    }
   ],
   "source": [
    "print(Klass_.__slots__)\n",
    "print(Klass_.__dict__[Klass.__slots__[0]])"
   ]
  },
  {
   "cell_type": "code",
   "execution_count": 62,
   "metadata": {
    "collapsed": false
   },
   "outputs": [
    {
     "name": "stdout",
     "output_type": "stream",
     "text": [
      "<class 'member_descriptor'>\n"
     ]
    }
   ],
   "source": [
    "print(type(Klass_.name))"
   ]
  },
  {
   "cell_type": "code",
   "execution_count": 73,
   "metadata": {
    "collapsed": false
   },
   "outputs": [
    {
     "name": "stdout",
     "output_type": "stream",
     "text": [
      "name\n",
      "가을이\n"
     ]
    }
   ],
   "source": [
    "print(k.name)\n",
    "k.name = \"가을이\" \n",
    "print(k.name)"
   ]
  },
  {
   "cell_type": "code",
   "execution_count": 77,
   "metadata": {
    "collapsed": true
   },
   "outputs": [],
   "source": [
    "Klass_.age = 100"
   ]
  },
  {
   "cell_type": "code",
   "execution_count": 68,
   "metadata": {
    "collapsed": false
   },
   "outputs": [
    {
     "data": {
      "text/plain": [
       "100"
      ]
     },
     "execution_count": 68,
     "metadata": {},
     "output_type": "execute_result"
    }
   ],
   "source": [
    "k.age"
   ]
  },
  {
   "cell_type": "code",
   "execution_count": 76,
   "metadata": {
    "collapsed": false
   },
   "outputs": [
    {
     "ename": "AttributeError",
     "evalue": "'Klass_' object attribute 'age' is read-only",
     "output_type": "error",
     "traceback": [
      "\u001b[0;31m---------------------------------------------------------------------------\u001b[0m",
      "\u001b[0;31mAttributeError\u001b[0m                            Traceback (most recent call last)",
      "\u001b[0;32m<ipython-input-76-76a2575e7959>\u001b[0m in \u001b[0;36m<module>\u001b[0;34m()\u001b[0m\n\u001b[0;32m----> 1\u001b[0;31m \u001b[0mk\u001b[0m\u001b[1;33m.\u001b[0m\u001b[0mage\u001b[0m \u001b[1;33m=\u001b[0m \u001b[1;36m100\u001b[0m\u001b[1;33m\u001b[0m\u001b[0m\n\u001b[0m",
      "\u001b[0;31mAttributeError\u001b[0m: 'Klass_' object attribute 'age' is read-only"
     ]
    }
   ],
   "source": [
    "k.age = 100"
   ]
  },
  {
   "cell_type": "markdown",
   "metadata": {},
   "source": [
    "## 예제 9-22  : 관행적으로 __dict__ 속성 조회 로직이 있을 경우 \n"
   ]
  },
  {
   "cell_type": "code",
   "execution_count": 73,
   "metadata": {
    "collapsed": true
   },
   "outputs": [],
   "source": [
    "class MyClass :\n",
    "    __slots__ = ['x','y','__dict__']\n",
    "    \n",
    "    def __init__(self,x,y) :\n",
    "        self.x = x\n",
    "        self.y = y\n",
    "        self.__dict__ = {}\n",
    "        "
   ]
  },
  {
   "cell_type": "code",
   "execution_count": 74,
   "metadata": {
    "collapsed": false
   },
   "outputs": [
    {
     "name": "stdout",
     "output_type": "stream",
     "text": [
      "5 5\n",
      "{}\n"
     ]
    }
   ],
   "source": [
    "m = MyClass(5,5)\n",
    "print(m.x, m.y)\n",
    "print(m.__dict__)"
   ]
  },
  {
   "cell_type": "code",
   "execution_count": 75,
   "metadata": {
    "collapsed": false
   },
   "outputs": [
    {
     "name": "stdout",
     "output_type": "stream",
     "text": [
      "100\n"
     ]
    }
   ],
   "source": [
    "m.__dict__['a'] = 100\n",
    "\n",
    "print(m.a)"
   ]
  },
  {
   "cell_type": "code",
   "execution_count": 76,
   "metadata": {
    "collapsed": false
   },
   "outputs": [
    {
     "name": "stdout",
     "output_type": "stream",
     "text": [
      "{'a': 100, 'b': 100}\n"
     ]
    }
   ],
   "source": [
    "m.b = 100\n",
    "\n",
    "print(m.__dict__)"
   ]
  },
  {
   "cell_type": "code",
   "execution_count": 77,
   "metadata": {
    "collapsed": false
   },
   "outputs": [
    {
     "name": "stdout",
     "output_type": "stream",
     "text": [
      "<class '__main__.MyClass'> ['x', 'y', '__dict__']\n"
     ]
    }
   ],
   "source": [
    "print(type(m), m.__slots__)"
   ]
  },
  {
   "cell_type": "markdown",
   "metadata": {},
   "source": [
    "## 예제 9-23  :  초기화 처리할 때 속성을 접근  "
   ]
  },
  {
   "cell_type": "code",
   "execution_count": 78,
   "metadata": {
    "collapsed": true
   },
   "outputs": [],
   "source": [
    "class Person :\n",
    "    \n",
    "    def __init__(self, name, age) :\n",
    "        self.name = name\n",
    "        self.age  = age\n",
    "        \n",
    "    def __setattr__(self, name, value) :\n",
    "        print(\" __setattr__ \", name)\n",
    "        self.__dict__[name] = value\n"
   ]
  },
  {
   "cell_type": "code",
   "execution_count": 79,
   "metadata": {
    "collapsed": false
   },
   "outputs": [
    {
     "name": "stdout",
     "output_type": "stream",
     "text": [
      " __setattr__  name\n",
      " __setattr__  age\n"
     ]
    }
   ],
   "source": [
    "p = Person(\"사람\", 50) \n"
   ]
  },
  {
   "cell_type": "markdown",
   "metadata": {},
   "source": [
    "## 예제 9-24  :  __getattribute__를 이용해서 클래스 내부 검색\n"
   ]
  },
  {
   "cell_type": "code",
   "execution_count": 18,
   "metadata": {
    "collapsed": true
   },
   "outputs": [],
   "source": [
    "class Person :\n",
    "    \n",
    "    job = \"즐기기\"\n",
    "    \n",
    "    def __init__(self, name, age) :\n",
    "        self.name = name\n",
    "        self.age  = age\n",
    "        \n",
    "    def __getattribute__(self, name) :\n",
    "        print(\" attribute name \", name)\n",
    "        return super().__getattribute__(name)\n",
    "    \n",
    "    def __getattr__(self, name) :\n",
    "        print(\" attr name \", name)\n",
    "        return Person.__dict__[name]\n"
   ]
  },
  {
   "cell_type": "code",
   "execution_count": 19,
   "metadata": {
    "collapsed": false
   },
   "outputs": [
    {
     "name": "stdout",
     "output_type": "stream",
     "text": [
      " attribute name  name\n",
      "긍정\n"
     ]
    }
   ],
   "source": [
    "p = Person(\"긍정\",55)\n",
    "print(p.name)"
   ]
  },
  {
   "cell_type": "code",
   "execution_count": 20,
   "metadata": {
    "collapsed": false
   },
   "outputs": [
    {
     "name": "stdout",
     "output_type": "stream",
     "text": [
      " attribute name  job\n"
     ]
    },
    {
     "data": {
      "text/plain": [
       "'즐기기'"
      ]
     },
     "execution_count": 20,
     "metadata": {},
     "output_type": "execute_result"
    }
   ],
   "source": [
    "p.job"
   ]
  },
  {
   "cell_type": "code",
   "execution_count": 21,
   "metadata": {
    "collapsed": false
   },
   "outputs": [
    {
     "name": "stdout",
     "output_type": "stream",
     "text": [
      " attribute name  __getattr__\n",
      " attr name  job\n"
     ]
    },
    {
     "data": {
      "text/plain": [
       "'즐기기'"
      ]
     },
     "execution_count": 21,
     "metadata": {},
     "output_type": "execute_result"
    }
   ],
   "source": [
    "p.__getattr__('job')"
   ]
  },
  {
   "cell_type": "markdown",
   "metadata": {},
   "source": [
    "## 예제 9-25  :  attrgetter를 이용해서 속성 접근\n"
   ]
  },
  {
   "cell_type": "code",
   "execution_count": 79,
   "metadata": {
    "collapsed": true
   },
   "outputs": [],
   "source": [
    "class Person :\n",
    "    \n",
    "    job = \"즐기기\"\n",
    "    \n",
    "    def __init__(self, name, age) :\n",
    "        self.name = name\n",
    "        self.age  = age\n",
    "        "
   ]
  },
  {
   "cell_type": "code",
   "execution_count": 80,
   "metadata": {
    "collapsed": true
   },
   "outputs": [],
   "source": [
    "p = Person(\"가을이\",10)"
   ]
  },
  {
   "cell_type": "code",
   "execution_count": 81,
   "metadata": {
    "collapsed": false
   },
   "outputs": [
    {
     "name": "stdout",
     "output_type": "stream",
     "text": [
      "operator.attrgetter('name', 'age', 'job')\n",
      "('가을이', 10, '즐기기')\n"
     ]
    }
   ],
   "source": [
    "import operator\n",
    "\n",
    "getname = operator.attrgetter(\"name\",\"age\",\"job\")\n",
    "\n",
    "print(getname)\n",
    "print(getname(p))"
   ]
  },
  {
   "cell_type": "markdown",
   "metadata": {},
   "source": [
    "## 예제 9-26  :  인스턴스 메소드 정의하기\n",
    "\n"
   ]
  },
  {
   "cell_type": "code",
   "execution_count": 84,
   "metadata": {
    "collapsed": true
   },
   "outputs": [],
   "source": [
    "class Klass_ins :\n",
    "    def set(self,name,value) :\n",
    "        setattr(self,name,value)"
   ]
  },
  {
   "cell_type": "code",
   "execution_count": 85,
   "metadata": {
    "collapsed": false
   },
   "outputs": [
    {
     "name": "stdout",
     "output_type": "stream",
     "text": [
      "<__main__.Klass_ins object at 0x00000000052C6D68>\n",
      "True\n"
     ]
    }
   ],
   "source": [
    "ki = Klass_ins()\n",
    "print(ki)\n",
    "print(isinstance(ki, Klass_ins))"
   ]
  },
  {
   "cell_type": "code",
   "execution_count": 91,
   "metadata": {
    "collapsed": false
   },
   "outputs": [
    {
     "name": "stdout",
     "output_type": "stream",
     "text": [
      "False\n",
      "True\n",
      "True\n"
     ]
    }
   ],
   "source": [
    "import types\n",
    "\n",
    "kj = Klass_ins()\n",
    "\n",
    "print(kj.set is ki.set)\n",
    "print(type(ki.set) == types.MethodType)\n",
    "print(type(kj.set) == types.MethodType)"
   ]
  },
  {
   "cell_type": "code",
   "execution_count": 95,
   "metadata": {
    "collapsed": false
   },
   "outputs": [
    {
     "name": "stdout",
     "output_type": "stream",
     "text": [
      "<function Klass_ins.set at 0x0000000005180730>\n",
      "<function Klass_ins.set at 0x0000000005180730>\n",
      "<function Klass_ins.set at 0x0000000005180730>\n"
     ]
    }
   ],
   "source": [
    "print(ki.set.__func__)\n",
    "print(kj.set.__func__)\n",
    "print(Klass_ins.set)"
   ]
  },
  {
   "cell_type": "code",
   "execution_count": 29,
   "metadata": {
    "collapsed": false
   },
   "outputs": [
    {
     "name": "stdout",
     "output_type": "stream",
     "text": [
      "{'name': '강감찬', 'age': 45}\n"
     ]
    }
   ],
   "source": [
    "ki.set(\"name\",\"강감찬\")\n",
    "ki.set(\"age\",45)\n",
    "\n",
    "print(ki.__dict__)"
   ]
  },
  {
   "cell_type": "markdown",
   "metadata": {},
   "source": [
    "## 예제 9-27  :  클래스 메소드 정의하기\n"
   ]
  },
  {
   "cell_type": "code",
   "execution_count": 31,
   "metadata": {
    "collapsed": false
   },
   "outputs": [
    {
     "name": "stdout",
     "output_type": "stream",
     "text": [
      "<class 'classmethod'>\n"
     ]
    }
   ],
   "source": [
    "print(classmethod)"
   ]
  },
  {
   "cell_type": "code",
   "execution_count": 35,
   "metadata": {
    "collapsed": false
   },
   "outputs": [
    {
     "name": "stdout",
     "output_type": "stream",
     "text": [
      "['__get__',\n",
      " '__init__',\n",
      " '__new__',\n",
      " '__func__',\n",
      " '__isabstractmethod__',\n",
      " '__dict__',\n",
      " '__doc__']\n"
     ]
    }
   ],
   "source": [
    "import pprint\n",
    "\n",
    "pprint.pprint(list(classmethod.__dict__))"
   ]
  },
  {
   "cell_type": "code",
   "execution_count": 96,
   "metadata": {
    "collapsed": true
   },
   "outputs": [],
   "source": [
    "class Klass_cls :\n",
    "    @classmethod\n",
    "    def set(cls,name,value) :\n",
    "        setattr(cls,name,value)"
   ]
  },
  {
   "cell_type": "code",
   "execution_count": 97,
   "metadata": {
    "collapsed": true
   },
   "outputs": [],
   "source": [
    "Klass_cls.set(\"name\",\"클래스\")\n",
    "Klass_cls.set(\"age\",50)"
   ]
  },
  {
   "cell_type": "code",
   "execution_count": 98,
   "metadata": {
    "collapsed": false
   },
   "outputs": [
    {
     "name": "stdout",
     "output_type": "stream",
     "text": [
      "mappingproxy({'__dict__': <attribute '__dict__' of 'Klass_cls' objects>,\n",
      "              '__doc__': None,\n",
      "              '__module__': '__main__',\n",
      "              '__weakref__': <attribute '__weakref__' of 'Klass_cls' objects>,\n",
      "              'age': 50,\n",
      "              'name': '클래스',\n",
      "              'set': <classmethod object at 0x00000000052F5438>})\n"
     ]
    }
   ],
   "source": [
    "import pprint\n",
    "\n",
    "pprint.pprint(Klass_cls.__dict__)"
   ]
  },
  {
   "cell_type": "code",
   "execution_count": 100,
   "metadata": {
    "collapsed": true
   },
   "outputs": [],
   "source": [
    "class Person :\n",
    "    name = \"\"\n",
    "    age = 0\n",
    "    \n",
    "    @classmethod\n",
    "    def set(cls,name,value) :\n",
    "        setattr(cls,name,value)\n",
    "        \n",
    "    @classmethod\n",
    "    def get(cls) :\n",
    "        return cls.name, cls.age\n",
    "    "
   ]
  },
  {
   "cell_type": "code",
   "execution_count": 101,
   "metadata": {
    "collapsed": false
   },
   "outputs": [
    {
     "name": "stdout",
     "output_type": "stream",
     "text": [
      "('클래스', 50)\n"
     ]
    }
   ],
   "source": [
    "Person.set(\"name\",\"클래스\")\n",
    "Person.set(\"age\",50)\n",
    "\n",
    "print(Person.get())"
   ]
  },
  {
   "cell_type": "code",
   "execution_count": 102,
   "metadata": {
    "collapsed": false
   },
   "outputs": [
    {
     "name": "stdout",
     "output_type": "stream",
     "text": [
      "('클래스', 50)\n",
      "클래스\n"
     ]
    }
   ],
   "source": [
    "p = Person() \n",
    "print(p.get())\n",
    "print(p.name)"
   ]
  },
  {
   "cell_type": "code",
   "execution_count": 103,
   "metadata": {
    "collapsed": false
   },
   "outputs": [
    {
     "name": "stdout",
     "output_type": "stream",
     "text": [
      "('클래스', 50)\n",
      "가을이\n",
      "{'name': '가을이', 'age': 55}\n"
     ]
    }
   ],
   "source": [
    "c = Person() \n",
    "c.name = \"가을이\"\n",
    "c.age = 55\n",
    "print(c.get())\n",
    "print(c.name)\n",
    "print(c.__dict__)"
   ]
  },
  {
   "cell_type": "code",
   "execution_count": 104,
   "metadata": {
    "collapsed": false
   },
   "outputs": [
    {
     "name": "stdout",
     "output_type": "stream",
     "text": [
      "클래스\n",
      "50\n"
     ]
    }
   ],
   "source": [
    "print(Person.name)\n",
    "print(Person.age)"
   ]
  },
  {
   "cell_type": "code",
   "execution_count": 117,
   "metadata": {
    "collapsed": false
   },
   "outputs": [
    {
     "name": "stdout",
     "output_type": "stream",
     "text": [
      "True\n",
      "True\n"
     ]
    }
   ],
   "source": [
    "import types\n",
    "\n",
    "print(type(Person.set) == types.MethodType)\n",
    "print(type(c.set) == types.MethodType)"
   ]
  },
  {
   "cell_type": "code",
   "execution_count": 36,
   "metadata": {
    "collapsed": true
   },
   "outputs": [],
   "source": [
    "class KlassMethod :\n",
    "    \n",
    "    def set(cls,name,value) :\n",
    "        setattr(cls,name,value)\n",
    "    set = classmethod(set)\n",
    "    "
   ]
  },
  {
   "cell_type": "code",
   "execution_count": 38,
   "metadata": {
    "collapsed": false
   },
   "outputs": [
    {
     "name": "stdout",
     "output_type": "stream",
     "text": [
      "<bound method KlassMethod.set of <class '__main__.KlassMethod'>>\n",
      "클래스 메소드\n"
     ]
    }
   ],
   "source": [
    "KlassMethod.set(\"name\",\"클래스 메소드\")\n",
    "\n",
    "print(KlassMethod.set)\n",
    "print(KlassMethod.name)"
   ]
  },
  {
   "cell_type": "markdown",
   "metadata": {},
   "source": [
    "## 예제 9-28  :  정적 메소드 정의하기\n"
   ]
  },
  {
   "cell_type": "code",
   "execution_count": 39,
   "metadata": {
    "collapsed": false
   },
   "outputs": [
    {
     "name": "stdout",
     "output_type": "stream",
     "text": [
      "['__get__',\n",
      " '__init__',\n",
      " '__new__',\n",
      " '__func__',\n",
      " '__isabstractmethod__',\n",
      " '__dict__',\n",
      " '__doc__']\n"
     ]
    }
   ],
   "source": [
    "import pprint\n",
    "\n",
    "pprint.pprint(list(staticmethod.__dict__))"
   ]
  },
  {
   "cell_type": "code",
   "execution_count": 108,
   "metadata": {
    "collapsed": true
   },
   "outputs": [],
   "source": [
    "class Klass_st :\n",
    "    name = \"\"\n",
    "    age = 0\n",
    "    def __init__(self,name,age) :\n",
    "        self.name = name\n",
    "        self.age = age\n",
    "        \n",
    "    @classmethod\n",
    "    def set(cls,name,value) :\n",
    "        setattr(cls,name,value)\n",
    "        \n",
    "    @staticmethod\n",
    "    def get(obj) :\n",
    "        return obj.name, obj.age"
   ]
  },
  {
   "cell_type": "code",
   "execution_count": 109,
   "metadata": {
    "collapsed": false
   },
   "outputs": [
    {
     "name": "stdout",
     "output_type": "stream",
     "text": [
      "mappingproxy({'__dict__': <attribute '__dict__' of 'Klass_st' objects>,\n",
      "              '__doc__': None,\n",
      "              '__init__': <function Klass_st.__init__ at 0x00000000052EBE18>,\n",
      "              '__module__': '__main__',\n",
      "              '__weakref__': <attribute '__weakref__' of 'Klass_st' objects>,\n",
      "              'age': 0,\n",
      "              'get': <staticmethod object at 0x0000000005301518>,\n",
      "              'name': '',\n",
      "              'set': <classmethod object at 0x00000000053014A8>})\n"
     ]
    }
   ],
   "source": [
    "import pprint\n",
    "\n",
    "pprint.pprint(Klass_st.__dict__)"
   ]
  },
  {
   "cell_type": "code",
   "execution_count": 110,
   "metadata": {
    "collapsed": true
   },
   "outputs": [],
   "source": [
    "c = Klass_st(\"인스턴스\",50)\n",
    "\n",
    "Klass_st.set(\"name\",\"클래스\")\n",
    "Klass_st.set(\"age\",55)"
   ]
  },
  {
   "cell_type": "code",
   "execution_count": 111,
   "metadata": {
    "collapsed": false
   },
   "outputs": [
    {
     "name": "stdout",
     "output_type": "stream",
     "text": [
      "('인스턴스', 50)\n",
      "('클래스', 55)\n"
     ]
    }
   ],
   "source": [
    "print(c.get(c))\n",
    "print(Klass_st.get(Klass_st))"
   ]
  },
  {
   "cell_type": "code",
   "execution_count": 116,
   "metadata": {
    "collapsed": false
   },
   "outputs": [
    {
     "name": "stdout",
     "output_type": "stream",
     "text": [
      "True\n",
      "True\n"
     ]
    }
   ],
   "source": [
    "import types\n",
    "\n",
    "print(type(Klass_st.set) == types.MethodType)\n",
    "print(type(c.set) == types.MethodType)"
   ]
  },
  {
   "cell_type": "code",
   "execution_count": 40,
   "metadata": {
    "collapsed": true
   },
   "outputs": [],
   "source": [
    "class KlassMethod :\n",
    "    \n",
    "    def set(cls,name, value) :\n",
    "        setattr(cls,name,value)\n",
    "        \n",
    "    set = staticmethod(set)"
   ]
  },
  {
   "cell_type": "code",
   "execution_count": 42,
   "metadata": {
    "collapsed": false
   },
   "outputs": [
    {
     "name": "stdout",
     "output_type": "stream",
     "text": [
      "<function KlassMethod.set at 0x10955af28>\n",
      "정적 메소드\n"
     ]
    }
   ],
   "source": [
    "KlassMethod.set(KlassMethod,\"name\",\"정적 메소드\")\n",
    "\n",
    "print(KlassMethod.set)\n",
    "print(KlassMethod.name)"
   ]
  },
  {
   "cell_type": "markdown",
   "metadata": {},
   "source": [
    "## 예제 9-29  :  인스턴스 메소드 self 알아보기\n"
   ]
  },
  {
   "cell_type": "code",
   "execution_count": 119,
   "metadata": {
    "collapsed": true
   },
   "outputs": [],
   "source": [
    "class InsKlass :\n",
    "    def __init__(self,name) :\n",
    "        self.name = name \n",
    "        \n",
    "    def getname(self) :\n",
    "        return self.name"
   ]
  },
  {
   "cell_type": "code",
   "execution_count": 120,
   "metadata": {
    "collapsed": false
   },
   "outputs": [
    {
     "name": "stdout",
     "output_type": "stream",
     "text": [
      "<function InsKlass.getname at 0x00000000052EBB70>\n",
      "<bound method InsKlass.getname of <__main__.InsKlass object at 0x00000000052C6C88>>\n"
     ]
    }
   ],
   "source": [
    "print(InsKlass.getname)\n",
    "\n",
    "ins = InsKlass(\"인스턴스\") \n",
    "print(ins.getname)"
   ]
  },
  {
   "cell_type": "code",
   "execution_count": 121,
   "metadata": {
    "collapsed": false
   },
   "outputs": [
    {
     "name": "stdout",
     "output_type": "stream",
     "text": [
      "{'__func__', '__self__'}\n"
     ]
    }
   ],
   "source": [
    "s = set(dir(InsKlass.getname))\n",
    "\n",
    "i = set(dir(ins.getname))\n",
    "\n",
    "print(i - s)"
   ]
  },
  {
   "cell_type": "code",
   "execution_count": 122,
   "metadata": {
    "collapsed": false
   },
   "outputs": [
    {
     "name": "stdout",
     "output_type": "stream",
     "text": [
      "<__main__.InsKlass object at 0x00000000052C6C88>\n",
      "<__main__.InsKlass object at 0x00000000052C6C88>\n",
      "<function InsKlass.getname at 0x00000000052EBB70>\n",
      "<function InsKlass.getname at 0x00000000052EBB70>\n"
     ]
    }
   ],
   "source": [
    "print(ins)\n",
    "print(ins.getname.__self__)\n",
    "print(InsKlass.getname)\n",
    "print(ins.getname.__func__)"
   ]
  },
  {
   "cell_type": "markdown",
   "metadata": {},
   "source": [
    "## 예제 9-30  :  클래스 메소드 cls 알아보기"
   ]
  },
  {
   "cell_type": "code",
   "execution_count": 123,
   "metadata": {
    "collapsed": true
   },
   "outputs": [],
   "source": [
    "class ClsKlass :\n",
    "    name = \"클래스\"\n",
    "    def __init__(self,name) :\n",
    "        self.name = name \n",
    "    @classmethod   \n",
    "    def getname(cls) :\n",
    "        return cls.name"
   ]
  },
  {
   "cell_type": "code",
   "execution_count": 124,
   "metadata": {
    "collapsed": false
   },
   "outputs": [
    {
     "name": "stdout",
     "output_type": "stream",
     "text": [
      "<bound method ClsKlass.getname of <class '__main__.ClsKlass'>>\n"
     ]
    }
   ],
   "source": [
    "a = ClsKlass(\"인스턴스\")\n",
    "\n",
    "print(ClsKlass.getname)"
   ]
  },
  {
   "cell_type": "code",
   "execution_count": 125,
   "metadata": {
    "collapsed": false
   },
   "outputs": [
    {
     "name": "stdout",
     "output_type": "stream",
     "text": [
      "{'__func__', '__self__'}\n"
     ]
    }
   ],
   "source": [
    "s = set(dir(ClsKlass.__init__))\n",
    "\n",
    "c = set(dir(ClsKlass.getname))\n",
    "\n",
    "print(c-s)\n"
   ]
  },
  {
   "cell_type": "code",
   "execution_count": 128,
   "metadata": {
    "collapsed": false
   },
   "outputs": [
    {
     "name": "stdout",
     "output_type": "stream",
     "text": [
      "<class '__main__.ClsKlass'>\n",
      "<class '__main__.ClsKlass'>\n",
      "85882888\n",
      "86664328\n"
     ]
    }
   ],
   "source": [
    "print(ClsKlass)\n",
    "print(ClsKlass.getname.__self__)\n",
    "print(id(ClsKlass.getname))\n",
    "print(id(ClsKlass.getname.__func__))"
   ]
  },
  {
   "cell_type": "markdown",
   "metadata": {},
   "source": [
    "## 예제 9-31  :  self 변수를 미지정해서 인스턴스 메소드 알아보기\n"
   ]
  },
  {
   "cell_type": "code",
   "execution_count": 95,
   "metadata": {
    "collapsed": true
   },
   "outputs": [],
   "source": [
    "class Self :\n",
    "    attr = (\"name\",\"age\")\n",
    "    def __init__(*args) :\n",
    "        print(\"__self__ argument \",args[0])\n",
    "        print(\"__self__ attribute \",args[0].__init__.__self__)\n",
    "        \n",
    "        for i in range(1,len(args)) :\n",
    "            args[0].__dict__[Self.attr[i-1]] = args[i]\n",
    "            \n",
    "    def get(*args) :\n",
    "        print(\"__self__ attribute \",args[0].get.__self__)\n",
    "        return args[0].name, args[0].age\n",
    "       "
   ]
  },
  {
   "cell_type": "code",
   "execution_count": 96,
   "metadata": {
    "collapsed": false
   },
   "outputs": [
    {
     "name": "stdout",
     "output_type": "stream",
     "text": [
      "__self__ argument  <__main__.Self object at 0x00000000050500F0>\n",
      "__self__ attribute  <__main__.Self object at 0x00000000050500F0>\n",
      "{'name': 'Dahl', 'age': 22}\n",
      "<__main__.Self object at 0x00000000050500F0>\n"
     ]
    }
   ],
   "source": [
    "s = Self(\"Dahl\",22)\n",
    "print(s.__dict__)\n",
    "print(s)"
   ]
  },
  {
   "cell_type": "code",
   "execution_count": 97,
   "metadata": {
    "collapsed": false
   },
   "outputs": [
    {
     "name": "stdout",
     "output_type": "stream",
     "text": [
      "__self__ attribute  <__main__.Self object at 0x00000000050500F0>\n",
      "('Dahl', 22)\n"
     ]
    }
   ],
   "source": [
    "print(s.get())"
   ]
  },
  {
   "cell_type": "code",
   "execution_count": 98,
   "metadata": {
    "collapsed": true
   },
   "outputs": [],
   "source": [
    "class Self_ :\n",
    "    \n",
    "    def __init__(self,name,age) :\n",
    "        self.name = name\n",
    "        self.age =  age\n",
    "            \n",
    "    def get(self) :\n",
    "       \n",
    "        return self.name, self.age"
   ]
  },
  {
   "cell_type": "code",
   "execution_count": 100,
   "metadata": {
    "collapsed": false
   },
   "outputs": [
    {
     "name": "stdout",
     "output_type": "stream",
     "text": [
      "{'name': 'Dahl', 'age': 22}\n",
      "<__main__.Self_ object at 0x0000000004F88940>\n",
      "('Dahl', 22)\n"
     ]
    }
   ],
   "source": [
    "s = Self_(\"Dahl\",22)\n",
    "print(s.__dict__)\n",
    "print(s)\n",
    "print(s.get())"
   ]
  },
  {
   "cell_type": "markdown",
   "metadata": {},
   "source": [
    "## 예제 9-32  : 외부 함수를 정의하고 클래스 내부에 할당하기\n"
   ]
  },
  {
   "cell_type": "code",
   "execution_count": 129,
   "metadata": {
    "collapsed": true
   },
   "outputs": [],
   "source": [
    "def getname(self) :\n",
    "    return self.name\n",
    "\n",
    "def getage(self) :\n",
    "    return self.age   "
   ]
  },
  {
   "cell_type": "code",
   "execution_count": 130,
   "metadata": {
    "collapsed": true
   },
   "outputs": [],
   "source": [
    "class Person :\n",
    "    def __init__(self,name,age) :\n",
    "        self.name = name\n",
    "        self.age  = age\n",
    "        \n",
    "    getname = getname\n",
    "    getage  = getage"
   ]
  },
  {
   "cell_type": "code",
   "execution_count": 131,
   "metadata": {
    "collapsed": false
   },
   "outputs": [
    {
     "name": "stdout",
     "output_type": "stream",
     "text": [
      "mappingproxy({'__dict__': <attribute '__dict__' of 'Person' objects>,\n",
      "              '__doc__': None,\n",
      "              '__init__': <function Person.__init__ at 0x00000000052F97B8>,\n",
      "              '__module__': '__main__',\n",
      "              '__weakref__': <attribute '__weakref__' of 'Person' objects>,\n",
      "              'getage': <function getage at 0x00000000052F92F0>,\n",
      "              'getname': <function getname at 0x00000000052F91E0>})\n"
     ]
    }
   ],
   "source": [
    "import pprint\n",
    "\n",
    "pprint.pprint(Person.__dict__)"
   ]
  },
  {
   "cell_type": "code",
   "execution_count": 104,
   "metadata": {
    "collapsed": false
   },
   "outputs": [
    {
     "name": "stdout",
     "output_type": "stream",
     "text": [
      "함수\n",
      "함수\n",
      "44\n",
      "44\n"
     ]
    }
   ],
   "source": [
    "p = Person(\"함수\",44)\n",
    "\n",
    "print(p.getname())\n",
    "print(getname(p))\n",
    "print(p.getage())\n",
    "print(getage(p))"
   ]
  },
  {
   "cell_type": "code",
   "execution_count": 106,
   "metadata": {
    "collapsed": false
   },
   "outputs": [
    {
     "name": "stdout",
     "output_type": "stream",
     "text": [
      "<bound method getname of <__main__.Person object at 0x0000000005042860>>\n",
      "<function getname at 0x000000000501EBF8>\n",
      "True\n",
      "<bound method getage of <__main__.Person object at 0x0000000005042860>>\n",
      "<function getage at 0x000000000501E9D8>\n",
      "True\n"
     ]
    }
   ],
   "source": [
    "print(p.getname)\n",
    "print(getname)\n",
    "print(p.getname.__func__ is getname)\n",
    "print(p.getage)\n",
    "print(getage)\n",
    "print(p.getage.__func__ is getage)"
   ]
  },
  {
   "cell_type": "code",
   "execution_count": 44,
   "metadata": {
    "collapsed": true
   },
   "outputs": [],
   "source": [
    "def get(cls) :\n",
    "    return cls.name\n"
   ]
  },
  {
   "cell_type": "code",
   "execution_count": 45,
   "metadata": {
    "collapsed": true
   },
   "outputs": [],
   "source": [
    "class Klass_get :\n",
    "    name = \"Klass_get\"\n",
    "    get = classmethod(get)"
   ]
  },
  {
   "cell_type": "code",
   "execution_count": 46,
   "metadata": {
    "collapsed": false
   },
   "outputs": [
    {
     "name": "stdout",
     "output_type": "stream",
     "text": [
      "Klass_get\n"
     ]
    }
   ],
   "source": [
    "print(Klass_get.get())"
   ]
  },
  {
   "cell_type": "markdown",
   "metadata": {},
   "source": [
    "## 예제 9-33  : __init__ 를 함수로 정의하고 클래스 내에 할당할 경우\n"
   ]
  },
  {
   "cell_type": "code",
   "execution_count": 132,
   "metadata": {
    "collapsed": true
   },
   "outputs": [],
   "source": [
    "def __init__(self,name,age) :\n",
    "    self.name = name\n",
    "    self.age  = age"
   ]
  },
  {
   "cell_type": "code",
   "execution_count": 133,
   "metadata": {
    "collapsed": true
   },
   "outputs": [],
   "source": [
    "class Person :\n",
    "    __init__ = __init__"
   ]
  },
  {
   "cell_type": "code",
   "execution_count": 108,
   "metadata": {
    "collapsed": false
   },
   "outputs": [
    {
     "name": "stdout",
     "output_type": "stream",
     "text": [
      "{'name': 'DahlMoon', 'age': 22}\n"
     ]
    }
   ],
   "source": [
    "p = Person(\"DahlMoon\",22)\n",
    "print(p.__dict__)"
   ]
  },
  {
   "cell_type": "code",
   "execution_count": 110,
   "metadata": {
    "collapsed": false
   },
   "outputs": [
    {
     "name": "stdout",
     "output_type": "stream",
     "text": [
      "<function __init__ at 0x000000000500F598>\n",
      "<function __init__ at 0x000000000500F598>\n"
     ]
    }
   ],
   "source": [
    "print(p.__init__.__func__)\n",
    "print(__init__)"
   ]
  },
  {
   "cell_type": "markdown",
   "metadata": {},
   "source": [
    "## 예제 9-34  : Method Chain 처리\n"
   ]
  },
  {
   "cell_type": "code",
   "execution_count": 111,
   "metadata": {
    "collapsed": true
   },
   "outputs": [],
   "source": [
    "class MethodChain :\n",
    "    def __init__(self, content) :\n",
    "        self.content = content\n",
    "        \n",
    "    def intent(self,space) :\n",
    "        self.content = \" \"*space + self.content\n",
    "        return self\n",
    "    \n",
    "    def suffix(self,content) :\n",
    "        self.content = self.content + \"-\" + content\n",
    "        return self\n",
    "    "
   ]
  },
  {
   "cell_type": "code",
   "execution_count": 112,
   "metadata": {
    "collapsed": false
   },
   "outputs": [
    {
     "name": "stdout",
     "output_type": "stream",
     "text": [
      "     하늘과별과 시-윤동주\n"
     ]
    }
   ],
   "source": [
    "m = MethodChain(\"하늘과별과 시\").intent(5).suffix(\"윤동주\").content\n",
    "\n",
    "print(m)"
   ]
  },
  {
   "cell_type": "markdown",
   "metadata": {},
   "source": [
    "## 예제 9-35  :  보호된 이름 사용\n"
   ]
  },
  {
   "cell_type": "code",
   "execution_count": 117,
   "metadata": {
    "collapsed": true
   },
   "outputs": [],
   "source": [
    "class Protected :\n",
    "    def __init__(self,name,age) :\n",
    "        self._set(name,age)\n",
    "        \n",
    "    def _set(self,name,age) :\n",
    "        self._name = name\n",
    "        self._age = age\n",
    "        \n",
    "    def getname(self) :\n",
    "        return self._name\n",
    "    def getage(self) :\n",
    "        return self._age\n"
   ]
  },
  {
   "cell_type": "code",
   "execution_count": 115,
   "metadata": {
    "collapsed": false
   },
   "outputs": [
    {
     "name": "stdout",
     "output_type": "stream",
     "text": [
      "{'_name': '정찬혁', '_age': 31}\n"
     ]
    }
   ],
   "source": [
    "p = Protected(\"정찬혁\", 31)\n",
    "\n",
    "print(p.__dict__)"
   ]
  },
  {
   "cell_type": "code",
   "execution_count": 116,
   "metadata": {
    "collapsed": false
   },
   "outputs": [
    {
     "name": "stdout",
     "output_type": "stream",
     "text": [
      "정찬혁\n",
      "31\n"
     ]
    }
   ],
   "source": [
    "print(p.getname())\n",
    "print(p.getage())"
   ]
  },
  {
   "cell_type": "code",
   "execution_count": 119,
   "metadata": {
    "collapsed": false
   },
   "outputs": [
    {
     "name": "stdout",
     "output_type": "stream",
     "text": [
      "정찬혁\n",
      "31\n"
     ]
    }
   ],
   "source": [
    "print(p._name)\n",
    "print(p._age)"
   ]
  },
  {
   "cell_type": "markdown",
   "metadata": {},
   "source": [
    "## 예제 9-36  :   속성이나 메소드에 대한 맹글링 처리\n"
   ]
  },
  {
   "cell_type": "code",
   "execution_count": 122,
   "metadata": {
    "collapsed": true
   },
   "outputs": [],
   "source": [
    "class Mangling :\n",
    "    def __init__(self,name,age) :\n",
    "        self.__set(name,age)\n",
    "        \n",
    "    def __set(self,name,age) :\n",
    "        self.__name = name\n",
    "        self.__age = age\n",
    "        \n",
    "    def getname(self) :\n",
    "        return self.__name\n",
    "    def getage(self) :\n",
    "        return self.__age"
   ]
  },
  {
   "cell_type": "code",
   "execution_count": 123,
   "metadata": {
    "collapsed": false
   },
   "outputs": [
    {
     "name": "stdout",
     "output_type": "stream",
     "text": [
      "{'_Mangling__name': '정찬혁', '_Mangling__age': 31}\n"
     ]
    }
   ],
   "source": [
    "p = Mangling(\"정찬혁\", 31)\n",
    "\n",
    "print(p.__dict__)"
   ]
  },
  {
   "cell_type": "code",
   "execution_count": 124,
   "metadata": {
    "collapsed": false
   },
   "outputs": [
    {
     "name": "stdout",
     "output_type": "stream",
     "text": [
      "정찬혁\n",
      "31\n"
     ]
    }
   ],
   "source": [
    "print(p.getname())\n",
    "print(p.getage())"
   ]
  },
  {
   "cell_type": "code",
   "execution_count": 126,
   "metadata": {
    "collapsed": false
   },
   "outputs": [
    {
     "ename": "AttributeError",
     "evalue": "'Mangling' object has no attribute '__name'",
     "output_type": "error",
     "traceback": [
      "\u001b[0;31m---------------------------------------------------------------------------\u001b[0m",
      "\u001b[0;31mAttributeError\u001b[0m                            Traceback (most recent call last)",
      "\u001b[0;32m<ipython-input-126-39890ff3efd6>\u001b[0m in \u001b[0;36m<module>\u001b[0;34m()\u001b[0m\n\u001b[0;32m----> 1\u001b[0;31m \u001b[0mprint\u001b[0m\u001b[1;33m(\u001b[0m\u001b[0mp\u001b[0m\u001b[1;33m.\u001b[0m\u001b[0m__name\u001b[0m\u001b[1;33m)\u001b[0m\u001b[1;33m\u001b[0m\u001b[0m\n\u001b[0m\u001b[1;32m      2\u001b[0m \u001b[0mprint\u001b[0m\u001b[1;33m(\u001b[0m\u001b[0mp\u001b[0m\u001b[1;33m.\u001b[0m\u001b[0m__age\u001b[0m\u001b[1;33m)\u001b[0m\u001b[1;33m\u001b[0m\u001b[0m\n",
      "\u001b[0;31mAttributeError\u001b[0m: 'Mangling' object has no attribute '__name'"
     ]
    }
   ],
   "source": [
    "print(p.__name)\n",
    "print(p.__age)"
   ]
  },
  {
   "cell_type": "code",
   "execution_count": 127,
   "metadata": {
    "collapsed": false
   },
   "outputs": [
    {
     "name": "stdout",
     "output_type": "stream",
     "text": [
      "정찬혁\n",
      "31\n"
     ]
    }
   ],
   "source": [
    "print(p._Mangling__name)\n",
    "print(p._Mangling__age)"
   ]
  },
  {
   "cell_type": "code",
   "execution_count": 128,
   "metadata": {
    "collapsed": false
   },
   "outputs": [
    {
     "name": "stdout",
     "output_type": "stream",
     "text": [
      "mappingproxy({'_Mangling__set': <function Mangling.__set at 0x000000000501E1E0>,\n",
      "              '__dict__': <attribute '__dict__' of 'Mangling' objects>,\n",
      "              '__doc__': None,\n",
      "              '__init__': <function Mangling.__init__ at 0x000000000501E2F0>,\n",
      "              '__module__': '__main__',\n",
      "              '__weakref__': <attribute '__weakref__' of 'Mangling' objects>,\n",
      "              'getage': <function Mangling.getage at 0x000000000501E730>,\n",
      "              'getname': <function Mangling.getname at 0x000000000501E268>})\n"
     ]
    }
   ],
   "source": [
    "import pprint\n",
    "\n",
    "pprint.pprint(Mangling.__dict__)"
   ]
  },
  {
   "cell_type": "code",
   "execution_count": 129,
   "metadata": {
    "collapsed": false
   },
   "outputs": [
    {
     "ename": "AttributeError",
     "evalue": "'Mangling' object has no attribute '__set'",
     "output_type": "error",
     "traceback": [
      "\u001b[0;31m---------------------------------------------------------------------------\u001b[0m",
      "\u001b[0;31mAttributeError\u001b[0m                            Traceback (most recent call last)",
      "\u001b[0;32m<ipython-input-129-184d8e5290bb>\u001b[0m in \u001b[0;36m<module>\u001b[0;34m()\u001b[0m\n\u001b[0;32m----> 1\u001b[0;31m \u001b[0mp\u001b[0m\u001b[1;33m.\u001b[0m\u001b[0m__set\u001b[0m\u001b[1;33m(\u001b[0m\u001b[1;34m\"맹글링\"\u001b[0m\u001b[1;33m,\u001b[0m\u001b[1;36m55\u001b[0m\u001b[1;33m)\u001b[0m\u001b[1;33m\u001b[0m\u001b[0m\n\u001b[0m",
      "\u001b[0;31mAttributeError\u001b[0m: 'Mangling' object has no attribute '__set'"
     ]
    }
   ],
   "source": [
    "p.__set(\"맹글링\",55)"
   ]
  },
  {
   "cell_type": "code",
   "execution_count": 130,
   "metadata": {
    "collapsed": false
   },
   "outputs": [
    {
     "name": "stdout",
     "output_type": "stream",
     "text": [
      "맹글링\n",
      "55\n"
     ]
    }
   ],
   "source": [
    "p._Mangling__set(\"맹글링\",55)\n",
    "\n",
    "print(p._Mangling__name)\n",
    "print(p._Mangling__age)"
   ]
  },
  {
   "cell_type": "markdown",
   "metadata": {},
   "source": [
    "## 예제 9-37  :   프로퍼티로 속성을 숨기기"
   ]
  },
  {
   "cell_type": "code",
   "execution_count": 1,
   "metadata": {
    "collapsed": true
   },
   "outputs": [],
   "source": [
    "class PropertyClass :\n",
    "    def __init__(self,name) :\n",
    "        self._name = name\n",
    "    @property\n",
    "    def name(self) :\n",
    "        return self._name\n",
    "    @name.setter\n",
    "    def name(self,value) :\n",
    "        self._name = value"
   ]
  },
  {
   "cell_type": "code",
   "execution_count": 2,
   "metadata": {
    "collapsed": false
   },
   "outputs": [
    {
     "name": "stdout",
     "output_type": "stream",
     "text": [
      "mappingproxy({'__dict__': <attribute '__dict__' of 'PropertyClass' objects>,\n",
      "              '__doc__': None,\n",
      "              '__init__': <function PropertyClass.__init__ at 0x0000000005230EA0>,\n",
      "              '__module__': '__main__',\n",
      "              '__weakref__': <attribute '__weakref__' of 'PropertyClass' objects>,\n",
      "              'name': <property object at 0x0000000005245818>})\n"
     ]
    }
   ],
   "source": [
    "import pprint\n",
    "\n",
    "pprint.pprint(PropertyClass.__dict__)"
   ]
  },
  {
   "cell_type": "code",
   "execution_count": 3,
   "metadata": {
    "collapsed": false
   },
   "outputs": [
    {
     "name": "stdout",
     "output_type": "stream",
     "text": [
      "은옥주\n"
     ]
    }
   ],
   "source": [
    "p = PropertyClass(\"은옥주\")\n",
    "\n",
    "print(p.name)"
   ]
  },
  {
   "cell_type": "code",
   "execution_count": 4,
   "metadata": {
    "collapsed": false
   },
   "outputs": [
    {
     "name": "stdout",
     "output_type": "stream",
     "text": [
      "금옥주\n"
     ]
    }
   ],
   "source": [
    "p.name = \"금옥주\"\n",
    "print(p.name)"
   ]
  },
  {
   "cell_type": "code",
   "execution_count": 5,
   "metadata": {
    "collapsed": false
   },
   "outputs": [
    {
     "name": "stdout",
     "output_type": "stream",
     "text": [
      "{'_name': '금옥주'}\n",
      "금옥주\n",
      "동옥주\n"
     ]
    }
   ],
   "source": [
    "print(p.__dict__)\n",
    "print(p._name)\n",
    "p._name = \"동옥주\"\n",
    "print(p.name)"
   ]
  },
  {
   "cell_type": "code",
   "execution_count": null,
   "metadata": {
    "collapsed": true
   },
   "outputs": [],
   "source": []
  }
 ],
 "metadata": {
  "kernelspec": {
   "display_name": "Python 3",
   "language": "python",
   "name": "python3"
  },
  "language_info": {
   "codemirror_mode": {
    "name": "ipython",
    "version": 3
   },
   "file_extension": ".py",
   "mimetype": "text/x-python",
   "name": "python",
   "nbconvert_exporter": "python",
   "pygments_lexer": "ipython3",
   "version": "3.6.0"
  }
 },
 "nbformat": 4,
 "nbformat_minor": 2
}
