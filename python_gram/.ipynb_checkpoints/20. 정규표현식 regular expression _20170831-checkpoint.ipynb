{
 "cells": [
  {
   "cell_type": "markdown",
   "metadata": {
    "collapsed": true
   },
   "source": [
    "## 예제 20-1 :  모듈 내의 변수와 함수 보기\n"
   ]
  },
  {
   "cell_type": "code",
   "execution_count": 2,
   "metadata": {
    "collapsed": false
   },
   "outputs": [
    {
     "name": "stdout",
     "output_type": "stream",
     "text": [
      "A ASCII DEBUG DOTALL I \n",
      "IGNORECASE L LOCALE M MULTILINE \n",
      "RegexFlag S Scanner T TEMPLATE \n",
      "U UNICODE VERBOSE X compile \n",
      "copyreg enum error escape findall \n",
      "finditer fullmatch functools match purge \n",
      "search split sre_compile sre_parse sub \n",
      "subn template "
     ]
    }
   ],
   "source": [
    "import re\n",
    "\n",
    "count = 0 \n",
    "\n",
    "for i in dir(re) :\n",
    "    if not i.startswith(\"_\") :\n",
    "        print(i, end=\" \")\n",
    "        count += 1\n",
    "        if count % 5 == 0 :\n",
    "            print()"
   ]
  },
  {
   "cell_type": "code",
   "execution_count": 1,
   "metadata": {
    "collapsed": false
   },
   "outputs": [
    {
     "name": "stdout",
     "output_type": "stream",
     "text": [
      "re.compile('향수')\n",
      "<class '_sre.SRE_Pattern'>\n"
     ]
    }
   ],
   "source": [
    "import re\n",
    "\n",
    "pattern = re.compile(\"향수\")\n",
    "\n",
    "print(pattern)\n",
    "print(type(pattern))"
   ]
  },
  {
   "cell_type": "code",
   "execution_count": 3,
   "metadata": {
    "collapsed": false
   },
   "outputs": [
    {
     "name": "stdout",
     "output_type": "stream",
     "text": [
      "<class '_sre.SRE_Match'>\n",
      "향수\n"
     ]
    }
   ],
   "source": [
    "mat = re.match(pattern, \"향수 수향\")\n",
    "\n",
    "print(type(mat))\n",
    "print(mat.group())"
   ]
  },
  {
   "cell_type": "markdown",
   "metadata": {},
   "source": [
    "## 예제 20-2 :  문자 클래스 처리 \n"
   ]
  },
  {
   "cell_type": "code",
   "execution_count": 4,
   "metadata": {
    "collapsed": false
   },
   "outputs": [
    {
     "name": "stdout",
     "output_type": "stream",
     "text": [
      "re.compile('[a-zA-Z0-9]+')\n",
      "<class '_sre.SRE_Pattern'>\n"
     ]
    }
   ],
   "source": [
    "import re\n",
    "\n",
    "pattern = re.compile(\"[a-zA-Z0-9]+\")\n",
    "\n",
    "print(pattern)\n",
    "print(type(pattern))"
   ]
  },
  {
   "cell_type": "code",
   "execution_count": 7,
   "metadata": {
    "collapsed": false
   },
   "outputs": [
    {
     "name": "stdout",
     "output_type": "stream",
     "text": [
      "<class '_sre.SRE_Match'>\n",
      "Python\n"
     ]
    }
   ],
   "source": [
    "mat = re.search(pattern,\"Python Pattern\")\n",
    "print(type(mat))\n",
    "print(mat.group())"
   ]
  },
  {
   "cell_type": "code",
   "execution_count": 10,
   "metadata": {
    "collapsed": false
   },
   "outputs": [
    {
     "name": "stdout",
     "output_type": "stream",
     "text": [
      "re.compile('[가-히0-9]+')\n",
      "<class '_sre.SRE_Pattern'>\n",
      "<class '_sre.SRE_Match'>\n",
      "향수\n"
     ]
    }
   ],
   "source": [
    "import re\n",
    "\n",
    "pattern = re.compile(\"[가-히0-9]+\")\n",
    "\n",
    "print(pattern)\n",
    "print(type(pattern))\n",
    "\n",
    "mat = pattern.search(\"향수 수향\")\n",
    "print(type(mat))\n",
    "print(mat.group())\n"
   ]
  },
  {
   "cell_type": "code",
   "execution_count": 11,
   "metadata": {
    "collapsed": false
   },
   "outputs": [
    {
     "name": "stdout",
     "output_type": "stream",
     "text": [
      "re.compile('[^0-9]+')\n",
      "<class '_sre.SRE_Pattern'>\n",
      "<class '_sre.SRE_Match'>\n",
      "향수 수향\n"
     ]
    }
   ],
   "source": [
    "import re\n",
    "\n",
    "pattern = re.compile(\"[^0-9]+\")\n",
    "\n",
    "print(pattern)\n",
    "print(type(pattern))\n",
    "\n",
    "mat = pattern.search(\"향수 수향\")\n",
    "print(type(mat))\n",
    "print(mat.group())"
   ]
  },
  {
   "cell_type": "markdown",
   "metadata": {},
   "source": [
    "## 예제 20-3 :  숫자와 숫자가 아닐 경우 처리\n"
   ]
  },
  {
   "cell_type": "code",
   "execution_count": 13,
   "metadata": {
    "collapsed": false
   },
   "outputs": [
    {
     "name": "stdout",
     "output_type": "stream",
     "text": [
      "<class 'list'>\n",
      "['', '\\t', '\\n', '\\r\\n', '\\x0c', 'ÿ']\n"
     ]
    }
   ],
   "source": [
    "import re\n",
    "\n",
    "mat = re.split(\"\\d+\",\"1\\t2\\n3\\r\\n4\\f5\\xff\")\n",
    "print(type(mat))\n",
    "print(mat)"
   ]
  },
  {
   "cell_type": "code",
   "execution_count": 14,
   "metadata": {
    "collapsed": false
   },
   "outputs": [
    {
     "name": "stdout",
     "output_type": "stream",
     "text": [
      "<class 'list'>\n",
      "['1', '2', '3', '4', '5', '']\n"
     ]
    }
   ],
   "source": [
    "import re\n",
    "\n",
    "mat = re.split(\"\\D+\",\"1\\t2\\n3\\r\\n4\\f5\\xff\")\n",
    "print(type(mat))\n",
    "print(mat)"
   ]
  },
  {
   "cell_type": "markdown",
   "metadata": {},
   "source": [
    "## 예제 20-4 :   whitespace 문자인 것과 매치: \\s, \\S"
   ]
  },
  {
   "cell_type": "code",
   "execution_count": 15,
   "metadata": {
    "collapsed": false
   },
   "outputs": [
    {
     "name": "stdout",
     "output_type": "stream",
     "text": [
      "<class 'list'>\n",
      "['a', 'b', 'c', 'd', 'eÿ']\n"
     ]
    }
   ],
   "source": [
    "import re\n",
    "\n",
    "mat = re.split(\"\\s+\",\"a\\tb\\nc\\r\\nd\\fe\\xff\")\n",
    "print(type(mat))\n",
    "print(mat)"
   ]
  },
  {
   "cell_type": "code",
   "execution_count": 16,
   "metadata": {
    "collapsed": false
   },
   "outputs": [
    {
     "name": "stdout",
     "output_type": "stream",
     "text": [
      "<class 'list'>\n",
      "['', '\\t', '\\n', '\\r\\n', '\\x0c', '']\n"
     ]
    }
   ],
   "source": [
    "import re\n",
    "\n",
    "mat = re.split(\"\\S+\",\"a\\tb\\nc\\r\\nd\\fe\\xff\")\n",
    "print(type(mat))\n",
    "print(mat)"
   ]
  },
  {
   "cell_type": "markdown",
   "metadata": {},
   "source": [
    "## 예제 20-5 :  문자일 경우 : \\w, \\W\n"
   ]
  },
  {
   "cell_type": "code",
   "execution_count": 21,
   "metadata": {
    "collapsed": false
   },
   "outputs": [
    {
     "name": "stdout",
     "output_type": "stream",
     "text": [
      "<class 'list'>\n",
      "['', '\\t', '\\n', '\\r\\n', '\\x0c', '']\n"
     ]
    }
   ],
   "source": [
    "import re\n",
    "\n",
    "mat = re.split(\"\\w+\",\"a\\tb\\nc\\r\\nd\\f가을\\xff\")\n",
    "print(type(mat))\n",
    "print(mat)"
   ]
  },
  {
   "cell_type": "code",
   "execution_count": 22,
   "metadata": {
    "collapsed": false
   },
   "outputs": [
    {
     "name": "stdout",
     "output_type": "stream",
     "text": [
      "<class 'list'>\n",
      "['a', 'b', 'c', 'd', '가을eÿ']\n"
     ]
    }
   ],
   "source": [
    "import re\n",
    "\n",
    "mat = re.split(\"\\W+\",\"a\\tb\\nc\\r\\nd\\f가을e\\xff\")\n",
    "print(type(mat))\n",
    "print(mat)"
   ]
  },
  {
   "cell_type": "markdown",
   "metadata": {},
   "source": [
    "## 예제 20-6 :  시작 과 끝에 대한 표시하는 anchor \n"
   ]
  },
  {
   "cell_type": "code",
   "execution_count": 27,
   "metadata": {
    "collapsed": false
   },
   "outputs": [
    {
     "name": "stdout",
     "output_type": "stream",
     "text": [
      "<class '_sre.SRE_Match'>\n",
      "하늘을\n"
     ]
    }
   ],
   "source": [
    "import re\n",
    "\n",
    "mat = re.match(\"^하늘을\",\"하늘을 우러러 한점 부끄럼없이\")\n",
    "print(type(mat))\n",
    "print(mat.group())"
   ]
  },
  {
   "cell_type": "code",
   "execution_count": 30,
   "metadata": {
    "collapsed": false
   },
   "outputs": [
    {
     "name": "stdout",
     "output_type": "stream",
     "text": [
      "<class '_sre.SRE_Match'>\n",
      "부끄럼없이\n"
     ]
    }
   ],
   "source": [
    "import re\n",
    "\n",
    "mat = re.search(\"부끄럼없이$\",\"하늘을 우러러 한점 부끄럼없이\")\n",
    "print(type(mat))\n",
    "print(mat.group())"
   ]
  },
  {
   "cell_type": "markdown",
   "metadata": {},
   "source": [
    "## 예제 20-7 :  문자 사이에 . 을 패턴으로 들어간 경우"
   ]
  },
  {
   "cell_type": "code",
   "execution_count": 31,
   "metadata": {
    "collapsed": false
   },
   "outputs": [
    {
     "name": "stdout",
     "output_type": "stream",
     "text": [
      "<class '_sre.SRE_Match'>\n",
      "하늘을 우러러\n"
     ]
    }
   ],
   "source": [
    "import re\n",
    "\n",
    "mat = re.search(\"하늘을.우러러\",\"하늘을 우러러 한점 부끄럼없이\")\n",
    "print(type(mat))\n",
    "print(mat.group())"
   ]
  },
  {
   "cell_type": "markdown",
   "metadata": {},
   "source": [
    "## 예제 20-8 :  특정 문자들을 선택 조건을 주기\n"
   ]
  },
  {
   "cell_type": "code",
   "execution_count": 35,
   "metadata": {
    "collapsed": false
   },
   "outputs": [
    {
     "name": "stdout",
     "output_type": "stream",
     "text": [
      "<class '_sre.SRE_Match'>\n",
      "하늘을 우러러 \n"
     ]
    }
   ],
   "source": [
    "import re\n",
    "\n",
    "mat = re.search(\"([하늘을|우러러].)+\",\"하늘을 우러러 한점 부끄럼없이\")\n",
    "print(type(mat))\n",
    "print(mat.group())"
   ]
  },
  {
   "cell_type": "markdown",
   "metadata": {},
   "source": [
    "## 예제 20-9 :   반복 :  ({m,n})\n"
   ]
  },
  {
   "cell_type": "code",
   "execution_count": 38,
   "metadata": {
    "collapsed": false
   },
   "outputs": [
    {
     "name": "stdout",
     "output_type": "stream",
     "text": [
      "mummy\n",
      "mmmmmummy\n",
      "ummy\n"
     ]
    }
   ],
   "source": [
    "import re\n",
    "\n",
    "pattern = re.compile(\"m{0,}ummy\")\n",
    "\n",
    "mat = pattern.search(\"mummy\")\n",
    "print(mat.group())\n",
    "\n",
    "mat = pattern.search(\"mmmmmummy\")\n",
    "print(mat.group())\n",
    "\n",
    "mat = pattern.search(\"ummy\")\n",
    "print(mat.group())"
   ]
  },
  {
   "cell_type": "code",
   "execution_count": 46,
   "metadata": {
    "collapsed": false
   },
   "outputs": [
    {
     "name": "stdout",
     "output_type": "stream",
     "text": [
      "mummy\n",
      "ummy\n",
      "mmmummy\n",
      " mismatching \n"
     ]
    }
   ],
   "source": [
    "import re\n",
    "\n",
    "pattern = re.compile(\"m{0,3}ummy\")\n",
    "\n",
    "mat = pattern.search(\"mummy\")\n",
    "print(mat.group())\n",
    "\n",
    "mat = pattern.search(\"ummy\")\n",
    "print(mat.group())\n",
    "\n",
    "mat = pattern.search(\"mmmmmmummy\")\n",
    "print(mat.group())\n",
    "\n",
    "mat = pattern.match(\"mmmmmmummy\")\n",
    "\n",
    "if mat is None :\n",
    "    print(\" mismatching \")\n",
    "else :\n",
    "    print(mat.group())"
   ]
  },
  {
   "cell_type": "code",
   "execution_count": 39,
   "metadata": {
    "collapsed": false
   },
   "outputs": [
    {
     "name": "stdout",
     "output_type": "stream",
     "text": [
      "mummy\n",
      "mmmmmummy\n",
      "ummy\n"
     ]
    }
   ],
   "source": [
    "import re\n",
    "\n",
    "pattern = re.compile(\"m*ummy\")\n",
    "\n",
    "mat = pattern.search(\"mummy\")\n",
    "print(mat.group())\n",
    "\n",
    "mat = pattern.search(\"mmmmmummy\")\n",
    "print(mat.group())\n",
    "\n",
    "mat = pattern.search(\"ummy\")\n",
    "print(mat.group())"
   ]
  },
  {
   "cell_type": "code",
   "execution_count": 42,
   "metadata": {
    "collapsed": false
   },
   "outputs": [
    {
     "name": "stdout",
     "output_type": "stream",
     "text": [
      "mummy\n",
      "ummy\n"
     ]
    }
   ],
   "source": [
    "import re\n",
    "\n",
    "pattern = re.compile(\"m?ummy\")\n",
    "\n",
    "mat = pattern.search(\"mummy\")\n",
    "print(mat.group())\n",
    "\n",
    "mat = pattern.search(\"ummy\")\n",
    "print(mat.group())"
   ]
  },
  {
   "cell_type": "markdown",
   "metadata": {},
   "source": [
    "## 예제 20-10: 전화번호 가져오기\n"
   ]
  },
  {
   "cell_type": "code",
   "execution_count": 49,
   "metadata": {
    "collapsed": false
   },
   "outputs": [
    {
     "name": "stdout",
     "output_type": "stream",
     "text": [
      "('031', '123', '1234')\n",
      "031-123-1234\n",
      "031\n",
      "123\n",
      "1234\n"
     ]
    }
   ],
   "source": [
    "import re\n",
    "\n",
    "address = \"경기도 성남시 분당구 031-123-1234\"\n",
    "pattern = re.compile(\"(\\d+)-(\\d+)-(\\d+)\")\n",
    "\n",
    "mat = pattern.search(address)\n",
    "print(mat.groups())\n",
    "print(mat.group())\n",
    "print(mat.group(1))\n",
    "print(mat.group(2))\n",
    "print(mat.group(3))"
   ]
  },
  {
   "cell_type": "code",
   "execution_count": 4,
   "metadata": {
    "collapsed": false
   },
   "outputs": [
    {
     "name": "stdout",
     "output_type": "stream",
     "text": [
      "()\n",
      "031-123-1234\n"
     ]
    },
    {
     "ename": "IndexError",
     "evalue": "no such group",
     "output_type": "error",
     "traceback": [
      "\u001b[0;31m---------------------------------------------------------------------------\u001b[0m",
      "\u001b[0;31mIndexError\u001b[0m                                Traceback (most recent call last)",
      "\u001b[0;32m<ipython-input-4-898c5add55b6>\u001b[0m in \u001b[0;36m<module>\u001b[0;34m()\u001b[0m\n\u001b[1;32m      7\u001b[0m \u001b[0mprint\u001b[0m\u001b[1;33m(\u001b[0m\u001b[0mmat\u001b[0m\u001b[1;33m.\u001b[0m\u001b[0mgroups\u001b[0m\u001b[1;33m(\u001b[0m\u001b[1;33m)\u001b[0m\u001b[1;33m)\u001b[0m\u001b[1;33m\u001b[0m\u001b[0m\n\u001b[1;32m      8\u001b[0m \u001b[0mprint\u001b[0m\u001b[1;33m(\u001b[0m\u001b[0mmat\u001b[0m\u001b[1;33m.\u001b[0m\u001b[0mgroup\u001b[0m\u001b[1;33m(\u001b[0m\u001b[1;33m)\u001b[0m\u001b[1;33m)\u001b[0m\u001b[1;33m\u001b[0m\u001b[0m\n\u001b[0;32m----> 9\u001b[0;31m \u001b[0mprint\u001b[0m\u001b[1;33m(\u001b[0m\u001b[0mmat\u001b[0m\u001b[1;33m.\u001b[0m\u001b[0mgroup\u001b[0m\u001b[1;33m(\u001b[0m\u001b[1;36m1\u001b[0m\u001b[1;33m)\u001b[0m\u001b[1;33m)\u001b[0m\u001b[1;33m\u001b[0m\u001b[0m\n\u001b[0m\u001b[1;32m     10\u001b[0m \u001b[0mprint\u001b[0m\u001b[1;33m(\u001b[0m\u001b[0mmat\u001b[0m\u001b[1;33m.\u001b[0m\u001b[0mgroup\u001b[0m\u001b[1;33m(\u001b[0m\u001b[1;36m2\u001b[0m\u001b[1;33m)\u001b[0m\u001b[1;33m)\u001b[0m\u001b[1;33m\u001b[0m\u001b[0m\n\u001b[1;32m     11\u001b[0m \u001b[0mprint\u001b[0m\u001b[1;33m(\u001b[0m\u001b[0mmat\u001b[0m\u001b[1;33m.\u001b[0m\u001b[0mgroup\u001b[0m\u001b[1;33m(\u001b[0m\u001b[1;36m3\u001b[0m\u001b[1;33m)\u001b[0m\u001b[1;33m)\u001b[0m\u001b[1;33m\u001b[0m\u001b[0m\n",
      "\u001b[0;31mIndexError\u001b[0m: no such group"
     ]
    }
   ],
   "source": [
    "import re\n",
    "\n",
    "address = \"경기도 성남시 분당구 031-123-1234\"\n",
    "pattern = re.compile(\"(?:\\d+)-(?:\\d+)-(?:\\d+)\")\n",
    "\n",
    "mat = pattern.search(address)\n",
    "print(mat.groups())\n",
    "print(mat.group())\n",
    "print(mat.group(1))\n",
    "print(mat.group(2))\n",
    "print(mat.group(3))"
   ]
  },
  {
   "cell_type": "markdown",
   "metadata": {},
   "source": [
    "## 예제 20-11 : 그룹 이름으로 전화번호 가져오기\n"
   ]
  },
  {
   "cell_type": "code",
   "execution_count": 51,
   "metadata": {
    "collapsed": false
   },
   "outputs": [
    {
     "name": "stdout",
     "output_type": "stream",
     "text": [
      "('031', '123', '1234')\n",
      "031-123-1234\n",
      "031\n",
      "123\n",
      "1234\n",
      "031\n",
      "123\n",
      "1234\n"
     ]
    }
   ],
   "source": [
    "import re\n",
    "\n",
    "address = \"경기도 성남시 분당구 031-123-1234\"\n",
    "pattern = re.compile(\"(?P<province>\\d+)-(?P<local>\\d+)-(?P<number>\\d+)\")\n",
    "\n",
    "mat = pattern.search(address)\n",
    "print(mat.groups())\n",
    "print(mat.group())\n",
    "print(mat.group(1))\n",
    "print(mat.group(2))\n",
    "print(mat.group(3))\n",
    "print(mat.group(\"province\"))\n",
    "print(mat.group(\"local\"))\n",
    "print(mat.group(\"number\"))"
   ]
  },
  {
   "cell_type": "markdown",
   "metadata": {},
   "source": [
    "## 예제 20-12 :   URL 주소 내의 전방탐색 사용하기 \n"
   ]
  },
  {
   "cell_type": "code",
   "execution_count": 55,
   "metadata": {
    "collapsed": false
   },
   "outputs": [
    {
     "name": "stdout",
     "output_type": "stream",
     "text": [
      "https\n"
     ]
    }
   ],
   "source": [
    "import re\n",
    "\n",
    "pattern = \".+(?=:)\"\n",
    "\n",
    "mat = re.match(pattern,\"https://www.slideshare.net/dahlmoon\")\n",
    "\n",
    "print(mat.group())"
   ]
  },
  {
   "cell_type": "markdown",
   "metadata": {},
   "source": [
    "## 예제 20-13 :  금액 표시 문자 이후에 실제 금액만 가져오기\n"
   ]
  },
  {
   "cell_type": "code",
   "execution_count": 1,
   "metadata": {
    "collapsed": false
   },
   "outputs": [
    {
     "name": "stdout",
     "output_type": "stream",
     "text": [
      "100000.00\n",
      "100000.00\n"
     ]
    }
   ],
   "source": [
    "import re\n",
    "\n",
    "pattern = \"(?<=\\$)([0-9.]+)\"\n",
    "mat = re.search(pattern,\"$100000.00 888888\")\n",
    "\n",
    "print(mat.group())\n",
    "\n",
    "pattern = \"([0-9.]+)\"\n",
    "mat = re.search(pattern,\"$100000.00 888888\")\n",
    "print(mat.group())"
   ]
  },
  {
   "cell_type": "markdown",
   "metadata": {},
   "source": [
    "## 예제 20-14 :  금액 표시가 없는 경우만 출력\n"
   ]
  },
  {
   "cell_type": "code",
   "execution_count": 92,
   "metadata": {
    "collapsed": false
   },
   "outputs": [
    {
     "name": "stdout",
     "output_type": "stream",
     "text": [
      "['30', '5']\n"
     ]
    }
   ],
   "source": [
    "import re\n",
    "\n",
    "text = \"I paid $30 for 100 apples, 50 oranges,and 60 pears. I saved $5 on the order.\"\n",
    "\n",
    "pattern = \"(?<=\\$)\\d+\"\n",
    "mat = re.findall(pattern,text)\n",
    "\n",
    "print(mat)"
   ]
  },
  {
   "cell_type": "code",
   "execution_count": 95,
   "metadata": {
    "collapsed": false
   },
   "outputs": [
    {
     "name": "stdout",
     "output_type": "stream",
     "text": [
      "['30', '100', '50', '60', '5']\n"
     ]
    }
   ],
   "source": [
    "import re\n",
    "\n",
    "text = \"I paid $30 for 100 apples, 50 oranges,and 60 pears. I saved $5 on the order.\"\n",
    "\n",
    "pattern = \"(?!\\$)\\d+\"\n",
    "mat = re.findall(pattern,text)\n",
    "\n",
    "print(mat)"
   ]
  },
  {
   "cell_type": "code",
   "execution_count": 94,
   "metadata": {
    "collapsed": false
   },
   "outputs": [
    {
     "name": "stdout",
     "output_type": "stream",
     "text": [
      "[' 100', ' 50', ' 60']\n"
     ]
    }
   ],
   "source": [
    "import re\n",
    "\n",
    "text = \"I paid $30 for 100 apples, 50 oranges,and 60 pears. I saved $5 on the order.\"\n",
    "\n",
    "pattern = \"\\s(?!\\$)\\d+\"\n",
    "mat = re.findall(pattern,text)\n",
    "\n",
    "print(mat)"
   ]
  },
  {
   "cell_type": "code",
   "execution_count": 80,
   "metadata": {
    "collapsed": false
   },
   "outputs": [
    {
     "name": "stdout",
     "output_type": "stream",
     "text": [
      "[' 100', ' 50', ' 60']\n"
     ]
    }
   ],
   "source": [
    "import re\n",
    "\n",
    "text = \"I paid $30 for 100 apples, 50 oranges,and 60 pears. I saved $5 on the order.\"\n",
    "\n",
    "pattern = \"\\s(?<!\\$)\\d+\"\n",
    "mat = re.findall(pattern,text)\n",
    "\n",
    "print(mat)"
   ]
  },
  {
   "cell_type": "markdown",
   "metadata": {},
   "source": [
    "## 예제 20-15 :  주석을 무시\n"
   ]
  },
  {
   "cell_type": "code",
   "execution_count": 96,
   "metadata": {
    "collapsed": false
   },
   "outputs": [
    {
     "name": "stdout",
     "output_type": "stream",
     "text": [
      "['P']\n"
     ]
    }
   ],
   "source": [
    "import re\n",
    "\n",
    "text = \"Python\"\n",
    "\n",
    "pattern = \"P(?#comment)\"\n",
    "mat = re.findall(pattern,text)\n",
    "\n",
    "print(mat)"
   ]
  },
  {
   "cell_type": "markdown",
   "metadata": {},
   "source": [
    "## 예제 20-16 :  컴파일 함수에서 패턴 제어하기 \n",
    "\n"
   ]
  },
  {
   "cell_type": "code",
   "execution_count": 2,
   "metadata": {
    "collapsed": false
   },
   "outputs": [
    {
     "ename": "AttributeError",
     "evalue": "'NoneType' object has no attribute 'group'",
     "output_type": "error",
     "traceback": [
      "\u001b[0;31m---------------------------------------------------------------------------\u001b[0m",
      "\u001b[0;31mAttributeError\u001b[0m                            Traceback (most recent call last)",
      "\u001b[0;32m<ipython-input-2-9f7875befca6>\u001b[0m in \u001b[0;36m<module>\u001b[0;34m()\u001b[0m\n\u001b[1;32m      6\u001b[0m \u001b[0mmat\u001b[0m \u001b[1;33m=\u001b[0m \u001b[0mre\u001b[0m\u001b[1;33m.\u001b[0m\u001b[0mmatch\u001b[0m\u001b[1;33m(\u001b[0m\u001b[0mpattern\u001b[0m\u001b[1;33m,\u001b[0m\u001b[0mtext\u001b[0m\u001b[1;33m)\u001b[0m\u001b[1;33m\u001b[0m\u001b[0m\n\u001b[1;32m      7\u001b[0m \u001b[1;33m\u001b[0m\u001b[0m\n\u001b[0;32m----> 8\u001b[0;31m \u001b[0mprint\u001b[0m\u001b[1;33m(\u001b[0m\u001b[0mrepr\u001b[0m\u001b[1;33m(\u001b[0m\u001b[0mmat\u001b[0m\u001b[1;33m.\u001b[0m\u001b[0mgroup\u001b[0m\u001b[1;33m(\u001b[0m\u001b[1;33m)\u001b[0m\u001b[1;33m)\u001b[0m\u001b[1;33m)\u001b[0m\u001b[1;33m\u001b[0m\u001b[0m\n\u001b[0m",
      "\u001b[0;31mAttributeError\u001b[0m: 'NoneType' object has no attribute 'group'"
     ]
    }
   ],
   "source": [
    "import re\n",
    "\n",
    "pattern = re.compile(\".ake\")\n",
    "\n",
    "text = \"\\nake\"\n",
    "mat = re.match(pattern,text)\n",
    "\n",
    "print(repr(mat.group()))"
   ]
  },
  {
   "cell_type": "code",
   "execution_count": 3,
   "metadata": {
    "collapsed": false
   },
   "outputs": [
    {
     "name": "stdout",
     "output_type": "stream",
     "text": [
      "'\\nake'\n"
     ]
    }
   ],
   "source": [
    "pattern = re.compile(\".ake\",re.S)\n",
    "\n",
    "text = \"\\nake\"\n",
    "mat = re.match(pattern,text)\n",
    "\n",
    "print(repr(mat.group()))"
   ]
  },
  {
   "cell_type": "code",
   "execution_count": 4,
   "metadata": {
    "collapsed": false
   },
   "outputs": [
    {
     "ename": "AttributeError",
     "evalue": "'NoneType' object has no attribute 'group'",
     "output_type": "error",
     "traceback": [
      "\u001b[0;31m---------------------------------------------------------------------------\u001b[0m",
      "\u001b[0;31mAttributeError\u001b[0m                            Traceback (most recent call last)",
      "\u001b[0;32m<ipython-input-4-b76a3350d6bd>\u001b[0m in \u001b[0;36m<module>\u001b[0;34m()\u001b[0m\n\u001b[1;32m      6\u001b[0m \u001b[0mmat\u001b[0m \u001b[1;33m=\u001b[0m \u001b[0mre\u001b[0m\u001b[1;33m.\u001b[0m\u001b[0mmatch\u001b[0m\u001b[1;33m(\u001b[0m\u001b[0mpattern\u001b[0m\u001b[1;33m,\u001b[0m\u001b[0mtext\u001b[0m\u001b[1;33m)\u001b[0m\u001b[1;33m\u001b[0m\u001b[0m\n\u001b[1;32m      7\u001b[0m \u001b[1;33m\u001b[0m\u001b[0m\n\u001b[0;32m----> 8\u001b[0;31m \u001b[0mprint\u001b[0m\u001b[1;33m(\u001b[0m\u001b[0mmat\u001b[0m\u001b[1;33m.\u001b[0m\u001b[0mgroup\u001b[0m\u001b[1;33m(\u001b[0m\u001b[1;33m)\u001b[0m\u001b[1;33m)\u001b[0m\u001b[1;33m\u001b[0m\u001b[0m\n\u001b[0m",
      "\u001b[0;31mAttributeError\u001b[0m: 'NoneType' object has no attribute 'group'"
     ]
    }
   ],
   "source": [
    "import re\n",
    "\n",
    "pattern = re.compile(\"[a-z]+\")\n",
    "\n",
    "text = \"Python\"\n",
    "mat = re.match(pattern,text)\n",
    "\n",
    "print(mat.group())"
   ]
  },
  {
   "cell_type": "code",
   "execution_count": 101,
   "metadata": {
    "collapsed": false
   },
   "outputs": [
    {
     "name": "stdout",
     "output_type": "stream",
     "text": [
      "Python\n"
     ]
    }
   ],
   "source": [
    "import re\n",
    "\n",
    "pattern = re.compile(\"[a-z]+\",re.I)\n",
    "\n",
    "text = \"Python\"\n",
    "mat = re.match(pattern,text)\n",
    "\n",
    "print(mat.group())"
   ]
  },
  {
   "cell_type": "code",
   "execution_count": 105,
   "metadata": {
    "collapsed": false
   },
   "outputs": [
    {
     "name": "stdout",
     "output_type": "stream",
     "text": [
      "['Hello world']\n"
     ]
    }
   ],
   "source": [
    "import re\n",
    "\n",
    "text = \"\"\"Hello world\n",
    "Hello dahl\n",
    "Hello moon\n",
    "\"\"\"\n",
    "pattern = re.compile(\"^Hello\\s\\w+\")\n",
    "mat = re.findall(pattern,text)\n",
    "\n",
    "print(mat)"
   ]
  },
  {
   "cell_type": "code",
   "execution_count": 106,
   "metadata": {
    "collapsed": false
   },
   "outputs": [
    {
     "name": "stdout",
     "output_type": "stream",
     "text": [
      "['Hello world', 'Hello dahl', 'Hello moon']\n"
     ]
    }
   ],
   "source": [
    "import re\n",
    "\n",
    "text = \"\"\"Hello world\n",
    "Hello dahl\n",
    "Hello moon\n",
    "\"\"\"\n",
    "pattern = re.compile(\"^Hello\\s\\w+\")\n",
    "\n",
    "pattern = re.compile(\"^Hello\\s\\w+\",re.M)\n",
    "mat = re.findall(pattern,text)\n",
    "\n",
    "print(mat)"
   ]
  },
  {
   "cell_type": "code",
   "execution_count": 107,
   "metadata": {
    "collapsed": false
   },
   "outputs": [
    {
     "name": "stdout",
     "output_type": "stream",
     "text": [
      "['100.123']\n"
     ]
    }
   ],
   "source": [
    "import re\n",
    "\n",
    "text = \"100.123\"\n",
    "pattern = re.compile(\"\\d+\\.\\d+\")\n",
    "mat = re.findall(pattern,text)\n",
    "\n",
    "print(mat)"
   ]
  },
  {
   "cell_type": "code",
   "execution_count": 108,
   "metadata": {
    "collapsed": false
   },
   "outputs": [
    {
     "name": "stdout",
     "output_type": "stream",
     "text": [
      "['100.123']\n"
     ]
    }
   ],
   "source": [
    "import re\n",
    "\n",
    "text = \"100.123\"\n",
    "pat_text = \"\"\"\\d+ # 정수부\n",
    "            \\.  # 소수점\n",
    "            \\d+ # 소수점이하 숫자\"\"\"\n",
    "\n",
    "pattern = re.compile(pat_text,re.VERBOSE)\n",
    "mat = re.findall(pattern,text)\n",
    "\n",
    "print(mat)"
   ]
  },
  {
   "cell_type": "markdown",
   "metadata": {},
   "source": [
    "## 예제 20-17 : Compile, Match객체에 대한 속성과 메소드 조회하기\n"
   ]
  },
  {
   "cell_type": "code",
   "execution_count": 5,
   "metadata": {
    "collapsed": false
   },
   "outputs": [
    {
     "name": "stdout",
     "output_type": "stream",
     "text": [
      "re.compile('[a-z]+', re.IGNORECASE)\n",
      "<class '_sre.SRE_Pattern'>\n"
     ]
    }
   ],
   "source": [
    "import re\n",
    "\n",
    "pattern = re.compile('[a-z]+',re.I)\n",
    "\n",
    "print(pattern)\n",
    "print(type(pattern))"
   ]
  },
  {
   "cell_type": "code",
   "execution_count": 6,
   "metadata": {
    "collapsed": false
   },
   "outputs": [
    {
     "name": "stdout",
     "output_type": "stream",
     "text": [
      "findall\n",
      "finditer\n",
      "flags\n",
      "fullmatch\n",
      "groupindex\n",
      "groups\n",
      "match\n",
      "pattern\n",
      "scanner\n",
      "search\n",
      "split\n",
      "sub\n",
      "subn\n"
     ]
    }
   ],
   "source": [
    "for i in dir(pattern) :\n",
    "    if not i.startswith(\"_\") :\n",
    "        print(i)"
   ]
  },
  {
   "cell_type": "code",
   "execution_count": 115,
   "metadata": {
    "collapsed": false
   },
   "outputs": [
    {
     "name": "stdout",
     "output_type": "stream",
     "text": [
      "RegexFlag.IGNORECASE\n",
      "34\n",
      "[a-z]+\n"
     ]
    }
   ],
   "source": [
    "print(re.I)\n",
    "print(pattern.flags)\n",
    "print(pattern.pattern)"
   ]
  },
  {
   "cell_type": "code",
   "execution_count": 1,
   "metadata": {
    "collapsed": false
   },
   "outputs": [],
   "source": [
    "import re\n",
    "\n",
    "pattern = re.compile('(?P<name>[a-z]+)',re.I)\n",
    "print(pattern.flags)\n",
    "print(pattern.pattern)"
   ]
  },
  {
   "cell_type": "code",
   "execution_count": 7,
   "metadata": {
    "collapsed": false
   },
   "outputs": [
    {
     "name": "stdout",
     "output_type": "stream",
     "text": [
      "<class '_sre.SRE_Match'>\n"
     ]
    }
   ],
   "source": [
    "a = \"python\"\n",
    "\n",
    "mat = pattern.search(a)\n",
    "print(type(mat))"
   ]
  },
  {
   "cell_type": "code",
   "execution_count": 3,
   "metadata": {
    "collapsed": false
   },
   "outputs": [
    {
     "name": "stdout",
     "output_type": "stream",
     "text": [
      "end\n",
      "endpos\n",
      "expand\n",
      "group\n",
      "groupdict\n",
      "groups\n",
      "lastgroup\n",
      "lastindex\n",
      "pos\n",
      "re\n",
      "regs\n",
      "span\n",
      "start\n",
      "string\n"
     ]
    }
   ],
   "source": [
    "for i in dir(mat) :\n",
    "    if not i.startswith(\"_\") :\n",
    "        print(i)"
   ]
  },
  {
   "cell_type": "code",
   "execution_count": 8,
   "metadata": {
    "collapsed": false
   },
   "outputs": [
    {
     "name": "stdout",
     "output_type": "stream",
     "text": [
      "python\n",
      "(0, 6)\n",
      "0 6\n",
      "0 6\n"
     ]
    }
   ],
   "source": [
    "print(mat.string)\n",
    "print(mat.span())\n",
    "print(mat.pos, mat.endpos)\n",
    "print(mat.start(), mat.end())"
   ]
  },
  {
   "cell_type": "code",
   "execution_count": 6,
   "metadata": {
    "collapsed": false
   },
   "outputs": [
    {
     "name": "stdout",
     "output_type": "stream",
     "text": [
      "('python',)\n",
      "python\n",
      "{'name': 'python'}\n",
      "name\n",
      "1\n"
     ]
    }
   ],
   "source": [
    "print(mat.groups())\n",
    "print(mat.group(0))\n",
    "print(mat.groupdict())\n",
    "print(mat.lastgroup)\n",
    "print(mat.lastindex)"
   ]
  },
  {
   "cell_type": "markdown",
   "metadata": {},
   "source": [
    "## 예제 20-18  :   Match 함수 처리 "
   ]
  },
  {
   "cell_type": "code",
   "execution_count": 150,
   "metadata": {
    "collapsed": false
   },
   "outputs": [
    {
     "name": "stdout",
     "output_type": "stream",
     "text": [
      "Artificial intelligence is wiser than man.\n",
      "Artificial intelligence\n",
      "wiser\n",
      "than\n",
      "man.\n",
      "('Artificial intelligence', 'wiser', 'than', 'man.')\n"
     ]
    }
   ],
   "source": [
    "import re\n",
    "\n",
    "text = \"Artificial intelligence is wiser than man.\"\n",
    "\n",
    "mat = re.match(\"(.*) is (.*)? (.*) (.*)\",text)\n",
    "print(mat.group())\n",
    "print(mat.group(1))\n",
    "print(mat.group(2))\n",
    "print(mat.group(3))\n",
    "print(mat.group(4))\n",
    "print(mat.groups())"
   ]
  },
  {
   "cell_type": "code",
   "execution_count": 151,
   "metadata": {
    "collapsed": false
   },
   "outputs": [
    {
     "name": "stdout",
     "output_type": "stream",
     "text": [
      "{'last': '문', 'first': '용준'}\n"
     ]
    }
   ],
   "source": [
    "import re\n",
    "\n",
    "name = \"문 용준\"\n",
    "\n",
    "mat = re.match(\"(?P<last>\\w+)\\W+(?P<first>\\w+)\", name)\n",
    "\n",
    "if mat:\n",
    "    d = m.groupdict()\n",
    "    print(d)"
   ]
  },
  {
   "cell_type": "markdown",
   "metadata": {},
   "source": [
    "## 예제 20-19 :  search 함수 처리 \n"
   ]
  },
  {
   "cell_type": "code",
   "execution_count": 152,
   "metadata": {
    "collapsed": false
   },
   "outputs": [
    {
     "name": "stdout",
     "output_type": "stream",
     "text": [
      "search: 개념은 어렵다\n",
      " mismatching \n"
     ]
    }
   ],
   "source": [
    "import re\n",
    "\n",
    "value = \"파이썬은 문법은 쉽지만 개념은 어렵다\"\n",
    "\n",
    "m = re.search(\"(개념.*)\", value)\n",
    "if m:\n",
    "    print(\"search:\", m.group(1))\n",
    "\n",
    "m = re.match(\"(개념.*)\", value)\n",
    "if m:\n",
    "    print(\"match:\", m.group(1))\n",
    "else :\n",
    "    print(\" mismatching \")"
   ]
  },
  {
   "cell_type": "code",
   "execution_count": 156,
   "metadata": {
    "collapsed": false
   },
   "outputs": [
    {
     "name": "stdout",
     "output_type": "stream",
     "text": [
      "{'first': 'dog', 'last': 'dot'}\n",
      "{'first': 'do', 'last': 'don'}\n",
      "{'first': 'dumb', 'last': 'dumb'}\n"
     ]
    }
   ],
   "source": [
    "import re\n",
    "\n",
    "list_ = [\"dog dot\", \"do don't\", \"dumb-dumb\", \"no match\"]\n",
    "\n",
    "for element in list_:\n",
    "    m = re.search(\"(?P<first>d\\w+)\\W(?P<last>d\\w+)\", element)\n",
    "\n",
    "    if m:\n",
    "        print(m.groupdict())"
   ]
  },
  {
   "cell_type": "markdown",
   "metadata": {},
   "source": [
    "## 예제 20-20  :  find 함수 처리들\n"
   ]
  },
  {
   "cell_type": "code",
   "execution_count": 164,
   "metadata": {
    "collapsed": false
   },
   "outputs": [
    {
     "name": "stdout",
     "output_type": "stream",
     "text": [
      "<callable_iterator object at 0x0000000005A9ECF8>\n",
      "향수 \n",
      "수향 \n",
      "향수 \n",
      "수향 \n"
     ]
    }
   ],
   "source": [
    "import re\n",
    "\n",
    "pattern = \"(향수|수향).\"\n",
    "text = \"향수 수향 향수 수향 \"\n",
    "mat = re.finditer(pattern, text)\n",
    "\n",
    "print(mat)\n",
    "\n",
    "for i in mat :\n",
    "    print(i.group())"
   ]
  },
  {
   "cell_type": "markdown",
   "metadata": {},
   "source": [
    "## 예제 20-21  :  sub 과 subn함수  처리 \n",
    "\n"
   ]
  },
  {
   "cell_type": "code",
   "execution_count": 167,
   "metadata": {
    "collapsed": false
   },
   "outputs": [
    {
     "name": "stdout",
     "output_type": "stream",
     "text": [
      "사랑이라는  소녀가 향수를 바르고 또  소년이 에프터쉐이브를 바르고 만나서\n",
      "사랑이라는  소녀가 향수를 바르고 또  소년이 에프터쉐이브를 바르고 만나서\n"
     ]
    }
   ],
   "source": [
    "import re \n",
    "\n",
    "text =  \"사랑이라는 한 소녀가 향수를 바르고 또 한 소년이 에프터쉐이브를 바르고 만나서\"\n",
    "\n",
    "s = re.sub(\"한\", \"\", text)\n",
    "print(s)\n",
    "\n",
    "print(text.replace(\"한\", \"\"))"
   ]
  },
  {
   "cell_type": "code",
   "execution_count": 170,
   "metadata": {
    "collapsed": false
   },
   "outputs": [
    {
     "name": "stdout",
     "output_type": "stream",
     "text": [
      "1 4 9\n"
     ]
    }
   ],
   "source": [
    "import re \n",
    "\n",
    "def sequare(match) :\n",
    "    num = int(match.group())\n",
    "    return str(pow(num,2) )\n",
    "\n",
    "s = re.sub(\"\\d+\", sequare, \"1 2 3\")\n",
    "print(s)"
   ]
  },
  {
   "cell_type": "code",
   "execution_count": 173,
   "metadata": {
    "collapsed": false
   },
   "outputs": [
    {
     "name": "stdout",
     "output_type": "stream",
     "text": [
      "('사랑이라는  소녀가 향수를 바르고 또 한 소년이 에프터쉐이브를 바르고 만나서', 1)\n",
      "사랑이라는  소녀가 향수를 바르고 또 한 소년이 에프터쉐이브를 바르고 만나서\n"
     ]
    }
   ],
   "source": [
    "import re \n",
    "\n",
    "text =  \"사랑이라는 한 소녀가 향수를 바르고 또 한 소년이 에프터쉐이브를 바르고 만나서\"\n",
    "\n",
    "s = re.subn(\"한\", \"\", text,1)\n",
    "print(s)\n",
    "\n",
    "print(text.replace(\"한\", \"\",1))"
   ]
  },
  {
   "cell_type": "code",
   "execution_count": null,
   "metadata": {
    "collapsed": true
   },
   "outputs": [],
   "source": []
  }
 ],
 "metadata": {
  "kernelspec": {
   "display_name": "Python [default]",
   "language": "python",
   "name": "python3"
  },
  "language_info": {
   "codemirror_mode": {
    "name": "ipython",
    "version": 3
   },
   "file_extension": ".py",
   "mimetype": "text/x-python",
   "name": "python",
   "nbconvert_exporter": "python",
   "pygments_lexer": "ipython3",
   "version": "3.5.2"
  }
 },
 "nbformat": 4,
 "nbformat_minor": 2
}
