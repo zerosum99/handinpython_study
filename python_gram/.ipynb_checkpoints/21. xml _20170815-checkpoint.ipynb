{
 "cells": [
  {
   "cell_type": "markdown",
   "metadata": {},
   "source": [
    "## 예제 21-1 : xml prolog\n"
   ]
  },
  {
   "cell_type": "raw",
   "metadata": {},
   "source": [
    "<?xml version=\"1.0\" encoding=\"UTF-8\" ?>\n",
    "<note>\n",
    "    <to>Tove</to>\n",
    "    <from>Jandi</from>\n",
    "    <heading>Reminder</heading>\n",
    "    <body>Don't forget me this weekend!</body>\n",
    "<note>"
   ]
  },
  {
   "cell_type": "raw",
   "metadata": {},
   "source": [
    "<root>\n",
    "    <child>\n",
    "        <subchild> ...</subchild>\n",
    "    </child>\n",
    "</root>"
   ]
  },
  {
   "cell_type": "raw",
   "metadata": {},
   "source": [
    "<p>This is a paragraph</p>\n",
    "\n",
    "<br />"
   ]
  },
  {
   "cell_type": "raw",
   "metadata": {},
   "source": [
    "<!-- This is a  comment -->"
   ]
  },
  {
   "cell_type": "raw",
   "metadata": {
    "collapsed": true
   },
   "source": [
    "<root> \n",
    "    <h:table  xmlns:h=\"http://www.w3.org/TR/html14/\">\n",
    "        <h:tr> \n",
    "            <h:td>Apples</h:td>\n",
    "            <h:td>Bananas</h:td>\n",
    "        </h:tr>\n",
    "    </h:table>\n",
    "    <f:table xmlns:f=\"http://www.w3schools.com/furniture\">\n",
    "        <f:name>African Coffee Table </name>\n",
    "        <f:width>80</width>\n",
    "        <f:length>120</length>\n",
    "    </f:table>\n",
    "</root>"
   ]
  },
  {
   "cell_type": "raw",
   "metadata": {},
   "source": [
    "<root\n",
    "    xmlns:h=\"http://www.w3.org/TR/html14/\"\n",
    "    xmlns:f=\"http://www.w3schools.com/furniture\">\n",
    "    <h:table>\n",
    "        <h:tr> \n",
    "            <h:td>Apples</h:td>\n",
    "            <h:td>Bananas</h:td>\n",
    "        </h:tr>\n",
    "    </h:table>\n",
    "    <f:table >\n",
    "        <f:name>African Coffee Table </name>\n",
    "        <f:width>80</width>\n",
    "        <f:length>120</length>\n",
    "    </f:table>\n",
    "</root>"
   ]
  },
  {
   "cell_type": "markdown",
   "metadata": {},
   "source": [
    "## 예제 21-2  :    ElementTree 모듈\n"
   ]
  },
  {
   "cell_type": "code",
   "execution_count": 5,
   "metadata": {
    "collapsed": false
   },
   "outputs": [
    {
     "name": "stdout",
     "output_type": "stream",
     "text": [
      "Comment Element ElementPath ElementTree HTML_EMPTY \n",
      "PI ParseError ProcessingInstruction QName SubElement \n",
      "TreeBuilder VERSION XML XMLID XMLParser \n",
      "XMLPullParser collections contextlib dump fromstring \n",
      "fromstringlist io iselement iterparse parse \n",
      "re register_namespace sys tostring tostringlist \n",
      "warnings "
     ]
    }
   ],
   "source": [
    "import xml.etree.ElementTree as ET\n",
    "\n",
    "count = 0\n",
    "for i in dir(ET) :\n",
    "    if not i.startswith(\"_\") :\n",
    "        print(i, end=\" \")\n",
    "        count += 1\n",
    "        if count % 5 == 0 :\n",
    "            print()\n",
    "        "
   ]
  },
  {
   "cell_type": "code",
   "execution_count": 7,
   "metadata": {
    "collapsed": false
   },
   "outputs": [
    {
     "name": "stdout",
     "output_type": "stream",
     "text": [
      "<class 'xml.etree.ElementTree.ElementTree'>\n",
      "find findall findtext getiterator getroot \n",
      "iter iterfind parse write write_c14n \n"
     ]
    }
   ],
   "source": [
    "import xml.etree.ElementTree as ET\n",
    "\n",
    "print(ET.ElementTree)\n",
    "\n",
    "count = 0\n",
    "for i in dir(ET.ElementTree) :\n",
    "    if not i.startswith(\"_\") :\n",
    "        print(i, end=\" \")\n",
    "        count += 1\n",
    "        if count % 5 == 0 :\n",
    "            print()"
   ]
  },
  {
   "cell_type": "code",
   "execution_count": 17,
   "metadata": {
    "collapsed": false
   },
   "outputs": [
    {
     "name": "stdout",
     "output_type": "stream",
     "text": [
      "<class 'xml.etree.ElementTree.Element'>\n",
      "append attrib clear extend find \n",
      "findall findtext get getchildren getiterator \n",
      "insert items iter iterfind itertext \n",
      "keys makeelement remove set tag \n",
      "tail text "
     ]
    }
   ],
   "source": [
    "import xml.etree.ElementTree as ET\n",
    "\n",
    "print(ET.Element)\n",
    "\n",
    "count = 0\n",
    "for i in dir(ET.Element) :\n",
    "    if not i.startswith(\"_\") :\n",
    "        print(i, end=\" \")\n",
    "        count += 1\n",
    "        if count % 5 == 0 :\n",
    "            print()"
   ]
  },
  {
   "cell_type": "markdown",
   "metadata": {},
   "source": [
    "## 예제 21-3  :  xml 문서 만들고 파싱하기\n"
   ]
  },
  {
   "cell_type": "code",
   "execution_count": 9,
   "metadata": {
    "collapsed": false
   },
   "outputs": [
    {
     "name": "stdout",
     "output_type": "stream",
     "text": [
      "Writing country_data.xml\n"
     ]
    }
   ],
   "source": [
    "%%writefile country_data.xml\n",
    "<?xml version=\"1.0\"?>\n",
    "<data> Root 처리\n",
    "    <country name=\"Liechtenstein\">\n",
    "        <rank>1</rank>\n",
    "        <year>2008</year>\n",
    "        <gdppc>141100</gdppc>\n",
    "        <neighbor name=\"Austria\" direction=\"E\"/>\n",
    "        <neighbor name=\"Switzerland\" direction=\"W\"/>\n",
    "    </country>\n",
    "    <country name=\"Singapore\">\n",
    "        <rank>4</rank>\n",
    "        <year>2011</year>\n",
    "        <gdppc>59900</gdppc>\n",
    "        <neighbor name=\"Malaysia\" direction=\"N\"/>\n",
    "    </country>\n",
    "    <country name=\"Panama\">\n",
    "        <rank>68</rank>\n",
    "        <year>2011</year>\n",
    "        <gdppc>13600</gdppc>\n",
    "        <neighbor name=\"Costa Rica\" direction=\"W\"/>\n",
    "        <neighbor name=\"Colombia\" direction=\"E\"/>\n",
    "    </country>\n",
    "</data>"
   ]
  },
  {
   "cell_type": "code",
   "execution_count": 14,
   "metadata": {
    "collapsed": false
   },
   "outputs": [
    {
     "name": "stdout",
     "output_type": "stream",
     "text": [
      "<class 'xml.etree.ElementTree.ElementTree'>\n",
      "<Element 'data' at 0x0000000005566D18>\n",
      "<Element 'country' at 0x000000000558AB38>\n",
      "<Element 'rank' at 0x000000000558A1D8>\n",
      "<Element 'year' at 0x000000000558AC78>\n",
      "<Element 'gdppc' at 0x000000000558A278>\n",
      "<Element 'neighbor' at 0x000000000558AAE8>\n",
      "<Element 'neighbor' at 0x000000000558AA98>\n",
      "<Element 'country' at 0x000000000558A7C8>\n",
      "<Element 'rank' at 0x000000000558A728>\n",
      "<Element 'year' at 0x000000000558A2C8>\n",
      "<Element 'gdppc' at 0x0000000005584138>\n",
      "<Element 'neighbor' at 0x0000000005584188>\n",
      "<Element 'country' at 0x00000000055841D8>\n",
      "<Element 'rank' at 0x0000000005584228>\n",
      "<Element 'year' at 0x0000000005584278>\n",
      "<Element 'gdppc' at 0x00000000055842C8>\n",
      "<Element 'neighbor' at 0x0000000005584318>\n",
      "<Element 'neighbor' at 0x0000000005584368>\n"
     ]
    }
   ],
   "source": [
    "import xml.etree.ElementTree as ET\n",
    "tree = ET.parse('country_data.xml')\n",
    "\n",
    "print(type(tree))\n",
    "s = tree.getiterator()\n",
    "for i in s :\n",
    "    print(i)"
   ]
  },
  {
   "cell_type": "code",
   "execution_count": 15,
   "metadata": {
    "collapsed": false
   },
   "outputs": [
    {
     "name": "stdout",
     "output_type": "stream",
     "text": [
      "<class 'xml.etree.ElementTree.ElementTree'>\n",
      "<Element 'data' at 0x0000000005566D18>\n",
      "<class 'xml.etree.ElementTree.Element'>\n"
     ]
    }
   ],
   "source": [
    "print(type(tree))\n",
    "root = tree.getroot()\n",
    "print(root)\n",
    "print(type(root)) "
   ]
  },
  {
   "cell_type": "code",
   "execution_count": 16,
   "metadata": {
    "collapsed": false
   },
   "outputs": [
    {
     "name": "stdout",
     "output_type": "stream",
     "text": [
      "<xml.etree.ElementTree.ElementTree object at 0x0000000005586D30>\n",
      "<Element 'data' at 0x0000000005566368>\n",
      "<class 'xml.etree.ElementTree.Element'>\n"
     ]
    }
   ],
   "source": [
    "import xml.etree.ElementTree as ET\n",
    "tree = ET.ElementTree(file='country_data.xml')\n",
    "print(tree)\n",
    "root = tree.getroot()\n",
    "print(root)\n",
    "print(type(root)) "
   ]
  },
  {
   "cell_type": "markdown",
   "metadata": {},
   "source": [
    "## 예제 21-4 : Element 내부 속성 확인하기 "
   ]
  },
  {
   "cell_type": "code",
   "execution_count": 20,
   "metadata": {
    "collapsed": false
   },
   "outputs": [
    {
     "name": "stdout",
     "output_type": "stream",
     "text": [
      "<Element 'data' at 0x0000000005566368>\n",
      "data\n",
      "{}\n",
      "None\n",
      " Root 처리\n",
      "    \n"
     ]
    }
   ],
   "source": [
    "print(root)\n",
    "print(root.tag)\n",
    "print(root.attrib)\n",
    "print(root.tail)\n",
    "print(root.text)"
   ]
  },
  {
   "cell_type": "code",
   "execution_count": 22,
   "metadata": {
    "collapsed": false
   },
   "outputs": [
    {
     "name": "stdout",
     "output_type": "stream",
     "text": [
      "<Element 'country' at 0x0000000005566048>\n",
      "Liechtenstein\n",
      "<Element 'country' at 0x00000000055668B8>\n",
      "Singapore\n",
      "<Element 'country' at 0x000000000558AEF8>\n",
      "Panama\n"
     ]
    }
   ],
   "source": [
    "country = root.getchildren()\n",
    "print(country[0])\n",
    "print(country[0].get(\"name\"))\n",
    "print(country[1])\n",
    "print(country[1].get(\"name\"))\n",
    "print(country[2])\n",
    "print(country[2].get(\"name\"))"
   ]
  },
  {
   "cell_type": "code",
   "execution_count": 23,
   "metadata": {
    "collapsed": false
   },
   "outputs": [
    {
     "name": "stdout",
     "output_type": "stream",
     "text": [
      "<Element 'country' at 0x0000000005566048>\n",
      "Liechtenstein\n",
      "['name']\n",
      "[('name', 'Liechtenstein')]\n"
     ]
    }
   ],
   "source": [
    "print(country[0])\n",
    "print(country[0].get(\"name\"))\n",
    "print(country[0].keys())\n",
    "print(country[0].items())"
   ]
  },
  {
   "cell_type": "code",
   "execution_count": 26,
   "metadata": {
    "collapsed": false
   },
   "outputs": [
    {
     "name": "stdout",
     "output_type": "stream",
     "text": [
      "<Element 'rank' at 0x00000000055661D8>\n",
      "<Element 'year' at 0x0000000005566458>\n",
      "<Element 'gdppc' at 0x0000000005566548>\n",
      "<Element 'neighbor' at 0x0000000005566278>\n",
      "<Element 'neighbor' at 0x00000000055662C8>\n"
     ]
    }
   ],
   "source": [
    "for i in country[0].getchildren() :\n",
    "    print(i)"
   ]
  },
  {
   "cell_type": "markdown",
   "metadata": {},
   "source": [
    "## 예제 21-5  :  순회 처리 알아보기\n"
   ]
  },
  {
   "cell_type": "code",
   "execution_count": 11,
   "metadata": {
    "collapsed": false
   },
   "outputs": [
    {
     "name": "stdout",
     "output_type": "stream",
     "text": [
      "Overwriting doc.xml\n"
     ]
    }
   ],
   "source": [
    "%%writefile doc.xml\n",
    "<?xml version=\"1.0\" ?>\n",
    "<doc>\n",
    "    <branch name=\"testing\" hash=\"1cdfo45c\">\n",
    "        text, source\n",
    "    </branch>\n",
    "     <branch name=\"release01\" hash=\"f200013e\">\n",
    "        test processing\n",
    "        <sub-branch name=\"subrelease01\">\n",
    "           xml, sgml, html\n",
    "        </sub-branch>\n",
    "    </branch>\n",
    "    <branch name=\"invalid\">\n",
    "        xml parsing\n",
    "    </branch>\n",
    "</doc>"
   ]
  },
  {
   "cell_type": "code",
   "execution_count": 12,
   "metadata": {
    "collapsed": false
   },
   "outputs": [
    {
     "name": "stdout",
     "output_type": "stream",
     "text": [
      "False\n",
      "False\n",
      "<Element 'branch' at 0x000000000559D8B8>\n",
      "<Element 'branch' at 0x000000000559D908>\n",
      "<Element 'branch' at 0x000000000559D9F8>\n"
     ]
    }
   ],
   "source": [
    "import xml.etree.ElementTree as ET\n",
    "import collections.abc as cols\n",
    "\n",
    "tree = ET.ElementTree(file=\"doc.xml\")\n",
    "root = tree.getroot()\n",
    "\n",
    "print(issubclass(type(root), cols.Iterable))\n",
    "print(issubclass(type(root), cols.Iterator))\n",
    "\n",
    "for i in root :\n",
    "    print(i)\n",
    "    "
   ]
  },
  {
   "cell_type": "code",
   "execution_count": 13,
   "metadata": {
    "collapsed": false
   },
   "outputs": [
    {
     "name": "stdout",
     "output_type": "stream",
     "text": [
      "<_elementtree._element_iterator object at 0x000000000558DEB8>\n",
      "True\n",
      "True\n",
      "<Element 'doc' at 0x0000000005567F48>\n",
      "<Element 'branch' at 0x000000000559D8B8>\n",
      "<Element 'branch' at 0x000000000559D908>\n",
      "<Element 'sub-branch' at 0x000000000559D958>\n",
      "<Element 'branch' at 0x000000000559D9F8>\n"
     ]
    },
    {
     "ename": "StopIteration",
     "evalue": "",
     "output_type": "error",
     "traceback": [
      "\u001b[0;31m---------------------------------------------------------------------------\u001b[0m",
      "\u001b[0;31mStopIteration\u001b[0m                             Traceback (most recent call last)",
      "\u001b[0;32m<ipython-input-13-9f7638537f59>\u001b[0m in \u001b[0;36m<module>\u001b[0;34m()\u001b[0m\n\u001b[1;32m      9\u001b[0m \u001b[0mprint\u001b[0m\u001b[1;33m(\u001b[0m\u001b[0mnext\u001b[0m\u001b[1;33m(\u001b[0m\u001b[0ma\u001b[0m\u001b[1;33m)\u001b[0m\u001b[1;33m)\u001b[0m\u001b[1;33m\u001b[0m\u001b[0m\n\u001b[1;32m     10\u001b[0m \u001b[0mprint\u001b[0m\u001b[1;33m(\u001b[0m\u001b[0mnext\u001b[0m\u001b[1;33m(\u001b[0m\u001b[0ma\u001b[0m\u001b[1;33m)\u001b[0m\u001b[1;33m)\u001b[0m\u001b[1;33m\u001b[0m\u001b[0m\n\u001b[0;32m---> 11\u001b[0;31m \u001b[0mprint\u001b[0m\u001b[1;33m(\u001b[0m\u001b[0mnext\u001b[0m\u001b[1;33m(\u001b[0m\u001b[0ma\u001b[0m\u001b[1;33m)\u001b[0m\u001b[1;33m)\u001b[0m\u001b[1;33m\u001b[0m\u001b[0m\n\u001b[0m",
      "\u001b[0;31mStopIteration\u001b[0m: "
     ]
    }
   ],
   "source": [
    "a = root.iter()\n",
    "print(a)\n",
    "print(issubclass(type(a), cols.Iterable))\n",
    "print(issubclass(type(a), cols.Iterator))\n",
    "\n",
    "print(next(a))\n",
    "print(next(a))\n",
    "print(next(a))\n",
    "print(next(a))\n",
    "print(next(a))\n",
    "print(next(a))"
   ]
  },
  {
   "cell_type": "code",
   "execution_count": 14,
   "metadata": {
    "collapsed": false
   },
   "outputs": [
    {
     "name": "stdout",
     "output_type": "stream",
     "text": [
      "branch {'name': 'testing', 'hash': '1cdfo45c'} \n",
      "        text, source\n",
      "    \n",
      "branch {'name': 'release01', 'hash': 'f200013e'} \n",
      "        test processing\n",
      "        \n",
      "branch {'name': 'invalid'} \n",
      "        xml parsing\n",
      "    \n"
     ]
    }
   ],
   "source": [
    "import xml.etree.ElementTree as ET\n",
    "\n",
    "tree = ET.ElementTree(file=\"doc.xml\")\n",
    "root = tree.getroot()\n",
    "\n",
    "for child_tag in root :\n",
    "    print(child_tag.tag, child_tag.attrib, child_tag.text)"
   ]
  },
  {
   "cell_type": "markdown",
   "metadata": {},
   "source": [
    "## 예제 21-6 : 특정 태크 찾기"
   ]
  },
  {
   "cell_type": "code",
   "execution_count": 33,
   "metadata": {
    "collapsed": false
   },
   "outputs": [
    {
     "name": "stdout",
     "output_type": "stream",
     "text": [
      "branch\n",
      "\n",
      "        text, source\n",
      "     \n",
      "        text, source\n",
      "     \n",
      "        test processing\n",
      "         \n",
      "        xml parsing\n",
      "     "
     ]
    }
   ],
   "source": [
    "import xml.etree.ElementTree as ET\n",
    "\n",
    "tree = ET.ElementTree(file=\"doc.xml\")\n",
    "root = tree.getroot()\n",
    "\n",
    "print(root.find(\"branch\").tag)\n",
    "print(root.findtext(\"branch\"),end=\" \")\n",
    "b = root.findall(\"branch\")\n",
    "for child_tag in b :\n",
    "    a = child_tag.text\n",
    "    print(a, end = \" \")"
   ]
  },
  {
   "cell_type": "code",
   "execution_count": 37,
   "metadata": {
    "collapsed": false
   },
   "outputs": [
    {
     "name": "stdout",
     "output_type": "stream",
     "text": [
      "\n",
      "           xml, sgml, html\n",
      "        \n",
      "\n",
      "           xml, sgml, html\n",
      "        \n"
     ]
    }
   ],
   "source": [
    "import xml.etree.ElementTree as ET\n",
    "\n",
    "tree = ET.ElementTree(file=\"doc.xml\")\n",
    "root = tree.getroot()\n",
    "\n",
    "print(root.findtext(\"branch/sub-branch\"))\n",
    "print(root.find(\"branch/sub-branch\").text)"
   ]
  },
  {
   "cell_type": "markdown",
   "metadata": {},
   "source": [
    "## 예제 21-7  :  반복자를 이용해서 태그 찾기 "
   ]
  },
  {
   "cell_type": "code",
   "execution_count": 44,
   "metadata": {
    "collapsed": false
   },
   "outputs": [
    {
     "name": "stdout",
     "output_type": "stream",
     "text": [
      "branch {'name': 'testing', 'hash': '1cdfo45c'} \n",
      "        text, source\n",
      "    \n",
      "branch {'name': 'release01', 'hash': 'f200013e'} \n",
      "        test processing\n",
      "        \n",
      "branch {'name': 'invalid'} \n",
      "        xml parsing\n",
      "    \n"
     ]
    }
   ],
   "source": [
    "import xml.etree.ElementTree as ET\n",
    "\n",
    "tree = ET.ElementTree(file=\"doc.xml\")\n",
    "root = tree.getroot()\n",
    "\n",
    "for i in root.iterfind(\"branch\") :\n",
    "    print(i.tag, i.attrib, i.text)"
   ]
  },
  {
   "cell_type": "code",
   "execution_count": 45,
   "metadata": {
    "collapsed": false
   },
   "outputs": [
    {
     "name": "stdout",
     "output_type": "stream",
     "text": [
      "sub-branch {'name': 'subrelease01'} \n",
      "           xml, sgml, html\n",
      "        \n"
     ]
    }
   ],
   "source": [
    "import xml.etree.ElementTree as ET\n",
    "\n",
    "tree = ET.ElementTree(file=\"doc.xml\")\n",
    "root = tree.getroot()\n",
    "\n",
    "for i in root.iterfind(\"*//sub-branch\") :\n",
    "    print(i.tag, i.attrib, i.text)"
   ]
  },
  {
   "cell_type": "code",
   "execution_count": 48,
   "metadata": {
    "collapsed": false
   },
   "outputs": [
    {
     "name": "stdout",
     "output_type": "stream",
     "text": [
      "branch {'name': 'invalid'} \n",
      "        xml parsing\n",
      "    \n"
     ]
    }
   ],
   "source": [
    "import xml.etree.ElementTree as ET\n",
    "\n",
    "tree = ET.ElementTree(file=\"doc.xml\")\n",
    "root = tree.getroot()\n",
    "\n",
    "for i in root.iterfind(\"branch[@name='invalid']\") :\n",
    "    print(i.tag, i.attrib, i.text)"
   ]
  },
  {
   "cell_type": "code",
   "execution_count": 43,
   "metadata": {
    "collapsed": false
   },
   "outputs": [
    {
     "name": "stdout",
     "output_type": "stream",
     "text": [
      "\n",
      "    \n",
      "        text, source\n",
      "    \n",
      "     \n",
      "        test processing\n",
      "        \n",
      "           xml, sgml, html\n",
      "        \n",
      "    \n",
      "    \n",
      "        xml parsing\n",
      "    \n"
     ]
    }
   ],
   "source": [
    "import xml.etree.ElementTree as ET\n",
    "\n",
    "tree = ET.ElementTree(file=\"doc.xml\")\n",
    "root = tree.getroot()\n",
    "\n",
    "for i in root.itertext() :\n",
    "    print(i, end=\"\")"
   ]
  },
  {
   "cell_type": "markdown",
   "metadata": {},
   "source": [
    "## 예제 21-8  :  Element 생성해서 요소 만들기\n"
   ]
  },
  {
   "cell_type": "code",
   "execution_count": 55,
   "metadata": {
    "collapsed": false
   },
   "outputs": [
    {
     "name": "stdout",
     "output_type": "stream",
     "text": [
      "<Element 'root' at 0x000000000567C4A8>\n",
      "root\n",
      "<Element 'child' at 0x000000000567C868>\n",
      "child\n",
      "<root><child /></root>\n"
     ]
    }
   ],
   "source": [
    "import xml.etree.ElementTree as ET\n",
    "\n",
    "root = ET.Element(\"root\")\n",
    "print(root)\n",
    "print(root.tag)\n",
    "\n",
    "child = ET.Element(\"child\")\n",
    "print(child)\n",
    "print(child.tag)\n",
    "\n",
    "root.append(child)\n",
    "\n",
    "ET.dump(root)"
   ]
  },
  {
   "cell_type": "code",
   "execution_count": 59,
   "metadata": {
    "collapsed": false
   },
   "outputs": [
    {
     "name": "stdout",
     "output_type": "stream",
     "text": [
      "<Element 'root' at 0x00000000056810E8>\n",
      "root\n",
      "<root><child2 /></root>\n"
     ]
    }
   ],
   "source": [
    "import xml.etree.ElementTree as ET\n",
    "\n",
    "root = ET.Element(\"root\")\n",
    "print(root)\n",
    "print(root.tag)\n",
    "\n",
    "ET.SubElement(root,\"child2\")\n",
    "\n",
    "ET.dump(root)"
   ]
  },
  {
   "cell_type": "code",
   "execution_count": 60,
   "metadata": {
    "collapsed": false
   },
   "outputs": [
    {
     "name": "stdout",
     "output_type": "stream",
     "text": [
      "<Element 'root' at 0x000000000567C458>\n",
      "root\n",
      "<root><child2 /><child3 /></root>\n"
     ]
    }
   ],
   "source": [
    "import xml.etree.ElementTree as ET\n",
    "\n",
    "root = ET.Element(\"root\")\n",
    "print(root)\n",
    "print(root.tag)\n",
    "\n",
    "ET.SubElement(root,\"child2\")\n",
    "child3 = ET.Element(\"child3\")\n",
    "root.insert(2,child3)\n",
    "\n",
    "ET.dump(root)"
   ]
  },
  {
   "cell_type": "code",
   "execution_count": 63,
   "metadata": {
    "collapsed": false
   },
   "outputs": [
    {
     "name": "stdout",
     "output_type": "stream",
     "text": [
      "<Element 'root' at 0x000000000567CD68>\n",
      "root\n",
      "<root><child2 /></root>\n"
     ]
    }
   ],
   "source": [
    "import xml.etree.ElementTree as ET\n",
    "\n",
    "root = ET.Element(\"root\")\n",
    "print(root)\n",
    "print(root.tag)\n",
    "\n",
    "ET.SubElement(root,\"child2\")\n",
    "child3 = ET.Element(\"child3\")\n",
    "root.insert(2,child3)\n",
    "\n",
    "root.remove(child3)\n",
    "\n",
    "ET.dump(root)"
   ]
  },
  {
   "cell_type": "markdown",
   "metadata": {},
   "source": [
    "## 예제 21-9  :   Element 생성시 속성 추가\n"
   ]
  },
  {
   "cell_type": "code",
   "execution_count": 66,
   "metadata": {
    "collapsed": false
   },
   "outputs": [
    {
     "name": "stdout",
     "output_type": "stream",
     "text": [
      "['interesting']\n",
      "interesting = 'totally'\n"
     ]
    }
   ],
   "source": [
    "import xml.etree.ElementTree as ET\n",
    "\n",
    "root = ET.Element(\"root\", interesting=\"totally\")\n",
    "\n",
    "print(sorted(root.keys()))\n",
    "\n",
    "for name, value in sorted(root.items()):\n",
    "    print('%s = %r' % (name, value))\n",
    "    "
   ]
  },
  {
   "cell_type": "code",
   "execution_count": 67,
   "metadata": {
    "collapsed": false
   },
   "outputs": [
    {
     "name": "stdout",
     "output_type": "stream",
     "text": [
      "['hello', 'interesting']\n",
      "hello = 'Huhu'\n",
      "interesting = 'totally'\n"
     ]
    }
   ],
   "source": [
    "import xml.etree.ElementTree as ET\n",
    "\n",
    "root = ET.Element(\"root\", interesting=\"totally\")\n",
    "\n",
    "root.set(\"hello\", \"Huhu\")\n",
    "\n",
    "print(sorted(root.keys()))\n",
    "\n",
    "for name, value in sorted(root.items()):\n",
    "    print('%s = %r' % (name, value))\n"
   ]
  },
  {
   "cell_type": "code",
   "execution_count": 68,
   "metadata": {
    "collapsed": false
   },
   "outputs": [
    {
     "name": "stdout",
     "output_type": "stream",
     "text": [
      "totally\n",
      "None\n",
      "Guten Tag\n",
      "Guten Tag\n"
     ]
    }
   ],
   "source": [
    "attributes = root.attrib\n",
    "print(attributes[\"interesting\"])\n",
    "print(attributes.get(\"no-such-attribute\"))\n",
    "attributes[\"hello\"] = \"Guten Tag\"\n",
    "print(attributes[\"hello\"])\n",
    "print(root.get(\"hello\"))"
   ]
  },
  {
   "cell_type": "markdown",
   "metadata": {
    "collapsed": true
   },
   "source": [
    "## 예제 21-10  :   xml 문서를 만들고 문자열로 보기 \n"
   ]
  },
  {
   "cell_type": "code",
   "execution_count": 4,
   "metadata": {
    "collapsed": false
   },
   "outputs": [
    {
     "name": "stdout",
     "output_type": "stream",
     "text": [
      "<Element 'root' at 0x0000000005605228>\n",
      "root\n",
      "b'<root><child1 /><child2 /><child3 /></root>'\n"
     ]
    }
   ],
   "source": [
    "import xml.etree.ElementTree as ET\n",
    "root = ET.Element(\"root\")\n",
    "print(root)\n",
    "print(root.tag)\n",
    "root.append( ET.Element(\"child1\") )\n",
    "child2 = ET.SubElement(root, \"child2\")\n",
    "child3 = ET.SubElement(root, \"child3\")\n",
    "print(ET.tostring(root))"
   ]
  },
  {
   "cell_type": "code",
   "execution_count": 21,
   "metadata": {
    "collapsed": false
   },
   "outputs": [
    {
     "name": "stdout",
     "output_type": "stream",
     "text": [
      "b'<root>\\n<a>parsnips</a>\\n</root>'\n"
     ]
    }
   ],
   "source": [
    "import xml.etree.ElementTree as ET\n",
    "xml_ = ET.fromstring('''<?xml version=\"1.0\"?>\n",
    "<!DOCTYPE root SYSTEM \"test\" [ <!ENTITY tasty \"parsnips\"> ]>\n",
    "<root>\n",
    "<a>&tasty;</a>\n",
    "</root>\n",
    "''')\n",
    "\n",
    "print(ET.tostring(xml_)) "
   ]
  },
  {
   "cell_type": "markdown",
   "metadata": {},
   "source": [
    "## 예제 21-11  :   xml 문서를 파일 저장하기\n"
   ]
  },
  {
   "cell_type": "code",
   "execution_count": 25,
   "metadata": {
    "collapsed": false
   },
   "outputs": [
    {
     "name": "stdout",
     "output_type": "stream",
     "text": [
      "b'<root>data</root>'\n"
     ]
    }
   ],
   "source": [
    "from io import BytesIO\n",
    "import xml.etree.ElementTree as ET\n",
    "\n",
    "file_like_object = BytesIO(b\"<root>data</root>\")\n",
    "tree = ET.parse(file_like_object)\n",
    "root = tree.getroot()\n",
    "\n",
    "print(ET.tostring(root))"
   ]
  },
  {
   "cell_type": "code",
   "execution_count": 34,
   "metadata": {
    "collapsed": false
   },
   "outputs": [
    {
     "name": "stdout",
     "output_type": "stream",
     "text": [
      "<Element 'foo' at 0x000000000566AA48>\n",
      "bar\n"
     ]
    }
   ],
   "source": [
    "import xml.etree.ElementTree as ET\n",
    "from io import StringIO\n",
    "\n",
    "f = StringIO('<foo><bar></bar></foo>')\n",
    "tree = ET.parse(f)\n",
    "root = tree.getroot()\n",
    "print(root)\n",
    "\n",
    "r = root.find('bar')\n",
    "print(r.tag)\n"
   ]
  },
  {
   "cell_type": "code",
   "execution_count": 35,
   "metadata": {
    "collapsed": false
   },
   "outputs": [
    {
     "name": "stdout",
     "output_type": "stream",
     "text": [
      "data\n",
      "** cleaning up the subtree\n",
      "None\n",
      "** cleaning up the subtree\n"
     ]
    }
   ],
   "source": [
    "import xml.etree.ElementTree as ET\n",
    "from io import BytesIO\n",
    "some_file_like = BytesIO(b\"<root><a><b>data</b></a><a><b/></a></root>\")\n",
    "\n",
    "for event, element in ET.iterparse(some_file_like):\n",
    "    if element.tag == 'b':\n",
    "        print(element.text)\n",
    "    elif element.tag == 'a':\n",
    "        print(\"** cleaning up the subtree\")\n",
    "        element.clear()"
   ]
  },
  {
   "cell_type": "code",
   "execution_count": 37,
   "metadata": {
    "collapsed": false
   },
   "outputs": [],
   "source": [
    "import xml.etree.ElementTree as ET\n",
    "\n",
    "input = '''\n",
    "<stuff>\n",
    "    <users>\n",
    "        <user x=\"2\">\n",
    "            <id>001</id>\n",
    "            <name>Chuck</name>\n",
    "        </user>\n",
    "        <user x=\"7\">\n",
    "            <id>009</id>\n",
    "            <name>Brent</name>\n",
    "            </user>\n",
    "        </users>\n",
    "</stuff>'''\n"
   ]
  },
  {
   "cell_type": "code",
   "execution_count": 38,
   "metadata": {
    "collapsed": false
   },
   "outputs": [
    {
     "name": "stdout",
     "output_type": "stream",
     "text": [
      "User count: 2\n",
      "Name Chuck\n",
      "Id 001\n",
      "Attribute 2\n",
      "Name Brent\n",
      "Id 009\n",
      "Attribute 7\n"
     ]
    }
   ],
   "source": [
    "stuff = ET.fromstring(input)\n",
    "lst = stuff.findall('users/user')\n",
    "print('User count:', len(lst))\n",
    "\n",
    "for item in lst:\n",
    "    print('Name', item.find('name').text)\n",
    "    print('Id', item.find('id').text)\n",
    "    print('Attribute', item.get(\"x\"))"
   ]
  },
  {
   "cell_type": "code",
   "execution_count": 12,
   "metadata": {
    "collapsed": false
   },
   "outputs": [
    {
     "name": "stdout",
     "output_type": "stream",
     "text": [
      "b'<QuoteWerksXML><AppVersionMajor>5.1</AppVersionMajor></QuoteWerksXML>'\n"
     ]
    }
   ],
   "source": [
    "import xml.etree.ElementTree as ET\n",
    "\n",
    "root = ET.Element('QuoteWerksXML')\n",
    "tree = ET.ElementTree(root)\n",
    "ver = ET.SubElement(root, \"AppVersionMajor\")\n",
    "ver.text = '5.1'\n",
    "\n",
    "tree.write(open('person.xml', 'wb'))\n",
    "\n",
    "tree = ET.parse('person.xml')\n",
    "root_ = tree.getroot()\n",
    "print(ET.tostring(root_))\n"
   ]
  }
 ],
 "metadata": {
  "kernelspec": {
   "display_name": "Python 3",
   "language": "python",
   "name": "python3"
  },
  "language_info": {
   "codemirror_mode": {
    "name": "ipython",
    "version": 3
   },
   "file_extension": ".py",
   "mimetype": "text/x-python",
   "name": "python",
   "nbconvert_exporter": "python",
   "pygments_lexer": "ipython3",
   "version": "3.6.0"
  }
 },
 "nbformat": 4,
 "nbformat_minor": 2
}
