{
 "cells": [
  {
   "cell_type": "markdown",
   "metadata": {
    "collapsed": true
   },
   "source": [
    "## 예제 22-1  : json 모듈 이해하기\n"
   ]
  },
  {
   "cell_type": "code",
   "execution_count": 4,
   "metadata": {},
   "outputs": [
    {
     "name": "stdout",
     "output_type": "stream",
     "text": [
      "JSONDecodeError\n",
      "JSONDecoder\n",
      "JSONEncoder\n",
      "codecs\n",
      "decoder\n",
      "detect_encoding\n",
      "dump\n",
      "dumps\n",
      "encoder\n",
      "load\n",
      "loads\n",
      "scanner\n"
     ]
    }
   ],
   "source": [
    "import json\n",
    "\n",
    "for i in dir(json) :\n",
    "    if not i.startswith(\"_\") :\n",
    "        print(i)"
   ]
  },
  {
   "cell_type": "code",
   "execution_count": 26,
   "metadata": {},
   "outputs": [
    {
     "name": "stdout",
     "output_type": "stream",
     "text": [
      "<class 'str'> [\"streaming API\"]\n",
      "<class 'list'> ['streaming API']\n"
     ]
    }
   ],
   "source": [
    "import json\n",
    "\n",
    "a = json.JSONEncoder().encode(['streaming API'])\n",
    "print(type(a),a)\n",
    "\n",
    "a = json.JSONDecoder().decode(a)\n",
    "print(type(a),a)\n"
   ]
  },
  {
   "cell_type": "code",
   "execution_count": 28,
   "metadata": {},
   "outputs": [
    {
     "name": "stdout",
     "output_type": "stream",
     "text": [
      "Object of type 'bytes' is not JSON serializable\n"
     ]
    }
   ],
   "source": [
    "import json\n",
    "\n",
    "try :\n",
    "    a = json.JSONEncoder().encode([b'streaming API'])\n",
    "    \n",
    "    print(type(a),a)\n",
    "except TypeError as e :\n",
    "    print(e)"
   ]
  },
  {
   "cell_type": "markdown",
   "metadata": {},
   "source": [
    "## 예제 22-2  : JSON 함수를 이용해서 변환하기"
   ]
  },
  {
   "cell_type": "code",
   "execution_count": 6,
   "metadata": {},
   "outputs": [
    {
     "name": "stdout",
     "output_type": "stream",
     "text": [
      "<class 'str'>\n",
      "[\"foo\", {\"bar\": [\"baz\", null, 1.0, 2]}]\n",
      "<class 'list'>\n",
      "['foo', {'bar': ['baz', None, 1.0, 2]}]\n"
     ]
    }
   ],
   "source": [
    "import json\n",
    "\n",
    "list_ = ['foo', {'bar': ('baz', None, 1.0, 2)}]\n",
    "a = json.dumps(list_)\n",
    "print(type(a))\n",
    "print(a)\n",
    "\n",
    "b = json.loads(a)\n",
    "print(type(b))\n",
    "print(b)"
   ]
  },
  {
   "cell_type": "code",
   "execution_count": 9,
   "metadata": {},
   "outputs": [
    {
     "name": "stdout",
     "output_type": "stream",
     "text": [
      "{\"a\": 5, \"6\": 7}\n",
      "{\n",
      "    \"6\": 7,\n",
      "    \"a\": 5\n",
      "}\n"
     ]
    }
   ],
   "source": [
    "import json\n",
    "d = {'a': 5, '6': 7}\n",
    "print(json.dumps(d))\n",
    "\n",
    "print(json.dumps(d, sort_keys=True, indent=4))"
   ]
  },
  {
   "cell_type": "code",
   "execution_count": 10,
   "metadata": {},
   "outputs": [
    {
     "name": "stdout",
     "output_type": "stream",
     "text": [
      "[1,2,3,{\"4\":5,\"6\":7}]\n",
      "[\n",
      "    1,\n",
      "    2,\n",
      "    3,\n",
      "    {\n",
      "        \"4\": 5,\n",
      "        \"6\": 7\n",
      "    }\n",
      "]\n"
     ]
    }
   ],
   "source": [
    "import json\n",
    "\n",
    "list_ = [1,2,3,{'4': 5, '6': 7}]\n",
    "\n",
    "print(json.dumps(list_, separators=(',', ':')))\n",
    "\n",
    "print(json.dumps(list_, sort_keys=True, indent=4))"
   ]
  },
  {
   "cell_type": "markdown",
   "metadata": {},
   "source": [
    "## 예제 22-3  :  파이썬 클래스를 JSON으로 변환하기\n"
   ]
  },
  {
   "cell_type": "code",
   "execution_count": 11,
   "metadata": {},
   "outputs": [
    {
     "name": "stdout",
     "output_type": "stream",
     "text": [
      "{\"name\": \"Alice A. Adams\", \"password\": \"secret\"}\n"
     ]
    }
   ],
   "source": [
    "class User(object):\n",
    "    def __init__(self, name, password):\n",
    "        self.name = name\n",
    "        self.password = password\n",
    "        \n",
    "alice = User('Alice A. Adams', 'secret')\n",
    "\n",
    "def jdefault(o):\n",
    "    return o.__dict__\n",
    "\n",
    "print(json.dumps(alice, default=jdefault))"
   ]
  },
  {
   "cell_type": "code",
   "execution_count": 12,
   "metadata": {},
   "outputs": [
    {
     "name": "stdout",
     "output_type": "stream",
     "text": [
      "[\"Panther\", \"Tiger\", \"Toad\"]\n"
     ]
    }
   ],
   "source": [
    "import json\n",
    "\n",
    "def jdefault(o):\n",
    "    if isinstance(o, set):\n",
    "        return list(o)\n",
    "    return o.__dict__\n",
    "\n",
    "pets = set(['Tiger', 'Panther', 'Toad'])\n",
    "print(json.dumps(pets, default=jdefault))"
   ]
  },
  {
   "cell_type": "markdown",
   "metadata": {},
   "source": [
    "## 예제 22-4  : JSON을 파이썬 클래스로 변환하기\n"
   ]
  },
  {
   "cell_type": "code",
   "execution_count": 13,
   "metadata": {},
   "outputs": [
    {
     "name": "stdout",
     "output_type": "stream",
     "text": [
      "<class 'collections.OrderedDict'>\n",
      "{\n",
      "    \"foo\": 1,\n",
      "    \"bar\": 2\n",
      "}\n"
     ]
    }
   ],
   "source": [
    "import json\n",
    "from collections import OrderedDict\n",
    "\n",
    "data = json.loads('{\"foo\":1, \"bar\": 2}', object_pairs_hook=OrderedDict)\n",
    "\n",
    "print(type(data))\n",
    "print(json.dumps(data, indent=4))"
   ]
  },
  {
   "cell_type": "markdown",
   "metadata": {},
   "source": [
    "## 예제 22-5  :  임시 파일 처리  "
   ]
  },
  {
   "cell_type": "code",
   "execution_count": 29,
   "metadata": {},
   "outputs": [
    {
     "name": "stdout",
     "output_type": "stream",
     "text": [
      "[\"streaming API\"]\n",
      "<class '_io.StringIO'>\n",
      "['streaming API']\n"
     ]
    }
   ],
   "source": [
    "from io import StringIO\n",
    "import json\n",
    "\n",
    "io = StringIO()\n",
    "json.dump(['streaming API'], io)\n",
    "print(io.getvalue())\n",
    "\n",
    "io = StringIO(io.getvalue())\n",
    "print(type(io))\n",
    "print(json.load(io))"
   ]
  },
  {
   "cell_type": "markdown",
   "metadata": {},
   "source": [
    "## 예제 22-6  : 파일 처리 "
   ]
  },
  {
   "cell_type": "code",
   "execution_count": 33,
   "metadata": {},
   "outputs": [
    {
     "name": "stdout",
     "output_type": "stream",
     "text": [
      "{\"name\": \"Song\", \"shares\": 100, \"price\": 542.23}\n",
      "{'name': 'Song', 'shares': 100, 'price': 542.23}\n"
     ]
    }
   ],
   "source": [
    "import json\n",
    "\n",
    "data = {\n",
    "   'name' : 'Song',\n",
    "   'shares' : 100,\n",
    "   'price' : 542.23\n",
    "}\n",
    "\n",
    "json_str = json.dumps(data)\n",
    "\n",
    "print(json_str)\n",
    "\n",
    "data = json.loads(json_str)\n",
    "print(data)"
   ]
  },
  {
   "cell_type": "code",
   "execution_count": 34,
   "metadata": {
    "collapsed": true
   },
   "outputs": [],
   "source": [
    "with open('data.json', 'w') as f:\n",
    "    json.dump(data, f)"
   ]
  },
  {
   "cell_type": "code",
   "execution_count": 35,
   "metadata": {},
   "outputs": [
    {
     "name": "stdout",
     "output_type": "stream",
     "text": [
      "{'name': 'Song', 'shares': 100, 'price': 542.23}\n"
     ]
    }
   ],
   "source": [
    "with open('data.json', 'r') as f:\n",
    "    data = json.load(f)\n",
    "    print(data)"
   ]
  },
  {
   "cell_type": "code",
   "execution_count": 37,
   "metadata": {},
   "outputs": [
    {
     "name": "stdout",
     "output_type": "stream",
     "text": [
      "<class 'list'>\n",
      "[{'a': 'A', 'c': 3.0, 'b': [2, 4]}]\n"
     ]
    }
   ],
   "source": [
    "import json\n",
    "\n",
    "f = open(\"file_txt.json\",'w+')\n",
    "f.write('[{\"a\": \"A\", \"c\": 3.0, \"b\": [2, 4]}]')\n",
    "f.flush()\n",
    "f.seek(0)\n",
    "\n",
    "a = json.load(f)\n",
    "print(type(a))\n",
    "print(a)\n",
    "f.close()"
   ]
  },
  {
   "cell_type": "markdown",
   "metadata": {},
   "source": [
    "## 예제 22-7  :  한글 처리 "
   ]
  },
  {
   "cell_type": "code",
   "execution_count": 1,
   "metadata": {
    "collapsed": true
   },
   "outputs": [],
   "source": [
    "import pprint\n",
    "import json\n",
    "\n",
    "book = {}\n",
    "book['title'] = '한글로 처리하기'\n",
    "book['tags'] = ('파이썬', 'Kindle', 'Light')\n",
    "book['published'] = True\n",
    "book['comment_link'] = None\n",
    "book['id'] = 1024\n",
    "\n",
    "with open('ebook.json',  'w') as f:\n",
    "    json.dump(book, f)\n"
   ]
  },
  {
   "cell_type": "code",
   "execution_count": 2,
   "metadata": {},
   "outputs": [
    {
     "name": "stdout",
     "output_type": "stream",
     "text": [
      "{\n",
      "    \"title\": \"\\ud55c\\uae00\\ub85c \\ucc98\\ub9ac\\ud558\\uae30\",\n",
      "    \"tags\": [\n",
      "        \"\\ud30c\\uc774\\uc36c\",\n",
      "        \"Kindle\",\n",
      "        \"Light\"\n",
      "    ],\n",
      "    \"published\": true,\n",
      "    \"comment_link\": null,\n",
      "    \"id\": 1024\n",
      "}\n"
     ]
    }
   ],
   "source": [
    "with open('ebook.json',  'rt') as f:\n",
    "    book = json.load(f)\n",
    "    print(json.dumps(book,indent=4))\n",
    "    "
   ]
  },
  {
   "cell_type": "code",
   "execution_count": 3,
   "metadata": {},
   "outputs": [
    {
     "name": "stdout",
     "output_type": "stream",
     "text": [
      "{'comment_link': None,\n",
      " 'id': 1024,\n",
      " 'published': True,\n",
      " 'tags': ['파이썬', 'Kindle', 'Light'],\n",
      " 'title': '한글로 처리하기'}\n"
     ]
    }
   ],
   "source": [
    "import pprint\n",
    "\n",
    "pprint.pprint(book)"
   ]
  },
  {
   "cell_type": "code",
   "execution_count": 4,
   "metadata": {},
   "outputs": [
    {
     "data": {
      "text/plain": [
       "'한글로 처리하기'"
      ]
     },
     "execution_count": 4,
     "metadata": {},
     "output_type": "execute_result"
    }
   ],
   "source": [
    "book[\"title\"]"
   ]
  },
  {
   "cell_type": "code",
   "execution_count": null,
   "metadata": {
    "collapsed": true
   },
   "outputs": [],
   "source": []
  }
 ],
 "metadata": {
  "kernelspec": {
   "display_name": "Python 3",
   "language": "python",
   "name": "python3"
  },
  "language_info": {
   "codemirror_mode": {
    "name": "ipython",
    "version": 3
   },
   "file_extension": ".py",
   "mimetype": "text/x-python",
   "name": "python",
   "nbconvert_exporter": "python",
   "pygments_lexer": "ipython3",
   "version": "3.6.3"
  }
 },
 "nbformat": 4,
 "nbformat_minor": 2
}
