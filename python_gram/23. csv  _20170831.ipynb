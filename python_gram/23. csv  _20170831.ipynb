{
 "cells": [
  {
   "cell_type": "markdown",
   "metadata": {},
   "source": [
    "## 예제 23-1  :  CSV 모듈\n"
   ]
  },
  {
   "cell_type": "code",
   "execution_count": 2,
   "metadata": {
    "collapsed": false
   },
   "outputs": [
    {
     "name": "stdout",
     "output_type": "stream",
     "text": [
      "Dialect DictReader DictWriter Error OrderedDict \n",
      "QUOTE_ALL QUOTE_MINIMAL QUOTE_NONE QUOTE_NONNUMERIC Sniffer \n",
      "StringIO excel excel_tab field_size_limit get_dialect \n",
      "list_dialects re reader register_dialect unix_dialect \n",
      "unregister_dialect writer "
     ]
    }
   ],
   "source": [
    "import csv\n",
    "\n",
    "count = 0\n",
    "for i in dir(csv) :\n",
    "    if not i.startswith(\"_\") :\n",
    "        print(i, end= \" \")\n",
    "        count += 1\n",
    "        if count % 5 == 0 :\n",
    "            print()"
   ]
  },
  {
   "cell_type": "markdown",
   "metadata": {},
   "source": [
    "## 예제 23-2  :  CSV 파일은 반복자(Iterator)"
   ]
  },
  {
   "cell_type": "code",
   "execution_count": 3,
   "metadata": {
    "collapsed": false
   },
   "outputs": [
    {
     "name": "stdout",
     "output_type": "stream",
     "text": [
      "Writing data.csv\n"
     ]
    }
   ],
   "source": [
    "%%writefile data.csv\n",
    "1,2,3\n",
    "4,5,6"
   ]
  },
  {
   "cell_type": "code",
   "execution_count": 8,
   "metadata": {
    "collapsed": false
   },
   "outputs": [
    {
     "name": "stdout",
     "output_type": "stream",
     "text": [
      "<class '_csv.reader'>\n",
      "dialect\n",
      "line_num\n"
     ]
    }
   ],
   "source": [
    "import csv\n",
    "import collections.abc as cols\n",
    "\n",
    "data = open(\"data.csv\",\"r\")\n",
    "\n",
    "read = csv.reader(data,dialect='excel')\n",
    "\n",
    "print(type(read))\n",
    "\n",
    "for i in dir(read) :\n",
    "    if not i.startswith(\"_\") :\n",
    "        print(i)\n"
   ]
  },
  {
   "cell_type": "code",
   "execution_count": 9,
   "metadata": {
    "collapsed": false
   },
   "outputs": [
    {
     "name": "stdout",
     "output_type": "stream",
     "text": [
      ",\n",
      "0\n",
      "True\n"
     ]
    }
   ],
   "source": [
    "print(read.dialect.delimiter)\n",
    "print(read.line_num)\n",
    "\n",
    "print(issubclass(type(read),cols.Iterator))"
   ]
  },
  {
   "cell_type": "markdown",
   "metadata": {},
   "source": [
    "## 예제 23-3  :  CSV 파일은 반복자(Iterator) 처리\n"
   ]
  },
  {
   "cell_type": "code",
   "execution_count": 4,
   "metadata": {
    "collapsed": false
   },
   "outputs": [
    {
     "name": "stdout",
     "output_type": "stream",
     "text": [
      "['1', '2', '3']\n",
      "['4', '5', '6']\n"
     ]
    }
   ],
   "source": [
    "f = open(\"data.csv\")\n",
    "c = csv.reader(f)\n",
    "for row in c: \n",
    "    print(row)\n",
    "\n",
    "for row in c: \n",
    "    print(row)"
   ]
  },
  {
   "cell_type": "code",
   "execution_count": 5,
   "metadata": {
    "collapsed": false
   },
   "outputs": [
    {
     "name": "stdout",
     "output_type": "stream",
     "text": [
      "['1', '2', '3']\n",
      "['4', '5', '6']\n",
      "['1', '2', '3']\n",
      "['4', '5', '6']\n"
     ]
    }
   ],
   "source": [
    "f = open(\"data.csv\")\n",
    "c = csv.reader(f)\n",
    "for row in c: \n",
    "    print(row)\n",
    "\n",
    "f.seek(0)\n",
    "for row in c: \n",
    "    print(row)"
   ]
  },
  {
   "cell_type": "code",
   "execution_count": 22,
   "metadata": {
    "collapsed": false
   },
   "outputs": [
    {
     "name": "stdout",
     "output_type": "stream",
     "text": [
      "<_csv.writer object at 0x00000000054C4FC0>\n"
     ]
    }
   ],
   "source": [
    "import csv\n",
    "\n",
    "arrayofdata=[['A','B', \"C\"],\n",
    "             ['something','spam',2.334],\n",
    "             ['anything','spam',0]]\n",
    "             \n",
    "with open('test.csv', 'w', newline='') as mycsvfile:\n",
    "    thedatawriter = csv.writer(mycsvfile)\n",
    "    print(thedatawriter)\n",
    "    \n",
    "    for row in arrayofdata:\n",
    "        thedatawriter.writerow(row)"
   ]
  },
  {
   "cell_type": "code",
   "execution_count": 17,
   "metadata": {
    "collapsed": false
   },
   "outputs": [
    {
     "name": "stdout",
     "output_type": "stream",
     "text": [
      "['A', 'B', 'C']\n",
      "['something', 'spam', '2.334']\n",
      "['anything', 'spam', '0']\n"
     ]
    }
   ],
   "source": [
    "f = open(\"test.csv\")\n",
    "c = csv.reader(f)\n",
    "for row in c: \n",
    "    print(row)"
   ]
  },
  {
   "cell_type": "markdown",
   "metadata": {},
   "source": [
    "## 예제 23-4  :  CSV :  DictWriter/DictReader\n"
   ]
  },
  {
   "cell_type": "code",
   "execution_count": 11,
   "metadata": {
    "collapsed": false
   },
   "outputs": [],
   "source": [
    "import csv\n",
    "with open('dic_file.csv', 'w') as csvfile:\n",
    "    fieldnames = ['first_name', 'last_name']\n",
    "    writer =  csv.DictWriter(csvfile, fieldnames=fieldnames)\n",
    "    writer.writeheader()\n",
    "    writer.writerow({'first_name' : 'banana', 'last_name' : 'ssang'})\n",
    "    writer.writerow({'first_name' : 'kong', 'last_name' : 'al'})\n",
    "    writer.writerow({'first_name' : 'kong', 'last_name' : 'dal'})\n"
   ]
  },
  {
   "cell_type": "code",
   "execution_count": 13,
   "metadata": {
    "collapsed": true
   },
   "outputs": [],
   "source": [
    "import csv\n",
    "with open('dic_file1.csv', 'w',newline=\"\\n\") as csvfile:\n",
    "    fieldnames = ['first_name', 'last_name']\n",
    "    writer =  csv.DictWriter(csvfile, fieldnames=fieldnames)\n",
    "    writer.writeheader()\n",
    "    writer.writerow({'first_name' : 'banana', 'last_name' : 'ssang'})\n",
    "    writer.writerow({'first_name' : 'kong', 'last_name' : 'al'})\n",
    "    writer.writerow({'first_name' : 'kong', 'last_name' : 'dal'})"
   ]
  },
  {
   "cell_type": "code",
   "execution_count": 12,
   "metadata": {
    "collapsed": false
   },
   "outputs": [
    {
     "name": "stdout",
     "output_type": "stream",
     "text": [
      "OrderedDict([('first_name', 'banana'), ('last_name', 'ssang')])\n",
      "OrderedDict([('first_name', 'kong'), ('last_name', 'al')])\n",
      "OrderedDict([('first_name', 'kong'), ('last_name', 'dal')])\n"
     ]
    }
   ],
   "source": [
    "import csv    \n",
    "with open('dic_file.csv', 'r') as csvfile:\n",
    "    reader = csv.DictReader(csvfile)\n",
    "    for row in reader:\n",
    "        print(row)"
   ]
  },
  {
   "cell_type": "code",
   "execution_count": 14,
   "metadata": {
    "collapsed": false
   },
   "outputs": [
    {
     "name": "stdout",
     "output_type": "stream",
     "text": [
      "OrderedDict([('first_name', 'banana'), ('last_name', 'ssang')])\n",
      "OrderedDict([('first_name', 'kong'), ('last_name', 'al')])\n",
      "OrderedDict([('first_name', 'kong'), ('last_name', 'dal')])\n"
     ]
    }
   ],
   "source": [
    "import csv    \n",
    "with open('dic_file1.csv', 'r') as csvfile:\n",
    "    reader = csv.DictReader(csvfile)\n",
    "    for row in reader:\n",
    "        print(row)"
   ]
  },
  {
   "cell_type": "markdown",
   "metadata": {},
   "source": [
    "## 예제 23-5  :  CSV  인용 기호 넣고 처리\n"
   ]
  },
  {
   "cell_type": "code",
   "execution_count": 28,
   "metadata": {
    "collapsed": false
   },
   "outputs": [
    {
     "name": "stdout",
     "output_type": "stream",
     "text": [
      "0\n",
      "1\n",
      "2\n",
      "3\n"
     ]
    }
   ],
   "source": [
    "import csv\n",
    "\n",
    "print(csv.QUOTE_MINIMAL)\n",
    "print(csv.QUOTE_ALL)\n",
    "print(csv.QUOTE_NONNUMERIC)\n",
    "print(csv.QUOTE_NONE)"
   ]
  },
  {
   "cell_type": "code",
   "execution_count": 29,
   "metadata": {
    "collapsed": true
   },
   "outputs": [],
   "source": [
    "import csv\n",
    " \n",
    "with open('persons1.csv', 'w', newline='') as csvfile:\n",
    "    filewriter = csv.writer(csvfile, delimiter=',',\n",
    "                            quotechar='|', quoting=csv.QUOTE_ALL)\n",
    "    filewriter.writerow(['Name', 'Profession', \"Age\"])\n",
    "    filewriter.writerow(['Derek', 'Software Developer',33])\n",
    "    filewriter.writerow(['Steve', 'Software Developer',44])\n",
    "    filewriter.writerow(['Paul', 'Manager',55])\n"
   ]
  },
  {
   "cell_type": "code",
   "execution_count": 30,
   "metadata": {
    "collapsed": false
   },
   "outputs": [
    {
     "name": "stdout",
     "output_type": "stream",
     "text": [
      "['|Name|', '|Profession|', '|Age|']\n",
      "['|Derek|', '|Software Developer|', '|33|']\n",
      "['|Steve|', '|Software Developer|', '|44|']\n",
      "['|Paul|', '|Manager|', '|55|']\n"
     ]
    }
   ],
   "source": [
    "with open('persons1.csv', 'r') as f:\n",
    "    reader = csv.reader(f)\n",
    " \n",
    "    # read file row by row\n",
    "    for row in reader:\n",
    "        print(row)"
   ]
  },
  {
   "cell_type": "markdown",
   "metadata": {},
   "source": [
    "## 예제 23-6  :  TSV 파일 처리하기\n",
    "\n"
   ]
  },
  {
   "cell_type": "code",
   "execution_count": 32,
   "metadata": {
    "collapsed": false
   },
   "outputs": [],
   "source": [
    "import csv\n",
    " \n",
    "with open('persons1.tsv', 'w', newline='') as csvfile:\n",
    "    filewriter = csv.writer(csvfile, delimiter='\\t')\n",
    "    filewriter.writerow(['Name', 'Profession'])\n",
    "    filewriter.writerow(['Derek', 'Software Developer'])\n",
    "    filewriter.writerow(['Steve', 'Software Developer'])\n",
    "    filewriter.writerow(['Paul', 'Manager'])\n"
   ]
  },
  {
   "cell_type": "code",
   "execution_count": 33,
   "metadata": {
    "collapsed": false
   },
   "outputs": [
    {
     "name": "stdout",
     "output_type": "stream",
     "text": [
      "['Name\\tProfession']\n",
      "['Derek\\tSoftware Developer']\n",
      "['Steve\\tSoftware Developer']\n",
      "['Paul\\tManager']\n"
     ]
    }
   ],
   "source": [
    "with open('persons1.tsv', 'r') as f:\n",
    "    reader = csv.reader(f)\n",
    " \n",
    "    # read file row by row\n",
    "    for row in reader:\n",
    "        print(row)"
   ]
  },
  {
   "cell_type": "code",
   "execution_count": 35,
   "metadata": {
    "collapsed": false
   },
   "outputs": [
    {
     "name": "stdout",
     "output_type": "stream",
     "text": [
      "['Name', 'Profession']\n",
      "['Derek', 'Software Developer']\n",
      "['Steve', 'Software Developer']\n",
      "['Paul', 'Manager']\n"
     ]
    }
   ],
   "source": [
    "with open('persons1.tsv', 'r') as f:\n",
    "    reader = csv.reader(f, delimiter='\\t')\n",
    " \n",
    "    # read file row by row\n",
    "    for row in reader:\n",
    "        print(row)"
   ]
  },
  {
   "cell_type": "markdown",
   "metadata": {},
   "source": [
    "## 예제 23-7  : 사용자 정의 dialect 등록하기"
   ]
  },
  {
   "cell_type": "code",
   "execution_count": 37,
   "metadata": {
    "collapsed": true
   },
   "outputs": [],
   "source": [
    "import csv\n",
    "csv.register_dialect(\n",
    "    'mydialect',\n",
    "    delimiter = ',',\n",
    "    quotechar = '\"',\n",
    "    doublequote = True,\n",
    "    skipinitialspace = True,\n",
    "    lineterminator = '\\r\\n',\n",
    "    quoting = csv.QUOTE_MINIMAL)"
   ]
  },
  {
   "cell_type": "code",
   "execution_count": 39,
   "metadata": {
    "collapsed": false
   },
   "outputs": [
    {
     "data": {
      "text/plain": [
       "['excel', 'excel-tab', 'unix', 'mydialect']"
      ]
     },
     "execution_count": 39,
     "metadata": {},
     "output_type": "execute_result"
    }
   ],
   "source": [
    "import csv\n",
    "\n",
    "csv.list_dialects()"
   ]
  },
  {
   "cell_type": "code",
   "execution_count": 36,
   "metadata": {
    "collapsed": false
   },
   "outputs": [
    {
     "name": "stdout",
     "output_type": "stream",
     "text": [
      "Writing test2.csv\n"
     ]
    }
   ],
   "source": [
    "%%writefile test2.csv\n",
    "first_name ,     last_name,               city\n",
    "Aleshia,         Tomkiewicz  ,            St. Stephens Ward\n",
    "Evan,            Zigomalas,               Abbey Ward\n",
    "France,          Andrade,                 East Southbourne and Tuckton W\n",
    "Ulysses,         Mcwalters ,              Hawerby cum Beesby\n",
    "Tyisha,          Veness ,                 Greets Green and Lyng Ward\n",
    "Eric,            Rampy ,                  Desborough\n",
    "Marg,            Grasmick,                Bargate Ward\n",
    "Laquita ,        Hisaw,                   Chirton Ward\n",
    "Lura,            Manzella ,               Staple Hill Ward"
   ]
  },
  {
   "cell_type": "code",
   "execution_count": 38,
   "metadata": {
    "collapsed": false
   },
   "outputs": [
    {
     "name": "stdout",
     "output_type": "stream",
     "text": [
      "first_name \t \tlast_name\t \tcity\n",
      "Aleshia\t \tTomkiewicz  \t \tSt. Stephens Ward\n",
      "Evan\t \tZigomalas\t \tAbbey Ward\n",
      "France\t \tAndrade\t \tEast Southbourne and Tuckton W\n",
      "Ulysses\t \tMcwalters \t \tHawerby cum Beesby\n",
      "Tyisha\t \tVeness \t \tGreets Green and Lyng Ward\n",
      "Eric\t \tRampy \t \tDesborough\n",
      "Marg\t \tGrasmick\t \tBargate Ward\n",
      "Laquita \t \tHisaw\t \tChirton Ward\n",
      "Lura\t \tManzella \t \tStaple Hill Ward\n"
     ]
    }
   ],
   "source": [
    "with open('test2.csv', 'r') as mycsvfile:\n",
    "    thedata = csv.reader(mycsvfile, dialect='mydialect')\n",
    "    for row in thedata:\n",
    "        print(row[0]+\"\\t \\t\"+row[1]+\"\\t \\t\"+row[2])"
   ]
  },
  {
   "cell_type": "markdown",
   "metadata": {},
   "source": [
    "## 예제 23-8  : 파일을 생성하고 읽기 :  DictReader 읽기\n"
   ]
  },
  {
   "cell_type": "code",
   "execution_count": 40,
   "metadata": {
    "collapsed": false
   },
   "outputs": [
    {
     "name": "stdout",
     "output_type": "stream",
     "text": [
      "Writing test3.csv\n"
     ]
    }
   ],
   "source": [
    "%%writefile test3.csv\n",
    "Name,     Phone numbers,   Address\n",
    "Aleshia,  01835-703597,    St. Stephens Ward\n",
    "Evan  ,   01937-864715,    Abbey Ward\n",
    "France,   01347-368222,    East Southbourne and Tuckton W\n",
    "Ulysses,  01912-771311 ,   Hawerby cum Beesby\n",
    "Tyisha,   01547-429341,    Greets Green and Lyng Ward\n",
    "Eric ,    01969-886290,    Desborough\n",
    "Marg ,    01865-582516,    Bargate Ward\n",
    "Laquita,  01746-394243,    Chirton Ward\n",
    "Lura ,    01907-538509,    Staple Hill Ward"
   ]
  },
  {
   "cell_type": "code",
   "execution_count": 41,
   "metadata": {
    "collapsed": false
   },
   "outputs": [
    {
     "name": "stdout",
     "output_type": "stream",
     "text": [
      "Aleshia\t 01835-703597\t St. Stephens Ward\n",
      "Evan  \t 01937-864715\t Abbey Ward\n",
      "France\t 01347-368222\t East Southbourne and Tuckton W\n",
      "Ulysses\t 01912-771311 \t Hawerby cum Beesby\n",
      "Tyisha\t 01547-429341\t Greets Green and Lyng Ward\n",
      "Eric \t 01969-886290\t Desborough\n",
      "Marg \t 01865-582516\t Bargate Ward\n",
      "Laquita\t 01746-394243\t Chirton Ward\n",
      "Lura \t 01907-538509\t Staple Hill Ward\n"
     ]
    }
   ],
   "source": [
    "with open('test3.csv', 'r') as mycsvfile:\n",
    "    dictofdata = csv.DictReader(mycsvfile, dialect='mydialect')\n",
    "    for row in dictofdata:\n",
    "        print(row['Name']+\"\\t \"+row['Phone numbers']+\"\\t \"+row['Address'])"
   ]
  },
  {
   "cell_type": "markdown",
   "metadata": {},
   "source": [
    "## 예제 23-9  : Dialect을 사용해서 파일 생성하고 읽기\n"
   ]
  },
  {
   "cell_type": "code",
   "execution_count": 42,
   "metadata": {
    "collapsed": true
   },
   "outputs": [],
   "source": [
    "arrayofdata=[['A','B', \"C\"],\n",
    "             ['something','spam',2.334],\n",
    "             ['anything','spam',0]]\n",
    "             \n",
    "with open('test4.csv', 'w', newline='') as mycsvfile:\n",
    "    thedatawriter = csv.writer(mycsvfile, dialect='mydialect')\n",
    "    for row in arrayofdata:\n",
    "        thedatawriter.writerow(row)\n"
   ]
  },
  {
   "cell_type": "code",
   "execution_count": 43,
   "metadata": {
    "collapsed": false
   },
   "outputs": [
    {
     "name": "stdout",
     "output_type": "stream",
     "text": [
      "A\t \tB\t \tC\n",
      "something\t \tspam\t \t2.334\n",
      "anything\t \tspam\t \t0\n"
     ]
    }
   ],
   "source": [
    "with open('test4.csv', 'r') as mycsvfile:\n",
    "    thedata = csv.reader(mycsvfile, dialect='mydialect')\n",
    "    for row in thedata:\n",
    "        print(row[0]+\"\\t \\t\"+row[1]+\"\\t \\t\"+row[2])"
   ]
  },
  {
   "cell_type": "code",
   "execution_count": null,
   "metadata": {
    "collapsed": true
   },
   "outputs": [],
   "source": []
  }
 ],
 "metadata": {
  "kernelspec": {
   "display_name": "Python 3",
   "language": "python",
   "name": "python3"
  },
  "language_info": {
   "codemirror_mode": {
    "name": "ipython",
    "version": 3
   },
   "file_extension": ".py",
   "mimetype": "text/x-python",
   "name": "python",
   "nbconvert_exporter": "python",
   "pygments_lexer": "ipython3",
   "version": "3.6.0"
  }
 },
 "nbformat": 4,
 "nbformat_minor": 2
}
