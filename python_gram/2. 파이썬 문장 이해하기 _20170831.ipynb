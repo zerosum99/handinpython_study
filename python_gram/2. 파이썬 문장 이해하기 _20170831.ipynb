{
 "cells": [
  {
   "cell_type": "markdown",
   "metadata": {},
   "source": [
    "## 예제 2-1 : 라인에 대해 이해하기 \n",
    "\n",
    "- 대괄호, 중괄호, 소괄호에서 쉼표로 분리해서 열러 줄을 사용해도 하나의 라인으로 인식한다.\n",
    "- 대신 표현식 등을 작성할 때는 괄호를 사용하지 않느면 역슬래쉬로 문장이 연결을 표시해야 한다.\n"
   ]
  },
  {
   "cell_type": "code",
   "execution_count": 1,
   "metadata": {},
   "outputs": [
    {
     "name": "stdout",
     "output_type": "stream",
     "text": [
      "[1, 2, 3]\n"
     ]
    }
   ],
   "source": [
    "l = [1,\n",
    "    2,\n",
    "    3]\n",
    "\n",
    "print(l)"
   ]
  },
  {
   "cell_type": "code",
   "execution_count": 2,
   "metadata": {},
   "outputs": [
    {
     "name": "stdout",
     "output_type": "stream",
     "text": [
      "{'a': 1, 'b': 2}\n"
     ]
    }
   ],
   "source": [
    "d = {'a': 1,\n",
    "     'b' : 2}\n",
    "\n",
    "print(d)"
   ]
  },
  {
   "cell_type": "code",
   "execution_count": 3,
   "metadata": {},
   "outputs": [
    {
     "name": "stdout",
     "output_type": "stream",
     "text": [
      "(1, 2, 3)\n"
     ]
    }
   ],
   "source": [
    "t = (1,\n",
    "    2,\n",
    "    3)\n",
    "\n",
    "print(t)"
   ]
  },
  {
   "cell_type": "code",
   "execution_count": 4,
   "metadata": {},
   "outputs": [
    {
     "name": "stdout",
     "output_type": "stream",
     "text": [
      "16\n"
     ]
    }
   ],
   "source": [
    "e = 1 + \\\n",
    "    3 * \\\n",
    "    5\n",
    "    \n",
    "print(e)"
   ]
  },
  {
   "cell_type": "markdown",
   "metadata": {},
   "source": [
    "### 문장이 연결되지 않으면 예외를 발생 "
   ]
  },
  {
   "cell_type": "code",
   "execution_count": 5,
   "metadata": {},
   "outputs": [
    {
     "ename": "SyntaxError",
     "evalue": "invalid syntax (<ipython-input-5-796821cb3fc4>, line 1)",
     "output_type": "error",
     "traceback": [
      "\u001b[0;36m  File \u001b[0;32m\"<ipython-input-5-796821cb3fc4>\"\u001b[0;36m, line \u001b[0;32m1\u001b[0m\n\u001b[0;31m    total = \"item_one\" +\u001b[0m\n\u001b[0m                         ^\u001b[0m\n\u001b[0;31mSyntaxError\u001b[0m\u001b[0;31m:\u001b[0m invalid syntax\n"
     ]
    }
   ],
   "source": [
    "total = \"item_one\" + \n",
    "        \"item_two\" +\n",
    "        \"item_three\""
   ]
  },
  {
   "cell_type": "markdown",
   "metadata": {},
   "source": [
    "## 예제 2-2 : 함수 블록 내의 들여쓰기 오류\n",
    "\n",
    "- 함수 정의문, 클래스 정의문 등은  콜론으로 내부의 문장을 구분한다.\n",
    "- 이때 내부의 문장은 항상 4칸 들여쓰기를 해야 한다.  "
   ]
  },
  {
   "cell_type": "code",
   "execution_count": 14,
   "metadata": {},
   "outputs": [
    {
     "ename": "IndentationError",
     "evalue": "expected an indented block (<ipython-input-14-360f3d0c8454>, line 2)",
     "output_type": "error",
     "traceback": [
      "\u001b[0;36m  File \u001b[0;32m\"<ipython-input-14-360f3d0c8454>\"\u001b[0;36m, line \u001b[0;32m2\u001b[0m\n\u001b[0;31m    pass\u001b[0m\n\u001b[0m       ^\u001b[0m\n\u001b[0;31mIndentationError\u001b[0m\u001b[0;31m:\u001b[0m expected an indented block\n"
     ]
    }
   ],
   "source": [
    "def a() :\n",
    "pass"
   ]
  },
  {
   "cell_type": "markdown",
   "metadata": {},
   "source": [
    "### 3 칸 들여쓰기를 한 경우에는 빨간 글씨로 경고를 주지만 실행은 된다."
   ]
  },
  {
   "cell_type": "code",
   "execution_count": 15,
   "metadata": {},
   "outputs": [
    {
     "name": "stdout",
     "output_type": "stream",
     "text": [
      "aaa\n"
     ]
    }
   ],
   "source": [
    "def a() :\n",
    "   print(\"aaa\")\n",
    "\n",
    "a()"
   ]
  },
  {
   "cell_type": "markdown",
   "metadata": {},
   "source": [
    "## 예제 2-3 : 문자열을 정의하기\n",
    "\n",
    "- 따옴표로 문자열을 작성할 때는 한 줄이 문자열은 작은 따옴표와 큰 따옴표를 사용한다.\n",
    "- 여러 문자을 사용할 때는 3개의 따옴표를 사용한다."
   ]
  },
  {
   "cell_type": "code",
   "execution_count": 16,
   "metadata": {},
   "outputs": [
    {
     "name": "stdout",
     "output_type": "stream",
     "text": [
      "word\n",
      "This is a setence\n"
     ]
    }
   ],
   "source": [
    "word = 'word'\n",
    "sentence = \"This is a setence\"\n",
    "\n",
    "print(word)\n",
    "print(sentence)\n"
   ]
  },
  {
   "cell_type": "code",
   "execution_count": 17,
   "metadata": {},
   "outputs": [
    {
     "ename": "SyntaxError",
     "evalue": "EOL while scanning string literal (<ipython-input-17-15331e0a0616>, line 1)",
     "output_type": "error",
     "traceback": [
      "\u001b[0;36m  File \u001b[0;32m\"<ipython-input-17-15331e0a0616>\"\u001b[0;36m, line \u001b[0;32m1\u001b[0m\n\u001b[0;31m    multi_line = \" string\u001b[0m\n\u001b[0m                          ^\u001b[0m\n\u001b[0;31mSyntaxError\u001b[0m\u001b[0;31m:\u001b[0m EOL while scanning string literal\n"
     ]
    }
   ],
   "source": [
    "multi_line = \" string \n",
    "            multiline \""
   ]
  },
  {
   "cell_type": "code",
   "execution_count": 18,
   "metadata": {},
   "outputs": [
    {
     "name": "stdout",
     "output_type": "stream",
     "text": [
      "단락이란\n",
      "여러 문장을 하나로 묶어 단락으로 본다.\n",
      "\n"
     ]
    }
   ],
   "source": [
    "paragraph = \"\"\"단락이란\n",
    "여러 문장을 하나로 묶어 단락으로 본다.\n",
    "\"\"\"\n",
    "\n",
    "print(paragraph)"
   ]
  },
  {
   "cell_type": "markdown",
   "metadata": {},
   "source": [
    "## 예제 2-4 : 문장에 주석문 달기\n",
    "\n",
    "- 주석은 문장 내의 설명을 추가하는 것이다.\n",
    "- 프로그램 실행될 때 주석은 아무런 처리를 하지 않는다.\n"
   ]
  },
  {
   "cell_type": "code",
   "execution_count": 19,
   "metadata": {},
   "outputs": [
    {
     "name": "stdout",
     "output_type": "stream",
     "text": [
      "100\n"
     ]
    }
   ],
   "source": [
    "# 문장으로 보지 않는다.\n",
    "var = 100 \n",
    "\n",
    "print(var)"
   ]
  },
  {
   "cell_type": "code",
   "execution_count": 20,
   "metadata": {},
   "outputs": [
    {
     "name": "stdout",
     "output_type": "stream",
     "text": [
      "100\n"
     ]
    }
   ],
   "source": [
    "var = 100 # var = 100\n",
    "\n",
    "print(var)"
   ]
  },
  {
   "cell_type": "markdown",
   "metadata": {},
   "source": [
    "## 예제 2-5 : 변수  주석 달기\n",
    "\n",
    "- 변수에 주석을 다는 것을 타입힌트라 한다. 변수에 주석이 달리면 __annotations__에 정보가 있다.\n"
   ]
  },
  {
   "cell_type": "code",
   "execution_count": 21,
   "metadata": {},
   "outputs": [
    {
     "name": "stdout",
     "output_type": "stream",
     "text": [
      "100\n",
      "str\n"
     ]
    }
   ],
   "source": [
    "var_ : int \n",
    "\n",
    "var_ = 100\n",
    "\n",
    "print(var_)\n",
    "\n",
    "var_ = 'str'\n",
    "print(var_)"
   ]
  },
  {
   "cell_type": "markdown",
   "metadata": {},
   "source": [
    "## 예제 2-6 : 매개변수에 주석 달기\n",
    "\n",
    "- 함수 매개변수와 반환값에 주석을 달 수 있다. 이 정보는 함수의 속성 __annotations__ 에 관리한다."
   ]
  },
  {
   "cell_type": "code",
   "execution_count": 22,
   "metadata": {},
   "outputs": [
    {
     "name": "stdout",
     "output_type": "stream",
     "text": [
      "{'x': <class 'int'>, 'y': <class 'int'>, 'return': <class 'int'>}\n"
     ]
    }
   ],
   "source": [
    "def func(x:int, y:int) -> int :\n",
    "    pass\n",
    "\n",
    "print(func.__annotations__)"
   ]
  },
  {
   "cell_type": "markdown",
   "metadata": {},
   "source": [
    "### 클래스 내부이 함수도 매개변수에 주석을 추가할 수 있다. "
   ]
  },
  {
   "cell_type": "code",
   "execution_count": 23,
   "metadata": {},
   "outputs": [
    {
     "name": "stdout",
     "output_type": "stream",
     "text": [
      "{'self': <class 'object'>, 'name': <class 'str'>}\n"
     ]
    }
   ],
   "source": [
    "class Klass :\n",
    "    def __init__(self:object, name:str) :\n",
    "        self.name = name\n",
    "        \n",
    "\n",
    "k = Klass(\"지원\")\n",
    "print(Klass.__init__.__annotations__)"
   ]
  },
  {
   "cell_type": "markdown",
   "metadata": {},
   "source": [
    "## 예제 2-7 : 변수 정의\n",
    "\n",
    "- 변수 정의는 변수에 값을 할당하는 것이다."
   ]
  },
  {
   "cell_type": "code",
   "execution_count": 24,
   "metadata": {},
   "outputs": [
    {
     "name": "stdout",
     "output_type": "stream",
     "text": [
      "1\n"
     ]
    }
   ],
   "source": [
    "x = 1\n",
    "\n",
    "print(x)"
   ]
  },
  {
   "cell_type": "code",
   "execution_count": 25,
   "metadata": {},
   "outputs": [
    {
     "name": "stdout",
     "output_type": "stream",
     "text": [
      "1 1 1\n"
     ]
    }
   ],
   "source": [
    "a = b= c = 1\n",
    "print(a,b,c)"
   ]
  },
  {
   "cell_type": "markdown",
   "metadata": {},
   "source": [
    "### 함수 정의문도 func 이라는 변수에 func 함수 객체를 할당하는 것이다"
   ]
  },
  {
   "cell_type": "code",
   "execution_count": 26,
   "metadata": {},
   "outputs": [
    {
     "name": "stdout",
     "output_type": "stream",
     "text": [
      "100\n"
     ]
    }
   ],
   "source": [
    "def func() :\n",
    "    return 100\n",
    "\n",
    "d = func()\n",
    "print(d)"
   ]
  },
  {
   "cell_type": "markdown",
   "metadata": {},
   "source": [
    "## 예제 2-8 :  변수 할당되는 순서 이해하기  \n",
    "\n",
    "- 변수 정의 이전에 이 변수를 사용하면 예외가 발생한다."
   ]
  },
  {
   "cell_type": "code",
   "execution_count": 27,
   "metadata": {},
   "outputs": [
    {
     "ename": "NameError",
     "evalue": "name 'xxxx' is not defined",
     "output_type": "error",
     "traceback": [
      "\u001b[0;31m---------------------------------------------------------------------------\u001b[0m",
      "\u001b[0;31mNameError\u001b[0m                                 Traceback (most recent call last)",
      "\u001b[0;32m<ipython-input-27-a836449da4bc>\u001b[0m in \u001b[0;36m<module>\u001b[0;34m\u001b[0m\n\u001b[0;32m----> 1\u001b[0;31m \u001b[0mxxxx\u001b[0m \u001b[0;34m=\u001b[0m \u001b[0mxxxx\u001b[0m \u001b[0;34m+\u001b[0m \u001b[0;36m1\u001b[0m\u001b[0;34m\u001b[0m\u001b[0;34m\u001b[0m\u001b[0m\n\u001b[0m",
      "\u001b[0;31mNameError\u001b[0m: name 'xxxx' is not defined"
     ]
    }
   ],
   "source": [
    "xxxx = xxxx + 1"
   ]
  },
  {
   "cell_type": "markdown",
   "metadata": {},
   "source": [
    "### 반드시 변수를 먼저 정의해서 사용한다"
   ]
  },
  {
   "cell_type": "code",
   "execution_count": 28,
   "metadata": {},
   "outputs": [
    {
     "name": "stdout",
     "output_type": "stream",
     "text": [
      "130\n"
     ]
    }
   ],
   "source": [
    "defined_var = 100\n",
    "\n",
    "defined_var = defined_var + 30\n",
    "\n",
    "print(defined_var)"
   ]
  },
  {
   "cell_type": "markdown",
   "metadata": {},
   "source": [
    "## 예제 2-9 :  조건식의 평가 결과는 True/False\n",
    "\n",
    "- bool 클래스의 객체는 예약어 True, False에 들어가 있다.\n"
   ]
  },
  {
   "cell_type": "markdown",
   "metadata": {},
   "source": [
    "### 아무것도 없다는 표시는 항상 False 이다."
   ]
  },
  {
   "cell_type": "code",
   "execution_count": 29,
   "metadata": {},
   "outputs": [
    {
     "name": "stdout",
     "output_type": "stream",
     "text": [
      "False\n"
     ]
    }
   ],
   "source": [
    "a = None\n",
    "if a : \n",
    "    print(\"True\")\n",
    "else :\n",
    "    print(\"False\")"
   ]
  },
  {
   "cell_type": "code",
   "execution_count": 30,
   "metadata": {},
   "outputs": [
    {
     "name": "stdout",
     "output_type": "stream",
     "text": [
      "False\n",
      "False\n",
      "False\n"
     ]
    }
   ],
   "source": [
    "a = \"\" \n",
    "print(bool(a))\n",
    "b = []\n",
    "print(bool(b))\n",
    "c = None\n",
    "print(bool(c))"
   ]
  },
  {
   "cell_type": "markdown",
   "metadata": {},
   "source": [
    "### 값이 있다는 것은 항상 참이다. "
   ]
  },
  {
   "cell_type": "code",
   "execution_count": 31,
   "metadata": {},
   "outputs": [
    {
     "name": "stdout",
     "output_type": "stream",
     "text": [
      "True\n"
     ]
    }
   ],
   "source": [
    "a = 100\n",
    "\n",
    "if a : \n",
    "    print(\"True\")\n",
    "else :\n",
    "    print(\"Else\")"
   ]
  },
  {
   "cell_type": "markdown",
   "metadata": {},
   "source": [
    "## 예제 2-10 :  조건식 평가 시에 에외발생\n",
    "\n",
    "- 조건식 평가전에 예외가 발생하면 조건식을 처리하지 않고 예외부터 처리한다"
   ]
  },
  {
   "cell_type": "code",
   "execution_count": 32,
   "metadata": {},
   "outputs": [
    {
     "ename": "ZeroDivisionError",
     "evalue": "division by zero",
     "output_type": "error",
     "traceback": [
      "\u001b[0;31m---------------------------------------------------------------------------\u001b[0m",
      "\u001b[0;31mZeroDivisionError\u001b[0m                         Traceback (most recent call last)",
      "\u001b[0;32m<ipython-input-32-e9e7ec7252bb>\u001b[0m in \u001b[0;36m<module>\u001b[0;34m\u001b[0m\n\u001b[1;32m      2\u001b[0m \u001b[0mb\u001b[0m \u001b[0;34m=\u001b[0m \u001b[0;36m1\u001b[0m\u001b[0;34m\u001b[0m\u001b[0;34m\u001b[0m\u001b[0m\n\u001b[1;32m      3\u001b[0m \u001b[0;34m\u001b[0m\u001b[0m\n\u001b[0;32m----> 4\u001b[0;31m \u001b[0;32mif\u001b[0m \u001b[0ma\u001b[0m\u001b[0;34m/\u001b[0m\u001b[0;36m0\u001b[0m \u001b[0;34m==\u001b[0m \u001b[0;36m1\u001b[0m \u001b[0;32mand\u001b[0m \u001b[0mb\u001b[0m \u001b[0;34m==\u001b[0m \u001b[0;36m1\u001b[0m \u001b[0;34m:\u001b[0m\u001b[0;34m\u001b[0m\u001b[0;34m\u001b[0m\u001b[0m\n\u001b[0m\u001b[1;32m      5\u001b[0m     \u001b[0mprint\u001b[0m\u001b[0;34m(\u001b[0m\u001b[0;34m\" True \"\u001b[0m\u001b[0;34m)\u001b[0m\u001b[0;34m\u001b[0m\u001b[0;34m\u001b[0m\u001b[0m\n\u001b[1;32m      6\u001b[0m \u001b[0;32melse\u001b[0m \u001b[0;34m:\u001b[0m\u001b[0;34m\u001b[0m\u001b[0;34m\u001b[0m\u001b[0m\n",
      "\u001b[0;31mZeroDivisionError\u001b[0m: division by zero"
     ]
    }
   ],
   "source": [
    "a = 1\n",
    "b = 1\n",
    "\n",
    "if a/0 == 1 and b == 1 :\n",
    "    print(\" True \")\n",
    "else :\n",
    "    print(\" False \")"
   ]
  },
  {
   "cell_type": "markdown",
   "metadata": {},
   "source": [
    "### 조건식 평가할 때 예외가 발생한 것이므로 try except 문으로 처리가 가능하다"
   ]
  },
  {
   "cell_type": "code",
   "execution_count": 33,
   "metadata": {},
   "outputs": [
    {
     "name": "stdout",
     "output_type": "stream",
     "text": [
      " except  division by zero\n"
     ]
    }
   ],
   "source": [
    "try :\n",
    "    if a/0 == 1 and b == 1 :\n",
    "        print(\" True \")\n",
    "    else :\n",
    "        print(\" False \")   \n",
    "except ZeroDivisionError as e:\n",
    "    print(\" except \", e)"
   ]
  },
  {
   "cell_type": "markdown",
   "metadata": {},
   "source": [
    "## 예제 2-11 :  인라인 부정처리\n",
    "\n",
    "- is not 으로 부정을 처리한다."
   ]
  },
  {
   "cell_type": "code",
   "execution_count": 34,
   "metadata": {},
   "outputs": [
    {
     "ename": "SyntaxError",
     "evalue": "invalid syntax (<ipython-input-34-fc3e4fa6f74d>, line 4)",
     "output_type": "error",
     "traceback": [
      "\u001b[0;36m  File \u001b[0;32m\"<ipython-input-34-fc3e4fa6f74d>\"\u001b[0;36m, line \u001b[0;32m4\u001b[0m\n\u001b[0;31m    if a not is  b :\u001b[0m\n\u001b[0m              ^\u001b[0m\n\u001b[0;31mSyntaxError\u001b[0m\u001b[0;31m:\u001b[0m invalid syntax\n"
     ]
    }
   ],
   "source": [
    "a = 100\n",
    "b = 50\n",
    "\n",
    "if a not is  b :\n",
    "    print(\" True \")\n",
    "else :\n",
    "    print(\" False \")"
   ]
  },
  {
   "cell_type": "code",
   "execution_count": 35,
   "metadata": {},
   "outputs": [
    {
     "name": "stdout",
     "output_type": "stream",
     "text": [
      " True \n"
     ]
    }
   ],
   "source": [
    "a = 100\n",
    "b = 50\n",
    "\n",
    "if a is not b :\n",
    "    print(\" True \")\n",
    "else :\n",
    "    print(\" False \")"
   ]
  },
  {
   "cell_type": "markdown",
   "metadata": {},
   "source": [
    "## 예제 2-12 :   값에 대한 동등성 비교"
   ]
  },
  {
   "cell_type": "code",
   "execution_count": 36,
   "metadata": {},
   "outputs": [
    {
     "name": "stdout",
     "output_type": "stream",
     "text": [
      "False\n"
     ]
    }
   ],
   "source": [
    "a = 1\n",
    "b = 2\n",
    "\n",
    "print(bool(a==b))"
   ]
  },
  {
   "cell_type": "code",
   "execution_count": 37,
   "metadata": {},
   "outputs": [
    {
     "name": "stdout",
     "output_type": "stream",
     "text": [
      " False \n"
     ]
    }
   ],
   "source": [
    "if a == b :\n",
    "    print(\" True \")\n",
    "else :\n",
    "    print(\" False \")"
   ]
  },
  {
   "cell_type": "markdown",
   "metadata": {},
   "source": [
    "## 예제 2-13 :  삼항연산자 : 인라인으로 if문 사용\n",
    "\n",
    "- 제어문을 한 줄에 써서 삼항 연산자와 동일한 처리를 한다.\n",
    "\n",
    "- 인라인 제어문에는 문장을 표시하면 예외를 발생시킨다."
   ]
  },
  {
   "cell_type": "code",
   "execution_count": 38,
   "metadata": {},
   "outputs": [
    {
     "name": "stdout",
     "output_type": "stream",
     "text": [
      "50\n"
     ]
    }
   ],
   "source": [
    "a = 100\n",
    "b = 50\n",
    "\n",
    "c = a if a == b else b\n",
    "print(c)\n"
   ]
  },
  {
   "cell_type": "code",
   "execution_count": null,
   "metadata": {},
   "outputs": [],
   "source": []
  },
  {
   "cell_type": "code",
   "execution_count": 39,
   "metadata": {},
   "outputs": [
    {
     "ename": "SyntaxError",
     "evalue": "invalid syntax (<ipython-input-39-bf749691c2f7>, line 1)",
     "output_type": "error",
     "traceback": [
      "\u001b[0;36m  File \u001b[0;32m\"<ipython-input-39-bf749691c2f7>\"\u001b[0;36m, line \u001b[0;32m1\u001b[0m\n\u001b[0;31m    d = a if a==b else pass\u001b[0m\n\u001b[0m                          ^\u001b[0m\n\u001b[0;31mSyntaxError\u001b[0m\u001b[0;31m:\u001b[0m invalid syntax\n"
     ]
    }
   ],
   "source": [
    "d = a if a==b else pass\n",
    "print(d)"
   ]
  },
  {
   "cell_type": "markdown",
   "metadata": {},
   "source": [
    "## 예제 2-14 :  조건식 세분화하기 \n",
    "\n",
    "- 여러 개의 조건을 판단할 때는 elif를 추가해서 사용한다.\n",
    "- 마지막을 else로 처리하기 보다는 elif로 처리해야 한다.\n"
   ]
  },
  {
   "cell_type": "code",
   "execution_count": 40,
   "metadata": {},
   "outputs": [
    {
     "name": "stdout",
     "output_type": "stream",
     "text": [
      " other \n"
     ]
    }
   ],
   "source": [
    "a = 10\n",
    "b = 20\n",
    "\n",
    "if a > 5 & b > 20 :\n",
    "    print(\" first  a > 5 & b > 20 \")\n",
    "elif a > 7 & b > 20 :\n",
    "    print(\" second a > 7 & b > 20 \")\n",
    "elif a > 7 & b >= 20 :\n",
    "    print(\" third a > 7 & b >= 20 \")\n",
    "else :\n",
    "    print(\" other \")"
   ]
  },
  {
   "cell_type": "code",
   "execution_count": 41,
   "metadata": {},
   "outputs": [
    {
     "name": "stdout",
     "output_type": "stream",
     "text": [
      " third a > 7 & b >= 20 \n"
     ]
    }
   ],
   "source": [
    "a = 10\n",
    "b = 20\n",
    "\n",
    "if (a > 5) & (b > 20) :\n",
    "    print(\" first  a > 5 & b > 20 \")\n",
    "elif (a > 7) & (b > 20) :\n",
    "    print(\" second a > 7 & b > 20 \")\n",
    "elif (a > 7) & (b >= 20) :\n",
    "    print(\" third a > 7 & b >= 20 \")\n",
    "else :\n",
    "    print(\" other \")"
   ]
  },
  {
   "cell_type": "code",
   "execution_count": 42,
   "metadata": {},
   "outputs": [
    {
     "name": "stdout",
     "output_type": "stream",
     "text": [
      " fourth \n"
     ]
    }
   ],
   "source": [
    "a = 100\n",
    "\n",
    "if 50 < a <= 70 :\n",
    "    print(\" first \")\n",
    "elif 70 < a <= 80 :\n",
    "    print(\" second \")\n",
    "elif 80 < a <= 90 :\n",
    "    print(\" third \")\n",
    "elif 90 < a <= 100 :\n",
    "    print(\" fourth \")"
   ]
  },
  {
   "cell_type": "markdown",
   "metadata": {},
   "source": [
    "## 예제 2-15 :  딕셔너리의 값으로 함수를 넣어 케이스 처리\n",
    "\n",
    "- 스위치 케이스문은 특정 값에 해당할 때 처리하는 제어문이다. 파이썬에서는 제공하지 않는다.\n",
    "- 딕셔너리를 이용해서 동일하게 만들어서 사용이 가능하다.\n"
   ]
  },
  {
   "cell_type": "code",
   "execution_count": 43,
   "metadata": {},
   "outputs": [],
   "source": [
    "def func_10() :\n",
    "    print(\" 10 \")\n",
    "    \n",
    "def func_100() :\n",
    "    print(\" 100 \")\n",
    "    "
   ]
  },
  {
   "cell_type": "code",
   "execution_count": 44,
   "metadata": {},
   "outputs": [],
   "source": [
    "switch_case ={ 10: func_10, 100: func_100}\n"
   ]
  },
  {
   "cell_type": "code",
   "execution_count": 45,
   "metadata": {},
   "outputs": [
    {
     "name": "stdout",
     "output_type": "stream",
     "text": [
      " 10 \n",
      " 100 \n"
     ]
    }
   ],
   "source": [
    "switch_case[10]()\n",
    "switch_case[100]()"
   ]
  },
  {
   "cell_type": "markdown",
   "metadata": {},
   "source": [
    "## 예제 2-16 : 반복자 처리\n",
    "\n",
    "- 동적인 반복자 객체를 만들어서 하나의 원소를 호출해서 처리하는 방식의 클래스를 반복자라고 한다.\n",
    "- 반복이 끝나면 StopIteration 예외를 처리하지만 실제는 이 객체를 더 이상 사용하지 못한다는 의미이다. \n"
   ]
  },
  {
   "cell_type": "code",
   "execution_count": 46,
   "metadata": {},
   "outputs": [
    {
     "name": "stdout",
     "output_type": "stream",
     "text": [
      "<range_iterator object at 0x10c78f600>\n"
     ]
    }
   ],
   "source": [
    "a = iter(range(3))\n",
    "\n",
    "print(a)\n"
   ]
  },
  {
   "cell_type": "code",
   "execution_count": 47,
   "metadata": {},
   "outputs": [
    {
     "name": "stdout",
     "output_type": "stream",
     "text": [
      "0\n",
      "1\n",
      "2\n"
     ]
    },
    {
     "ename": "StopIteration",
     "evalue": "",
     "output_type": "error",
     "traceback": [
      "\u001b[0;31m---------------------------------------------------------------------------\u001b[0m",
      "\u001b[0;31mStopIteration\u001b[0m                             Traceback (most recent call last)",
      "\u001b[0;32m<ipython-input-47-5d9760d4b8fb>\u001b[0m in \u001b[0;36m<module>\u001b[0;34m\u001b[0m\n\u001b[1;32m      2\u001b[0m \u001b[0mprint\u001b[0m\u001b[0;34m(\u001b[0m\u001b[0mnext\u001b[0m\u001b[0;34m(\u001b[0m\u001b[0ma\u001b[0m\u001b[0;34m)\u001b[0m\u001b[0;34m)\u001b[0m\u001b[0;34m\u001b[0m\u001b[0;34m\u001b[0m\u001b[0m\n\u001b[1;32m      3\u001b[0m \u001b[0mprint\u001b[0m\u001b[0;34m(\u001b[0m\u001b[0mnext\u001b[0m\u001b[0;34m(\u001b[0m\u001b[0ma\u001b[0m\u001b[0;34m)\u001b[0m\u001b[0;34m)\u001b[0m\u001b[0;34m\u001b[0m\u001b[0;34m\u001b[0m\u001b[0m\n\u001b[0;32m----> 4\u001b[0;31m \u001b[0mprint\u001b[0m\u001b[0;34m(\u001b[0m\u001b[0mnext\u001b[0m\u001b[0;34m(\u001b[0m\u001b[0ma\u001b[0m\u001b[0;34m)\u001b[0m\u001b[0;34m)\u001b[0m\u001b[0;34m\u001b[0m\u001b[0;34m\u001b[0m\u001b[0m\n\u001b[0m",
      "\u001b[0;31mStopIteration\u001b[0m: "
     ]
    }
   ],
   "source": [
    "print(next(a))\n",
    "print(next(a))\n",
    "print(next(a))\n",
    "print(next(a))"
   ]
  },
  {
   "cell_type": "markdown",
   "metadata": {},
   "source": [
    "## 예제 2-17 : 반복형으로 for 순환 처리\n",
    "\n",
    "- 반복형을 순환을 시키려면 내부적으로 반복자로 바꾼 후에 원소 하나씩 처리한다.\n",
    "- 다 사용한 결과는 예외를 반환하지 않도록 내부적으로 처리했다.\n"
   ]
  },
  {
   "cell_type": "code",
   "execution_count": 48,
   "metadata": {},
   "outputs": [
    {
     "data": {
      "text/plain": [
       "<range_iterator at 0x10c78fba0>"
      ]
     },
     "execution_count": 48,
     "metadata": {},
     "output_type": "execute_result"
    }
   ],
   "source": [
    "iter(range(10))"
   ]
  },
  {
   "cell_type": "code",
   "execution_count": 49,
   "metadata": {},
   "outputs": [
    {
     "name": "stdout",
     "output_type": "stream",
     "text": [
      "0\n",
      "1\n",
      "2\n",
      "3\n",
      "4\n",
      "5\n",
      "6\n",
      "7\n",
      "8\n",
      "9\n"
     ]
    }
   ],
   "source": [
    "for i in range(10) :\n",
    "    print(i)"
   ]
  },
  {
   "cell_type": "code",
   "execution_count": 50,
   "metadata": {},
   "outputs": [
    {
     "data": {
      "text/plain": [
       "<str_iterator at 0x10c879b70>"
      ]
     },
     "execution_count": 50,
     "metadata": {},
     "output_type": "execute_result"
    }
   ],
   "source": [
    "iter(\"Hellor\")"
   ]
  },
  {
   "cell_type": "code",
   "execution_count": 51,
   "metadata": {},
   "outputs": [
    {
     "name": "stdout",
     "output_type": "stream",
     "text": [
      "H\n",
      "e\n",
      "l\n",
      "l\n",
      "o\n"
     ]
    }
   ],
   "source": [
    "for i in \"Hello\" :\n",
    "    print(i)"
   ]
  },
  {
   "cell_type": "code",
   "execution_count": 52,
   "metadata": {},
   "outputs": [
    {
     "data": {
      "text/plain": [
       "<list_iterator at 0x10c879cc0>"
      ]
     },
     "execution_count": 52,
     "metadata": {},
     "output_type": "execute_result"
    }
   ],
   "source": [
    "iter([1,2,3])"
   ]
  },
  {
   "cell_type": "code",
   "execution_count": 53,
   "metadata": {},
   "outputs": [
    {
     "name": "stdout",
     "output_type": "stream",
     "text": [
      "1\n",
      "2\n",
      "3\n"
     ]
    }
   ],
   "source": [
    "for i in [1,2,3] :\n",
    "    print(i)"
   ]
  },
  {
   "cell_type": "markdown",
   "metadata": {},
   "source": [
    "## 예제 2-18 :   순환을 하기\n",
    "\n",
    "- 조건식이 참일 경우 순환하기"
   ]
  },
  {
   "cell_type": "code",
   "execution_count": 54,
   "metadata": {},
   "outputs": [
    {
     "name": "stdout",
     "output_type": "stream",
     "text": [
      "1\n",
      "2\n",
      "3\n",
      "4\n"
     ]
    }
   ],
   "source": [
    "l = [1,2,3,4]\n",
    "\n",
    "while l :\n",
    "    print(l.pop(0))"
   ]
  },
  {
   "cell_type": "code",
   "execution_count": 55,
   "metadata": {},
   "outputs": [
    {
     "name": "stdout",
     "output_type": "stream",
     "text": [
      "[0, 1, 2, 3, 4]\n",
      "10\n"
     ]
    }
   ],
   "source": [
    "total = 0\n",
    "l = [x for x in range(5)]\n",
    "print(l)\n",
    "while l :\n",
    "    total +=  l.pop()\n",
    "    \n",
    "print(total)"
   ]
  },
  {
   "cell_type": "markdown",
   "metadata": {},
   "source": [
    "## 예제 2-19:  무한순환시 특정값 배제 및 순환을 강제 종료하기\n",
    "\n",
    "- 무환 순환을 실행하면 항상 종료 처리를 내부에 정의해야 한다."
   ]
  },
  {
   "cell_type": "code",
   "execution_count": 56,
   "metadata": {},
   "outputs": [
    {
     "name": "stdout",
     "output_type": "stream",
     "text": [
      "0\n",
      "1\n",
      "2\n",
      "3\n",
      "4\n"
     ]
    }
   ],
   "source": [
    "count = 0\n",
    "\n",
    "while True :\n",
    "    if count == 5 :\n",
    "        break\n",
    "        \n",
    "    print(count)\n",
    "    count += 1"
   ]
  },
  {
   "cell_type": "code",
   "execution_count": 57,
   "metadata": {},
   "outputs": [
    {
     "name": "stdout",
     "output_type": "stream",
     "text": [
      "even 2\n",
      "even 4\n",
      "even 6\n",
      "even 8\n"
     ]
    }
   ],
   "source": [
    "count = 0\n",
    "\n",
    "while True :\n",
    "    count += 1\n",
    "    if count == 10 :\n",
    "        break\n",
    "        \n",
    "    if count % 2 == 1 :\n",
    "        continue\n",
    "        \n",
    "    print(\"even\", count)"
   ]
  },
  {
   "cell_type": "markdown",
   "metadata": {},
   "source": [
    "## 예제 2-20 :  순환 처리 시에 강제 중단 없을 경우 추가 처리 \n",
    "\n",
    "- 강제 중단을 했는 지를 확인하기 else문을 추가한다. 강제 종료가 없으면 else 문이 실행된다."
   ]
  },
  {
   "cell_type": "code",
   "execution_count": 58,
   "metadata": {},
   "outputs": [
    {
     "name": "stdout",
     "output_type": "stream",
     "text": [
      "2\n",
      "4\n",
      "6\n",
      "8\n",
      "10\n",
      " no break \n"
     ]
    }
   ],
   "source": [
    "count = 0 \n",
    "\n",
    "while count < 10 :\n",
    "    count += 1\n",
    "    if count % 2 == 1 :\n",
    "        continue\n",
    "    print(count)\n",
    "else :\n",
    "    print(\" no break \")\n",
    "    \n",
    "    "
   ]
  },
  {
   "cell_type": "markdown",
   "metadata": {},
   "source": [
    "## 예제 2-21:  순환문에서 break 발생할 경우\n",
    "\n",
    "- 강제 종료가 발생해서 else 문이 실행되지 않는다."
   ]
  },
  {
   "cell_type": "code",
   "execution_count": 59,
   "metadata": {},
   "outputs": [
    {
     "name": "stdout",
     "output_type": "stream",
     "text": [
      "0\n",
      "2\n",
      "4\n",
      "6\n",
      "8\n"
     ]
    }
   ],
   "source": [
    "for i in range(10) :\n",
    "    if i == 9 :\n",
    "        break\n",
    "    if i % 2 == 1 :\n",
    "        continue\n",
    "    print(i)\n",
    "else :\n",
    "    print(\" no break \")\n",
    "    "
   ]
  },
  {
   "cell_type": "markdown",
   "metadata": {},
   "source": [
    "## 예제 2-22 :  모듈에서 변수 정의 없이 사용할 경우 예외 발생 \n",
    "\n",
    "- 변수는 항상 사용하기 전에 할당을 해야 한다."
   ]
  },
  {
   "cell_type": "code",
   "execution_count": 60,
   "metadata": {},
   "outputs": [
    {
     "ename": "NameError",
     "evalue": "name 'var_x' is not defined",
     "output_type": "error",
     "traceback": [
      "\u001b[0;31m---------------------------------------------------------------------------\u001b[0m",
      "\u001b[0;31mNameError\u001b[0m                                 Traceback (most recent call last)",
      "\u001b[0;32m<ipython-input-60-06185a806bf1>\u001b[0m in \u001b[0;36m<module>\u001b[0;34m\u001b[0m\n\u001b[0;32m----> 1\u001b[0;31m \u001b[0mvar_x\u001b[0m \u001b[0;34m=\u001b[0m \u001b[0mvar_x\u001b[0m \u001b[0;34m+\u001b[0m \u001b[0;36m100\u001b[0m\u001b[0;34m\u001b[0m\u001b[0;34m\u001b[0m\u001b[0m\n\u001b[0m",
      "\u001b[0;31mNameError\u001b[0m: name 'var_x' is not defined"
     ]
    }
   ],
   "source": [
    "var_x = var_x + 100"
   ]
  },
  {
   "cell_type": "markdown",
   "metadata": {},
   "source": [
    "## 예제 2-23 :  함수 내에  표현식에 할당되지 않은 변수가 존재\n",
    "\n",
    "- 함수 내에서 변수를 정의없이 계산하고 변수에 할당하기\n",
    "- 먼저 변수를 할당하는 것을 확인하고 이 변수가 있는 지를 함수 이름공간을 확인한다. 동일한 이름이 모듈에 있지만 검색하지 않는다.\n"
   ]
  },
  {
   "cell_type": "code",
   "execution_count": 61,
   "metadata": {},
   "outputs": [
    {
     "name": "stdout",
     "output_type": "stream",
     "text": [
      "{}\n"
     ]
    },
    {
     "ename": "UnboundLocalError",
     "evalue": "local variable 'x' referenced before assignment",
     "output_type": "error",
     "traceback": [
      "\u001b[0;31m---------------------------------------------------------------------------\u001b[0m",
      "\u001b[0;31mUnboundLocalError\u001b[0m                         Traceback (most recent call last)",
      "\u001b[0;32m<ipython-input-61-40da3dd3a3e2>\u001b[0m in \u001b[0;36m<module>\u001b[0;34m\u001b[0m\n\u001b[1;32m      6\u001b[0m     \u001b[0;32mreturn\u001b[0m \u001b[0mx\u001b[0m\u001b[0;34m\u001b[0m\u001b[0;34m\u001b[0m\u001b[0m\n\u001b[1;32m      7\u001b[0m \u001b[0;34m\u001b[0m\u001b[0m\n\u001b[0;32m----> 8\u001b[0;31m \u001b[0mprint\u001b[0m\u001b[0;34m(\u001b[0m\u001b[0mfunc\u001b[0m\u001b[0;34m(\u001b[0m\u001b[0;34m)\u001b[0m\u001b[0;34m)\u001b[0m\u001b[0;34m\u001b[0m\u001b[0;34m\u001b[0m\u001b[0m\n\u001b[0m\u001b[1;32m      9\u001b[0m \u001b[0;34m\u001b[0m\u001b[0m\n",
      "\u001b[0;32m<ipython-input-61-40da3dd3a3e2>\u001b[0m in \u001b[0;36mfunc\u001b[0;34m()\u001b[0m\n\u001b[1;32m      3\u001b[0m \u001b[0;32mdef\u001b[0m \u001b[0mfunc\u001b[0m\u001b[0;34m(\u001b[0m\u001b[0;34m)\u001b[0m \u001b[0;34m:\u001b[0m\u001b[0;34m\u001b[0m\u001b[0;34m\u001b[0m\u001b[0m\n\u001b[1;32m      4\u001b[0m     \u001b[0mprint\u001b[0m\u001b[0;34m(\u001b[0m\u001b[0mlocals\u001b[0m\u001b[0;34m(\u001b[0m\u001b[0;34m)\u001b[0m\u001b[0;34m)\u001b[0m\u001b[0;34m\u001b[0m\u001b[0;34m\u001b[0m\u001b[0m\n\u001b[0;32m----> 5\u001b[0;31m     \u001b[0mx\u001b[0m \u001b[0;34m=\u001b[0m \u001b[0mx\u001b[0m\u001b[0;34m+\u001b[0m \u001b[0;36m1\u001b[0m\u001b[0;34m\u001b[0m\u001b[0;34m\u001b[0m\u001b[0m\n\u001b[0m\u001b[1;32m      6\u001b[0m     \u001b[0;32mreturn\u001b[0m \u001b[0mx\u001b[0m\u001b[0;34m\u001b[0m\u001b[0;34m\u001b[0m\u001b[0m\n\u001b[1;32m      7\u001b[0m \u001b[0;34m\u001b[0m\u001b[0m\n",
      "\u001b[0;31mUnboundLocalError\u001b[0m: local variable 'x' referenced before assignment"
     ]
    }
   ],
   "source": [
    "x = 10\n",
    "\n",
    "def func() :\n",
    "    print(locals())\n",
    "    x = x+ 1\n",
    "    return x\n",
    "\n",
    "print(func())\n",
    "    "
   ]
  },
  {
   "cell_type": "code",
   "execution_count": null,
   "metadata": {},
   "outputs": [],
   "source": []
  },
  {
   "cell_type": "markdown",
   "metadata": {},
   "source": [
    "## 예제 2-24 :  함수 내에서 글로벌 변수만 조회할 경우\n",
    "\n",
    "- 변수 할당없이 전역 변수를 사용하는 경우는 모듈의 변수를 잘 참조한다."
   ]
  },
  {
   "cell_type": "code",
   "execution_count": 62,
   "metadata": {},
   "outputs": [
    {
     "name": "stdout",
     "output_type": "stream",
     "text": [
      "{}\n",
      "10\n"
     ]
    }
   ],
   "source": [
    "x = 10\n",
    "\n",
    "def func() :\n",
    "    print(locals())\n",
    "    print(x)\n",
    "\n",
    "func()"
   ]
  },
  {
   "cell_type": "markdown",
   "metadata": {},
   "source": [
    "## 예제 2-25 :  함수에 없는 전역 변수를 지정해 사용하기\n",
    "\n",
    "- global로 전역변수를 명확히 지정한 후에 변수에 할당하면 전역변수로 처리한다\n"
   ]
  },
  {
   "cell_type": "code",
   "execution_count": 63,
   "metadata": {},
   "outputs": [
    {
     "name": "stdout",
     "output_type": "stream",
     "text": [
      "{}\n",
      "{}\n",
      "11\n",
      "11\n"
     ]
    }
   ],
   "source": [
    "x = 10\n",
    "\n",
    "def func() :\n",
    "    global x\n",
    "    print(locals())\n",
    "    x = x+ 1\n",
    "    print(locals())\n",
    "    return x\n",
    "\n",
    "print(func())\n",
    "print(x)"
   ]
  },
  {
   "cell_type": "markdown",
   "metadata": {},
   "source": [
    "## 예제 2-26 :  내부 함수 내에 미지정된 변수 사용\n",
    "\n",
    "- 함수 내에 함수를 정의해서 사용할 때도 내부 함수 내에 변수를 할당할 때  그변수를 먼저 사용하면 예외를 발생한다.\n"
   ]
  },
  {
   "cell_type": "code",
   "execution_count": 64,
   "metadata": {},
   "outputs": [
    {
     "name": "stdout",
     "output_type": "stream",
     "text": [
      "outer  {'inner': <function outer.<locals>.inner at 0x10c7898c8>, 'x': 10}\n",
      "inner {}\n"
     ]
    },
    {
     "ename": "UnboundLocalError",
     "evalue": "local variable 'x' referenced before assignment",
     "output_type": "error",
     "traceback": [
      "\u001b[0;31m---------------------------------------------------------------------------\u001b[0m",
      "\u001b[0;31mUnboundLocalError\u001b[0m                         Traceback (most recent call last)",
      "\u001b[0;32m<ipython-input-64-3cef66e91d53>\u001b[0m in \u001b[0;36m<module>\u001b[0;34m\u001b[0m\n\u001b[1;32m      7\u001b[0m     \u001b[0;32mreturn\u001b[0m \u001b[0minner\u001b[0m\u001b[0;34m(\u001b[0m\u001b[0;34m)\u001b[0m\u001b[0;34m\u001b[0m\u001b[0;34m\u001b[0m\u001b[0m\n\u001b[1;32m      8\u001b[0m \u001b[0;34m\u001b[0m\u001b[0m\n\u001b[0;32m----> 9\u001b[0;31m \u001b[0mprint\u001b[0m\u001b[0;34m(\u001b[0m\u001b[0mouter\u001b[0m\u001b[0;34m(\u001b[0m\u001b[0;34m)\u001b[0m\u001b[0;34m)\u001b[0m\u001b[0;34m\u001b[0m\u001b[0;34m\u001b[0m\u001b[0m\n\u001b[0m",
      "\u001b[0;32m<ipython-input-64-3cef66e91d53>\u001b[0m in \u001b[0;36mouter\u001b[0;34m()\u001b[0m\n\u001b[1;32m      5\u001b[0m         \u001b[0mx\u001b[0m \u001b[0;34m=\u001b[0m \u001b[0mx\u001b[0m\u001b[0;34m+\u001b[0m \u001b[0;36m1\u001b[0m\u001b[0;34m\u001b[0m\u001b[0;34m\u001b[0m\u001b[0m\n\u001b[1;32m      6\u001b[0m     \u001b[0mprint\u001b[0m\u001b[0;34m(\u001b[0m\u001b[0;34m\"outer \"\u001b[0m\u001b[0;34m,\u001b[0m \u001b[0mlocals\u001b[0m\u001b[0;34m(\u001b[0m\u001b[0;34m)\u001b[0m\u001b[0;34m)\u001b[0m\u001b[0;34m\u001b[0m\u001b[0;34m\u001b[0m\u001b[0m\n\u001b[0;32m----> 7\u001b[0;31m     \u001b[0;32mreturn\u001b[0m \u001b[0minner\u001b[0m\u001b[0;34m(\u001b[0m\u001b[0;34m)\u001b[0m\u001b[0;34m\u001b[0m\u001b[0;34m\u001b[0m\u001b[0m\n\u001b[0m\u001b[1;32m      8\u001b[0m \u001b[0;34m\u001b[0m\u001b[0m\n\u001b[1;32m      9\u001b[0m \u001b[0mprint\u001b[0m\u001b[0;34m(\u001b[0m\u001b[0mouter\u001b[0m\u001b[0;34m(\u001b[0m\u001b[0;34m)\u001b[0m\u001b[0;34m)\u001b[0m\u001b[0;34m\u001b[0m\u001b[0;34m\u001b[0m\u001b[0m\n",
      "\u001b[0;32m<ipython-input-64-3cef66e91d53>\u001b[0m in \u001b[0;36minner\u001b[0;34m()\u001b[0m\n\u001b[1;32m      3\u001b[0m     \u001b[0;32mdef\u001b[0m \u001b[0minner\u001b[0m\u001b[0;34m(\u001b[0m\u001b[0;34m)\u001b[0m \u001b[0;34m:\u001b[0m\u001b[0;34m\u001b[0m\u001b[0;34m\u001b[0m\u001b[0m\n\u001b[1;32m      4\u001b[0m         \u001b[0mprint\u001b[0m\u001b[0;34m(\u001b[0m\u001b[0;34m\"inner\"\u001b[0m\u001b[0;34m,\u001b[0m \u001b[0mlocals\u001b[0m\u001b[0;34m(\u001b[0m\u001b[0;34m)\u001b[0m\u001b[0;34m)\u001b[0m\u001b[0;34m\u001b[0m\u001b[0;34m\u001b[0m\u001b[0m\n\u001b[0;32m----> 5\u001b[0;31m         \u001b[0mx\u001b[0m \u001b[0;34m=\u001b[0m \u001b[0mx\u001b[0m\u001b[0;34m+\u001b[0m \u001b[0;36m1\u001b[0m\u001b[0;34m\u001b[0m\u001b[0;34m\u001b[0m\u001b[0m\n\u001b[0m\u001b[1;32m      6\u001b[0m     \u001b[0mprint\u001b[0m\u001b[0;34m(\u001b[0m\u001b[0;34m\"outer \"\u001b[0m\u001b[0;34m,\u001b[0m \u001b[0mlocals\u001b[0m\u001b[0;34m(\u001b[0m\u001b[0;34m)\u001b[0m\u001b[0;34m)\u001b[0m\u001b[0;34m\u001b[0m\u001b[0;34m\u001b[0m\u001b[0m\n\u001b[1;32m      7\u001b[0m     \u001b[0;32mreturn\u001b[0m \u001b[0minner\u001b[0m\u001b[0;34m(\u001b[0m\u001b[0;34m)\u001b[0m\u001b[0;34m\u001b[0m\u001b[0;34m\u001b[0m\u001b[0m\n",
      "\u001b[0;31mUnboundLocalError\u001b[0m: local variable 'x' referenced before assignment"
     ]
    }
   ],
   "source": [
    "def outer() :\n",
    "    x = 10\n",
    "    def inner() :\n",
    "        print(\"inner\", locals())\n",
    "        x = x+ 1\n",
    "    print(\"outer \", locals())\n",
    "    return inner()\n",
    "\n",
    "print(outer())"
   ]
  },
  {
   "cell_type": "markdown",
   "metadata": {},
   "source": [
    "## 예제 2-27 :  내부 함수 내에 미지정된 변수를 nonloacl 지정"
   ]
  },
  {
   "cell_type": "code",
   "execution_count": 65,
   "metadata": {},
   "outputs": [
    {
     "name": "stdout",
     "output_type": "stream",
     "text": [
      "outer  {'inner': <function outer.<locals>.inner at 0x10c789158>, 'x': 10}\n",
      "inner {'x': 10}\n",
      "inner {'x': 11}\n",
      "None\n"
     ]
    }
   ],
   "source": [
    "def outer() :\n",
    "    x = 10\n",
    "    def inner() :\n",
    "        nonlocal x\n",
    "        print(\"inner\", locals())\n",
    "        x = x+ 1\n",
    "        print(\"inner\", locals())\n",
    "        \n",
    "    print(\"outer \", locals())\n",
    "    return inner()\n",
    "\n",
    "print(outer())"
   ]
  },
  {
   "cell_type": "markdown",
   "metadata": {},
   "source": [
    "## 예제 2-28 : 함수 정의 할 때 아무 기능이 없이 정의도 가능"
   ]
  },
  {
   "cell_type": "code",
   "execution_count": 66,
   "metadata": {},
   "outputs": [
    {
     "name": "stdout",
     "output_type": "stream",
     "text": [
      "func\n",
      "<class 'function'>\n"
     ]
    }
   ],
   "source": [
    "def func() : \n",
    "    pass\n",
    "\n",
    "print(func.__name__)\n",
    "print(type(func))"
   ]
  },
  {
   "cell_type": "markdown",
   "metadata": {},
   "source": [
    "## 예제 2-29 :  매개변수 처리 \n",
    "\n",
    "- 매개변수는 함수 내부의 지역변수로 사용한다.\n",
    "- 함수는 매개변수와 내부의 변수를 하나의 이름공간에서 같이 관리한다.\n",
    "- 함수의 지역이름공간을 확인하는 함수 locals로 지역이름공간을 확인한다."
   ]
  },
  {
   "cell_type": "code",
   "execution_count": 67,
   "metadata": {},
   "outputs": [],
   "source": [
    "def func(para1,para2) : \n",
    "    print(locals())\n",
    "    return para1, para2\n"
   ]
  },
  {
   "cell_type": "code",
   "execution_count": 68,
   "metadata": {},
   "outputs": [
    {
     "name": "stdout",
     "output_type": "stream",
     "text": [
      "func\n",
      "<class 'function'>\n",
      "{'para2': 1200, 'para1': 100}\n",
      "(100, 1200)\n"
     ]
    }
   ],
   "source": [
    "print(func.__name__)\n",
    "print(type(func))\n",
    "c = func(100,1200)\n",
    "print(c)"
   ]
  },
  {
   "cell_type": "markdown",
   "metadata": {},
   "source": [
    "## 예제 2-30 :  함수는 return문이 없어도 반드시 반환값을 처리\n",
    "\n",
    "- 함수는 return 이 없어도 항상 None을 반환한다."
   ]
  },
  {
   "cell_type": "code",
   "execution_count": 69,
   "metadata": {},
   "outputs": [],
   "source": [
    "def func(para1,para2) : \n",
    "    print(locals())\n"
   ]
  },
  {
   "cell_type": "code",
   "execution_count": 70,
   "metadata": {},
   "outputs": [
    {
     "name": "stdout",
     "output_type": "stream",
     "text": [
      "func\n",
      "<class 'function'>\n",
      "{'para2': 1200, 'para1': 100}\n",
      "None\n"
     ]
    }
   ],
   "source": [
    "print(func.__name__)\n",
    "print(type(func))\n",
    "c = func(100,1200)\n",
    "print(c)"
   ]
  },
  {
   "cell_type": "markdown",
   "metadata": {},
   "source": [
    "## 예제 2-31 : 아무것도 하지 않는 클래스 정의\n",
    "\n",
    "- 클래스는 아무것도 하지 않아도 객체를 생성한다. "
   ]
  },
  {
   "cell_type": "code",
   "execution_count": 71,
   "metadata": {},
   "outputs": [],
   "source": [
    "class Klass :\n",
    "    pass\n"
   ]
  },
  {
   "cell_type": "code",
   "execution_count": 72,
   "metadata": {},
   "outputs": [
    {
     "name": "stdout",
     "output_type": "stream",
     "text": [
      "Klass\n",
      "<__main__.Klass object at 0x10c7ab748>\n",
      "<class '__main__.Klass'>\n"
     ]
    }
   ],
   "source": [
    "print(Klass.__name__)\n",
    "\n",
    "k = Klass()\n",
    "print(k)\n",
    "print(type(k))"
   ]
  },
  {
   "cell_type": "markdown",
   "metadata": {},
   "source": [
    "### 객체를 생성하는 이유는 object 를 상속한다.  \n",
    "\n",
    "- object 내에 객체를 생성하는 __new__ 생성자 함수가 있다."
   ]
  },
  {
   "cell_type": "code",
   "execution_count": 73,
   "metadata": {},
   "outputs": [
    {
     "name": "stdout",
     "output_type": "stream",
     "text": [
      "<__main__.Klass object at 0x10c7ab898>\n",
      "True\n"
     ]
    }
   ],
   "source": [
    "o = object.__new__(Klass)\n",
    "print(o)\n",
    "print(isinstance(o,Klass))"
   ]
  },
  {
   "cell_type": "markdown",
   "metadata": {},
   "source": [
    "## 예제 2-32 :  pass 문 사용"
   ]
  },
  {
   "cell_type": "code",
   "execution_count": null,
   "metadata": {},
   "outputs": [],
   "source": [
    "for i in range(3) :\n",
    "    pass\n",
    "\n",
    "print(\" pass 실행\")"
   ]
  },
  {
   "cell_type": "code",
   "execution_count": null,
   "metadata": {},
   "outputs": [],
   "source": [
    "if True :\n",
    "    pass\n",
    "\n",
    "print(\" pass 실행\")"
   ]
  },
  {
   "cell_type": "markdown",
   "metadata": {},
   "source": [
    "## 예제 2-33 : 파이썬 제공하는 전체 모듈을  import 하기\n",
    "\n",
    "\n",
    "- 파이썬 모듈을 import 하는 것은 모듈의 이름을 가지고 모듈의 객체를 생성한다.\n",
    "- 모듈이 한번 import 되면 두 번을 수행해도 하나만 관리한다.\n"
   ]
  },
  {
   "cell_type": "code",
   "execution_count": 74,
   "metadata": {},
   "outputs": [
    {
     "name": "stdout",
     "output_type": "stream",
     "text": [
      "<module 'math' from '/Users/dahlmoon/anaconda/lib/python3.6/lib-dynload/math.cpython-36m-darwin.so'>\n",
      "math\n"
     ]
    }
   ],
   "source": [
    "import math\n",
    "\n",
    "print(math)\n",
    "print(math.__name__)"
   ]
  },
  {
   "cell_type": "markdown",
   "metadata": {},
   "source": [
    "## 예제 2-34 : 내부 제공 모듈 import 할 때 별칭을 부여하기\n",
    "\n",
    "- 모듈이 이름이 별칭은 기존 모듈이 다른 변수 이름을 사용하는 것과 동일하다.\n"
   ]
  },
  {
   "cell_type": "code",
   "execution_count": 75,
   "metadata": {},
   "outputs": [
    {
     "name": "stdout",
     "output_type": "stream",
     "text": [
      "<module 'math' from '/Users/dahlmoon/anaconda/lib/python3.6/lib-dynload/math.cpython-36m-darwin.so'>\n",
      "math\n",
      "3.141592653589793\n"
     ]
    }
   ],
   "source": [
    "import math as mt\n",
    "\n",
    "print(mt)\n",
    "print(mt.__name__)\n",
    "\n",
    "print(mt.pi)"
   ]
  },
  {
   "cell_type": "code",
   "execution_count": 76,
   "metadata": {},
   "outputs": [
    {
     "name": "stdout",
     "output_type": "stream",
     "text": [
      "<module 'math' from '/Users/dahlmoon/anaconda/lib/python3.6/lib-dynload/math.cpython-36m-darwin.so'>\n",
      "math\n",
      "3.141592653589793\n"
     ]
    }
   ],
   "source": [
    "import math \n",
    "\n",
    "mt = math\n",
    "print(mt)\n",
    "print(mt.__name__)\n",
    "\n",
    "print(mt.pi)"
   ]
  },
  {
   "cell_type": "markdown",
   "metadata": {},
   "source": [
    "## 예제 2-35 : 모듈 내의 특정 속성만 원래 이름으로 사용하기\n",
    "\n",
    "- 모듈 내의 함수나 변수를 직접 import 할 때는 모듈 명을 from으로 처리하고 실제 사용할 것만 import 한다.\n",
    "\n",
    "- 이때는 모듈에 다른 이름과 충돌이 되지 않도록 주의해야 한다."
   ]
  },
  {
   "cell_type": "code",
   "execution_count": 77,
   "metadata": {},
   "outputs": [
    {
     "name": "stdout",
     "output_type": "stream",
     "text": [
      "3.141592653589793\n",
      "<built-in function sin>\n",
      "0.0\n",
      "100\n"
     ]
    }
   ],
   "source": [
    "from math import pi, sin\n",
    "\n",
    "print(pi)\n",
    "print(sin)\n",
    "\n",
    "print(sin(0))\n",
    "\n",
    "pi = 100\n",
    "print(pi)"
   ]
  },
  {
   "cell_type": "markdown",
   "metadata": {},
   "source": [
    "## 예제 2-36 : 모듈 내의 특정 속성에 별칭 부여하기\n"
   ]
  },
  {
   "cell_type": "code",
   "execution_count": 78,
   "metadata": {},
   "outputs": [
    {
     "name": "stdout",
     "output_type": "stream",
     "text": [
      "3.141592653589793\n"
     ]
    }
   ],
   "source": [
    "from math import pi as mtpi\n",
    "\n",
    "print(mtpi)"
   ]
  },
  {
   "cell_type": "code",
   "execution_count": 79,
   "metadata": {},
   "outputs": [
    {
     "name": "stdout",
     "output_type": "stream",
     "text": [
      "3.141592653589793\n"
     ]
    }
   ],
   "source": [
    "from math import pi \n",
    "\n",
    "mtpi = pi\n",
    "\n",
    "print(mtpi)"
   ]
  },
  {
   "cell_type": "markdown",
   "metadata": {},
   "source": [
    "## 예제 2-37 : 함수를 정의해서 파이썬 파일로 저장\n",
    "\n",
    "- 새로운 모듈을 만들 때는 %%writefile 명령어를 사용해서 확장자를 py로 지정해서 정의한다\n",
    "- 작성되 모듈을 사용할 때는 import 한 후에 사용해야 한다. \n"
   ]
  },
  {
   "cell_type": "code",
   "execution_count": 81,
   "metadata": {},
   "outputs": [
    {
     "name": "stdout",
     "output_type": "stream",
     "text": [
      "Overwriting add.py\n"
     ]
    }
   ],
   "source": [
    "%%writefile add.py\n",
    "\n",
    "def add(x,y) : \n",
    "    return x+y\n"
   ]
  },
  {
   "cell_type": "code",
   "execution_count": 82,
   "metadata": {},
   "outputs": [
    {
     "name": "stdout",
     "output_type": "stream",
     "text": [
      "20\n",
      "add\n"
     ]
    }
   ],
   "source": [
    "import add\n",
    "\n",
    "print(add.add(10,10))\n",
    "print(add.__name__)"
   ]
  },
  {
   "cell_type": "markdown",
   "metadata": {},
   "source": [
    "### 현재 모듈을 실행하려면 모듈명이 __main__으로 변경되므로  제어문에 모듈 이름을 처리한 후에 실행로직을 추가하면 된다"
   ]
  },
  {
   "cell_type": "code",
   "execution_count": 83,
   "metadata": {},
   "outputs": [
    {
     "name": "stdout",
     "output_type": "stream",
     "text": [
      "20\n"
     ]
    }
   ],
   "source": [
    "import add\n",
    "\n",
    "if __name__ == \"__main__\" :\n",
    "    print(add.add(10,10))"
   ]
  },
  {
   "cell_type": "markdown",
   "metadata": {},
   "source": [
    "## 예제 2-38 :  두개의 모듈을 생성하고 shell에서 실행하기\n",
    "\n",
    "- 파이썬을 쉘에서나 주피터노트북에서 각각 실행할 수 있다. \n",
    "- 이때 내부의 기능을 처리하려면 모듈 이름이 __main__으로 처리된다."
   ]
  },
  {
   "cell_type": "code",
   "execution_count": 84,
   "metadata": {},
   "outputs": [
    {
     "name": "stdout",
     "output_type": "stream",
     "text": [
      "Overwriting mul.py\n"
     ]
    }
   ],
   "source": [
    "%%writefile mul.py\n",
    "\n",
    "def mul(x,y) :\n",
    "    return x*y"
   ]
  },
  {
   "cell_type": "code",
   "execution_count": 85,
   "metadata": {},
   "outputs": [
    {
     "name": "stdout",
     "output_type": "stream",
     "text": [
      "Overwriting main_mul.py\n"
     ]
    }
   ],
   "source": [
    "%%writefile main_mul.py\n",
    "import mul\n",
    "\n",
    "if __name__ == \"__main__\" :\n",
    "    print(mul.mul(10,10))"
   ]
  },
  {
   "cell_type": "code",
   "execution_count": 86,
   "metadata": {},
   "outputs": [
    {
     "name": "stdout",
     "output_type": "stream",
     "text": [
      "100\r\n"
     ]
    }
   ],
   "source": [
    "!python main_mul.py"
   ]
  },
  {
   "cell_type": "code",
   "execution_count": 87,
   "metadata": {},
   "outputs": [
    {
     "name": "stdout",
     "output_type": "stream",
     "text": [
      "100\n"
     ]
    }
   ],
   "source": [
    "%run main_mul.py"
   ]
  },
  {
   "cell_type": "markdown",
   "metadata": {},
   "source": [
    "## 예제 2-39 :  globals와 locals함수 처리\n",
    "\n",
    "- 모듈이 이름공간인 전역은 globals 함수로 확인한다.\n",
    "- 함수 이름공간은 지역이므로 locals함수로 확인한다."
   ]
  },
  {
   "cell_type": "code",
   "execution_count": 88,
   "metadata": {},
   "outputs": [
    {
     "name": "stdout",
     "output_type": "stream",
     "text": [
      "<class 'dict'>\n"
     ]
    }
   ],
   "source": [
    "print(type(globals()))"
   ]
  },
  {
   "cell_type": "code",
   "execution_count": 89,
   "metadata": {},
   "outputs": [
    {
     "name": "stdout",
     "output_type": "stream",
     "text": [
      "<class 'dict'>\n",
      "20\n"
     ]
    }
   ],
   "source": [
    "def add(x,y) :\n",
    "    print(type(locals()))\n",
    "    return x+y\n",
    "\n",
    "print(add(10,10))"
   ]
  },
  {
   "cell_type": "code",
   "execution_count": 90,
   "metadata": {},
   "outputs": [
    {
     "name": "stdout",
     "output_type": "stream",
     "text": [
      "<function add at 0x10c834c80>\n",
      "__main__\n"
     ]
    }
   ],
   "source": [
    "print(add.__globals__['add'])\n",
    "print(add.__globals__['__name__'])"
   ]
  },
  {
   "cell_type": "code",
   "execution_count": 91,
   "metadata": {},
   "outputs": [
    {
     "name": "stdout",
     "output_type": "stream",
     "text": [
      "<function add at 0x10c834c80>\n",
      "__main__\n"
     ]
    }
   ],
   "source": [
    "print(globals()['add'])\n",
    "print(globals()['__name__'])"
   ]
  },
  {
   "cell_type": "markdown",
   "metadata": {},
   "source": [
    "## 예제 2-40 :  모듈에 변수와 함수를 정의하고 전역에서 조회\n"
   ]
  },
  {
   "cell_type": "code",
   "execution_count": 92,
   "metadata": {},
   "outputs": [
    {
     "name": "stdout",
     "output_type": "stream",
     "text": [
      "Overwriting func_st.py\n"
     ]
    }
   ],
   "source": [
    "%%writefile func_st.py\n",
    "\n",
    "def add_f(x,y) :\n",
    "    return x+y\n",
    "\n",
    "CONT = 100\n",
    "\n",
    "if __name__ == \"__main__\" :\n",
    "    print(globals()[\"add_f\"])\n",
    "    print(globals()[\"CONT\"])\n",
    "    print(globals()[\"add_f\"](CONT,20))"
   ]
  },
  {
   "cell_type": "code",
   "execution_count": 93,
   "metadata": {},
   "outputs": [
    {
     "name": "stdout",
     "output_type": "stream",
     "text": [
      "<function add_f at 0x107b32e18>\r\n",
      "100\r\n",
      "120\r\n"
     ]
    }
   ],
   "source": [
    "!python func_st.py"
   ]
  },
  {
   "cell_type": "code",
   "execution_count": 94,
   "metadata": {},
   "outputs": [
    {
     "name": "stdout",
     "output_type": "stream",
     "text": [
      "<function add_f at 0x10c834598>\n",
      "100\n",
      "120\n"
     ]
    }
   ],
   "source": [
    "%run func_st.py"
   ]
  },
  {
   "cell_type": "markdown",
   "metadata": {},
   "source": [
    "## 예제 2-41 :  os 모듈 확인"
   ]
  },
  {
   "cell_type": "code",
   "execution_count": 95,
   "metadata": {},
   "outputs": [
    {
     "name": "stdout",
     "output_type": "stream",
     "text": [
      "<module 'os' from '/Users/dahlmoon/anaconda/lib/python3.6/os.py'>\n"
     ]
    }
   ],
   "source": [
    "import os\n",
    "\n",
    "print(os)\n",
    "        "
   ]
  },
  {
   "cell_type": "code",
   "execution_count": 96,
   "metadata": {},
   "outputs": [
    {
     "data": {
      "text/plain": [
       "'/Users/dahlmoon/Documents/GitHub/handinpython_study/python_gram'"
      ]
     },
     "execution_count": 96,
     "metadata": {},
     "output_type": "execute_result"
    }
   ],
   "source": [
    "os.getcwd()"
   ]
  },
  {
   "cell_type": "code",
   "execution_count": 97,
   "metadata": {},
   "outputs": [
    {
     "data": {
      "text/plain": [
       "'/Users/dahlmoon/Documents/GitHub/handinpython_study/python_gram'"
      ]
     },
     "execution_count": 97,
     "metadata": {},
     "output_type": "execute_result"
    }
   ],
   "source": [
    "%pwd"
   ]
  },
  {
   "cell_type": "markdown",
   "metadata": {},
   "source": [
    "## 예제 2-42 :   패키지 만들기 : testpk\n"
   ]
  },
  {
   "cell_type": "code",
   "execution_count": 98,
   "metadata": {},
   "outputs": [],
   "source": [
    "os.makedirs(\"testpk\")"
   ]
  },
  {
   "cell_type": "code",
   "execution_count": 99,
   "metadata": {},
   "outputs": [
    {
     "name": "stdout",
     "output_type": "stream",
     "text": [
      "/Users/dahlmoon/Documents/GitHub/handinpython_study/python_gram\n"
     ]
    }
   ],
   "source": [
    "print(os.getcwd())"
   ]
  },
  {
   "cell_type": "code",
   "execution_count": 100,
   "metadata": {},
   "outputs": [],
   "source": [
    "os.chdir(\"testpk\")"
   ]
  },
  {
   "cell_type": "code",
   "execution_count": 101,
   "metadata": {},
   "outputs": [
    {
     "name": "stdout",
     "output_type": "stream",
     "text": [
      "/Users/dahlmoon/Documents/GitHub/handinpython_study/python_gram/testpk\n"
     ]
    }
   ],
   "source": [
    "print(os.getcwd())"
   ]
  },
  {
   "cell_type": "code",
   "execution_count": 102,
   "metadata": {},
   "outputs": [
    {
     "name": "stdout",
     "output_type": "stream",
     "text": [
      "Writing __init__.py\n"
     ]
    }
   ],
   "source": [
    "%%writefile __init__.py\n",
    "## init"
   ]
  },
  {
   "cell_type": "markdown",
   "metadata": {},
   "source": [
    "## 예제 2-43 :   하위 패키지 만들기 : spam\n"
   ]
  },
  {
   "cell_type": "code",
   "execution_count": 103,
   "metadata": {},
   "outputs": [
    {
     "data": {
      "text/plain": [
       "'/Users/dahlmoon/Documents/GitHub/handinpython_study/python_gram/testpk'"
      ]
     },
     "execution_count": 103,
     "metadata": {},
     "output_type": "execute_result"
    }
   ],
   "source": [
    "os.getcwd()"
   ]
  },
  {
   "cell_type": "code",
   "execution_count": 104,
   "metadata": {},
   "outputs": [],
   "source": [
    "os.makedirs(\"spam\")"
   ]
  },
  {
   "cell_type": "code",
   "execution_count": 105,
   "metadata": {},
   "outputs": [],
   "source": [
    "os.chdir(\"spam\")"
   ]
  },
  {
   "cell_type": "code",
   "execution_count": 106,
   "metadata": {},
   "outputs": [
    {
     "data": {
      "text/plain": [
       "'/Users/dahlmoon/Documents/GitHub/handinpython_study/python_gram/testpk/spam'"
      ]
     },
     "execution_count": 106,
     "metadata": {},
     "output_type": "execute_result"
    }
   ],
   "source": [
    "os.getcwd()"
   ]
  },
  {
   "cell_type": "code",
   "execution_count": 107,
   "metadata": {},
   "outputs": [
    {
     "name": "stdout",
     "output_type": "stream",
     "text": [
      "Writing __init__.py\n"
     ]
    }
   ],
   "source": [
    "%%writefile __init__.py\n",
    "## init"
   ]
  },
  {
   "cell_type": "code",
   "execution_count": 108,
   "metadata": {},
   "outputs": [
    {
     "name": "stdout",
     "output_type": "stream",
     "text": [
      "Writing spam.py\n"
     ]
    }
   ],
   "source": [
    "%%writefile spam.py\n",
    "def spam():\n",
    "    print(\"call spam\")"
   ]
  },
  {
   "cell_type": "markdown",
   "metadata": {},
   "source": [
    "## 예제 2-44 :   하위 패키지 만들기 : grok\n"
   ]
  },
  {
   "cell_type": "code",
   "execution_count": 109,
   "metadata": {},
   "outputs": [],
   "source": [
    "os.chdir(r\".././\")"
   ]
  },
  {
   "cell_type": "code",
   "execution_count": 110,
   "metadata": {},
   "outputs": [
    {
     "data": {
      "text/plain": [
       "'/Users/dahlmoon/Documents/GitHub/handinpython_study/python_gram/testpk'"
      ]
     },
     "execution_count": 110,
     "metadata": {},
     "output_type": "execute_result"
    }
   ],
   "source": [
    "os.getcwd()"
   ]
  },
  {
   "cell_type": "code",
   "execution_count": 111,
   "metadata": {},
   "outputs": [],
   "source": [
    "os.makedirs(\"grok\")"
   ]
  },
  {
   "cell_type": "code",
   "execution_count": 112,
   "metadata": {},
   "outputs": [],
   "source": [
    "os.chdir(\"grok\")"
   ]
  },
  {
   "cell_type": "code",
   "execution_count": 113,
   "metadata": {},
   "outputs": [
    {
     "data": {
      "text/plain": [
       "'/Users/dahlmoon/Documents/GitHub/handinpython_study/python_gram/testpk/grok'"
      ]
     },
     "execution_count": 113,
     "metadata": {},
     "output_type": "execute_result"
    }
   ],
   "source": [
    "os.getcwd()"
   ]
  },
  {
   "cell_type": "code",
   "execution_count": 114,
   "metadata": {},
   "outputs": [
    {
     "name": "stdout",
     "output_type": "stream",
     "text": [
      "Writing __init__.py\n"
     ]
    }
   ],
   "source": [
    "%%writefile __init__.py\n",
    "## init"
   ]
  },
  {
   "cell_type": "code",
   "execution_count": 115,
   "metadata": {},
   "outputs": [
    {
     "name": "stdout",
     "output_type": "stream",
     "text": [
      "Writing grok.py\n"
     ]
    }
   ],
   "source": [
    "%%writefile grok.py\n",
    "def grok():\n",
    "    print(\"call grok\")"
   ]
  },
  {
   "cell_type": "markdown",
   "metadata": {},
   "source": [
    "## 예제 2-45 :  상위 패키지 내부 정보 확인하기"
   ]
  },
  {
   "cell_type": "code",
   "execution_count": 116,
   "metadata": {},
   "outputs": [
    {
     "name": "stdout",
     "output_type": "stream",
     "text": [
      "/Users/dahlmoon/Documents/GitHub/handinpython_study/python_gram/testpk\n"
     ]
    }
   ],
   "source": [
    "os.chdir(r\".././\")\n",
    "\n",
    "print(os.getcwd())"
   ]
  },
  {
   "cell_type": "code",
   "execution_count": 117,
   "metadata": {},
   "outputs": [
    {
     "name": "stdout",
     "output_type": "stream",
     "text": [
      "/Users/dahlmoon/Documents/GitHub/handinpython_study/python_gram\n"
     ]
    }
   ],
   "source": [
    "os.chdir(r\".././\")\n",
    "print(os.getcwd())"
   ]
  },
  {
   "cell_type": "code",
   "execution_count": 118,
   "metadata": {},
   "outputs": [
    {
     "data": {
      "text/plain": [
       "['spam', '__init__.py', 'grok']"
      ]
     },
     "execution_count": 118,
     "metadata": {},
     "output_type": "execute_result"
    }
   ],
   "source": [
    "os.listdir(\"testpk\")"
   ]
  },
  {
   "cell_type": "code",
   "execution_count": 119,
   "metadata": {},
   "outputs": [
    {
     "name": "stdout",
     "output_type": "stream",
     "text": [
      "__init__.py  \u001b[34mgrok\u001b[m\u001b[m/        \u001b[34mspam\u001b[m\u001b[m/\r\n"
     ]
    }
   ],
   "source": [
    "%ls testpk"
   ]
  },
  {
   "cell_type": "code",
   "execution_count": 120,
   "metadata": {},
   "outputs": [
    {
     "data": {
      "text/plain": [
       "['spam.py', '__init__.py']"
      ]
     },
     "execution_count": 120,
     "metadata": {},
     "output_type": "execute_result"
    }
   ],
   "source": [
    "os.listdir(\"testpk/spam\")"
   ]
  },
  {
   "cell_type": "code",
   "execution_count": 121,
   "metadata": {},
   "outputs": [
    {
     "name": "stdout",
     "output_type": "stream",
     "text": [
      "__init__.py  spam.py\r\n"
     ]
    }
   ],
   "source": [
    "%ls testpk/spam"
   ]
  },
  {
   "cell_type": "code",
   "execution_count": 122,
   "metadata": {},
   "outputs": [
    {
     "data": {
      "text/plain": [
       "['grok.py', '__init__.py']"
      ]
     },
     "execution_count": 122,
     "metadata": {},
     "output_type": "execute_result"
    }
   ],
   "source": [
    "os.listdir(\"testpk/grok\")"
   ]
  },
  {
   "cell_type": "code",
   "execution_count": 123,
   "metadata": {},
   "outputs": [
    {
     "name": "stdout",
     "output_type": "stream",
     "text": [
      "__init__.py  grok.py\r\n"
     ]
    }
   ],
   "source": [
    "%ls testpk/grok"
   ]
  },
  {
   "cell_type": "markdown",
   "metadata": {},
   "source": [
    "## 예제 2-46 :  package를 import 해서 내부 속성을 확인"
   ]
  },
  {
   "cell_type": "code",
   "execution_count": 124,
   "metadata": {},
   "outputs": [
    {
     "name": "stdout",
     "output_type": "stream",
     "text": [
      "['__builtins__',\n",
      " '__cached__',\n",
      " '__doc__',\n",
      " '__file__',\n",
      " '__loader__',\n",
      " '__name__',\n",
      " '__package__',\n",
      " '__path__',\n",
      " '__spec__']\n",
      "['/Users/dahlmoon/Documents/GitHub/handinpython_study/python_gram/testpk']\n"
     ]
    }
   ],
   "source": [
    "import testpk\n",
    "import pprint\n",
    "\n",
    "pprint.pprint(dir(testpk))\n",
    "print(testpk.__path__)"
   ]
  },
  {
   "cell_type": "code",
   "execution_count": 125,
   "metadata": {},
   "outputs": [
    {
     "data": {
      "text/plain": [
       "['__builtins__',\n",
       " '__cached__',\n",
       " '__doc__',\n",
       " '__file__',\n",
       " '__loader__',\n",
       " '__name__',\n",
       " '__package__',\n",
       " '__path__',\n",
       " '__spec__']"
      ]
     },
     "execution_count": 125,
     "metadata": {},
     "output_type": "execute_result"
    }
   ],
   "source": [
    "import testpk.grok\n",
    "\n",
    "dir(testpk.grok)"
   ]
  },
  {
   "cell_type": "code",
   "execution_count": 126,
   "metadata": {},
   "outputs": [
    {
     "data": {
      "text/plain": [
       "['__builtins__',\n",
       " '__cached__',\n",
       " '__doc__',\n",
       " '__file__',\n",
       " '__loader__',\n",
       " '__name__',\n",
       " '__package__',\n",
       " '__path__',\n",
       " '__spec__']"
      ]
     },
     "execution_count": 126,
     "metadata": {},
     "output_type": "execute_result"
    }
   ],
   "source": [
    "import testpk.spam\n",
    "\n",
    "dir(testpk.spam)"
   ]
  },
  {
   "cell_type": "code",
   "execution_count": 127,
   "metadata": {},
   "outputs": [
    {
     "name": "stdout",
     "output_type": "stream",
     "text": [
      "['__builtins__',\n",
      " '__cached__',\n",
      " '__doc__',\n",
      " '__file__',\n",
      " '__loader__',\n",
      " '__name__',\n",
      " '__package__',\n",
      " '__path__',\n",
      " '__spec__',\n",
      " 'grok',\n",
      " 'spam']\n"
     ]
    }
   ],
   "source": [
    "import testpk\n",
    "import pprint\n",
    "\n",
    "pprint.pprint(dir(testpk))"
   ]
  },
  {
   "cell_type": "markdown",
   "metadata": {},
   "source": [
    "## 예제 2-47 :  import로 패키지 내부의 모듈 내의 함수를 호출하기"
   ]
  },
  {
   "cell_type": "code",
   "execution_count": 128,
   "metadata": {},
   "outputs": [
    {
     "name": "stdout",
     "output_type": "stream",
     "text": [
      " module\n",
      " module\n",
      " function\n"
     ]
    }
   ],
   "source": [
    "import testpk.grok.grok\n",
    "import testpk.spam.spam\n",
    "import types\n",
    "\n",
    "if type(testpk.grok) == types.ModuleType :\n",
    "    print(\" module\")\n",
    "    \n",
    "if type(testpk.grok.grok) == types.ModuleType :\n",
    "    print(\" module\")\n",
    "    \n",
    "if type(testpk.grok.grok.grok) == types.FunctionType :\n",
    "    print(\" function\")"
   ]
  },
  {
   "cell_type": "code",
   "execution_count": 129,
   "metadata": {},
   "outputs": [
    {
     "name": "stdout",
     "output_type": "stream",
     "text": [
      "call grok\n",
      "call spam\n"
     ]
    }
   ],
   "source": [
    "import testpk.grok.grok as grok\n",
    "import testpk.spam.spam as spam\n",
    "\n",
    "grok.grok()\n",
    "spam.spam()"
   ]
  },
  {
   "cell_type": "markdown",
   "metadata": {},
   "source": [
    "## 예제 2-48 :  Namespace는 변수 할당하고 조회"
   ]
  },
  {
   "cell_type": "code",
   "execution_count": 130,
   "metadata": {},
   "outputs": [
    {
     "name": "stdout",
     "output_type": "stream",
     "text": [
      "Overwriting variable.py\n"
     ]
    }
   ],
   "source": [
    "%%writefile variable.py\n",
    "x = 1\n",
    "\n",
    "print(globals()['x'])"
   ]
  },
  {
   "cell_type": "code",
   "execution_count": 131,
   "metadata": {},
   "outputs": [
    {
     "name": "stdout",
     "output_type": "stream",
     "text": [
      "1\n"
     ]
    }
   ],
   "source": [
    "%run variable.py"
   ]
  },
  {
   "cell_type": "code",
   "execution_count": 132,
   "metadata": {},
   "outputs": [
    {
     "name": "stdout",
     "output_type": "stream",
     "text": [
      "Overwriting functions.py\n"
     ]
    }
   ],
   "source": [
    "%%writefile functions.py\n",
    "def add(x,y) :\n",
    "    print(\"namespace\")\n",
    "    return x+y\n",
    "\n",
    "print(globals()['add'])\n",
    "print(globals()['add'](10,20))"
   ]
  },
  {
   "cell_type": "code",
   "execution_count": 133,
   "metadata": {},
   "outputs": [
    {
     "name": "stdout",
     "output_type": "stream",
     "text": [
      "<function add at 0x10c3e9378>\n",
      "namespace\n",
      "30\n"
     ]
    }
   ],
   "source": [
    "%run functions.py"
   ]
  },
  {
   "cell_type": "code",
   "execution_count": 134,
   "metadata": {},
   "outputs": [
    {
     "name": "stdout",
     "output_type": "stream",
     "text": [
      "Overwriting Klass.py\n"
     ]
    }
   ],
   "source": [
    "%%writefile Klass.py\n",
    "class Car :\n",
    "    def __init__(self,name) :\n",
    "        self.name = name\n",
    "        \n",
    "print(globals()['Car'])\n",
    "c = globals()['Car'](\"Ford\")\n",
    "print(c.name)"
   ]
  },
  {
   "cell_type": "code",
   "execution_count": 135,
   "metadata": {},
   "outputs": [
    {
     "name": "stdout",
     "output_type": "stream",
     "text": [
      "<class '__main__.Car'>\n",
      "Ford\n"
     ]
    }
   ],
   "source": [
    "%run Klass.py"
   ]
  },
  {
   "cell_type": "markdown",
   "metadata": {},
   "source": [
    "## 예제 2-49 :  함수 내의 전역 Namespace 확인"
   ]
  },
  {
   "cell_type": "code",
   "execution_count": 136,
   "metadata": {},
   "outputs": [
    {
     "name": "stdout",
     "output_type": "stream",
     "text": [
      "Overwriting func_name.py\n"
     ]
    }
   ],
   "source": [
    "%%writefile func_name.py\n",
    "\n",
    "x = 100\n",
    "\n",
    "def func() :\n",
    "    print(globals()['x'])\n",
    "    return x\n"
   ]
  },
  {
   "cell_type": "code",
   "execution_count": 137,
   "metadata": {},
   "outputs": [
    {
     "name": "stdout",
     "output_type": "stream",
     "text": [
      "Overwriting func_main.py\n"
     ]
    }
   ],
   "source": [
    "%%writefile func_main.py\n",
    "\n",
    "x = 888\n",
    "\n",
    "def func_main() :\n",
    "    return x"
   ]
  },
  {
   "cell_type": "code",
   "execution_count": 138,
   "metadata": {},
   "outputs": [
    {
     "name": "stdout",
     "output_type": "stream",
     "text": [
      "Overwriting main_call.py\n"
     ]
    }
   ],
   "source": [
    "%%writefile main_call.py\n",
    "\n",
    "import func_name\n",
    "import func_main\n",
    "\n",
    "\n",
    "x = 999\n",
    "\n",
    "print(func_name.func())\n",
    "print(x)\n",
    "print(func_main.func_main())"
   ]
  },
  {
   "cell_type": "code",
   "execution_count": 139,
   "metadata": {},
   "outputs": [
    {
     "name": "stdout",
     "output_type": "stream",
     "text": [
      "100\r\n",
      "100\r\n",
      "999\r\n",
      "888\r\n"
     ]
    }
   ],
   "source": [
    "!python main_call.py"
   ]
  },
  {
   "cell_type": "markdown",
   "metadata": {},
   "source": [
    "## 예제 2-50 :  간단한 네임스페이스 처리\n"
   ]
  },
  {
   "cell_type": "code",
   "execution_count": 140,
   "metadata": {},
   "outputs": [],
   "source": [
    "import types"
   ]
  },
  {
   "cell_type": "code",
   "execution_count": 141,
   "metadata": {},
   "outputs": [
    {
     "name": "stdout",
     "output_type": "stream",
     "text": [
      "<class 'types.SimpleNamespace'>\n",
      "dahl\n",
      "{'name': 'dahl', 'age': 50}\n"
     ]
    }
   ],
   "source": [
    "c = types.SimpleNamespace(name=\"dahl\")\n",
    "\n",
    "print(type(c))\n",
    "print(c.name)\n",
    "c.age = 50\n",
    "print(c.__dict__)\n"
   ]
  },
  {
   "cell_type": "code",
   "execution_count": 142,
   "metadata": {},
   "outputs": [],
   "source": [
    "class SimpleNamespace:\n",
    "    def __init__(self, **kwargs):\n",
    "        self.__dict__.update(kwargs)\n",
    "    def __repr__(self):\n",
    "        keys = sorted(self.__dict__)\n",
    "        items = (\"{}={!r}\".format(k, self.__dict__[k]) for k in keys)\n",
    "        return \"{}({})\".format(type(self).__name__, \", \".join(items))    "
   ]
  },
  {
   "cell_type": "code",
   "execution_count": 143,
   "metadata": {},
   "outputs": [
    {
     "name": "stdout",
     "output_type": "stream",
     "text": [
      "<class '__main__.SimpleNamespace'>\n",
      "dahl\n",
      "{'name': 'dahl', 'age': 50}\n",
      "SimpleNamespace(age=50, name='dahl')\n"
     ]
    }
   ],
   "source": [
    "c = SimpleNamespace(name=\"dahl\")\n",
    "\n",
    "print(type(c))\n",
    "print(c.name)\n",
    "c.age = 50\n",
    "print(c.__dict__)\n",
    "print(repr(c))"
   ]
  },
  {
   "cell_type": "code",
   "execution_count": null,
   "metadata": {},
   "outputs": [],
   "source": []
  },
  {
   "cell_type": "code",
   "execution_count": null,
   "metadata": {},
   "outputs": [],
   "source": []
  }
 ],
 "metadata": {
  "kernelspec": {
   "display_name": "Python 3",
   "language": "python",
   "name": "python3"
  },
  "language_info": {
   "codemirror_mode": {
    "name": "ipython",
    "version": 3
   },
   "file_extension": ".py",
   "mimetype": "text/x-python",
   "name": "python",
   "nbconvert_exporter": "python",
   "pygments_lexer": "ipython3",
   "version": "3.6.8"
  }
 },
 "nbformat": 4,
 "nbformat_minor": 2
}
