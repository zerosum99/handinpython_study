{
 "cells": [
  {
   "cell_type": "markdown",
   "metadata": {},
   "source": [
    "## 예제 12-1 :  함수 작동원리 이해하기\n"
   ]
  },
  {
   "cell_type": "code",
   "execution_count": 1,
   "metadata": {
    "collapsed": true
   },
   "outputs": [],
   "source": [
    "def a(x, y):\n",
    "    return x + y"
   ]
  },
  {
   "cell_type": "code",
   "execution_count": 2,
   "metadata": {},
   "outputs": [
    {
     "data": {
      "text/plain": [
       "<method-wrapper '__get__' of function object at 0x10a327bf8>"
      ]
     },
     "execution_count": 2,
     "metadata": {},
     "output_type": "execute_result"
    }
   ],
   "source": [
    "a.__get__"
   ]
  },
  {
   "cell_type": "code",
   "execution_count": 3,
   "metadata": {},
   "outputs": [
    {
     "name": "stdout",
     "output_type": "stream",
     "text": [
      "<bound method a of 2>\n",
      "a\n",
      "<function a at 0x10a327bf8>\n",
      "5\n"
     ]
    }
   ],
   "source": [
    "b = a.__get__(2)\n",
    "print(b)\n",
    "\n",
    "print(b.__name__)\n",
    "print(b.__func__)\n",
    "print(b(3))"
   ]
  },
  {
   "cell_type": "code",
   "execution_count": 4,
   "metadata": {},
   "outputs": [
    {
     "name": "stdout",
     "output_type": "stream",
     "text": [
      "5\n"
     ]
    }
   ],
   "source": [
    "print(a(2,3))"
   ]
  },
  {
   "cell_type": "code",
   "execution_count": 5,
   "metadata": {},
   "outputs": [
    {
     "data": {
      "text/plain": [
       "5"
      ]
     },
     "execution_count": 5,
     "metadata": {},
     "output_type": "execute_result"
    }
   ],
   "source": [
    "a.__get__(2)(3)"
   ]
  },
  {
   "cell_type": "markdown",
   "metadata": {},
   "source": [
    "## 예제 12-2 :  순수 함수  이해하기\n"
   ]
  },
  {
   "cell_type": "code",
   "execution_count": 3,
   "metadata": {
    "collapsed": true
   },
   "outputs": [],
   "source": [
    "def square(x) :\n",
    "    \n",
    "    return x*x if isinstance(x,int) else x*2\n"
   ]
  },
  {
   "cell_type": "code",
   "execution_count": 4,
   "metadata": {},
   "outputs": [
    {
     "name": "stdout",
     "output_type": "stream",
     "text": [
      "100\n"
     ]
    }
   ],
   "source": [
    "print(square(10))"
   ]
  },
  {
   "cell_type": "code",
   "execution_count": 5,
   "metadata": {},
   "outputs": [
    {
     "name": "stdout",
     "output_type": "stream",
     "text": [
      "[1, 2, 3, 1, 2, 3]\n"
     ]
    }
   ],
   "source": [
    "print(square([1,2,3]))"
   ]
  },
  {
   "cell_type": "code",
   "execution_count": 6,
   "metadata": {},
   "outputs": [
    {
     "name": "stdout",
     "output_type": "stream",
     "text": [
      "<class 'map'>\n"
     ]
    }
   ],
   "source": [
    "l = [20,30,40,\"abc\"] \n",
    "\n",
    "print(map)"
   ]
  },
  {
   "cell_type": "code",
   "execution_count": 7,
   "metadata": {},
   "outputs": [
    {
     "name": "stdout",
     "output_type": "stream",
     "text": [
      "[400, 900, 1600, 'abcabc']\n"
     ]
    }
   ],
   "source": [
    "s = list(map(square,l))\n",
    "print(s)"
   ]
  },
  {
   "cell_type": "markdown",
   "metadata": {},
   "source": [
    "## 예제 12-3 :  미순수 함수 : 반환과 상태를 동시에 외부 전달  \n"
   ]
  },
  {
   "cell_type": "code",
   "execution_count": 11,
   "metadata": {},
   "outputs": [
    {
     "name": "stdout",
     "output_type": "stream",
     "text": [
      "None\n",
      "['baz']\n"
     ]
    }
   ],
   "source": [
    "some_list = []\n",
    "\n",
    "def foo(bar):\n",
    "    some_list.append(bar)\n",
    "\n",
    "print(foo('baz'))\n",
    "print(some_list)"
   ]
  },
  {
   "cell_type": "code",
   "execution_count": 1,
   "metadata": {},
   "outputs": [
    {
     "name": "stdout",
     "output_type": "stream",
     "text": [
      "['baz']\n"
     ]
    }
   ],
   "source": [
    "def foo_(bar, list_):\n",
    "    list_.append(bar)\n",
    "    return list_[:]\n",
    "\n",
    "some_list = []\n",
    "now_list = foo_('baz', some_list)\n",
    "print(now_list)"
   ]
  },
  {
   "cell_type": "code",
   "execution_count": 31,
   "metadata": {},
   "outputs": [
    {
     "name": "stdout",
     "output_type": "stream",
     "text": [
      "Hello World\n",
      "미순수\n",
      "None None\n"
     ]
    }
   ],
   "source": [
    "print(print(\"Hello World\"),print(\"미순수\"))"
   ]
  },
  {
   "cell_type": "markdown",
   "metadata": {},
   "source": [
    "## 예제 12-4 :  미 순수 함수  : 전역 네임스페이스를 상태 보관용 사용  \n"
   ]
  },
  {
   "cell_type": "code",
   "execution_count": 21,
   "metadata": {},
   "outputs": [
    {
     "name": "stdout",
     "output_type": "stream",
     "text": [
      " global  100\n"
     ]
    }
   ],
   "source": [
    "global_var = 100\n",
    "\n",
    "print(\" global \", global_var)\n",
    "\n",
    "def notpure() :\n",
    "    global global_var \n",
    "    global_var += 30\n",
    "    "
   ]
  },
  {
   "cell_type": "code",
   "execution_count": 22,
   "metadata": {},
   "outputs": [
    {
     "name": "stdout",
     "output_type": "stream",
     "text": [
      " global  130\n"
     ]
    }
   ],
   "source": [
    "notpure()\n",
    "print(\" global \", global_var)"
   ]
  },
  {
   "cell_type": "code",
   "execution_count": 53,
   "metadata": {
    "collapsed": true
   },
   "outputs": [],
   "source": [
    "def outer(x) :\n",
    "    def inner_func() :\n",
    "        nonlocal x\n",
    "        return x*x if isinstance(x,int) else x*2\n",
    "    \n",
    "    print(\"outer\",locals())\n",
    "    return inner_func\n"
   ]
  },
  {
   "cell_type": "code",
   "execution_count": 54,
   "metadata": {},
   "outputs": [
    {
     "name": "stdout",
     "output_type": "stream",
     "text": [
      "outer {'inner_func': <function outer.<locals>.inner_func at 0x0000000004E258C8>, 'x': 5}\n",
      "<function outer.<locals>.inner_func at 0x0000000004E258C8>\n",
      "25\n"
     ]
    }
   ],
   "source": [
    "inner = outer(5)\n",
    "print(inner)\n",
    "print(inner())"
   ]
  },
  {
   "cell_type": "markdown",
   "metadata": {},
   "source": [
    "## 예제 12-5 : 함수가 객체 인지를 확인하기 \n"
   ]
  },
  {
   "cell_type": "code",
   "execution_count": 60,
   "metadata": {
    "collapsed": true
   },
   "outputs": [],
   "source": [
    "def func(x) :\n",
    "    func.attr = \"함수의 속성\"\n",
    "    func.x = x\n",
    "    print(\"func local namespace\",locals())\n",
    "    print(\"func object namespace\",func.__dict__)\n",
    "    return func.x\n"
   ]
  },
  {
   "cell_type": "code",
   "execution_count": 61,
   "metadata": {},
   "outputs": [
    {
     "name": "stdout",
     "output_type": "stream",
     "text": [
      "<function func at 0x0000000004E25840>\n",
      "<class 'function'>\n"
     ]
    }
   ],
   "source": [
    "print(func)\n",
    "print(func.__class__)"
   ]
  },
  {
   "cell_type": "code",
   "execution_count": 62,
   "metadata": {},
   "outputs": [
    {
     "name": "stdout",
     "output_type": "stream",
     "text": [
      "func local namespace {'x': 100}\n",
      "func object namespace {'attr': '함수의 속성', 'x': 100}\n",
      "100\n"
     ]
    }
   ],
   "source": [
    "print(func(100))"
   ]
  },
  {
   "cell_type": "markdown",
   "metadata": {},
   "source": [
    "## 예제 12-6 : 함수를 값으로 변수에 할당하기 \n"
   ]
  },
  {
   "cell_type": "code",
   "execution_count": 24,
   "metadata": {
    "collapsed": true
   },
   "outputs": [],
   "source": [
    "def func_var(func_para) :\n",
    "    \n",
    "    return func_para\n"
   ]
  },
  {
   "cell_type": "code",
   "execution_count": 25,
   "metadata": {},
   "outputs": [
    {
     "name": "stdout",
     "output_type": "stream",
     "text": [
      "__main__\n",
      "<class 'dict'>\n"
     ]
    }
   ],
   "source": [
    "print(func_var.__module__)\n",
    "print(type(func_var.__globals__))\n"
   ]
  },
  {
   "cell_type": "code",
   "execution_count": 26,
   "metadata": {},
   "outputs": [
    {
     "name": "stdout",
     "output_type": "stream",
     "text": [
      "<function func_var at 0x000000000520B0D0>\n",
      "<function func_var at 0x000000000520B0D0>\n"
     ]
    }
   ],
   "source": [
    "print( func_var)\n",
    "print( globals().get(\"func_var\",False))"
   ]
  },
  {
   "cell_type": "code",
   "execution_count": 76,
   "metadata": {},
   "outputs": [
    {
     "name": "stdout",
     "output_type": "stream",
     "text": [
      "<built-in function add>\n",
      "<built-in function add>\n",
      "20\n"
     ]
    }
   ],
   "source": [
    "import operator as op\n",
    "\n",
    "add = func_var(op.add)\n",
    "print(add)\n",
    "print(func_var(op.add))\n",
    "print(add(10,10))"
   ]
  },
  {
   "cell_type": "code",
   "execution_count": 29,
   "metadata": {},
   "outputs": [],
   "source": [
    "import operator as op\n",
    "\n",
    "@func_var\n",
    "def add(x,y) :\n",
    "    return op.add(x,y)\n"
   ]
  },
  {
   "cell_type": "code",
   "execution_count": 30,
   "metadata": {},
   "outputs": [
    {
     "name": "stdout",
     "output_type": "stream",
     "text": [
      "<function add at 0x0000000005236048>\n",
      "20\n"
     ]
    }
   ],
   "source": [
    "print(add)\n",
    "print(add(10,10))"
   ]
  },
  {
   "cell_type": "markdown",
   "metadata": {},
   "source": [
    "## 예제 12-7  :  재귀호출 이해하기\n"
   ]
  },
  {
   "cell_type": "code",
   "execution_count": 90,
   "metadata": {
    "collapsed": true
   },
   "outputs": [],
   "source": [
    "def list_sum(l) :\n",
    "    \n",
    "    if len(l) == 1 :\n",
    "        return l[0]\n",
    "    \n",
    "    head, *tail = l\n",
    "    return head + list_sum(tail)"
   ]
  },
  {
   "cell_type": "code",
   "execution_count": 82,
   "metadata": {},
   "outputs": [
    {
     "data": {
      "text/plain": [
       "6"
      ]
     },
     "execution_count": 82,
     "metadata": {},
     "output_type": "execute_result"
    }
   ],
   "source": [
    "list_sum([1,2,3])"
   ]
  },
  {
   "cell_type": "code",
   "execution_count": 83,
   "metadata": {},
   "outputs": [
    {
     "data": {
      "text/plain": [
       "55"
      ]
     },
     "execution_count": 83,
     "metadata": {},
     "output_type": "execute_result"
    }
   ],
   "source": [
    "list_sum([1,2,3,4,5,6,7,8,9,10])"
   ]
  },
  {
   "cell_type": "code",
   "execution_count": 86,
   "metadata": {
    "collapsed": true
   },
   "outputs": [],
   "source": [
    "def list_mul(l) :\n",
    "    \n",
    "    if len(l) == 1 :\n",
    "        return l[0]\n",
    "    \n",
    "    head, *tail = l\n",
    "    return head * list_mul(tail)\n"
   ]
  },
  {
   "cell_type": "code",
   "execution_count": 87,
   "metadata": {},
   "outputs": [
    {
     "data": {
      "text/plain": [
       "6"
      ]
     },
     "execution_count": 87,
     "metadata": {},
     "output_type": "execute_result"
    }
   ],
   "source": [
    "list_mul([1,2,3])"
   ]
  },
  {
   "cell_type": "code",
   "execution_count": 88,
   "metadata": {},
   "outputs": [
    {
     "data": {
      "text/plain": [
       "3628800"
      ]
     },
     "execution_count": 88,
     "metadata": {},
     "output_type": "execute_result"
    }
   ],
   "source": [
    "list_mul([1,2,3,4,5,6,7,8,9,10])"
   ]
  },
  {
   "cell_type": "code",
   "execution_count": 33,
   "metadata": {
    "collapsed": true
   },
   "outputs": [],
   "source": [
    "def list_mul(l) :\n",
    "    result = 1\n",
    "    for i in l :\n",
    "        result *= i\n",
    "    return result"
   ]
  },
  {
   "cell_type": "code",
   "execution_count": 35,
   "metadata": {},
   "outputs": [
    {
     "data": {
      "text/plain": [
       "3628800"
      ]
     },
     "execution_count": 35,
     "metadata": {},
     "output_type": "execute_result"
    }
   ],
   "source": [
    "list_mul([1,2,3,4,5,6,7,8,9,10])"
   ]
  },
  {
   "cell_type": "markdown",
   "metadata": {},
   "source": [
    "## 예제 12-8  :  고차함수 처리하기\n"
   ]
  },
  {
   "cell_type": "code",
   "execution_count": 108,
   "metadata": {
    "collapsed": true
   },
   "outputs": [],
   "source": [
    "import types\n",
    "\n",
    "def highorder(*args) :\n",
    "    type_check = [types.FunctionType,types.BuiltinFunctionType]\n",
    "    if type(args[0]) in type_check :\n",
    "        func = args[0]\n",
    "    else :\n",
    "        return args\n",
    "    return func(*args[1:])\n",
    "    "
   ]
  },
  {
   "cell_type": "code",
   "execution_count": 111,
   "metadata": {},
   "outputs": [
    {
     "name": "stdout",
     "output_type": "stream",
     "text": [
      "<built-in function add>\n",
      "10\n"
     ]
    }
   ],
   "source": [
    "import operator as op\n",
    "\n",
    "print(op.add)\n",
    "print(highorder(op.add,5,5))"
   ]
  },
  {
   "cell_type": "code",
   "execution_count": 112,
   "metadata": {},
   "outputs": [
    {
     "name": "stdout",
     "output_type": "stream",
     "text": [
      "<function add at 0x0000000004E0DB70>\n",
      "10\n"
     ]
    }
   ],
   "source": [
    "def add(x,y) :\n",
    "    return x+y\n",
    "\n",
    "print(add)\n",
    "print(highorder(add,5,5))"
   ]
  },
  {
   "cell_type": "markdown",
   "metadata": {},
   "source": [
    "## 예제 12-9  :   함수 실행결과가 함수로 반환 \n"
   ]
  },
  {
   "cell_type": "code",
   "execution_count": 2,
   "metadata": {
    "collapsed": true
   },
   "outputs": [],
   "source": [
    "def linear(a,b):\n",
    "\n",
    "    def result(x):\n",
    "        return a*x + b\n",
    "    return result"
   ]
  },
  {
   "cell_type": "code",
   "execution_count": 3,
   "metadata": {},
   "outputs": [
    {
     "name": "stdout",
     "output_type": "stream",
     "text": [
      "11\n"
     ]
    }
   ],
   "source": [
    "solve = linear(3,2)\n",
    "print(solve(3))"
   ]
  },
  {
   "cell_type": "code",
   "execution_count": 4,
   "metadata": {
    "collapsed": true
   },
   "outputs": [],
   "source": [
    "class Linear:\n",
    "    def __init__(self, a, b):\n",
    "        self.a, self.b = a,b\n",
    "    def __call__(self, x):\n",
    "        return self.a * x + self.b"
   ]
  },
  {
   "cell_type": "code",
   "execution_count": 5,
   "metadata": {},
   "outputs": [
    {
     "name": "stdout",
     "output_type": "stream",
     "text": [
      "11\n"
     ]
    }
   ],
   "source": [
    "solve = Linear(3,2)\n",
    "print(solve(3))"
   ]
  },
  {
   "cell_type": "code",
   "execution_count": 6,
   "metadata": {},
   "outputs": [
    {
     "name": "stdout",
     "output_type": "stream",
     "text": [
      "functools.partial(<function linear at 0x00000253EFB62598>)\n",
      "11\n"
     ]
    }
   ],
   "source": [
    "import functools as ft\n",
    "\n",
    "linear = ft.partial(linear) \n",
    "print(linear)\n",
    "solve = linear(3,2)\n",
    "print(solve(3))"
   ]
  },
  {
   "cell_type": "code",
   "execution_count": 8,
   "metadata": {},
   "outputs": [
    {
     "name": "stdout",
     "output_type": "stream",
     "text": [
      "functools.partial(<function linear at 0x00000253EFB62598>, a=3, b=2)\n",
      "11\n"
     ]
    }
   ],
   "source": [
    "solve = ft.partial(linear, a=3, b=2)\n",
    "print(solve)\n",
    "print(solve()(3))"
   ]
  },
  {
   "cell_type": "markdown",
   "metadata": {},
   "source": [
    "## 예제 12-10:   최대값/최소값 구하기\n"
   ]
  },
  {
   "cell_type": "code",
   "execution_count": 137,
   "metadata": {},
   "outputs": [
    {
     "name": "stdout",
     "output_type": "stream",
     "text": [
      "<built-in function min>\n",
      "<built-in function max>\n"
     ]
    }
   ],
   "source": [
    "import types\n",
    "\n",
    "for i in (min,max) :\n",
    "    if type(i) == types.BuiltinFunctionType :\n",
    "        print(i)"
   ]
  },
  {
   "cell_type": "code",
   "execution_count": 145,
   "metadata": {},
   "outputs": [
    {
     "data": {
      "text/plain": [
       "4"
      ]
     },
     "execution_count": 145,
     "metadata": {},
     "output_type": "execute_result"
    }
   ],
   "source": [
    "min(1,2,3,4,key=lambda x: -1*x)"
   ]
  },
  {
   "cell_type": "code",
   "execution_count": 146,
   "metadata": {},
   "outputs": [
    {
     "data": {
      "text/plain": [
       "1"
      ]
     },
     "execution_count": 146,
     "metadata": {},
     "output_type": "execute_result"
    }
   ],
   "source": [
    "max(1,2,3,4,key=lambda x: -1*x)"
   ]
  },
  {
   "cell_type": "code",
   "execution_count": 147,
   "metadata": {
    "collapsed": true
   },
   "outputs": [],
   "source": [
    "def func(l,key=None) :\n",
    "    if key is None :\n",
    "        key = {'key':lambda x :x}\n",
    "    else :\n",
    "        key = {'key' : key}\n",
    "    return min(l,**key),max(l,**key)\n"
   ]
  },
  {
   "cell_type": "code",
   "execution_count": 148,
   "metadata": {},
   "outputs": [
    {
     "name": "stdout",
     "output_type": "stream",
     "text": [
      "(5, 1)\n"
     ]
    }
   ],
   "source": [
    "l = [1,2,3,4,5]\n",
    "\n",
    "print(func(l,lambda x : (5-x)**2))"
   ]
  },
  {
   "cell_type": "code",
   "execution_count": 149,
   "metadata": {},
   "outputs": [
    {
     "name": "stdout",
     "output_type": "stream",
     "text": [
      "('가', '이')\n"
     ]
    }
   ],
   "source": [
    "s = \"가을이라\"\n",
    "print(func(s))"
   ]
  },
  {
   "cell_type": "markdown",
   "metadata": {},
   "source": [
    "## 예제 12-11  :  functools 모듈 내의 reduce\n"
   ]
  },
  {
   "cell_type": "code",
   "execution_count": 150,
   "metadata": {},
   "outputs": [
    {
     "name": "stdout",
     "output_type": "stream",
     "text": [
      "<built-in function reduce>\n"
     ]
    }
   ],
   "source": [
    "import functools as ft\n",
    "\n",
    "print(ft.reduce)"
   ]
  },
  {
   "cell_type": "code",
   "execution_count": 152,
   "metadata": {},
   "outputs": [
    {
     "name": "stdout",
     "output_type": "stream",
     "text": [
      "6\n",
      "6\n"
     ]
    }
   ],
   "source": [
    "import functools as ft\n",
    "import operator as op\n",
    "\n",
    "print(ft.reduce(op.add,[1,2,3]))\n",
    "print(sum([1,2,3]))"
   ]
  },
  {
   "cell_type": "markdown",
   "metadata": {},
   "source": [
    "## 예제 12-12  : 데이터 변형 함수와 지능형으로 처리\n"
   ]
  },
  {
   "cell_type": "code",
   "execution_count": 166,
   "metadata": {},
   "outputs": [
    {
     "name": "stdout",
     "output_type": "stream",
     "text": [
      "<class 'map'>\n",
      "True\n",
      "True\n"
     ]
    }
   ],
   "source": [
    "import collections as cols\n",
    "\n",
    "print(map)\n",
    "print(issubclass(map, cols.Iterable))\n",
    "print(issubclass(map, cols.Iterator))"
   ]
  },
  {
   "cell_type": "code",
   "execution_count": 165,
   "metadata": {},
   "outputs": [
    {
     "name": "stdout",
     "output_type": "stream",
     "text": [
      "[1, 4, 9, 16]\n"
     ]
    }
   ],
   "source": [
    "l = [1,2,3,4]\n",
    "\n",
    "m = map(lambda x : x*x ,l)\n",
    "print(list(m))"
   ]
  },
  {
   "cell_type": "code",
   "execution_count": 163,
   "metadata": {},
   "outputs": [
    {
     "name": "stdout",
     "output_type": "stream",
     "text": [
      "[1, 4, 9, 16]\n"
     ]
    }
   ],
   "source": [
    "lc = [ (lambda x : x*x)(x) for x in [1,2,3,4]]\n",
    "print(lc)"
   ]
  },
  {
   "cell_type": "markdown",
   "metadata": {},
   "source": [
    "## 예제 12-13  :   람다함수 전달해서 데이터 필터링\n"
   ]
  },
  {
   "cell_type": "code",
   "execution_count": 167,
   "metadata": {},
   "outputs": [
    {
     "name": "stdout",
     "output_type": "stream",
     "text": [
      "<class 'filter'>\n",
      "True\n",
      "True\n"
     ]
    }
   ],
   "source": [
    "import collections as cols\n",
    "\n",
    "print(filter)\n",
    "print(issubclass(filter, cols.Iterable))\n",
    "print(issubclass(filter, cols.Iterator))"
   ]
  },
  {
   "cell_type": "code",
   "execution_count": 170,
   "metadata": {},
   "outputs": [
    {
     "name": "stdout",
     "output_type": "stream",
     "text": [
      "[2, 4]\n"
     ]
    }
   ],
   "source": [
    "l = [1,2,3,4]\n",
    "\n",
    "f = filter(lambda x : x%2==0 ,l)\n",
    "print(list(f))"
   ]
  },
  {
   "cell_type": "code",
   "execution_count": 173,
   "metadata": {},
   "outputs": [
    {
     "name": "stdout",
     "output_type": "stream",
     "text": [
      "[2, 4]\n"
     ]
    }
   ],
   "source": [
    "lc = [ x for x in [1,2,3,4] if x %2 == 0]\n",
    "print(lc)"
   ]
  },
  {
   "cell_type": "markdown",
   "metadata": {},
   "source": [
    "## 예제 12-14  :   apply 함수 정의 및 실행"
   ]
  },
  {
   "cell_type": "code",
   "execution_count": 177,
   "metadata": {
    "collapsed": true
   },
   "outputs": [],
   "source": [
    "def apply(func,*args,**kwargs) :\n",
    "    return func(*args,**kwargs)"
   ]
  },
  {
   "cell_type": "code",
   "execution_count": 178,
   "metadata": {
    "collapsed": true
   },
   "outputs": [],
   "source": [
    "class Apply :\n",
    "    def __init__(self,func) :\n",
    "        self.func = func\n",
    "        \n",
    "    def __call__(self,*args, **kwargs) :\n",
    "        return self.func(*args, **kwargs)"
   ]
  },
  {
   "cell_type": "code",
   "execution_count": 179,
   "metadata": {},
   "outputs": [
    {
     "name": "stdout",
     "output_type": "stream",
     "text": [
      "10\n"
     ]
    }
   ],
   "source": [
    "print(apply(sum,[1,2,3,4]))"
   ]
  },
  {
   "cell_type": "code",
   "execution_count": 181,
   "metadata": {},
   "outputs": [
    {
     "name": "stdout",
     "output_type": "stream",
     "text": [
      "10\n"
     ]
    }
   ],
   "source": [
    "apply = Apply(sum)\n",
    "print(apply([1,2,3,4]))"
   ]
  },
  {
   "cell_type": "markdown",
   "metadata": {},
   "source": [
    "## 예제 12-15 : 멀티플 디스패치 이해하기"
   ]
  },
  {
   "cell_type": "code",
   "execution_count": 9,
   "metadata": {},
   "outputs": [
    {
     "name": "stdout",
     "output_type": "stream",
     "text": [
      "Requirement already up-to-date: multipledispatch in c:\\programdata\\anaconda3\\lib\\site-packages\n"
     ]
    }
   ],
   "source": [
    "!pip install --upgrade multipledispatch"
   ]
  },
  {
   "cell_type": "code",
   "execution_count": 10,
   "metadata": {},
   "outputs": [
    {
     "name": "stdout",
     "output_type": "stream",
     "text": [
      "Dispatcher\n",
      "MDNotImplementedError\n",
      "conflict\n",
      "core\n",
      "dispatch\n",
      "dispatcher\n",
      "halt_ordering\n",
      "restart_ordering\n",
      "utils\n"
     ]
    }
   ],
   "source": [
    "import multipledispatch\n",
    "\n",
    "for i in dir(multipledispatch) :\n",
    "    if not i.startswith(\"__\") :\n",
    "        print(i)"
   ]
  },
  {
   "cell_type": "code",
   "execution_count": 11,
   "metadata": {},
   "outputs": [
    {
     "name": "stdout",
     "output_type": "stream",
     "text": [
      "<function dispatch at 0x00000000025C3D90>\n"
     ]
    }
   ],
   "source": [
    "print(multipledispatch.dispatch)"
   ]
  },
  {
   "cell_type": "code",
   "execution_count": 12,
   "metadata": {
    "collapsed": true
   },
   "outputs": [],
   "source": [
    "from multipledispatch import dispatch\n",
    "\n",
    "@dispatch(int, int)\n",
    "def add(x,y) :\n",
    "    print(\" integer add call \")\n",
    "    return x+y\n",
    "\n",
    "@dispatch(str, str)\n",
    "def add(x,y) :\n",
    "    print(\" string add call \")\n",
    "    return x+y\n",
    "\n",
    "@dispatch(list, list)\n",
    "def add(x,y) :\n",
    "    print(\" list add call \")\n",
    "    return x+y"
   ]
  },
  {
   "cell_type": "code",
   "execution_count": 13,
   "metadata": {},
   "outputs": [
    {
     "name": "stdout",
     "output_type": "stream",
     "text": [
      " integer add call \n",
      "10\n"
     ]
    }
   ],
   "source": [
    "print(add(5,5))"
   ]
  },
  {
   "cell_type": "code",
   "execution_count": 14,
   "metadata": {},
   "outputs": [
    {
     "name": "stdout",
     "output_type": "stream",
     "text": [
      " string add call \n",
      "멀티플 디스패치\n"
     ]
    }
   ],
   "source": [
    "print(add(\"멀티플 \",\"디스패치\"))"
   ]
  },
  {
   "cell_type": "code",
   "execution_count": 15,
   "metadata": {},
   "outputs": [
    {
     "name": "stdout",
     "output_type": "stream",
     "text": [
      " list add call \n",
      "[1, 2, 3, 4, 5, 6, 7, 8]\n"
     ]
    }
   ],
   "source": [
    "print(add([1,2,3,4],[5,6,7,8]))"
   ]
  },
  {
   "cell_type": "markdown",
   "metadata": {},
   "source": [
    "## 예제 12-16 : 멀티 디스패치 처리 구조 이해하기"
   ]
  },
  {
   "cell_type": "code",
   "execution_count": 16,
   "metadata": {
    "collapsed": true
   },
   "outputs": [],
   "source": [
    "from multipledispatch import dispatch\n",
    "\n",
    "my_namespace = {} \n",
    "\n",
    "@dispatch(int, namespace=my_namespace)\n",
    "def foo(x) :\n",
    "    print(\" 정수 처리\")\n",
    "    return x+ 1\n",
    "@dispatch(str, namespace=my_namespace)\n",
    "def foo(x) :\n",
    "    print(\" 문자 처리\")\n",
    "    return x+ \" 문자 \""
   ]
  },
  {
   "cell_type": "code",
   "execution_count": 17,
   "metadata": {},
   "outputs": [
    {
     "name": "stdout",
     "output_type": "stream",
     "text": [
      "{'foo': <dispatched foo>}\n",
      "<dispatched foo>\n",
      "<class 'multipledispatch.dispatcher.Dispatcher'>\n"
     ]
    }
   ],
   "source": [
    "print(my_namespace)\n",
    "\n",
    "print(my_namespace[\"foo\"])\n",
    "print(type(my_namespace[\"foo\"]))"
   ]
  },
  {
   "cell_type": "code",
   "execution_count": 18,
   "metadata": {},
   "outputs": [
    {
     "name": "stdout",
     "output_type": "stream",
     "text": [
      "add\n",
      "dispatch\n",
      "dispatch_iter\n",
      "doc\n",
      "funcs\n",
      "help\n",
      "name\n",
      "ordering\n",
      "register\n",
      "reorder\n",
      "resolve\n",
      "source\n"
     ]
    }
   ],
   "source": [
    "for i in dir(my_namespace[\"foo\"]) :\n",
    "    if not i.startswith(\"_\") :\n",
    "        print(i)"
   ]
  },
  {
   "cell_type": "code",
   "execution_count": 19,
   "metadata": {},
   "outputs": [
    {
     "name": "stdout",
     "output_type": "stream",
     "text": [
      "((<class 'int'>,), <function foo at 0x00000000052257B8>)\n",
      "((<class 'str'>,), <function foo at 0x0000000005225730>)\n"
     ]
    }
   ],
   "source": [
    "for i in my_namespace[\"foo\"].funcs.items() :\n",
    "    print(i)"
   ]
  },
  {
   "cell_type": "code",
   "execution_count": null,
   "metadata": {
    "collapsed": true
   },
   "outputs": [],
   "source": []
  }
 ],
 "metadata": {
  "kernelspec": {
   "display_name": "Python 3",
   "language": "python",
   "name": "python3"
  },
  "language_info": {
   "codemirror_mode": {
    "name": "ipython",
    "version": 3
   },
   "file_extension": ".py",
   "mimetype": "text/x-python",
   "name": "python",
   "nbconvert_exporter": "python",
   "pygments_lexer": "ipython3",
   "version": "3.6.3"
  }
 },
 "nbformat": 4,
 "nbformat_minor": 2
}
