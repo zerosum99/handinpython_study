{
 "cells": [
  {
   "cell_type": "markdown",
   "metadata": {},
   "source": [
    "## 예제 13-1  :   abc추상 모듈 내용 조회"
   ]
  },
  {
   "cell_type": "code",
   "execution_count": 2,
   "metadata": {
    "collapsed": false
   },
   "outputs": [
    {
     "name": "stdout",
     "output_type": "stream",
     "text": [
      "ABC\n",
      "ABCMeta\n",
      "WeakSet\n",
      "abstractclassmethod\n",
      "abstractmethod\n",
      "abstractproperty\n",
      "abstractstaticmethod\n",
      "get_cache_token\n"
     ]
    }
   ],
   "source": [
    "import abc\n",
    "\n",
    "for i in dir(abc) :\n",
    "    if not i.startswith(\"_\") :\n",
    "        print(i)"
   ]
  },
  {
   "cell_type": "code",
   "execution_count": 3,
   "metadata": {
    "collapsed": false
   },
   "outputs": [
    {
     "name": "stdout",
     "output_type": "stream",
     "text": [
      "<class 'abc.ABCMeta'>\n",
      "<class 'type'>\n",
      "(<class 'type'>,)\n"
     ]
    }
   ],
   "source": [
    "print(abc.ABCMeta)\n",
    "print(abc.ABCMeta.__class__)\n",
    "print(abc.ABCMeta.__bases__)"
   ]
  },
  {
   "cell_type": "code",
   "execution_count": 4,
   "metadata": {
    "collapsed": false
   },
   "outputs": [
    {
     "name": "stdout",
     "output_type": "stream",
     "text": [
      "<class 'abc.ABC'>\n",
      "<class 'abc.ABCMeta'>\n",
      "(<class 'object'>,)\n"
     ]
    }
   ],
   "source": [
    "print(abc.ABC)\n",
    "print(abc.ABC.__class__)\n",
    "print(abc.ABC.__bases__)"
   ]
  },
  {
   "cell_type": "code",
   "execution_count": 15,
   "metadata": {
    "collapsed": false
   },
   "outputs": [
    {
     "name": "stdout",
     "output_type": "stream",
     "text": [
      "{'__abstractmethods__',\n",
      " '__dict__',\n",
      " '__module__',\n",
      " '__weakref__',\n",
      " '_abc_cache',\n",
      " '_abc_negative_cache',\n",
      " '_abc_negative_cache_version',\n",
      " '_abc_registry'}\n"
     ]
    }
   ],
   "source": [
    "import pprint\n",
    "\n",
    "a = set(dir(abc.ABC))\n",
    "o = set(dir(object)) \n",
    "\n",
    "pprint.pprint(a - o)"
   ]
  },
  {
   "cell_type": "code",
   "execution_count": 6,
   "metadata": {
    "collapsed": false
   },
   "outputs": [
    {
     "name": "stdout",
     "output_type": "stream",
     "text": [
      "<abc.ABC object at 0x000000000525BE48>\n"
     ]
    }
   ],
   "source": [
    "a = abc.ABC()\n",
    "\n",
    "print(a)"
   ]
  },
  {
   "cell_type": "markdown",
   "metadata": {},
   "source": [
    "## 예제 13-2  : 추상 클래스 내부에 가상 클래스 등록하기"
   ]
  },
  {
   "cell_type": "code",
   "execution_count": 16,
   "metadata": {
    "collapsed": true
   },
   "outputs": [],
   "source": [
    "from abc import ABC,ABCMeta\n",
    "\n",
    "class MyABC(ABC) :\n",
    "    pass\n"
   ]
  },
  {
   "cell_type": "code",
   "execution_count": 17,
   "metadata": {
    "collapsed": false
   },
   "outputs": [
    {
     "name": "stdout",
     "output_type": "stream",
     "text": [
      "True\n",
      "<class 'abc.ABCMeta'>\n",
      "(<class 'abc.ABC'>,)\n"
     ]
    }
   ],
   "source": [
    "print(issubclass(MyABC,ABC))\n",
    "print(MyABC.__class__)\n",
    "print(MyABC.__bases__)"
   ]
  },
  {
   "cell_type": "code",
   "execution_count": 23,
   "metadata": {
    "collapsed": false
   },
   "outputs": [
    {
     "name": "stdout",
     "output_type": "stream",
     "text": [
      "mro\n",
      "register\n"
     ]
    }
   ],
   "source": [
    "for i in dir(ABCMeta) :\n",
    "    if not i.startswith(\"_\") :\n",
    "        print(i)"
   ]
  },
  {
   "cell_type": "code",
   "execution_count": 22,
   "metadata": {
    "collapsed": false
   },
   "outputs": [
    {
     "data": {
      "text/plain": [
       "<bound method ABCMeta.register of <class '__main__.MyABC'>>"
      ]
     },
     "execution_count": 22,
     "metadata": {},
     "output_type": "execute_result"
    }
   ],
   "source": [
    "MyABC.register"
   ]
  },
  {
   "cell_type": "code",
   "execution_count": 20,
   "metadata": {
    "collapsed": false
   },
   "outputs": [
    {
     "name": "stdout",
     "output_type": "stream",
     "text": [
      "True\n",
      "True\n"
     ]
    }
   ],
   "source": [
    "MyABC.register(tuple)\n",
    "\n",
    "print(issubclass(tuple,MyABC))\n",
    "print(isinstance(tuple(),MyABC))"
   ]
  },
  {
   "cell_type": "markdown",
   "metadata": {},
   "source": [
    "## 예제 13-3  : 추상인스턴스메소드를 구현 클래스 정의하기 \n"
   ]
  },
  {
   "cell_type": "code",
   "execution_count": 31,
   "metadata": {
    "collapsed": false
   },
   "outputs": [
    {
     "name": "stdout",
     "output_type": "stream",
     "text": [
      "<function abstractmethod at 0x0000000001DD6488>\n"
     ]
    }
   ],
   "source": [
    "from abc import ABCMeta, abstractmethod\n",
    "\n",
    "print(abstractmethod)"
   ]
  },
  {
   "cell_type": "code",
   "execution_count": 35,
   "metadata": {
    "collapsed": true
   },
   "outputs": [],
   "source": [
    "from abc import ABCMeta, abstractmethod\n",
    "\n",
    "class Base(metaclass=ABCMeta):\n",
    "    @abstractmethod\n",
    "    def foo(self):\n",
    "        return NotImplemented\n",
    "\n",
    "    @abstractmethod\n",
    "    def bar(self):\n",
    "        return NotImplemented\n"
   ]
  },
  {
   "cell_type": "code",
   "execution_count": 36,
   "metadata": {
    "collapsed": true
   },
   "outputs": [],
   "source": [
    "class Concrete(Base):\n",
    "    def foo(self):\n",
    "        pass\n"
   ]
  },
  {
   "cell_type": "code",
   "execution_count": 37,
   "metadata": {
    "collapsed": false
   },
   "outputs": [
    {
     "ename": "TypeError",
     "evalue": "Can't instantiate abstract class Concrete with abstract methods bar",
     "output_type": "error",
     "traceback": [
      "\u001b[0;31m---------------------------------------------------------------------------\u001b[0m",
      "\u001b[0;31mTypeError\u001b[0m                                 Traceback (most recent call last)",
      "\u001b[0;32m<ipython-input-37-a067caf37739>\u001b[0m in \u001b[0;36m<module>\u001b[0;34m()\u001b[0m\n\u001b[0;32m----> 1\u001b[0;31m \u001b[0mc\u001b[0m \u001b[1;33m=\u001b[0m \u001b[0mConcrete\u001b[0m\u001b[1;33m(\u001b[0m\u001b[1;33m)\u001b[0m\u001b[1;33m\u001b[0m\u001b[0m\n\u001b[0m",
      "\u001b[0;31mTypeError\u001b[0m: Can't instantiate abstract class Concrete with abstract methods bar"
     ]
    }
   ],
   "source": [
    "c = Concrete()"
   ]
  },
  {
   "cell_type": "code",
   "execution_count": 27,
   "metadata": {
    "collapsed": true
   },
   "outputs": [],
   "source": [
    "class Concrete_(Base):\n",
    "    def foo(self):\n",
    "        pass\n",
    "    def bar(self):\n",
    "        pass\n"
   ]
  },
  {
   "cell_type": "code",
   "execution_count": 28,
   "metadata": {
    "collapsed": false
   },
   "outputs": [
    {
     "name": "stdout",
     "output_type": "stream",
     "text": [
      "<__main__.Concrete_ object at 0x00000000052CA0B8>\n",
      "True\n",
      "True\n"
     ]
    }
   ],
   "source": [
    "c = Concrete_()\n",
    "print(c)\n",
    "\n",
    "print(issubclass(Concrete_, Base))\n",
    "print(isinstance(c, Base))"
   ]
  },
  {
   "cell_type": "markdown",
   "metadata": {},
   "source": [
    "## 예제 13-4  : 추상 클래스메소드와 추상 정적메소드 처리하기"
   ]
  },
  {
   "cell_type": "code",
   "execution_count": 33,
   "metadata": {
    "collapsed": false
   },
   "outputs": [
    {
     "name": "stdout",
     "output_type": "stream",
     "text": [
      "<class 'abc.abstractclassmethod'>\n",
      "<class 'abc.abstractstaticmethod'>\n"
     ]
    }
   ],
   "source": [
    "from abc import abstractclassmethod, abstractstaticmethod\n",
    "\n",
    "print(abstractclassmethod)\n",
    "print(abstractstaticmethod)"
   ]
  },
  {
   "cell_type": "code",
   "execution_count": 53,
   "metadata": {
    "collapsed": true
   },
   "outputs": [],
   "source": [
    "from abc import ABCMeta, abstractmethod,  \\\n",
    "                abstractclassmethod, abstractstaticmethod\n",
    "\n",
    "class BaseCS(metaclass=ABCMeta):\n",
    "    @abstractmethod\n",
    "    def foo(self):\n",
    "        pass\n",
    "    @abstractmethod\n",
    "    def bar(self):\n",
    "        pass   \n",
    "    \n",
    "    @abstractclassmethod\n",
    "    def clsmethod1(cls) :\n",
    "        pass\n",
    "    @abstractclassmethod\n",
    "    def clsmethod2(cls) :\n",
    "        pass\n",
    "    \n",
    "    @abstractstaticmethod\n",
    "    def stamethod1(cls) :\n",
    "        pass\n",
    "    @abstractstaticmethod\n",
    "    def stamethod2(cls) :\n",
    "        pass\n",
    "    "
   ]
  },
  {
   "cell_type": "code",
   "execution_count": 54,
   "metadata": {
    "collapsed": true
   },
   "outputs": [],
   "source": [
    "class Concrete_CS(BaseCS):\n",
    "    def foo(self):\n",
    "        pass\n",
    "    def bar(self):\n",
    "        pass"
   ]
  },
  {
   "cell_type": "code",
   "execution_count": 55,
   "metadata": {
    "collapsed": false
   },
   "outputs": [
    {
     "ename": "TypeError",
     "evalue": "Can't instantiate abstract class Concrete_CS with abstract methods clsmethod1, clsmethod2, stamethod1, stamethod2",
     "output_type": "error",
     "traceback": [
      "\u001b[0;31m---------------------------------------------------------------------------\u001b[0m",
      "\u001b[0;31mTypeError\u001b[0m                                 Traceback (most recent call last)",
      "\u001b[0;32m<ipython-input-55-e14beec3c1f3>\u001b[0m in \u001b[0;36m<module>\u001b[0;34m()\u001b[0m\n\u001b[0;32m----> 1\u001b[0;31m \u001b[0mc\u001b[0m \u001b[1;33m=\u001b[0m \u001b[0mConcrete_CS\u001b[0m\u001b[1;33m(\u001b[0m\u001b[1;33m)\u001b[0m\u001b[1;33m\u001b[0m\u001b[0m\n\u001b[0m",
      "\u001b[0;31mTypeError\u001b[0m: Can't instantiate abstract class Concrete_CS with abstract methods clsmethod1, clsmethod2, stamethod1, stamethod2"
     ]
    }
   ],
   "source": [
    "c = Concrete_CS()"
   ]
  },
  {
   "cell_type": "code",
   "execution_count": 57,
   "metadata": {
    "collapsed": true
   },
   "outputs": [],
   "source": [
    "class Concrete_CS1(BaseCS):\n",
    "    def foo(self):\n",
    "        pass\n",
    "    def bar(self):\n",
    "        pass\n",
    "    @classmethod\n",
    "    def clsmethod1(cls) :\n",
    "        pass\n",
    "    @classmethod\n",
    "    def clsmethod2(cls) :\n",
    "        pass\n",
    "    @staticmethod\n",
    "    def stamethod1(cls) :\n",
    "        pass\n",
    "    @staticmethod\n",
    "    def stamethod2(cls) :\n",
    "        pass"
   ]
  },
  {
   "cell_type": "code",
   "execution_count": 60,
   "metadata": {
    "collapsed": false
   },
   "outputs": [
    {
     "name": "stdout",
     "output_type": "stream",
     "text": [
      "True\n",
      "True\n"
     ]
    }
   ],
   "source": [
    "cs1 = Concrete_CS1()\n",
    "print(issubclass(Concrete_CS1, BaseCS))\n",
    "print(isinstance(cs1, BaseCS))"
   ]
  },
  {
   "cell_type": "markdown",
   "metadata": {},
   "source": [
    "## 예제 13-5  : 추상 프로퍼티 처리하기"
   ]
  },
  {
   "cell_type": "code",
   "execution_count": 34,
   "metadata": {
    "collapsed": false
   },
   "outputs": [
    {
     "name": "stdout",
     "output_type": "stream",
     "text": [
      "<class 'abc.abstractproperty'>\n"
     ]
    }
   ],
   "source": [
    "from  abc  import abstractproperty\n",
    "\n",
    "print(abstractproperty)"
   ]
  },
  {
   "cell_type": "code",
   "execution_count": 2,
   "metadata": {
    "collapsed": true
   },
   "outputs": [],
   "source": [
    "import  abc \n",
    "\n",
    "class C(metaclass= abc.ABCMeta) :\n",
    "    @abc.abstractproperty\n",
    "    def foo(self): return 3\n",
    "    "
   ]
  },
  {
   "cell_type": "code",
   "execution_count": 3,
   "metadata": {
    "collapsed": true
   },
   "outputs": [],
   "source": [
    "class D(C):\n",
    "    @property\n",
    "    def foo(self): \n",
    "        return super(D, self).foo"
   ]
  },
  {
   "cell_type": "code",
   "execution_count": 4,
   "metadata": {
    "collapsed": false
   },
   "outputs": [
    {
     "name": "stdout",
     "output_type": "stream",
     "text": [
      "3\n"
     ]
    }
   ],
   "source": [
    "d = D()\n",
    "print(d.foo)"
   ]
  },
  {
   "cell_type": "markdown",
   "metadata": {},
   "source": [
    "## 예제 13-6  : 추상 클래스를 정의하고 직접 상속을 받아 구현하기\n"
   ]
  },
  {
   "cell_type": "code",
   "execution_count": 15,
   "metadata": {
    "collapsed": true
   },
   "outputs": [],
   "source": [
    "import abc\n",
    "\n",
    "class ABCD(abc.ABC) :\n",
    "    def __lt__(self, a):\n",
    "        return NotImplemented\n",
    "    def __add__(self, a):\n",
    "        return NotImplemented\n"
   ]
  },
  {
   "cell_type": "code",
   "execution_count": 21,
   "metadata": {
    "collapsed": true
   },
   "outputs": [],
   "source": [
    "class A(ABCD) :\n",
    "    def __init__(self,value) :\n",
    "        self.value = value\n",
    "        \n",
    "    def __lt__(self, a):\n",
    "        return int.__lt__(self.value,a.value)\n",
    "    \n",
    "    def __add__(self, a):\n",
    "        return int.__add__(self.value,a.value)\n",
    "    "
   ]
  },
  {
   "cell_type": "code",
   "execution_count": 22,
   "metadata": {
    "collapsed": false
   },
   "outputs": [
    {
     "name": "stdout",
     "output_type": "stream",
     "text": [
      "True\n",
      "3\n"
     ]
    }
   ],
   "source": [
    "a = A(1)\n",
    "b = A(2) \n",
    "\n",
    "print(a < b)\n",
    "print(a + b)"
   ]
  },
  {
   "cell_type": "markdown",
   "metadata": {},
   "source": [
    "## 예제 13-7  :  추상 클래스 정의 : __subclasshook__ 재정의\n"
   ]
  },
  {
   "cell_type": "code",
   "execution_count": 6,
   "metadata": {
    "collapsed": true
   },
   "outputs": [],
   "source": [
    "import abc\n",
    "\n",
    "class ABCD(abc.ABC) :\n",
    "    def __len__(self) :\n",
    "        return NotImplemented\n",
    "    \n",
    "    @classmethod\n",
    "    def __subclasshook__(cls, C) :\n",
    "        print(\"  __subclasshook__ \")\n",
    "        if any( \"__len__\" in  B.__dict__  for B in C.__mro__ ) :\n",
    "            return True\n",
    "        else :\n",
    "            return False\n"
   ]
  },
  {
   "cell_type": "code",
   "execution_count": 10,
   "metadata": {
    "collapsed": true
   },
   "outputs": [],
   "source": [
    "class Seq(ABCD) :\n",
    "    def __init__(self, seqs) :\n",
    "        self.seqs = seqs\n",
    "        \n",
    "    def __len__(self) :\n",
    "        print(\" Seq __len__\")\n",
    "        return str.__len__(self.seqs)\n",
    "    "
   ]
  },
  {
   "cell_type": "code",
   "execution_count": 11,
   "metadata": {
    "collapsed": false
   },
   "outputs": [
    {
     "data": {
      "text/plain": [
       "(__main__.Seq, __main__.ABCD, abc.ABC, object)"
      ]
     },
     "execution_count": 11,
     "metadata": {},
     "output_type": "execute_result"
    }
   ],
   "source": [
    "Seq.__mro__"
   ]
  },
  {
   "cell_type": "code",
   "execution_count": 12,
   "metadata": {
    "collapsed": false
   },
   "outputs": [
    {
     "name": "stdout",
     "output_type": "stream",
     "text": [
      "  __subclasshook__ \n",
      "True\n",
      "True\n",
      " Seq __len__\n",
      "3\n"
     ]
    }
   ],
   "source": [
    "s = Seq(\"문자열\")\n",
    "\n",
    "print(issubclass(Seq, ABCD))\n",
    "print(isinstance(s, ABCD))\n",
    "\n",
    "print(len(s))"
   ]
  },
  {
   "cell_type": "code",
   "execution_count": 17,
   "metadata": {
    "collapsed": false
   },
   "outputs": [
    {
     "name": "stdout",
     "output_type": "stream",
     "text": [
      "(<class '__main__.Not_seq'>, <class 'object'>)\n"
     ]
    }
   ],
   "source": [
    "class Not_seq :\n",
    "    pass\n",
    "        \n",
    "print(Not_seq.__mro__)"
   ]
  },
  {
   "cell_type": "code",
   "execution_count": 18,
   "metadata": {
    "collapsed": false
   },
   "outputs": [
    {
     "name": "stdout",
     "output_type": "stream",
     "text": [
      "  __subclasshook__ \n",
      "False\n",
      "False\n"
     ]
    }
   ],
   "source": [
    "print(issubclass(Not_seq, ABCD))\n",
    "print(isinstance(Not_seq(), ABCD))"
   ]
  },
  {
   "cell_type": "code",
   "execution_count": 19,
   "metadata": {
    "collapsed": false
   },
   "outputs": [
    {
     "name": "stdout",
     "output_type": "stream",
     "text": [
      "(<class '__main__.Seq2'>, <class 'object'>)\n"
     ]
    }
   ],
   "source": [
    "class Seq2 :\n",
    "    \n",
    "    def __len__(self) :\n",
    "        pass\n",
    "        \n",
    "print(Seq2.__mro__)"
   ]
  },
  {
   "cell_type": "code",
   "execution_count": 20,
   "metadata": {
    "collapsed": false
   },
   "outputs": [
    {
     "name": "stdout",
     "output_type": "stream",
     "text": [
      "  __subclasshook__ \n",
      "True\n",
      "True\n"
     ]
    }
   ],
   "source": [
    "print(issubclass(Seq2, ABCD))\n",
    "print(isinstance(Seq2(), ABCD))"
   ]
  },
  {
   "cell_type": "markdown",
   "metadata": {},
   "source": [
    "## 예제 13-8  :  추상 메타 클래스 정의 : __instancecheck__ 재정의"
   ]
  },
  {
   "cell_type": "code",
   "execution_count": 27,
   "metadata": {
    "collapsed": true
   },
   "outputs": [],
   "source": [
    "import abc\n",
    "\n",
    "class Enumeration(abc.ABCMeta):\n",
    "    def __instancecheck__(self, other):\n",
    "        print('hi')\n",
    "        if type(other) == type(self) :\n",
    "            return True\n",
    "        else :\n",
    "            return False\n"
   ]
  },
  {
   "cell_type": "code",
   "execution_count": 30,
   "metadata": {
    "collapsed": false
   },
   "outputs": [
    {
     "name": "stdout",
     "output_type": "stream",
     "text": [
      "hi\n",
      "False\n",
      "hi\n",
      "True\n"
     ]
    }
   ],
   "source": [
    "class EnumInt(metaclass= Enumeration):\n",
    "    pass\n",
    "\n",
    "print(isinstance('abc', EnumInt))\n",
    "print(isinstance( EnumInt, EnumInt))"
   ]
  },
  {
   "cell_type": "code",
   "execution_count": 31,
   "metadata": {
    "collapsed": false
   },
   "outputs": [
    {
     "name": "stdout",
     "output_type": "stream",
     "text": [
      "True\n"
     ]
    }
   ],
   "source": [
    "c = EnumInt()\n",
    "print(isinstance(c, EnumInt))"
   ]
  },
  {
   "cell_type": "code",
   "execution_count": 32,
   "metadata": {
    "collapsed": false
   },
   "outputs": [
    {
     "name": "stdout",
     "output_type": "stream",
     "text": [
      "hi\n"
     ]
    },
    {
     "data": {
      "text/plain": [
       "True"
      ]
     },
     "execution_count": 32,
     "metadata": {},
     "output_type": "execute_result"
    }
   ],
   "source": [
    "Enumeration.__instancecheck__(c,c)"
   ]
  },
  {
   "cell_type": "markdown",
   "metadata": {},
   "source": [
    "## 예제 13-9  :  추상 클래스를 상속받고 구현한 후 점검하기\n"
   ]
  },
  {
   "cell_type": "code",
   "execution_count": 2,
   "metadata": {
    "collapsed": false
   },
   "outputs": [
    {
     "name": "stdout",
     "output_type": "stream",
     "text": [
      "mappingproxy({'__abstractmethods__': frozenset({'__len__'}),\n",
      "              '__doc__': None,\n",
      "              '__len__': <function Sized.__len__ at 0x00000000022067B8>,\n",
      "              '__module__': 'collections.abc',\n",
      "              '__slots__': (),\n",
      "              '__subclasshook__': <classmethod object at 0x00000000022049E8>,\n",
      "              '_abc_cache': <_weakrefset.WeakSet object at 0x0000000002204A58>,\n",
      "              '_abc_negative_cache': <_weakrefset.WeakSet object at 0x0000000002204A90>,\n",
      "              '_abc_negative_cache_version': 9,\n",
      "              '_abc_registry': <_weakrefset.WeakSet object at 0x0000000002204A20>})\n"
     ]
    }
   ],
   "source": [
    "import collections.abc as cols\n",
    "import pprint\n",
    "\n",
    "pprint.pprint(cols.Sized.__dict__)"
   ]
  },
  {
   "cell_type": "code",
   "execution_count": 13,
   "metadata": {
    "collapsed": true
   },
   "outputs": [],
   "source": [
    "class Len(object) :\n",
    "    def __init__(self, seq) :\n",
    "        self.seq = seq\n",
    "        \n",
    "    def __len__(self) :\n",
    "        return len(self.seq)\n"
   ]
  },
  {
   "cell_type": "code",
   "execution_count": 14,
   "metadata": {
    "collapsed": false
   },
   "outputs": [
    {
     "data": {
      "text/plain": [
       "(__main__.Len, object)"
      ]
     },
     "execution_count": 14,
     "metadata": {},
     "output_type": "execute_result"
    }
   ],
   "source": [
    "Len.__mro__"
   ]
  },
  {
   "cell_type": "code",
   "execution_count": 15,
   "metadata": {
    "collapsed": false
   },
   "outputs": [
    {
     "name": "stdout",
     "output_type": "stream",
     "text": [
      "<class '__main__.Len'>\n",
      "6\n"
     ]
    }
   ],
   "source": [
    "import collections.abc as cols\n",
    "\n",
    "s = Len(\"길이 메소드\")\n",
    "\n",
    "print(type(s))\n",
    "print(len(s))\n"
   ]
  },
  {
   "cell_type": "code",
   "execution_count": 16,
   "metadata": {
    "collapsed": false
   },
   "outputs": [
    {
     "name": "stdout",
     "output_type": "stream",
     "text": [
      "True\n"
     ]
    }
   ],
   "source": [
    "import collections.abc as cols\n",
    "\n",
    "print(issubclass(Len, cols.Sized))"
   ]
  },
  {
   "cell_type": "markdown",
   "metadata": {},
   "source": [
    "## 예제 13-10  :  numbers 모듈 조회\n"
   ]
  },
  {
   "cell_type": "code",
   "execution_count": 23,
   "metadata": {
    "collapsed": false
   },
   "outputs": [
    {
     "name": "stdout",
     "output_type": "stream",
     "text": [
      "ABCMeta\n",
      "Complex\n",
      "Integral\n",
      "Number\n",
      "Rational\n",
      "Real\n"
     ]
    }
   ],
   "source": [
    "import numbers,re \n",
    "\n",
    "for i in dir(numbers) :\n",
    "    if re.match(\"[A-Z]\", i)  :\n",
    "        print(i)\n",
    "  "
   ]
  },
  {
   "cell_type": "code",
   "execution_count": 49,
   "metadata": {
    "collapsed": false
   },
   "outputs": [
    {
     "name": "stdout",
     "output_type": "stream",
     "text": [
      "(<class 'numbers.Rational'>,)\n",
      "(<class 'numbers.Real'>,)\n",
      "(<class 'numbers.Complex'>,)\n",
      "(<class 'numbers.Number'>,)\n",
      "(<class 'object'>,)\n"
     ]
    }
   ],
   "source": [
    "import numbers\n",
    "\n",
    "print(numbers.Integral.__bases__)\n",
    "print(numbers.Rational.__bases__)\n",
    "print(numbers.Real.__bases__)\n",
    "print(numbers.Complex.__bases__)\n",
    "print(numbers.Number.__bases__)"
   ]
  },
  {
   "cell_type": "code",
   "execution_count": 35,
   "metadata": {
    "collapsed": false
   },
   "outputs": [
    {
     "name": "stdout",
     "output_type": "stream",
     "text": [
      "<class 'abc.ABCMeta'>\n",
      "<class 'abc.ABCMeta'>\n",
      "<class 'abc.ABCMeta'>\n",
      "<class 'abc.ABCMeta'>\n",
      "<class 'abc.ABCMeta'>\n"
     ]
    }
   ],
   "source": [
    "import numbers\n",
    "\n",
    "print(numbers.Integral.__class__)\n",
    "print(numbers.Rational.__class__)\n",
    "print(numbers.Real.__class__)\n",
    "print(numbers.Complex.__class__)\n",
    "print(numbers.Number.__class__)"
   ]
  },
  {
   "cell_type": "markdown",
   "metadata": {},
   "source": [
    "## 예제 13-11  :  int와 numbers.Integral 관계"
   ]
  },
  {
   "cell_type": "code",
   "execution_count": 113,
   "metadata": {
    "collapsed": false
   },
   "outputs": [
    {
     "name": "stdout",
     "output_type": "stream",
     "text": [
      "True\n",
      "True\n",
      "(<class 'object'>,)\n"
     ]
    }
   ],
   "source": [
    "import numbers\n",
    "\n",
    "print(issubclass(int,numbers.Integral))\n",
    "print(isinstance(1, numbers.Integral))\n",
    "\n",
    "print(int.__bases__)"
   ]
  },
  {
   "cell_type": "code",
   "execution_count": 30,
   "metadata": {
    "collapsed": false
   },
   "outputs": [
    {
     "name": "stdout",
     "output_type": "stream",
     "text": [
      "__floordiv____lt____truediv____mod__\n",
      "__trunc____pos____neg____rand____floor__\n",
      "__radd____rmul____and____or____rrshift__\n",
      "__ror____lshift____add____rlshift____le__\n",
      "__pow____rxor____invert____eq____rpow__\n",
      "__abs____mul____rshift____int____rtruediv__\n",
      "__xor____rmod____round____rfloordiv____ceil__\n"
     ]
    }
   ],
   "source": [
    "count = 1\n",
    "for i in numbers.Integral.__abstractmethods__ :\n",
    "    print(i,end=\"\")\n",
    "    count += 1 \n",
    "    if count % 5 == 0 :\n",
    "        print()\n",
    "    "
   ]
  },
  {
   "cell_type": "code",
   "execution_count": 9,
   "metadata": {
    "collapsed": true
   },
   "outputs": [],
   "source": [
    "import numbers \n",
    "import operator as op\n",
    "\n",
    "class INT(numbers.Integral) :\n",
    "    def __init__(self,value) :\n",
    "        self.value  = value\n",
    "    __abs__ = int.__abs__\n",
    "    def  __add__(self,other) :\n",
    "        return op.add(self.value, other) \n",
    "    __and__ = int.__and__\n",
    "    __ceil__ = int.__ceil__\n",
    "    __eq__  = int.__eq__\n",
    "    __floor__ = int.__floor__\n",
    "    __floordiv__= int.__floordiv__\n",
    "    __int__ = int.__int__\n",
    "    __invert__ = int.__invert__\n",
    "    __le__   = int.__le__\n",
    "    __lshift__ = int.__lshift__\n",
    "    __lt__    = int.__lt__\n",
    "    __mod__  = int.__mod__\n",
    "    __mul__  = int.__mul__\n",
    "    __neg__  = int.__neg__\n",
    "    __or__   = int.__or__\n",
    "    __pos__  = int.__pos__\n",
    "    __pow__  = int.__pow__\n",
    "    __radd__ , __rand__, __rfloordiv__, __rlshift__ = None,None,None,None\n",
    "    __rmod__, __rmul__, __ror__, __round__, __rpow__ = None,None,None,None,None\n",
    "    __rrshift__, __rshift__, __rtruediv__, __rxor__ = None,None,None,None\n",
    "    __truediv__ = int.__truediv__\n",
    "    __trunc__  = int.__trunc__\n",
    "    __xor__    = int.__xor__"
   ]
  },
  {
   "cell_type": "code",
   "execution_count": 10,
   "metadata": {
    "collapsed": false
   },
   "outputs": [
    {
     "name": "stdout",
     "output_type": "stream",
     "text": [
      "True\n",
      "True\n"
     ]
    }
   ],
   "source": [
    "i = INT(100)\n",
    "\n",
    "print(issubclass(INT,numbers.Integral))\n",
    "print(isinstance(i, numbers.Integral))"
   ]
  },
  {
   "cell_type": "code",
   "execution_count": 12,
   "metadata": {
    "collapsed": false
   },
   "outputs": [
    {
     "name": "stdout",
     "output_type": "stream",
     "text": [
      "200\n"
     ]
    }
   ],
   "source": [
    "print(i + 100)"
   ]
  },
  {
   "cell_type": "markdown",
   "metadata": {
    "collapsed": true
   },
   "source": [
    "## 예제 13-12  :  유리수에 대한 사항 항목 점검\n"
   ]
  },
  {
   "cell_type": "code",
   "execution_count": 18,
   "metadata": {
    "collapsed": false
   },
   "outputs": [
    {
     "name": "stdout",
     "output_type": "stream",
     "text": [
      "True\n",
      "True\n",
      "False\n"
     ]
    }
   ],
   "source": [
    "import numbers\n",
    "import fractions\n",
    "\n",
    "print(issubclass(fractions.Fraction, numbers.Rational))\n",
    "print(issubclass(int, numbers.Rational))\n",
    "print(issubclass(int, fractions.Fraction))"
   ]
  },
  {
   "cell_type": "code",
   "execution_count": 32,
   "metadata": {
    "collapsed": false
   },
   "outputs": [
    {
     "name": "stdout",
     "output_type": "stream",
     "text": [
      "__add____floordiv____lt____truediv__\n",
      "__mod____trunc____le____pos____pow__\n",
      "__neg____floor____eq____rpow____radd__\n",
      "__rmul____abs____mul____rtruediv__numerator\n",
      "__rmod__denominator__round____rfloordiv____ceil__\n"
     ]
    }
   ],
   "source": [
    "count = 1\n",
    "for i in numbers.Rational.__abstractmethods__ :\n",
    "    print(i,end=\"\")\n",
    "    count += 1 \n",
    "    if count % 5 == 0 :\n",
    "        print()"
   ]
  },
  {
   "cell_type": "markdown",
   "metadata": {},
   "source": [
    "## 예제 13-13  :  실수 처리하는 관계 확인\n"
   ]
  },
  {
   "cell_type": "code",
   "execution_count": 25,
   "metadata": {
    "collapsed": false
   },
   "outputs": [
    {
     "name": "stdout",
     "output_type": "stream",
     "text": [
      "True\n",
      "True\n",
      "True\n",
      "False\n",
      "False\n"
     ]
    }
   ],
   "source": [
    "import numbers\n",
    "import fractions\n",
    "import decimal\n",
    "\n",
    "print(issubclass(int, numbers.Real))\n",
    "print(issubclass(numbers.Rational, numbers.Real))\n",
    "print(issubclass(float, numbers.Real))\n",
    "print(issubclass(decimal.Decimal, numbers.Real))\n",
    "print(issubclass(numbers.Real, decimal.Decimal))"
   ]
  },
  {
   "cell_type": "code",
   "execution_count": 33,
   "metadata": {
    "collapsed": false
   },
   "outputs": [
    {
     "name": "stdout",
     "output_type": "stream",
     "text": [
      "__add____floordiv____lt____truediv__\n",
      "__mod____trunc____le____pos____pow__\n",
      "__neg____floor____eq____rpow____radd__\n",
      "__rmul____abs____mul____float____rtruediv__\n",
      "__rmod____round____rfloordiv____ceil__"
     ]
    }
   ],
   "source": [
    "\n",
    "count = 1\n",
    "for i in numbers.Real.__abstractmethods__ :\n",
    "    print(i,end=\"\")\n",
    "    count += 1 \n",
    "    if count % 5 == 0 :\n",
    "        print()"
   ]
  },
  {
   "cell_type": "markdown",
   "metadata": {},
   "source": [
    "## 예제 13-14 :  복소수 상속 관계 확인\n"
   ]
  },
  {
   "cell_type": "code",
   "execution_count": 31,
   "metadata": {
    "collapsed": false
   },
   "outputs": [
    {
     "name": "stdout",
     "output_type": "stream",
     "text": [
      "True\n",
      "True\n",
      "True\n",
      "True\n",
      "True\n",
      "False\n"
     ]
    }
   ],
   "source": [
    "import numbers\n",
    "import fractions\n",
    "import decimal\n",
    "\n",
    "print(issubclass(int, numbers.Complex))\n",
    "print(issubclass(fractions.Fraction, numbers.Complex))\n",
    "print(issubclass(numbers.Rational, numbers.Complex))\n",
    "print(issubclass(float, numbers.Real))\n",
    "print(issubclass(numbers.Real, numbers.Complex))\n",
    "print(issubclass(decimal.Decimal, numbers.Complex))"
   ]
  },
  {
   "cell_type": "code",
   "execution_count": 34,
   "metadata": {
    "collapsed": false
   },
   "outputs": [
    {
     "name": "stdout",
     "output_type": "stream",
     "text": [
      "__add____truediv____pos____pow__\n",
      "__neg____eq____rpow____radd__conjugate\n",
      "__rmul____abs____mul____rtruediv__imag\n",
      "real__complex__"
     ]
    }
   ],
   "source": [
    "count = 1\n",
    "for i in numbers.Complex.__abstractmethods__ :\n",
    "    print(i,end=\"\")\n",
    "    count += 1 \n",
    "    if count % 5 == 0 :\n",
    "        print()"
   ]
  },
  {
   "cell_type": "markdown",
   "metadata": {},
   "source": [
    "## 예제 13-15  :  수에 대한 상속관계를 확인\n"
   ]
  },
  {
   "cell_type": "code",
   "execution_count": 33,
   "metadata": {
    "collapsed": false
   },
   "outputs": [
    {
     "name": "stdout",
     "output_type": "stream",
     "text": [
      "True\n",
      "True\n",
      "True\n",
      "True\n",
      "True\n",
      "True\n",
      "True\n",
      "True\n"
     ]
    }
   ],
   "source": [
    "import numbers\n",
    "import fractions\n",
    "import decimal\n",
    "\n",
    "print(issubclass(int, numbers.Number))\n",
    "print(issubclass(fractions.Fraction, numbers.Number))\n",
    "print(issubclass(numbers.Rational,  numbers.Number))\n",
    "print(issubclass(float,  numbers.Number))\n",
    "print(issubclass(numbers.Real,  numbers.Number))\n",
    "print(issubclass(decimal.Decimal,  numbers.Number))\n",
    "print(issubclass(complex,  numbers.Number))\n",
    "print(issubclass(numbers.Complex,  numbers.Number))"
   ]
  },
  {
   "cell_type": "code",
   "execution_count": 39,
   "metadata": {
    "collapsed": false
   },
   "outputs": [
    {
     "data": {
      "text/plain": [
       "frozenset()"
      ]
     },
     "execution_count": 39,
     "metadata": {},
     "output_type": "execute_result"
    }
   ],
   "source": [
    "numbers.Number.__abstractmethods__"
   ]
  },
  {
   "cell_type": "markdown",
   "metadata": {},
   "source": [
    "## 예제 13-16  : collections.abc 모듈 구조\n"
   ]
  },
  {
   "cell_type": "code",
   "execution_count": 36,
   "metadata": {
    "collapsed": false
   },
   "outputs": [
    {
     "name": "stdout",
     "output_type": "stream",
     "text": [
      "AsyncGenerator AsyncIterable AsyncIterator Awaitable ByteString \n",
      "Callable Collection Container Coroutine Generator \n",
      "Hashable ItemsView Iterable Iterator KeysView \n",
      "Mapping MappingView MutableMapping MutableSequence MutableSet \n",
      "Reversible Sequence Set Sized ValuesView \n"
     ]
    }
   ],
   "source": [
    "import collections.abc as cols\n",
    "\n",
    "count = 0\n",
    "for i in dir(cols) :\n",
    "    count += 1\n",
    "    if not i.startswith(\"_\") :\n",
    "        print(i, end= \" \") \n",
    "        if count %5 ==0 :\n",
    "            print()  "
   ]
  },
  {
   "cell_type": "code",
   "execution_count": 37,
   "metadata": {
    "collapsed": false
   },
   "outputs": [
    {
     "name": "stdout",
     "output_type": "stream",
     "text": [
      "(<class 'collections.abc.Sized'>, <class 'collections.abc.Iterable'>, <class 'collections.abc.Container'>)\n",
      "(<class 'object'>,)\n",
      "(<class 'object'>,)\n",
      "(<class 'object'>,)\n"
     ]
    }
   ],
   "source": [
    "print(cols.Collection.__bases__)\n",
    "print(cols.Sized.__bases__)\n",
    "print(cols.Iterable.__bases__)\n",
    "print(cols.Container.__bases__)"
   ]
  },
  {
   "cell_type": "code",
   "execution_count": 39,
   "metadata": {
    "collapsed": false
   },
   "outputs": [
    {
     "data": {
      "text/plain": [
       "frozenset({'__len__'})"
      ]
     },
     "execution_count": 39,
     "metadata": {},
     "output_type": "execute_result"
    }
   ],
   "source": [
    "cols.Sized.__abstractmethods__"
   ]
  },
  {
   "cell_type": "code",
   "execution_count": 40,
   "metadata": {
    "collapsed": false
   },
   "outputs": [
    {
     "data": {
      "text/plain": [
       "frozenset({'__iter__'})"
      ]
     },
     "execution_count": 40,
     "metadata": {},
     "output_type": "execute_result"
    }
   ],
   "source": [
    "cols.Iterable.__abstractmethods__"
   ]
  },
  {
   "cell_type": "code",
   "execution_count": 41,
   "metadata": {
    "collapsed": false
   },
   "outputs": [
    {
     "data": {
      "text/plain": [
       "frozenset({'__contains__'})"
      ]
     },
     "execution_count": 41,
     "metadata": {},
     "output_type": "execute_result"
    }
   ],
   "source": [
    "cols.Container.__abstractmethods__"
   ]
  },
  {
   "cell_type": "code",
   "execution_count": 42,
   "metadata": {
    "collapsed": false
   },
   "outputs": [
    {
     "data": {
      "text/plain": [
       "frozenset({'__contains__', '__iter__', '__len__'})"
      ]
     },
     "execution_count": 42,
     "metadata": {},
     "output_type": "execute_result"
    }
   ],
   "source": [
    "cols.Collection.__abstractmethods__"
   ]
  },
  {
   "cell_type": "markdown",
   "metadata": {},
   "source": [
    "## 예제 13-17  :  Sequence 자료형 확인하기\n"
   ]
  },
  {
   "cell_type": "code",
   "execution_count": 65,
   "metadata": {
    "collapsed": false
   },
   "outputs": [
    {
     "name": "stdout",
     "output_type": "stream",
     "text": [
      "(<class 'collections.abc.Reversible'>, <class 'collections.abc.Collection'>)\n",
      "(<class 'collections.abc.Iterable'>,)\n",
      "(<class 'collections.abc.Sequence'>,)\n"
     ]
    }
   ],
   "source": [
    "import collections.abc as cols\n",
    "\n",
    "print(cols.Sequence.__bases__)\n",
    "print(cols.Reversible.__bases__)\n",
    "print(cols.MutableSequence.__bases__)"
   ]
  },
  {
   "cell_type": "code",
   "execution_count": 43,
   "metadata": {
    "collapsed": false
   },
   "outputs": [
    {
     "data": {
      "text/plain": [
       "frozenset({'__iter__', '__reversed__'})"
      ]
     },
     "execution_count": 43,
     "metadata": {},
     "output_type": "execute_result"
    }
   ],
   "source": [
    "cols.Reversible.__abstractmethods__"
   ]
  },
  {
   "cell_type": "code",
   "execution_count": 45,
   "metadata": {
    "collapsed": false
   },
   "outputs": [
    {
     "data": {
      "text/plain": [
       "frozenset({'__getitem__', '__len__'})"
      ]
     },
     "execution_count": 45,
     "metadata": {},
     "output_type": "execute_result"
    }
   ],
   "source": [
    "cols.Sequence.__abstractmethods__"
   ]
  },
  {
   "cell_type": "code",
   "execution_count": 44,
   "metadata": {
    "collapsed": false
   },
   "outputs": [
    {
     "data": {
      "text/plain": [
       "frozenset({'__delitem__', '__getitem__', '__len__', '__setitem__', 'insert'})"
      ]
     },
     "execution_count": 44,
     "metadata": {},
     "output_type": "execute_result"
    }
   ],
   "source": [
    "cols.MutableSequence.__abstractmethods__"
   ]
  },
  {
   "cell_type": "code",
   "execution_count": 1,
   "metadata": {
    "collapsed": false
   },
   "outputs": [
    {
     "name": "stdout",
     "output_type": "stream",
     "text": [
      "True\n",
      "True\n",
      "True\n",
      "True\n",
      "True\n",
      "False\n"
     ]
    }
   ],
   "source": [
    "import collections.abc as cols\n",
    "import array\n",
    "\n",
    "print(issubclass(str, cols.Sequence))\n",
    "print(issubclass(bytes, cols.Sequence))\n",
    "print(issubclass(bytearray, cols.Sequence))\n",
    "print(issubclass(list, cols.Sequence))\n",
    "print(issubclass(tuple, cols.Sequence))\n",
    "print(issubclass(array.ArrayType, cols.Sequence))"
   ]
  },
  {
   "cell_type": "code",
   "execution_count": 53,
   "metadata": {
    "collapsed": false
   },
   "outputs": [
    {
     "name": "stdout",
     "output_type": "stream",
     "text": [
      "True\n",
      "True\n"
     ]
    }
   ],
   "source": [
    "print(issubclass(bytearray, cols.MutableSequence))\n",
    "print(issubclass(list, cols.MutableSequence))"
   ]
  },
  {
   "cell_type": "code",
   "execution_count": 2,
   "metadata": {
    "collapsed": false
   },
   "outputs": [
    {
     "name": "stdout",
     "output_type": "stream",
     "text": [
      "False\n",
      "frozenset({'__getitem__', '__setitem__', '__delitem__', '__len__', 'insert'})\n"
     ]
    }
   ],
   "source": [
    "import array \n",
    "\n",
    "print(issubclass(array.ArrayType, cols.MutableSequence))\n",
    "\n",
    "aa = frozenset(dir(array.ArrayType)) \n",
    "\n",
    "print( cols.MutableSequence.__abstractmethods__ & aa)"
   ]
  },
  {
   "cell_type": "code",
   "execution_count": 74,
   "metadata": {
    "collapsed": true
   },
   "outputs": [],
   "source": [
    "import collections.abc as cols\n",
    "\n",
    "class SEQ(cols.Sequence) :\n",
    "    def __init__(self, seq) :\n",
    "        self.seq = seq\n",
    "        \n",
    "    def __getitem__(self,index) :\n",
    "        return self.seq[index]\n",
    "    \n",
    "    def __len__(self) :\n",
    "        return len(self.seq)"
   ]
  },
  {
   "cell_type": "code",
   "execution_count": 77,
   "metadata": {
    "collapsed": false
   },
   "outputs": [
    {
     "name": "stdout",
     "output_type": "stream",
     "text": [
      "True\n",
      "(<class 'collections.abc.Sequence'>,)\n",
      "한\n",
      "14\n"
     ]
    }
   ],
   "source": [
    "s = SEQ(\"변경불가능한 시퀀스 자료형\")\n",
    "\n",
    "print(issubclass(SEQ, cols.Sequence))\n",
    "print(SEQ.__bases__)\n",
    "\n",
    "print(s[5])\n",
    "print(len(s))"
   ]
  },
  {
   "cell_type": "markdown",
   "metadata": {},
   "source": [
    "## 예제 13-18  :  딕셔너리 자료형의 상속 관계\n"
   ]
  },
  {
   "cell_type": "code",
   "execution_count": 79,
   "metadata": {
    "collapsed": false
   },
   "outputs": [
    {
     "name": "stdout",
     "output_type": "stream",
     "text": [
      "(<class 'collections.abc.Collection'>,)\n",
      "(<class 'collections.abc.Mapping'>,)\n"
     ]
    }
   ],
   "source": [
    "import collections.abc as cols\n",
    "\n",
    "print(cols.Mapping.__bases__)\n",
    "print(cols.MutableMapping.__bases__)"
   ]
  },
  {
   "cell_type": "code",
   "execution_count": 55,
   "metadata": {
    "collapsed": false
   },
   "outputs": [
    {
     "data": {
      "text/plain": [
       "frozenset({'__getitem__', '__iter__', '__len__'})"
      ]
     },
     "execution_count": 55,
     "metadata": {},
     "output_type": "execute_result"
    }
   ],
   "source": [
    "cols.Mapping.__abstractmethods__"
   ]
  },
  {
   "cell_type": "code",
   "execution_count": 56,
   "metadata": {
    "collapsed": false
   },
   "outputs": [
    {
     "data": {
      "text/plain": [
       "frozenset({'__delitem__', '__getitem__', '__iter__', '__len__', '__setitem__'})"
      ]
     },
     "execution_count": 56,
     "metadata": {},
     "output_type": "execute_result"
    }
   ],
   "source": [
    "cols.MutableMapping.__abstractmethods__"
   ]
  },
  {
   "cell_type": "code",
   "execution_count": 81,
   "metadata": {
    "collapsed": false
   },
   "outputs": [
    {
     "name": "stdout",
     "output_type": "stream",
     "text": [
      "{'_MutableMapping__marker',\n",
      " '__delitem__',\n",
      " '__setitem__',\n",
      " 'clear',\n",
      " 'pop',\n",
      " 'popitem',\n",
      " 'setdefault',\n",
      " 'update'}\n"
     ]
    }
   ],
   "source": [
    "import pprint\n",
    "\n",
    "mp = set(dir(cols.Mapping))\n",
    "mm = set(dir(cols.MutableMapping))\n",
    "\n",
    "pprint.pprint(mm-mp)"
   ]
  },
  {
   "cell_type": "code",
   "execution_count": 80,
   "metadata": {
    "collapsed": false
   },
   "outputs": [
    {
     "name": "stdout",
     "output_type": "stream",
     "text": [
      "True\n",
      "True\n"
     ]
    }
   ],
   "source": [
    "print(issubclass(dict, cols.Mapping))\n",
    "print(issubclass(dict, cols.MutableMapping))"
   ]
  },
  {
   "cell_type": "code",
   "execution_count": 84,
   "metadata": {
    "collapsed": true
   },
   "outputs": [],
   "source": [
    "import collections.abc as cols\n",
    "\n",
    "class Dict(cols.MutableMapping) :\n",
    "    def __init__(self,dict_) :\n",
    "        self.dict_ = dict_\n",
    "        \n",
    "    def __getitem__(self, key) :\n",
    "        return self.dict_[key]\n",
    "    \n",
    "    def __setitem__(self, key, value) :\n",
    "        self.dict_[key] = value\n",
    "        \n",
    "    def __delitem__(self,key) :\n",
    "        del self.dict_[key]\n",
    "        \n",
    "    def __iter__(self) :\n",
    "        return iter(self.dict_)\n",
    "        \n",
    "    def __len__(self) :\n",
    "        return len(self.dict_)"
   ]
  },
  {
   "cell_type": "code",
   "execution_count": 86,
   "metadata": {
    "collapsed": false
   },
   "outputs": [
    {
     "name": "stdout",
     "output_type": "stream",
     "text": [
      "1\n",
      "100\n"
     ]
    }
   ],
   "source": [
    "d = Dict({'a':1, 'b':2})\n",
    "\n",
    "print(d['a'])\n",
    "\n",
    "d['c'] = 100\n",
    "print(d['c'])"
   ]
  },
  {
   "cell_type": "markdown",
   "metadata": {},
   "source": [
    "## 예제 13-19  :  set과 frozenset 클래스의 상속관계\n"
   ]
  },
  {
   "cell_type": "code",
   "execution_count": 64,
   "metadata": {
    "collapsed": false
   },
   "outputs": [
    {
     "name": "stdout",
     "output_type": "stream",
     "text": [
      "(<class 'collections.abc.Collection'>,)\n",
      "(<class 'collections.abc.Set'>,)\n"
     ]
    }
   ],
   "source": [
    "print(cols.Set.__bases__)\n",
    "print(cols.MutableSet.__bases__)"
   ]
  },
  {
   "cell_type": "code",
   "execution_count": 89,
   "metadata": {
    "collapsed": false
   },
   "outputs": [
    {
     "name": "stdout",
     "output_type": "stream",
     "text": [
      "{'__iand__',\n",
      " '__ior__',\n",
      " '__isub__',\n",
      " '__ixor__',\n",
      " 'add',\n",
      " 'clear',\n",
      " 'discard',\n",
      " 'pop',\n",
      " 'remove'}\n"
     ]
    }
   ],
   "source": [
    "import pprint\n",
    "\n",
    "mp = set(dir(cols.Set))\n",
    "mm = set(dir(cols.MutableSet))\n",
    "\n",
    "pprint.pprint(mm-mp)"
   ]
  },
  {
   "cell_type": "code",
   "execution_count": 88,
   "metadata": {
    "collapsed": false
   },
   "outputs": [
    {
     "name": "stdout",
     "output_type": "stream",
     "text": [
      "True\n",
      "False\n",
      "True\n",
      "True\n"
     ]
    }
   ],
   "source": [
    "print(issubclass(set, cols.MutableSet))\n",
    "print(issubclass(frozenset, cols.MutableSet))\n",
    "print(issubclass(frozenset, cols.Set))\n",
    "print(issubclass(set, cols.Set))\n"
   ]
  },
  {
   "cell_type": "code",
   "execution_count": 109,
   "metadata": {
    "collapsed": true
   },
   "outputs": [],
   "source": [
    "import collections.abc as cols\n",
    "\n",
    "class Set(cols.MutableSet) :\n",
    "    def __init__(self,set_) :\n",
    "        self.set_ = set(set_)\n",
    "        \n",
    "    def __contains__(self, key) :\n",
    "        return key in self.set_\n",
    "        \n",
    "    def __getitem__(self, key) :\n",
    "        return self.set_[key]\n",
    "    \n",
    "    def __setitem__(self, key, value) :\n",
    "        self.set_[key] = value\n",
    "        \n",
    "    def __delitem__(self,key) :\n",
    "        del self.set_[key]\n",
    "        \n",
    "    def __iter__(self) :\n",
    "        return iter(self.set_)\n",
    "        \n",
    "    def __len__(self) :\n",
    "        return len(self.set_)\n",
    "    \n",
    "    def add(self, key) :\n",
    "        self.set_.add(key)\n",
    "        \n",
    "    def discard(self,key) :\n",
    "        self.set_.discard(key)\n",
    "        \n",
    "    def __str__(self) :\n",
    "        return str(self.set_)"
   ]
  },
  {
   "cell_type": "code",
   "execution_count": 110,
   "metadata": {
    "collapsed": false
   },
   "outputs": [
    {
     "name": "stdout",
     "output_type": "stream",
     "text": [
      "True\n",
      "{1, 2, 3, 4}\n",
      "{1, 2, 3}\n"
     ]
    }
   ],
   "source": [
    "ss = Set([1,2,3])\n",
    "\n",
    "\n",
    "print(isinstance(ss, cols.MutableSet))\n",
    "ss.add(4)\n",
    "print(ss)\n",
    "ss.discard(4)\n",
    "print(ss)"
   ]
  },
  {
   "cell_type": "markdown",
   "metadata": {},
   "source": [
    "## 예제 13-20  :  view 형태의 클래스제공"
   ]
  },
  {
   "cell_type": "code",
   "execution_count": 113,
   "metadata": {
    "collapsed": false
   },
   "outputs": [
    {
     "name": "stdout",
     "output_type": "stream",
     "text": [
      "(<class 'collections.abc.Sized'>,)\n",
      "(<class 'collections.abc.MappingView'>, <class 'collections.abc.Set'>)\n",
      "(<class 'collections.abc.MappingView'>,)\n",
      "(<class 'collections.abc.MappingView'>, <class 'collections.abc.Set'>)\n"
     ]
    }
   ],
   "source": [
    "import collections.abc as cols\n",
    "\n",
    "print(cols.MappingView.__bases__)\n",
    "print(cols.KeysView.__bases__)\n",
    "print(cols.ValuesView.__bases__)\n",
    "print(cols.ItemsView.__bases__)"
   ]
  },
  {
   "cell_type": "code",
   "execution_count": 120,
   "metadata": {
    "collapsed": false
   },
   "outputs": [
    {
     "name": "stdout",
     "output_type": "stream",
     "text": [
      "True\n",
      "True\n"
     ]
    }
   ],
   "source": [
    "import collections.abc as cols\n",
    "\n",
    "d = dict({'a': 1, 'b':2})\n",
    "\n",
    "print(issubclass(type(d.keys()),cols.KeysView))\n",
    "\n",
    "s = d.keys()\n",
    "print(isinstance(s,cols.Set))"
   ]
  },
  {
   "cell_type": "code",
   "execution_count": 121,
   "metadata": {
    "collapsed": false
   },
   "outputs": [
    {
     "name": "stdout",
     "output_type": "stream",
     "text": [
      "True\n",
      "False\n"
     ]
    }
   ],
   "source": [
    "import collections.abc as cols\n",
    "\n",
    "d = dict({'a': 1, 'b':2})\n",
    "\n",
    "print(issubclass(type(d.values()),cols.ValuesView))\n",
    "\n",
    "s = d.values()\n",
    "print(isinstance(s,cols.Set))"
   ]
  },
  {
   "cell_type": "code",
   "execution_count": 123,
   "metadata": {
    "collapsed": false
   },
   "outputs": [
    {
     "name": "stdout",
     "output_type": "stream",
     "text": [
      "True\n",
      "True\n"
     ]
    }
   ],
   "source": [
    "import collections.abc as cols\n",
    "\n",
    "d = dict({'a': 1, 'b':2})\n",
    "\n",
    "print(issubclass(type(d.items()),cols.ItemsView))\n",
    "s = d.items()\n",
    "print(isinstance(s,cols.Set))"
   ]
  },
  {
   "cell_type": "markdown",
   "metadata": {},
   "source": [
    "## 예제 13-21  :  반복형을 처리하는 클래스 상속관계 확인하기\n"
   ]
  },
  {
   "cell_type": "code",
   "execution_count": 125,
   "metadata": {
    "collapsed": false
   },
   "outputs": [
    {
     "name": "stdout",
     "output_type": "stream",
     "text": [
      "<class 'zip'>\n",
      "<class 'enumerate'>\n",
      "<class 'reversed'>\n",
      "<class 'range'>\n"
     ]
    }
   ],
   "source": [
    "print(zip)\n",
    "print(enumerate)\n",
    "print(reversed)\n",
    "print(range)"
   ]
  },
  {
   "cell_type": "code",
   "execution_count": 130,
   "metadata": {
    "collapsed": false
   },
   "outputs": [
    {
     "name": "stdout",
     "output_type": "stream",
     "text": [
      "True\n",
      "True\n",
      "True\n",
      "True\n",
      "True\n",
      "True\n",
      "True\n",
      "False\n"
     ]
    }
   ],
   "source": [
    "import collections.abc as cols\n",
    "\n",
    "print(issubclass(zip, cols.Iterable))\n",
    "print(issubclass(zip, cols.Iterator))\n",
    "print(issubclass(enumerate, cols.Iterable))\n",
    "print(issubclass(enumerate, cols.Iterator))\n",
    "print(issubclass(reversed, cols.Iterable))\n",
    "print(issubclass(reversed, cols.Iterator))\n",
    "print(issubclass(range, cols.Iterable))\n",
    "print(issubclass(range, cols.Iterator))"
   ]
  },
  {
   "cell_type": "code",
   "execution_count": 65,
   "metadata": {
    "collapsed": false
   },
   "outputs": [
    {
     "name": "stdout",
     "output_type": "stream",
     "text": [
      "<range_iterator object at 0x00000000051ECD30>\n",
      "True\n"
     ]
    }
   ],
   "source": [
    "import collections.abc as cols\n",
    "\n",
    "a = range(10)\n",
    "b = iter(a)\n",
    "print(b)\n",
    "print(issubclass(type(b),cols.Iterator))"
   ]
  },
  {
   "cell_type": "code",
   "execution_count": 68,
   "metadata": {
    "collapsed": false
   },
   "outputs": [
    {
     "name": "stdout",
     "output_type": "stream",
     "text": [
      "[0, 1, 2, 3, 4, 5, 6, 7, 8, 9]\n"
     ]
    }
   ],
   "source": [
    "l = list(a) \n",
    "print(l)"
   ]
  },
  {
   "cell_type": "code",
   "execution_count": 69,
   "metadata": {
    "collapsed": false
   },
   "outputs": [
    {
     "name": "stdout",
     "output_type": "stream",
     "text": [
      "0 10 1\n"
     ]
    }
   ],
   "source": [
    "print(a.start, a.stop, a.step)"
   ]
  },
  {
   "cell_type": "code",
   "execution_count": 131,
   "metadata": {
    "collapsed": false
   },
   "outputs": [
    {
     "name": "stdout",
     "output_type": "stream",
     "text": [
      "False\n",
      "False\n",
      "False\n",
      "True\n"
     ]
    }
   ],
   "source": [
    "import collections.abc as cols\n",
    "\n",
    "print(issubclass(zip, cols.Reversible))\n",
    "print(issubclass(enumerate, cols.Reversible))\n",
    "print(issubclass(reversed, cols.Reversible))\n",
    "print(issubclass(range, cols.Reversible))"
   ]
  },
  {
   "cell_type": "code",
   "execution_count": 136,
   "metadata": {
    "collapsed": false
   },
   "outputs": [
    {
     "name": "stdout",
     "output_type": "stream",
     "text": [
      "{'__reversed__'}\n",
      "<method '__reversed__' of 'range' objects>\n"
     ]
    }
   ],
   "source": [
    "it = set(dir(cols.Iterable))\n",
    "re = set(dir(cols.Reversible))\n",
    "\n",
    "print(re-it)\n",
    "print(range.__dict__['__reversed__'])"
   ]
  },
  {
   "cell_type": "code",
   "execution_count": 133,
   "metadata": {
    "collapsed": false
   },
   "outputs": [
    {
     "name": "stdout",
     "output_type": "stream",
     "text": [
      "10 9 8 7 6 5 4 3 2 1 0 "
     ]
    }
   ],
   "source": [
    "for i in range(10,-1,-1) :\n",
    "    print(i, end=\" \")"
   ]
  },
  {
   "cell_type": "markdown",
   "metadata": {},
   "source": [
    "## 예제 13-22  :  클래스는 반복자 자료형\n"
   ]
  },
  {
   "cell_type": "code",
   "execution_count": 141,
   "metadata": {
    "collapsed": false,
    "scrolled": true
   },
   "outputs": [
    {
     "name": "stdout",
     "output_type": "stream",
     "text": [
      "<zip object at 0x0000000004CB96C8>\n",
      "(1, 1)\n",
      "(2, 2)\n",
      "(3, 3)\n"
     ]
    },
    {
     "ename": "StopIteration",
     "evalue": "",
     "output_type": "error",
     "traceback": [
      "\u001b[0;31m---------------------------------------------------------------------------\u001b[0m",
      "\u001b[0;31mStopIteration\u001b[0m                             Traceback (most recent call last)",
      "\u001b[0;32m<ipython-input-141-d5b03ab584e4>\u001b[0m in \u001b[0;36m<module>\u001b[0;34m()\u001b[0m\n\u001b[1;32m      8\u001b[0m \u001b[0mprint\u001b[0m\u001b[1;33m(\u001b[0m\u001b[0mnext\u001b[0m\u001b[1;33m(\u001b[0m\u001b[0mz\u001b[0m\u001b[1;33m)\u001b[0m\u001b[1;33m)\u001b[0m\u001b[1;33m\u001b[0m\u001b[0m\n\u001b[1;32m      9\u001b[0m \u001b[0mprint\u001b[0m\u001b[1;33m(\u001b[0m\u001b[0mnext\u001b[0m\u001b[1;33m(\u001b[0m\u001b[0mz\u001b[0m\u001b[1;33m)\u001b[0m\u001b[1;33m)\u001b[0m\u001b[1;33m\u001b[0m\u001b[0m\n\u001b[0;32m---> 10\u001b[0;31m \u001b[0mprint\u001b[0m\u001b[1;33m(\u001b[0m\u001b[0mnext\u001b[0m\u001b[1;33m(\u001b[0m\u001b[0mz\u001b[0m\u001b[1;33m)\u001b[0m\u001b[1;33m)\u001b[0m\u001b[1;33m\u001b[0m\u001b[0m\n\u001b[0m",
      "\u001b[0;31mStopIteration\u001b[0m: "
     ]
    }
   ],
   "source": [
    "a = [1,2,3,4]\n",
    "b = [1,2,3]\n",
    "\n",
    "z = zip(a,b)\n",
    "print(z)\n",
    "\n",
    "print(next(z))\n",
    "print(next(z))\n",
    "print(next(z))\n",
    "print(next(z))"
   ]
  },
  {
   "cell_type": "code",
   "execution_count": 70,
   "metadata": {
    "collapsed": false
   },
   "outputs": [
    {
     "name": "stdout",
     "output_type": "stream",
     "text": [
      "[(1, 1, 'a'), (2, 2, 'b'), (3, 3, 'c')]\n"
     ]
    }
   ],
   "source": [
    "a = [1,2,3,4]\n",
    "b = [1,2,3]\n",
    "c = ['a','b','c','d']\n",
    "\n",
    "z = zip(a,b,c)\n",
    "print(list(z))"
   ]
  },
  {
   "cell_type": "code",
   "execution_count": 73,
   "metadata": {
    "collapsed": false
   },
   "outputs": [
    {
     "name": "stdout",
     "output_type": "stream",
     "text": [
      "[]\n"
     ]
    }
   ],
   "source": [
    "print(list(z))"
   ]
  },
  {
   "cell_type": "code",
   "execution_count": 145,
   "metadata": {
    "collapsed": false
   },
   "outputs": [
    {
     "name": "stdout",
     "output_type": "stream",
     "text": [
      "<enumerate object at 0x0000000004C91120>\n",
      "(0, 1)\n",
      "(1, 2)\n",
      "(2, 3)\n",
      "(3, 4)\n"
     ]
    },
    {
     "ename": "StopIteration",
     "evalue": "",
     "output_type": "error",
     "traceback": [
      "\u001b[0;31m---------------------------------------------------------------------------\u001b[0m",
      "\u001b[0;31mStopIteration\u001b[0m                             Traceback (most recent call last)",
      "\u001b[0;32m<ipython-input-145-64ef425a22a1>\u001b[0m in \u001b[0;36m<module>\u001b[0;34m()\u001b[0m\n\u001b[1;32m      8\u001b[0m \u001b[0mprint\u001b[0m\u001b[1;33m(\u001b[0m\u001b[0mnext\u001b[0m\u001b[1;33m(\u001b[0m\u001b[0me\u001b[0m\u001b[1;33m)\u001b[0m\u001b[1;33m)\u001b[0m\u001b[1;33m\u001b[0m\u001b[0m\n\u001b[1;32m      9\u001b[0m \u001b[0mprint\u001b[0m\u001b[1;33m(\u001b[0m\u001b[0mnext\u001b[0m\u001b[1;33m(\u001b[0m\u001b[0me\u001b[0m\u001b[1;33m)\u001b[0m\u001b[1;33m)\u001b[0m\u001b[1;33m\u001b[0m\u001b[0m\n\u001b[0;32m---> 10\u001b[0;31m \u001b[0mprint\u001b[0m\u001b[1;33m(\u001b[0m\u001b[0mnext\u001b[0m\u001b[1;33m(\u001b[0m\u001b[0me\u001b[0m\u001b[1;33m)\u001b[0m\u001b[1;33m)\u001b[0m\u001b[1;33m\u001b[0m\u001b[0m\n\u001b[0m",
      "\u001b[0;31mStopIteration\u001b[0m: "
     ]
    }
   ],
   "source": [
    "a = [1,2,3,4]\n",
    "\n",
    "e = enumerate(a)\n",
    "print(e)\n",
    "\n",
    "print(next(e))\n",
    "print(next(e))\n",
    "print(next(e))\n",
    "print(next(e))\n",
    "print(next(e))"
   ]
  },
  {
   "cell_type": "code",
   "execution_count": 74,
   "metadata": {
    "collapsed": false
   },
   "outputs": [
    {
     "name": "stdout",
     "output_type": "stream",
     "text": [
      "<enumerate object at 0x00000000054C8240>\n",
      "3 1\n",
      "4 2\n",
      "5 3\n",
      "6 4\n"
     ]
    }
   ],
   "source": [
    "a = [1,2,3,4]\n",
    "\n",
    "e = enumerate(a,3)\n",
    "print(e)\n",
    "for i,v in e :\n",
    "    print(i,v)"
   ]
  },
  {
   "cell_type": "code",
   "execution_count": 75,
   "metadata": {
    "collapsed": false
   },
   "outputs": [
    {
     "name": "stdout",
     "output_type": "stream",
     "text": [
      "[]\n"
     ]
    }
   ],
   "source": [
    "print(list(e))"
   ]
  },
  {
   "cell_type": "code",
   "execution_count": 149,
   "metadata": {
    "collapsed": false
   },
   "outputs": [
    {
     "name": "stdout",
     "output_type": "stream",
     "text": [
      "<list_reverseiterator object at 0x0000000004C92A58>\n",
      "4\n",
      "3\n",
      "2\n",
      "1\n"
     ]
    },
    {
     "ename": "StopIteration",
     "evalue": "",
     "output_type": "error",
     "traceback": [
      "\u001b[0;31m---------------------------------------------------------------------------\u001b[0m",
      "\u001b[0;31mStopIteration\u001b[0m                             Traceback (most recent call last)",
      "\u001b[0;32m<ipython-input-149-6ebd6e1ba0a2>\u001b[0m in \u001b[0;36m<module>\u001b[0;34m()\u001b[0m\n\u001b[1;32m      7\u001b[0m \u001b[0mprint\u001b[0m\u001b[1;33m(\u001b[0m\u001b[0mnext\u001b[0m\u001b[1;33m(\u001b[0m\u001b[0mr\u001b[0m\u001b[1;33m)\u001b[0m\u001b[1;33m)\u001b[0m\u001b[1;33m\u001b[0m\u001b[0m\n\u001b[1;32m      8\u001b[0m \u001b[0mprint\u001b[0m\u001b[1;33m(\u001b[0m\u001b[0mnext\u001b[0m\u001b[1;33m(\u001b[0m\u001b[0mr\u001b[0m\u001b[1;33m)\u001b[0m\u001b[1;33m)\u001b[0m\u001b[1;33m\u001b[0m\u001b[0m\n\u001b[0;32m----> 9\u001b[0;31m \u001b[0mprint\u001b[0m\u001b[1;33m(\u001b[0m\u001b[0mnext\u001b[0m\u001b[1;33m(\u001b[0m\u001b[0mr\u001b[0m\u001b[1;33m)\u001b[0m\u001b[1;33m)\u001b[0m\u001b[1;33m\u001b[0m\u001b[0m\n\u001b[0m",
      "\u001b[0;31mStopIteration\u001b[0m: "
     ]
    }
   ],
   "source": [
    "a = [1,2,3,4]\n",
    "\n",
    "r = reversed(a)\n",
    "print(r)\n",
    "print(next(r))\n",
    "print(next(r))\n",
    "print(next(r))\n",
    "print(next(r))\n",
    "print(next(r))"
   ]
  },
  {
   "cell_type": "code",
   "execution_count": 152,
   "metadata": {
    "collapsed": false
   },
   "outputs": [
    {
     "name": "stdout",
     "output_type": "stream",
     "text": [
      "[4, 3, 2, 1]\n"
     ]
    }
   ],
   "source": [
    "a = [1,2,3,4]\n",
    "\n",
    "r = reversed(a)\n",
    "print(list(r))"
   ]
  },
  {
   "cell_type": "markdown",
   "metadata": {},
   "source": [
    "## 예제 13-23  :  동적과 정적 타입을 동시에 처리하기\n"
   ]
  },
  {
   "cell_type": "code",
   "execution_count": 76,
   "metadata": {
    "collapsed": false
   },
   "outputs": [
    {
     "name": "stdout",
     "output_type": "stream",
     "text": [
      "Overwriting doctest_simple1.py\n"
     ]
    }
   ],
   "source": [
    "%%writefile doctest_simple1.py\n",
    "def my_function(a, b):\n",
    "    \"\"\"\n",
    "    >>> my_function(2, 3)\n",
    "    6\n",
    "    >>> my_function('a', 3)\n",
    "    'aa'\n",
    "    \"\"\"\n",
    "    return a * b"
   ]
  },
  {
   "cell_type": "code",
   "execution_count": 77,
   "metadata": {
    "collapsed": false
   },
   "outputs": [
    {
     "name": "stdout",
     "output_type": "stream",
     "text": [
      "Trying:\n",
      "    my_function(2, 3)\n",
      "Expecting:\n",
      "    6\n",
      "ok\n",
      "Trying:\n",
      "    my_function('a', 3)\n",
      "Expecting:\n",
      "    'aa'\n",
      "**********************************************************************\n",
      "File \"C:\\Users\\06411\\Documents\\GitHub\\python_book\\python_gram\\doctest_simple1.py\", line 5, in doctest_simple1.my_function\n",
      "Failed example:\n",
      "    my_function('a', 3)\n",
      "Expected:\n",
      "    'aa'\n",
      "Got:\n",
      "    'aaa'\n",
      "1 items had no tests:\n",
      "    doctest_simple1\n",
      "**********************************************************************\n",
      "1 items had failures:\n",
      "   1 of   2 in doctest_simple1.my_function\n",
      "2 tests in 2 items.\n",
      "1 passed and 1 failed.\n",
      "***Test Failed*** 1 failures.\n"
     ]
    }
   ],
   "source": [
    "!python -m doctest -v doctest_simple1.py"
   ]
  },
  {
   "cell_type": "code",
   "execution_count": 2,
   "metadata": {
    "collapsed": false
   },
   "outputs": [
    {
     "name": "stdout",
     "output_type": "stream",
     "text": [
      "Writing doctest_simple2.py\n"
     ]
    }
   ],
   "source": [
    "%%writefile doctest_simple2.py\n",
    "\n",
    "from typing import TypeVar, Iterable, Tuple\n",
    "\n",
    "T = TypeVar('T', int, float, complex)\n",
    "Vector = Iterable[Tuple[T, T]]\n",
    "\n",
    "def inproduct(v: Vector[T]) -> T:\n",
    "    \"\"\"\n",
    "       >>> inproduct([(1,2)])\n",
    "       2\n",
    "    \"\"\"\n",
    "    return sum(x*y for x, y in v)\n",
    "def dilate(v: Vector[T], scale: T) -> Vector[T]:\n",
    "    \"\"\"\n",
    "       >>> dilate([(1,2)],\"a\")\n",
    "       2\n",
    "    \"\"\"\n",
    "    return ((x * scale, y * scale) for x, y in v)"
   ]
  },
  {
   "cell_type": "code",
   "execution_count": 207,
   "metadata": {
    "collapsed": false
   },
   "outputs": [
    {
     "name": "stdout",
     "output_type": "stream",
     "text": [
      "Trying:\n",
      "    dilate([(1,2)],\"a\")\n",
      "Expecting:\n",
      "    2\n",
      "**********************************************************************\n",
      "File \"C:\\Users\\06411\\Documents\\GitHub\\python_book\\python_gram\\doctest_simple2.py\", line 15, in doctest_simple2.dilate\n",
      "Failed example:\n",
      "    dilate([(1,2)],\"a\")\n",
      "Expected:\n",
      "    2\n",
      "Got:\n",
      "    <generator object dilate.<locals>.<genexpr> at 0x0000000002AD4518>\n",
      "Trying:\n",
      "    inproduct([(1,2)])\n",
      "Expecting:\n",
      "    2\n",
      "ok\n",
      "1 items had no tests:\n",
      "    doctest_simple2\n",
      "1 items passed all tests:\n",
      "   1 tests in doctest_simple2.inproduct\n",
      "**********************************************************************\n",
      "1 items had failures:\n",
      "   1 of   1 in doctest_simple2.dilate\n",
      "2 tests in 3 items.\n",
      "1 passed and 1 failed.\n",
      "***Test Failed*** 1 failures.\n"
     ]
    }
   ],
   "source": [
    "!python -m doctest -v doctest_simple2.py"
   ]
  },
  {
   "cell_type": "markdown",
   "metadata": {},
   "source": [
    "## 예제 13-24  :  Genercic 타입 구조\n"
   ]
  },
  {
   "cell_type": "code",
   "execution_count": 209,
   "metadata": {
    "collapsed": false
   },
   "outputs": [
    {
     "name": "stdout",
     "output_type": "stream",
     "text": [
      "(<class 'object'>,)\n",
      "<class 'typing.GenericMeta'>\n"
     ]
    }
   ],
   "source": [
    "import typing\n",
    "\n",
    "print(typing.Generic.__bases__)\n",
    "print(typing.Generic.__class__)"
   ]
  },
  {
   "cell_type": "code",
   "execution_count": 212,
   "metadata": {
    "collapsed": false
   },
   "outputs": [
    {
     "name": "stdout",
     "output_type": "stream",
     "text": [
      "(<class 'typing.TypingMeta'>, <class 'abc.ABCMeta'>)\n",
      "<class 'type'>\n"
     ]
    }
   ],
   "source": [
    "print(typing.GenericMeta.__bases__)\n",
    "print(typing.GenericMeta.__class__)"
   ]
  },
  {
   "cell_type": "code",
   "execution_count": 221,
   "metadata": {
    "collapsed": false
   },
   "outputs": [
    {
     "name": "stdout",
     "output_type": "stream",
     "text": [
      "Overwriting var1.py\n"
     ]
    }
   ],
   "source": [
    "%%writefile var1.py\n",
    "import typing\n",
    "\n",
    "def add(x:typing.Generic, y:typing.Generic) :\n",
    "    \"\"\"\n",
    "       >>> add(10,10)\n",
    "       20\n",
    "       >>> add(\"Hello\", \"World\")\n",
    "       'HelloWorld'\n",
    "       >>> add(\"Hello\",10)\n",
    "       Traceback (most recent call last):\n",
    "       ...\n",
    "       TypeError: must be str, not int\n",
    "    \"\"\"\n",
    "    return x+y\n"
   ]
  },
  {
   "cell_type": "code",
   "execution_count": 222,
   "metadata": {
    "collapsed": false
   },
   "outputs": [
    {
     "name": "stdout",
     "output_type": "stream",
     "text": [
      "Trying:\n",
      "    add(10,10)\n",
      "Expecting:\n",
      "    20\n",
      "ok\n",
      "Trying:\n",
      "    add(\"Hello\", \"World\")\n",
      "Expecting:\n",
      "    'HelloWorld'\n",
      "ok\n",
      "Trying:\n",
      "    add(\"Hello\",10)\n",
      "Expecting:\n",
      "    Traceback (most recent call last):\n",
      "    ...\n",
      "    TypeError: must be str, not int\n",
      "ok\n",
      "1 items had no tests:\n",
      "    var1\n",
      "1 items passed all tests:\n",
      "   3 tests in var1.add\n",
      "3 tests in 2 items.\n",
      "3 passed and 0 failed.\n",
      "Test passed.\n"
     ]
    }
   ],
   "source": [
    "!python -m doctest var1.py -v"
   ]
  },
  {
   "cell_type": "markdown",
   "metadata": {},
   "source": [
    "## 예제 13-25  :  자료형간의 관계 알아보기\n"
   ]
  },
  {
   "cell_type": "code",
   "execution_count": 229,
   "metadata": {
    "collapsed": false
   },
   "outputs": [
    {
     "name": "stdout",
     "output_type": "stream",
     "text": [
      "(<class 'list'>, typing.MutableSequence)\n",
      "(<class 'tuple'>,)\n",
      "(<class 'set'>, typing.MutableSet)\n",
      "(<class 'frozenset'>, typing.AbstractSet)\n",
      "(<class 'dict'>, typing.MutableMapping)\n"
     ]
    }
   ],
   "source": [
    "import typing as tp\n",
    "\n",
    "print(tp.List.__bases__)\n",
    "print(tp.Tuple.__bases__)\n",
    "print(tp.Set.__bases__)\n",
    "print(tp.FrozenSet.__bases__)\n",
    "print(tp.Dict.__bases__)"
   ]
  },
  {
   "cell_type": "code",
   "execution_count": 249,
   "metadata": {
    "collapsed": false
   },
   "outputs": [
    {
     "name": "stdout",
     "output_type": "stream",
     "text": [
      "True\n",
      "True\n",
      "True\n",
      "True\n",
      "True\n",
      "True\n",
      "True\n"
     ]
    }
   ],
   "source": [
    "print(issubclass(list,tp.List))\n",
    "print(issubclass(tuple,tp.Tuple))\n",
    "print(issubclass(set,tp.Set))\n",
    "print(issubclass(set,tp.MutableSet))\n",
    "print(issubclass(frozenset,tp.FrozenSet))\n",
    "print(issubclass(dict,tp.Dict))\n",
    "print(issubclass(dict,tp.MutableMapping))"
   ]
  },
  {
   "cell_type": "code",
   "execution_count": 247,
   "metadata": {
    "collapsed": false
   },
   "outputs": [
    {
     "name": "stdout",
     "output_type": "stream",
     "text": [
      "(<class 'collections.abc.Sequence'>, typing.Reversible, typing.Collection)\n",
      "(<class 'collections.abc.MutableSequence'>, typing.Sequence)\n",
      "(<class 'collections.abc.ByteString'>, typing.Sequence)\n"
     ]
    }
   ],
   "source": [
    "print(tp.Sequence.__bases__)\n",
    "print(tp.MutableSequence.__bases__)\n",
    "print(tp.ByteString.__bases__)"
   ]
  },
  {
   "cell_type": "code",
   "execution_count": 241,
   "metadata": {
    "collapsed": false
   },
   "outputs": [
    {
     "name": "stdout",
     "output_type": "stream",
     "text": [
      "True\n",
      "True\n",
      "True\n",
      "True\n"
     ]
    }
   ],
   "source": [
    "print(issubclass(str,tp.Sequence))\n",
    "print(issubclass(bytes,tp.Sequence))\n",
    "print(issubclass(bytes,tp.ByteString))\n",
    "print(issubclass(bytearray,tp.ByteString))"
   ]
  },
  {
   "cell_type": "markdown",
   "metadata": {},
   "source": [
    "## 예제 13-26  :  문자열, 바이트 처리하는 예시 "
   ]
  },
  {
   "cell_type": "code",
   "execution_count": 90,
   "metadata": {
    "collapsed": false
   },
   "outputs": [
    {
     "name": "stdout",
     "output_type": "stream",
     "text": [
      "typing.TypeVar\n"
     ]
    }
   ],
   "source": [
    "from typing import TypeVar\n",
    "\n",
    "AnyStr = TypeVar('AnyStr', str, bytes)\n",
    "\n",
    "print(type(AnyStr))"
   ]
  },
  {
   "cell_type": "code",
   "execution_count": 245,
   "metadata": {
    "collapsed": false
   },
   "outputs": [
    {
     "name": "stdout",
     "output_type": "stream",
     "text": [
      "Writing String.py\n"
     ]
    }
   ],
   "source": [
    "%%writefile String.py\n",
    "from typing import TypeVar\n",
    "\n",
    "AnyStr = TypeVar('AnyStr', str, bytes)\n",
    "\n",
    "def concat(a: AnyStr, b: AnyStr) -> AnyStr:\n",
    "    \"\"\"\n",
    "    >>> concat(\"foo\", \"bar\")\n",
    "    'foobar'\n",
    "    >>> concat(b\"foo\", b\"bar\")\n",
    "    b'foobar'\n",
    "    >>> concat(\"foo\", b\"bar\")\n",
    "    Traceback (most recent call last):\n",
    "       ...\n",
    "    TypeError: must be str, not bytes\n",
    "    \"\"\"\n",
    "    \n",
    "    return a + b\n"
   ]
  },
  {
   "cell_type": "code",
   "execution_count": 246,
   "metadata": {
    "collapsed": false
   },
   "outputs": [
    {
     "name": "stdout",
     "output_type": "stream",
     "text": [
      "Trying:\n",
      "    concat(\"foo\", \"bar\")\n",
      "Expecting:\n",
      "    'foobar'\n",
      "ok\n",
      "Trying:\n",
      "    concat(b\"foo\", b\"bar\")\n",
      "Expecting:\n",
      "    b'foobar'\n",
      "ok\n",
      "Trying:\n",
      "    concat(\"foo\", b\"bar\")\n",
      "Expecting:\n",
      "    Traceback (most recent call last):\n",
      "       ...\n",
      "    TypeError: must be str, not bytes\n",
      "ok\n",
      "1 items had no tests:\n",
      "    String\n",
      "1 items passed all tests:\n",
      "   3 tests in String.concat\n",
      "3 tests in 2 items.\n",
      "3 passed and 0 failed.\n",
      "Test passed.\n"
     ]
    }
   ],
   "source": [
    "!python -m doctest String.py -v"
   ]
  },
  {
   "cell_type": "code",
   "execution_count": 250,
   "metadata": {
    "collapsed": false
   },
   "outputs": [
    {
     "name": "stdout",
     "output_type": "stream",
     "text": [
      "True\n"
     ]
    }
   ],
   "source": [
    "import typing\n",
    "\n",
    "l : typing.List\n",
    "l = [1,2,3,4]\n",
    "\n",
    "def type_check(l) :\n",
    "    if isinstance(l, typing.List) :\n",
    "        return True\n",
    "    return False\n",
    "\n",
    "print(type_check(l))"
   ]
  },
  {
   "cell_type": "markdown",
   "metadata": {},
   "source": [
    "## 예제 13-27  : 속성 주석을 처리하기\n"
   ]
  },
  {
   "cell_type": "code",
   "execution_count": 251,
   "metadata": {
    "collapsed": false
   },
   "outputs": [
    {
     "name": "stdout",
     "output_type": "stream",
     "text": [
      "{'a': 100}\n"
     ]
    }
   ],
   "source": [
    "d = {}\n",
    "\n",
    "d['a'] : int = 100\n",
    "d['b'] : int\n",
    "    \n",
    "print(d)\n"
   ]
  },
  {
   "cell_type": "code",
   "execution_count": 95,
   "metadata": {
    "collapsed": false
   },
   "outputs": [
    {
     "ename": "KeyError",
     "evalue": "'b'",
     "output_type": "error",
     "traceback": [
      "\u001b[0;31m---------------------------------------------------------------------------\u001b[0m",
      "\u001b[0;31mKeyError\u001b[0m                                  Traceback (most recent call last)",
      "\u001b[0;32m<ipython-input-95-1b78388ab2a7>\u001b[0m in \u001b[0;36m<module>\u001b[0;34m()\u001b[0m\n\u001b[1;32m      2\u001b[0m \u001b[1;33m\u001b[0m\u001b[0m\n\u001b[1;32m      3\u001b[0m \u001b[0md\u001b[0m\u001b[1;33m[\u001b[0m\u001b[1;34m'a'\u001b[0m\u001b[1;33m]\u001b[0m \u001b[1;33m:\u001b[0m \u001b[0mint\u001b[0m \u001b[1;33m=\u001b[0m \u001b[1;36m100\u001b[0m\u001b[1;33m\u001b[0m\u001b[0m\n\u001b[0;32m----> 4\u001b[0;31m \u001b[0md\u001b[0m\u001b[1;33m[\u001b[0m\u001b[1;34m'b'\u001b[0m\u001b[1;33m]\u001b[0m\u001b[1;33m\u001b[0m\u001b[0m\n\u001b[0m\u001b[1;32m      5\u001b[0m \u001b[1;33m\u001b[0m\u001b[0m\n\u001b[1;32m      6\u001b[0m \u001b[0mprint\u001b[0m\u001b[1;33m(\u001b[0m\u001b[0md\u001b[0m\u001b[1;33m)\u001b[0m\u001b[1;33m\u001b[0m\u001b[0m\n",
      "\u001b[0;31mKeyError\u001b[0m: 'b'"
     ]
    }
   ],
   "source": [
    "d = {}\n",
    "\n",
    "d['a'] : int = 100\n",
    "d['b'] \n",
    "    \n",
    "print(d)"
   ]
  },
  {
   "cell_type": "code",
   "execution_count": 253,
   "metadata": {
    "collapsed": false
   },
   "outputs": [
    {
     "name": "stdout",
     "output_type": "stream",
     "text": [
      "mappingproxy({'__dict__': <attribute '__dict__' of 'Klass' objects>,\n",
      "              '__doc__': None,\n",
      "              '__module__': '__main__',\n",
      "              '__weakref__': <attribute '__weakref__' of 'Klass' objects>,\n",
      "              'a': 100})\n"
     ]
    }
   ],
   "source": [
    "import pprint\n",
    "\n",
    "class Klass :\n",
    "    pass\n",
    "\n",
    "Klass.a : int = 100\n",
    "Klass.b : int\n",
    "    \n",
    "pprint.pprint(Klass.__dict__)"
   ]
  },
  {
   "cell_type": "code",
   "execution_count": 254,
   "metadata": {
    "collapsed": false
   },
   "outputs": [
    {
     "name": "stdout",
     "output_type": "stream",
     "text": [
      "{'a': 100}\n"
     ]
    }
   ],
   "source": [
    "class Klass :\n",
    "    pass\n",
    "\n",
    "c = Klass()\n",
    "\n",
    "c.a : int = 100\n",
    "c.b : int\n",
    "    \n",
    "print(c.__dict__)"
   ]
  },
  {
   "cell_type": "markdown",
   "metadata": {},
   "source": [
    "## 예제 13-28  :  새로운 타입을 생성해 보기 \n"
   ]
  },
  {
   "cell_type": "code",
   "execution_count": 258,
   "metadata": {
    "collapsed": false
   },
   "outputs": [
    {
     "name": "stdout",
     "output_type": "stream",
     "text": [
      "(typing._TypingBase,)\n",
      "<class 'typing.TypingMeta'>\n",
      "True\n"
     ]
    }
   ],
   "source": [
    "from typing import TypeVar\n",
    "\n",
    "print(TypeVar.__bases__)\n",
    "print(TypeVar.__class__)\n",
    "print(isinstance(TypeVar, type))"
   ]
  },
  {
   "cell_type": "code",
   "execution_count": 266,
   "metadata": {
    "collapsed": false
   },
   "outputs": [
    {
     "name": "stdout",
     "output_type": "stream",
     "text": [
      "~T typing.TypeVar\n",
      "(<class 'str'>, <class 'bytes'>)\n"
     ]
    }
   ],
   "source": [
    "from typing import TypeVar\n",
    "\n",
    "T = TypeVar(\"T\", str,bytes)\n",
    "\n",
    "print(T, type(T))\n",
    "print(T.__constraints__)"
   ]
  },
  {
   "cell_type": "code",
   "execution_count": 268,
   "metadata": {
    "collapsed": true
   },
   "outputs": [],
   "source": [
    "def repeat(x: T, y:int) -> T  :\n",
    "    if type(x) in T.__constraints__ :\n",
    "        return x *y\n",
    "    else :\n",
    "        return TypeError(\" type error\")\n",
    "    "
   ]
  },
  {
   "cell_type": "code",
   "execution_count": 269,
   "metadata": {
    "collapsed": false
   },
   "outputs": [
    {
     "name": "stdout",
     "output_type": "stream",
     "text": [
      "strstrstr\n",
      "b'strstrstr'\n"
     ]
    }
   ],
   "source": [
    "print(repeat(\"str\",3))\n",
    "print(repeat(b\"str\",3))"
   ]
  },
  {
   "cell_type": "markdown",
   "metadata": {},
   "source": [
    "## 예제 13-29  : Sequence 자료형 내부 첫 번째 원소 출력\n"
   ]
  },
  {
   "cell_type": "code",
   "execution_count": 277,
   "metadata": {
    "collapsed": true
   },
   "outputs": [],
   "source": [
    "from typing import TypeVar, List\n",
    "\n",
    "T = TypeVar(\"T\", int,int)\n",
    "\n",
    "def first(l:List[T]) -> T :\n",
    "    if issubclass(type(l),List) :\n",
    "        if type(l[0]) in T.__constraints__ :\n",
    "            return l[0]\n",
    "        else :\n",
    "            return \" Type error\""
   ]
  },
  {
   "cell_type": "code",
   "execution_count": 278,
   "metadata": {
    "collapsed": false
   },
   "outputs": [
    {
     "name": "stdout",
     "output_type": "stream",
     "text": [
      "1\n"
     ]
    }
   ],
   "source": [
    "print(first([1,2,3]))"
   ]
  },
  {
   "cell_type": "markdown",
   "metadata": {
    "collapsed": true
   },
   "source": [
    "## 예제 13-30  :  global/nonlocal 키워드 사용시 예외 발생 \n"
   ]
  },
  {
   "cell_type": "code",
   "execution_count": 1,
   "metadata": {
    "collapsed": true
   },
   "outputs": [],
   "source": [
    "from typing import List\n",
    "\n",
    "some_list : List[int] = []\n",
    "    \n",
    "def add(x,y) :\n",
    "    some_list = x+y\n",
    "    return some_list\n"
   ]
  },
  {
   "cell_type": "code",
   "execution_count": 2,
   "metadata": {
    "collapsed": false
   },
   "outputs": [
    {
     "name": "stdout",
     "output_type": "stream",
     "text": [
      "[5, 5]\n"
     ]
    }
   ],
   "source": [
    "print(add([5],[5]))"
   ]
  },
  {
   "cell_type": "code",
   "execution_count": 3,
   "metadata": {
    "collapsed": false
   },
   "outputs": [
    {
     "ename": "SyntaxError",
     "evalue": "invalid syntax (<ipython-input-3-56eef41f5e44>, line 6)",
     "output_type": "error",
     "traceback": [
      "\u001b[0;36m  File \u001b[0;32m\"<ipython-input-3-56eef41f5e44>\"\u001b[0;36m, line \u001b[0;32m6\u001b[0m\n\u001b[0;31m    global x : List[int]\u001b[0m\n\u001b[0m             ^\u001b[0m\n\u001b[0;31mSyntaxError\u001b[0m\u001b[0;31m:\u001b[0m invalid syntax\n"
     ]
    }
   ],
   "source": [
    "from typing import List\n",
    "\n",
    "x : List[int] = []\n",
    "\n",
    "def f() :\n",
    "    global x : List[int]\n",
    "        \n",
    "    return x\n",
    "\n",
    "print(f())"
   ]
  },
  {
   "cell_type": "code",
   "execution_count": 4,
   "metadata": {
    "collapsed": false
   },
   "outputs": [
    {
     "ename": "SyntaxError",
     "evalue": "invalid syntax (<ipython-input-4-f2505dbf66d0>, line 3)",
     "output_type": "error",
     "traceback": [
      "\u001b[0;36m  File \u001b[0;32m\"<ipython-input-4-f2505dbf66d0>\"\u001b[0;36m, line \u001b[0;32m3\u001b[0m\n\u001b[0;31m    nonlocal x : ing\u001b[0m\n\u001b[0m               ^\u001b[0m\n\u001b[0;31mSyntaxError\u001b[0m\u001b[0;31m:\u001b[0m invalid syntax\n"
     ]
    }
   ],
   "source": [
    "def outer(x) :\n",
    "    def inner(y) :\n",
    "        nonlocal x : ing\n",
    "        return x+y\n",
    "    return inner\n",
    "\n",
    "a = outer(5)\n",
    "print(a(7))"
   ]
  },
  {
   "cell_type": "code",
   "execution_count": null,
   "metadata": {
    "collapsed": true
   },
   "outputs": [],
   "source": []
  }
 ],
 "metadata": {
  "kernelspec": {
   "display_name": "Python 3",
   "language": "python",
   "name": "python3"
  },
  "language_info": {
   "codemirror_mode": {
    "name": "ipython",
    "version": 3
   },
   "file_extension": ".py",
   "mimetype": "text/x-python",
   "name": "python",
   "nbconvert_exporter": "python",
   "pygments_lexer": "ipython3",
   "version": "3.6.0"
  }
 },
 "nbformat": 4,
 "nbformat_minor": 2
}
