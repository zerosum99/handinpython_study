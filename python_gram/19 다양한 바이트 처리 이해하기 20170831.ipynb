{
 "cells": [
  {
   "cell_type": "markdown",
   "metadata": {},
   "source": [
    "## 예제 19-1 :   array 모듈 확인하기\n"
   ]
  },
  {
   "cell_type": "code",
   "execution_count": 3,
   "metadata": {},
   "outputs": [
    {
     "name": "stdout",
     "output_type": "stream",
     "text": [
      "<module 'array' (built-in)>\n",
      "ArrayType\n",
      "array\n",
      "typecodes\n"
     ]
    }
   ],
   "source": [
    "import array\n",
    "\n",
    "print(array)\n",
    "\n",
    "for i in dir(array) :\n",
    "    if not i.startswith(\"_\") :\n",
    "        print(i)"
   ]
  },
  {
   "cell_type": "code",
   "execution_count": 17,
   "metadata": {},
   "outputs": [
    {
     "name": "stdout",
     "output_type": "stream",
     "text": [
      "<class 'array.array'>\n",
      "True\n"
     ]
    }
   ],
   "source": [
    "print(array.ArrayType)\n",
    "\n",
    "a = array.array(\"i\",[1,2,3]) \n",
    "print(type(a) == array.ArrayType)"
   ]
  },
  {
   "cell_type": "code",
   "execution_count": 20,
   "metadata": {},
   "outputs": [
    {
     "name": "stdout",
     "output_type": "stream",
     "text": [
      "bBuhHiIlLqQfd\n",
      "array('b', [1, 2, 3])\n",
      "array('B', [1, 2, 3])\n",
      "array('u', '가나다')\n",
      "array('h', [1, 2, 3])\n",
      "array('H', [1, 2, 3])\n",
      "array('i', [1, 2, 3])\n",
      "array('I', [1, 2, 3])\n",
      "array('l', [1, 2, 3])\n",
      "array('L', [1, 2, 3])\n",
      "array('q', [1, 2, 3])\n",
      "array('Q', [1, 2, 3])\n",
      "array('f', [1.0, 2.0, 3.0])\n",
      "array('d', [1.0, 2.0, 3.0])\n"
     ]
    }
   ],
   "source": [
    "print(array.typecodes)\n",
    "\n",
    "for i in array.typecodes :\n",
    "    if i != \"u\" : \n",
    "        a = array.array(i,[1,2,3]) \n",
    "    else :\n",
    "        a = array.array(i,['가','나','다'])\n",
    "    print(a)"
   ]
  },
  {
   "cell_type": "markdown",
   "metadata": {},
   "source": [
    "## 예제 19-2 :   array 모듈 array 클래스 이해하기\n"
   ]
  },
  {
   "cell_type": "code",
   "execution_count": 22,
   "metadata": {},
   "outputs": [
    {
     "name": "stdout",
     "output_type": "stream",
     "text": [
      "append buffer_info byteswap count \n",
      "extend frombytes fromfile fromlist fromstring \n",
      "fromunicode index insert itemsize pop \n",
      "remove reverse tobytes tofile tolist \n",
      "tostring tounicode typecode "
     ]
    }
   ],
   "source": [
    "import array\n",
    "\n",
    "count = 1\n",
    "for i in dir(array.ArrayType) :\n",
    "    if not i.startswith(\"_\") :\n",
    "        if count % 5 == 0 :\n",
    "            print()\n",
    "        print(i, end=\" \")\n",
    "        count += 1"
   ]
  },
  {
   "cell_type": "code",
   "execution_count": 36,
   "metadata": {},
   "outputs": [
    {
     "name": "stdout",
     "output_type": "stream",
     "text": [
      "itemsize tounicode tostring typecode \n",
      "byteswap fromunicode tolist tobytes fromstring \n",
      "tofile fromlist frombytes buffer_info fromfile "
     ]
    }
   ],
   "source": [
    "sl = set(dir(list))\n",
    "sa = set(dir(array.ArrayType))\n",
    "\n",
    "count = 1\n",
    "for i in sa - sl :\n",
    "    if not i.startswith(\"_\") :\n",
    "        if count % 5 == 0 :\n",
    "            print()\n",
    "        print(i, end=\" \")\n",
    "        count += 1\n",
    "       "
   ]
  },
  {
   "cell_type": "code",
   "execution_count": 29,
   "metadata": {},
   "outputs": [
    {
     "name": "stdout",
     "output_type": "stream",
     "text": [
      "88283824\n",
      "(74726904, 3)\n",
      "74726904\n",
      "b\n",
      "1\n"
     ]
    }
   ],
   "source": [
    "a = array.array(\"b\",[1,2,3])\n",
    "\n",
    "print(id(a))\n",
    "\n",
    "print(a.buffer_info())\n",
    "print(a.buffer_info()[0])\n",
    "\n",
    "print(a.typecode)\n",
    "print(a.itemsize)"
   ]
  },
  {
   "cell_type": "markdown",
   "metadata": {},
   "source": [
    "## 예제 19-3 :  배열의 생성, 추가, 삭제 처리\n"
   ]
  },
  {
   "cell_type": "code",
   "execution_count": 43,
   "metadata": {},
   "outputs": [
    {
     "name": "stdout",
     "output_type": "stream",
     "text": [
      "reverse pop insert remove \n",
      "count extend index append "
     ]
    }
   ],
   "source": [
    "sl = set(dir(list))\n",
    "sa = set(dir(array.ArrayType))\n",
    "\n",
    "count = 1\n",
    "for i in sa & sl :\n",
    "    if not i.startswith(\"_\") :\n",
    "        if count % 5 == 0 :\n",
    "            print()\n",
    "        print(i, end=\" \")\n",
    "        count += 1"
   ]
  },
  {
   "cell_type": "code",
   "execution_count": 5,
   "metadata": {},
   "outputs": [
    {
     "name": "stdout",
     "output_type": "stream",
     "text": [
      "array('i', [1, 2, 3, 4])\n",
      "4\n",
      "i\n"
     ]
    }
   ],
   "source": [
    "import array\n",
    "\n",
    "a = array.array(\"i\",[1,2,3,4]) \n",
    "\n",
    "print(a)\n",
    "print(a.itemsize)\n",
    "print(a.typecode)"
   ]
  },
  {
   "cell_type": "code",
   "execution_count": 2,
   "metadata": {},
   "outputs": [
    {
     "name": "stdout",
     "output_type": "stream",
     "text": [
      "array('i', [1, 2, 3, 4, 5])\n",
      "array('i', [1, 2, 3, 4])\n",
      "array('i', [1, 2, 99, 3, 4])\n",
      "array('i', [1, 2, 3, 4])\n"
     ]
    }
   ],
   "source": [
    "a.append(5)\n",
    "print(a)\n",
    "\n",
    "a.pop()\n",
    "print(a)\n",
    "\n",
    "a.insert(2,99)\n",
    "print(a)\n",
    "\n",
    "a.remove(99)\n",
    "print(a)\n"
   ]
  },
  {
   "cell_type": "code",
   "execution_count": 3,
   "metadata": {},
   "outputs": [
    {
     "name": "stdout",
     "output_type": "stream",
     "text": [
      "array('i', [4, 3, 2, 1])\n",
      "1 0\n"
     ]
    }
   ],
   "source": [
    "a.reverse()\n",
    "print(a)\n",
    "print(a.count(4), a.index(4))"
   ]
  },
  {
   "cell_type": "code",
   "execution_count": 7,
   "metadata": {},
   "outputs": [
    {
     "name": "stdout",
     "output_type": "stream",
     "text": [
      "array('i', [4, 3, 2, 1])\n",
      "4\n",
      "False\n",
      "array('i', [4, 3, 2, 1])\n"
     ]
    }
   ],
   "source": [
    "print(a)\n",
    "\n",
    "print(a[0])\n",
    "b = a[:]\n",
    "print(a is b)\n",
    "print(b)\n"
   ]
  },
  {
   "cell_type": "code",
   "execution_count": 8,
   "metadata": {},
   "outputs": [
    {
     "name": "stdout",
     "output_type": "stream",
     "text": [
      "array('i', [3, 4])\n",
      "array('i', [4, 3, 3, 4])\n",
      "array('i', [1, 2, 3, 4])\n"
     ]
    }
   ],
   "source": [
    "c = slice(2,4)\n",
    "a.reverse()\n",
    "print(a[2:4])\n",
    "b[c] = a[2:4]\n",
    "print(b)\n",
    "print(a)"
   ]
  },
  {
   "cell_type": "markdown",
   "metadata": {},
   "source": [
    "## 예제 19-4 :  문자 배열을 만들기\n"
   ]
  },
  {
   "cell_type": "code",
   "execution_count": 9,
   "metadata": {},
   "outputs": [
    {
     "ename": "TypeError",
     "evalue": "an integer is required (got type str)",
     "output_type": "error",
     "traceback": [
      "\u001b[0;31m---------------------------------------------------------------------------\u001b[0m",
      "\u001b[0;31mTypeError\u001b[0m                                 Traceback (most recent call last)",
      "\u001b[0;32m<ipython-input-9-c06e4b55a478>\u001b[0m in \u001b[0;36m<module>\u001b[0;34m()\u001b[0m\n\u001b[1;32m      1\u001b[0m \u001b[1;32mimport\u001b[0m \u001b[0marray\u001b[0m\u001b[1;33m\u001b[0m\u001b[0m\n\u001b[1;32m      2\u001b[0m \u001b[1;33m\u001b[0m\u001b[0m\n\u001b[0;32m----> 3\u001b[0;31m \u001b[0mb\u001b[0m \u001b[1;33m=\u001b[0m \u001b[0marray\u001b[0m\u001b[1;33m.\u001b[0m\u001b[0marray\u001b[0m\u001b[1;33m(\u001b[0m\u001b[1;34m'b'\u001b[0m\u001b[1;33m,\u001b[0m \u001b[1;33m[\u001b[0m\u001b[1;34m'a'\u001b[0m\u001b[1;33m,\u001b[0m\u001b[1;34m'b'\u001b[0m\u001b[1;33m,\u001b[0m\u001b[1;34m'c'\u001b[0m\u001b[1;33m,\u001b[0m\u001b[1;34m'd'\u001b[0m\u001b[1;33m]\u001b[0m\u001b[1;33m)\u001b[0m\u001b[1;33m\u001b[0m\u001b[0m\n\u001b[0m\u001b[1;32m      4\u001b[0m \u001b[0mprint\u001b[0m\u001b[1;33m(\u001b[0m\u001b[0mb\u001b[0m\u001b[1;33m)\u001b[0m\u001b[1;33m\u001b[0m\u001b[0m\n\u001b[1;32m      5\u001b[0m \u001b[0mprint\u001b[0m\u001b[1;33m(\u001b[0m\u001b[0mb\u001b[0m\u001b[1;33m.\u001b[0m\u001b[0mitemsize\u001b[0m\u001b[1;33m)\u001b[0m\u001b[1;33m\u001b[0m\u001b[0m\n",
      "\u001b[0;31mTypeError\u001b[0m: an integer is required (got type str)"
     ]
    }
   ],
   "source": [
    "import array\n",
    "\n",
    "b = array.array('b', ['a','b','c','d'])\n",
    "print(b)\n",
    "print(b.itemsize)"
   ]
  },
  {
   "cell_type": "code",
   "execution_count": 10,
   "metadata": {},
   "outputs": [
    {
     "ename": "TypeError",
     "evalue": "an integer is required (got type bytes)",
     "output_type": "error",
     "traceback": [
      "\u001b[0;31m---------------------------------------------------------------------------\u001b[0m",
      "\u001b[0;31mTypeError\u001b[0m                                 Traceback (most recent call last)",
      "\u001b[0;32m<ipython-input-10-407b98bb32d6>\u001b[0m in \u001b[0;36m<module>\u001b[0;34m()\u001b[0m\n\u001b[1;32m      1\u001b[0m \u001b[1;32mimport\u001b[0m \u001b[0marray\u001b[0m\u001b[1;33m\u001b[0m\u001b[0m\n\u001b[1;32m      2\u001b[0m \u001b[1;33m\u001b[0m\u001b[0m\n\u001b[0;32m----> 3\u001b[0;31m \u001b[0mb\u001b[0m \u001b[1;33m=\u001b[0m \u001b[0marray\u001b[0m\u001b[1;33m.\u001b[0m\u001b[0marray\u001b[0m\u001b[1;33m(\u001b[0m\u001b[1;34m'b'\u001b[0m\u001b[1;33m,\u001b[0m \u001b[1;33m[\u001b[0m\u001b[1;34mb'a'\u001b[0m\u001b[1;33m,\u001b[0m\u001b[1;34mb'b'\u001b[0m\u001b[1;33m,\u001b[0m\u001b[1;34mb'c'\u001b[0m\u001b[1;33m,\u001b[0m\u001b[1;34mb'd'\u001b[0m\u001b[1;33m]\u001b[0m\u001b[1;33m)\u001b[0m\u001b[1;33m\u001b[0m\u001b[0m\n\u001b[0m\u001b[1;32m      4\u001b[0m \u001b[0mprint\u001b[0m\u001b[1;33m(\u001b[0m\u001b[0mb\u001b[0m\u001b[1;33m)\u001b[0m\u001b[1;33m\u001b[0m\u001b[0m\n\u001b[1;32m      5\u001b[0m \u001b[0mprint\u001b[0m\u001b[1;33m(\u001b[0m\u001b[0mb\u001b[0m\u001b[1;33m.\u001b[0m\u001b[0mitemsize\u001b[0m\u001b[1;33m)\u001b[0m\u001b[1;33m\u001b[0m\u001b[0m\n",
      "\u001b[0;31mTypeError\u001b[0m: an integer is required (got type bytes)"
     ]
    }
   ],
   "source": [
    "import array\n",
    "\n",
    "b = array.array('b', [b'a',b'b',b'c',b'd'])\n",
    "print(b)\n",
    "print(b.itemsize)"
   ]
  },
  {
   "cell_type": "code",
   "execution_count": 82,
   "metadata": {},
   "outputs": [
    {
     "name": "stdout",
     "output_type": "stream",
     "text": [
      "array('b', [97, 98, 99, 100])\n",
      "1\n",
      "array('B', [97, 98, 99, 100])\n",
      "1\n"
     ]
    }
   ],
   "source": [
    "import array\n",
    "\n",
    "b = array.array('b',map(ord,['a','b','c','d']))\n",
    "print(b)\n",
    "print(b.itemsize)\n",
    "\n",
    "B = array.array('B',map(ord,['a','b','c','d']))\n",
    "print(B)\n",
    "print(B.itemsize)"
   ]
  },
  {
   "cell_type": "code",
   "execution_count": 13,
   "metadata": {},
   "outputs": [
    {
     "name": "stdout",
     "output_type": "stream",
     "text": [
      "array('u', '가을이란')\n",
      "2\n"
     ]
    }
   ],
   "source": [
    "import array\n",
    "\n",
    "u = array.array('u', \"가을이란\")\n",
    "print(u)\n",
    "print(u.itemsize)"
   ]
  },
  {
   "cell_type": "code",
   "execution_count": 14,
   "metadata": {},
   "outputs": [
    {
     "name": "stdout",
     "output_type": "stream",
     "text": [
      "array('u', '扡摣')\n",
      "2\n"
     ]
    }
   ],
   "source": [
    "import array\n",
    "\n",
    "u = array.array('u', b\"abcd\")\n",
    "print(u)\n",
    "print(u.itemsize)"
   ]
  },
  {
   "cell_type": "markdown",
   "metadata": {},
   "source": [
    "## 예제 19-5 :  숫자 배열을 만들기\n"
   ]
  },
  {
   "cell_type": "code",
   "execution_count": 84,
   "metadata": {},
   "outputs": [
    {
     "name": "stdout",
     "output_type": "stream",
     "text": [
      "array('h', [1, 2, 3, 4])\n",
      "2\n",
      "array('H', [1, 2, 3, 4])\n",
      "2\n"
     ]
    }
   ],
   "source": [
    "b = array.array('h',[1,2,3,4])\n",
    "print(b)\n",
    "print(b.itemsize)\n",
    "\n",
    "B = array.array('H',[1,2,3,4])\n",
    "print(B)\n",
    "print(B.itemsize)"
   ]
  },
  {
   "cell_type": "code",
   "execution_count": 85,
   "metadata": {},
   "outputs": [
    {
     "name": "stdout",
     "output_type": "stream",
     "text": [
      "array('i', [1, 2, 3, 4])\n",
      "4\n",
      "array('I', [1, 2, 3, 4])\n",
      "4\n"
     ]
    }
   ],
   "source": [
    "b = array.array('i',[1,2,3,4])\n",
    "print(b)\n",
    "print(b.itemsize)\n",
    "\n",
    "B = array.array('I',[1,2,3,4])\n",
    "print(B)\n",
    "print(B.itemsize)"
   ]
  },
  {
   "cell_type": "code",
   "execution_count": 86,
   "metadata": {},
   "outputs": [
    {
     "name": "stdout",
     "output_type": "stream",
     "text": [
      "array('l', [1, 2, 3, 4])\n",
      "4\n",
      "array('L', [1, 2, 3, 4])\n",
      "4\n"
     ]
    }
   ],
   "source": [
    "b = array.array('l',[1,2,3,4])\n",
    "print(b)\n",
    "print(b.itemsize)\n",
    "\n",
    "B = array.array('L',[1,2,3,4])\n",
    "print(B)\n",
    "print(B.itemsize)"
   ]
  },
  {
   "cell_type": "code",
   "execution_count": 87,
   "metadata": {},
   "outputs": [
    {
     "name": "stdout",
     "output_type": "stream",
     "text": [
      "array('q', [1, 2, 3, 4])\n",
      "8\n",
      "array('Q', [1, 2, 3, 4])\n",
      "8\n"
     ]
    }
   ],
   "source": [
    "b = array.array('q',[1,2,3,4])\n",
    "print(b)\n",
    "print(b.itemsize)\n",
    "\n",
    "B = array.array('Q',[1,2,3,4])\n",
    "print(B)\n",
    "print(B.itemsize)"
   ]
  },
  {
   "cell_type": "code",
   "execution_count": 88,
   "metadata": {},
   "outputs": [
    {
     "name": "stdout",
     "output_type": "stream",
     "text": [
      "array('f', [1.0, 2.0, 3.0, 4.0])\n",
      "4\n",
      "array('d', [1.0, 2.0, 3.0, 4.0])\n",
      "8\n"
     ]
    }
   ],
   "source": [
    "b = array.array('f',[1,2,3,4])\n",
    "print(b)\n",
    "print(b.itemsize)\n",
    "\n",
    "B = array.array('d',[1,2,3,4])\n",
    "print(B)\n",
    "print(B.itemsize)"
   ]
  },
  {
   "cell_type": "markdown",
   "metadata": {},
   "source": [
    "## 예제 19-6 :  파이썬 자료형을 이용해서 처리하기"
   ]
  },
  {
   "cell_type": "code",
   "execution_count": 93,
   "metadata": {},
   "outputs": [
    {
     "name": "stdout",
     "output_type": "stream",
     "text": [
      "array('i', [1, 2, 3, 4])\n",
      "b'\\x01\\x00\\x00\\x00\\x02\\x00\\x00\\x00\\x03\\x00\\x00\\x00\\x04\\x00\\x00\\x00'\n",
      "b'\\x01\\x00\\x00\\x00\\x02\\x00\\x00\\x00\\x03\\x00\\x00\\x00\\x04\\x00\\x00\\x00'\n"
     ]
    }
   ],
   "source": [
    "import array \n",
    "\n",
    "b = array.array('i',[1,2,3,4])\n",
    "print(b)\n",
    "\n",
    "to_s = b.tostring()\n",
    "print(to_s)\n",
    "to_b = b.tobytes()\n",
    "print(to_b)"
   ]
  },
  {
   "cell_type": "code",
   "execution_count": 94,
   "metadata": {},
   "outputs": [
    {
     "name": "stdout",
     "output_type": "stream",
     "text": [
      "array('u', '가을이라')\n",
      "b'\\x00\\xacD\\xc7t\\xc7|\\xb7'\n",
      "b'\\x00\\xacD\\xc7t\\xc7|\\xb7'\n"
     ]
    }
   ],
   "source": [
    "import array \n",
    "\n",
    "b = array.array('u',\"가을이라\")\n",
    "print(b)\n",
    "\n",
    "to_s = b.tostring()\n",
    "print(to_s)\n",
    "to_b = b.tobytes()\n",
    "print(to_b)"
   ]
  },
  {
   "cell_type": "code",
   "execution_count": 17,
   "metadata": {},
   "outputs": [
    {
     "name": "stdout",
     "output_type": "stream",
     "text": [
      "array('u')\n",
      "array('u', '겨울이라')\n",
      "b'\\xa8\\xac\\xb8\\xc6t\\xc7|\\xb7'\n"
     ]
    }
   ],
   "source": [
    "s = \"겨울이라\"\n",
    "b = array.array('u',\"\")\n",
    "print(b)\n",
    "b.fromunicode(s)\n",
    "print(b)\n",
    "print(b.tostring())"
   ]
  },
  {
   "cell_type": "code",
   "execution_count": 16,
   "metadata": {},
   "outputs": [
    {
     "name": "stdout",
     "output_type": "stream",
     "text": [
      "b'\\xa8\\xac\\xb8\\xc6t\\xc7|\\xb7'\n",
      "array('u', '겨울이라겨울이라')\n"
     ]
    }
   ],
   "source": [
    "sb = b.tobytes()\n",
    "print(sb)\n",
    "\n",
    "b.frombytes(sb)\n",
    "print(b)"
   ]
  },
  {
   "cell_type": "code",
   "execution_count": 18,
   "metadata": {},
   "outputs": [
    {
     "name": "stdout",
     "output_type": "stream",
     "text": [
      "array('i', [1, 2, 3, 4])\n",
      "[1, 2, 3, 4]\n"
     ]
    }
   ],
   "source": [
    "l = [1,2,3,4]\n",
    "\n",
    "b = array.array(\"i\")\n",
    "\n",
    "b.fromlist(l)\n",
    "print(b)\n",
    "print(b.tolist())"
   ]
  },
  {
   "cell_type": "code",
   "execution_count": 19,
   "metadata": {},
   "outputs": [
    {
     "name": "stdout",
     "output_type": "stream",
     "text": [
      "array('f', [1.0, 2.0, 3.0, 4.0])\n",
      "[1.0, 2.0, 3.0, 4.0]\n"
     ]
    }
   ],
   "source": [
    "f = [1.0,2.0,3.0,4.0]\n",
    "c = array.array(\"f\")\n",
    "\n",
    "c.fromlist(f)\n",
    "print(c)\n",
    "print(c.tolist())"
   ]
  },
  {
   "cell_type": "markdown",
   "metadata": {},
   "source": [
    "## 예제 19-7 :  파일 처리하기\n"
   ]
  },
  {
   "cell_type": "code",
   "execution_count": 23,
   "metadata": {},
   "outputs": [],
   "source": [
    "import array\n",
    "\n",
    "a = array.array(\"i\",[1,2,3,4,5])\n",
    "\n",
    "with open(\"array.bin\",\"wb\") as f :\n",
    "    f.write(a)\n",
    "    "
   ]
  },
  {
   "cell_type": "code",
   "execution_count": 24,
   "metadata": {},
   "outputs": [
    {
     "name": "stdout",
     "output_type": "stream",
     "text": [
      "20\n",
      "array('i', [1, 2, 3, 4, 5, 0, 0])\n"
     ]
    }
   ],
   "source": [
    "c = array.array(\"i\",[0,0,0,0,0,0,0])\n",
    "\n",
    "with open(\"array.bin\",\"rb\") as f :\n",
    "    print(f.readinto(c))\n",
    "    \n",
    "print(c)    "
   ]
  },
  {
   "cell_type": "code",
   "execution_count": 127,
   "metadata": {},
   "outputs": [
    {
     "name": "stdout",
     "output_type": "stream",
     "text": [
      "20\n",
      "bytearray(b'\\x01\\x00\\x00\\x00\\x02\\x00\\x00\\x00\\x03\\x00\\x00\\x00\\x04\\x00\\x00\\x00\\x05\\x00\\x00\\x00')\n",
      "array('i', [1, 2, 3, 4, 5])\n"
     ]
    }
   ],
   "source": [
    "bb = bytearray(20) \n",
    "\n",
    "with open(\"array.bin\",\"rb\") as f :\n",
    "    print(f.readinto(bb))\n",
    "    \n",
    "print(bb)    \n",
    "\n",
    "a = array.array('i', bb)\n",
    "print(a)"
   ]
  },
  {
   "cell_type": "code",
   "execution_count": 123,
   "metadata": {},
   "outputs": [
    {
     "name": "stdout",
     "output_type": "stream",
     "text": [
      "array('i', [99, 99, 1, 2, 3, 4, 5, 6])\n"
     ]
    }
   ],
   "source": [
    "import array\n",
    "\n",
    "b = array.array(\"i\",[1,2,3,4,5,6])\n",
    "with open(\"array.bin\",\"wb\") as f :\n",
    "    b.tofile(f)\n",
    "\n",
    "c = array.array(\"i\",[99,99])\n",
    "with open(\"array.bin\",\"rb\") as f :\n",
    "    c.fromfile(f,6)    \n",
    "    \n",
    "print(c)"
   ]
  },
  {
   "cell_type": "markdown",
   "metadata": {},
   "source": [
    "## 예제 19-8  :  바이트 자료형일 경우만 처리\n"
   ]
  },
  {
   "cell_type": "code",
   "execution_count": 131,
   "metadata": {},
   "outputs": [
    {
     "ename": "TypeError",
     "evalue": "memoryview: a bytes-like object is required, not 'str'",
     "output_type": "error",
     "traceback": [
      "\u001b[0;31m---------------------------------------------------------------------------\u001b[0m",
      "\u001b[0;31mTypeError\u001b[0m                                 Traceback (most recent call last)",
      "\u001b[0;32m<ipython-input-131-9f92930fea9e>\u001b[0m in \u001b[0;36m<module>\u001b[0;34m()\u001b[0m\n\u001b[1;32m      1\u001b[0m \u001b[0ms\u001b[0m \u001b[1;33m=\u001b[0m \u001b[1;34m\"가을이라\"\u001b[0m\u001b[1;33m\u001b[0m\u001b[0m\n\u001b[1;32m      2\u001b[0m \u001b[1;33m\u001b[0m\u001b[0m\n\u001b[0;32m----> 3\u001b[0;31m \u001b[0mbm\u001b[0m \u001b[1;33m=\u001b[0m \u001b[0mmemoryview\u001b[0m\u001b[1;33m(\u001b[0m\u001b[0ms\u001b[0m\u001b[1;33m)\u001b[0m\u001b[1;33m\u001b[0m\u001b[0m\n\u001b[0m\u001b[1;32m      4\u001b[0m \u001b[0mprint\u001b[0m\u001b[1;33m(\u001b[0m\u001b[0mbm\u001b[0m\u001b[1;33m)\u001b[0m\u001b[1;33m\u001b[0m\u001b[0m\n",
      "\u001b[0;31mTypeError\u001b[0m: memoryview: a bytes-like object is required, not 'str'"
     ]
    }
   ],
   "source": [
    "s = \"가을이라\"\n",
    "\n",
    "bm = memoryview(s) \n",
    "print(bm)"
   ]
  },
  {
   "cell_type": "code",
   "execution_count": 135,
   "metadata": {},
   "outputs": [
    {
     "name": "stdout",
     "output_type": "stream",
     "text": [
      "<memory at 0x0000000005811D08>\n",
      "b'\\xea\\xb0\\x80\\xec\\x9d\\x84\\xec\\x9d\\xb4\\xeb\\x9d\\xbc'\n",
      "가을이라\n"
     ]
    }
   ],
   "source": [
    "s = \"가을이라\"\n",
    "\n",
    "bm = memoryview(s.encode()) \n",
    "print(bm)\n",
    "\n",
    "print(bm.obj)\n",
    "print(bytes(bm.obj).decode())"
   ]
  },
  {
   "cell_type": "markdown",
   "metadata": {},
   "source": [
    "## 예제 19-9  :  다양한 바이트 자료형에 대한 view 처리 \n"
   ]
  },
  {
   "cell_type": "code",
   "execution_count": 143,
   "metadata": {},
   "outputs": [
    {
     "name": "stdout",
     "output_type": "stream",
     "text": [
      "4\n",
      "4\n",
      "16\n",
      "i\n",
      "False\n"
     ]
    }
   ],
   "source": [
    "import array \n",
    "\n",
    "a = array.array('i',[1,2,3,4])\n",
    "\n",
    "b = memoryview(a)\n",
    "\n",
    "print(len(b))\n",
    "print(b.itemsize)\n",
    "print(b.nbytes)\n",
    "print(b.format)\n",
    "print(b.readonly)"
   ]
  },
  {
   "cell_type": "code",
   "execution_count": 26,
   "metadata": {},
   "outputs": [
    {
     "name": "stdout",
     "output_type": "stream",
     "text": [
      "c_contiguous\n",
      "cast\n",
      "contiguous\n",
      "f_contiguous\n",
      "format\n",
      "hex\n",
      "itemsize\n",
      "nbytes\n",
      "ndim\n",
      "obj\n",
      "readonly\n",
      "release\n",
      "shape\n",
      "strides\n",
      "suboffsets\n",
      "tobytes\n",
      "tolist\n"
     ]
    }
   ],
   "source": [
    "for i in dir(memoryview) :\n",
    "    if not i.startswith(\"_\") :\n",
    "        print(i)"
   ]
  },
  {
   "cell_type": "code",
   "execution_count": 25,
   "metadata": {},
   "outputs": [
    {
     "name": "stdout",
     "output_type": "stream",
     "text": [
      "4\n",
      "1\n",
      "4\n",
      "B\n",
      "False\n"
     ]
    }
   ],
   "source": [
    "a = bytearray(b\"abcd\")\n",
    "\n",
    "b = memoryview(a)\n",
    "\n",
    "print(len(b))\n",
    "print(b.itemsize)\n",
    "print(b.nbytes)\n",
    "print(b.format)\n",
    "print(b.readonly)"
   ]
  },
  {
   "cell_type": "code",
   "execution_count": 164,
   "metadata": {},
   "outputs": [
    {
     "name": "stdout",
     "output_type": "stream",
     "text": [
      "bytearray(b'ABC')\n",
      "65 65\n",
      "b'AB'\n",
      "[100, 66, 67] bytearray(b'ABC')\n"
     ]
    }
   ],
   "source": [
    "r = bytearray('ABC', 'utf-8')\n",
    "\n",
    "mv = memoryview(r)\n",
    "print(mv.obj)\n",
    "print(r[0],mv[0])\n",
    "bs = bytes(mv[0:2])\n",
    "print(bs)\n",
    "ls = list(mv[0:3])\n",
    "ls[0] = 100\n",
    "print(ls,r)"
   ]
  },
  {
   "cell_type": "code",
   "execution_count": 141,
   "metadata": {},
   "outputs": [
    {
     "name": "stdout",
     "output_type": "stream",
     "text": [
      "4\n",
      "1\n",
      "4\n",
      "B\n",
      "True\n"
     ]
    }
   ],
   "source": [
    "a = bytes(b\"abcd\")\n",
    "\n",
    "b = memoryview(a)\n",
    "\n",
    "print(len(b))\n",
    "print(b.itemsize)\n",
    "print(b.nbytes)\n",
    "print(b.format)\n",
    "print(b.readonly)"
   ]
  },
  {
   "cell_type": "markdown",
   "metadata": {},
   "source": [
    "## 예제 19-10 :   메모리 뷰 변경하기\n"
   ]
  },
  {
   "cell_type": "code",
   "execution_count": 35,
   "metadata": {},
   "outputs": [
    {
     "name": "stdout",
     "output_type": "stream",
     "text": [
      "False\n",
      "B\n"
     ]
    },
    {
     "ename": "TypeError",
     "evalue": "memoryview: invalid type for format 'B'",
     "output_type": "error",
     "traceback": [
      "\u001b[0;31m---------------------------------------------------------------------------\u001b[0m",
      "\u001b[0;31mTypeError\u001b[0m                                 Traceback (most recent call last)",
      "\u001b[0;32m<ipython-input-35-7089f6d2b9b6>\u001b[0m in \u001b[0;36m<module>\u001b[0;34m()\u001b[0m\n\u001b[1;32m      4\u001b[0m \u001b[0mprint\u001b[0m\u001b[1;33m(\u001b[0m\u001b[0mbm\u001b[0m\u001b[1;33m.\u001b[0m\u001b[0mreadonly\u001b[0m\u001b[1;33m)\u001b[0m\u001b[1;33m\u001b[0m\u001b[0m\n\u001b[1;32m      5\u001b[0m \u001b[0mprint\u001b[0m\u001b[1;33m(\u001b[0m\u001b[0mbm\u001b[0m\u001b[1;33m.\u001b[0m\u001b[0mformat\u001b[0m\u001b[1;33m)\u001b[0m\u001b[1;33m\u001b[0m\u001b[0m\n\u001b[0;32m----> 6\u001b[0;31m \u001b[0mbm\u001b[0m\u001b[1;33m[\u001b[0m\u001b[1;36m0\u001b[0m\u001b[1;33m]\u001b[0m \u001b[1;33m=\u001b[0m \u001b[0mbytearray\u001b[0m\u001b[1;33m(\u001b[0m\u001b[1;34mb'b'\u001b[0m\u001b[1;33m)\u001b[0m\u001b[1;33m\u001b[0m\u001b[0m\n\u001b[0m",
      "\u001b[0;31mTypeError\u001b[0m: memoryview: invalid type for format 'B'"
     ]
    }
   ],
   "source": [
    "s = bytearray(b\"str\")\n",
    "\n",
    "bm = memoryview(s)\n",
    "print(bm.readonly)\n",
    "print(bm.format)\n",
    "bm[0] = bytearray(b'b')"
   ]
  },
  {
   "cell_type": "code",
   "execution_count": 37,
   "metadata": {},
   "outputs": [
    {
     "name": "stdout",
     "output_type": "stream",
     "text": [
      "<memory at 0x0000000005213288>\n",
      "bytearray(b'btr')\n",
      "bytearray(b'btr')\n"
     ]
    }
   ],
   "source": [
    "bm[0] = ord(b'b')\n",
    "print(bm)\n",
    "print(s)\n",
    "print(bm.obj)"
   ]
  },
  {
   "cell_type": "code",
   "execution_count": 156,
   "metadata": {},
   "outputs": [
    {
     "name": "stdout",
     "output_type": "stream",
     "text": [
      "False\n",
      "c\n",
      "bytearray(b'btr')\n"
     ]
    }
   ],
   "source": [
    "c = bm.cast('c')\n",
    "print(c.readonly)\n",
    "print(c.format)\n",
    "c[0] = b'b'\n",
    "\n",
    "print(s)"
   ]
  },
  {
   "cell_type": "markdown",
   "metadata": {},
   "source": [
    "## 예제 19-11 :   파일에 저장할 때 주의 사항\n"
   ]
  },
  {
   "cell_type": "code",
   "execution_count": 165,
   "metadata": {},
   "outputs": [
    {
     "ename": "TypeError",
     "evalue": "write() argument must be str, not list",
     "output_type": "error",
     "traceback": [
      "\u001b[0;31m---------------------------------------------------------------------------\u001b[0m",
      "\u001b[0;31mTypeError\u001b[0m                                 Traceback (most recent call last)",
      "\u001b[0;32m<ipython-input-165-e8b898ae475f>\u001b[0m in \u001b[0;36m<module>\u001b[0;34m()\u001b[0m\n\u001b[1;32m      2\u001b[0m \u001b[1;33m\u001b[0m\u001b[0m\n\u001b[1;32m      3\u001b[0m \u001b[1;32mwith\u001b[0m \u001b[0mopen\u001b[0m\u001b[1;33m(\u001b[0m\u001b[1;34m\"list.txt\"\u001b[0m\u001b[1;33m,\u001b[0m\u001b[1;34m\"wt\"\u001b[0m\u001b[1;33m)\u001b[0m \u001b[1;32mas\u001b[0m \u001b[0mf\u001b[0m \u001b[1;33m:\u001b[0m\u001b[1;33m\u001b[0m\u001b[0m\n\u001b[0;32m----> 4\u001b[0;31m     \u001b[0mf\u001b[0m\u001b[1;33m.\u001b[0m\u001b[0mwrite\u001b[0m\u001b[1;33m(\u001b[0m\u001b[0ml\u001b[0m\u001b[1;33m)\u001b[0m\u001b[1;33m\u001b[0m\u001b[0m\n\u001b[0m\u001b[1;32m      5\u001b[0m \u001b[1;33m\u001b[0m\u001b[0m\n",
      "\u001b[0;31mTypeError\u001b[0m: write() argument must be str, not list"
     ]
    }
   ],
   "source": [
    "l = [1,2,3]\n",
    "\n",
    "with open(\"list.txt\",\"wt\") as f :\n",
    "    f.write(l)\n",
    "    "
   ]
  },
  {
   "cell_type": "code",
   "execution_count": 171,
   "metadata": {},
   "outputs": [
    {
     "name": "stdout",
     "output_type": "stream",
     "text": [
      "<class 'str'> [1, 2, 3]\n",
      "['[', '1', ',', ' ', '2', ',', ' ', '3', ']']\n"
     ]
    }
   ],
   "source": [
    "l = [1,2,3]\n",
    "\n",
    "with open(\"list.txt\",\"wt\") as f :\n",
    "    f.write(str(l))\n",
    "    \n",
    "with open(\"list.txt\",\"rt\") as f :\n",
    "    a = f.read()\n",
    "    print(type(a), a)\n",
    "    print(list(a))"
   ]
  },
  {
   "cell_type": "code",
   "execution_count": 175,
   "metadata": {},
   "outputs": [
    {
     "name": "stdout",
     "output_type": "stream",
     "text": [
      "[1, 2, 3]\n"
     ]
    }
   ],
   "source": [
    "l = [1,2,3]\n",
    "\n",
    "with open(\"list.txt\",\"wt\") as f :\n",
    "    for i in l : \n",
    "        f.write(str(i))\n",
    "        \n",
    "\n",
    "with open(\"list.txt\",\"rt\") as f :\n",
    "    ll = []\n",
    "    a = f.read()\n",
    "    for i in a : \n",
    "        ll.append(int(i))\n",
    "    print(ll)"
   ]
  },
  {
   "cell_type": "markdown",
   "metadata": {},
   "source": [
    "## 예제 19-12 :   한글 문자열을 바이트로 변환하기\n"
   ]
  },
  {
   "cell_type": "code",
   "execution_count": 181,
   "metadata": {},
   "outputs": [
    {
     "name": "stdout",
     "output_type": "stream",
     "text": [
      "Lo\n",
      "HANGUL SYLLABLE WI\n",
      "위\n"
     ]
    }
   ],
   "source": [
    "import unicodedata\n",
    "c = \"위\"\n",
    "\n",
    "d = unicodedata.category(c)\n",
    "print(d)\n",
    "n = unicodedata.name(c)\n",
    "print(n)\n",
    "print(unicodedata.lookup(n))"
   ]
  },
  {
   "cell_type": "code",
   "execution_count": 183,
   "metadata": {},
   "outputs": [
    {
     "name": "stdout",
     "output_type": "stream",
     "text": [
      "b'\\xea\\xb0\\x80\\xec\\x9d\\x84'\n",
      "가을\n"
     ]
    }
   ],
   "source": [
    "u = \"가을\"\n",
    "\n",
    "a = u.encode(\"utf-8\")\n",
    "\n",
    "print(a)\n",
    "print(a.decode(\"utf-8\"))"
   ]
  },
  {
   "cell_type": "code",
   "execution_count": 184,
   "metadata": {},
   "outputs": [
    {
     "name": "stdout",
     "output_type": "stream",
     "text": [
      "b'\\xff\\xfe\\x00\\xacD\\xc7'\n",
      "가을\n"
     ]
    }
   ],
   "source": [
    "u = \"가을\"\n",
    "\n",
    "a = u.encode(\"utf-16\")\n",
    "\n",
    "print(a)\n",
    "print(a.decode(\"utf-16\"))"
   ]
  },
  {
   "cell_type": "code",
   "execution_count": 18,
   "metadata": {},
   "outputs": [
    {
     "name": "stdout",
     "output_type": "stream",
     "text": [
      "가\n",
      "을\n",
      "b'\\x00\\xacD\\xc7'\n",
      "가을\n"
     ]
    }
   ],
   "source": [
    "u = \"가을\"\n",
    "\n",
    "print(\"\\uac00\")\n",
    "print(\"\\uc744\")\n",
    "\n",
    "a = u.encode(\"utf-16le\")\n",
    "\n",
    "print(a)\n",
    "print(a.decode(\"utf-16le\"))"
   ]
  },
  {
   "cell_type": "code",
   "execution_count": 187,
   "metadata": {},
   "outputs": [
    {
     "name": "stdout",
     "output_type": "stream",
     "text": [
      "b'\\xac\\x00\\xc7D'\n",
      "가을\n"
     ]
    }
   ],
   "source": [
    "u = \"가을\"\n",
    "\n",
    "a = u.encode(\"utf-16be\")\n",
    "\n",
    "print(a)\n",
    "print(a.decode(\"utf-16be\"))"
   ]
  },
  {
   "cell_type": "code",
   "execution_count": 185,
   "metadata": {},
   "outputs": [
    {
     "name": "stdout",
     "output_type": "stream",
     "text": [
      "b'\\xff\\xfe\\x00\\x00\\x00\\xac\\x00\\x00D\\xc7\\x00\\x00'\n",
      "가을\n"
     ]
    }
   ],
   "source": [
    "u = \"가을\"\n",
    "\n",
    "a = u.encode(\"utf-32\")\n",
    "\n",
    "print(a)\n",
    "print(a.decode(\"utf-32\"))"
   ]
  },
  {
   "cell_type": "code",
   "execution_count": 19,
   "metadata": {},
   "outputs": [
    {
     "name": "stdout",
     "output_type": "stream",
     "text": [
      "가\n",
      "을\n",
      "b'\\x00\\xac\\x00\\x00D\\xc7\\x00\\x00'\n",
      "가을\n"
     ]
    }
   ],
   "source": [
    "u = \"가을\"\n",
    "\n",
    "print(\"\\uac00\")\n",
    "print(\"\\uc744\")\n",
    "\n",
    "a = u.encode(\"utf-32le\")\n",
    "\n",
    "print(a)\n",
    "print(a.decode(\"utf-32le\"))"
   ]
  },
  {
   "cell_type": "code",
   "execution_count": 189,
   "metadata": {},
   "outputs": [
    {
     "name": "stdout",
     "output_type": "stream",
     "text": [
      "b'\\x00\\x00\\xac\\x00\\x00\\x00\\xc7D'\n",
      "가을\n"
     ]
    }
   ],
   "source": [
    "u = \"가을\"\n",
    "\n",
    "a = u.encode(\"utf-32be\")\n",
    "\n",
    "print(a)\n",
    "print(a.decode(\"utf-32be\"))"
   ]
  },
  {
   "cell_type": "markdown",
   "metadata": {},
   "source": [
    "## 예제 19-13 :   엔디언 이해하기\n"
   ]
  },
  {
   "cell_type": "code",
   "execution_count": 190,
   "metadata": {},
   "outputs": [
    {
     "name": "stdout",
     "output_type": "stream",
     "text": [
      "b'2\\x005\\x005\\x00'\n",
      "b'\\x002\\x005\\x005'\n"
     ]
    }
   ],
   "source": [
    "hi = 255\n",
    "\n",
    "si = str(hi)\n",
    "\n",
    "print(si.encode('utf-16le'))\n",
    "print(si.encode('utf-16be'))"
   ]
  },
  {
   "cell_type": "markdown",
   "metadata": {},
   "source": [
    "## 예제 19-14 :   Utf-8 변환 예시\n"
   ]
  },
  {
   "cell_type": "code",
   "execution_count": 1,
   "metadata": {},
   "outputs": [
    {
     "name": "stdout",
     "output_type": "stream",
     "text": [
      "܀\n",
      "b'\\x07\\x00'\n",
      "b'\\xdc\\x80'\n"
     ]
    }
   ],
   "source": [
    "u = '\\u0700'\n",
    "\n",
    "print(u)\n",
    "print('܀'.encode(\"utf-16be\"))\n",
    "print('܀'.encode(\"utf-8\"))"
   ]
  },
  {
   "cell_type": "code",
   "execution_count": 2,
   "metadata": {},
   "outputs": [
    {
     "name": "stdout",
     "output_type": "stream",
     "text": [
      "！\n",
      "b'\\xff\\x01'\n",
      "b'\\xef\\xbc\\x81'\n"
     ]
    }
   ],
   "source": [
    "u2 = '\\uff01'\n",
    "\n",
    "print(u2)\n",
    "print('！'.encode(\"utf-16be\"))\n",
    "print('！'.encode(\"utf-8\"))\n"
   ]
  },
  {
   "cell_type": "code",
   "execution_count": 3,
   "metadata": {},
   "outputs": [
    {
     "name": "stdout",
     "output_type": "stream",
     "text": [
      "🼁\n",
      "b'\\xd8?\\xdf\\x01'\n",
      "b'\\xf0\\x9f\\xbc\\x81'\n"
     ]
    }
   ],
   "source": [
    "u3 = '\\U0001ff01'\n",
    "\n",
    "print(u3)\n",
    "print('🼁'.encode(\"utf-16be\"))\n",
    "print('🼁'.encode(\"utf-8\"))\n"
   ]
  },
  {
   "cell_type": "markdown",
   "metadata": {},
   "source": [
    "## 예제 19-15 : 한글을 유니코드로 전환하기 \n"
   ]
  },
  {
   "cell_type": "code",
   "execution_count": 223,
   "metadata": {},
   "outputs": [
    {
     "name": "stdout",
     "output_type": "stream",
     "text": [
      "한\n",
      "글\n",
      "한  d55c  Lo 한 HANGUL SYLLABLE HAN\n",
      "글  ae00  Lo 글 HANGUL SYLLABLE GEUL\n"
     ]
    }
   ],
   "source": [
    "h = '\\ud55c'\n",
    "h2 = '\\uae00'\n",
    "print(h)\n",
    "print(h2)\n",
    "\n",
    "for i in [h,h2] :\n",
    "    print(i,\" %4x \" % ord(i), end=\" \")\n",
    "    print(unicodedata.category(i), end=\" \")\n",
    "    print(unicodedata.lookup(unicodedata.name(i)), end = \" \")\n",
    "    print(unicodedata.name(i))"
   ]
  },
  {
   "cell_type": "code",
   "execution_count": 244,
   "metadata": {},
   "outputs": [
    {
     "name": "stdout",
     "output_type": "stream",
     "text": [
      "ᄋ\n",
      "ᅱ\n",
      "b'\\xc7\\x04'\n"
     ]
    }
   ],
   "source": [
    "h = '\\u110b'\n",
    "h2 = '\\u1171'\n",
    "print(h)\n",
    "print(h2)\n",
    "\n",
    "a = unicodedata.normalize(\"NFC\",h+h2)\n",
    "print(a.encode(\"utf-16be\"))\n"
   ]
  },
  {
   "cell_type": "code",
   "execution_count": 245,
   "metadata": {},
   "outputs": [
    {
     "name": "stdout",
     "output_type": "stream",
     "text": [
      "위\n",
      "b'\\x11\\x0b\\x11q'\n",
      "0x71\n"
     ]
    }
   ],
   "source": [
    "h3 = \"\\uc704\"\n",
    "print(h3)\n",
    "\n",
    "b = unicodedata.normalize(\"NFD\",\"\\uc704\")\n",
    "print(b.encode(\"utf-16be\"))\n",
    "\n",
    "print(hex(ord('q')))"
   ]
  },
  {
   "cell_type": "markdown",
   "metadata": {},
   "source": [
    "## 예제 19-16  :  문자열과 정수 packing 과 unpacking 하기\n"
   ]
  },
  {
   "cell_type": "code",
   "execution_count": 249,
   "metadata": {},
   "outputs": [
    {
     "name": "stdout",
     "output_type": "stream",
     "text": [
      "bBuhHiIlLqQfd\n"
     ]
    }
   ],
   "source": [
    "import struct\n",
    "import array\n",
    "\n",
    "a = array.typecodes\n",
    "print(a)"
   ]
  },
  {
   "cell_type": "code",
   "execution_count": 254,
   "metadata": {},
   "outputs": [
    {
     "name": "stdout",
     "output_type": "stream",
     "text": [
      "hhl\n",
      "2 bytes\n",
      "4 bytes\n",
      "8 bytes\n"
     ]
    }
   ],
   "source": [
    "s = a[3]+a[3]+a[7]\n",
    "print(s)\n",
    "\n",
    "print(struct.calcsize(s[0]), \"bytes\")\n",
    "print(struct.calcsize(s[2]), \"bytes\")\n",
    "print(struct.calcsize(s), \"bytes\")"
   ]
  },
  {
   "cell_type": "code",
   "execution_count": 256,
   "metadata": {},
   "outputs": [
    {
     "name": "stdout",
     "output_type": "stream",
     "text": [
      "b'\\x01\\x00\\x02\\x00\\x03\\x00\\x00\\x00'\n",
      "(1, 2, 3)\n"
     ]
    }
   ],
   "source": [
    "import struct\n",
    "\n",
    "a = struct.pack(\"hhl\",1,2,3)\n",
    "print(a)\n",
    "\n",
    "b = struct.unpack('hhl',a)\n",
    "print(b)"
   ]
  },
  {
   "cell_type": "code",
   "execution_count": 267,
   "metadata": {},
   "outputs": [
    {
     "name": "stdout",
     "output_type": "stream",
     "text": [
      "18\n",
      "18 bytes\n",
      "(b'abcdefghij', 1, 2, 3)\n"
     ]
    }
   ],
   "source": [
    "s = b\"abcdefghij\\x01\\x00\\x02\\x00\\x03\\x00\\x00\\x00\"\n",
    "print(len(s))\n",
    "\n",
    "fmt = \"<10shhl\"\n",
    "print(struct.calcsize(fmt), \"bytes\")\n",
    "a = struct.unpack(fmt,s)\n",
    "print(a)"
   ]
  },
  {
   "cell_type": "code",
   "execution_count": 270,
   "metadata": {},
   "outputs": [
    {
     "name": "stdout",
     "output_type": "stream",
     "text": [
      "(b'hello',)\n",
      "(b'h', b'e', b'l', b'l', b'o')\n"
     ]
    }
   ],
   "source": [
    "import struct\n",
    "\n",
    "b = b\"hello\"\n",
    "\n",
    "s5 = struct.unpack('5s', b)\n",
    "print(s5)\n",
    "\n",
    "s51 = struct.unpack('sssss', b)\n",
    "print(s51)"
   ]
  },
  {
   "cell_type": "markdown",
   "metadata": {},
   "source": [
    "## 예제 19-17  : Array.array 모듈을 가지고 struct 모듈 처리하기\n"
   ]
  },
  {
   "cell_type": "code",
   "execution_count": 275,
   "metadata": {},
   "outputs": [
    {
     "name": "stdout",
     "output_type": "stream",
     "text": [
      "b'\\x01\\x00\\x00\\x00\\x02\\x00\\x00\\x00'\n",
      "8\n",
      "(1, 2)\n"
     ]
    }
   ],
   "source": [
    "import array\n",
    "import struct\n",
    "\n",
    "a = array.array('l',[1,2])\n",
    "print(a.tobytes())\n",
    "\n",
    "print(struct.calcsize(\"<ii\"))\n",
    "\n",
    "s = struct.unpack('<ii',a)\n",
    "print(s)"
   ]
  },
  {
   "cell_type": "code",
   "execution_count": 282,
   "metadata": {},
   "outputs": [
    {
     "name": "stdout",
     "output_type": "stream",
     "text": [
      "[104, 101, 108, 108, 111]\n",
      "b'hello'\n",
      "b'hello'\n"
     ]
    }
   ],
   "source": [
    "import array\n",
    "import struct\n",
    "\n",
    "a = [ ord(x) for x in \"hello\"]\n",
    "print(a)\n",
    "\n",
    "s = struct.pack(b'bbbbb',*a)\n",
    "print(s)\n",
    "\n",
    "s = struct.pack('BBBBB',*a)\n",
    "print(s)"
   ]
  },
  {
   "cell_type": "code",
   "execution_count": 286,
   "metadata": {},
   "outputs": [
    {
     "name": "stdout",
     "output_type": "stream",
     "text": [
      "array('b', [104, 101, 108, 108, 111])\n",
      "b'hello'\n",
      "b'hello'\n"
     ]
    }
   ],
   "source": [
    "import array\n",
    "import struct\n",
    "\n",
    "a = array.array('b', b\"hello\")\n",
    "print(a)\n",
    "\n",
    "s = struct.pack(b'bbbbb',*a)\n",
    "print(s)\n",
    "\n",
    "s = struct.pack('BBBBB',*a)\n",
    "print(s)"
   ]
  },
  {
   "cell_type": "markdown",
   "metadata": {},
   "source": [
    "## 예제 19-18 : 파이썬 객체를pickle로 처리하기\n",
    "\n"
   ]
  },
  {
   "cell_type": "code",
   "execution_count": 3,
   "metadata": {},
   "outputs": [
    {
     "name": "stdout",
     "output_type": "stream",
     "text": [
      "11\n",
      "1\n"
     ]
    }
   ],
   "source": [
    "import pickle\n",
    "import operator as op\n",
    "\n",
    "\n",
    "l = [op.add,op.sub]\n",
    "\n",
    "with open(\"obj.pickle\", \"wb\") as f :\n",
    "    pickle.dump(l,f)\n",
    "    \n",
    "with open(\"obj.pickle\", \"rb\") as f :\n",
    "    a = pickle.load(f)\n",
    "    print(a[0](5,6))\n",
    "    print(a[1](5,4))"
   ]
  },
  {
   "cell_type": "code",
   "execution_count": 11,
   "metadata": {},
   "outputs": [
    {
     "name": "stdout",
     "output_type": "stream",
     "text": [
      "피클처리\n",
      "20\n"
     ]
    }
   ],
   "source": [
    "import pickle\n",
    "import operator as op\n",
    "\n",
    "\n",
    "s = \"피클처리\"\n",
    "d = {'add':op.add}\n",
    "\n",
    "with open(\"obj.pickle\", \"wb\") as f :\n",
    "    pickle.dump(s,f)\n",
    "    pickle.dump(d,f)\n",
    "    \n",
    "with open(\"obj.pickle\", \"rb\") as f :\n",
    "    a = pickle.load(f)\n",
    "    b = pickle.load(f)\n",
    "    print(a)\n",
    "    print(b[\"add\"](10,10))"
   ]
  },
  {
   "cell_type": "markdown",
   "metadata": {},
   "source": [
    "## 예제 19-19 :  Pickle을 문자열로 할당하고 내부 생성된 값 보기\n",
    "\n"
   ]
  },
  {
   "cell_type": "code",
   "execution_count": 14,
   "metadata": {},
   "outputs": [
    {
     "name": "stdout",
     "output_type": "stream",
     "text": [
      "b'\\x80\\x03]q\\x00(c_operator\\nadd\\nq\\x01c_operator\\nsub\\nq\\x02e.'\n",
      "[<built-in function add>, <built-in function sub>]\n",
      "11\n",
      "1\n"
     ]
    }
   ],
   "source": [
    "import pickle\n",
    "import operator as op\n",
    "\n",
    "\n",
    "l = [op.add,op.sub]\n",
    "\n",
    "s = pickle.dumps(l)\n",
    "print(s)\n",
    "    \n",
    "a = pickle.loads(s)\n",
    "print(a)\n",
    "print(a[0](5,6))\n",
    "print(a[1](5,4))"
   ]
  },
  {
   "cell_type": "code",
   "execution_count": 18,
   "metadata": {},
   "outputs": [
    {
     "name": "stdout",
     "output_type": "stream",
     "text": [
      "b'\\x80\\x03}q\\x00X\\x03\\x00\\x00\\x00addq\\x01c_operator\\nadd\\nq\\x02s.'\n",
      "{'add': <built-in function add>}\n",
      "20\n"
     ]
    }
   ],
   "source": [
    "import pickle\n",
    "import operator as op\n",
    "\n",
    "\n",
    "s = \"피클처리\"\n",
    "d = {'add':op.add}\n",
    "\n",
    "ds = pickle.dumps(s)\n",
    "ds = pickle.dumps(d)\n",
    "\n",
    "print(ds)\n",
    "    \n",
    "\n",
    "a = pickle.loads(ds)\n",
    "b = pickle.loads(ds)\n",
    "print(a)\n",
    "print(b[\"add\"](10,10))"
   ]
  },
  {
   "cell_type": "code",
   "execution_count": null,
   "metadata": {
    "collapsed": true
   },
   "outputs": [],
   "source": []
  }
 ],
 "metadata": {
  "kernelspec": {
   "display_name": "Python 3",
   "language": "python",
   "name": "python3"
  },
  "language_info": {
   "codemirror_mode": {
    "name": "ipython",
    "version": 3
   },
   "file_extension": ".py",
   "mimetype": "text/x-python",
   "name": "python",
   "nbconvert_exporter": "python",
   "pygments_lexer": "ipython3",
   "version": "3.6.3"
  }
 },
 "nbformat": 4,
 "nbformat_minor": 2
}
