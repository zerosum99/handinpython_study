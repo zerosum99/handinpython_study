{
 "cells": [
  {
   "cell_type": "markdown",
   "metadata": {},
   "source": [
    "## 예제 10-1 :   내부 속성 접근 순서 확인하기  \n"
   ]
  },
  {
   "cell_type": "code",
   "execution_count": 1,
   "metadata": {
    "collapsed": true
   },
   "outputs": [],
   "source": [
    "class Dot :\n",
    "    def __init__(self) :\n",
    "        self.test = 1\n",
    "        self.test2 = 2\n",
    "        \n",
    "    def __getattribute__(self, attr) :\n",
    "        print(\" __getattribute__ \", attr)\n",
    "        return object.__getattribute__(self,attr)"
   ]
  },
  {
   "cell_type": "code",
   "execution_count": 2,
   "metadata": {
    "collapsed": false
   },
   "outputs": [
    {
     "name": "stdout",
     "output_type": "stream",
     "text": [
      " __getattribute__  test\n",
      "1\n",
      " __getattribute__  test2\n",
      "2\n"
     ]
    }
   ],
   "source": [
    "d = Dot()\n",
    "print(d.test)\n",
    "print(d.test2)"
   ]
  },
  {
   "cell_type": "code",
   "execution_count": 8,
   "metadata": {
    "collapsed": false
   },
   "outputs": [
    {
     "name": "stdout",
     "output_type": "stream",
     "text": [
      " __getattribute__ \n"
     ]
    },
    {
     "ename": "AttributeError",
     "evalue": "'Dot' object has no attribute 'test3'",
     "output_type": "error",
     "traceback": [
      "\u001b[0;31m---------------------------------------------------------------------------\u001b[0m",
      "\u001b[0;31mAttributeError\u001b[0m                            Traceback (most recent call last)",
      "\u001b[0;32m<ipython-input-8-dc6ca98608fc>\u001b[0m in \u001b[0;36m<module>\u001b[0;34m()\u001b[0m\n\u001b[0;32m----> 1\u001b[0;31m \u001b[0mprint\u001b[0m\u001b[1;33m(\u001b[0m\u001b[0md\u001b[0m\u001b[1;33m.\u001b[0m\u001b[0mtest3\u001b[0m\u001b[1;33m)\u001b[0m\u001b[1;33m\u001b[0m\u001b[0m\n\u001b[0m",
      "\u001b[0;32m<ipython-input-5-0815dcde9d27>\u001b[0m in \u001b[0;36m__getattribute__\u001b[0;34m(self, attr)\u001b[0m\n\u001b[1;32m      6\u001b[0m     \u001b[1;32mdef\u001b[0m \u001b[0m__getattribute__\u001b[0m\u001b[1;33m(\u001b[0m\u001b[0mself\u001b[0m\u001b[1;33m,\u001b[0m \u001b[0mattr\u001b[0m\u001b[1;33m)\u001b[0m \u001b[1;33m:\u001b[0m\u001b[1;33m\u001b[0m\u001b[0m\n\u001b[1;32m      7\u001b[0m         \u001b[0mprint\u001b[0m\u001b[1;33m(\u001b[0m\u001b[1;34m\" __getattribute__ \"\u001b[0m\u001b[1;33m)\u001b[0m\u001b[1;33m\u001b[0m\u001b[0m\n\u001b[0;32m----> 8\u001b[0;31m         \u001b[1;32mreturn\u001b[0m \u001b[0mobject\u001b[0m\u001b[1;33m.\u001b[0m\u001b[0m__getattribute__\u001b[0m\u001b[1;33m(\u001b[0m\u001b[0mself\u001b[0m\u001b[1;33m,\u001b[0m\u001b[0mattr\u001b[0m\u001b[1;33m)\u001b[0m\u001b[1;33m\u001b[0m\u001b[0m\n\u001b[0m",
      "\u001b[0;31mAttributeError\u001b[0m: 'Dot' object has no attribute 'test3'"
     ]
    }
   ],
   "source": [
    "print(d.test3)"
   ]
  },
  {
   "cell_type": "code",
   "execution_count": 4,
   "metadata": {
    "collapsed": true
   },
   "outputs": [],
   "source": [
    "class Dot :\n",
    "    def __init__(self) :\n",
    "        self.test = 1\n",
    "        self.test2 = 2\n",
    "        \n",
    "    def __getattribute__(self, attr) :\n",
    "        print(\" __getattribute__ \", attr)\n",
    "        return object.__getattribute__(self,attr)\n",
    "    \n",
    "    def __getattr__(self, attr) :\n",
    "        print(\" __getattr__ \", attr)\n",
    "        try :\n",
    "            self.__dict__[attr]\n",
    "        except KeyError as e :\n",
    "            return \"Key Error \" + e.args[0]\n",
    "    "
   ]
  },
  {
   "cell_type": "code",
   "execution_count": 5,
   "metadata": {
    "collapsed": false
   },
   "outputs": [
    {
     "name": "stdout",
     "output_type": "stream",
     "text": [
      " __getattribute__  test\n",
      "1\n",
      " __getattribute__  test2\n",
      "2\n"
     ]
    }
   ],
   "source": [
    "d = Dot()\n",
    "print(d.test)\n",
    "print(d.test2)"
   ]
  },
  {
   "cell_type": "code",
   "execution_count": 6,
   "metadata": {
    "collapsed": false
   },
   "outputs": [
    {
     "name": "stdout",
     "output_type": "stream",
     "text": [
      " __getattribute__  test3\n",
      " __getattr__  test3\n",
      " __getattribute__  __dict__\n",
      "Key Error test3\n"
     ]
    }
   ],
   "source": [
    "print(d.test3)"
   ]
  },
  {
   "cell_type": "markdown",
   "metadata": {},
   "source": [
    "## 예제 10-2 :   내부 속성 갱신과 삭제 \n"
   ]
  },
  {
   "cell_type": "code",
   "execution_count": 41,
   "metadata": {
    "collapsed": true
   },
   "outputs": [],
   "source": [
    "class Dot1 :\n",
    "    def __init__(self) :\n",
    "        self.test = 1\n",
    "        self.test2 = 2\n",
    "        \n",
    "    def __setattr__(self,attr,value) :\n",
    "        print(\" set attr \",attr)\n",
    "        self.__dict__[attr] = value\n",
    "        \n",
    "    def __delattr__(self,attr) :\n",
    "        print(\" del attr \",attr)\n",
    "        del self.__dict__[attr]\n",
    "        "
   ]
  },
  {
   "cell_type": "code",
   "execution_count": 44,
   "metadata": {
    "collapsed": false
   },
   "outputs": [
    {
     "name": "stdout",
     "output_type": "stream",
     "text": [
      " set attr  test\n",
      " set attr  test2\n",
      " set attr  test3\n",
      "{'test': 1, 'test2': 2, 'test3': 100}\n"
     ]
    }
   ],
   "source": [
    "d = Dot1() \n",
    "\n",
    "d.test3 = 100\n",
    "print(d.__dict__)"
   ]
  },
  {
   "cell_type": "code",
   "execution_count": 45,
   "metadata": {
    "collapsed": false
   },
   "outputs": [
    {
     "name": "stdout",
     "output_type": "stream",
     "text": [
      " del attr  test3\n",
      "{'test': 1, 'test2': 2}\n"
     ]
    }
   ],
   "source": [
    "del d.test3\n",
    "print(d.__dict__)"
   ]
  },
  {
   "cell_type": "markdown",
   "metadata": {},
   "source": [
    "## 예제 10-3 : 연산자 in  : 객체 내의 원소 포함여부를 확인 \n"
   ]
  },
  {
   "cell_type": "code",
   "execution_count": 48,
   "metadata": {
    "collapsed": true
   },
   "outputs": [],
   "source": [
    "class IN :\n",
    "    \n",
    "    def __init__(self, elements) :\n",
    "        self.elements = elements\n",
    "        \n",
    "    def __contains__(self,element) :\n",
    "        print(\" __contains__\")\n",
    "        result = False\n",
    "        for i in self.elements :\n",
    "            if element == i :\n",
    "                result = True\n",
    "                break\n",
    "        return result\n"
   ]
  },
  {
   "cell_type": "code",
   "execution_count": 49,
   "metadata": {
    "collapsed": false
   },
   "outputs": [
    {
     "name": "stdout",
     "output_type": "stream",
     "text": [
      " __contains__\n",
      "True\n"
     ]
    }
   ],
   "source": [
    "s = \"원소를 찾기\"\n",
    "\n",
    "i = IN(s)\n",
    "print(\"원\" in i)"
   ]
  },
  {
   "cell_type": "markdown",
   "metadata": {},
   "source": [
    "## 예제 10-4 : 연산자 is "
   ]
  },
  {
   "cell_type": "code",
   "execution_count": 8,
   "metadata": {
    "collapsed": true
   },
   "outputs": [],
   "source": [
    "class IS :\n",
    "            \n",
    "    def __eq__(self,element) :\n",
    "        print(\" __eq__ \")\n",
    "        \n",
    "        return object.__eq__(self,element)"
   ]
  },
  {
   "cell_type": "code",
   "execution_count": 9,
   "metadata": {
    "collapsed": false
   },
   "outputs": [
    {
     "name": "stdout",
     "output_type": "stream",
     "text": [
      "True\n",
      " __eq__ \n",
      "True\n",
      " __eq__ \n",
      "True\n"
     ]
    }
   ],
   "source": [
    "i = IS()\n",
    "print(i is i)\n",
    "print(i.__eq__(i))\n",
    "\n",
    "print(i == i)"
   ]
  },
  {
   "cell_type": "markdown",
   "metadata": {},
   "source": [
    "## 예제 10-5 : Indexing 검색  \n"
   ]
  },
  {
   "cell_type": "code",
   "execution_count": 70,
   "metadata": {
    "collapsed": true
   },
   "outputs": [],
   "source": [
    "class Indexing :\n",
    "    def __init__(self, content) :\n",
    "        self.content = content\n",
    "        \n",
    "    def __getitem__(self,key) :\n",
    "        print(\" __getitem__ call \")\n",
    "        result = \"\"\n",
    "        for i in range(len(self.content)) :\n",
    "            if i == key :\n",
    "                result = self.content[key]\n",
    "                break\n",
    "        if len(self.content) < key :\n",
    "            raise IndexError(key)\n",
    "        return result\n",
    "    "
   ]
  },
  {
   "cell_type": "code",
   "execution_count": 71,
   "metadata": {
    "collapsed": false
   },
   "outputs": [
    {
     "name": "stdout",
     "output_type": "stream",
     "text": [
      " __getitem__ call \n",
      "I\n"
     ]
    }
   ],
   "source": [
    "s = \"Inexing search\"\n",
    "\n",
    "i = Indexing(s)\n",
    "print(i[0])"
   ]
  },
  {
   "cell_type": "code",
   "execution_count": 72,
   "metadata": {
    "collapsed": false
   },
   "outputs": [
    {
     "name": "stdout",
     "output_type": "stream",
     "text": [
      " __getitem__ call \n"
     ]
    },
    {
     "ename": "IndexError",
     "evalue": "30",
     "output_type": "error",
     "traceback": [
      "\u001b[0;31m---------------------------------------------------------------------------\u001b[0m",
      "\u001b[0;31mIndexError\u001b[0m                                Traceback (most recent call last)",
      "\u001b[0;32m<ipython-input-72-918ad9897c5f>\u001b[0m in \u001b[0;36m<module>\u001b[0;34m()\u001b[0m\n\u001b[0;32m----> 1\u001b[0;31m \u001b[0mprint\u001b[0m\u001b[1;33m(\u001b[0m\u001b[0mi\u001b[0m\u001b[1;33m[\u001b[0m\u001b[1;36m30\u001b[0m\u001b[1;33m]\u001b[0m\u001b[1;33m)\u001b[0m\u001b[1;33m\u001b[0m\u001b[0m\n\u001b[0m",
      "\u001b[0;32m<ipython-input-70-a9123fe42eff>\u001b[0m in \u001b[0;36m__getitem__\u001b[0;34m(self, key)\u001b[0m\n\u001b[1;32m     11\u001b[0m                 \u001b[1;32mbreak\u001b[0m\u001b[1;33m\u001b[0m\u001b[0m\n\u001b[1;32m     12\u001b[0m         \u001b[1;32mif\u001b[0m \u001b[0mlen\u001b[0m\u001b[1;33m(\u001b[0m\u001b[0mself\u001b[0m\u001b[1;33m.\u001b[0m\u001b[0mcontent\u001b[0m\u001b[1;33m)\u001b[0m \u001b[1;33m<\u001b[0m \u001b[0mkey\u001b[0m \u001b[1;33m:\u001b[0m\u001b[1;33m\u001b[0m\u001b[0m\n\u001b[0;32m---> 13\u001b[0;31m             \u001b[1;32mraise\u001b[0m \u001b[0mIndexError\u001b[0m\u001b[1;33m(\u001b[0m\u001b[0mkey\u001b[0m\u001b[1;33m)\u001b[0m\u001b[1;33m\u001b[0m\u001b[0m\n\u001b[0m\u001b[1;32m     14\u001b[0m         \u001b[1;32mreturn\u001b[0m \u001b[0mresult\u001b[0m\u001b[1;33m\u001b[0m\u001b[0m\n\u001b[1;32m     15\u001b[0m \u001b[1;33m\u001b[0m\u001b[0m\n",
      "\u001b[0;31mIndexError\u001b[0m: 30"
     ]
    }
   ],
   "source": [
    "print(i[30])"
   ]
  },
  {
   "cell_type": "code",
   "execution_count": 10,
   "metadata": {
    "collapsed": true
   },
   "outputs": [],
   "source": [
    "class Indexing1 :\n",
    "    def __init__(self, content) :\n",
    "        self.content = content\n",
    "        \n",
    "    def __getitem__(self,key) :\n",
    "        print(\" __getitem__ call \")\n",
    "        try :\n",
    "            result = self.content[key] \n",
    "        except IndexError :\n",
    "            result = self.__missing__(key)\n",
    "        return result\n",
    "    \n",
    "    def __missing__(self,key) :\n",
    "        print(\" __missing__ \")\n",
    "        return \" no key \" + (key if type(key) == str else str(key))"
   ]
  },
  {
   "cell_type": "code",
   "execution_count": 11,
   "metadata": {
    "collapsed": false
   },
   "outputs": [
    {
     "name": "stdout",
     "output_type": "stream",
     "text": [
      " __getitem__ call \n",
      "I\n"
     ]
    }
   ],
   "source": [
    "s = \"Inexing search\"\n",
    "\n",
    "i = Indexing1(s)\n",
    "print(i[0])"
   ]
  },
  {
   "cell_type": "code",
   "execution_count": 12,
   "metadata": {
    "collapsed": false
   },
   "outputs": [
    {
     "name": "stdout",
     "output_type": "stream",
     "text": [
      " __getitem__ call \n",
      " __missing__ \n",
      " no key 30\n"
     ]
    }
   ],
   "source": [
    "print(i[30])"
   ]
  },
  {
   "cell_type": "markdown",
   "metadata": {},
   "source": [
    "## 예제 10-6 :  Indexing 내부 갱신 및 삭제 \n"
   ]
  },
  {
   "cell_type": "code",
   "execution_count": 22,
   "metadata": {
    "collapsed": false
   },
   "outputs": [
    {
     "name": "stdout",
     "output_type": "stream",
     "text": [
      "__getitem__\n"
     ]
    }
   ],
   "source": [
    "for i in dir(str) :\n",
    "    if i.endswith(\"item__\") :\n",
    "        print(i)"
   ]
  },
  {
   "cell_type": "code",
   "execution_count": 23,
   "metadata": {
    "collapsed": false
   },
   "outputs": [
    {
     "name": "stdout",
     "output_type": "stream",
     "text": [
      "__delitem__\n",
      "__getitem__\n",
      "__setitem__\n"
     ]
    }
   ],
   "source": [
    "for i in dir(list) :\n",
    "    if i.endswith(\"item__\") :\n",
    "        print(i)"
   ]
  },
  {
   "cell_type": "code",
   "execution_count": 14,
   "metadata": {
    "collapsed": true
   },
   "outputs": [],
   "source": [
    "class Indexing1 :\n",
    "    def __init__(self, content) :\n",
    "        self.content = content\n",
    "        \n",
    "    def __getitem__(self,key) :\n",
    "        return self.content[key]\n",
    "    \n",
    "    def __setitem__(self, key, value) :\n",
    "        a = [x for x in self.content]\n",
    "        if a[key] == value :\n",
    "            pass \n",
    "        else :\n",
    "            a.insert(key,value)\n",
    "        self.content = \"\".join(a)\n",
    "        \n",
    "    def __delitem__(self, key) :\n",
    "        a = [x for x in self.content if self[key] != x  ]\n",
    "        self.content = \"\".join(a)"
   ]
  },
  {
   "cell_type": "code",
   "execution_count": 18,
   "metadata": {
    "collapsed": false
   },
   "outputs": [
    {
     "name": "stdout",
     "output_type": "stream",
     "text": [
      "신 및 삭제\n"
     ]
    }
   ],
   "source": [
    "i = Indexing1(\"갱신 및 삭제\")\n",
    "\n",
    "del i[0] \n",
    "print(i.content)"
   ]
  },
  {
   "cell_type": "code",
   "execution_count": 19,
   "metadata": {
    "collapsed": false
   },
   "outputs": [
    {
     "name": "stdout",
     "output_type": "stream",
     "text": [
      "갱신 및 삭제\n"
     ]
    }
   ],
   "source": [
    "i[0] = \"갱\"\n",
    "print(i.content)"
   ]
  },
  {
   "cell_type": "code",
   "execution_count": 20,
   "metadata": {
    "collapsed": false
   },
   "outputs": [
    {
     "name": "stdout",
     "output_type": "stream",
     "text": [
      "갱신 및 삭제\n"
     ]
    }
   ],
   "source": [
    "i[1] = \"신\"\n",
    "print(i.content)"
   ]
  },
  {
   "cell_type": "markdown",
   "metadata": {},
   "source": [
    "## 예제 10-7 :  슬라이싱으로 데이터 변경 및 삭제 \n"
   ]
  },
  {
   "cell_type": "code",
   "execution_count": 252,
   "metadata": {
    "collapsed": true
   },
   "outputs": [],
   "source": [
    "class Slicing :\n",
    "    def __init__(self, content) :\n",
    "        self.content = content\n",
    "        \n",
    "    def __getitem__(self,key) :\n",
    "        return self.content[key]\n",
    "    \n",
    "    def __setitem__(self, key, value) :\n",
    "        \n",
    "        start,stop,a,j = (0,len(value),[],0)  \\\n",
    "                        if key.stop is None else (key.start,key.stop,[x for x in self.content],0)\n",
    "      \n",
    "        for i in range(start, stop) :\n",
    "            if key.stop is None :\n",
    "                a.insert(i,value[j])\n",
    "            else :\n",
    "                if len(a) > i :\n",
    "                    a[i] = value[j]\n",
    "                else :\n",
    "                    a.append(value[j])\n",
    "          \n",
    "            j += 1\n",
    "            if len(value) == j :\n",
    "                break\n",
    "            \n",
    "        self.content = \"\".join(a)\n",
    "        \n",
    "    def __delitem__(self, key) :\n",
    "        a = [x for x in self.content  ]\n",
    "        del a[key]\n",
    "        self.content = \"\".join(a)"
   ]
  },
  {
   "cell_type": "code",
   "execution_count": 253,
   "metadata": {
    "collapsed": true
   },
   "outputs": [],
   "source": [
    "s = Slicing(\"슬라이싱\")"
   ]
  },
  {
   "cell_type": "code",
   "execution_count": 254,
   "metadata": {
    "collapsed": false
   },
   "outputs": [
    {
     "name": "stdout",
     "output_type": "stream",
     "text": [
      "슬라이싱 처리\n"
     ]
    }
   ],
   "source": [
    "s[:] = \"슬라이싱 처리\"\n",
    "\n",
    "print(s.content)"
   ]
  },
  {
   "cell_type": "code",
   "execution_count": 255,
   "metadata": {
    "collapsed": false
   },
   "outputs": [
    {
     "name": "stdout",
     "output_type": "stream",
     "text": [
      "슬부분싱 처리\n"
     ]
    }
   ],
   "source": [
    "s[1:3] = \"부분\"\n",
    "print(s.content)"
   ]
  },
  {
   "cell_type": "code",
   "execution_count": 256,
   "metadata": {
    "collapsed": false
   },
   "outputs": [
    {
     "name": "stdout",
     "output_type": "stream",
     "text": [
      "슬싱 처리\n"
     ]
    }
   ],
   "source": [
    "del s[1:3]\n",
    "print(s.content)"
   ]
  },
  {
   "cell_type": "code",
   "execution_count": 258,
   "metadata": {
    "collapsed": false
   },
   "outputs": [
    {
     "name": "stdout",
     "output_type": "stream",
     "text": [
      "슬라이싱 범위가 넘을 경우 처리는\n"
     ]
    }
   ],
   "source": [
    "s[0:30] = \"슬라이싱 범위가 넘을 경우 처리는\"\n",
    "print(s.content)"
   ]
  },
  {
   "cell_type": "markdown",
   "metadata": {},
   "source": [
    "## 예제 10-8 :  할당연산자에 대한 스페셜 메소드 처리"
   ]
  },
  {
   "cell_type": "code",
   "execution_count": 12,
   "metadata": {
    "collapsed": true
   },
   "outputs": [],
   "source": [
    "import operator as op\n",
    "\n",
    "class Int :\n",
    "    \n",
    "    def __init__(self,value) :\n",
    "        self.value = value\n",
    "    \n",
    "    def __iadd__(self,other) :\n",
    "        print(\" __iadd__\")\n",
    "        return self.value + other\n",
    "    \n",
    "    def __truediv__(self,other) :\n",
    "        print(\" __truediv__\")\n",
    "        return op.truediv(self.value,other)\n",
    "    \n",
    "    def __floordiv__(self,other) :\n",
    "        print(\" __floordiv__\")\n",
    "        return op.floordiv(self.value,other)\n",
    "    \n",
    "    def __itruediv__(self,other) :\n",
    "        print(\" __itruediv__\")\n",
    "        return op.itruediv(self.value,other)\n",
    "    \n",
    "    def __ifloordiv__(self,other) :\n",
    "        print(\" __ifloordiv__\")\n",
    "        return op.ifloordiv(self.value,other)\n",
    "    "
   ]
  },
  {
   "cell_type": "code",
   "execution_count": 13,
   "metadata": {
    "collapsed": false
   },
   "outputs": [
    {
     "name": "stdout",
     "output_type": "stream",
     "text": [
      " __iadd__\n",
      "199\n"
     ]
    }
   ],
   "source": [
    "i = Int(100) \n",
    "i += 99\n",
    "print(i)"
   ]
  },
  {
   "cell_type": "code",
   "execution_count": 15,
   "metadata": {
    "collapsed": false
   },
   "outputs": [
    {
     "name": "stdout",
     "output_type": "stream",
     "text": [
      "<class '__main__.Int'>\n",
      " __truediv__\n",
      "33.333333333333336\n",
      " __itruediv__\n",
      "33.333333333333336\n"
     ]
    }
   ],
   "source": [
    "i = Int(100) \n",
    "print(type(i))\n",
    "print(i / 3)\n",
    "\n",
    "i /= 3\n",
    "print(i)"
   ]
  },
  {
   "cell_type": "code",
   "execution_count": 16,
   "metadata": {
    "collapsed": false
   },
   "outputs": [
    {
     "name": "stdout",
     "output_type": "stream",
     "text": [
      "<class '__main__.Int'>\n",
      " __floordiv__\n",
      "33\n",
      " __ifloordiv__\n",
      "33\n"
     ]
    }
   ],
   "source": [
    "i = Int(100) \n",
    "print(type(i))\n",
    "print(i//3)\n",
    "i //= 3\n",
    "print(i)"
   ]
  },
  {
   "cell_type": "markdown",
   "metadata": {},
   "source": [
    "## 예제 10-9 :  반대 연산에 대한 스페셜 메소드 처리\n"
   ]
  },
  {
   "cell_type": "code",
   "execution_count": 26,
   "metadata": {
    "collapsed": true
   },
   "outputs": [],
   "source": [
    "class RInt :\n",
    "    \n",
    "    def __init__(self,value) :\n",
    "        self.value = value\n",
    "        \n",
    "    def __add__(self,other) :\n",
    "        print(\" __add__\")\n",
    "        return self.value + other\n",
    "    \n",
    "    def __radd__(self,other) :\n",
    "        print(\" __radd__\")\n",
    "        return other + self.value\n",
    "    "
   ]
  },
  {
   "cell_type": "code",
   "execution_count": 27,
   "metadata": {
    "collapsed": false
   },
   "outputs": [
    {
     "name": "stdout",
     "output_type": "stream",
     "text": [
      " __add__\n",
      "188\n",
      " __radd__\n",
      "199\n"
     ]
    }
   ],
   "source": [
    "i = RInt(100)\n",
    "print(i + 88)\n",
    "\n",
    "i  = i.__radd__(99)\n",
    "print(i)\n"
   ]
  },
  {
   "cell_type": "code",
   "execution_count": 28,
   "metadata": {
    "collapsed": false
   },
   "outputs": [
    {
     "name": "stdout",
     "output_type": "stream",
     "text": [
      " __radd__\n",
      "199\n"
     ]
    }
   ],
   "source": [
    "i = RInt(100)\n",
    "\n",
    "i  = 99 + i\n",
    "print(i)"
   ]
  },
  {
   "cell_type": "markdown",
   "metadata": {},
   "source": [
    "## 예제 10-10 : 호출 가능여부 확인 "
   ]
  },
  {
   "cell_type": "code",
   "execution_count": 33,
   "metadata": {
    "collapsed": true
   },
   "outputs": [],
   "source": [
    "class CallInstance :\n",
    "    def __init__(self, name) :\n",
    "        self.name = name \n",
    "        \n",
    "    def __call__(self) :\n",
    "        print(\" instance call \")\n",
    "        return self.name\n"
   ]
  },
  {
   "cell_type": "code",
   "execution_count": 34,
   "metadata": {
    "collapsed": false
   },
   "outputs": [
    {
     "name": "stdout",
     "output_type": "stream",
     "text": [
      "<__main__.CallInstance object at 0x0000000004AEA198>\n",
      "True\n",
      " instance call \n",
      " callable \n"
     ]
    }
   ],
   "source": [
    "c = CallInstance(\" callable \")\n",
    "\n",
    "print(c)\n",
    "print(callable(c))\n",
    "print(c())"
   ]
  },
  {
   "cell_type": "code",
   "execution_count": 40,
   "metadata": {
    "collapsed": false
   },
   "outputs": [
    {
     "name": "stdout",
     "output_type": "stream",
     "text": [
      "<class 'int'>\n",
      "True\n",
      "<method 'bit_length' of 'int' objects>\n",
      "True\n",
      "<built-in function print>\n",
      "True\n"
     ]
    }
   ],
   "source": [
    "print(int)\n",
    "print(callable(int))\n",
    "\n",
    "print(int.bit_length)\n",
    "print(callable(int.bit_length))\n",
    "\n",
    "print(print)\n",
    "print(callable(print))"
   ]
  },
  {
   "cell_type": "markdown",
   "metadata": {},
   "source": [
    "## 예제 10-11 : id  함수는 reference 주소를 정수로 전환\n"
   ]
  },
  {
   "cell_type": "code",
   "execution_count": 58,
   "metadata": {
    "collapsed": false
   },
   "outputs": [
    {
     "name": "stdout",
     "output_type": "stream",
     "text": [
      "<object object at 0x0000000001D39CC0>\n",
      "1915340\n",
      "1915340\n"
     ]
    }
   ],
   "source": [
    "c = object()\n",
    "\n",
    "print(c)\n",
    "print(id(c)//16)\n",
    "print(c.__hash__())"
   ]
  },
  {
   "cell_type": "code",
   "execution_count": 46,
   "metadata": {
    "collapsed": false
   },
   "outputs": [
    {
     "name": "stdout",
     "output_type": "stream",
     "text": [
      "<__main__.ID object at 0x0000000004BFD278>\n",
      "79680120\n",
      "0x4bfd278\n"
     ]
    }
   ],
   "source": [
    "class ID :\n",
    "    pass\n",
    "\n",
    "c = ID()\n",
    "\n",
    "print(c)\n",
    "print(id(c))\n",
    "print(hex(id(c)))\n"
   ]
  },
  {
   "cell_type": "markdown",
   "metadata": {},
   "source": [
    "## 예제 10-12 :  상속과 생성 클래스 점검\n"
   ]
  },
  {
   "cell_type": "code",
   "execution_count": 66,
   "metadata": {
    "collapsed": false
   },
   "outputs": [
    {
     "name": "stdout",
     "output_type": "stream",
     "text": [
      "True\n",
      "True\n",
      "True\n",
      "True\n",
      "False\n",
      "False\n"
     ]
    }
   ],
   "source": [
    "print(isinstance(1,int))\n",
    "print(int.__instancecheck__(1))\n",
    "\n",
    "print(isinstance(1,object))\n",
    "print(object.__instancecheck__(1))\n",
    "\n",
    "print(isinstance(1,float))\n",
    "print(float.__instancecheck__(1))"
   ]
  },
  {
   "cell_type": "code",
   "execution_count": 67,
   "metadata": {
    "collapsed": false
   },
   "outputs": [
    {
     "name": "stdout",
     "output_type": "stream",
     "text": [
      "True\n",
      "True\n"
     ]
    }
   ],
   "source": [
    "class Int(int) :\n",
    "    pass\n",
    "\n",
    "i = Int(100) \n",
    "\n",
    "print(isinstance(i,int))\n",
    "print(int.__instancecheck__(i))"
   ]
  },
  {
   "cell_type": "code",
   "execution_count": 69,
   "metadata": {
    "collapsed": false
   },
   "outputs": [
    {
     "name": "stdout",
     "output_type": "stream",
     "text": [
      "True\n",
      "True\n"
     ]
    }
   ],
   "source": [
    "print(issubclass(int,object))\n",
    "print(object.__subclasscheck__(int))"
   ]
  },
  {
   "cell_type": "markdown",
   "metadata": {},
   "source": [
    "## 예제 10-13 : 원소 수를 확인\n"
   ]
  },
  {
   "cell_type": "code",
   "execution_count": 72,
   "metadata": {
    "collapsed": false
   },
   "outputs": [
    {
     "name": "stdout",
     "output_type": "stream",
     "text": [
      "4\n",
      "4\n",
      "5\n",
      "5\n",
      "2\n",
      "2\n"
     ]
    }
   ],
   "source": [
    "l = [1,2,3,4]\n",
    "s = \"Hello\"\n",
    "d = {'a':1,'b':2}\n",
    "\n",
    "print(len(l))\n",
    "print(l.__len__())\n",
    "\n",
    "print(len(s))\n",
    "print(s.__len__())\n",
    "\n",
    "print(len(d))\n",
    "print(d.__len__())"
   ]
  },
  {
   "cell_type": "code",
   "execution_count": 73,
   "metadata": {
    "collapsed": true
   },
   "outputs": [],
   "source": [
    "class Len :\n",
    "    def __init__(self,content) :\n",
    "        self.content = content\n",
    "        \n",
    "    def __len__(self) :\n",
    "        return  len(self.content)\n"
   ]
  },
  {
   "cell_type": "code",
   "execution_count": 74,
   "metadata": {
    "collapsed": false
   },
   "outputs": [
    {
     "name": "stdout",
     "output_type": "stream",
     "text": [
      "9\n"
     ]
    }
   ],
   "source": [
    "l = Len(\"원소의 개수 확인\")\n",
    "\n",
    "print(len(l))"
   ]
  },
  {
   "cell_type": "markdown",
   "metadata": {},
   "source": [
    "## 예제 10-14 :  getattr 함수로 내부 속성을 확인\n"
   ]
  },
  {
   "cell_type": "code",
   "execution_count": 75,
   "metadata": {
    "collapsed": true
   },
   "outputs": [],
   "source": [
    "class Student :\n",
    "    def __init__(self,name,age,school) :\n",
    "        self.name = name\n",
    "        self.age = age\n",
    "        self.school = school\n",
    "    "
   ]
  },
  {
   "cell_type": "code",
   "execution_count": 80,
   "metadata": {
    "collapsed": false
   },
   "outputs": [
    {
     "name": "stdout",
     "output_type": "stream",
     "text": [
      "김형기\n",
      "김형기\n",
      "김형기\n"
     ]
    }
   ],
   "source": [
    "s = Student(\"김형기\",20,\"성균관대학교\")\n",
    "\n",
    "print(s.name)\n",
    "print(s.__getattribute__(\"name\"))\n",
    "print(getattr(s,\"name\"))"
   ]
  },
  {
   "cell_type": "code",
   "execution_count": 81,
   "metadata": {
    "collapsed": false
   },
   "outputs": [
    {
     "ename": "AttributeError",
     "evalue": "'Student' object has no attribute 'major'",
     "output_type": "error",
     "traceback": [
      "\u001b[0;31m---------------------------------------------------------------------------\u001b[0m",
      "\u001b[0;31mAttributeError\u001b[0m                            Traceback (most recent call last)",
      "\u001b[0;32m<ipython-input-81-c36af0654aa6>\u001b[0m in \u001b[0;36m<module>\u001b[0;34m()\u001b[0m\n\u001b[0;32m----> 1\u001b[0;31m \u001b[0mgetattr\u001b[0m\u001b[1;33m(\u001b[0m\u001b[0ms\u001b[0m\u001b[1;33m,\u001b[0m\u001b[1;34m\"major\"\u001b[0m\u001b[1;33m)\u001b[0m\u001b[1;33m\u001b[0m\u001b[0m\n\u001b[0m",
      "\u001b[0;31mAttributeError\u001b[0m: 'Student' object has no attribute 'major'"
     ]
    }
   ],
   "source": [
    "getattr(s,\"major\")"
   ]
  },
  {
   "cell_type": "code",
   "execution_count": 83,
   "metadata": {
    "collapsed": false
   },
   "outputs": [
    {
     "name": "stdout",
     "output_type": "stream",
     "text": [
      "CS\n"
     ]
    }
   ],
   "source": [
    "print(getattr(s,\"major\",\"CS\"))"
   ]
  },
  {
   "cell_type": "markdown",
   "metadata": {},
   "source": [
    "## 예제 10-15 :  내부 속성을 setattr 변경"
   ]
  },
  {
   "cell_type": "code",
   "execution_count": 1,
   "metadata": {
    "collapsed": false
   },
   "outputs": [],
   "source": [
    "class Empty :\n",
    "    \n",
    "    def __setattr__(self,key,value) :\n",
    "        print(\" __setattr__ \")\n",
    "        self.__dict__[key] = value\n"
   ]
  },
  {
   "cell_type": "code",
   "execution_count": 4,
   "metadata": {
    "collapsed": false
   },
   "outputs": [
    {
     "name": "stdout",
     "output_type": "stream",
     "text": [
      " __setattr__ \n",
      " __setattr__ \n",
      " __setattr__ \n",
      " __setattr__ \n",
      " __setattr__ \n",
      " __setattr__ \n"
     ]
    }
   ],
   "source": [
    "d = [ { \"name\" : \"홍길동\", \"age\" : 33}, \n",
    "      { \"name\" : \"문길동\", \"age\" : 33}, \n",
    "      { \"name\" : \"김길동\", \"age\" : 33}, ]\n",
    "\n",
    "e_class = []\n",
    "\n",
    "for elem  in d :\n",
    "    e = Empty()\n",
    "    for k,v in elem.items() :\n",
    "        setattr(e,k,v) \n",
    "    e_class.append(e)"
   ]
  },
  {
   "cell_type": "code",
   "execution_count": 6,
   "metadata": {
    "collapsed": false
   },
   "outputs": [
    {
     "name": "stdout",
     "output_type": "stream",
     "text": [
      "홍길동\n",
      "33\n",
      "문길동\n",
      "33\n",
      "김길동\n",
      "33\n"
     ]
    }
   ],
   "source": [
    "for i in range(len(e_class)) :         \n",
    "    print(getattr(e_class[i],\"name\"))\n",
    "    print(getattr(e_class[i],\"age\"))"
   ]
  },
  {
   "cell_type": "code",
   "execution_count": 11,
   "metadata": {
    "collapsed": true
   },
   "outputs": [],
   "source": [
    "delattr(e_class[0],\"name\")"
   ]
  },
  {
   "cell_type": "code",
   "execution_count": 12,
   "metadata": {
    "collapsed": false
   },
   "outputs": [
    {
     "name": "stdout",
     "output_type": "stream",
     "text": [
      "dict_items([('age', 33)])\n"
     ]
    }
   ],
   "source": [
    "import pprint\n",
    "\n",
    "pprint.pprint(e_class[0].__dict__.items())"
   ]
  },
  {
   "cell_type": "code",
   "execution_count": 13,
   "metadata": {
    "collapsed": false
   },
   "outputs": [
    {
     "ename": "AttributeError",
     "evalue": "'Empty' object has no attribute 'name'",
     "output_type": "error",
     "traceback": [
      "\u001b[0;31m---------------------------------------------------------------------------\u001b[0m",
      "\u001b[0;31mAttributeError\u001b[0m                            Traceback (most recent call last)",
      "\u001b[0;32m<ipython-input-13-bcc666cd134c>\u001b[0m in \u001b[0;36m<module>\u001b[0;34m()\u001b[0m\n\u001b[1;32m      1\u001b[0m \u001b[1;32mfor\u001b[0m \u001b[0mi\u001b[0m \u001b[1;32min\u001b[0m \u001b[0mrange\u001b[0m\u001b[1;33m(\u001b[0m\u001b[0mlen\u001b[0m\u001b[1;33m(\u001b[0m\u001b[0me_class\u001b[0m\u001b[1;33m)\u001b[0m\u001b[1;33m)\u001b[0m \u001b[1;33m:\u001b[0m\u001b[1;33m\u001b[0m\u001b[0m\n\u001b[0;32m----> 2\u001b[0;31m     \u001b[0mprint\u001b[0m\u001b[1;33m(\u001b[0m\u001b[0mgetattr\u001b[0m\u001b[1;33m(\u001b[0m\u001b[0me_class\u001b[0m\u001b[1;33m[\u001b[0m\u001b[0mi\u001b[0m\u001b[1;33m]\u001b[0m\u001b[1;33m,\u001b[0m\u001b[1;34m\"name\"\u001b[0m\u001b[1;33m)\u001b[0m\u001b[1;33m)\u001b[0m\u001b[1;33m\u001b[0m\u001b[0m\n\u001b[0m\u001b[1;32m      3\u001b[0m     \u001b[0mprint\u001b[0m\u001b[1;33m(\u001b[0m\u001b[0mgetattr\u001b[0m\u001b[1;33m(\u001b[0m\u001b[0me_class\u001b[0m\u001b[1;33m[\u001b[0m\u001b[0mi\u001b[0m\u001b[1;33m]\u001b[0m\u001b[1;33m,\u001b[0m\u001b[1;34m\"age\"\u001b[0m\u001b[1;33m)\u001b[0m\u001b[1;33m)\u001b[0m\u001b[1;33m\u001b[0m\u001b[0m\n",
      "\u001b[0;31mAttributeError\u001b[0m: 'Empty' object has no attribute 'name'"
     ]
    }
   ],
   "source": [
    "for i in range(len(e_class)) :         \n",
    "    print(getattr(e_class[i],\"name\"))\n",
    "    print(getattr(e_class[i],\"age\"))"
   ]
  },
  {
   "cell_type": "code",
   "execution_count": null,
   "metadata": {
    "collapsed": true
   },
   "outputs": [],
   "source": []
  }
 ],
 "metadata": {
  "kernelspec": {
   "display_name": "Python 3",
   "language": "python",
   "name": "python3"
  },
  "language_info": {
   "codemirror_mode": {
    "name": "ipython",
    "version": 3
   },
   "file_extension": ".py",
   "mimetype": "text/x-python",
   "name": "python",
   "nbconvert_exporter": "python",
   "pygments_lexer": "ipython3",
   "version": "3.6.0"
  }
 },
 "nbformat": 4,
 "nbformat_minor": 2
}
