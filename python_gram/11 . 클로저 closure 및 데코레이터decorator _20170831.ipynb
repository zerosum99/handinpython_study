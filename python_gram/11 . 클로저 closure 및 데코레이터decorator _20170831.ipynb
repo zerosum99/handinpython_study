{
 "cells": [
  {
   "cell_type": "markdown",
   "metadata": {},
   "source": [
    "## 예제 11-1 : 함수 체인 \n"
   ]
  },
  {
   "cell_type": "code",
   "execution_count": 3,
   "metadata": {
    "collapsed": true
   },
   "outputs": [],
   "source": [
    "def func1(x) :\n",
    "    print(\"fun1 call\")\n",
    "    return f[x]\n",
    "\n",
    "def func2(x) :\n",
    "    print(\"fun2 call\")\n",
    "    return f[x]\n",
    "\n",
    "def func3() :\n",
    "    print(\"fun3 call\")\n",
    "    return \" exit \""
   ]
  },
  {
   "cell_type": "code",
   "execution_count": 4,
   "metadata": {
    "collapsed": true
   },
   "outputs": [],
   "source": [
    "f = {1 :func1, 2: func2, \"exit\":func3}"
   ]
  },
  {
   "cell_type": "code",
   "execution_count": 5,
   "metadata": {},
   "outputs": [
    {
     "name": "stdout",
     "output_type": "stream",
     "text": [
      "fun1 call\n",
      "fun2 call\n",
      "fun3 call\n",
      " exit \n"
     ]
    }
   ],
   "source": [
    "print(func1(2)(\"exit\")())"
   ]
  },
  {
   "cell_type": "code",
   "execution_count": 5,
   "metadata": {},
   "outputs": [
    {
     "name": "stdout",
     "output_type": "stream",
     "text": [
      "6\n"
     ]
    }
   ],
   "source": [
    "a = (lambda x : (lambda x : (lambda x : x+1)(x))(x))\n",
    "print(a(5))"
   ]
  },
  {
   "cell_type": "code",
   "execution_count": 11,
   "metadata": {},
   "outputs": [
    {
     "name": "stdout",
     "output_type": "stream",
     "text": [
      "fun1 call\n",
      "fun2 call\n",
      "fun3 call\n",
      " exit \n"
     ]
    }
   ],
   "source": [
    "a = lambda x : func1(x)\n",
    "\n",
    "print(a(2)(\"exit\")())\n",
    "    "
   ]
  },
  {
   "cell_type": "markdown",
   "metadata": {},
   "source": [
    "## 예제 11-2 : 클로저 환경 및 속성 확인하기 \n"
   ]
  },
  {
   "cell_type": "code",
   "execution_count": 6,
   "metadata": {
    "collapsed": true
   },
   "outputs": [],
   "source": [
    "def outer(x) :\n",
    "    def inner(y) :\n",
    "        return x+y\n",
    "    return inner"
   ]
  },
  {
   "cell_type": "code",
   "execution_count": 7,
   "metadata": {},
   "outputs": [
    {
     "name": "stdout",
     "output_type": "stream",
     "text": [
      "<function outer.<locals>.inner at 0x0000000005180EA0>\n",
      "inner\n",
      "(<cell at 0x0000000005131E58: int object at 0x00000000626BBA50>,)\n",
      "('x',)\n"
     ]
    }
   ],
   "source": [
    "inner = outer(5)\n",
    "\n",
    "print(inner)\n",
    "print(inner.__name__)\n",
    "print(inner.__closure__)\n",
    "print(inner.__code__.co_freevars)"
   ]
  },
  {
   "cell_type": "code",
   "execution_count": 8,
   "metadata": {},
   "outputs": [
    {
     "name": "stdout",
     "output_type": "stream",
     "text": [
      "<cell at 0x0000000005131E58: int object at 0x00000000626BBA50>\n",
      "<class 'cell'>\n"
     ]
    }
   ],
   "source": [
    "print(inner.__closure__[0])\n",
    "print(type(inner.__closure__[0]))"
   ]
  },
  {
   "cell_type": "code",
   "execution_count": 9,
   "metadata": {},
   "outputs": [
    {
     "name": "stdout",
     "output_type": "stream",
     "text": [
      "cell_contents\n"
     ]
    }
   ],
   "source": [
    "for i in dir(inner.__closure__[0]) :\n",
    "    if not i.startswith(\"__\") :\n",
    "        print(i)"
   ]
  },
  {
   "cell_type": "code",
   "execution_count": 24,
   "metadata": {},
   "outputs": [
    {
     "name": "stdout",
     "output_type": "stream",
     "text": [
      "5\n"
     ]
    }
   ],
   "source": [
    "print(inner.__closure__[0].cell_contents)"
   ]
  },
  {
   "cell_type": "code",
   "execution_count": 25,
   "metadata": {},
   "outputs": [
    {
     "name": "stdout",
     "output_type": "stream",
     "text": [
      "15\n"
     ]
    }
   ],
   "source": [
    "print(inner(10))"
   ]
  },
  {
   "cell_type": "code",
   "execution_count": 10,
   "metadata": {},
   "outputs": [],
   "source": [
    "cf = lambda x : (lambda y : x+y )\n"
   ]
  },
  {
   "cell_type": "code",
   "execution_count": 11,
   "metadata": {},
   "outputs": [
    {
     "name": "stdout",
     "output_type": "stream",
     "text": [
      "(<cell at 0x0000000005131B28: int object at 0x00000000626BBA50>,)\n",
      "5\n"
     ]
    }
   ],
   "source": [
    "b = cf(5)\n",
    "\n",
    "print(b.__closure__)\n",
    "print(b.__closure__[0].cell_contents)"
   ]
  },
  {
   "cell_type": "code",
   "execution_count": 12,
   "metadata": {},
   "outputs": [
    {
     "data": {
      "text/plain": [
       "15"
      ]
     },
     "execution_count": 12,
     "metadata": {},
     "output_type": "execute_result"
    }
   ],
   "source": [
    "b(10)"
   ]
  },
  {
   "cell_type": "markdown",
   "metadata": {},
   "source": [
    "## 예제 11-3  :  클로저를 이용한 커링(currying)처리"
   ]
  },
  {
   "cell_type": "code",
   "execution_count": 33,
   "metadata": {
    "collapsed": true
   },
   "outputs": [],
   "source": [
    "import operator as op\n",
    "\n",
    "op = {\"//\":op.floordiv,\"%\":op.mod}\n",
    "\n",
    "def outer(x) :\n",
    "    def inner(y) :\n",
    "        return op[\"//\"](x,y), op[\"%\"](x,y)\n",
    "    return inner\n"
   ]
  },
  {
   "cell_type": "code",
   "execution_count": 34,
   "metadata": {},
   "outputs": [
    {
     "name": "stdout",
     "output_type": "stream",
     "text": [
      "(24, 3)\n"
     ]
    }
   ],
   "source": [
    "inner = outer(123)\n",
    "print(inner(5))"
   ]
  },
  {
   "cell_type": "code",
   "execution_count": 36,
   "metadata": {
    "collapsed": true
   },
   "outputs": [],
   "source": [
    "def outer(op) :\n",
    "    def inner(x,y) :\n",
    "         return op[\"//\"](x,y), op[\"%\"](x,y)\n",
    "    return inner"
   ]
  },
  {
   "cell_type": "code",
   "execution_count": 37,
   "metadata": {},
   "outputs": [
    {
     "name": "stdout",
     "output_type": "stream",
     "text": [
      "(24, 3)\n"
     ]
    }
   ],
   "source": [
    "inner = outer(op)\n",
    "print(inner(123,5))"
   ]
  },
  {
   "cell_type": "markdown",
   "metadata": {},
   "source": [
    "## 예제 11-4 :  내장 모듈을 이용한 커링 \n"
   ]
  },
  {
   "cell_type": "code",
   "execution_count": 14,
   "metadata": {},
   "outputs": [
    {
     "name": "stdout",
     "output_type": "stream",
     "text": [
      "<class 'functools.partial'>\n"
     ]
    }
   ],
   "source": [
    "import functools as ft\n",
    "\n",
    "print(ft.partial)"
   ]
  },
  {
   "cell_type": "code",
   "execution_count": 15,
   "metadata": {},
   "outputs": [
    {
     "name": "stdout",
     "output_type": "stream",
     "text": [
      "functools.partial(<built-in function add>, 5)\n"
     ]
    }
   ],
   "source": [
    "import operator as op\n",
    "\n",
    "s = ft.partial(op.add,5)\n",
    "\n",
    "print(s)"
   ]
  },
  {
   "cell_type": "code",
   "execution_count": 16,
   "metadata": {},
   "outputs": [
    {
     "name": "stdout",
     "output_type": "stream",
     "text": [
      "args\n",
      "func\n",
      "keywords\n"
     ]
    }
   ],
   "source": [
    "for i in dir(s) :\n",
    "    if not i.startswith(\"__\") :\n",
    "        print(i)"
   ]
  },
  {
   "cell_type": "code",
   "execution_count": 17,
   "metadata": {},
   "outputs": [
    {
     "name": "stdout",
     "output_type": "stream",
     "text": [
      "(5,)\n",
      "<built-in function add>\n",
      "{}\n"
     ]
    }
   ],
   "source": [
    "print(s.args)\n",
    "print(s.func)\n",
    "print(s.keywords)"
   ]
  },
  {
   "cell_type": "code",
   "execution_count": 18,
   "metadata": {},
   "outputs": [
    {
     "name": "stdout",
     "output_type": "stream",
     "text": [
      "15\n",
      "15\n"
     ]
    }
   ],
   "source": [
    "print(s(10))\n",
    "print(s.func(s.args[0],10))"
   ]
  },
  {
   "cell_type": "code",
   "execution_count": 19,
   "metadata": {},
   "outputs": [
    {
     "name": "stdout",
     "output_type": "stream",
     "text": [
      "(1,)\n",
      "{'z': 100}\n"
     ]
    }
   ],
   "source": [
    "import functools as ft \n",
    "\n",
    "def addx(x,y,z) :\n",
    "    return x+y+z\n",
    "\n",
    "s = ft.partial(addx,1,z=100)\n",
    "\n",
    "print(s.args)\n",
    "print(s.keywords)"
   ]
  },
  {
   "cell_type": "code",
   "execution_count": 20,
   "metadata": {},
   "outputs": [
    {
     "name": "stdout",
     "output_type": "stream",
     "text": [
      "121\n"
     ]
    }
   ],
   "source": [
    "print(s(20))\n"
   ]
  },
  {
   "cell_type": "code",
   "execution_count": 22,
   "metadata": {},
   "outputs": [
    {
     "ename": "TypeError",
     "evalue": "addx() got multiple values for argument 'x'",
     "output_type": "error",
     "traceback": [
      "\u001b[0;31m---------------------------------------------------------------------------\u001b[0m",
      "\u001b[0;31mTypeError\u001b[0m                                 Traceback (most recent call last)",
      "\u001b[0;32m<ipython-input-22-4a4101dbea81>\u001b[0m in \u001b[0;36m<module>\u001b[0;34m()\u001b[0m\n\u001b[0;32m----> 1\u001b[0;31m \u001b[0mprint\u001b[0m\u001b[1;33m(\u001b[0m\u001b[0ms\u001b[0m\u001b[1;33m(\u001b[0m\u001b[0mx\u001b[0m\u001b[1;33m=\u001b[0m\u001b[1;36m10\u001b[0m\u001b[1;33m)\u001b[0m\u001b[1;33m)\u001b[0m\u001b[1;33m\u001b[0m\u001b[0m\n\u001b[0m",
      "\u001b[0;31mTypeError\u001b[0m: addx() got multiple values for argument 'x'"
     ]
    }
   ],
   "source": [
    "print(s(x=10))"
   ]
  },
  {
   "cell_type": "markdown",
   "metadata": {},
   "source": [
    "## 예제 11-5 :  가변인자를 활용한 커링\n"
   ]
  },
  {
   "cell_type": "code",
   "execution_count": 23,
   "metadata": {
    "collapsed": true
   },
   "outputs": [],
   "source": [
    "import functools as ft \n",
    "\n",
    "def addx(x,y,*,z,**kwargs) :\n",
    "    result = x+y+z\n",
    "    for v in kwargs.values() :\n",
    "        result = result + v\n",
    "    return result\n"
   ]
  },
  {
   "cell_type": "code",
   "execution_count": 24,
   "metadata": {
    "collapsed": true
   },
   "outputs": [],
   "source": [
    "s = ft.partial(addx,1,1,z=10)"
   ]
  },
  {
   "cell_type": "code",
   "execution_count": 25,
   "metadata": {},
   "outputs": [
    {
     "name": "stdout",
     "output_type": "stream",
     "text": [
      "22\n",
      "(1, 1) {'z': 10}\n",
      "112\n",
      "(1, 1) {'z': 10}\n"
     ]
    }
   ],
   "source": [
    "print(s(k=10))\n",
    "print(s.args, s.keywords)\n",
    "\n",
    "print(s(a =100))\n",
    "print(s.args, s.keywords)"
   ]
  },
  {
   "cell_type": "code",
   "execution_count": 67,
   "metadata": {
    "collapsed": true
   },
   "outputs": [],
   "source": [
    "import functools as ft \n",
    "\n",
    "ss = ft.partial(sum)"
   ]
  },
  {
   "cell_type": "code",
   "execution_count": 66,
   "metadata": {},
   "outputs": [
    {
     "name": "stdout",
     "output_type": "stream",
     "text": [
      "6\n",
      "() {}\n",
      "21\n",
      "() {}\n"
     ]
    }
   ],
   "source": [
    "print(ss([1,2,3]))\n",
    "print(ss.args, ss.keywords)\n",
    "print(ss([1,2,3,4,5,6]))\n",
    "print(ss.args, ss.keywords)"
   ]
  },
  {
   "cell_type": "markdown",
   "metadata": {},
   "source": [
    "## 예제 11-6 :  functools.partialmethod를 이용한 메소드 커링처리\n"
   ]
  },
  {
   "cell_type": "code",
   "execution_count": 68,
   "metadata": {
    "collapsed": true
   },
   "outputs": [],
   "source": [
    "import functools as ft \n",
    "\n",
    "class A :\n",
    "    @ft.partialmethod\n",
    "    def add(self,x,y) :\n",
    "        return x+y\n",
    "    "
   ]
  },
  {
   "cell_type": "code",
   "execution_count": 72,
   "metadata": {},
   "outputs": [
    {
     "name": "stdout",
     "output_type": "stream",
     "text": [
      "functools.partial(<bound method A.add of <__main__.A object at 0x00000000050005F8>>)\n",
      "()\n",
      "<bound method A.add of <__main__.A object at 0x00000000050005F8>>\n",
      "{}\n"
     ]
    }
   ],
   "source": [
    "a = A()\n",
    "\n",
    "print(a.add)\n",
    "print(a.add.args)\n",
    "print(a.add.func)\n",
    "print(a.add.keywords)"
   ]
  },
  {
   "cell_type": "code",
   "execution_count": 76,
   "metadata": {},
   "outputs": [
    {
     "name": "stdout",
     "output_type": "stream",
     "text": [
      "10\n"
     ]
    }
   ],
   "source": [
    "print(a.add(5,5))"
   ]
  },
  {
   "cell_type": "code",
   "execution_count": 98,
   "metadata": {
    "collapsed": true
   },
   "outputs": [],
   "source": [
    "import functools as ft \n",
    "\n",
    "class A :\n",
    "    @ft.partialmethod\n",
    "    def add(self,x) :\n",
    "        def inner(y) :\n",
    "            return x+y\n",
    "        return inner\n"
   ]
  },
  {
   "cell_type": "code",
   "execution_count": 106,
   "metadata": {},
   "outputs": [
    {
     "name": "stdout",
     "output_type": "stream",
     "text": [
      "<__main__.A object at 0x000000000503B278>\n",
      "functools.partial(<bound method A.add of <__main__.A object at 0x000000000503B278>>)\n",
      "()\n"
     ]
    }
   ],
   "source": [
    "a = A()\n",
    "print(a)\n",
    "\n",
    "print(a.add)\n",
    "print(a.add.args)"
   ]
  },
  {
   "cell_type": "code",
   "execution_count": 108,
   "metadata": {},
   "outputs": [
    {
     "name": "stdout",
     "output_type": "stream",
     "text": [
      "<function A.add.<locals>.inner at 0x00000000050336A8>\n",
      "10\n"
     ]
    }
   ],
   "source": [
    "add = a.add(5)\n",
    "print(add)\n",
    "print(add(5))"
   ]
  },
  {
   "cell_type": "markdown",
   "metadata": {},
   "source": [
    "## 예제 11-7 :  사용자 클래스로 부분함수 만들기"
   ]
  },
  {
   "cell_type": "code",
   "execution_count": 31,
   "metadata": {
    "collapsed": true
   },
   "outputs": [],
   "source": [
    "class part :\n",
    "    def __init__(self,func,*args) :\n",
    "        self.func = func\n",
    "        self.args = []\n",
    "        if len(args) :\n",
    "            for i in args :\n",
    "                self.args.append(i)       \n",
    "        \n",
    "    def __call__(self,*args) : \n",
    "        if len(args) :\n",
    "            for i in args :\n",
    "                self.args.append(i)\n",
    "        if self.func.__code__.co_argcount == 1 :\n",
    "            return self.func(self.args)\n",
    "        else :           \n",
    "            return self.func(*self.args)\n",
    "        "
   ]
  },
  {
   "cell_type": "code",
   "execution_count": 32,
   "metadata": {},
   "outputs": [
    {
     "name": "stdout",
     "output_type": "stream",
     "text": [
      "[5]\n"
     ]
    }
   ],
   "source": [
    "def add(x,y) :\n",
    "    return x+y\n",
    "\n",
    "a = part(add,5)\n",
    "print(a.args)"
   ]
  },
  {
   "cell_type": "code",
   "execution_count": 33,
   "metadata": {},
   "outputs": [
    {
     "name": "stdout",
     "output_type": "stream",
     "text": [
      "10\n"
     ]
    }
   ],
   "source": [
    "print(a(5))"
   ]
  },
  {
   "cell_type": "code",
   "execution_count": 34,
   "metadata": {},
   "outputs": [
    {
     "name": "stdout",
     "output_type": "stream",
     "text": [
      "[]\n"
     ]
    }
   ],
   "source": [
    "def list_sum(l) :\n",
    "    return sum(l)\n",
    "\n",
    "s = part(list_sum)\n",
    "print(s.args)"
   ]
  },
  {
   "cell_type": "code",
   "execution_count": 35,
   "metadata": {},
   "outputs": [
    {
     "name": "stdout",
     "output_type": "stream",
     "text": [
      "15\n"
     ]
    }
   ],
   "source": [
    "print(s(1,2,3,4,5))"
   ]
  },
  {
   "cell_type": "markdown",
   "metadata": {},
   "source": [
    "## 예제 11-8  : 함수의 객체 영역 이용하기"
   ]
  },
  {
   "cell_type": "code",
   "execution_count": 16,
   "metadata": {
    "collapsed": true
   },
   "outputs": [],
   "source": [
    "def fib(n) :\n",
    "    if (n == 0) or (n== 1) :\n",
    "        return 1\n",
    "    return fib(n-1) + fib(n-2)\n"
   ]
  },
  {
   "cell_type": "code",
   "execution_count": 17,
   "metadata": {
    "collapsed": true
   },
   "outputs": [],
   "source": [
    "a = fib(5)"
   ]
  },
  {
   "cell_type": "code",
   "execution_count": 18,
   "metadata": {},
   "outputs": [
    {
     "name": "stdout",
     "output_type": "stream",
     "text": [
      "8\n"
     ]
    }
   ],
   "source": [
    "print(a)"
   ]
  },
  {
   "cell_type": "code",
   "execution_count": 19,
   "metadata": {
    "collapsed": true
   },
   "outputs": [],
   "source": [
    "def memoize(func) :\n",
    "    memoize.cache = {} \n",
    "    def g(x) :\n",
    "        if x not in memoize.cache :\n",
    "            memoize.cache[x] = func(x)\n",
    "        return memoize.cache[x]\n",
    "    return g\n"
   ]
  },
  {
   "cell_type": "code",
   "execution_count": 20,
   "metadata": {
    "collapsed": true
   },
   "outputs": [],
   "source": [
    "a = memoize(fib)\n",
    "s = a(5)"
   ]
  },
  {
   "cell_type": "code",
   "execution_count": 21,
   "metadata": {},
   "outputs": [
    {
     "data": {
      "text/plain": [
       "{5: 8}"
      ]
     },
     "execution_count": 21,
     "metadata": {},
     "output_type": "execute_result"
    }
   ],
   "source": [
    "memoize.cache"
   ]
  },
  {
   "cell_type": "code",
   "execution_count": 22,
   "metadata": {},
   "outputs": [
    {
     "name": "stdout",
     "output_type": "stream",
     "text": [
      "1 1 2 3 5 8 13 21 34 55 89 144 233 377 610 "
     ]
    }
   ],
   "source": [
    "fib = memoize(fib)\n",
    "\n",
    "for i in range(15) :\n",
    "    print(fib(i),end= ' ')\n",
    "    "
   ]
  },
  {
   "cell_type": "code",
   "execution_count": 23,
   "metadata": {},
   "outputs": [
    {
     "name": "stdout",
     "output_type": "stream",
     "text": [
      "{0: 1,\n",
      " 1: 1,\n",
      " 2: 2,\n",
      " 3: 3,\n",
      " 4: 5,\n",
      " 5: 8,\n",
      " 6: 13,\n",
      " 7: 21,\n",
      " 8: 34,\n",
      " 9: 55,\n",
      " 10: 89,\n",
      " 11: 144,\n",
      " 12: 233,\n",
      " 13: 377,\n",
      " 14: 610}\n"
     ]
    }
   ],
   "source": [
    "import pprint\n",
    "\n",
    "pprint.pprint(memoize.cache)"
   ]
  },
  {
   "cell_type": "markdown",
   "metadata": {},
   "source": [
    "## 예제 11-9  : 메모이제이션을 functools.lru_cache 사용\n"
   ]
  },
  {
   "cell_type": "code",
   "execution_count": 36,
   "metadata": {},
   "outputs": [
    {
     "name": "stdout",
     "output_type": "stream",
     "text": [
      "<function lru_cache at 0x0000000002571158>\n"
     ]
    }
   ],
   "source": [
    "from functools import lru_cache\n",
    "\n",
    "print(lru_cache)"
   ]
  },
  {
   "cell_type": "code",
   "execution_count": 37,
   "metadata": {},
   "outputs": [
    {
     "name": "stdout",
     "output_type": "stream",
     "text": [
      "('maxsize', 'typed', 'decorating_function')\n"
     ]
    }
   ],
   "source": [
    "print(lru_cache.__code__.co_varnames)"
   ]
  },
  {
   "cell_type": "code",
   "execution_count": 38,
   "metadata": {
    "collapsed": true
   },
   "outputs": [],
   "source": [
    "from functools import lru_cache\n",
    "\n",
    "@lru_cache(maxsize=None)\n",
    "def fib(n) :\n",
    "    if n < 2 :\n",
    "        return 1\n",
    "    return fib(n-1) + fib(n-2)"
   ]
  },
  {
   "cell_type": "code",
   "execution_count": 42,
   "metadata": {},
   "outputs": [
    {
     "name": "stdout",
     "output_type": "stream",
     "text": [
      "<functools._lru_cache_wrapper object at 0x00000000052D80F0>\n"
     ]
    }
   ],
   "source": [
    "print(fib)"
   ]
  },
  {
   "cell_type": "code",
   "execution_count": 41,
   "metadata": {},
   "outputs": [
    {
     "name": "stdout",
     "output_type": "stream",
     "text": [
      "cache_clear\n",
      "cache_info\n"
     ]
    }
   ],
   "source": [
    "for i in dir(fib) :\n",
    "    if not i.startswith(\"_\") :\n",
    "        print(i)"
   ]
  },
  {
   "cell_type": "code",
   "execution_count": 31,
   "metadata": {},
   "outputs": [
    {
     "name": "stdout",
     "output_type": "stream",
     "text": [
      "[1, 1, 2, 3, 5, 8, 13, 21, 34, 55, 89, 144, 233, 377, 610]\n"
     ]
    }
   ],
   "source": [
    "print([fib(n) for n in range(15)])"
   ]
  },
  {
   "cell_type": "code",
   "execution_count": 33,
   "metadata": {},
   "outputs": [
    {
     "name": "stdout",
     "output_type": "stream",
     "text": [
      "CacheInfo(hits=26, misses=15, maxsize=None, currsize=15)\n",
      "CacheInfo(hits=0, misses=0, maxsize=None, currsize=0)\n"
     ]
    }
   ],
   "source": [
    "print(fib.cache_info())\n",
    "fib.cache_clear()\n",
    "print(fib.cache_info())"
   ]
  },
  {
   "cell_type": "code",
   "execution_count": 34,
   "metadata": {},
   "outputs": [
    {
     "name": "stdout",
     "output_type": "stream",
     "text": [
      "[1, 1, 2, 3, 5, 8, 13, 21, 34, 55, 89, 144, 233, 377, 610]\n"
     ]
    }
   ],
   "source": [
    "print([fib(n) for n in range(15)])"
   ]
  },
  {
   "cell_type": "code",
   "execution_count": 35,
   "metadata": {},
   "outputs": [
    {
     "name": "stdout",
     "output_type": "stream",
     "text": [
      "CacheInfo(hits=26, misses=15, maxsize=None, currsize=15)\n"
     ]
    }
   ],
   "source": [
    "print(fib.cache_info())"
   ]
  },
  {
   "cell_type": "markdown",
   "metadata": {},
   "source": [
    "## 예제 11-10  :  기본 데코레이터 처리  \n"
   ]
  },
  {
   "cell_type": "code",
   "execution_count": 40,
   "metadata": {},
   "outputs": [
    {
     "name": "stdout",
     "output_type": "stream",
     "text": [
      "10\n"
     ]
    }
   ],
   "source": [
    "def decorator(func) :\n",
    "    return func\n",
    "\n",
    "@decorator\n",
    "def add(x,y) :\n",
    "    return x+y\n",
    "\n",
    "print(add(5,5))"
   ]
  },
  {
   "cell_type": "code",
   "execution_count": 43,
   "metadata": {},
   "outputs": [
    {
     "name": "stdout",
     "output_type": "stream",
     "text": [
      "10\n"
     ]
    }
   ],
   "source": [
    "def decorator(func) :\n",
    "    return func\n",
    "\n",
    "def add(x,y) :\n",
    "    return x+y\n",
    "\n",
    "add = decorator(add)\n",
    "print(add(5,5))"
   ]
  },
  {
   "cell_type": "code",
   "execution_count": 16,
   "metadata": {
    "collapsed": true
   },
   "outputs": [],
   "source": [
    "lambda_deco = lambda func : func\n",
    "    \n",
    "@lambda_deco\n",
    "def add(x,y) :\n",
    "    return x+y"
   ]
  },
  {
   "cell_type": "code",
   "execution_count": 17,
   "metadata": {},
   "outputs": [
    {
     "name": "stdout",
     "output_type": "stream",
     "text": [
      "add\n",
      "10\n"
     ]
    }
   ],
   "source": [
    "print(add.__name__)\n",
    "print(add(5,5))"
   ]
  },
  {
   "cell_type": "markdown",
   "metadata": {},
   "source": [
    "## 예제 11-11  : 데코레이터 처리하는 내부함수 정의하기\n"
   ]
  },
  {
   "cell_type": "code",
   "execution_count": 43,
   "metadata": {},
   "outputs": [],
   "source": [
    "def decorator(func) :\n",
    "    def wrapper(*args,**kwargs) :\n",
    "        \"\"\" wrapper call \"\"\"\n",
    "        return func(*args,**kwargs)\n",
    "    return wrapper\n"
   ]
  },
  {
   "cell_type": "code",
   "execution_count": 44,
   "metadata": {},
   "outputs": [
    {
     "name": "stdout",
     "output_type": "stream",
     "text": [
      "56\n"
     ]
    }
   ],
   "source": [
    "@decorator\n",
    "def add(x,y) :\n",
    "    \"\"\" add call \"\"\"\n",
    "    return x+y\n",
    "\n",
    "print(add(5,51))"
   ]
  },
  {
   "cell_type": "code",
   "execution_count": 61,
   "metadata": {
    "collapsed": true
   },
   "outputs": [],
   "source": [
    "for i in add.__dict__ :\n",
    "    print(i)"
   ]
  },
  {
   "cell_type": "code",
   "execution_count": 45,
   "metadata": {},
   "outputs": [
    {
     "name": "stdout",
     "output_type": "stream",
     "text": [
      "wrapper\n",
      "decorator.<locals>.wrapper\n",
      " wrapper call \n"
     ]
    }
   ],
   "source": [
    "print(add.__name__)\n",
    "print(add.__qualname__)\n",
    "print(add.__doc__)\n"
   ]
  },
  {
   "cell_type": "code",
   "execution_count": 46,
   "metadata": {
    "collapsed": true
   },
   "outputs": [],
   "source": [
    "lambda_deco = lambda func : (lambda *args : func(*args))\n",
    "    \n",
    "@lambda_deco\n",
    "def add(x,y) :\n",
    "    return x+y"
   ]
  },
  {
   "cell_type": "code",
   "execution_count": 47,
   "metadata": {},
   "outputs": [
    {
     "name": "stdout",
     "output_type": "stream",
     "text": [
      "<lambda>\n",
      "10\n"
     ]
    }
   ],
   "source": [
    "print(add.__name__)\n",
    "print(add(5,5))\n"
   ]
  },
  {
   "cell_type": "markdown",
   "metadata": {},
   "source": [
    "## 예제 11-12  :  실행함수의 함수 정보를 유지하기\n"
   ]
  },
  {
   "cell_type": "code",
   "execution_count": 48,
   "metadata": {},
   "outputs": [],
   "source": [
    "from functools import wraps\n",
    "\n",
    "def decorator(func) :\n",
    "    \n",
    "    @wraps(func)\n",
    "    def wrapper(*args,**kwargs) :\n",
    "        \"\"\" wrapper call \"\"\"\n",
    "        return func(*args,**kwargs)\n",
    "    return wrapper\n"
   ]
  },
  {
   "cell_type": "code",
   "execution_count": 49,
   "metadata": {},
   "outputs": [
    {
     "name": "stdout",
     "output_type": "stream",
     "text": [
      "56\n"
     ]
    }
   ],
   "source": [
    "@decorator\n",
    "def add(x,y) :\n",
    "    \"\"\" add call \"\"\"\n",
    "    return x+y\n",
    "\n",
    "print(add(5,51))"
   ]
  },
  {
   "cell_type": "code",
   "execution_count": 50,
   "metadata": {},
   "outputs": [
    {
     "name": "stdout",
     "output_type": "stream",
     "text": [
      "__wrapped__\n"
     ]
    }
   ],
   "source": [
    "for i in add.__dict__ :\n",
    "    print(i)"
   ]
  },
  {
   "cell_type": "code",
   "execution_count": 51,
   "metadata": {},
   "outputs": [
    {
     "name": "stdout",
     "output_type": "stream",
     "text": [
      "add\n",
      "add\n",
      " add call \n",
      "<function add at 0x00000000052B0A60>\n"
     ]
    }
   ],
   "source": [
    "print(add.__name__)\n",
    "print(add.__qualname__)\n",
    "print(add.__doc__)\n",
    "print(add.__wrapped__)"
   ]
  },
  {
   "cell_type": "code",
   "execution_count": 52,
   "metadata": {},
   "outputs": [
    {
     "name": "stdout",
     "output_type": "stream",
     "text": [
      "add\n"
     ]
    }
   ],
   "source": [
    "print(add.__wrapped__.__name__)"
   ]
  },
  {
   "cell_type": "code",
   "execution_count": 53,
   "metadata": {},
   "outputs": [
    {
     "name": "stdout",
     "output_type": "stream",
     "text": [
      "56\n"
     ]
    }
   ],
   "source": [
    "print(add.__wrapped__(5,51))"
   ]
  },
  {
   "cell_type": "markdown",
   "metadata": {},
   "source": [
    "## 예제 11-13  : 공통 함수를 내부 함수에 추가 \n"
   ]
  },
  {
   "cell_type": "code",
   "execution_count": 6,
   "metadata": {
    "collapsed": true
   },
   "outputs": [],
   "source": [
    "import collections.abc as cols\n",
    "\n",
    "\n",
    "def typecheck(args,kwargs) :\n",
    "    print(\"{:-^40s}\".format(\" wrapper \"))\n",
    "    if isinstance(args, cols.Sequence) :\n",
    "        print(\" args type \", \"tuple\")\n",
    "        \n",
    "    if isinstance(kwargs, cols.Mapping) :\n",
    "        print(\" kwargs type \", \"dict\")\n",
    "        \n",
    "    print(\"{:-^40s}\".format(\"\"))"
   ]
  },
  {
   "cell_type": "code",
   "execution_count": 7,
   "metadata": {
    "collapsed": true
   },
   "outputs": [],
   "source": [
    "from functools import wraps\n",
    "\n",
    "def dec_func(func) :\n",
    "    @wraps(func)\n",
    "    def wrapper1(*args, **kwargs) :\n",
    "        typecheck(args,kwargs)\n",
    "        return func(*args, **kwargs)  \n",
    "    return wrapper1"
   ]
  },
  {
   "cell_type": "code",
   "execution_count": 8,
   "metadata": {},
   "outputs": [
    {
     "name": "stdout",
     "output_type": "stream",
     "text": [
      "add\n",
      "doc add \n",
      "--------------- wrapper ----------------\n",
      " args type  tuple\n",
      " kwargs type  dict\n",
      "----------------------------------------\n",
      "10\n"
     ]
    }
   ],
   "source": [
    "@dec_func\n",
    "def add(x,y) :\n",
    "    \"doc add \"\n",
    "    return x+y\n",
    "\n",
    "print(add.__name__)\n",
    "print(add.__doc__)\n",
    "print(add(5,5))"
   ]
  },
  {
   "cell_type": "markdown",
   "metadata": {},
   "source": [
    "## 예제 11-14  :   테코레이터 함수에 매개변수 정의하기\n"
   ]
  },
  {
   "cell_type": "code",
   "execution_count": 76,
   "metadata": {
    "collapsed": true
   },
   "outputs": [],
   "source": [
    "from functools import wraps\n",
    "\n",
    "def out_para(x) :\n",
    "    print(x)\n",
    "    def dec_func(func) :\n",
    "        @wraps(func)\n",
    "        def wrapper(*args, **kwargs) :\n",
    "            return func(*args, **kwargs)\n",
    "        \n",
    "        return wrapper\n",
    "    return dec_func\n"
   ]
  },
  {
   "cell_type": "code",
   "execution_count": 77,
   "metadata": {},
   "outputs": [
    {
     "name": "stdout",
     "output_type": "stream",
     "text": [
      "decorator parameter\n",
      "10\n",
      "add\n"
     ]
    }
   ],
   "source": [
    "@out_para(\"decorator parameter\")\n",
    "def add(x,y) :\n",
    "    return x+y\n",
    "\n",
    "print(add(5,5))\n",
    "print(add.__name__)"
   ]
  },
  {
   "cell_type": "code",
   "execution_count": 79,
   "metadata": {},
   "outputs": [
    {
     "name": "stdout",
     "output_type": "stream",
     "text": [
      " first func \n",
      "10\n"
     ]
    }
   ],
   "source": [
    "dec_func = out_para(\" first func \")\n",
    "wrapper = dec_func(add)\n",
    "print(wrapper(5,5))"
   ]
  },
  {
   "cell_type": "markdown",
   "metadata": {},
   "source": [
    "## 예제 11-15  : 클래스에 함수 데코레이터 처리하기 "
   ]
  },
  {
   "cell_type": "code",
   "execution_count": 55,
   "metadata": {
    "collapsed": true
   },
   "outputs": [],
   "source": [
    "import pprint\n",
    "\n",
    "def decorator(cls) :\n",
    "    cls.a = \"insert attribute\"\n",
    "    return cls\n"
   ]
  },
  {
   "cell_type": "code",
   "execution_count": 56,
   "metadata": {},
   "outputs": [
    {
     "name": "stdout",
     "output_type": "stream",
     "text": [
      "insert attribute\n"
     ]
    }
   ],
   "source": [
    "@decorator\n",
    "class A :\n",
    "    pass\n",
    "\n",
    "print(A.a)\n"
   ]
  },
  {
   "cell_type": "code",
   "execution_count": 57,
   "metadata": {},
   "outputs": [
    {
     "name": "stdout",
     "output_type": "stream",
     "text": [
      "mappingproxy({'__dict__': <attribute '__dict__' of 'A' objects>,\n",
      "              '__doc__': None,\n",
      "              '__module__': '__main__',\n",
      "              '__weakref__': <attribute '__weakref__' of 'A' objects>,\n",
      "              'a': 'insert attribute'})\n"
     ]
    }
   ],
   "source": [
    "ai = A()\n",
    "pprint.pprint(A.__dict__)"
   ]
  },
  {
   "cell_type": "markdown",
   "metadata": {},
   "source": [
    "## 예제 11-16  : 클래스로 테코레이터 정의 "
   ]
  },
  {
   "cell_type": "code",
   "execution_count": 58,
   "metadata": {
    "collapsed": true
   },
   "outputs": [],
   "source": [
    "class Prop_dec(object):\n",
    "    \"Emulate PyProperty_Type() in Objects/descrobject.c\"\n",
    "    \n",
    "    def __init__(self, fget=None):\n",
    "        self.fget = fget\n",
    "        Prop_dec.add = self\n",
    "    \n",
    "    def __call__(self, obj, objtype=None):\n",
    "        return self.fget(obj)"
   ]
  },
  {
   "cell_type": "code",
   "execution_count": 59,
   "metadata": {},
   "outputs": [
    {
     "name": "stdout",
     "output_type": "stream",
     "text": [
      "mappingproxy({'__call__': <function Prop_dec.__call__ at 0x00000000052D4400>,\n",
      "              '__dict__': <attribute '__dict__' of 'Prop_dec' objects>,\n",
      "              '__doc__': 'Emulate PyProperty_Type() in Objects/descrobject.c',\n",
      "              '__init__': <function Prop_dec.__init__ at 0x00000000052D4F28>,\n",
      "              '__module__': '__main__',\n",
      "              '__weakref__': <attribute '__weakref__' of 'Prop_dec' objects>})\n"
     ]
    }
   ],
   "source": [
    "import pprint\n",
    "\n",
    "pprint.pprint(Prop_dec.__dict__)"
   ]
  },
  {
   "cell_type": "code",
   "execution_count": 60,
   "metadata": {
    "collapsed": true
   },
   "outputs": [],
   "source": [
    "@Prop_dec\n",
    "def add(x):\n",
    "    return x['x'], x['y']"
   ]
  },
  {
   "cell_type": "code",
   "execution_count": 61,
   "metadata": {},
   "outputs": [
    {
     "name": "stdout",
     "output_type": "stream",
     "text": [
      "<__main__.Prop_dec object at 0x00000000052BF588>\n",
      "{'fget': <function add at 0x00000000052B0AE8>}\n",
      "(5, 5)\n"
     ]
    }
   ],
   "source": [
    "print(add)\n",
    "print(add.__dict__)\n",
    "print(add({'x':5, 'y':5}))"
   ]
  },
  {
   "cell_type": "code",
   "execution_count": 62,
   "metadata": {},
   "outputs": [
    {
     "name": "stdout",
     "output_type": "stream",
     "text": [
      "{'fget': <__main__.Prop_dec object at 0x00000000052BF588>}\n",
      "(5, 5)\n"
     ]
    }
   ],
   "source": [
    "add = Prop_dec(add)\n",
    "print(add.__dict__)\n",
    "print(add({'x':5, 'y':5}))"
   ]
  },
  {
   "cell_type": "markdown",
   "metadata": {},
   "source": [
    "## 예제 11-17  :  클래스 메소드를 데코레이터 "
   ]
  },
  {
   "cell_type": "code",
   "execution_count": 42,
   "metadata": {
    "collapsed": true
   },
   "outputs": [],
   "source": [
    "class DECC :\n",
    "    @classmethod\n",
    "    def attr_check(cls, Base) :\n",
    "        print(\" DECC \")\n",
    "        Base.a = \"decc\"\n",
    "        return Base"
   ]
  },
  {
   "cell_type": "code",
   "execution_count": 43,
   "metadata": {},
   "outputs": [
    {
     "name": "stdout",
     "output_type": "stream",
     "text": [
      " DECC \n"
     ]
    }
   ],
   "source": [
    "@DECC.attr_check\n",
    "def add(x,y) :\n",
    "    return x+y"
   ]
  },
  {
   "cell_type": "code",
   "execution_count": 44,
   "metadata": {},
   "outputs": [
    {
     "name": "stdout",
     "output_type": "stream",
     "text": [
      "<function add at 0x0000000004C3AEA0>\n",
      "10\n",
      "decc\n"
     ]
    }
   ],
   "source": [
    "print(add)\n",
    "print(add(5,5))\n",
    "print(add.a)"
   ]
  },
  {
   "cell_type": "markdown",
   "metadata": {},
   "source": [
    "## 예제 11-18  : 인스턴스 메소드로 함수에 대한 데코레이터 처리\n"
   ]
  },
  {
   "cell_type": "code",
   "execution_count": 45,
   "metadata": {
    "collapsed": true
   },
   "outputs": [],
   "source": [
    "class DECD :\n",
    "            \n",
    "    def attr_check(self, Base) :\n",
    "        print(\" DECD \")\n",
    "        Base.a = \"decd\"\n",
    "        return Base\n"
   ]
  },
  {
   "cell_type": "code",
   "execution_count": 46,
   "metadata": {},
   "outputs": [
    {
     "name": "stdout",
     "output_type": "stream",
     "text": [
      " DECD \n"
     ]
    }
   ],
   "source": [
    "d = DECD()\n",
    "@d.attr_check\n",
    "def add(x,y) :\n",
    "    return x+y"
   ]
  },
  {
   "cell_type": "code",
   "execution_count": 47,
   "metadata": {},
   "outputs": [
    {
     "name": "stdout",
     "output_type": "stream",
     "text": [
      "<function add at 0x0000000004C3AE18>\n",
      "10\n",
      "decd\n"
     ]
    }
   ],
   "source": [
    "print(add)\n",
    "print(add(5,5))\n",
    "print(add.a)"
   ]
  },
  {
   "cell_type": "markdown",
   "metadata": {},
   "source": [
    "## 예제 11-19  : 데코레이터를 이용해서 type체크를 위한 작업\n"
   ]
  },
  {
   "cell_type": "code",
   "execution_count": 50,
   "metadata": {
    "collapsed": true
   },
   "outputs": [],
   "source": [
    "def interface(*attributes):\n",
    "    def decorator(Base):\n",
    "\n",
    "        def checker(Other):\n",
    "            return all(hasattr(Other, a) for a in attributes)\n",
    "\n",
    "        def __subclasshook__(cls, Other):\n",
    "            if checker(Other):\n",
    "                return True\n",
    "            return NotImplemented\n",
    "\n",
    "        def __instancecheck__(cls, Other):\n",
    "            return checker(Other)\n",
    "\n",
    "        Base.__subclasshook__ = classmethod(__subclasshook__)\n",
    "        Base.__instancecheck__ = classmethod(__instancecheck__)\n",
    "        return Base\n",
    "\n",
    "    return decorator"
   ]
  },
  {
   "cell_type": "code",
   "execution_count": 63,
   "metadata": {
    "collapsed": true
   },
   "outputs": [],
   "source": [
    "from abc import ABC\n",
    "@interface(\"x\", \"y\")\n",
    "class Foo(ABC):\n",
    "    \n",
    "    def x(self): return 5\n",
    "    def y(self): return 10\n"
   ]
  },
  {
   "cell_type": "code",
   "execution_count": 64,
   "metadata": {
    "collapsed": true
   },
   "outputs": [],
   "source": [
    "class Bar(object):\n",
    "    def x(self): return \"blah\"\n",
    "    def y(self): return \"blah\"\n",
    "\n",
    "class Baz(object):\n",
    "    def __init__(self):\n",
    "        self.x = \"blah\"\n",
    "        self.y = \"blah\"\n",
    "\n",
    "class attrdict(dict):\n",
    "    def __getattr__(self, attr):\n",
    "        return self[attr]\n",
    "    "
   ]
  },
  {
   "cell_type": "code",
   "execution_count": 67,
   "metadata": {},
   "outputs": [
    {
     "name": "stdout",
     "output_type": "stream",
     "text": [
      "True\n",
      "True\n",
      "False\n",
      "False\n"
     ]
    }
   ],
   "source": [
    "b = Bar()\n",
    "z = Baz()\n",
    "t = attrdict({\"x\":27.5, \"y\":37.5})\n",
    "\n",
    "print(isinstance(b, Foo))\n",
    "print(issubclass(Bar, Foo))\n",
    "print(isinstance(z, Foo))\n",
    "print(isinstance(t, Foo))"
   ]
  }
 ],
 "metadata": {
  "kernelspec": {
   "display_name": "Python 3",
   "language": "python",
   "name": "python3"
  },
  "language_info": {
   "codemirror_mode": {
    "name": "ipython",
    "version": 3
   },
   "file_extension": ".py",
   "mimetype": "text/x-python",
   "name": "python",
   "nbconvert_exporter": "python",
   "pygments_lexer": "ipython3",
   "version": "3.6.1"
  }
 },
 "nbformat": 4,
 "nbformat_minor": 2
}
